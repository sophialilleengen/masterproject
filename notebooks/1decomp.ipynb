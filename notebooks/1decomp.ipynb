{
 "cells": [
  {
   "cell_type": "code",
   "execution_count": 1,
   "metadata": {
    "collapsed": true
   },
   "outputs": [],
   "source": [
    "machine = 'mac'\n",
    "machine = 'magny'\n"
   ]
  },
  {
   "cell_type": "code",
   "execution_count": 2,
   "metadata": {
    "collapsed": true
   },
   "outputs": [],
   "source": [
    "import numpy as np\n",
    "import matplotlib\n",
    "from matplotlib import pyplot as plt\n",
    "from mpl_toolkits.axes_grid1 import make_axes_locatable\n",
    "from mpl_toolkits.mplot3d import Axes3D\n",
    "import copy\n",
    "\n",
    "from areposnap.gadget import gadget_readsnap\n",
    "from areposnap.gadget_subfind import load_subfind\n",
    "\n",
    "from auriga_basics import *\n",
    "%matplotlib inline"
   ]
  },
  {
   "cell_type": "code",
   "execution_count": 20,
   "metadata": {
    "collapsed": true
   },
   "outputs": [],
   "source": [
    "cmap = copy.copy(plt.cm.inferno)\n",
    "cmap.set_bad((0,0,0))  # Fill background with black"
   ]
  },
  {
   "cell_type": "code",
   "execution_count": 3,
   "metadata": {},
   "outputs": [
    {
     "name": "stdout",
     "output_type": "stream",
     "text": [
      "level   : 4\n",
      "halo    : 24\n",
      "snapnr  : 127\n",
      "basedir : /hits/universe/GigaGalaxy/level4_MHD/\n",
      "halodir : /hits/universe/GigaGalaxy/level4_MHD/halo_24/\n",
      "snappath: /hits/universe/GigaGalaxy/level4_MHD/halo_24/output/\n",
      "\n",
      "[ 34.42281723  33.16259384  37.29567337]\n",
      "Found 1783163 stars.\n",
      "Rotated pos.\n",
      "Rotated bfld.\n",
      "Rotated vel.\n",
      "\n",
      "galrad  : 0.02408556640148163\n",
      "redshift: 2.220446049250313e-16\n",
      "time    : 0.9999999999999998\n",
      "center  : [ 0.  0.  0.]\n",
      "\n"
     ]
    }
   ],
   "source": [
    "level = 4\n",
    "if machine == 'magny':\n",
    "    basedir = \"/hits/universe/GigaGalaxy/level4_MHD/\"\n",
    "elif machine == 'mac': \n",
    "    basedir = \"/Users/smilanov/Desktop/Auriga/level4/\"\n",
    "j = 0\n",
    "for halo_number in [24]:  # range(1, 31):\n",
    "    halodir = basedir+\"halo_{0}/\".format(halo_number)\n",
    "    snappath = halodir+\"output/\"\n",
    "    for snapnr in range(127,128,1):\n",
    "        print(\"level   : {0}\".format(level))\n",
    "        print(\"halo    : {0}\".format(halo_number))\n",
    "        print(\"snapnr  : {0}\".format(snapnr))\n",
    "        print(\"basedir : {0}\".format(basedir))\n",
    "        print(\"halodir : {0}\".format(halodir))\n",
    "        print(\"snappath: {0}\\n\".format(snappath))\n",
    "        s, sf = eat_snap_and_fof(level, halo_number, snapnr, snappath, loadonlytype=[0,1,2,3,4,5], \n",
    "            haloid=0, galradfac=0.1, verbose=True) \n",
    "\n",
    "        # Clean negative and zero values of gmet to avoid RuntimeErrors\n",
    "        # later on (e.g. dividing by zero)\n",
    "        s.data['gmet'] = np.maximum( s.data['gmet'], 1e-40 )\n",
    "     "
   ]
  },
  {
   "cell_type": "code",
   "execution_count": 10,
   "metadata": {
    "collapsed": true
   },
   "outputs": [],
   "source": [
    "istars, = np.where( (s.type == 4) & (s.halo == 0) & (s.r() > 0.) & (s.r() < s.galrad) )#& (s.r() > 0.) & (s.r() < Ngalrad*s.galrad) )\n",
    "(x, y, z), (vx, vy, vz), rxyz, rxy = get_cartesian_vectors(s, sf, istars)\n",
    "(R, phi, z), (vR, vphi, vz) = get_cylindrical_vectors(s, sf, istars)"
   ]
  },
  {
   "cell_type": "code",
   "execution_count": 5,
   "metadata": {
    "collapsed": true
   },
   "outputs": [],
   "source": [
    "y_vals = np.sqrt(vR**2 + vz**2)\n",
    "x_vals = vphi"
   ]
  },
  {
   "cell_type": "code",
   "execution_count": 16,
   "metadata": {
    "scrolled": false
   },
   "outputs": [
    {
     "ename": "NameError",
     "evalue": "name 'x_vals' is not defined",
     "output_type": "error",
     "traceback": [
      "\u001b[0;31m---------------------------------------------------------------------------\u001b[0m",
      "\u001b[0;31mNameError\u001b[0m                                 Traceback (most recent call last)",
      "\u001b[0;32m<ipython-input-16-10e67f0dd20b>\u001b[0m in \u001b[0;36m<module>\u001b[0;34m()\u001b[0m\n\u001b[1;32m      3\u001b[0m \u001b[0;34m\u001b[0m\u001b[0m\n\u001b[1;32m      4\u001b[0m \u001b[0mfig\u001b[0m\u001b[0;34m,\u001b[0m \u001b[0max\u001b[0m \u001b[0;34m=\u001b[0m \u001b[0mplt\u001b[0m\u001b[0;34m.\u001b[0m\u001b[0msubplots\u001b[0m\u001b[0;34m(\u001b[0m\u001b[0;36m1\u001b[0m\u001b[0;34m,\u001b[0m \u001b[0;36m1\u001b[0m\u001b[0;34m,\u001b[0m \u001b[0mfigsize\u001b[0m \u001b[0;34m=\u001b[0m \u001b[0;34m(\u001b[0m\u001b[0;36m8\u001b[0m\u001b[0;34m,\u001b[0m\u001b[0;36m6\u001b[0m\u001b[0;34m)\u001b[0m\u001b[0;34m)\u001b[0m\u001b[0;34m\u001b[0m\u001b[0m\n\u001b[0;32m----> 5\u001b[0;31m \u001b[0mh\u001b[0m \u001b[0;34m=\u001b[0m \u001b[0max\u001b[0m\u001b[0;34m.\u001b[0m\u001b[0mhist2d\u001b[0m\u001b[0;34m(\u001b[0m\u001b[0mx_vals\u001b[0m\u001b[0;34m,\u001b[0m \u001b[0my_vals\u001b[0m\u001b[0;34m,\u001b[0m \u001b[0mbins\u001b[0m \u001b[0;34m=\u001b[0m \u001b[0;36m401\u001b[0m\u001b[0;34m,\u001b[0m \u001b[0mnorm\u001b[0m\u001b[0;34m=\u001b[0m\u001b[0mmatplotlib\u001b[0m\u001b[0;34m.\u001b[0m\u001b[0mcolors\u001b[0m\u001b[0;34m.\u001b[0m\u001b[0mLogNorm\u001b[0m\u001b[0;34m(\u001b[0m\u001b[0;34m)\u001b[0m\u001b[0;34m,\u001b[0m \u001b[0mcmap\u001b[0m \u001b[0;34m=\u001b[0m \u001b[0mcmap\u001b[0m\u001b[0;34m)\u001b[0m\u001b[0;34m\u001b[0m\u001b[0m\n\u001b[0m\u001b[1;32m      6\u001b[0m \u001b[0max\u001b[0m\u001b[0;34m.\u001b[0m\u001b[0mset_xlabel\u001b[0m\u001b[0;34m(\u001b[0m\u001b[0;34m'$v_\\phi$'\u001b[0m\u001b[0;34m)\u001b[0m\u001b[0;34m\u001b[0m\u001b[0m\n\u001b[1;32m      7\u001b[0m \u001b[0max\u001b[0m\u001b[0;34m.\u001b[0m\u001b[0mset_ylabel\u001b[0m\u001b[0;34m(\u001b[0m\u001b[0;34m'$\\sqrt{v_R^2+v_z^2}$'\u001b[0m\u001b[0;34m)\u001b[0m\u001b[0;34m\u001b[0m\u001b[0m\n",
      "\u001b[0;31mNameError\u001b[0m: name 'x_vals' is not defined"
     ]
    },
    {
     "data": {
      "image/png": "[encoded data removed]",
      "text/plain": [
       "<matplotlib.figure.Figure at 0x2aaae7084748>"
      ]
     },
     "metadata": {},
     "output_type": "display_data"
    }
   ],
   "source": [
    "cmap = copy.copy(plt.cm.inferno)\n",
    "cmap.set_bad((0,0,0))  # Fill background with black\n",
    "\n",
    "fig, ax = plt.subplots(1, 1, figsize = (8,6))\n",
    "h = ax.hist2d(x_vals, y_vals, bins = 401, norm=matplotlib.colors.LogNorm(), cmap = cmap)\n",
    "ax.set_xlabel('$v_\\phi$')\n",
    "ax.set_ylabel('$\\sqrt{v_R^2+v_z^2}$')\n",
    "ax.set_title('Toomre diagram?!')"
   ]
  },
  {
   "cell_type": "code",
   "execution_count": 23,
   "metadata": {
    "collapsed": true
   },
   "outputs": [],
   "source": [
    "from areposnap.gadget import gadget_readenergy\n",
    "\n",
    "efile = gadget_readenergy('/hits/universe/GigaGalaxy/level4_MHD/halo_24/output/')\n"
   ]
  },
  {
   "cell_type": "code",
   "execution_count": 32,
   "metadata": {
    "scrolled": false
   },
   "outputs": [
    {
     "data": {
      "text/plain": [
       "(6, 100)"
      ]
     },
     "execution_count": 32,
     "metadata": {},
     "output_type": "execute_result"
    }
   ],
   "source": [
    "efile.etots.shape\n"
   ]
  },
  {
   "cell_type": "markdown",
   "metadata": {},
   "source": [
    "Try to distinguish stellar disc and bulge components by the use of the circularity parameter $\\epsilon = \\frac{L_z}{L_{z,max}(E)}$.\n",
    "\n",
    "$L_{z,max}(E)$ is the maximum angular momentum allowed for the orbital energy $E$. \n",
    "\n",
    "$\\rightarrow \\epsilon = 1$ is a prograde circular orbit in the disc plane. $\\epsilon = -1$ is a retrograde circular orbit in the disc plane. $\\epsilon \\sim 0$ is an orbit with a very low $z$-component of angular momentum which may be highly inclined to the disc spin axis and/or be highly eccentric.  \n",
    "\n",
    "Two methods two distinguish the components:\n",
    "1. Mirror negative $\\epsilon$ as bulge material, rest disc components.\n",
    "2. Assign $\\epsilon > 0.7$ to disc star particles.\n",
    "\n",
    "see Grand et al. 2017"
   ]
  },
  {
   "cell_type": "code",
   "execution_count": 22,
   "metadata": {
    "collapsed": true
   },
   "outputs": [],
   "source": [
    "# plot energy over Lz\n",
    "\n",
    "def momentum(m, vx, vy, vz):\n",
    "    px, py, pz = m*vx, m*vy, m*vz\n",
    "    return(px, py, pz)\n",
    "\n",
    "def ang_mom(x, y, z, vx, vy, vz, m):\n",
    "    px, py, pz = momentum(m, vx, vy, vz)\n",
    "    Lx = y * pz - z * py\n",
    "    Ly = z * px - x * pz\n",
    "    Lz = x * py - y * px\n",
    "    Jx = y * vz - z * vy\n",
    "    Jy = z * vx - x * vz\n",
    "    Jz = x * vy - y * vx    \n",
    "    return((Lx, Ly, Lz), (Jx, Jy, Jz))\n",
    "\n",
    "E = s.pot[istars] + 1./2. * s.mass[istars] * (vx**2 + vy**2)\n",
    "E_wom\n",
    "(Lx, Ly, Lz), (Jx, Jy, Jz) = ang_mom(x,y,z,vx,vy,vz,s.mass[istars])\n"
   ]
  },
  {
   "cell_type": "code",
   "execution_count": 29,
   "metadata": {},
   "outputs": [
    {
     "data": {
      "text/plain": [
       "Text(0.5,0,'E')"
      ]
     },
     "execution_count": 29,
     "metadata": {},
     "output_type": "execute_result"
    },
    {
     "data": {
      "image/png": "[encoded data removed]",
      "text/plain": [
       "<matplotlib.figure.Figure at 0x2aac9bd8d630>"
      ]
     },
     "metadata": {},
     "output_type": "display_data"
    }
   ],
   "source": [
    "fig, ax = plt.subplots(1, 1, figsize=(8,6))\n",
    "H = ax.hist2d(E, Jz, bins=201,  norm=matplotlib.colors.LogNorm(), cmap = plt.cm.inferno) # cmap = cmap\n",
    "ax.set_ylabel(\"$\\mathrm{J_z}\\ [\\mathrm{Mpc}\\ \\mathrm{km}\\ \\mathrm{s}^{-1}]$\")\n",
    "ax.set_xlabel(\"E\")\n"
   ]
  },
  {
   "cell_type": "code",
   "execution_count": 81,
   "metadata": {
    "scrolled": false
   },
   "outputs": [
    {
     "name": "stdout",
     "output_type": "stream",
     "text": [
      "[ -2.42559500e-07   3.48959482e-05  -1.01165047e-03  -9.90632233e-02\n",
      "   1.35152991e+02]\n"
     ]
    },
    {
     "data": {
      "text/plain": [
       "[<matplotlib.lines.Line2D at 0x2aaca4ee0cc0>]"
      ]
     },
     "execution_count": 81,
     "metadata": {},
     "output_type": "execute_result"
    },
    {
     "data": {
      "image/png": "[encoded data removed]",
      "text/plain": [
       "<matplotlib.figure.Figure at 0x2aaca4e83908>"
      ]
     },
     "metadata": {},
     "output_type": "display_data"
    }
   ],
   "source": [
    "fit_arr = []\n",
    "for i in range(201):\n",
    "    min_val = np.nonzero(H[0][i])[0][0]\n",
    "    fit_arr.append([i, min_val])\n",
    "    if min_val == 0:\n",
    "        break\n",
    "fit_arr = np.array(fit_arr)\n",
    "#print(fit_arr.shape)\n",
    "\n",
    "x_vals = fit_arr[:, 0]\n",
    "y_vals = fit_arr[:, 1]\n",
    "#print(x_vals, y_vals)\n",
    "plt.plot(x_vals, y_vals, 'r.')\n",
    "\n",
    "z = np.polyfit(x_vals, y_vals, 4)\n",
    "print(z)\n",
    "p = np.poly1d(z)\n",
    "plt.plot(x_vals,p(x_vals))"
   ]
  },
  {
   "cell_type": "code",
   "execution_count": null,
   "metadata": {
    "collapsed": true
   },
   "outputs": [],
   "source": [
    "### taken from The GigaGalaxy Project (analysis tool) / galaxy / plot_circularities_decomp_multi_age.py\n",
    "Gcosmo = 43.0071\n",
    "\n",
    "\n",
    "#input1 = '/home/marinafo/scratch/Aquarius/AgeOfAquariusOutputs/ExpansionList_short'\n",
    "#input2 = '/home/marinafo/scratch/Aquarius/AgeOfAquariusOutputs/ExpansionList_128'\n",
    "\n",
    "def plot_circularities_decomp_multi_age( runs, dirs, outpath, snap, suffix, nrows, ncols, normalize_bins=True ):\n",
    "    panels = len(runs)\n",
    "    figure = multipanel_layout.multipanel_layout( nrows=nrows, ncols=ncols, npanels=panels )\n",
    "    figure.set_figure_layout()\n",
    "    figure.set_axis_limits_and_aspect( xlim=[-2.0, 2.0], ylim=[0.0, 2.5] )\n",
    "    if normalize_bins:\n",
    "        figure.set_axis_locators( xminloc=0.25, xmajloc=1.0, yminloc=0.1, ymajloc=0.5 )\n",
    "    else:\n",
    "        figure.set_axis_locators( xminloc=0.25, xmajloc=1.0, yminloc=0.01, ymajloc=0.05 )\n",
    "\n",
    "    figure.set_axis_labels( xlabel=\"$\\epsilon$\", ylabel=\"$\\\\rm{f(\\epsilon)}$\" )\n",
    "    figure.set_fontsize()\n",
    "\n",
    "    fileout = outpath + '/stellar_age.txt'\n",
    "    f = open(fileout, 'w')\n",
    "    header = \"%12s%12s%12s\\n\" % (\"Run\", \"Age disk\", \"Age bulge\")\n",
    "    f.write(header)\n",
    "\n",
    "    savesnap = snap\n",
    "\n",
    "        for d in range( len( runs ) ):\n",
    "                dd = dirs[d] + runs[d]\n",
    "        ax = figure.axes[d]\n",
    "\n",
    "                print(\"Doing dir %s snap %d.\" % (dd, snap))\n",
    "\n",
    "        s = gadget_readsnap( snap, snappath=dd+'/output/', hdf5=True, loadonly=['pos', 'vel', 'mass', 'pot', 'age'] )\n",
    "        sf = load_subfind( snap, dir=dd+'/output/', hdf5=True, loadonly=['fpos', 'frc2', 'svel', 'flty', 'fnsh', 'slty'] )\n",
    "        s.calc_sf_indizes( sf, dosubhalos=False, halolist=[0] )\n",
    "        na = s.nparticlesall\n",
    "\n",
    "            galrad = 0.1 * sf.data['frc2'][0]\n",
    "            print('galrad:', galrad)\n",
    "        center = None\n",
    "        age_select = 3.\n",
    "        s.select_halo( sf, center, age_select, use_principal_axis=True, use_cold_gas_spin=False, do_rotation=True )\n",
    "\n",
    "        print('select particle properties')\n",
    "\n",
    "        mass = s.data['mass'].astype('float64')\n",
    "        st = na[:4].sum(); en = st+na[4]\n",
    "        age = np.zeros( s.npartall )\n",
    "        age[st:en] = s.data['age']\n",
    "\n",
    "        iall, = np.where( (s.r() < galrad) & (s.r() > 0.) )\n",
    "        istars, = np.where( (s.r() < galrad) & (s.r() > 0.) & (s.type == 4) & (age > 0.) )\n",
    "\n",
    "            nstars = size( istars )\n",
    "            nall   = size( iall )\n",
    "            rr = pylab.sqrt( (s.pos[iall,:]**2).sum(axis=1) )\n",
    "            msort = rr.argsort()\n",
    "            mass_all = mass[iall]\n",
    "        \n",
    "            msum = pylab.zeros( nall )\n",
    "        msum[msort[:]] = np.cumsum(mass_all[msort[:]])\n",
    "\n",
    "            pos  = s.pos[iall,:].astype( 'float64' )\n",
    "            vel = s.vel[iall,:].astype( 'float64' )\n",
    "            mass = s.data['mass'][iall].astype( 'float64' )\n",
    "            ptype = s.data['type'][iall]\n",
    "            pot = s.data['pot'][iall].astype('float64')\n",
    "                #radius = pylab.sqrt( (s.pos[iall,1:]**2).sum(axis=1) ) # radius in yz (disc) plane??\n",
    "                radius = pylab.sqrt( (s.pos[iall,:]**2).sum(axis=1) )\n",
    "\t\tage = age[iall]\n",
    "\n",
    "        \teps   = pylab.zeros( nstars )\n",
    "\t\teps2  = pylab.zeros( nstars )\n",
    "        \tsmass = pylab.zeros( nstars )\n",
    "        \tcosalpha = pylab.zeros( nstars )\n",
    "        \tjcmax = pylab.zeros( nstars )\n",
    "\t\tspec_energy = pylab.zeros( nstars )\n",
    "\t\tstar_age = pylab.zeros( nstars )\n",
    "\n",
    "\t\t#computing stellar properties\n",
    "\t\tprint('computing star properties')\n",
    "\t\tnn, = np.where((ptype[:] == 4) & (age[:] > 0.)) \n",
    "\n",
    "               \tj  = pylab.cross( pos[nn,:], vel[nn,:] )\n",
    "                jc = radius[nn] * pylab.sqrt( Gcosmo * msum[nn] / radius[nn] )\n",
    "                jz = j[:,0]\n",
    "\n",
    "\t\tspec_energy[:] = 0.5 * (vel[nn,:]**2).sum(axis=1) + pot[nn]\n",
    "\t\teps[:] = jz / jc\n",
    "\t\teps2[:] = jz\n",
    "                smass[:] = mass[nn]\n",
    "                cosalpha[:] = jz / np.sqrt( (j[:]**2).sum(axis=1) )\n",
    "\t\tstar_age[:] = s.cosmology_get_lookback_time_from_a( age[nn], is_flat=True )\n",
    "\n",
    "\t\tprint('computing histograms')\n",
    "\n",
    "\t\t#sort particle by specific energy\n",
    "\t\tiensort = np.argsort(spec_energy)\n",
    "\t\teps = eps[iensort]\n",
    "\t\teps2 = eps2[iensort]\n",
    "\t\tspec_energy = spec_energy[iensort]\n",
    "\t\tsmass = smass[iensort]\n",
    "\t\tcosalpha = cosalpha[iensort]\n",
    "\t\tstar_age = star_age[iensort]\n",
    "\n",
    "        \tfor nn in range( nstars ):\n",
    "\t\t\tnn0 = nn - 50\n",
    "\t\t\tnn1 = nn + 50\n",
    "\n",
    "\t\t\tif nn0 < 0:\n",
    "\t\t\t\tnn1 += -nn0\n",
    "\t\t\t\tnn0 = 0\n",
    "\t\t\tif nn1 >= nstars:\n",
    "\t\t\t\tnn0 -= ( nn1 - (nstars - 1) )\n",
    "\t\t\t\tnn1 = nstars - 1\n",
    "\n",
    "\t\t\tjcmax[nn] = np.max( eps2[nn0:nn1] )\n",
    "\n",
    "        \tsmass /= smass.sum()\n",
    "\t\teps2[:] /= jcmax[:]\n",
    "\n",
    "       \t\t#compute total new (it is used for bulge disk decomposition and plotted afterwards)\n",
    "\t\tydatatot, edges = histogram( eps2, bins=100, weights=smass, range=[-1.7,1.7] )\n",
    "\t\txdatatot = 0.5 * (edges[1:] + edges[:-1])\n",
    "\n",
    "\t\tkk, = np.where( xdatatot <= 0.0 )\n",
    "\t\tpivot = np.max( kk )\n",
    "\n",
    "\t\t#such that \\int f(\\epsilon) d\\epsilon = 1\n",
    "\t\tif normalize_bins:\n",
    "\t\t\tbinwidth = edges[1:] - edges[:-1]\n",
    "\t\t\tydatatot[:] /= binwidth[:]\n",
    "\n",
    "\t\txdata = np.zeros( len ( xdatatot ) )\n",
    "\t\tydata = np.zeros( len ( ydatatot ) )\n",
    "\t\tydatad = np.zeros( len ( ydatatot ) )\n",
    "\n",
    "        \t#bulge\t\n",
    "\t\tydata[:] = ydatatot[:]\n",
    "\t\txdata[:] = xdatatot[:]\n",
    "\t\t#mirror part with negative epsilon (if that is too big keep the actual value)\n",
    "\t\tif len( ydata ) % 2 == 0: \n",
    "\t\t\tfor i in range( 0, len( ydata ) / 2 ):\n",
    "\t\t\t\tif ydata[pivot + i + 1] > ydata[pivot - i]:\n",
    "\t\t\t\t\tydata[pivot + i + 1] = ydata[pivot - i]\n",
    "\t\telse:\n",
    "\t\t\tfor i in range( 1, len( ydata ) / 2 ):\n",
    "\t\t\t\tif ydata[pivot + i] > ydata[pivot - i]:\n",
    "\t\t\t\t\tydata[pivot + i] = ydata[pivot - i]\n",
    "\n",
    "\t\tax.fill( xdata, ydata, fc='r', alpha=0.5, fill=True, lw=0, label='spheroid' )\n",
    "\n",
    "\t\t#disk\n",
    "\t\tydatad[:] = ydatatot[:]\n",
    "\t\txdata[:] = xdatatot[:]\n",
    "\t\t#substract the bulge part\n",
    "\t\tydatad[:] -= ydata[:]\n",
    "\t\tax.fill( xdata, ydatad, fc='b', alpha=0.5, fill=True, lw=0, label='disc' )\n",
    "\t\t#multiply by bin width if bin have been normalised\n",
    "\t\tif normalize_bins:\n",
    "\t\t\tbinwidth = edges[1:] - edges[:-1]\n",
    "\t\t\tydatad[:] *= binwidth[:]\n",
    "\n",
    "       \t\t#plot total new\n",
    "\t\tax.plot( xdatatot, ydatatot, 'k', label='total' )\n",
    "\n",
    "\t\t#total old\n",
    "\t\tydata, edges = histogram( eps, bins=100, weights=smass, range=[-1.7,1.7] )\n",
    "\t\txdata = 0.5 * (edges[1:] + edges[:-1])\n",
    "\n",
    "\t\t#such that \\int f(\\epsilon) d\\epsilon = 1\n",
    "\t\tif normalize_bins:\n",
    "\t\t\tbinwidth = edges[1:] - edges[:-1]\n",
    "\t\t\tydata[:] /= binwidth[:]\n",
    "\n",
    "\t\tjj, = np.where( (eps2 > 0.7) & (eps2 < 1.7) )\n",
    "\t\tkk, = np.where( (eps2 > -1.7) & (eps2 <= 0.7) )\n",
    "\t\tll, = np.where( (eps2 > -1.7) & (eps2 < 1.7) )\n",
    "\t\talt_frac = smass[jj].sum() / smass[ll].sum()\n",
    "\n",
    "\t\tage_disk = (star_age[jj] * smass[jj]).sum() / smass[jj].sum()\n",
    "\t\tage_bulge = (star_age[kk] * smass[kk]).sum() / smass[kk].sum()\n",
    "\t\theader = \"%12s%12.2f%12.2f\\n\" % (runs[d], age_disk, age_bulge)\n",
    "\t\tf.write(header)\n",
    "\n",
    "\t\tax.plot( xdata, ydata, 'gray', lw=0.7, label=\"$\\\\rm{f(\\\\epsilon_{v})}$\" )\n",
    "\n",
    "        \tax.legend( loc='upper left', frameon=False, prop={'size':5} )\n",
    "\t\tax.text( 0.06, 0.60, \"D/T = %4.2f [%4.2f]\" % (alt_frac, ydatad.sum()), size=5, transform=ax.transAxes )\n",
    "\n",
    "\t\tfigure.set_panel_title(panel=d, title=\"$\\\\rm{%s-{%s}}$\" % (runs[d].split('_')[0], runs[d].split('_')[1]), position='top right' )\n",
    "\n",
    "\tf.close()\n",
    "\t#figure.fig.savefig( '%s/epsilon_multi_age%03d.%s' % (outpath, snap, suffix) )\n"
   ]
  }
 ],
 "metadata": {
  "kernelspec": {
   "display_name": "Python 3",
   "language": "python",
   "name": "python3"
  },
  "language_info": {
   "codemirror_mode": {
    "name": "ipython",
    "version": 3
   },
   "file_extension": ".py",
   "mimetype": "text/x-python",
   "name": "python",
   "nbconvert_exporter": "python",
   "pygments_lexer": "ipython3",
   "version": "3.6.3"
  }
 },
 "nbformat": 4,
 "nbformat_minor": 2
}
