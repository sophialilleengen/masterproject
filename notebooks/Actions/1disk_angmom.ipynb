{
 "cells": [
  {
   "cell_type": "code",
   "execution_count": 2,
   "metadata": {},
   "outputs": [
    {
     "data": {
      "text/html": [
       "<style>.container { width:100% !important; }</style>"
      ],
      "text/plain": [
       "<IPython.core.display.HTML object>"
      ]
     },
     "metadata": {},
     "output_type": "display_data"
    }
   ],
   "source": [
    "# system stuff\n",
    "import sys\n",
    "sys.path.append(\"..\")\n",
    "import datetime\n",
    "\n",
    "# galpy stuff\n",
    "from galpy.potential import MiyamotoNagaiPotential, NFWPotential, HernquistPotential\n",
    "from galpy.actionAngle import estimateDeltaStaeckel, actionAngleStaeckel\n",
    "from galpy.actionAngle import UnboundError\n",
    "\n",
    "# auriga stuff\n",
    "from areposnap.gadget import gadget_readsnap\n",
    "from areposnap.gadget_subfind import load_subfind\n",
    "\n",
    "from auriga_basics import *\n",
    "from auriga_functions import *\n",
    "from decomposition import *\n",
    "\n",
    "# main packages stuff\n",
    "import numpy as np\n",
    "from scipy import stats\n",
    "\n",
    "# python stuff\n",
    "import random\n",
    "import copy\n",
    "\n",
    "# plot stuff\n",
    "from IPython.display import Image, display\n",
    "import corner\n",
    "\n",
    "from mpl_toolkits.axes_grid1 import make_axes_locatable\n",
    "import matplotlib.pyplot as plt\n",
    "import matplotlib\n",
    "from matplotlib.patches import Circle\n",
    "from matplotlib import animation\n",
    "from matplotlib.colors import LogNorm, LinearSegmentedColormap\n",
    "from matplotlib import rcParams\n",
    "from matplotlib import colors\n",
    "\n",
    "%matplotlib inline\n",
    "\n",
    "rcParams['font.size'] = 16\n",
    "rcParams['lines.linewidth'] = 1.5\n",
    "rcParams['axes.linewidth'] = 1.5\n",
    "rcParams['ytick.major.width'] = 1.5\n",
    "rcParams['xtick.major.width'] = 1.5\n",
    "rcParams['image.cmap'] = 'magma'\n",
    "rcParams['savefig.bbox'] = 'tight'\n",
    "rcParams['savefig.dpi'] = 300\n",
    "rcParams['savefig.format'] = 'png'\n",
    "cmap = copy.copy(plt.cm.get_cmap(rcParams['image.cmap']))\n",
    "cmap.set_bad((0,0,0))\n",
    "\n",
    "# display stuff\n",
    "%config InlineBackend.figure_format = 'retina'\n",
    "from IPython.core.display import display, HTML\n",
    "display(HTML(\"<style>.container { width:100% !important; }</style>\"))\n",
    "\n"
   ]
  },
  {
   "cell_type": "code",
   "execution_count": 3,
   "metadata": {
    "collapsed": true
   },
   "outputs": [],
   "source": [
    "machine = 'virgo'\n",
    "if machine == 'magny':\n",
    "    basedir = \"/hits/universe/GigaGalaxy/level4_MHD/\"\n",
    "    filedir = \"/home/extmilan/masterthesis/files/\"\n",
    "    plotdir = \"/home/extmilan/masterthesis/plots/\"\n",
    "elif machine == 'mac': \n",
    "    basedir = \"/Users/smilanov/Desktop/Auriga/level4/\"\n",
    "    filedir = \"/Users/smilanov/Documents/masterthesis/auriga_files/files/\"\n",
    "    plotdir = \"/Users/smilanov/Documents/masterthesis/auriga_files/plots/\"\n",
    "elif machine == 'virgo': \n",
    "    basedir = \"/virgo/simulations/Auriga/level4_MHD/\"\n",
    "    filedir = \"/u/milas/masterthesis/masterproject/files/\"\n",
    "    plotdir = \"/u/milas/masterthesis/masterproject/plots/\"\n",
    "    \n"
   ]
  },
  {
   "cell_type": "code",
   "execution_count": null,
   "metadata": {
    "collapsed": true
   },
   "outputs": [],
   "source": []
  },
  {
   "cell_type": "code",
   "execution_count": 5,
   "metadata": {
    "scrolled": false
   },
   "outputs": [
    {
     "name": "stdout",
     "output_type": "stream",
     "text": [
      "level   : 4\n",
      "halo    : 24\n",
      "snapnr  : 127\n",
      "basedir : /virgo/simulations/Auriga/level4_MHD/\n",
      "halodir : /virgo/simulations/Auriga/level4_MHD/halo_24/\n",
      "snappath: /virgo/simulations/Auriga/level4_MHD/halo_24/output/\n",
      "\n",
      "Found 1783163 stars.\n",
      "Rotated pos.\n",
      "Rotated vel.\n",
      "\n",
      "galrad  : 0.02408556640148163\n",
      "redshift: 2.220446049250313e-16\n",
      "time    : 0.9999999999999998\n",
      "center  : [ 0.  0.  0.]\n",
      "\n"
     ]
    },
    {
     "data": {
      "image/png": "[encoded data removed]",
      "text/plain": [
       "<matplotlib.figure.Figure at 0x2b90d234a6a0>"
      ]
     },
     "metadata": {
      "image/png": {
       "height": 258,
       "width": 408
      }
     },
     "output_type": "display_data"
    }
   ],
   "source": [
    "level = 4\n",
    "halo_number = 24\n",
    "\n",
    "halodir = basedir+\"halo_{0}/\".format(halo_number)\n",
    "snappath = halodir+\"output/\"\n",
    "\n",
    "startnr = 127\n",
    "endnr = 128\n",
    "\n",
    "for snapnr in range(startnr,endnr,1):\n",
    "    print(\"level   : {0}\".format(level))\n",
    "    print(\"halo    : {0}\".format(halo_number))\n",
    "    print(\"snapnr  : {0}\".format(snapnr))\n",
    "    print(\"basedir : {0}\".format(basedir))\n",
    "    print(\"halodir : {0}\".format(halodir))\n",
    "    print(\"snappath: {0}\\n\".format(snappath))\n",
    "    s, sf = eat_snap_and_fof(level, halo_number, snapnr, snappath, loadonlytype=[4], \n",
    "        haloid=0, galradfac=0.1, verbose=True) \n",
    "\n",
    "    # Clean negative and zero values of gmet to avoid RuntimeErrors\n",
    "    # later on (e.g. dividing by zero)\n",
    "    s.data['gmet'] = np.maximum( s.data['gmet'], 1e-40 )\n",
    "\n",
    "    #decompobj = decomposition(machine = 'virgo', snapnr = snapnr, use_masses = False, use_n = True, galpyinputfile = None, galpyinputdata = None, have_galpy_potential = False)\n",
    "    #disk_ID, spheroid_ID = decompobj._decomp(circ_val = 0.7, plotter = True, savefig = False, include_zmax = False, zmax = 0.001, Gcosmo = 43.0071) \n",
    "\n",
    "    disk_ID = np.loadtxt(filedir + 'auriga/disk_spheroid_IDs_dec18/disk_IDs_snap_{}'.format(snapnr), unpack = True)\n",
    "    \n",
    "    i_disk = np.isin(s.id, disk_ID)\n",
    "    (R_kpc_disk, phi_disk, z_kpc_disk), (vR_kms_disk, vphi_kms_disk, vz_kms_disk) = get_cylindrical_vectors(s, sf, i_disk)\n",
    "\n",
    "    Lz = R_kpc_disk * vphi_kms_disk\n",
    "    \n",
    "    plt.hist(Lz, bins = 101)"
   ]
  },
  {
   "cell_type": "code",
   "execution_count": 6,
   "metadata": {},
   "outputs": [
    {
     "data": {
      "text/plain": [
       "-2235.4087674057369"
      ]
     },
     "execution_count": 6,
     "metadata": {},
     "output_type": "execute_result"
    }
   ],
   "source": [
    "np.mean(Lz)"
   ]
  },
  {
   "cell_type": "code",
   "execution_count": null,
   "metadata": {
    "collapsed": true
   },
   "outputs": [],
   "source": []
  }
 ],
 "metadata": {
  "kernelspec": {
   "display_name": "Python 3",
   "language": "python",
   "name": "python3"
  },
  "language_info": {
   "codemirror_mode": {
    "name": "ipython",
    "version": 3
   },
   "file_extension": ".py",
   "mimetype": "text/x-python",
   "name": "python",
   "nbconvert_exporter": "python",
   "pygments_lexer": "ipython3",
   "version": "3.6.1"
  }
 },
 "nbformat": 4,
 "nbformat_minor": 2
}
