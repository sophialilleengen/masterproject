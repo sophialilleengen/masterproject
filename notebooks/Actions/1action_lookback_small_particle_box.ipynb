{
 "cells": [
  {
   "cell_type": "code",
   "execution_count": 4,
   "metadata": {},
   "outputs": [
    {
     "data": {
      "text/html": [
       "<style>.container { width:100% !important; }</style>"
      ],
      "text/plain": [
       "<IPython.core.display.HTML object>"
      ]
     },
     "metadata": {},
     "output_type": "display_data"
    }
   ],
   "source": [
    "from galpy.potential import MiyamotoNagaiPotential, NFWPotential, HernquistPotential\n",
    "from galpy.actionAngle import estimateDeltaStaeckel, actionAngleStaeckel\n",
    "from galpy.actionAngle import UnboundError\n",
    "\n",
    "from areposnap.gadget import gadget_readsnap\n",
    "from areposnap.gadget_subfind import load_subfind\n",
    "\n",
    "from auriga_basics import *\n",
    "from auriga_functions import *\n",
    "\n",
    "import numpy as np\n",
    "from scipy import stats\n",
    "from IPython.display import Image, display\n",
    "\n",
    "import corner\n",
    "\n",
    "import datetime\n",
    "import random\n",
    "\n",
    "import copy\n",
    "\n",
    "from mpl_toolkits.axes_grid1 import make_axes_locatable\n",
    "import matplotlib.pyplot as plt\n",
    "import matplotlib\n",
    "from matplotlib.patches import Circle\n",
    "from matplotlib import animation\n",
    "from matplotlib.colors import LogNorm\n",
    "\n",
    "\n",
    "import datetime\n",
    "\n",
    "\n",
    "from matplotlib import rcParams\n",
    "\n",
    "%matplotlib inline\n",
    "\n",
    "rcParams['font.size'] = 16\n",
    "rcParams['lines.linewidth'] = 1.5\n",
    "rcParams['axes.linewidth'] = 1.5\n",
    "rcParams['ytick.major.width'] = 1.5\n",
    "rcParams['xtick.major.width'] = 1.5\n",
    "rcParams['image.cmap'] = 'magma'\n",
    "\n",
    "cmap = copy.copy(plt.cm.get_cmap(rcParams['image.cmap']))\n",
    "cmap.set_bad((0,0,0))\n",
    "%config InlineBackend.figure_format = 'retina'\n",
    "\n",
    "%matplotlib inline\n",
    "\n",
    "from IPython.core.display import display, HTML\n",
    "display(HTML(\"<style>.container { width:100% !important; }</style>\"))\n"
   ]
  },
  {
   "cell_type": "code",
   "execution_count": 3,
   "metadata": {},
   "outputs": [
    {
     "name": "stdout",
     "output_type": "stream",
     "text": [
      "level   : 4\n",
      "halo    : 24\n",
      "snapnr  : 127\n",
      "basedir : /virgo/simulations/Auriga/level4_MHD/\n",
      "halodir : /virgo/simulations/Auriga/level4_MHD/halo_24/\n",
      "snappath: /virgo/simulations/Auriga/level4_MHD/halo_24/output/\n",
      "\n",
      "Found 1783163 stars.\n",
      "Rotated pos.\n",
      "Rotated vel.\n",
      "\n",
      "galrad  : 0.02408556640148163\n",
      "redshift: 2.220446049250313e-16\n",
      "time    : 0.9999999999999998\n",
      "center  : [ 0.  0.  0.]\n",
      "\n"
     ]
    }
   ],
   "source": [
    "# Simulation relevant stuff\n",
    "machine = 'virgo'\n",
    "if machine == 'magny':\n",
    "    basedir = \"/hits/universe/GigaGalaxy/level4_MHD/\"\n",
    "    filedir = \"/home/extmilan/masterthesis/files/\"\n",
    "    plotdir = \"/home/extmilan/masterthesis/plots/\"\n",
    "elif machine == 'mac': \n",
    "    basedir = \"/Users/smilanov/Desktop/Auriga/level4/\"\n",
    "    filedir = \"/Users/smilanov/Documents/masterthesis/auriga_files/files/\"\n",
    "    plotdir = \"/Users/smilanov/Documents/masterthesis/auriga_files/plots/\"\n",
    "elif machine == 'virgo': \n",
    "    basedir = \"/virgo/simulations/Auriga/level4_MHD/\"\n",
    "    filedir = \"/u/milas/masterthesis/masterproject/files/\"\n",
    "    plotdir = \"/u/milas/masterthesis/masterproject/plots/\"\n",
    "    \n",
    "\n",
    "    \n",
    "#### path = /hits/universe/GigaGalaxy/level4_MHD/halo_24/output/*\n",
    "level = 4\n",
    "\n",
    "for halo_number in [24]:  # range(1, 31):\n",
    "    halodir = basedir+\"halo_{0}/\".format(halo_number)\n",
    "    snappath = halodir+\"output/\"\n",
    "\n",
    "    for snapnr in range(127,128,1):\n",
    "        print(\"level   : {0}\".format(level))\n",
    "        print(\"halo    : {0}\".format(halo_number))\n",
    "        print(\"snapnr  : {0}\".format(snapnr))\n",
    "        print(\"basedir : {0}\".format(basedir))\n",
    "        print(\"halodir : {0}\".format(halodir))\n",
    "        print(\"snappath: {0}\\n\".format(snappath))\n",
    "        s, sf = eat_snap_and_fof(level, halo_number, snapnr, snappath, loadonlytype=[4], \n",
    "            haloid=0, galradfac=0.1, verbose=True) \n",
    "\n",
    "        # Clean negative and zero values of gmet to avoid RuntimeErrors\n",
    "        # later on (e.g. dividing by zero)\n",
    "        s.data['gmet'] = np.maximum( s.data['gmet'], 1e-40 )\n",
    "        "
   ]
  },
  {
   "cell_type": "code",
   "execution_count": 5,
   "metadata": {
    "collapsed": true
   },
   "outputs": [],
   "source": [
    "\"\"\"\n",
    "Snapshot =  127\n",
    "v0_tot_kms at R0_kpc = 8.02852213383 : 220.724646624\n",
    "Stellar Disk - a_MND_kpc = 2.96507719743 b_MND_kpc = 1.63627757204 v0_MND_kms = 105.005287928\n",
    "Stellar Spheroid - a_HB_kp c= 1.71545528287 v0_HB_kms = 111.241910552\n",
    "DM Halo - a_NFWH_kpc = 26.0152749345 v0_NFWH_kms = 159.117869741\n",
    "\"\"\"\n",
    "\n",
    "fix_v0_kms      = 220.724646624\n",
    "fix_R0_kpc      = 8.02852213383\n",
    "fix_a_MND_kpc   = 2.96507719743\n",
    "fix_b_MND_kpc   = 1.63627757204\n",
    "fix_v0_MND_kms  = 105.005287928\n",
    "fix_a_HB_kpc    = 1.71545528287\n",
    "fix_v0_HB_kms   = 111.241910552\n",
    "fix_v0_NFWH_kms = 159.117869741\n",
    "init_a_NFWH_kpc = 26.0152749345\n",
    "\n",
    "fix_n_MND       = fix_v0_MND_kms**2  / fix_v0_kms**2\n",
    "fix_n_HB        = fix_v0_HB_kms**2   / fix_v0_kms**2\n",
    "fix_n_NFWH      = fix_v0_NFWH_kms**2 / fix_v0_kms**2\n",
    "\n",
    "#_____function that sets-up galpy potential_____\n",
    "def setup_galpy_potential(a_MND_kpc, b_MND_kpc, a_NFWH_kpc, a_HB_kpc, n_MND, n_NFWH, n_HB, _REFR0_kpc):\n",
    "    \n",
    "    #test input:\n",
    "    if (a_MND_kpc <= 0.) or (b_MND_kpc <= 0.) or (a_NFWH_kpc <= 0.) or (a_HB_kpc <= 0.) \\\n",
    "       or (n_MND <= 0.) or (n_NFWH <= 0.) or (n_HB <= 0.) or (n_MND >= 1.) or (n_NFWH >= 1.) or (n_HB >= 1.):\n",
    "        raise ValueError('Error in setup_galpy_potential: '+\\\n",
    "                         'The input parameters for the scaling profiles do not correspond to a physical potential.')\n",
    "    if np.fabs(n_MND + n_NFWH + n_HB - 1.) > 1e-7:\n",
    "        raise ValueError('Error in setup_galpy_potential: '+\\\n",
    "                         'The sum of the normalization does not add up to 1.')\n",
    "        \n",
    "    #trafo to galpy units:\n",
    "    a_MND  = a_MND_kpc  / _REFR0_kpc\n",
    "    b_MND  = b_MND_kpc  / _REFR0_kpc\n",
    "    a_NFWH = a_NFWH_kpc / _REFR0_kpc\n",
    "    a_HB   = a_HB_kpc   / _REFR0_kpc\n",
    "    \n",
    "    #setup potential:\n",
    "    disk = MiyamotoNagaiPotential(\n",
    "                a = a_MND,\n",
    "                b = b_MND,\n",
    "                normalize = n_MND)\n",
    "    halo = NFWPotential(\n",
    "                a = a_NFWH,\n",
    "                normalize = n_NFWH)\n",
    "    bulge = HernquistPotential(\n",
    "                a = a_HB,\n",
    "                normalize = n_HB) \n",
    "     \n",
    "    return [disk,halo,bulge]\n",
    "\n",
    "\n",
    "#for a in range(50):\n",
    "    "
   ]
  },
  {
   "cell_type": "code",
   "execution_count": 6,
   "metadata": {
    "collapsed": true
   },
   "outputs": [],
   "source": [
    "# load GC IDs & create their mask\n",
    "IDs = np.loadtxt(filedir + 'surviving_ids_snapshot_67_sh_1.txt')\n",
    "gcmask = np.isin(s.id, IDs)\n"
   ]
  },
  {
   "cell_type": "code",
   "execution_count": null,
   "metadata": {
    "collapsed": true
   },
   "outputs": [],
   "source": [
    "### for \"true\" a_NFWH\n",
    "# set up galpy potential with values of potential fitting (either smoothed or not, depends on commenting out or not)\n",
    "pot_galpy = setup_galpy_potential(fix_a_MND_kpc, fix_b_MND_kpc, init_a_NFWH_kpc, fix_a_HB_kpc, fix_n_MND, fix_n_NFWH, fix_n_HB, fix_R0_kpc)\n",
    "\n",
    "# this would mean that there are no merged GCs\n",
    "if np.sum(gcmask) == 0:\n",
    "    print(\"skipped this step\")\n",
    "    #continue\n",
    "\n",
    "# get position and velocities of all selected GCs & convert to galpy units\n",
    "(R_kpc, phi_rad, z_kpc), (vR_kms, vphi_kms, vz_kms) = get_cylindrical_vectors(s, sf, gcmask)\n",
    "# convert physical to galpy units by dividing by REF vals (get velocities from best fit parameters)\n",
    "R_galpy, vR_galpy, vT_galpy, z_galpy, vz_galpy = R_kpc / fix_R0_kpc, vR_kms / fix_v0_kms, vphi_kms / fix_v0_kms, z_kpc / fix_R0_kpc, vz_kms / fix_v0_kms\n",
    "\n",
    "# estimate Delta of the Staeckel potential\n",
    "delta = 0.45\n",
    "delta = estimateDeltaStaeckel(pot_galpy, R_galpy, z_galpy)\n",
    "# CHECK HOW BIG INFLUENCE OF DELTA IS\n",
    "\n",
    "\n",
    "# set up the actionAngleStaeckel object\n",
    "aAS = actionAngleStaeckel(\n",
    "        pot   = pot_galpy,  # potential\n",
    "        delta = delta,      # focal length of confocal coordinate system\n",
    "        c     = True        # use C code (for speed)\n",
    "        )\n",
    "\n",
    "\n",
    "jR_galpy, lz_galpy, jz_galpy, r_kpc = np.zeros(len(IDs)), np.zeros(len(IDs)), np.zeros(len(IDs)), np.zeros(len(IDs))\n",
    "savedIDs = np.zeros(len(IDs))\n",
    "IDs_notworking = []\n",
    "for test_i, item in enumerate(IDs):\n",
    "    if (test_i % 1000) == 0:\n",
    "        print(datetime.datetime.now().time())\n",
    "        print(test_i)\n",
    "    try: \n",
    "        jR_galpy[test_i], lz_galpy[test_i], jz_galpy[test_i] = aAS(R_galpy[test_i], vR_galpy[test_i], vT_galpy[test_i], z_galpy[test_i], vz_galpy[test_i])\n",
    "        r_kpc[test_i] = np.sqrt(R_kpc[test_i]**2 + z_kpc[test_i]**2)\n",
    "        savedIDs[test_i] = item\n",
    "    except(ValueError, UnboundError):\n",
    "        IDs_notworking.append(item)\n",
    "        continue\n",
    "print('numbers of GCs wo actions:', len(IDs_notworking))\n",
    "jR_kpckms, lz_kpckms, jz_kpckms = jR_galpy * fix_R0_kpc * fix_v0_kms, lz_galpy * fix_R0_kpc * fix_v0_kms, jz_galpy * fix_R0_kpc * fix_v0_kms\n",
    "\n",
    "# just pick result values of particles of which I actually could calculate actions\n",
    "survivor_id_mask = np.isin(IDs, savedIDs)\n",
    "jR_kpckms, lz_kpckms, jz_kpckms = jR_kpckms[survivor_id_mask], lz_kpckms[survivor_id_mask], jz_kpckms[survivor_id_mask]\n",
    "r_kpc = r_kpc[survivor_id_mask]\n",
    "survivor_IDs = IDs[survivor_id_mask]\n",
    "init_jR_kpckms = jR_kpckms\n",
    "init_jz_kpckms = jz_kpckms"
   ]
  },
  {
   "cell_type": "code",
   "execution_count": null,
   "metadata": {
    "collapsed": true,
    "scrolled": false
   },
   "outputs": [],
   "source": [
    "init_mean_jR_kpckms = np.mean(jR_kpckms)\n",
    "init_std_jR_kpckms  = np.std(jR_kpckms)\n",
    "init_skew_jR_kpckms = stats.skew(jR_kpckms)\n",
    "init_mean_jz_kpckms = np.mean(jz_kpckms)\n",
    "init_std_jz_kpckms  = np.std(jz_kpckms)\n",
    "init_skew_jz_kpckms = stats.skew(jz_kpckms)\n",
    "init_cov_jR_jz = np.cov(jR_kpckms, jz_kpckms)\n",
    "init_mean_lz_kpckms = np.mean(lz_kpckms)\n"
   ]
  },
  {
   "cell_type": "code",
   "execution_count": null,
   "metadata": {
    "collapsed": true
   },
   "outputs": [],
   "source": [
    "test_widths = np.arange(150,1050,50)\n",
    "for test_width in test_widths:\n",
    "    #test_width = 150.\n",
    "    test_step = test_width / 2.\n",
    "\n",
    "    cond_jR = np.where((jR_kpckms < (init_mean_jR_kpckms + test_step)) & (jR_kpckms > (init_mean_jR_kpckms - test_step)))\n",
    "    cond_lz = np.where((lz_kpckms < (init_mean_lz_kpckms + test_step)) & (lz_kpckms > (init_mean_lz_kpckms - test_step)))\n",
    "    cond_jz = np.where((jz_kpckms < (init_mean_jz_kpckms + test_step)) & (jz_kpckms > (init_mean_jz_kpckms - test_step)))\n",
    "\n",
    "\n",
    "    jR_gcmask = np.isin(s.id, IDs[cond_jR])\n",
    "    lz_gcmask = np.isin(s.id, IDs[cond_lz])\n",
    "    jz_gcmask = np.isin(s.id, IDs[cond_jz])\n",
    "\n",
    "    i_test_GCs = jR_gcmask * lz_gcmask * jz_gcmask\n",
    "\n",
    "\n",
    "    print(\"number of GCs within test width = {} kpc/km/s: {}\".format(test_width, np.sum(i_test_GCs)))"
   ]
  },
  {
   "cell_type": "code",
   "execution_count": null,
   "metadata": {
    "collapsed": true
   },
   "outputs": [],
   "source": [
    "### for \"false\" a_NFWH\n",
    "#N = 50\n",
    "\n",
    "from matplotlib.patches import Ellipse\n",
    "\n",
    "def eigsorted(cov):\n",
    "    vals, vecs = np.linalg.eigh(cov)\n",
    "    order = vals.argsort()[::-1]\n",
    "    return vals[order], vecs[:,order]\n",
    "\n",
    "test_width = 1050.\n",
    "test_step = test_width / 2.\n",
    "\n",
    "cond_jR = np.where((jR_kpckms < (init_mean_jR_kpckms + test_step)) & (jR_kpckms > (init_mean_jR_kpckms - test_step)))\n",
    "cond_lz = np.where((lz_kpckms < (init_mean_lz_kpckms + test_step)) & (lz_kpckms > (init_mean_lz_kpckms - test_step)))\n",
    "cond_jz = np.where((jz_kpckms < (init_mean_jz_kpckms + test_step)) & (jz_kpckms > (init_mean_jz_kpckms - test_step)))\n",
    "\n",
    "\n",
    "jR_gcmask = np.isin(s.id, IDs[cond_jR])\n",
    "lz_gcmask = np.isin(s.id, IDs[cond_lz])\n",
    "jz_gcmask = np.isin(s.id, IDs[cond_jz])\n",
    "\n",
    "i_test_GCs = jR_gcmask * lz_gcmask * jz_gcmask\n",
    "\n",
    "jR_lz_intersect = np.intersect1d(IDs[cond_jR], IDs[cond_lz])\n",
    "jR_lz_jz_intersect = np.intersect1d(jR_lz_intersect, IDs[cond_jz])\n",
    "\n",
    "num_GCs = np.sum(i_test_GCs)\n",
    "used_IDs = jR_lz_jz_intersect"
   ]
  },
  {
   "cell_type": "code",
   "execution_count": 9,
   "metadata": {
    "scrolled": true
   },
   "outputs": [
    {
     "name": "stdout",
     "output_type": "stream",
     "text": [
      "load stars of snap 73\n",
      "Found 667800 stars.\n",
      "Rotated pos.\n",
      "Rotated vel.\n",
      "\n",
      "galrad  : 0.013611219823360443\n",
      "redshift: 1.2062580807810006\n",
      "time    : 0.45325613023749545\n",
      "center  : [ 0.  0.  0.]\n",
      "\n"
     ]
    },
    {
     "ename": "NameError",
     "evalue": "name 'used_IDs' is not defined",
     "output_type": "error",
     "traceback": [
      "\u001b[0;31m---------------------------------------------------------------------------\u001b[0m",
      "\u001b[0;31mNameError\u001b[0m                                 Traceback (most recent call last)",
      "\u001b[0;32m<ipython-input-9-70654947c740>\u001b[0m in \u001b[0;36m<module>\u001b[0;34m()\u001b[0m\n\u001b[1;32m     48\u001b[0m \u001b[0;34m\u001b[0m\u001b[0m\n\u001b[1;32m     49\u001b[0m \u001b[0;34m\u001b[0m\u001b[0m\n\u001b[0;32m---> 50\u001b[0;31m     \u001b[0mi_test_GCs\u001b[0m \u001b[0;34m=\u001b[0m \u001b[0mnp\u001b[0m\u001b[0;34m.\u001b[0m\u001b[0misin\u001b[0m\u001b[0;34m(\u001b[0m\u001b[0ms\u001b[0m\u001b[0;34m.\u001b[0m\u001b[0mid\u001b[0m\u001b[0;34m,\u001b[0m \u001b[0mused_IDs\u001b[0m\u001b[0;34m)\u001b[0m\u001b[0;34m\u001b[0m\u001b[0m\n\u001b[0m\u001b[1;32m     51\u001b[0m     \u001b[0;31m# get position and velocities of all selected GCs & convert to galpy units\u001b[0m\u001b[0;34m\u001b[0m\u001b[0;34m\u001b[0m\u001b[0m\n\u001b[1;32m     52\u001b[0m     \u001b[0;34m(\u001b[0m\u001b[0mR_kpc\u001b[0m\u001b[0;34m,\u001b[0m \u001b[0mphi_rad\u001b[0m\u001b[0;34m,\u001b[0m \u001b[0mz_kpc\u001b[0m\u001b[0;34m)\u001b[0m\u001b[0;34m,\u001b[0m \u001b[0;34m(\u001b[0m\u001b[0mvR_kms\u001b[0m\u001b[0;34m,\u001b[0m \u001b[0mvphi_kms\u001b[0m\u001b[0;34m,\u001b[0m \u001b[0mvz_kms\u001b[0m\u001b[0;34m)\u001b[0m \u001b[0;34m=\u001b[0m \u001b[0mget_cylindrical_vectors\u001b[0m\u001b[0;34m(\u001b[0m\u001b[0ms\u001b[0m\u001b[0;34m,\u001b[0m \u001b[0msf\u001b[0m\u001b[0;34m,\u001b[0m \u001b[0mi_test_GCs\u001b[0m\u001b[0;34m)\u001b[0m\u001b[0;34m\u001b[0m\u001b[0m\n",
      "\u001b[0;31mNameError\u001b[0m: name 'used_IDs' is not defined"
     ]
    }
   ],
   "source": [
    "startsnap = 73\n",
    "endsnap = 127\n",
    "actionmatrix = np.array([]) # should result in: action * GC * time\n",
    "lookback_time_Gyr = []\n",
    "\n",
    "jR_mean = []\n",
    "lz_mean = []\n",
    "jz_mean =[]\n",
    "jR_std = []\n",
    "lz_std =[]\n",
    "jz_std = []\n",
    "\n",
    "for snapnr in range(startsnap, endsnap + 1,1):\n",
    "    i_snap = snapnr - startsnap \n",
    "    snapnnum, R0_kpc, v0_kms, a_MND_kpc, b_MND_kpc, a_HB_kpc, a_NFWH_kpc, v0_MND_kms, v0_HB_kms, v0_NFWH_kms = np.loadtxt(filedir + 'potential_params/pot_snap_' + str(snapnr))\n",
    "    n_MND   = v0_MND_kms**2  / v0_kms**2\n",
    "    n_HB    = v0_HB_kms**2   / v0_kms**2\n",
    "    n_NFWH  = v0_NFWH_kms**2 / v0_kms**2\n",
    "\n",
    "    fix_R0_kpc = R0_kpc\n",
    "    fix_v0_kms = v0_kms\n",
    "\n",
    "    print(\"load stars of snap {0}\".format(snapnr))\n",
    "    s, sf = eat_snap_and_fof(level, halo_number, snapnr, snappath, loadonlytype=[4], \n",
    "        haloid=0, galradfac=0.1, verbose=True) \n",
    "\n",
    "    # Clean negative and zero values of gmet to avoid RuntimeErrors\n",
    "    # later on (e.g. dividing by zero)\n",
    "    s.data['gmet'] = np.maximum( s.data['gmet'], 1e-40 )\n",
    "\n",
    "    snap_time = s.cosmology_get_lookback_time_from_a( s.time, is_flat=True )\n",
    "    lookback_time_Gyr.append(snap_time)\n",
    "\n",
    "    try:\n",
    "        pot_galpy = setup_galpy_potential(a_MND_kpc, b_MND_kpc, a_NFWH_kpc, a_HB_kpc, n_MND, n_NFWH, n_HB, R0_kpc)\n",
    "    except:\n",
    "        print('For snap {} no potential can be set up.'.format(int(snapnr)))\n",
    "        filler1 = np.full(len(used_IDs), np.nan)\n",
    "        filler2 = np.full(len(used_IDs), np.nan)\n",
    "        actionmatrix = np.append(actionmatrix, [filler1, filler2, filler1])\n",
    "        jR_mean.append(np.mean(np.nan))\n",
    "        lz_mean.append(np.mean(np.nan))\n",
    "        jz_mean.append(np.mean(np.nan))\n",
    "        jR_std.append(np.std(np.nan))\n",
    "        lz_std.append(np.std(np.nan))\n",
    "        jz_std.append(np.std(np.nan))         \n",
    "        continue\n",
    "\n",
    "\n",
    "    i_test_GCs = np.isin(s.id, used_IDs)\n",
    "    # get position and velocities of all selected GCs & convert to galpy units\n",
    "    (R_kpc, phi_rad, z_kpc), (vR_kms, vphi_kms, vz_kms) = get_cylindrical_vectors(s, sf, i_test_GCs)\n",
    "    # convert physical to galpy units by dividing by REF vals (get velocities from best fit parameters)\n",
    "    R_galpy, vR_galpy, vT_galpy, z_galpy, vz_galpy = R_kpc / fix_R0_kpc, vR_kms / fix_v0_kms, vphi_kms / fix_v0_kms, z_kpc / fix_R0_kpc, vz_kms / fix_v0_kms\n",
    "\n",
    "    # estimate Delta of the Staeckel potential\n",
    "    delta = 0.45\n",
    "    delta = estimateDeltaStaeckel(pot_galpy, R_galpy, z_galpy)\n",
    "    # CHECK HOW BIG INFLUENCE OF DELTA IS\n",
    "\n",
    "\n",
    "    # set up the actionAngleStaeckel object\n",
    "    aAS = actionAngleStaeckel(\n",
    "            pot   = pot_galpy,  # potential\n",
    "            delta = delta,      # focal length of confocal coordinate system\n",
    "            c     = True        # use C code (for speed)\n",
    "            )\n",
    "\n",
    "\n",
    "    jR_galpy, lz_galpy, jz_galpy, r_kpc = np.zeros(num_GCs), np.zeros(num_GCs), np.zeros(num_GCs), np.zeros(num_GCs)\n",
    "    savedIDs = np.zeros(num_GCs)\n",
    "    IDs_notworking = []\n",
    "\n",
    "\n",
    "    for test_i, item in enumerate(used_IDs):\n",
    "        '''        \n",
    "        if (test_i % 1000) == 0:\n",
    "            print(datetime.datetime.now().time())\n",
    "            print(test_i)\n",
    "        '''\n",
    "        try: \n",
    "            jR_galpy[test_i], lz_galpy[test_i], jz_galpy[test_i] = aAS(R_galpy[test_i], vR_galpy[test_i], vT_galpy[test_i], z_galpy[test_i], vz_galpy[test_i])\n",
    "            r_kpc[test_i] = np.sqrt(R_kpc[test_i]**2 + z_kpc[test_i]**2)\n",
    "            savedIDs[test_i] = item\n",
    "        except(ValueError, UnboundError):\n",
    "            IDs_notworking.append(item)\n",
    "            continue\n",
    "    print('numbers of GCs wo actions:', len(IDs_notworking))\n",
    "    jR_kpckms, lz_kpckms, jz_kpckms = jR_galpy * fix_R0_kpc * fix_v0_kms, lz_galpy * fix_R0_kpc * fix_v0_kms, jz_galpy * fix_R0_kpc * fix_v0_kms\n",
    "    \n",
    "    # just pick result values of particles of which I actually could calculate actions\n",
    "    nonsurvivor_id_mask = np.isin(used_IDs, IDs_notworking)\n",
    "    survivor_id_mask = np.isin(used_IDs, savedIDs)\n",
    "    \n",
    "    \n",
    "    jR_kpckms = np.where(survivor_id_mask, jR_kpckms, np.nan)\n",
    "    jz_kpckms = np.where(survivor_id_mask, jz_kpckms, np.nan)\n",
    "    lz_kpckms = np.where(survivor_id_mask, lz_kpckms, np.nan)\n",
    "    \n",
    "    #jR_kpckms, lz_kpckms, jz_kpckms = jR_kpckms[survivor_id_mask], lz_kpckms[survivor_id_mask], jz_kpckms[survivor_id_mask]\n",
    "    r_kpc = r_kpc[survivor_id_mask]\n",
    "    print(jR_kpckms)\n",
    "    survivor_IDs = used_IDs[survivor_id_mask]\n",
    "    actionmatrix = np.append(actionmatrix, [jR_kpckms, lz_kpckms, jz_kpckms])\n",
    "    jR_mean.append(np.nanmean(jR_kpckms))\n",
    "    lz_mean.append(np.nanmean(lz_kpckms))\n",
    "    jz_mean.append(np.nanmean(jz_kpckms))\n",
    "    jR_std.append(np.nanstd(jR_kpckms))\n",
    "    lz_std.append(np.nanstd(lz_kpckms))\n",
    "    jz_std.append(np.nanstd(jz_kpckms))    \n",
    "    ### TO DO:  if GC wo action add -99 values"
   ]
  },
  {
   "cell_type": "code",
   "execution_count": null,
   "metadata": {
    "collapsed": true
   },
   "outputs": [],
   "source": [
    "print(actionmatrix)\n",
    "print(np.shape(actionmatrix))"
   ]
  },
  {
   "cell_type": "code",
   "execution_count": null,
   "metadata": {
    "collapsed": true
   },
   "outputs": [],
   "source": [
    "len(jR_mean)"
   ]
  },
  {
   "cell_type": "code",
   "execution_count": null,
   "metadata": {
    "collapsed": true
   },
   "outputs": [],
   "source": [
    "finalmatrix= np.reshape(actionmatrix,(14,3,61), order='F')\n",
    "jR_all = finalmatrix[:, 0]\n",
    "lz_all = finalmatrix[:, 1]\n",
    "jz_all = finalmatrix[:, 2]"
   ]
  },
  {
   "cell_type": "code",
   "execution_count": 7,
   "metadata": {
    "scrolled": false
   },
   "outputs": [
    {
     "ename": "NameError",
     "evalue": "name 'jR_all' is not defined",
     "output_type": "error",
     "traceback": [
      "\u001b[0;31m---------------------------------------------------------------------------\u001b[0m",
      "\u001b[0;31mNameError\u001b[0m                                 Traceback (most recent call last)",
      "\u001b[0;32m<ipython-input-7-c0b744315625>\u001b[0m in \u001b[0;36m<module>\u001b[0;34m()\u001b[0m\n\u001b[1;32m      1\u001b[0m \u001b[0mfig\u001b[0m\u001b[0;34m,\u001b[0m \u001b[0max\u001b[0m \u001b[0;34m=\u001b[0m \u001b[0mplt\u001b[0m\u001b[0;34m.\u001b[0m\u001b[0msubplots\u001b[0m\u001b[0;34m(\u001b[0m\u001b[0;36m3\u001b[0m\u001b[0;34m,\u001b[0m\u001b[0;36m1\u001b[0m\u001b[0;34m,\u001b[0m \u001b[0msharex\u001b[0m\u001b[0;34m=\u001b[0m\u001b[0;32mTrue\u001b[0m\u001b[0;34m,\u001b[0m \u001b[0mfigsize\u001b[0m\u001b[0;34m=\u001b[0m\u001b[0;34m(\u001b[0m\u001b[0;36m15\u001b[0m\u001b[0;34m,\u001b[0m\u001b[0;36m15\u001b[0m\u001b[0;34m)\u001b[0m\u001b[0;34m)\u001b[0m\u001b[0;34m\u001b[0m\u001b[0m\n\u001b[1;32m      2\u001b[0m \u001b[0;34m\u001b[0m\u001b[0m\n\u001b[0;32m----> 3\u001b[0;31m \u001b[0mnum_GCs\u001b[0m \u001b[0;34m=\u001b[0m \u001b[0mlen\u001b[0m\u001b[0;34m(\u001b[0m\u001b[0mjR_all\u001b[0m\u001b[0;34m)\u001b[0m\u001b[0;34m\u001b[0m\u001b[0m\n\u001b[0m\u001b[1;32m      4\u001b[0m \u001b[0;34m\u001b[0m\u001b[0m\n\u001b[1;32m      5\u001b[0m \u001b[0;32mfor\u001b[0m \u001b[0mi\u001b[0m \u001b[0;32min\u001b[0m \u001b[0mrange\u001b[0m\u001b[0;34m(\u001b[0m\u001b[0mnum_GCs\u001b[0m\u001b[0;34m)\u001b[0m\u001b[0;34m:\u001b[0m\u001b[0;34m\u001b[0m\u001b[0m\n",
      "\u001b[0;31mNameError\u001b[0m: name 'jR_all' is not defined"
     ]
    },
    {
     "data": {
      "image/png": "[encoded data removed]",
      "text/plain": [
       "<matplotlib.figure.Figure at 0x2b5d856ca240>"
      ]
     },
     "metadata": {
      "image/png": {
       "height": 850,
       "width": 882
      }
     },
     "output_type": "display_data"
    }
   ],
   "source": [
    "fig, ax = plt.subplots(3,1, sharex=True, figsize=(15,15))\n",
    "\n",
    "num_GCs = len(jR_all)\n",
    "\n",
    "for i in range(num_GCs):\n",
    "    color = list(np.random.random( size=3))\n",
    "\n",
    "\n",
    "    ax[0].plot(lookback_time_Gyr, jR_all[i], color = color, marker = '.', linestyle='None')\n",
    "    ax[0].set_xlim(np.max(lookback_time_Gyr), np.min(lookback_time_Gyr))\n",
    "    ax[0].set_ylim(0,15000)\n",
    "\n",
    "    ax[1].plot(lookback_time_Gyr, lz_all[i], color = color, marker = '.', linestyle='None')\n",
    "    ax[1].set_xlim(np.max(lookback_time_Gyr), np.min(lookback_time_Gyr))\n",
    "    ax[1].set_ylim(-5000,5000)\n",
    "    ax[2].plot(lookback_time_Gyr, jz_all[i], color = color, marker = '.', linestyle='None')\n",
    "    ax[2].set_xlim(np.max(lookback_time_Gyr), np.min(lookback_time_Gyr))\n",
    "    ax[2].set_ylim(0,None)\n",
    "\n",
    "#ax[0].set_xlabel('lookback time [Gyr]')\n",
    "#ax[1].set_xlabel('lookback time [Gyr]')\n",
    "ax[2].set_xlabel('lookback time [Gyr]', fontsize = 20)\n",
    "\n",
    "ax[0].plot(lookback_time_Gyr, jR_mean, 'r-')\n",
    "ax[0].plot(lookback_time_Gyr, np.add(jR_mean, jR_std), '-', alpha = 0.5, color = 'lightred')\n",
    "ax[0].plot(lookback_time_Gyr, np.subtract(jR_mean, jR_std), '-', alpha = 0.5, color = 'lightred')\n",
    "ax[0].set_xlim(np.max(lookback_time_Gyr), np.min(lookback_time_Gyr))\n",
    "ax[0].set_ylim(0,15000)\n",
    "\n",
    "ax[1].plot(lookback_time_Gyr, lz_mean, 'r-')\n",
    "ax[1].plot(lookback_time_Gyr, np.add(lz_mean, lz_std), '-', alpha = 0.5, color = 'lightred')\n",
    "ax[1].plot(lookback_time_Gyr, np.subtract(lz_mean, lz_std), '-', alpha = 0.5, color = 'lightred')\n",
    "ax[1].set_xlim(np.max(lookback_time_Gyr), np.min(lookback_time_Gyr))\n",
    "\n",
    "ax[2].plot(lookback_time_Gyr, jz_mean, 'r-')\n",
    "ax[2].plot(lookback_time_Gyr, np.add(jz_mean, jz_std), '-', alpha = 0.5, color = 'lightred')\n",
    "ax[2].plot(lookback_time_Gyr, np.subtract(jz_mean, jz_std), '-', alpha = 0.5, color = 'lightred')\n",
    "\n",
    "ax[0].set_ylabel('jR [kpc km/s]', fontsize = 20)\n",
    "ax[1].set_ylabel('lz [kpc km/s]', fontsize = 20)\n",
    "ax[2].set_ylabel('jz [kpc km/s]', fontsize = 20)\n",
    "fig.tight_layout()\n",
    "#fig.savefig(plotdir + 'merger_67_small_box_action_evolution_with_errros.png', dpi = 300, format = 'png')\n",
    "#ax[0].axvline(3.8, color = 'blue', linewidth=4, alpha =0.2)\n",
    "#ax[1].axvline(3.8, color = 'blue', linewidth=4, alpha =0.2)\n",
    "#ax[2].axvline(3.8, color = 'blue', linewidth=4, alpha =0.2)"
   ]
  },
  {
   "cell_type": "code",
   "execution_count": null,
   "metadata": {
    "collapsed": true
   },
   "outputs": [],
   "source": [
    "fig.savefig(plotdir + 'merger_67_small_box_action_evolution_with_errros.png', dpi = 300, format = 'png')"
   ]
  },
  {
   "cell_type": "code",
   "execution_count": null,
   "metadata": {
    "collapsed": true
   },
   "outputs": [],
   "source": [
    "for i in (wrong):\n",
    "    break"
   ]
  },
  {
   "cell_type": "code",
   "execution_count": null,
   "metadata": {
    "collapsed": true,
    "scrolled": true
   },
   "outputs": [],
   "source": [
    "a_NFWH_arr = np.arange(10,41,1)\n",
    "mean_jR_kpckms = []\n",
    "std_jR_kpckms  = []\n",
    "skew_jR_kpckms = []\n",
    "mean_jz_kpckms = []\n",
    "std_jz_kpckms  = []\n",
    "skew_jz_kpckms = []\n",
    "covs_jR_jz = []\n",
    "for var_a_NFW_kpc in a_NFWH_arr:\n",
    "    print(\"a_NFW = {}\".format(var_a_NFW_kpc))\n",
    "    # set up galpy potential with values of potential fitting (either smoothed or not, depends on commenting out or not)\n",
    "    try:\n",
    "        pot_galpy = setup_galpy_potential(fix_a_MND_kpc, fix_b_MND_kpc, var_a_NFW_kpc, fix_a_HB_kpc, fix_n_MND, fix_n_NFWH, fix_n_HB, fix_R0_kpc)\n",
    "    except:\n",
    "        mean_jR_kpckms.append(-99.)\n",
    "        std_jR_kpckms.append(-99.)\n",
    "        mean_lz_kpckms.append(-99.)\n",
    "        std_lz_kpckms.append(-99.)\n",
    "        mean_jz_kpckms.append(-99.)\n",
    "        std_jz_kpckms.append(-99.)\n",
    "        print('For a_NFW = {:d} no potential can be set up.'.format(var_a_NFW_kpc) )\n",
    "        continue\n",
    "    # this would mean that there are no merged GCs\n",
    "    if np.sum(i_test_GCs) == 0:\n",
    "        print(\"skipped this step\")\n",
    "        #continue\n",
    "\n",
    "    # get position and velocities of all selected GCs & convert to galpy units\n",
    "    (R_kpc, phi_rad, z_kpc), (vR_kms, vphi_kms, vz_kms) = get_cylindrical_vectors(s, sf, i_test_GCs)\n",
    "    # convert physical to galpy units by dividing by REF vals (get velocities from best fit parameters)\n",
    "    R_galpy, vR_galpy, vT_galpy, z_galpy, vz_galpy = R_kpc / fix_R0_kpc, vR_kms / fix_v0_kms, vphi_kms / fix_v0_kms, z_kpc / fix_R0_kpc, vz_kms / fix_v0_kms\n",
    "\n",
    "    # estimate Delta of the Staeckel potential\n",
    "    delta = 0.45\n",
    "    delta = estimateDeltaStaeckel(pot_galpy, R_galpy, z_galpy)\n",
    "    # CHECK HOW BIG INFLUENCE OF DELTA IS\n",
    "\n",
    "\n",
    "    # set up the actionAngleStaeckel object\n",
    "    aAS = actionAngleStaeckel(\n",
    "            pot   = pot_galpy,  # potential\n",
    "            delta = delta,      # focal length of confocal coordinate system\n",
    "            c     = True        # use C code (for speed)\n",
    "            )\n",
    "\n",
    "\n",
    "    jR_galpy, lz_galpy, jz_galpy, r_kpc = np.zeros(num_GCs), np.zeros(num_GCs), np.zeros(num_GCs), np.zeros(num_GCs)\n",
    "    savedIDs = np.zeros(num_GCs)\n",
    "    IDs_notworking = []\n",
    "\n",
    "\n",
    "    for test_i, item in enumerate(used_IDs):\n",
    "        '''        \n",
    "        if (test_i % 1000) == 0:\n",
    "            print(datetime.datetime.now().time())\n",
    "            print(test_i)\n",
    "        '''\n",
    "        try: \n",
    "            jR_galpy[test_i], lz_galpy[test_i], jz_galpy[test_i] = aAS(R_galpy[test_i], vR_galpy[test_i], vT_galpy[test_i], z_galpy[test_i], vz_galpy[test_i])\n",
    "            r_kpc[test_i] = np.sqrt(R_kpc[test_i]**2 + z_kpc[test_i]**2)\n",
    "            savedIDs[test_i] = item\n",
    "        except(ValueError, UnboundError):\n",
    "            IDs_notworking.append(item)\n",
    "            continue\n",
    "    print('numbers of GCs wo actions:', len(IDs_notworking))\n",
    "    jR_kpckms, lz_kpckms, jz_kpckms = jR_galpy * fix_R0_kpc * fix_v0_kms, lz_galpy * fix_R0_kpc * fix_v0_kms, jz_galpy * fix_R0_kpc * fix_v0_kms\n",
    "\n",
    "    # just pick result values of particles of which I actually could calculate actions\n",
    "    survivor_id_mask = np.isin(used_IDs, savedIDs)\n",
    "    jR_kpckms, lz_kpckms, jz_kpckms = jR_kpckms[survivor_id_mask], lz_kpckms[survivor_id_mask], jz_kpckms[survivor_id_mask]\n",
    "    r_kpc = r_kpc[survivor_id_mask]\n",
    "    survivor_IDs = used_IDs[survivor_id_mask]\n",
    "\n",
    "    mean_jR_kpckms.append(np.mean(jR_kpckms))\n",
    "    std_jR_kpckms.append(np.std(jR_kpckms))\n",
    "    skew_jR_kpckms.append(stats.skew(jR_kpckms))\n",
    "    mean_jz_kpckms.append(np.mean(jz_kpckms))\n",
    "    std_jz_kpckms.append(np.std(jz_kpckms))\n",
    "    skew_jz_kpckms.append(stats.skew(jz_kpckms))\n",
    "    cov_jR_jz = np.cov(jR_kpckms, jz_kpckms)\n",
    "    covs_jR_jz.append(cov_jR_jz)\n",
    "    \n",
    "    nstd = 2\n",
    "    ax = plt.subplot(111)\n",
    "\n",
    "    #cov = np.cov(x, y)\n",
    "    vals, vecs = eigsorted(cov_jR_jz)\n",
    "    theta = np.degrees(np.arctan2(*vecs[:,0][::-1]))\n",
    "    w, h = 2 * nstd * np.sqrt(vals)\n",
    "    ell = Ellipse(xy=(np.mean(jR_kpckms), np.mean(jz_kpckms)),\n",
    "                  width=w, height=h,\n",
    "                  angle=theta, color='black')\n",
    "    ell.set_facecolor('none')\n",
    "    ax.add_artist(ell)\n",
    "    plt.hist2d(jR_kpckms, jz_kpckms, bins = 5)\n",
    "    plt.xlabel('jR [kpc/km/s]')\n",
    "    plt.ylabel('jz [kpc/km/s]')\n",
    "    plt.show()"
   ]
  },
  {
   "cell_type": "code",
   "execution_count": null,
   "metadata": {
    "collapsed": true
   },
   "outputs": [],
   "source": []
  },
  {
   "cell_type": "code",
   "execution_count": null,
   "metadata": {
    "collapsed": true,
    "scrolled": false
   },
   "outputs": [],
   "source": [
    "# goal plot\n",
    "fig, (ax1, ax2) = plt.subplots(2, 1, sharex=True, figsize = (15,10))\n",
    "\n",
    "ax1.plot(a_NFWH_arr, np.array(skew_jR_kpckms), 'k.')\n",
    "ax1.plot(init_a_NFWH_kpc, init_skew_jR_kpckms, marker = '+', color = 'red')\n",
    "#ax1.xlabel('a$_{NFW}$')\n",
    "ax1.set_yscale(\"log\", nonposy='clip')\n",
    "#ax1.hlines(init_mean_jR_kpckms, 0, np.max(a_NFWH_arr)+1, color = 'red', alpha = 0.5)\n",
    "ax1.set_ylim(1, 10)\n",
    "\n",
    "ax1.set_ylabel('skewness of j$_R$', size = 'x-large')\n",
    "#plt.show()\n",
    "\n",
    "\n",
    "ax2.plot(a_NFWH_arr, skew_jz_kpckms, 'k.')\n",
    "ax2.plot(init_a_NFWH_kpc, init_skew_jz_kpckms, marker = '+', color = 'red')\n",
    "#ax2.hlines(init_mean_jz_kpckms, 0, np.max(a_NFWH_arr)+1, color = 'red', alpha = 0.5)\n",
    "\n",
    "ax2.set_xlabel('a$_{NFW}$ [kpc]', size = 'x-large')\n",
    "#ax2.set_yscale(\"log\", nonposy='clip')\n",
    "ax2.set_ylim(1.615, 1.625)\n",
    "ax2.set_ylabel('skewness of j$_z$', size = 'x-large')\n",
    "#plt.show()\n",
    "\n",
    "fig.tight_layout()\n",
    "\n",
    "fig.savefig(plotdir + 'a_NFW_diagnostic_plot_skewness_small_box.png', dpi = 300, format = 'png')"
   ]
  },
  {
   "cell_type": "code",
   "execution_count": null,
   "metadata": {
    "collapsed": true
   },
   "outputs": [],
   "source": [
    "print(np.min(skew_jz_kpckms), np.max(skew_jz_kpckms))"
   ]
  },
  {
   "cell_type": "code",
   "execution_count": null,
   "metadata": {
    "collapsed": true
   },
   "outputs": [],
   "source": [
    "fig, (ax1, ax2) = plt.subplots(2, 1, sharex=True, figsize = (15,10))\n",
    "\n",
    "ax1.plot(a_NFWH_arr, std_jR_kpckms, marker = '.', color = 'black', linestyle = None)\n",
    "ax1.plot(init_a_NFWH_kpc, init_std_jR_kpckms, marker = '+', color = 'red')\n",
    "#ax1.xlabel('a$_{NFW}$')\n",
    "#ax1.set_yscale(\"log\", nonposy='clip')\n",
    "#ax1.hlines(init_mean_jR_kpckms, 0, np.max(a_NFWH_arr)+1, color = 'red', alpha = 0.5)\n",
    "#ax1.set_ylim(10, None)\n",
    "\n",
    "ax1.set_ylabel('std j$_R$ [kpc/km/s]', size = 'x-large')\n",
    "#plt.show()\n",
    "\n",
    "\n",
    "ax2.plot(a_NFWH_arr,std_jz_kpckms, marker = '.', color = 'black')\n",
    "ax2.plot(init_a_NFWH_kpc, init_std_jz_kpckms, marker = '+', color = 'red')\n",
    "#ax2.hlines(init_mean_jz_kpckms, 0, np.max(a_NFWH_arr)+1, color = 'red', alpha = 0.5)\n",
    "\n",
    "ax2.set_xlabel('a$_{NFW}$ [kpc]', size = 'x-large')\n",
    "#ax2.set_yscale(\"log\", nonposy='clip')\n",
    "#ax2.set_ylim(0, None)\n",
    "ax2.set_ylabel('std j$_z$ [kpc/km/s]', size = 'x-large')\n",
    "#plt.show()\n",
    "\n",
    "fig.tight_layout()\n",
    "\n",
    "fig.savefig(plotdir + 'a_67_NFW_diagnostic_plot_std_small_box.png', dpi = 300, format = 'png')"
   ]
  },
  {
   "cell_type": "code",
   "execution_count": null,
   "metadata": {
    "collapsed": true,
    "scrolled": false
   },
   "outputs": [],
   "source": [
    "fig, (ax1, ax2) = plt.subplots(2, 1, sharex=True, figsize = (15,10))\n",
    "\n",
    "ax1.errorbar(a_NFWH_arr, np.array(mean_jR_kpckms), yerr = np.array(std_jR_kpckms), marker = '.', color = 'black', linestyle = None)\n",
    "ax1.errorbar(init_a_NFWH_kpc, init_mean_jR_kpckms, init_std_jR_kpckms, marker = '+', color = 'red')\n",
    "#ax1.xlabel('a$_{NFW}$')\n",
    "ax1.set_yscale(\"log\", nonposy='clip')\n",
    "ax1.hlines(init_mean_jR_kpckms, 0, np.max(a_NFWH_arr)+1, color = 'red', alpha = 0.5)\n",
    "ax1.set_ylim(10, None)\n",
    "\n",
    "ax1.set_ylabel('mean j$_R$ [kpc/km/s]', size = 'x-large')\n",
    "#plt.show()\n",
    "\n",
    "\n",
    "ax2.errorbar(a_NFWH_arr, mean_jz_kpckms, yerr = std_jz_kpckms, marker = '.', color = 'black')\n",
    "ax2.errorbar(init_a_NFWH_kpc, init_mean_jz_kpckms, init_std_jz_kpckms, marker = '+', color = 'red')\n",
    "ax2.hlines(init_mean_jz_kpckms, 0, np.max(a_NFWH_arr)+1, color = 'red', alpha = 0.5)\n",
    "\n",
    "ax2.set_xlabel('a$_{NFW}$ [kpc]', size = 'x-large')\n",
    "#ax2.set_yscale(\"log\", nonposy='clip')\n",
    "ax2.set_ylim(0, None)\n",
    "ax2.set_ylabel('mean j$_z$ [kpc/km/s]', size = 'x-large')\n",
    "#plt.show()\n",
    "\n",
    "fig.tight_layout()\n",
    "\n",
    "fig.savefig(plotdir + 'a_NFW_diagnostic_plot_mean_std_small_box.png', dpi = 300, format = 'png')"
   ]
  },
  {
   "cell_type": "code",
   "execution_count": null,
   "metadata": {
    "collapsed": true
   },
   "outputs": [],
   "source": [
    "covs_jR_jz"
   ]
  },
  {
   "cell_type": "code",
   "execution_count": null,
   "metadata": {
    "collapsed": true,
    "scrolled": false
   },
   "outputs": [],
   "source": [
    "# try to show covariance matrix\n",
    "for i in range(len(covs_jR_jz)):\n",
    "    # plot correlation matrix\n",
    "    fig = plt.figure()\n",
    "    ax = fig.add_subplot(111)\n",
    "    cax = ax.matshow(covs_jR_jz[i], norm = LogNorm())\n",
    "    fig.colorbar(cax)\n",
    "    ax.set_title('a_NFWH = {} kpc'.format(a_NFWH_arr[i]))\n",
    "    plt.show()"
   ]
  },
  {
   "cell_type": "code",
   "execution_count": null,
   "metadata": {
    "collapsed": true
   },
   "outputs": [],
   "source": [
    "\n",
    "\n",
    "nstd = 2\n",
    "ax = plt.subplot(111)\n",
    "\n",
    "#cov = np.cov(x, y)\n",
    "vals, vecs = eigsorted(covs_jR_jz[-1])\n",
    "theta = np.degrees(np.arctan2(*vecs[:,0][::-1]))\n",
    "w, h = 2 * nstd * np.sqrt(vals)\n",
    "ell = Ellipse(xy=(mean_jR_kpckms[-1], mean_jz_kpckms[-1]),\n",
    "              width=w, height=h,\n",
    "              angle=theta, color='black')\n",
    "ell.set_facecolor('none')\n",
    "ax.add_artist(ell)\n",
    "plt.hist2d(jR_kpckms, jz_kpckms, bins = 41)\n",
    "plt.xlabel('jR [kpc/km/s]')\n",
    "plt.ylabel('jz [kpc/km/s]')\n",
    "plt.title('a_NFWH = {} kpc'.format(a_NFWH_arr[-1]))\n",
    "plt.show()"
   ]
  },
  {
   "cell_type": "code",
   "execution_count": null,
   "metadata": {
    "collapsed": true
   },
   "outputs": [],
   "source": [
    "nstd = 2\n",
    "ax = plt.subplot(111)\n",
    "\n",
    "#cov = np.cov(x, y)\n",
    "vals, vecs = eigsorted(init_cov_jR_jz)\n",
    "theta = np.degrees(np.arctan2(*vecs[:,0][::-1]))\n",
    "w, h = 2 * nstd * np.sqrt(vals)\n",
    "ell = Ellipse(xy=(init_mean_jR_kpckms, init_mean_jz_kpckms),\n",
    "              width=w, height=h,\n",
    "              angle=theta, color='black')\n",
    "ell.set_facecolor('none')\n",
    "ax.add_artist(ell)\n",
    "plt.hist2d(init_jR_kpckms, init_jz_kpckms, bins = 41)\n",
    "plt.xlabel('jR [kpc/km/s]')\n",
    "plt.ylabel('jz [kpc/km/s]')\n",
    "plt.title('a_NFWH = {} kpc'.format(init_a_NFWH_kpc))\n",
    "plt.show()"
   ]
  },
  {
   "cell_type": "code",
   "execution_count": null,
   "metadata": {
    "collapsed": true
   },
   "outputs": [],
   "source": [
    "# calculate concentration\n",
    "M200 = sf.data['fmc2'][0] #M200\n",
    "R200 = sf.data['frc2'][0] #R200\n",
    "a = init_a_NFWH_kpc\n",
    "c = a/R200"
   ]
  },
  {
   "cell_type": "code",
   "execution_count": null,
   "metadata": {
    "collapsed": true
   },
   "outputs": [],
   "source": [
    "c "
   ]
  },
  {
   "cell_type": "code",
   "execution_count": null,
   "metadata": {
    "collapsed": true
   },
   "outputs": [],
   "source": []
  }
 ],
 "metadata": {
  "kernelspec": {
   "display_name": "Python 3",
   "language": "python",
   "name": "python3"
  },
  "language_info": {
   "codemirror_mode": {
    "name": "ipython",
    "version": 3
   },
   "file_extension": ".py",
   "mimetype": "text/x-python",
   "name": "python",
   "nbconvert_exporter": "python",
   "pygments_lexer": "ipython3",
   "version": "3.6.3"
  }
 },
 "nbformat": 4,
 "nbformat_minor": 2
}
