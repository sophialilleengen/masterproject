{
 "cells": [
  {
   "cell_type": "code",
   "execution_count": 96,
   "metadata": {},
   "outputs": [
    {
     "name": "stdout",
     "output_type": "stream",
     "text": [
      "galpyWarning: actionAngleAdiabatic_c extension module not loaded, because of error '/home/extmilan/anaconda3/lib/python3.6/site-packages/galpy-1.3.dev0-py3.6-linux-x86_64.egg/galpy_actionAngle_c.cpython-36m-x86_64-linux-gnu.so: undefined symbol: gsl_integration_glfixed_table_alloc' \n",
      "galpyWarning: actionAngleStaeckel_c extension module not loaded, because of error '/home/extmilan/anaconda3/lib/python3.6/site-packages/galpy-1.3.dev0-py3.6-linux-x86_64.egg/galpy_actionAngle_c.cpython-36m-x86_64-linux-gnu.so: undefined symbol: gsl_integration_glfixed_table_alloc' \n",
      "galpyWarning: actionAngleTorus_c extension module not loaded, because galpy_actionAngleTorus_c.cpython-36m-x86_64-linux-gnu.so image was not found\n"
     ]
    }
   ],
   "source": [
    "import numpy as np\n",
    "\n",
    "import matplotlib.pyplot as plt\n",
    "from matplotlib.colors import LogNorm\n",
    "\n",
    "from galpy.potential import MiyamotoNagaiPotential, HernquistPotential, NFWPotential\n",
    "from galpy.actionAngle import estimateDeltaStaeckel\n",
    "from areposnap.gadget import gadget_readsnap\n",
    "from areposnap.gadget_subfind import load_subfind\n",
    "\n",
    "from auriga_basics import *\n",
    "from auriga_functions import *\n",
    "\n",
    "%matplotlib inline"
   ]
  },
  {
   "cell_type": "code",
   "execution_count": 2,
   "metadata": {
    "collapsed": true
   },
   "outputs": [],
   "source": [
    "machine = 'mac'\n",
    "machine = 'magny'\n",
    "\n",
    "if machine == 'magny':\n",
    "    filedir = \"/home/extmilan/masterthesis/files/\"\n",
    "    basedir = \"/hits/universe/GigaGalaxy/level4_MHD/\"\n",
    "    plotdir = \"/home/extmilan/masterthesis/plots/\"\n",
    "elif machine == 'mac':\n",
    "    filedir = \"/Users/smilanov/Documents/masterthesis/auriga_files/files/\"\n",
    "    basedir = \"/Users/smilanov/Desktop/Auriga/level4/\"\n",
    "else:\n",
    "    raise NotADirectoryError"
   ]
  },
  {
   "cell_type": "code",
   "execution_count": 23,
   "metadata": {
    "scrolled": false
   },
   "outputs": [
    {
     "name": "stdout",
     "output_type": "stream",
     "text": [
      "76\n",
      "[ 16.47659492  15.88422775  17.06827354]\n"
     ]
    }
   ],
   "source": [
    "halo_number = 24  # range(1, 31):\n",
    "halodir = basedir + \"halo_{0}/\".format(halo_number)\n",
    "snappath = halodir + \"output/\"\n",
    "level = 4\n",
    "#### action time evolution\n",
    "startnr = 76\n",
    "endnr = 77\n",
    "\n",
    "lookback_time_Gyr = []\n",
    "jR_mean = []\n",
    "jR_std = []\n",
    "jz_mean = []\n",
    "jz_std = []\n",
    "lz_mean = []\n",
    "lz_std = []\n",
    "#jR_all = []]\n",
    "#jz_all = []\n",
    "#lz_all = []\n",
    "for snap_number in range(startnr, endnr, 1):\n",
    "    print(snap_number)\n",
    "    s, sf = eat_snap_and_fof(level, halo_number, snap_number, snappath, loadonlytype=[4], \n",
    "        haloid=0, galradfac=0.1, verbose=False, rotate_disk=0, use_principal_axis=0, euler_rotation=0, use_cold_gas_spin=0, do_rotation=0) \n",
    "\n",
    "    # Clean negative and zero values of gmet to avoid RuntimeErrors\n",
    "    # later on (e.g. dividing by zero)\n",
    "    #s.data['gmet'] = np.maximum( s.data['gmet'], 1e-40 ) \n",
    "\n",
    "    snap_time = s.cosmology_get_lookback_time_from_a( s.time, is_flat=True )\n",
    "    lookback_time_Gyr.append(snap_time)\n",
    "    infile = '/home/extmilan/masterthesis/files/actions_merger_73_9728_parts_snap_' +str(snap_number)+ '_nonsmoothed_pot_params.txt'\n",
    "    ids, r, jR_kpckms, lz_kpckms, jz_kpckms = np.loadtxt(infile)\n",
    "\n"
   ]
  },
  {
   "cell_type": "code",
   "execution_count": 24,
   "metadata": {},
   "outputs": [
    {
     "name": "stdout",
     "output_type": "stream",
     "text": [
      "level   : 4\n",
      "halo    : 24\n",
      "snapnr  : 76\n",
      "basedir : /hits/universe/GigaGalaxy/level4_MHD/\n",
      "halodir : /hits/universe/GigaGalaxy/level4_MHD/halo_24/\n",
      "snappath: /hits/universe/GigaGalaxy/level4_MHD/halo_24/output/\n",
      "\n",
      "[ 16.47659492  15.88422775  17.06827354]\n",
      "Found 817842 stars.\n",
      "Rotated pos.\n",
      "Rotated vel.\n",
      "\n",
      "galrad  : 0.014894464612007143\n",
      "redshift: 1.074457894547674\n",
      "time    : 0.4820536500780824\n",
      "center  : [ 0.  0.  0.]\n",
      "\n"
     ]
    }
   ],
   "source": [
    "level = 4\n",
    "if machine == 'magny':\n",
    "    filedir = \"/home/extmilan/masterthesis/files/\"\n",
    "    basedir = \"/hits/universe/GigaGalaxy/level4_MHD/\"\n",
    "    plotdir = \"/home/extmilan/masterthesis/plots/\"\n",
    "elif machine == 'mac':\n",
    "    filedir = \"/Users/smilanov/Documents/masterthesis/auriga_files/files/\"\n",
    "    basedir = \"/Users/smilanov/Desktop/Auriga/level4/\"\n",
    "    plotdir = \"/Users/smilanov/Documents/masterthesis/auriga_files/plots/\"\n",
    "else:\n",
    "    raise NotADirectoryError\n",
    "j = 0\n",
    "for halo_number in [24]:  # range(1, 31):\n",
    "    halodir = basedir+\"halo_{0}/\".format(halo_number)\n",
    "    snappath = halodir+\"output/\"\n",
    "    for snapnr in range(76,77,1):\n",
    "        print(\"level   : {0}\".format(level))\n",
    "        print(\"halo    : {0}\".format(halo_number))\n",
    "        print(\"snapnr  : {0}\".format(snapnr))\n",
    "        print(\"basedir : {0}\".format(basedir))\n",
    "        print(\"halodir : {0}\".format(halodir))\n",
    "        print(\"snappath: {0}\\n\".format(snappath))\n",
    "        s, sf = eat_snap_and_fof(level, halo_number, snapnr, snappath, loadonlytype=[4], \n",
    "            haloid=0, galradfac=0.1, verbose=True) \n",
    "\n",
    "        # Clean negative and zero values of gmet to avoid RuntimeErrors\n",
    "        # later on (e.g. dividing by zero)\n",
    "        s.data['gmet'] = np.maximum( s.data['gmet'], 1e-40 )"
   ]
  },
  {
   "cell_type": "code",
   "execution_count": 61,
   "metadata": {
    "collapsed": true
   },
   "outputs": [],
   "source": [
    "i_all, = np.where((s.type == 4) & (s.r() >0.) & (s.halo == 0))\n",
    "i_all_GCs = np.isin(s.id, ids)\n",
    "(x_kpc, y_kpc, z_kpc), (vx_kms, vy_kms, vz_kms), rxyz_kpc, rxy_kpc = get_cartesian_vectors(s, sf, i_all)\n",
    "(R_kpc, phi_rad, z_kpc), (vR_kms, vphi_kms, vz_kms) = get_cylindrical_vectors(s, sf, i_all)\n"
   ]
  },
  {
   "cell_type": "code",
   "execution_count": 64,
   "metadata": {
    "scrolled": false
   },
   "outputs": [
    {
     "data": {
      "image/png": "[encoded data removed]",
      "text/plain": [
       "<matplotlib.figure.Figure at 0x2aac8b85b828>"
      ]
     },
     "metadata": {},
     "output_type": "display_data"
    },
    {
     "data": {
      "image/png": "[encoded data removed]",
      "text/plain": [
       "<matplotlib.figure.Figure at 0x2aac8819b0b8>"
      ]
     },
     "metadata": {},
     "output_type": "display_data"
    }
   ],
   "source": [
    "plt.hist2d(s.pos[i_all, 2], s.pos[i_all, 1], 201, norm = LogNorm(), cmap = plt.cm.binary)\n",
    "plt.show()\n",
    "plt.hist2d(x_kpc, y_kpc, 201, norm = LogNorm(), cmap = plt.cm.inferno)\n",
    "plt.aspect('equal')\n",
    "plt.show()"
   ]
  },
  {
   "cell_type": "markdown",
   "metadata": {},
   "source": [
    "x < 50kpc & x > 20 kpc\n",
    "-10 < y < 0"
   ]
  },
  {
   "cell_type": "code",
   "execution_count": 74,
   "metadata": {
    "collapsed": true
   },
   "outputs": [],
   "source": [
    "cond0, = np.where((s.type == 4) & (s.r() >0.) & (s.halo == 0) & (s.subhalo == 0))\n",
    "i_streams, = np.where( (x_kpc > 45.) & (x_kpc < 90.) & (y_kpc > 0.) & (y_kpc < 25.) )"
   ]
  },
  {
   "cell_type": "code",
   "execution_count": 75,
   "metadata": {},
   "outputs": [
    {
     "data": {
      "image/png": "[encoded data removed]",
      "text/plain": [
       "<matplotlib.figure.Figure at 0x2aaaf7567cc0>"
      ]
     },
     "metadata": {},
     "output_type": "display_data"
    }
   ],
   "source": [
    "plt.hist2d(x_kpc[i_streams], y_kpc[i_streams], 101, norm = LogNorm(), cmap = plt.cm.inferno)\n",
    "plt.show()"
   ]
  },
  {
   "cell_type": "code",
   "execution_count": 97,
   "metadata": {
    "collapsed": true
   },
   "outputs": [],
   "source": [
    "#_____function that sets-up galpy potential_____\n",
    "def setup_galpy_potential(a_MND_kpc, b_MND_kpc, a_NFWH_kpc, a_HB_kpc, n_MND, n_NFWH, n_HB, _REFR0_kpc):\n",
    "    \n",
    "    #test input:\n",
    "    if (a_MND_kpc <= 0.) or (b_MND_kpc <= 0.) or (a_NFWH_kpc <= 0.) or (a_HB_kpc <= 0.) \\\n",
    "       or (n_MND <= 0.) or (n_NFWH <= 0.) or (n_HB <= 0.) or (n_MND >= 1.) or (n_NFWH >= 1.) or (n_HB >= 1.):\n",
    "        raise ValueError('Error in setup_galpy_potential: '+\\\n",
    "                         'The input parameters for the scaling profiles do not correspond to a physical potential.')\n",
    "    if np.fabs(n_MND + n_NFWH + n_HB - 1.) > 1e-7:\n",
    "        raise ValueError('Error in setup_galpy_potential: '+\\\n",
    "                         'The sum of the normalization does not add up to 1.')\n",
    "        \n",
    "    #trafo to galpy units:\n",
    "    a_MND  = a_MND_kpc  / _REFR0_kpc\n",
    "    b_MND  = b_MND_kpc  / _REFR0_kpc\n",
    "    a_NFWH = a_NFWH_kpc / _REFR0_kpc\n",
    "    a_HB   = a_HB_kpc   / _REFR0_kpc\n",
    "    \n",
    "    #setup potential:\n",
    "    disk = MiyamotoNagaiPotential(\n",
    "                a = a_MND,\n",
    "                b = b_MND,\n",
    "                normalize = n_MND)\n",
    "    halo = NFWPotential(\n",
    "                a = a_NFWH,\n",
    "                normalize = n_NFWH)\n",
    "    bulge = HernquistPotential(\n",
    "                a = a_HB,\n",
    "                normalize = n_HB) \n",
    "     \n",
    "    return [disk,halo,bulge]\n",
    "\n",
    "\n",
    "#for a in range(50):\n"
   ]
  },
  {
   "cell_type": "code",
   "execution_count": 98,
   "metadata": {},
   "outputs": [
    {
     "name": "stdout",
     "output_type": "stream",
     "text": [
      "0.0934504557382 0.141845403649 0.764704140613\n",
      "load stars of snap 76\n",
      "[ 16.47659492  15.88422775  17.06827354]\n",
      "Found 817842 stars.\n",
      "Rotated pos.\n",
      "Rotated vel.\n",
      "\n",
      "galrad  : 0.014894464612007143\n",
      "redshift: 1.074457894547674\n",
      "time    : 0.4820536500780824\n",
      "center  : [ 0.  0.  0.]\n",
      "\n"
     ]
    },
    {
     "ename": "NameError",
     "evalue": "name 'actionAngleStaeckel' is not defined",
     "output_type": "error",
     "traceback": [
      "\u001b[0;31m---------------------------------------------------------------------------\u001b[0m",
      "\u001b[0;31mNameError\u001b[0m                                 Traceback (most recent call last)",
      "\u001b[0;32m<ipython-input-98-6dce7540e60d>\u001b[0m in \u001b[0;36m<module>\u001b[0;34m()\u001b[0m\n\u001b[1;32m     51\u001b[0m \u001b[0;34m\u001b[0m\u001b[0m\n\u001b[1;32m     52\u001b[0m     \u001b[0;31m# set up the actionAngleStaeckel object\u001b[0m\u001b[0;34m\u001b[0m\u001b[0;34m\u001b[0m\u001b[0m\n\u001b[0;32m---> 53\u001b[0;31m     aAS = actionAngleStaeckel(\n\u001b[0m\u001b[1;32m     54\u001b[0m             \u001b[0mpot\u001b[0m   \u001b[0;34m=\u001b[0m \u001b[0mpot_galpy\u001b[0m\u001b[0;34m,\u001b[0m  \u001b[0;31m# potential\u001b[0m\u001b[0;34m\u001b[0m\u001b[0m\n\u001b[1;32m     55\u001b[0m             \u001b[0mdelta\u001b[0m \u001b[0;34m=\u001b[0m \u001b[0mdelta\u001b[0m\u001b[0;34m,\u001b[0m      \u001b[0;31m# focal length of confocal coordinate system\u001b[0m\u001b[0;34m\u001b[0m\u001b[0m\n",
      "\u001b[0;31mNameError\u001b[0m: name 'actionAngleStaeckel' is not defined"
     ]
    }
   ],
   "source": [
    "startsnap = 76\n",
    "endsnap = 76\n",
    "actionmatrix = np.array([]) # should result in: action * GC * time\n",
    "lookback_time_Gyr = []\n",
    "used_IDs = s.id[i_all]\n",
    "for snapnr in range(startsnap, endsnap + 1,1):\n",
    "    i_snap = snapnr - startsnap \n",
    "    snapnnum, R0_kpc, v0_kms, a_MND_kpc, b_MND_kpc, a_HB_kpc, a_NFWH_kpc, v0_MND_kms, v0_HB_kms, v0_NFWH_kms = np.loadtxt(filedir + 'potential_params/pot_snap_' + str(snapnr))\n",
    "    n_MND   = v0_MND_kms**2  / v0_kms**2\n",
    "    n_HB    = v0_HB_kms**2   / v0_kms**2\n",
    "    n_NFWH  = v0_NFWH_kms**2 / v0_kms**2\n",
    "\n",
    "    fix_R0_kpc = R0_kpc\n",
    "    fix_v0_kms = v0_kms\n",
    "    print(n_MND,n_HB,n_NFWH)\n",
    "    a_MND_kpc = 1.\n",
    "    print(\"load stars of snap {0}\".format(snapnr))\n",
    "    s, sf = eat_snap_and_fof(level, halo_number, snapnr, snappath, loadonlytype=[4], \n",
    "        haloid=0, galradfac=0.1, verbose=True) \n",
    "\n",
    "    # Clean negative and zero values of gmet to avoid RuntimeErrors\n",
    "    # later on (e.g. dividing by zero)\n",
    "    s.data['gmet'] = np.maximum( s.data['gmet'], 1e-40 )\n",
    "\n",
    "    snap_time = s.cosmology_get_lookback_time_from_a( s.time, is_flat=True )\n",
    "    lookback_time_Gyr.append(snap_time)\n",
    "    #pot_galpy = setup_galpy_potential(a_MND_kpc, b_MND_kpc, a_NFWH_kpc, a_HB_kpc, n_MND, n_NFWH, n_HB, R0_kpc)\n",
    "\n",
    "    try:\n",
    "        pot_galpy = setup_galpy_potential(a_MND_kpc, b_MND_kpc, a_NFWH_kpc, a_HB_kpc, n_MND, n_NFWH, n_HB, R0_kpc)\n",
    "    except:\n",
    "        print('For snap {} no potential can be set up.'.format(int(snapnr)))\n",
    "        filler1 = np.full(len(used_IDs), np.nan)\n",
    "        filler2 = np.full(len(used_IDs), np.nan)\n",
    "        actionmatrix = np.append(actionmatrix, [filler1, filler2, filler1])\n",
    "        \n",
    "        continue\n",
    "\n",
    "\n",
    "    i_test_GCs = np.isin(s.id, used_IDs)\n",
    "    # get position and velocities of all selected GCs & convert to galpy units\n",
    "    (R_kpc, phi_rad, z_kpc), (vR_kms, vphi_kms, vz_kms) = get_cylindrical_vectors(s, sf, i_test_GCs)\n",
    "    # convert physical to galpy units by dividing by REF vals (get velocities from best fit parameters)\n",
    "    R_galpy, vR_galpy, vT_galpy, z_galpy, vz_galpy = R_kpc / fix_R0_kpc, vR_kms / fix_v0_kms, vphi_kms / fix_v0_kms, z_kpc / fix_R0_kpc, vz_kms / fix_v0_kms\n",
    "\n",
    "    # estimate Delta of the Staeckel potential\n",
    "    delta = 0.45\n",
    "    delta = estimateDeltaStaeckel(pot_galpy, R_galpy, z_galpy)\n",
    "    # CHECK HOW BIG INFLUENCE OF DELTA IS\n",
    "\n",
    "\n",
    "    # set up the actionAngleStaeckel object\n",
    "    aAS = actionAngleStaeckel(\n",
    "            pot   = pot_galpy,  # potential\n",
    "            delta = delta,      # focal length of confocal coordinate system\n",
    "            c     = True        # use C code (for speed)\n",
    "            )\n",
    "\n",
    "\n",
    "    jR_galpy, lz_galpy, jz_galpy, r_kpc = np.zeros(num_GCs), np.zeros(num_GCs), np.zeros(num_GCs), np.zeros(num_GCs)\n",
    "    savedIDs = np.zeros(num_GCs)\n",
    "    IDs_notworking = []\n",
    "\n",
    "\n",
    "    for test_i, item in enumerate(used_IDs):\n",
    "        '''        \n",
    "        if (test_i % 1000) == 0:\n",
    "            print(datetime.datetime.now().time())\n",
    "            print(test_i)\n",
    "        '''\n",
    "        try: \n",
    "            jR_galpy[test_i], lz_galpy[test_i], jz_galpy[test_i] = aAS(R_galpy[test_i], vR_galpy[test_i], vT_galpy[test_i], z_galpy[test_i], vz_galpy[test_i])\n",
    "            r_kpc[test_i] = np.sqrt(R_kpc[test_i]**2 + z_kpc[test_i]**2)\n",
    "            savedIDs[test_i] = item\n",
    "        except(ValueError, UnboundError):\n",
    "            IDs_notworking.append(item)\n",
    "            continue\n",
    "    print('numbers of GCs wo actions:', len(IDs_notworking))\n",
    "    jR_kpckms, lz_kpckms, jz_kpckms = jR_galpy * fix_R0_kpc * fix_v0_kms, lz_galpy * fix_R0_kpc * fix_v0_kms, jz_galpy * fix_R0_kpc * fix_v0_kms\n",
    "    \n",
    "    # just pick result values of particles of which I actually could calculate actions\n",
    "    nonsurvivor_id_mask = np.isin(used_IDs, IDs_notworking)\n",
    "    survivor_id_mask = np.isin(used_IDs, savedIDs)\n",
    "    \n",
    "    jR_kpckms = np.where(survivor_id_mask, jR_kpckms, np.nan)\n",
    "    jz_kpckms = np.where(survivor_id_mask, jz_kpckms, np.nan)\n",
    "    lz_kpckms = np.where(survivor_id_mask, lz_kpckms, np.nan)\n",
    "    \n",
    "    #jR_kpckms, lz_kpckms, jz_kpckms = jR_kpckms[survivor_id_mask], lz_kpckms[survivor_id_mask], jz_kpckms[survivor_id_mask]\n",
    "    #r_kpc = r_kpc[survivor_id_mask]\n",
    "    #print(jR_kpckms)\n",
    "    #survivor_IDs = used_IDs[survivor_id_mask]\n",
    "    #actionmatrix = np.append(actionmatrix, [jR_kpckms, lz_kpckms, jz_kpckms])\n",
    "    \n",
    "    ### TO DO:  if GC wo action add -99 values"
   ]
  },
  {
   "cell_type": "code",
   "execution_count": null,
   "metadata": {
    "collapsed": true
   },
   "outputs": [],
   "source": [
    "from galpy.actionAngle import actionAngleStaeckel\n",
    "# set up the actionAngleStaeckel object\n",
    "aAS = actionAngleStaeckel(\n",
    "        pot   = pot_galpy,  # potential\n",
    "        delta = delta,      # focal length of confocal coordinate system\n",
    "        c     = True        # use C code (for speed)\n",
    "        )\n",
    "\n",
    "num_GCs = len(used_IDs)\n",
    "\n",
    "jR_galpy, lz_galpy, jz_galpy, r_kpc = np.zeros(num_GCs), np.zeros(num_GCs), np.zeros(num_GCs), np.zeros(num_GCs)\n",
    "savedIDs = np.zeros(num_GCs)\n",
    "IDs_notworking = []\n",
    "\n",
    "\n",
    "for test_i, item in enumerate(used_IDs):\n",
    "    '''        \n",
    "    if (test_i % 1000) == 0:\n",
    "        print(datetime.datetime.now().time())\n",
    "        print(test_i)\n",
    "    '''\n",
    "    try: \n",
    "        jR_galpy[test_i], lz_galpy[test_i], jz_galpy[test_i] = aAS(R_galpy[test_i], vR_galpy[test_i], vT_galpy[test_i], z_galpy[test_i], vz_galpy[test_i])\n",
    "        r_kpc[test_i] = np.sqrt(R_kpc[test_i]**2 + z_kpc[test_i]**2)\n",
    "        savedIDs[test_i] = item\n",
    "    except(ValueError, UnboundError):\n",
    "        IDs_notworking.append(item)\n",
    "        continue\n",
    "print('numbers of GCs wo actions:', len(IDs_notworking))\n",
    "jR_kpckms, lz_kpckms, jz_kpckms = jR_galpy * fix_R0_kpc * fix_v0_kms, lz_galpy * fix_R0_kpc * fix_v0_kms, jz_galpy * fix_R0_kpc * fix_v0_kms\n",
    "\n",
    "# just pick result values of particles of which I actually could calculate actions\n",
    "nonsurvivor_id_mask = np.isin(used_IDs, IDs_notworking)\n",
    "survivor_id_mask = np.isin(used_IDs, savedIDs)\n",
    "\n",
    "jR_kpckms = np.where(survivor_id_mask, jR_kpckms, np.nan)\n",
    "jz_kpckms = np.where(survivor_id_mask, jz_kpckms, np.nan)\n",
    "lz_kpckms = np.where(survivor_id_mask, lz_kpckms, np.nan)\n",
    "\n",
    "#jR_kpckms, lz_kpckms, jz_kpckms = jR_kpckms[survivor_id_mask], lz_kpckms[survivor_id_mask], jz_kpckms[survivor_id_mask]\n",
    "#r_kpc = r_kpc[survivor_id_mask]\n",
    "#print(jR_kpckms)\n",
    "#survivor_IDs = used_IDs[survivor_id_mask]\n",
    "#actionmatrix = np.append(actionmatrix, [jR_kpckms, lz_kpckms, jz_kpckms])\n",
    "\n",
    "### TO DO:  if GC wo action add -99 values"
   ]
  },
  {
   "cell_type": "code",
   "execution_count": null,
   "metadata": {
    "collapsed": true
   },
   "outputs": [],
   "source": [
    "fig,ax = plt.subplots()\n",
    "\n",
    "stream_ID = s.id[i_streams]\n",
    "stream_GCs = np.isin(ids,stream_ID)\n",
    "ax.hist2d(jR_kpckms[jR_kpckms<10000.], jz_kpckms[jR_kpckms<10000.], 101, norm= LogNorm(), cmap = plt.cm.gray)\n",
    "ax.plot(jR_kpckms[stream_GCs], jz_kpckms[stream_GCs], 'r.')\n",
    "#ax.set_xlim(0.,5000.)\n",
    "plt.show()"
   ]
  },
  {
   "cell_type": "code",
   "execution_count": null,
   "metadata": {
    "collapsed": true
   },
   "outputs": [],
   "source": []
  }
 ],
 "metadata": {
  "kernelspec": {
   "display_name": "Python 3",
   "language": "python",
   "name": "python3"
  },
  "language_info": {
   "codemirror_mode": {
    "name": "ipython",
    "version": 3
   },
   "file_extension": ".py",
   "mimetype": "text/x-python",
   "name": "python",
   "nbconvert_exporter": "python",
   "pygments_lexer": "ipython3",
   "version": "3.6.3"
  }
 },
 "nbformat": 4,
 "nbformat_minor": 2
}
