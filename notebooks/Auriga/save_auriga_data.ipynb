{
 "cells": [
  {
   "cell_type": "code",
   "execution_count": 2,
   "metadata": {
    "collapsed": true
   },
   "outputs": [],
   "source": [
    "%matplotlib inline"
   ]
  },
  {
   "cell_type": "code",
   "execution_count": 3,
   "metadata": {
    "collapsed": true
   },
   "outputs": [],
   "source": [
    "import numpy\n",
    "import numpy as np\n",
    "import matplotlib\n",
    "from matplotlib import pyplot\n",
    "from matplotlib import pyplot as plt"
   ]
  },
  {
   "cell_type": "code",
   "execution_count": 4,
   "metadata": {},
   "outputs": [],
   "source": [
    "#### AREPOSNAP-UTIL packages ####\n",
    "# in following packages some of the parameters might be useful to change. still have to figure out which\n",
    "\n",
    "# I think areposnap.gadget is mostly to read in data and do some transformation with them... did not find\n",
    "from areposnap.gadget import gadget_readsnap\n",
    "from areposnap.gadget_subfind import load_subfind\n"
   ]
  },
  {
   "cell_type": "code",
   "execution_count": null,
   "metadata": {
    "collapsed": true
   },
   "outputs": [],
   "source": []
  },
  {
   "cell_type": "code",
   "execution_count": 10,
   "metadata": {},
   "outputs": [],
   "source": [
    "# written by Timo Halbesma (MPA); added some additional comments for better understanding\n",
    "def eat_snap_and_fof(level, halo_number, snapnr, snappath, loadonlytype=[0,1,2,3,4],\n",
    "                     haloid=0, galradfac=0.1, verbose=True):\n",
    "    \"\"\" Method to eat an Auriga snapshot, given a level/halo_number/snapnr.\n",
    "        Subfind has been executed 'on-the-fly', during the simulation run.\n",
    "\n",
    "        @param level: level of the Auriga simulation (3=high, 4='normal' or 5=low).\n",
    "            Level 3/5 only for halo 6, 16 and 24. See Grand+ 2017 for details.\n",
    "            Careful when level != 4 because directories may have different names.\n",
    "        @param halo_number: which Auriga galaxy? See Grand+ 2017 for details.\n",
    "            Should be an integer in range(1, 31)\n",
    "        @param snapnr: which snapshot number? This is an integer, in most cases\n",
    "            in range(1, 128) depending on the number of timesteps of the run.\n",
    "            The last snapshot would then be 127. Snapshots are written at a\n",
    "            certain time, but careful because the variable called time is actually\n",
    "            the cosmological expansion factor a = 1/(1+z). For example, snapnr=127\n",
    "            has s.time = 1, which corresponds to a redshift of ~0. This makes sense\n",
    "            because this is the last snapshot and the last snapshot is written at\n",
    "            redshift zero\n",
    "        @param snappath: full path to the level/halo directory that contains\n",
    "            all of the simulation snapshots\n",
    "        @param loadonlytype: which particle types should be loaded? This should\n",
    "            be a list of integers. If I'm not mistaken, the options are:\n",
    "            0 (gas), 1 (halo), 2 (disk), 3 (bulge), 4 (stars), 5 (black holes).\n",
    "            So to get the dark matter: load particles 1/2/3. In zoom-simulations\n",
    "            particletype 3 may be used for low-resolution particles in the outer\n",
    "            regions and they should not be present in (and contaminating) the\n",
    "            inner region. I'm not too sure of the latter though.\n",
    "        @param haloid: the ID of the SubFind halo. In case you are interested\n",
    "            in the main galaxy in the simulation run: set haloid to zero.\n",
    "            This was a bit confusing to me at first because a zoom-simulation run\n",
    "            of one Auriga galaxy is also referred to as 'halo', see halo_number.\n",
    "        @param galradfac: the radius of the galaxy is often used to make cuts in\n",
    "            the (star) particles. It seems that in general galrad is set to 10%\n",
    "            of the virial radius R200 of the DM halo that the galaxy sits in. The\n",
    "            disk does seem to 'end' at 0.1R200.\n",
    "        @param verbose: boolean to print some information\n",
    "\n",
    "        @return: two-tuple (s, sf) where s is an instance of the gadget_snapshot\n",
    "            class, and sf is an instance of the subfind class. See Arepo-snap-util,\n",
    "            gadget_snap.py respectively gadget_subfind.py \"\"\"\n",
    "\n",
    "    # Eat the subfind friend of friends output\n",
    "    sf = load_subfind(snapnr, dir=snappath)\n",
    "\n",
    "    # Eat the Gadget snapshot\n",
    "    s = gadget_readsnap(snapnr, snappath=snappath, lazy_load=True,\n",
    "        subfind=sf, loadonlytype=loadonlytype)\n",
    "    s.subfind = sf\n",
    "\n",
    "    # Sets s.(sub)halo. This allows selecting the halo, e.g. 0 (main 'Galaxy')\n",
    "    s.calc_sf_indizes(s.subfind)\n",
    "    # Note that selecting the halo now rotates the disk using the principal axis.\n",
    "    # rotate_disk is a general switch which has to be set to True to rotate.\n",
    "    # To then actually do the rotation, do_rotation has to be True as well.\n",
    "    # Within rotate_disk there are three methods to handle the rotation. Choose\n",
    "    # one of them, but see the select_halo method for details.\n",
    "    s.select_halo( s.subfind, haloid=haloid, galradfac=galradfac,\n",
    "        rotate_disk=True, use_principal_axis=True, euler_rotation=False,\n",
    "        use_cold_gas_spin=False, do_rotation=True )\n",
    "\n",
    "    # Sneak some more info into the s instance\n",
    "    s.halo_number = halo_number\n",
    "    s.level = level\n",
    "    s.snapnr = snapnr\n",
    "    s.haloid = haloid\n",
    "\n",
    "    # This means that galrad is 10 % of R200 (200*rho_crit definition)\n",
    "    s.galrad = galradfac * sf.data['frc2'][haloid]  # frc2 = Group_R_Crit200\n",
    "\n",
    "    if verbose:\n",
    "        print(\"\\ngalrad  : {0}\".format(s.galrad))\n",
    "        print(\"redshift: {0}\".format(s.redshift))\n",
    "        print(\"time    : {0}\".format(s.time))\n",
    "        print(\"center  : {0}\\n\".format(s.center))\n",
    "\n",
    "    return s, sf\n"
   ]
  },
  {
   "cell_type": "code",
   "execution_count": 12,
   "metadata": {
    "collapsed": true
   },
   "outputs": [],
   "source": [
    "def get_cartesian_vectors(s, sf, mask):\n",
    "    x,  y,  z  = s.pos[::,2][mask], s.pos[::,1][mask], s.pos[::,0][mask]\n",
    "    vx, vy, vz = s.vel[::,2][mask], s.vel[::,1][mask], s.vel[::,0][mask]\n",
    "\n",
    "    # All three expressions for rxyz compute the same thing :-).\n",
    "    # rxyz = numpy.sqrt( x**2 + y**2 + z**2)\n",
    "    # rxyz = numpy.sqrt( (s.pos[mask]**2).sum(axis=1) )\n",
    "    rxyz = s.r()[mask]\n",
    "\n",
    "    # Both expressions for rxy compute the same thing :-).\n",
    "    # rxy = numpy.sqrt( (s.pos[mask][:,1:]**2).sum(axis=1) )\n",
    "    rxy = numpy.sqrt( x**2 + y**2 )\n",
    "\n",
    "    return (x, y, z), (vx, vy, vz), rxyz, rxy\n",
    "\n"
   ]
  },
  {
   "cell_type": "code",
   "execution_count": 11,
   "metadata": {
    "scrolled": false
   },
   "outputs": [
    {
     "name": "stdout",
     "output_type": "stream",
     "text": [
      "[ 34.41684723  33.15987778  37.29312134]\n",
      "Found 210233 stars.\n",
      "Rotated pos.\n",
      "Rotated bfld.\n",
      "Rotated vel.\n"
     ]
    }
   ],
   "source": [
    "###### load several low res snapshots\n",
    "level = 5\n",
    "basedir = \"/Users/smilanov/Desktop/Auriga/level{0}/\".format(level)\n",
    "j = 0\n",
    "for halo_number in [24]:  # range(1, 31):\n",
    "    halodir = basedir+\"halo{0}_MHD/\".format(halo_number)\n",
    "    snappath = halodir+\"output/\"\n",
    "    for snapnr in range(63,64,1):\n",
    "        '''\n",
    "        print(\"level   : {0}\".format(level))\n",
    "        print(\"halo    : {0}\".format(halo_number))\n",
    "        print(\"snapnr  : {0}\".format(snapnr))\n",
    "        print(\"basedir : {0}\".format(basedir))\n",
    "        print(\"halodir : {0}\".format(halodir))\n",
    "        print(\"snappath: {0}\\n\".format(snappath))\n",
    "        '''\n",
    "        s, sf = eat_snap_and_fof(level, halo_number, snapnr, snappath,\n",
    "            haloid=0, galradfac=0.1, verbose=False) \n",
    "\n",
    "        # Clean negative and zero values of gmet to avoid RuntimeErrors\n",
    "        # later on (e.g. dividing by zero)\n",
    "        s.data['gmet'] = numpy.maximum( s.data['gmet'], 1e-40 )\n",
    "        \n",
    "\n",
    "       "
   ]
  },
  {
   "cell_type": "code",
   "execution_count": 14,
   "metadata": {
    "collapsed": true
   },
   "outputs": [],
   "source": [
    "iall, = numpy.where( (s.halo == 0) )\n",
    "(x, y, z), (vx, vy, vz), rxyz, rxy = get_cartesian_vectors(s, sf, iall)\n",
    "ids = s.id[iall]\n",
    "m = s.mass[iall]\n",
    "ty = s.type[iall]"
   ]
  },
  {
   "cell_type": "code",
   "execution_count": 51,
   "metadata": {},
   "outputs": [],
   "source": [
    "np.savetxt('/Users/smilanov/Documents/masterthesis/data/level_' + str(level) + '_halo_' + \\\n",
    "           str(halo_number) + '_snapshot_' + str(snapnr) + '_data.txt', \\\n",
    "           np.column_stack((ids, ty, x, y, z, vx, vy, vz, m)), \\\n",
    "           fmt = '%d %d %10.25f %10.25f %10.25f %10.20f %10.20f %10.20f %10.20f' , \\\n",
    "           header = 'IDs, type, x, y, z, vx, vy, vz, mass')"
   ]
  },
  {
   "cell_type": "code",
   "execution_count": null,
   "metadata": {},
   "outputs": [],
   "source": []
  },
  {
   "cell_type": "code",
   "execution_count": null,
   "metadata": {
    "collapsed": true
   },
   "outputs": [],
   "source": []
  }
 ],
 "metadata": {
  "kernelspec": {
   "display_name": "Python 3",
   "language": "python",
   "name": "python3"
  },
  "language_info": {
   "codemirror_mode": {
    "name": "ipython",
    "version": 3
   },
   "file_extension": ".py",
   "mimetype": "text/x-python",
   "name": "python",
   "nbconvert_exporter": "python",
   "pygments_lexer": "ipython3",
   "version": "3.6.3"
  }
 },
 "nbformat": 4,
 "nbformat_minor": 2
}
