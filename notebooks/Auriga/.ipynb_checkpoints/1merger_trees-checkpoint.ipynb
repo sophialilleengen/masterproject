{
 "cells": [
  {
   "cell_type": "code",
   "execution_count": 1,
   "metadata": {},
   "outputs": [
    {
     "name": "stdout",
     "output_type": "stream",
     "text": [
      "galpyWarning: interppotential_c extension module not loaded, because of error 'dlopen(/Users/smilanov/anaconda3/lib/python3.6/site-packages/galpy_interppotential_c.cpython-36m-darwin.so, 6): Library not loaded: @rpath/libopenblas.dylib\n",
      "  Referenced from: /Users/smilanov/anaconda3/lib/python3.6/site-packages/galpy_interppotential_c.cpython-36m-darwin.so\n",
      "  Reason: image not found' \n",
      "galpyWarning: actionAngleAdiabatic_c extension module not loaded, because of error 'dlopen(/Users/smilanov/anaconda3/lib/python3.6/site-packages/galpy_actionAngle_c.cpython-36m-darwin.so, 6): Library not loaded: @rpath/libopenblas.dylib\n",
      "  Referenced from: /Users/smilanov/anaconda3/lib/python3.6/site-packages/galpy_actionAngle_c.cpython-36m-darwin.so\n",
      "  Reason: image not found' \n",
      "galpyWarning: actionAngleStaeckel_c extension module not loaded, because of error 'dlopen(/Users/smilanov/anaconda3/lib/python3.6/site-packages/galpy_actionAngle_c.cpython-36m-darwin.so, 6): Library not loaded: @rpath/libopenblas.dylib\n",
      "  Referenced from: /Users/smilanov/anaconda3/lib/python3.6/site-packages/galpy_actionAngle_c.cpython-36m-darwin.so\n",
      "  Reason: image not found' \n"
     ]
    },
    {
     "data": {
      "text/html": [
       "<style>.container { width:100% !important; }</style>"
      ],
      "text/plain": [
       "<IPython.core.display.HTML object>"
      ]
     },
     "metadata": {},
     "output_type": "display_data"
    }
   ],
   "source": [
    "from galpy.potential import MiyamotoNagaiPotential, NFWPotential, HernquistPotential\n",
    "from galpy.actionAngle import estimateDeltaStaeckel, actionAngleStaeckel\n",
    "from galpy.actionAngle import UnboundError\n",
    "\n",
    "from areposnap.gadget import gadget_readsnap\n",
    "from areposnap.gadget_subfind import load_subfind\n",
    "\n",
    "from auriga_basics import *\n",
    "from auriga_functions import *\n",
    "\n",
    "import numpy as np\n",
    "from scipy import stats\n",
    "from IPython.display import Image, display\n",
    "\n",
    "import corner\n",
    "\n",
    "import datetime\n",
    "import random\n",
    "\n",
    "import copy\n",
    "\n",
    "import struct\n",
    "\n",
    "from mpl_toolkits.axes_grid1 import make_axes_locatable\n",
    "import matplotlib.pyplot as plt\n",
    "import matplotlib\n",
    "from matplotlib.patches import Circle\n",
    "from matplotlib import animation\n",
    "from matplotlib.colors import LogNorm\n",
    "\n",
    "\n",
    "import datetime\n",
    "\n",
    "import matplotlib.pyplot as plt\n",
    "from matplotlib import rcParams\n",
    "import copy\n",
    "\n",
    "%matplotlib inline\n",
    "\n",
    "rcParams['font.size'] = 16\n",
    "rcParams['lines.linewidth'] = 1.5\n",
    "rcParams['axes.linewidth'] = 1.5\n",
    "rcParams['ytick.major.width'] = 1.5\n",
    "rcParams['xtick.major.width'] = 1.5\n",
    "rcParams['image.cmap'] = 'magma'\n",
    "\n",
    "cmap = copy.copy(plt.cm.get_cmap(rcParams['image.cmap']))\n",
    "cmap.set_bad((0,0,0))\n",
    "%config InlineBackend.figure_format = 'retina'\n",
    "\n",
    "from IPython.core.display import display, HTML\n",
    "display(HTML(\"<style>.container { width:100% !important; }</style>\"))\n"
   ]
  },
  {
   "cell_type": "code",
   "execution_count": 3,
   "metadata": {},
   "outputs": [
    {
     "name": "stdout",
     "output_type": "stream",
     "text": [
      "level   : 4\n",
      "halo    : 24\n",
      "snapnr  : 127\n",
      "basedir : /Users/smilanov/Desktop/Auriga/level4/\n",
      "halodir : /Users/smilanov/Desktop/Auriga/level4/halo_24/\n",
      "snappath: /Users/smilanov/Desktop/Auriga/level4/halo_24/output/\n",
      "\n",
      "[ 34.42281723  33.16259384  37.29567337]\n",
      "Found 1783163 stars.\n",
      "Rotated pos.\n",
      "Rotated vel.\n",
      "\n",
      "galrad  : 0.02408556640148163\n",
      "redshift: 2.220446049250313e-16\n",
      "time    : 0.9999999999999998\n",
      "center  : [ 0.  0.  0.]\n",
      "\n"
     ]
    }
   ],
   "source": [
    "# Simulation relevant stuff\n",
    "machine = 'mac'\n",
    "#machine = 'magny'\n",
    "#machine = 'virgo'\n",
    "\n",
    "if machine == 'magny':\n",
    "    basedir = \"/hits/universe/GigaGalaxy/level4_MHD/\"\n",
    "    filedir = \"/home/extmilan/masterthesis/files/\"\n",
    "    plotdir = \"/home/extmilan/masterthesis/plots/\"\n",
    "elif machine == 'mac': \n",
    "    basedir = \"/Users/smilanov/Desktop/Auriga/level4/\"\n",
    "    filedir = \"/Users/smilanov/Documents/masterthesis/auriga_files/files/\"\n",
    "    plotdir = \"/Users/smilanov/Documents/masterthesis/auriga_files/plots/\"\n",
    "elif machine == 'virgo': \n",
    "    basedir = \"/virgo/simulations/Auriga/level4_MHD/\"\n",
    "    filedir = \"/u/milas/masterthesis/masterproject/files/\"\n",
    "    plotdir = \"/u/milas/masterthesis/masterproject/plots/\"\n",
    "else:\n",
    "    raise NotADirectoryError\n",
    "    \n",
    "#### path = /hits/universe/GigaGalaxy/level4_MHD/halo_24/output/*\n",
    "level = 4\n",
    "\n",
    "for halo_number in [24]:  # range(1, 31):\n",
    "    halodir = basedir+\"halo_{0}/\".format(halo_number)\n",
    "    snappath = halodir+\"output/\"\n",
    "\n",
    "    for snapnr in range(127,128,1):\n",
    "        print(\"level   : {0}\".format(level))\n",
    "        print(\"halo    : {0}\".format(halo_number))\n",
    "        print(\"snapnr  : {0}\".format(snapnr))\n",
    "        print(\"basedir : {0}\".format(basedir))\n",
    "        print(\"halodir : {0}\".format(halodir))\n",
    "        print(\"snappath: {0}\\n\".format(snappath))\n",
    "        s, sf = eat_snap_and_fof(level, halo_number, snapnr, snappath, loadonlytype=[4], \n",
    "            haloid=0, galradfac=0.1, verbose=True) \n",
    "\n",
    "        # Clean negative and zero values of gmet to avoid RuntimeErrors\n",
    "        # later on (e.g. dividing by zero)\n",
    "        s.data['gmet'] = np.maximum( s.data['gmet'], 1e-40 )\n",
    "        "
   ]
  },
  {
   "cell_type": "code",
   "execution_count": 3,
   "metadata": {
    "collapsed": true
   },
   "outputs": [],
   "source": [
    "filename = '/hits/universe/GigaGalaxy/level4_MHD/lists/halo_24starID_accreted_all_newmtree.dat'\n",
    "\n",
    "fin = open(filename, \"rb\")\n",
    "nacc = struct.unpack( 'i', fin.read(4) )[0]\n",
    "idacc = np.array(struct.unpack('%sd' % nacc, fin.read(nacc*8)), dtype=np.int64)\n",
    "subacc = np.array(struct.unpack('%sd' % nacc, fin.read(nacc*8)), dtype=np.int64)\n",
    "snapacc = np.array(struct.unpack('%sd' % nacc, fin.read(nacc*8)), dtype=np.int64)\n",
    "aflag = np.array(struct.unpack('%sd' % nacc, fin.read(nacc*8)))\n",
    "fofflag = np.array(struct.unpack('%sd' % nacc, fin.read(nacc*8)), dtype=np.int64)\n",
    "rootid = np.array(struct.unpack('%sd' % nacc, fin.read(nacc*8)), dtype=np.int64)\n",
    "pkmassid = np.array(struct.unpack('%sd' % nacc, fin.read(nacc*8)), dtype=np.int64)\n",
    "fin.close()\n"
   ]
  },
  {
   "cell_type": "markdown",
   "metadata": {},
   "source": [
    "- aflag  can be (0,1) for accreted stars, or those in an existing subhalo\n",
    "- rootid is the unique progenitor ID of the subhalo in which the star was born\n",
    "- pkmassid is the unique progenitor ID of the subhalo that a particle has been in when it was at it's maximum mass before it merged\n",
    "- idacc is the particle ID\n",
    "- subacc is the subfind ID of the subhalo is was born in\n",
    "- snapacc is the snapshot is was born in\n"
   ]
  },
  {
   "cell_type": "code",
   "execution_count": 4,
   "metadata": {},
   "outputs": [
    {
     "data": {
      "text/plain": [
       "array([6253844308595, 6257308426855, 6257357921619, ..., 8796315301696,\n",
       "       8796315309081, 8796315466955])"
      ]
     },
     "execution_count": 4,
     "metadata": {},
     "output_type": "execute_result"
    }
   ],
   "source": [
    "idacc"
   ]
  },
  {
   "cell_type": "code",
   "execution_count": 5,
   "metadata": {},
   "outputs": [
    {
     "data": {
      "text/plain": [
       "array([  247, 58647, 58990, ...,   247,   247,   247])"
      ]
     },
     "execution_count": 5,
     "metadata": {},
     "output_type": "execute_result"
    }
   ],
   "source": [
    "pkmassid"
   ]
  },
  {
   "cell_type": "code",
   "execution_count": 6,
   "metadata": {
    "collapsed": true
   },
   "outputs": [],
   "source": [
    "def return_pkmassprogid_mostmassive(pkmassid, n=10):\n",
    "    first_prog = np.array(list(sorted(set(list(pkmassid)))))\n",
    "    stars_in_subhalo = np.zeros(len(first_prog))\n",
    "    for i, pid in zip(range(len(first_prog)),first_prog):\n",
    "        stars_in_subhalo[i] = sum( pkmassid==pid )\n",
    "    nsort = np.argsort( stars_in_subhalo )[::-1]\n",
    "    stars_in_subhalo = stars_in_subhalo[nsort].astype('int')\n",
    "    first_prog = first_prog[nsort]\n",
    "\n",
    "    return first_prog[:n]"
   ]
  },
  {
   "cell_type": "code",
   "execution_count": 7,
   "metadata": {
    "collapsed": true
   },
   "outputs": [],
   "source": [
    "first_prog = return_pkmassprogid_mostmassive(pkmassid)\n",
    "#pindy, = np.where( (pkmassid==first_prog[0]) )\n"
   ]
  },
  {
   "cell_type": "code",
   "execution_count": 8,
   "metadata": {},
   "outputs": [
    {
     "data": {
      "text/plain": [
       "array([  247,   219, 10243, 38592, 10245, 38673, 22288, 22289,   169, 24829])"
      ]
     },
     "execution_count": 8,
     "metadata": {},
     "output_type": "execute_result"
    }
   ],
   "source": [
    "first_prog"
   ]
  },
  {
   "cell_type": "code",
   "execution_count": 9,
   "metadata": {
    "collapsed": true
   },
   "outputs": [],
   "source": [
    "for i in range(10):\n",
    "    pindy, = np.where( (pkmassid==first_prog[i]) )\n",
    "    np.savetxt(filedir + '/merger_trees/progenitor{}_IDs'.format(i+1), pindy, fmt='%d')"
   ]
  },
  {
   "cell_type": "code",
   "execution_count": null,
   "metadata": {
    "collapsed": true,
    "scrolled": true
   },
   "outputs": [],
   "source": []
  },
  {
   "cell_type": "code",
   "execution_count": null,
   "metadata": {
    "collapsed": true
   },
   "outputs": [],
   "source": []
  },
  {
   "cell_type": "code",
   "execution_count": null,
   "metadata": {
    "collapsed": true
   },
   "outputs": [],
   "source": []
  }
 ],
 "metadata": {
  "kernelspec": {
   "display_name": "Python 3",
   "language": "python",
   "name": "python3"
  },
  "language_info": {
   "codemirror_mode": {
    "name": "ipython",
    "version": 3
   },
   "file_extension": ".py",
   "mimetype": "text/x-python",
   "name": "python",
   "nbconvert_exporter": "python",
   "pygments_lexer": "ipython3",
   "version": "3.6.3"
  }
 },
 "nbformat": 4,
 "nbformat_minor": 2
}
