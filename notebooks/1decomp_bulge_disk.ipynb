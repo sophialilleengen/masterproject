{
 "cells": [
  {
   "cell_type": "code",
   "execution_count": 1,
   "metadata": {
    "collapsed": true
   },
   "outputs": [],
   "source": [
    "machine = 'mac'\n",
    "machine = 'magny'\n"
   ]
  },
  {
   "cell_type": "code",
   "execution_count": 2,
   "metadata": {},
   "outputs": [
    {
     "name": "stdout",
     "output_type": "stream",
     "text": [
      "galpyWarning: A major change in versions > 1.1 is that all galpy.potential functions and methods take the potential as the first argument; previously methods such as evaluatePotentials, evaluateDensities, etc. would be called with (R,z,Pot), now they are called as (Pot,R,z) for greater consistency across the codebase\n"
     ]
    }
   ],
   "source": [
    "import numpy as np\n",
    "import matplotlib\n",
    "from matplotlib import pyplot as plt\n",
    "from matplotlib import colors\n",
    "from mpl_toolkits.axes_grid1 import make_axes_locatable\n",
    "from mpl_toolkits.mplot3d import Axes3D\n",
    "import copy\n",
    "\n",
    "from areposnap.gadget import gadget_readsnap\n",
    "from areposnap.gadget_subfind import load_subfind\n",
    "\n",
    "import sys\n",
    "sys.path.append(\"../../arepo-snap-util/build/lib.linux-x86_64-3.6/areposnap/\")\n",
    "from parse_particledata import parse_particledata\n",
    "\n",
    "from scipy.optimize import curve_fit\n",
    "\n",
    "from galpy.potential import plotDensities, evaluateDensities, plotPotentials\n",
    "from galpy.potential import MiyamotoNagaiPotential as MP\n",
    "from galpy.potential import HernquistPotential as HP\n",
    "from galpy.util import bovy_conversion\n",
    "\n",
    "from auriga_basics import *\n",
    "\n",
    "from astropy import units as u\n",
    "%matplotlib inline"
   ]
  },
  {
   "cell_type": "code",
   "execution_count": 23,
   "metadata": {},
   "outputs": [
    {
     "name": "stdout",
     "output_type": "stream",
     "text": [
      "level   : 4\n",
      "halo    : 24\n",
      "snapnr  : 127\n",
      "basedir : /hits/universe/GigaGalaxy/level4_MHD/\n",
      "halodir : /hits/universe/GigaGalaxy/level4_MHD/halo_24/\n",
      "snappath: /hits/universe/GigaGalaxy/level4_MHD/halo_24/output/\n",
      "\n",
      "[ 34.42281723  33.16259384  37.29567337]\n",
      "Found 1783163 stars.\n",
      "Rotated pos.\n",
      "Rotated bfld.\n",
      "Rotated vel.\n",
      "\n",
      "galrad  : 0.02408556640148163\n",
      "redshift: 2.220446049250313e-16\n",
      "time    : 0.9999999999999998\n",
      "center  : [ 0.  0.  0.]\n",
      "\n"
     ]
    }
   ],
   "source": [
    "level = 4\n",
    "if machine == 'magny':\n",
    "    filedir = \"/home/extmilan/masterthesis/files/\"\n",
    "    basedir = \"/hits/universe/GigaGalaxy/level4_MHD/\"\n",
    "    plotdir = \"/home/extmilan/masterthesis/plots/\"\n",
    "elif machine == 'mac':\n",
    "    filedir = \"/Users/smilanov/Documents/masterthesis/auriga_files/files/\"\n",
    "    basedir = \"/Users/smilanov/Desktop/Auriga/level4/\"\n",
    "    plotdir = \"/Users/smilanov/Documents/masterthesis/auriga_files/plots/\"\n",
    "else:\n",
    "    raise NotADirectoryError\n",
    "j = 0\n",
    "for halo_number in [24]:  # range(1, 31):\n",
    "    halodir = basedir+\"halo_{0}/\".format(halo_number)\n",
    "    snappath = halodir+\"output/\"\n",
    "    for snapnr in range(127,128,1):\n",
    "        print(\"level   : {0}\".format(level))\n",
    "        print(\"halo    : {0}\".format(halo_number))\n",
    "        print(\"snapnr  : {0}\".format(snapnr))\n",
    "        print(\"basedir : {0}\".format(basedir))\n",
    "        print(\"halodir : {0}\".format(halodir))\n",
    "        print(\"snappath: {0}\\n\".format(snappath))\n",
    "        s, sf = eat_snap_and_fof(level, halo_number, snapnr, snappath, loadonlytype=[0,1,2,3,4,5], \n",
    "            haloid=0, galradfac=0.1, verbose=True) \n",
    "\n",
    "        # Clean negative and zero values of gmet to avoid RuntimeErrors\n",
    "        # later on (e.g. dividing by zero)\n",
    "        s.data['gmet'] = np.maximum( s.data['gmet'], 1e-40 )\n",
    "     "
   ]
  },
  {
   "cell_type": "code",
   "execution_count": 4,
   "metadata": {
    "collapsed": true
   },
   "outputs": [],
   "source": [
    "cmap = copy.copy(plt.cm.inferno)\n",
    "cmap.set_bad((0,0,0))  # Fill background with black\n",
    "\n",
    "galrad = s.galrad\n",
    "Gcosmo = 43.0071\n"
   ]
  },
  {
   "cell_type": "markdown",
   "metadata": {},
   "source": [
    "Try to distinguish stellar disc and spheroid components by the use of the circularity parameter $\\epsilon = \\frac{L_z}{L_{z,max}(E)}$.\n",
    "\n",
    "$L_{z,max}(E)$ is the maximum angular momentum allowed for the orbital energy $E$. \n",
    "\n",
    "$\\rightarrow \\epsilon = 1$ is a prograde circular orbit in the disc plane. $\\epsilon = -1$ is a retrograde circular orbit in the disc plane. $\\epsilon \\sim 0$ is an orbit with a very low $z$-component of angular momentum which may be highly inclined to the disc spin axis and/or be highly eccentric.  \n",
    "\n",
    "Two methods two distinguish the components:\n",
    "1. Mirror negative $\\epsilon$ as bulge material, rest disc components.\n",
    "2. Assign $\\epsilon > 0.7$ to disc star particles.\n",
    "\n",
    "see Grand et al. 2017"
   ]
  },
  {
   "cell_type": "code",
   "execution_count": 40,
   "metadata": {
    "collapsed": true
   },
   "outputs": [],
   "source": [
    "#fig, ax = plt.subplots(1, 1, figsize=(8,6))\n",
    "def MNdens(x, a_kpc, b_kpc, first_fac_kpc2):\n",
    "    '''\n",
    "    INPUT: \n",
    "        x: R_kpc, z_kpc, Mass_tot\n",
    "    '''\n",
    "    z_kpc = 0\n",
    "    R_kpc = x\n",
    "    #first_fac_kpc2 = (mass_10Msun * b_kpc**2) / (4. * np.pi) # * 10^10M_sun\n",
    "    bzsqrt_kpc = np.sqrt(z_kpc**2 + b_kpc**2)\n",
    "    abz_sqrt_kpc = (a_kpc + bzsqrt_kpc)\n",
    "    numerator_kpc3 = a_kpc * R_kpc**2 + (a_kpc + 3. * bzsqrt_kpc) * abz_sqrt_kpc**2\n",
    "    denominator_kpc8 = (R_kpc**2 + abz_sqrt_kpc**2)**(5./2.) * bzsqrt_kpc**3\n",
    "    rho_kpc_3 = first_fac_kpc2 * numerator_kpc3 / denominator_kpc8 # * 10^10 M_sun if not specific density\n",
    "    return(rho_kpc_3)\n",
    "\n",
    "def MNdensgalpy(rbin,a_kpc,b_kpc):\n",
    "    galpydens = np.zeros(len(rbin))\n",
    "    mp= MP(a=a_kpc/8.,b=b_kpc/8.,normalize=1.)\n",
    "    for i,item in enumerate(rbin):       \n",
    "        galpydens[i] = evaluateDensities(mp, item/8., 0.)*bovy_conversion.dens_in_msolpc3(150.,8.)\n",
    "    return galpydens\n",
    "\n",
    "def MND_HB(x, a_MN_kpc, b_MN_kpc, a_H_kpc):\n",
    "    rbin = x[0]\n",
    "    disk_mass_Msol = x[1]\n",
    "    bulge_mass_Msol = x[2]\n",
    "    galpydens = np.zeros(len(rbin))\n",
    "    mp = MP(amp = disk_mass_Msol, a = a_MN_kpc/8.,b=b_MN_kpc/8.)\n",
    "    hp = HP(amp = bulge_mass_Msol, a = a_H_kpc/8.)\n",
    "    pot = [mp, hp]\n",
    "    for i,item in enumerate(rbin):       \n",
    "        galpydens[i] = evaluateDensities(pot, item/8., 0.)*bovy_conversion.dens_in_msolpc3(220.,8.)\n",
    "    return galpydens   \n",
    "\n",
    "\n",
    "def decomp(s, circ_val = 0.6, plotter = False):\n",
    "    ID = s.id\n",
    "    # get number of particles \n",
    "    na = s.nparticlesall\n",
    "\n",
    "    # get mass and age of stars \n",
    "    mass = s.data['mass'].astype('float64')\n",
    "    st = na[:4].sum(); en = st+na[4]\n",
    "    age = np.zeros( s.npartall )\n",
    "    # only stars will be given an age, for other particles: age = 0\n",
    "    age[st:en] = s.data['age']\n",
    "\n",
    "    # create masks for all particles / stars within given radius\n",
    "    iall, = np.where( (s.r() < galrad) & (s.r() > 0.) )\n",
    "    istars, = np.where( (s.r() < galrad) & (s.r() > 0.) & (s.type == 4) & (age > 0.) )\n",
    "\n",
    "    # calculate radius of all particles within galrad, sort them, \\\n",
    "    # get their mass and calculate their cumulative mass sorted by their distance\n",
    "    nstars = len( istars )\n",
    "    nall   = len( iall )\n",
    "    rr = np.sqrt( (s.pos[iall,:]**2).sum(axis=1) )\n",
    "    msort = rr.argsort()\n",
    "    mass_all = mass[iall]\n",
    "    msum = np.zeros( nall )\n",
    "    msum[msort[:]] = np.cumsum(mass_all[msort[:]])\n",
    "\n",
    "    # get position, velocity, mass, type, potential, radius and age of all particles within galrad\n",
    "    pos  = s.pos[iall,:].astype( 'float64' )\n",
    "    vel = s.vel[iall,:].astype( 'float64' )\n",
    "    mass = s.data['mass'][iall].astype( 'float64' )\n",
    "    ptype = s.data['type'][iall]\n",
    "    pot = s.data['pot'][iall].astype('float64')\n",
    "    radius = np.sqrt( (s.pos[iall,:]**2).sum(axis=1) )\n",
    "    Radius = np.sqrt((s.pos[iall,2]**2 + s.pos[iall,1]**2))\n",
    "    age = age[iall]\n",
    "\n",
    "    # create zero arrays with the length = number of stars for values to be calculated\n",
    "    eps   = np.zeros( nstars )\n",
    "    eps2  = np.zeros( nstars )\n",
    "    smass = np.zeros( nstars )\n",
    "    cosalpha = np.zeros( nstars )\n",
    "    jcmax = np.zeros( nstars )\n",
    "    spec_energy = np.zeros( nstars )\n",
    "    star_age = np.zeros( nstars )\n",
    "\n",
    "    # computing stellar properties\n",
    "    print('computing star properties')\n",
    "\n",
    "    # another mask for star selection\n",
    "    nn, = np.where((ptype[:] == 4) & (age[:] > 0.)) \n",
    "\n",
    "    # calculate specific angular momentum (w/o considering mass)\n",
    "    j  = np.cross( pos[nn,:], vel[nn,:] ) #!!!! Check if x, y, z position is the right way\n",
    "    # calculate circular orbit angular momentum\n",
    "    jc = radius[nn] * np.sqrt( Gcosmo * msum[nn] / radius[nn] )\n",
    "    # get z-component of specific angular momentum !! CHECK AGAIN XYZ \n",
    "    jz = j[:,0]\n",
    "\n",
    "    # calculate specific energy\n",
    "    spec_energy[:] = 0.5 * (vel[nn,:]**2).sum(axis=1) + pot[nn]\n",
    "    # circularity parameter eps = j_z / j_circ\n",
    "    eps[:] = jz / jc\n",
    "    eps2[:] = jz\n",
    "    smass[:] = mass[nn]\n",
    "    # calculate normed Jz??\n",
    "    cosalpha[:] = jz / np.sqrt( (j[:]**2).sum(axis=1) )\n",
    "    # calculate age from cosmology\n",
    "    star_age[:] = s.cosmology_get_lookback_time_from_a( age[nn], is_flat=True )\n",
    "\n",
    "    print('computing histograms')\n",
    "\n",
    "    # sort particle by specific energy\n",
    "    iensort = np.argsort(spec_energy)\n",
    "    eps = eps[iensort]\n",
    "    eps2 = eps2[iensort]\n",
    "    spec_energy = spec_energy[iensort]\n",
    "    smass = smass[iensort]\n",
    "    cosalpha = cosalpha[iensort]\n",
    "    star_age = star_age[iensort]\n",
    "\n",
    "    # find maximum allowed J_circ for each energy for each star \n",
    "    #(look at 100 stars around selected star and find the maximum jz within them)\n",
    "    for nn in range( nstars ):\n",
    "        nn0 = nn - 50\n",
    "        nn1 = nn + 50\n",
    "\n",
    "        if nn0 < 0:\n",
    "            nn1 += -nn0\n",
    "            nn0 = 0\n",
    "        if nn1 >= nstars:\n",
    "            nn0 -= ( nn1 - (nstars - 1) )\n",
    "            nn1 = nstars - 1\n",
    "\n",
    "        jcmax[nn] = np.max( eps2[nn0:nn1] )\n",
    "    nn, = np.where((ptype[:] == 4) & (age[:] > 0.)) \n",
    "\n",
    "    # divide star mass by mass of all stars to use as weight in histogram\n",
    "    smass /= smass.sum()\n",
    "    # calculate eps = jz/j_z_max \n",
    "    eps2[:] /= jcmax[:]\n",
    "    \n",
    "    Radius_Mpc = s.r()[istars][iensort]\n",
    "    \n",
    "    zmax = 0.0005\n",
    "    ii = (eps2 >= circ_val) #& (abs(pos[:,0][nn]) < zmax)\n",
    "    jj = (eps2 < circ_val)\n",
    "    idisk = np.where((eps2 >= circ_val) & (abs(pos[:,0][nn]) < zmax))\n",
    "    ispheroid = np.where(eps2 < circ_val)\n",
    "    disk_ID = ID[istars][iensort][idisk]\n",
    "    disk_ID = ID[nn][ii]\n",
    "    spheroid_ID = ID[istars][iensort][ispheroid]\n",
    "  \n",
    "    \n",
    "    if plotter == True:\n",
    "        fig, ax = plt.subplots(1, 1, figsize=(8,6))\n",
    "        \n",
    "        ydatatot, edges = np.histogram( eps2, bins=100, weights=smass, range=[-1.7,1.7] )\n",
    "        xdatatot = 0.5 * (edges[1:] + edges[:-1])\n",
    "        xdata = xdatatot\n",
    "\n",
    "        ydatad, edgesd = np.histogram( eps2[idisk], bins=100, weights=smass[idisk], range=[-1.7,1.7] )\n",
    "        ydatas, edgess = np.histogram( eps2[ispheroid], bins=100, weights=smass[ispheroid], range=[-1.7,1.7] )\n",
    "\n",
    "        ax.fill( xdata, ydatad, fc='b', alpha=0.5, fill=True, lw=0, label='disc' )\n",
    "        ax.fill( xdata, ydatas, fc='y', alpha=0.5, fill=True, lw=0, label='spheroid' )\n",
    "        \n",
    "        ax.plot( xdatatot, ydatatot, 'k', label='total' )\n",
    "        ax.legend()\n",
    "        ax.set_xlabel('$\\epsilon$')\n",
    "        plt.show()\n",
    "    nr = 30\n",
    "    #print(mass)\n",
    "    #print(radius)\n",
    "    #print(len(mass), len(radius))\n",
    "    #print(nn, len(nn), np.sum(nn))\n",
    "    #print(ii, len(ii), np.sum(ii))\n",
    "    \n",
    "    #\n",
    "    disk_mass = np.sum(mass[nn][ii]) * 1e10 * u.Msun\n",
    "    bulge_mass = np.sum(mass[nn][jj]) * 1e10 * u.Msun\n",
    "    print('The disk\\'s mass is {:.2e} and the bulge\\'s mass is {:.2e}.'.format(disk_mass, bulge_mass))\n",
    "    pn, edges = np.histogram( Radius[nn][ii], bins=nr, weights=mass[nn][ii], range=[0., galrad] )\n",
    "    #pn, edges = np.histogram( radius[nn], bins=nr, weights=mass[nn], range=[0., galrad] )\n",
    "    rbin = 0.5 * (edges[:-1] + edges[1:])\n",
    "    vol = np.pi * (edges[1:]**2 - edges[:-1]**2)\n",
    "    rho = 1e-5 * pn / vol\n",
    "    fig, ax = plt.subplots(1, 1, figsize=(8,6))\n",
    "    sigma = rho\n",
    "    ax.semilogy(rbin*1e3,rho,color='k',marker='o', markersize=2., linewidth=0.)\n",
    "    #plt.plot(rbin*1e3, MNdens(rbin*1e3, 5, 1, 1), 'b')\n",
    "    #plt.plot(rbin*1e3, MNdens(rbin*1e3, 4, 4, 10), 'g')\n",
    "    \n",
    "    #plt.plot(rbin*1e3, galpydens, 'r')\n",
    "    #plt.plot(rbin*1e3, MNdens(rbin*1e3, 10, 2, 1), 'r')\n",
    "    x = [rbin*1e3, disk_mass, bulge_mass]\n",
    "    #(poptd, pcovd) = curve_fit( MND_HB, x, rho, (5., 1., 1.), bounds = ([0., 0., 0.],[10., 10., 10.]))#, sigma = 1./rho)# sigma = rho,, (0.1, 3., 1.), sigma=sigma, bounds=([0., 0.5], [10., 10.], [None,None]) )\n",
    "    (poptd, pcovd) = curve_fit( MNdensgalpy, rbin*1e3, rho, (5., 1.), bounds = ([0., 0.],[10., 10.]), sigma = 1/rho)# sigma = rho,, (0.1, 3., 1.), sigma=sigma, bounds=([0., 0.5], [10., 10.], [None,None]) )\n",
    "    print(poptd, pcovd)\n",
    "    a_MND_kpc   = 2.96507719743\n",
    "    b_MND_kpc   = 1.63627757204\n",
    "\n",
    "    ax.plot(rbin*1e3, MNdensgalpy(rbin*1e3, a_MND_kpc, b_MND_kpc), 'r')\n",
    "    ax.set_xlabel(\"R [kpc]\", fontsize = 18)\n",
    "    ax.set_ylabel('$rho [M_{sun}/pc^3]$', fontsize = 18)\n",
    "    #plt.plot(rbin*1e3, MND_HB(x, *poptd), 'r')\n",
    "    plt.savefig(plotdir + 'disk_density_fit_{}_circularity_edge.png'.format(circ_val), dpi = 300, format = 'png' )\n",
    "    plt.show()\n",
    "    #a_MN_kpc = poptd[0]\n",
    "    #b_MN_kpc = poptd[1]\n",
    "    #a_H_kpc  = poptd[2]\n",
    "    #mp = MP(a=a_MN_kpc/8.,b=b_MN_kpc/8.,normalize=0.7)\n",
    "    #hp = HP(a_H_kpc/8., normalize=0.3)\n",
    "    #pot = [mp, hp]    \n",
    "    #plotPotentials(pot)\n",
    "    return(disk_ID, spheroid_ID, rho, poptd)"
   ]
  },
  {
   "cell_type": "code",
   "execution_count": 41,
   "metadata": {
    "scrolled": false
   },
   "outputs": [
    {
     "name": "stdout",
     "output_type": "stream",
     "text": [
      "circular limit = 0.7\n",
      "computing star properties\n",
      "computing histograms\n",
      "The disk's mass is 3.13e+10 solMass and the bulge's mass is 3.42e+10 solMass.\n",
      "[  1.56712236e-15   2.54925895e+00] [[ 0.92344053 -0.79956355]\n",
      " [-0.79956355  0.69264492]]\n"
     ]
    },
    {
     "data": {
      "image/png": "[encoded data removed]",
      "text/plain": [
       "<matplotlib.figure.Figure at 0x2aacc00d79b0>"
      ]
     },
     "metadata": {},
     "output_type": "display_data"
    }
   ],
   "source": [
    "#for i in [0.4,0.5,0.6,0.7,0.8]:\n",
    "for i in[ 0.7]:\n",
    "    print(\"circular limit = {}\".format(i))\n",
    "    disk_ID, spheroid_ID, rho, poptd = decomp(s, plotter = 0, circ_val=i)\n",
    "#print(ID.shape, eps2.shape, istars.shape)\n"
   ]
  },
  {
   "cell_type": "code",
   "execution_count": 7,
   "metadata": {
    "collapsed": true
   },
   "outputs": [],
   "source": [
    "i_spher = np.isin(s.id, spheroid_ID)\n",
    "z_spher, y_spher, x_spher = s.pos[:,0][i_spher], s.pos[:,1][i_spher], s.pos[:,2][i_spher]\n",
    "r_spher = s.r()[i_spher]\n",
    "R_spher = np.sqrt(x_spher**2 + y_spher**2)\n",
    "i_disk = np.isin(s.id, disk_ID)\n",
    "z_disk, y_disk, x_disk = s.pos[:,0][i_disk], s.pos[:,1][i_disk], s.pos[:,2][i_disk]\n",
    "r_disk = s.r()[i_disk]\n",
    "R_disk = np.sqrt(x_disk**2 + y_disk**2)\n"
   ]
  },
  {
   "cell_type": "code",
   "execution_count": 8,
   "metadata": {},
   "outputs": [
    {
     "name": "stdout",
     "output_type": "stream",
     "text": [
      "4.19912\n",
      "385338\n",
      "712828\n"
     ]
    }
   ],
   "source": [
    "print(np.mean(1000* R_spher))\n",
    "print(len(np.where((1000*R_spher) < 1.)[0]))\n",
    "print(len(np.where((1000*R_spher) > 1.)[0]))\n",
    "#print(len(bulge_ID), len(halo_ID))"
   ]
  },
  {
   "cell_type": "code",
   "execution_count": 9,
   "metadata": {
    "scrolled": false
   },
   "outputs": [
    {
     "data": {
      "image/png": "[encoded data removed]",
      "text/plain": [
       "<matplotlib.figure.Figure at 0x2aae5114f588>"
      ]
     },
     "metadata": {},
     "output_type": "display_data"
    },
    {
     "data": {
      "image/png": "[encoded data removed]",
      "text/plain": [
       "<matplotlib.figure.Figure at 0x2aae512dcb70>"
      ]
     },
     "metadata": {},
     "output_type": "display_data"
    },
    {
     "data": {
      "image/png": "[encoded data removed]",
      "text/plain": [
       "<matplotlib.figure.Figure at 0x2aacc00b8390>"
      ]
     },
     "metadata": {},
     "output_type": "display_data"
    },
    {
     "data": {
      "image/png": "[encoded data removed]",
      "text/plain": [
       "<matplotlib.figure.Figure at 0x2aacd04ef630>"
      ]
     },
     "metadata": {},
     "output_type": "display_data"
    }
   ],
   "source": [
    "plt.hist2d(x_spher, y_spher, bins = 41, norm=colors.LogNorm(), cmap = cmap)\n",
    "plt.axis('equal')\n",
    "plt.colorbar()\n",
    "#plt.xlim(0,0.1)\n",
    "#plt.axis(0, 0.10, -0.1, 0.1)\n",
    "plt.show()\n",
    "\n",
    "plt.hist2d(R_spher, z_spher, bins = 41, norm=colors.LogNorm(), cmap = cmap)\n",
    "plt.axis('equal')\n",
    "plt.colorbar()\n",
    "#plt.xlim(0,0.1)\n",
    "#plt.axis(0, 0.10, -0.1, 0.1)\n",
    "plt.show()\n",
    "\n",
    "plt.hist2d(x_disk, y_disk, bins = 41, norm=colors.LogNorm(), cmap = cmap)\n",
    "plt.axis('equal')\n",
    "plt.colorbar()\n",
    "#plt.xlim(0,0.1)\n",
    "plt.show()\n",
    "\n",
    "plt.hist2d(R_disk, z_disk, bins = 41, norm=colors.LogNorm(), cmap = cmap)\n",
    "plt.axis('equal')\n",
    "plt.colorbar()\n",
    "#plt.xlim(0,0.1)\n",
    "plt.show()"
   ]
  },
  {
   "cell_type": "code",
   "execution_count": null,
   "metadata": {
    "collapsed": true
   },
   "outputs": [],
   "source": []
  },
  {
   "cell_type": "code",
   "execution_count": null,
   "metadata": {
    "collapsed": true
   },
   "outputs": [],
   "source": []
  }
 ],
 "metadata": {
  "kernelspec": {
   "display_name": "Python 3",
   "language": "python",
   "name": "python3"
  },
  "language_info": {
   "codemirror_mode": {
    "name": "ipython",
    "version": 3
   },
   "file_extension": ".py",
   "mimetype": "text/x-python",
   "name": "python",
   "nbconvert_exporter": "python",
   "pygments_lexer": "ipython3",
   "version": "3.6.3"
  }
 },
 "nbformat": 4,
 "nbformat_minor": 2
}
