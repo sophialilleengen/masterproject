{
 "cells": [
  {
   "cell_type": "code",
   "execution_count": 1,
   "metadata": {
    "collapsed": true
   },
   "outputs": [],
   "source": [
    "machine = 'mac'\n",
    "machine = 'magny'"
   ]
  },
  {
   "cell_type": "code",
   "execution_count": 2,
   "metadata": {
    "collapsed": true
   },
   "outputs": [],
   "source": [
    "if machine == 'magny':\n",
    "    basedir = \"/hits/universe/GigaGalaxy/level4_MHD/\"\n",
    "    outdir = \"/home/extmilan/masterthesis/files/\"\n",
    "elif machine == 'mac': \n",
    "    basedir = \"/Users/smilanov/Desktop/Auriga/level4/\"\n",
    "    outdir = \"/Users/smilanov/Documents/masterthesis/auriga_files/files/\"\n",
    "    \n",
    "file = outdir + 'potential_params.txt'"
   ]
  },
  {
   "cell_type": "code",
   "execution_count": 3,
   "metadata": {},
   "outputs": [
    {
     "name": "stdout",
     "output_type": "stream",
     "text": [
      "galpyWarning: A major change in versions > 1.1 is that all galpy.potential functions and methods take the potential as the first argument; previously methods such as evaluatePotentials, evaluateDensities, etc. would be called with (R,z,Pot), now they are called as (Pot,R,z) for greater consistency across the codebase\n"
     ]
    }
   ],
   "source": [
    "from galpy.potential import NFWPotential as NFWpot\n",
    "from galpy.potential import HernquistPotential as HEpot\n",
    "from galpy.potential import DoubleExponentialDiskPotential as DEpot\n",
    "from galpy.potential import MiyamotoNagaiPotential as MNpot\n",
    "from galpy.potential import MN3ExponentialDiskPotential as MN3pot\n",
    "from galpy.potential import MWPotential2014\n",
    "from galpy.potential import evaluatePotentials, MiyamotoNagaiPotential, NFWPotential, HernquistPotential\n",
    "\n",
    "\n",
    "from galpy.potential import evaluateDensities, evaluatePotentials\n",
    "from galpy.potential import plotDensities\n",
    "from galpy.potential import plotRotcurve\n",
    "from galpy.util import bovy_conversion\n",
    "\n",
    "import emcee\n",
    "\n",
    "import numpy as np\n",
    "from scipy import optimize as opt\n",
    "\n",
    "from astropy import units\n",
    "\n",
    "import matplotlib.pyplot as plt\n",
    "from matplotlib.colors import LogNorm\n",
    "\n",
    "from mpl_toolkits.axes_grid1 import make_axes_locatable\n",
    "from mpl_toolkits.mplot3d import Axes3D\n",
    "import copy\n",
    "\n",
    "from areposnap.gadget import gadget_readsnap\n",
    "from areposnap.gadget_subfind import load_subfind\n",
    "\n",
    "from auriga_basics import *\n",
    "from auriga_functions import *\n",
    "\n",
    "import datetime\n",
    "import random\n",
    "\n",
    "%matplotlib inline"
   ]
  },
  {
   "cell_type": "markdown",
   "metadata": {},
   "source": [
    "With eat_snap_and_fof we can read in simulations from snapnr 3.\n",
    "\n",
    "Number of DM particles (does not change during simulation run): 34,898,087\n",
    "\n",
    "Let's take a random sample which makes $0.5\\%$:\n",
    "\n",
    "$0.005 \\cdot 34898087 \\approx 175000$\n",
    "\n"
   ]
  },
  {
   "cell_type": "markdown",
   "metadata": {},
   "source": [
    "Potential fitting function input values\n",
    "---\n",
    "\n",
    "- maximum R [Mpc] - def 2 * s.galrad\n",
    "- mask to fit potential (default - dm)\n",
    "    - 0: all\n",
    "    - 1: gas\n",
    "    - 2: DM\n",
    "    - 3: stars\n",
    "    \n",
    "- number of particles\n",
    "- fitting function (default - emcee1)\n",
    "    - if emcee1 number of walkers, number of steps\n",
    "- savefile\n",
    "- R0 [kpc] - def 8kpc\n",
    "\n",
    "parameters:\n",
    "- plot\n",
    "- save\n",
    "- verbose\n"
   ]
  },
  {
   "cell_type": "code",
   "execution_count": 4,
   "metadata": {
    "collapsed": true
   },
   "outputs": [],
   "source": [
    "#_____function that sets-up galpy potential_____\n",
    "def setup_galpy_potential(a_MND_kpc, b_MND_kpc, a_NFWH_kpc, a_HB_kpc, n_MND, n_NFWH, n_HB, _REFR0_kpc):\n",
    "    \n",
    "    #test input:\n",
    "    if (a_MND_kpc <= 0.) or (b_MND_kpc <= 0.) or (a_NFWH_kpc <= 0.) or (a_HB_kpc <= 0.) \\\n",
    "       or (n_MND <= 0.) or (n_NFWH <= 0.) or (n_HB <= 0.) or (n_MND >= 1.) or (n_NFWH >= 1.) or (n_HB >= 1.):\n",
    "        raise ValueError('Error in setup_galpy_potential: '+\\\n",
    "                         'The input parameters for the scaling profiles do not correspond to a physical potential.')\n",
    "    if np.fabs(n_MND + n_NFWH + n_HB - 1.) > 1e-7:\n",
    "        raise ValueError('Error in setup_galpy_potential: '+\\\n",
    "                         'The sum of the normalization does not add up to 1.')\n",
    "        \n",
    "    #trafo to galpy units:\n",
    "    a_MND  = a_MND_kpc / _REFR0_kpc\n",
    "    b_MND  = b_MND_kpc / _REFR0_kpc\n",
    "    a_NFWH = a_NFWH_kpc / _REFR0_kpc\n",
    "    a_HB   = a_HB_kpc / _REFR0_kpc\n",
    "    \n",
    "    #setup potential:\n",
    "    disk = MiyamotoNagaiPotential(\n",
    "                a = a_MND,\n",
    "                b = b_MND,\n",
    "                normalize = n_MND)\n",
    "    halo = NFWPotential(\n",
    "                a = a_NFWH,\n",
    "                normalize = n_NFWH)\n",
    "    bulge = HernquistPotential(\n",
    "                a = a_HB,\n",
    "                normalize = n_HB)\n",
    "    return [disk, halo, bulge]\n"
   ]
  },
  {
   "cell_type": "code",
   "execution_count": 5,
   "metadata": {
    "collapsed": true
   },
   "outputs": [],
   "source": [
    "#_____function for MCMC, sum of error squares_____\n",
    "def lnprob_MCMC(x, *args):\n",
    "    \n",
    "    # read fitting parameters:\n",
    "    v0_kms     = x[0]\n",
    "    a_MND_kpc  = x[1]\n",
    "    b_MND_kpc  = x[2]\n",
    "    a_NFWH_kpc = x[3]\n",
    "    a_HB_kpc   = x[4]\n",
    "    n_MND      = x[5]\n",
    "    n_NFWH     = x[6]\n",
    "    n_HB       = 1. - n_NFWH - n_MND\n",
    "    \n",
    "    # check if imput parameters are physical:\n",
    "    if v0_kms <= 0: return -np.inf\n",
    "    # (Note: all other parameters are checked during setting up the galpy potential.)\n",
    "        \n",
    "    #read data:\n",
    "    R_kpc_data    = args[0]\n",
    "    z_kpc_data    = args[1]\n",
    "    pot_kms2_data = args[2]\n",
    "    _REFR0_kpc    = args[3]\n",
    "    \n",
    "    # setup potential (and check if parameters are physical):\n",
    "    try:\n",
    "        pot_galpy_model = setup_galpy_potential(a_MND_kpc, b_MND_kpc, a_NFWH_kpc, a_HB_kpc, n_MND, n_NFWH, n_HB, _REFR0_kpc)\n",
    "    except Exception as e:\n",
    "        #uncomment for debugging:\n",
    "        #print e.message\n",
    "        #print x\n",
    "        return -np.inf\n",
    "\n",
    "    #calculate potential values at (R,z) for this potential:\n",
    "    pot_kms2_model = evaluatePotentials(pot_galpy_model,\n",
    "                                   R_kpc_data / _REFR0_kpc,\n",
    "                                   z_kpc_data / _REFR0_kpc) * (v0_kms)**2\n",
    "    \n",
    "    #calculate sum of relative error squares:\n",
    "    err = np.sum(-0.5 * (pot_kms2_data - pot_kms2_model)**2)\n",
    "    return err"
   ]
  },
  {
   "cell_type": "code",
   "execution_count": null,
   "metadata": {
    "collapsed": true
   },
   "outputs": [],
   "source": [
    "def potential_fit(maxr_Mpc, _REFR0_kpc = 8., mask_num = 2, part_num = 1501, \\\n",
    "                  v0_kms_init = 150., a_MND_kpc_init = 6., b_MND_kpc_init = 1., \\\n",
    "                  a_NFWH_kpc_init = 10., a_HB_kpc_init = 2., n_MND_init = 0.2, n_NFWH_init = 0.6, \\\n",
    "                  fitroutine = 'emcee1', nwalkers = 50, nstep = 1000, \\\n",
    "                  file = file, res_arr = [], plot = False, save = False, verbose = False):\n",
    "    \n",
    "    ### selection masks\n",
    "    # select ALL particles belonging to the main galaxy within maxr\n",
    "    if mask_num == 0:\n",
    "        mask, = np.where( (s.halo == 0) & (s.r() < maxr_Mpc) & (s.r() > 0.) )\n",
    "        parts_to_fit = 'all'\n",
    "    # select GAS particles belonging to the main galaxy within maxr\n",
    "    if mask_num == 1:\n",
    "        mask, = np.where( (s.halo == 0) & (s.r() < maxr_Mpc) & (s.r() > 0.) & (s.type == 0) )\n",
    "        parts_to_fit = 'gas'\n",
    "    # select DM particles belonging to the main galaxy within maxr\n",
    "    if mask_num == 2:\n",
    "        mask, = np.where( (s.halo == 0) & (s.r() < maxr_Mpc) & (s.r() > 0.) & ((s.type == 1) + (s.type == 2) + (s.type == 3) ))\n",
    "        parts_to_fit = 'DM'\n",
    "    # select STAR particles belonging to the main galaxy within maxr\n",
    "    if mask_num == 3:\n",
    "        mask, = np.where( (s.halo == 0) & (s.r() < maxr_Mpc) & (s.r() > 0.) & (s.type == 4) )\n",
    "        parts_to_fit = 'star'\n",
    "    \n",
    "    if verbose == True:\n",
    "        print('The potential is fitted to ' + str(part_num) + ' random selected ' + parts_to_fit + ' particles.')\n",
    "   \n",
    "    # select data with mask\n",
    "    r_kpc = 1000. * s.r()[mask]\n",
    "    (R_kpc, phi_rad, z_kpc), (vR_kms, vphi_kms, vz_kms) = get_cylindrical_vectors(s, sf, mask) \n",
    "    pot_kms2 = s.pot[mask]\n",
    "    \n",
    "    # draw random sample out of data\n",
    "    try:\n",
    "        rand_samp = np.array(random.sample(list(enumerate(pot_kms2)), part_num))\n",
    "        rand_ind = rand_samp[:,0].astype(int)\n",
    "        pot_kms2_data = rand_samp[:, 1]\n",
    "        r_kpc_data = r_kpc[rand_ind]\n",
    "        R_kpc_data = R_kpc[rand_ind]\n",
    "        z_kpc_data = z_kpc[rand_ind]\n",
    "    except ValueError:        \n",
    "        pot_kms2_data = pot_kms2\n",
    "        r_kpc_data = r_kpc\n",
    "        R_kpc_data = R_kpc\n",
    "        z_kpc_data = z_kpc\n",
    "    \n",
    "    if fitroutine == 'emcee1': # maybe implement diff ev but not now\n",
    "        # _____prepare MCMC_____\n",
    "        ndim, nwalkers, nstep = 7, nwalkers, nstep\n",
    "\n",
    "        # initial values for fit:\n",
    "        # init values as input of function\n",
    "        initial_guess = np.array([v0_kms_init, a_MND_kpc_init, b_MND_kpc_init, a_NFWH_kpc_init, \\\n",
    "                                  a_HB_kpc_init, n_MND_init, n_NFWH_init])\n",
    "        initial_guess_width = np.fabs(0.2 * initial_guess)\n",
    "        p0 = np.array([np.random.randn(ndim) * np.array(initial_guess_width) + initial_guess \\\n",
    "                                                      for i in range(nwalkers)])\n",
    "        # fiitting boundaries:\n",
    "        boundaries = np.array([[0.,np.inf],[0.,np.inf],[0.,np.inf],[0.,np.inf],[0.,np.inf],[0.,1.],[0.,1.]])\n",
    "        for pp in range(ndim):\n",
    "            p0[(p0[:,pp] < boundaries[pp,0]),pp] = initial_guess[pp] + np.random.uniform() * 0.1\n",
    "            p0[(p0[:,pp] > boundaries[pp,1]),pp] = initial_guess[pp] - np.random.uniform() * 0.1\n",
    "\n",
    "        # _____run MCMC_____\n",
    "        sampler = emcee.EnsembleSampler(nwalkers, ndim,\n",
    "                                       lnprob_MCMC,\n",
    "                                       args = [R_kpc_data, z_kpc_data, pot_kms2_data, _REFR0_kpc])\n",
    "        sampler.run_mcmc(p0, nstep)\n",
    "\n",
    "        # result:\n",
    "        burnin = int(nwalkers / 2.) # check what this is used for. #1000\n",
    "        final_samples = sampler.chain[:, burnin:, :].reshape((-1, ndim))\n",
    "        chain_samples = sampler.chain\n",
    "\n",
    "        median = np.median(final_samples,axis=0)\n",
    "        std = np.std(final_samples,axis=0)\n",
    "\n",
    "        v0_kms_bestfit     = median[0]\n",
    "        a_MND_kpc_bestfit  = median[1]\n",
    "        b_MND_kpc_bestfit  = median[2]\n",
    "        a_NFWH_kpc_bestfit = median[3]\n",
    "        a_HB_kpc_bestfit   = median[4]\n",
    "        n_MND_bestfit      = median[5]\n",
    "        n_NFWH_bestfit     = median[6]\n",
    "        n_HB_bestfit       = 1. - (n_MND_bestfit + n_NFWH_bestfit)\n",
    "\n",
    "        v0_kms_bestfit_err     = std[0]\n",
    "        a_MND_kpc_bestfit_err  = std[1]\n",
    "        b_MND_kpc_bestfit_err  = std[2]\n",
    "        a_NFWH_kpc_bestfit_err = std[3]\n",
    "        a_HB_kpc_bestfit_err   = std[4]\n",
    "        n_MND_bestfit_err      = std[5]\n",
    "        n_NFWH_bestfit_err     = std[6]\n",
    "        n_HB_bestfit_err       = (n_MND_bestfit_err + n_NFWH_bestfit_err)\n",
    "\n",
    "        \n",
    "        \n",
    "    # save potential parameters with errors and snapnr:\n",
    "        pot_bestfit = np.array([v0_kms_bestfit, v0_kms_bestfit_err, a_MND_kpc_bestfit, a_MND_kpc_bestfit_err, \\\n",
    "                            b_MND_kpc_bestfit, b_MND_kpc_bestfit_err, a_NFWH_kpc_bestfit, a_NFWH_kpc_bestfit_err, \\\n",
    "                            a_HB_kpc_bestfit, a_HB_kpc_bestfit_err, n_MND_bestfit, n_MND_bestfit_err, \\\n",
    "                            n_NFWH_bestfit, n_NFWH_bestfit_err, n_HB_bestfit, n_HB_bestfit_err])\n",
    "        \n",
    "    res_arr = np.append(res_arr, pot_bestfit)\n",
    "    #np.savetxt(file, pot_bestfit, fmt = '%10.15f')\n",
    "    \n",
    "    # generate potential measurements:\n",
    "    pot_galpy_bestfit = setup_galpy_potential(a_MND_kpc_bestfit,b_MND_kpc_bestfit,\n",
    "                                           a_NFWH_kpc_bestfit,a_HB_kpc_bestfit,\n",
    "                                           n_MND_bestfit,n_NFWH_bestfit,n_HB_bestfit, _REFR0_kpc)\n",
    "    pot_kms2_bestfit = evaluatePotentials(pot_galpy_bestfit,\n",
    "                                       R_kpc_data/_REFR0_kpc,\n",
    "                                       z_kpc_data/_REFR0_kpc) * (v0_kms_bestfit)**2\n",
    "    if fitroutine == 'emcee1':\n",
    "        sampler.reset()\n",
    "\n",
    "    return res_arr"
   ]
  },
  {
   "cell_type": "code",
   "execution_count": null,
   "metadata": {
    "scrolled": false
   },
   "outputs": [
    {
     "name": "stdout",
     "output_type": "stream",
     "text": [
      "snapnr  : 121\n",
      "11:39:48.692623\n",
      "[ 32.04627228  30.8679924   34.56239319]\n",
      "/home/extmilan/anaconda3/lib/python3.6/site-packages/emcee/ensemble.py:335: RuntimeWarning: invalid value encountered in subtract\n",
      "  lnpdiff = (self.dim - 1.) * np.log(zz) + newlnprob - lnprob0\n",
      "\n",
      "/home/extmilan/anaconda3/lib/python3.6/site-packages/emcee/ensemble.py:336: RuntimeWarning: invalid value encountered in greater\n",
      "  accept = (lnpdiff > np.log(self._random.rand(len(lnpdiff))))\n",
      "\n",
      "snapnr  : 122\n",
      "11:53:45.242052\n",
      "[ 32.50867844  31.31370544  35.09283066]\n",
      "snapnr  : 123\n",
      "12:08:24.170504\n",
      "[ 32.82047653  31.61475182  35.45058823]\n"
     ]
    }
   ],
   "source": [
    "#### path = /hits/universe/GigaGalaxy/level4_MHD/halo_24/output/*\n",
    "level = 4\n",
    "\n",
    "j = 0\n",
    "for halo_number in [24]:  # range(1, 31):\n",
    "    halodir = basedir+\"halo_{0}/\".format(halo_number)\n",
    "    snappath = halodir+\"output/\"\n",
    "    for snapnr in range(121,128,1):\n",
    "        #print(\"level   : {0}\".format(level))\n",
    "        #print(\"halo    : {0}\".format(halo_number))\n",
    "        print(\"snapnr  : {0}\".format(snapnr))\n",
    "        print(datetime.datetime.now().time())\n",
    "        #print(\"basedir : {0}\".format(basedir))\n",
    "        #print(\"halodir : {0}\".format(halodir))\n",
    "        #print(\"snappath: {0}\\n\".format(snappath))\n",
    "        try:\n",
    "            s, sf = eat_snap_and_fof(level, halo_number, snapnr, snappath, loadonlytype=[1,2,3], \n",
    "            haloid=0, galradfac=0.1, verbose=False, rotate_disk=False, do_rotation=False, use_principal_axis=False) \n",
    "        except KeyError:\n",
    "            print('\\n\\n', snapnr, 'not read in.\\n\\n')\n",
    "            continue\n",
    "\n",
    "        # Clean negative and zero values of gmet to avoid RuntimeErrors\n",
    "        # later on (e.g. dividing by zero)\n",
    "        #s.data['gmet'] = np.maximum( s.data['gmet'], 1e-40 )\n",
    "        #print('Maximum phase space extend of snapshot' + str(snapnr) + 'in Mpc:', np.max(s.r()))\n",
    "        if j == 0:\n",
    "            res_arr = potential_fit(maxr_Mpc = 2. * s.galrad, part_num = 175000)\n",
    "            res_arr = np.insert(res_arr, 0, snapnr)\n",
    "            j +=1\n",
    "        else:\n",
    "            res_arr = potential_fit(maxr_Mpc = 2. * s.galrad, part_num = 175000, res_arr=res_arr)\n",
    "            res_arr = np.insert(res_arr, 17 * (snapnr - 121 ), snapnr)\n",
    "\n",
    "        #print(res_arr)\n",
    "        '''\n",
    "        if (snapnr % 10) ==0:\n",
    "\n",
    "            f = open(file, 'w') # existing file will be overwritten\n",
    "            f.write(\"#snapnr\\tv0_kms_bestfit\\tv0_kms_bestfit_err\\ta_MND_kpc_bestfit\\ta_MND_kpc_bestfit_err\\tb_MND_kpc_bestfit\\tb_MND_kpc_bestfit_err\\ta_NFWH_kpc_bestfit\\ta_NFWH_kpc_bestfit_err\\ta_HB_kpc_bestfit\\ta_HB_kpc_bestfit_err\\tn_MND_bestfit\\tn_MND_bestfit_err\\tn_NFWH_bestfit\\tn_NFWH_bestfit_err\\tn_HB_bestfit\\tn_HB_bestfit_err\\n\")\n",
    "            f.close()\n",
    "            f = open(file,'ab') # open file in append and binary mode to make savetxt work and append\n",
    "            np.savetxt(f,res_arr)\n",
    "            f.close()\n",
    "        '''\n",
    "\n",
    "res_arr = res_arr.reshape(7,17) # instead of 4 number of simulations fitted\n",
    "\n",
    "np.savetxt(outdir + 'safetyfile.txt', res_arr)\n",
    "\n",
    "#f = open(file, 'w') # existing file will be overwritten\n",
    "#f.write(\"#snapnr\\tv0_kms_bestfit\\tv0_kms_bestfit_err\\ta_MND_kpc_bestfit\\ta_MND_kpc_bestfit_err\\tb_MND_kpc_bestfit\\tb_MND_kpc_bestfit_err\\ta_NFWH_kpc_bestfit\\ta_NFWH_kpc_bestfit_err\\ta_HB_kpc_bestfit\\ta_HB_kpc_bestfit_err\\tn_MND_bestfit\\tn_MND_bestfit_err\\tn_NFWH_bestfit\\tn_NFWH_bestfit_err\\tn_HB_bestfit\\tn_HB_bestfit_err\\n\")\n",
    "#f.close()\n",
    "f = open(file,'ab') # open file in append and binary mode to make savetxt work and append\n",
    "np.savetxt(f,res_arr)\n",
    "f.close()\n"
   ]
  },
  {
   "cell_type": "code",
   "execution_count": null,
   "metadata": {
    "collapsed": true
   },
   "outputs": [],
   "source": []
  },
  {
   "cell_type": "raw",
   "metadata": {},
   "source": [
    "res_arr = potential_fit()\n",
    "print(res_arr)\n",
    "for i in range(3):\n",
    "    res_arr = potential_fit(res_arr=res_arr)\n",
    "print(res_arr)\n",
    "res_arr = res_arr.reshape(4,16) # instead of 4 number of simulations fitted"
   ]
  },
  {
   "cell_type": "code",
   "execution_count": null,
   "metadata": {
    "collapsed": true
   },
   "outputs": [],
   "source": [
    "#res_arr = res_arr.reshape(4,16)"
   ]
  },
  {
   "cell_type": "raw",
   "metadata": {},
   "source": [
    "#a = np.zeros(10)\n",
    "a = np.array([])\n",
    "for i in range(3):\n",
    "    #print(a)\n",
    "    #print(np.full(10,i))\n",
    "    a = np.append(a, np.full(10,i+1))\n",
    "    \n",
    "print(a)\n",
    "a = a.reshape(3,10)\n",
    "print(a)"
   ]
  },
  {
   "cell_type": "code",
   "execution_count": null,
   "metadata": {
    "collapsed": true
   },
   "outputs": [],
   "source": [
    "### get data and masks out of simulation\n",
    "\n",
    "# set maximum (3d) Radius of galaxy\n",
    "maxr_Mpc = 2. * s.galrad #Mpc\n",
    "#maxr_Mpc = 0.015 #Mpc\n",
    "\n",
    "## selection masks\n",
    "# select ALL particles belonging to the main galaxy within maxr\n",
    "iall, = np.where( (s.halo == 0) & (s.r() < maxr_Mpc) & (s.r() > 0.) )\n",
    "# select GAS particles belonging to the main galaxy within maxr\n",
    "igas, = np.where( (s.halo == 0) & (s.r() < maxr_Mpc) & (s.r() > 0.) & (s.type == 0) )\n",
    "# select DM particles belonging to the main galaxy within maxr\n",
    "idm, = np.where( (s.halo == 0) & (s.r() < maxr_Mpc) & (s.r() > 0.) & ((s.type == 1) + (s.type == 2) + (s.type == 3) ))\n",
    "# select STAR particles belonging to the main galaxy within maxr\n",
    "istars, = np.where( (s.halo == 0) & (s.r() < maxr_Mpc) & (s.r() > 0.) & (s.type == 4) )\n",
    "\n",
    "# choose which mask to use\n",
    "mask = iall    \n",
    "\n",
    "## check if I actually use them........\n",
    "# get cartesian and cylindrical vectors\n",
    "# check unit of v_phi (even though not used)\n",
    "(x_kpc, y_kpc, z_kpc), (vx_kms, vy_kms, vz_kms), rxyz_kpc, rxy_kpc = get_cartesian_vectors(s, sf, mask)\n",
    "(R_kpc, phi, z_kpc), (vR_kms, vphi, vz_kms) = get_cylindrical_vectors(s, sf, mask)\n",
    "(x, y, z), (vx, vy, vz), rxyz, rxy = get_cartesian_vectors(s, sf, mask)\n",
    "(R, phi, z), (vR, vphi, vz) = get_cylindrical_vectors(s, sf, mask)\n",
    "\n",
    "# select data for each mask\n",
    "r_dm_kpc = 1000. * s.r()[idm]\n",
    "r_gas_kpc = 1000. * s.r()[igas]\n",
    "r_stars_kpc = 1000. * s.r()[istars]\n",
    "r_all_kpc = 1000. * s.r()[iall]\n",
    "(R_dm_kpc, phi, z_dm_kpc), (vR_kms, vphi, vz_kms) = get_cylindrical_vectors(s, sf, idm) \n",
    "pot_dm_kms2 = s.pot[idm]\n",
    "pot_gas_kms2 = s.pot[igas]\n",
    "pot_stars_kms2 = s.pot[istars]\n",
    "pot_all_kms2 = s.pot[iall]\n"
   ]
  },
  {
   "cell_type": "code",
   "execution_count": null,
   "metadata": {
    "collapsed": true,
    "scrolled": true
   },
   "outputs": [],
   "source": [
    "plt.plot(r_stars_kpc, pot_stars_kms2, 'b.', alpha = 0.01, label = 'stars')\n",
    "plt.plot(r_gas_kpc, pot_gas_kms2, 'g.', alpha = 0.01, label = 'gas')\n",
    "plt.plot(r_dm_kpc, pot_dm_kms2, 'r.', alpha = 0.1, label = 'DM') \n",
    "plt.legend()\n",
    "plt.xlabel('R [kpc]')\n",
    "plt.ylabel('pot [$(\\\\frac{\\mathrm{km}}{\\mathrm{s}})^2]$')"
   ]
  },
  {
   "cell_type": "code",
   "execution_count": null,
   "metadata": {
    "collapsed": true
   },
   "outputs": [],
   "source": [
    "# dm particle (random) selection\n",
    "a = np.array(random.sample(list(enumerate(pot_dm_kms2)),150001))\n",
    "rand_ind = a[:,0].astype(int)\n",
    "rand_pot_dm_kms2 = a[:, 1]\n",
    "rand_r_dm_kpc = r_dm_kpc[rand_ind]\n",
    "rand_R_dm_kpc = R_dm_kpc[rand_ind]\n",
    "rand_z_dm_kpc = z_dm_kpc[rand_ind]\n",
    "\n",
    "r_kpc_data, R_kpc_data, z_kpc_data, pot_kms2_data = rand_r_dm_kpc, rand_R_dm_kpc, rand_z_dm_kpc, rand_pot_dm_kms2\n",
    "\n",
    "plt.plot(r_kpc_data, pot_kms2_data, 'r.', alpha = 0.1, label = 'DM') \n",
    "plt.legend()\n",
    "plt.xlabel('r [kpc]')\n",
    "plt.ylabel('pot [$(\\\\frac{\\mathrm{km}}{\\mathrm{s}})^2]$')\n",
    "plt.show()\n",
    "plt.plot(R_kpc_data, pot_kms2_data, 'r.', alpha = 0.1, label = 'DM') \n",
    "plt.legend()\n",
    "plt.xlabel('R [kpc]')\n",
    "plt.ylabel('pot [$(\\\\frac{\\mathrm{km}}{\\mathrm{s}})^2]$')\n",
    "plt.show()\n",
    "plt.plot(z_kpc_data, pot_kms2_data, 'r.', alpha = 0.1, label = 'DM') \n",
    "plt.legend()\n",
    "plt.xlabel('z [kpc]')\n",
    "plt.ylabel('pot [$(\\\\frac{\\mathrm{km}}{\\mathrm{s}})^2]$')\n",
    "plt.show()\n"
   ]
  },
  {
   "cell_type": "code",
   "execution_count": null,
   "metadata": {
    "collapsed": true
   },
   "outputs": [],
   "source": [
    "#_____reference values for galpy_____\n",
    "_REFR0_kpc = 8."
   ]
  },
  {
   "cell_type": "markdown",
   "metadata": {},
   "source": [
    "Scipy differential_evolution\n",
    "----\n"
   ]
  },
  {
   "cell_type": "code",
   "execution_count": null,
   "metadata": {
    "collapsed": true
   },
   "outputs": [],
   "source": [
    "#_____function for scipy.differential_evolution that sums the relative error squares_____\n",
    "def rel_pot_error_scipydifferentialevolution(x,*args):\n",
    "    '''\n",
    "    INPUT: x: parameters to be fitted\n",
    "               x[0]: v0 [km/s]\n",
    "               x[1], x[2]: scale lengths of Miyamoto Nagai disk [kpc]\n",
    "               x[3], x[4]: scale length of MFW and Hernquist halo and bulge potentials [kpc]\n",
    "               x[5], x[6]: normalization of MND and NFWH (including normalization of HB by subtracting them from 1)\n",
    "           args: data\n",
    "               args[0], args[1]: grid of R and z in kpc\n",
    "               args[2]: potential in (km/s)**2\n",
    "    OUTPUT: err: sum of relative error squares\n",
    "    '''\n",
    "    \n",
    "    #read fitting parameters:\n",
    "    v0_kms     = x[0]\n",
    "    a_MND_kpc  = x[1]\n",
    "    b_MND_kpc  = x[2]\n",
    "    a_NFWH_kpc = x[3]\n",
    "    a_HB_kpc   = x[4]\n",
    "    n_MND      = x[5]\n",
    "    n_NFWH     = x[6]\n",
    "    n_HB       = 1.-n_NFWH-n_MND\n",
    "    \n",
    "    #read data:\n",
    "    R_kpc_data    = args[0]\n",
    "    z_kpc_data    = args[1]\n",
    "    pot_kms2_data = args[2]\n",
    "    \n",
    "    #setup potential (and check if parameters are physical):\n",
    "    try:\n",
    "        pot_galpy_model = setup_galpy_potential(a_MND_kpc,b_MND_kpc,a_NFWH_kpc,a_HB_kpc,n_MND,n_NFWH,n_HB)\n",
    "        #print('Setup potential works.')\n",
    "    except Exception as e:\n",
    "        #uncomment for debugging:\n",
    "        #print(e.message)\n",
    "        #print(x)\n",
    "        return np.inf\n",
    "\n",
    "    #calculate potential values at (R,z) for this potential:\n",
    "    pot_kms2_model = evaluatePotentials(pot_galpy_model,\n",
    "                                   R_kpc_data/_REFR0_kpc,\n",
    "                                   z_kpc_data/_REFR0_kpc) * (v0_kms)**2\n",
    "    \n",
    "    #calculate sum of relative error squares:\n",
    "    err = np.sum(((pot_kms2_data - pot_kms2_model) / pot_kms2_model)**2)\n",
    "    #print(err)\n",
    "    return err"
   ]
  },
  {
   "cell_type": "code",
   "execution_count": null,
   "metadata": {
    "collapsed": true,
    "scrolled": false
   },
   "outputs": [],
   "source": [
    "lower_floor = 1e-3\n",
    "bounds = ((lower_floor,400.), #vcirc\n",
    "          (lower_floor,200.), #a_MND\n",
    "          (lower_floor,200.), #b_MND\n",
    "          (lower_floor,200.), #a_NFWH\n",
    "          (lower_floor,200.), #a_HB\n",
    "          (0.,1.), #n_MND\n",
    "          (0.,1.)) #n_NFWH\n",
    "\n",
    "#fitting:\n",
    "res = opt.differential_evolution(\n",
    "            rel_pot_error_scipydifferentialevolution,\n",
    "            bounds=bounds,\n",
    "            args=(R_kpc_data,z_kpc_data,pot_kms2_data),\n",
    "            strategy='best1bin',\n",
    "            maxiter=10000,tol=0.001,atol=1e-7,\n",
    "            disp=False\n",
    "            )\n",
    "\n",
    "print(res)\n",
    "print(\"best fit:\")\n",
    "print(\"v0_kms    \", res.x[0])\n",
    "print(\"a_MND_kpc \", res.x[1])\n",
    "print(\"b_MND_kpc \", res.x[2])\n",
    "print(\"a_NFWH_kpc\", res.x[3])\n",
    "print(\"a_HB_kpc  \", res.x[4])\n",
    "print(\"n_MND     \", res.x[5])\n",
    "print(\"n_NFWH    \", res.x[6])\n",
    "print(\"n_HB      \", 1.-res.x[5]-res.x[6])\n",
    "\n",
    "pot_diff_ev = np.array([res.x[0], res.x[1], res.x[2], res.x[3], res.x[4], res.x[5], res.x[6],  1.-res.x[5]-res.x[6]])\n",
    "np.savetxt(outdir + 'pot_res_diff_ev.txt', pot_diff_ev, fmt = '%10.15f')"
   ]
  },
  {
   "cell_type": "code",
   "execution_count": null,
   "metadata": {
    "collapsed": true
   },
   "outputs": [],
   "source": [
    "v0_kms_bestfit     = res.x[0]\n",
    "a_MND_kpc_bestfit  = res.x[1]\n",
    "b_MND_kpc_bestfit  = res.x[2]\n",
    "a_NFWH_kpc_bestfit = res.x[3]\n",
    "a_HB_kpc_bestfit   = res.x[4]\n",
    "n_MND_bestfit      = res.x[5]\n",
    "n_NFWH_bestfit     = res.x[6]\n",
    "n_HB_bestfit       = 1. - (n_MND_bestfit + n_NFWH_bestfit)\n",
    "\n",
    "#generate potential measurements:\n",
    "pot_galpy_bestfit = setup_galpy_potential(a_MND_kpc_bestfit,b_MND_kpc_bestfit,\n",
    "                                       a_NFWH_kpc_bestfit,a_HB_kpc_bestfit,\n",
    "                                       n_MND_bestfit,n_NFWH_bestfit,n_HB_bestfit)\n",
    "pot_kms2_bestfit = evaluatePotentials(pot_galpy_bestfit,\n",
    "                                   R_kpc_data/_REFR0_kpc,\n",
    "                                   z_kpc_data/_REFR0_kpc) * (v0_kms_bestfit)**2"
   ]
  },
  {
   "cell_type": "code",
   "execution_count": null,
   "metadata": {
    "collapsed": true
   },
   "outputs": [],
   "source": [
    "plotDensities(pot_galpy_bestfit,rmin=00.1,rmax = 6,zmax=6,zmin=-6,nrs=101,nzs=101, log=1, aspect = 'equal')\n",
    "plt.show()\n",
    "print('log scale')"
   ]
  },
  {
   "cell_type": "markdown",
   "metadata": {},
   "source": [
    "Errors of this fit?\n"
   ]
  },
  {
   "cell_type": "markdown",
   "metadata": {},
   "source": [
    "emcee fitting\n",
    "----"
   ]
  },
  {
   "cell_type": "code",
   "execution_count": null,
   "metadata": {
    "collapsed": true
   },
   "outputs": [],
   "source": [
    "print('Start emcee 1:', datetime.datetime.now().time())"
   ]
  },
  {
   "cell_type": "code",
   "execution_count": null,
   "metadata": {
    "collapsed": true,
    "scrolled": false
   },
   "outputs": [],
   "source": [
    "#_____prepare MCMC_____\n",
    "ndim, nwalkers, nstep = 7, 50, 10000\n",
    "\n",
    "#initial values for fit:\n",
    "v0_kms_init     = 150.\n",
    "a_MND_kpc_init  = 6.\n",
    "b_MND_kpc_init  = 1.\n",
    "a_NFWH_kpc_init = 10.\n",
    "a_HB_kpc_init   = 2.\n",
    "n_MND_init      = 0.2\n",
    "n_NFWH_init     = 0.6\n",
    "initial_guess = np.array([v0_kms_init,a_MND_kpc_init,b_MND_kpc_init,a_NFWH_kpc_init,a_HB_kpc_init,\n",
    "                             n_MND_init,n_NFWH_init])\n",
    "initial_guess_width = np.fabs(0.2*initial_guess)\n",
    "p0 = np.array([np.random.randn(ndim)*np.array(initial_guess_width)+initial_guess \\\n",
    "                                              for i in range(nwalkers)])\n",
    "#fiitting boundaries:\n",
    "boundaries = np.array([[0.,np.inf],[0.,np.inf],[0.,np.inf],[0.,np.inf],[0.,np.inf],[0.,1.],[0.,1.]])\n",
    "for pp in range(ndim):\n",
    "    p0[(p0[:,pp] < boundaries[pp,0]),pp] = initial_guess[pp] + np.random.uniform() * 0.1\n",
    "    p0[(p0[:,pp] > boundaries[pp,1]),pp] = initial_guess[pp] - np.random.uniform() * 0.1\n",
    "\n",
    "#_____run MCMC_____\n",
    "sampler = emcee.EnsembleSampler(nwalkers,ndim,\n",
    "                               lnprob_MCMC,\n",
    "                               args=[R_kpc_data,z_kpc_data,pot_kms2_data])\n",
    "sampler.run_mcmc(p0,nstep)\n",
    "\n",
    "#result:\n",
    "burnin = 1000\n",
    "final_samples = sampler.chain[:, burnin:, :].reshape((-1,ndim))\n",
    "chain_samples = sampler.chain"
   ]
  },
  {
   "cell_type": "code",
   "execution_count": null,
   "metadata": {
    "collapsed": true
   },
   "outputs": [],
   "source": [
    "#===== OUTPUT =====\n",
    "\n",
    "#_____take precentiles_____\n",
    "#perc = np.percentile(final_samples,[16.,50.,84.],axis=0)\n",
    "median = np.median(final_samples,axis=0)\n",
    "std = np.std(final_samples,axis=0)\n",
    "print(\"best fit:\")\n",
    "print(\"v0_kms    \",median[0],\"\\t\",\"+/-\",std[0])\n",
    "print(\"a_MND_kpc \",median[1],\"\\t\",\"+/-\",std[1])\n",
    "print(\"b_MND_kpc \",median[2],\"\\t\",\"+/-\",std[2])\n",
    "print(\"a_NFWH_kpc\",median[3],\"\\t\",\"+/-\",std[3])\n",
    "print(\"a_HB_kpc  \",median[4],\"\\t\",\"+/-\",std[4])\n",
    "print(\"n_MND     \",median[5],\"\\t\",\"+/-\",std[5])\n",
    "print(\"n_NFWH    \",median[6],\"\\t\",\"+/-\",std[6])\n",
    "print(\"n_HB      \",1.-median[5]-median[6])\n",
    "\n",
    "pot_emcee1 = np.array([median[0], median[1], median[2], median[3], median[4], median[5], median[6], 1. - median[5] - median[6]])\n",
    "np.savetxt(outdir + 'pot_res_emcee1.txt', pot_emcee1, fmt = '%10.15f')"
   ]
  },
  {
   "cell_type": "code",
   "execution_count": null,
   "metadata": {
    "collapsed": true
   },
   "outputs": [],
   "source": [
    "#plot progress\n",
    "labels = [\"v0_kms\",\"a_MND_kpc\",\"b_MND_kpc\",\"a_NFWH_kpc\",\"a_HB_kpc\",\"n_MND\",\"n_NFWH\",\"n_HB\"]\n",
    "fig = plt.figure(figsize=(6,12))\n",
    "ax_list = [fig.add_subplot(ndim,1,ii+1) for ii in range(ndim)]\n",
    "for ii in range(ndim):\n",
    "    ax = ax_list[ii]\n",
    "    ax.set_ylabel(labels[ii])\n",
    "    for jj in range(nwalkers):\n",
    "        ax.plot(np.arange(nstep),chain_samples[jj,:,ii],color='k',alpha=0.5,linewidth=0.2)    \n",
    "for ii in range(ndim):\n",
    "    ax = ax_list[ii]\n",
    "    perc = np.percentile(final_samples[:,ii],[50.])\n",
    "    #ax.hlines(true_values[ii],0.,nstep,color='green',linestyles=['solid'],label='true value')\n",
    "    ax.hlines(perc,0.,nstep,color='red',linestyles=['dotted'],label='best fit from MCMC')\n",
    "    ylim = ax.get_ylim()\n",
    "    ax.vlines([burnin],ylim[0],ylim[1],color='grey',linestyle='dashed',label='burn in')\n",
    "    ax.set_ylim(ylim)\n",
    "    if ii == 0: ax.legend()\n",
    "plt.tight_layout()\n",
    "plt.show()"
   ]
  },
  {
   "cell_type": "code",
   "execution_count": null,
   "metadata": {
    "collapsed": true
   },
   "outputs": [],
   "source": [
    "#_____generate data from best fit potential_____\n",
    "#bestfit:\n",
    "v0_kms_bestfit     = median[0]\n",
    "a_MND_kpc_bestfit  = median[1]\n",
    "b_MND_kpc_bestfit  = median[2]\n",
    "a_NFWH_kpc_bestfit = median[3]\n",
    "a_HB_kpc_bestfit   = median[4]\n",
    "n_MND_bestfit      = median[5]\n",
    "n_NFWH_bestfit     = median[6]\n",
    "n_HB_bestfit       = 1. - (n_MND_bestfit + n_NFWH_bestfit)\n",
    "\n",
    "#generate potential measurements:\n",
    "pot_galpy_bestfit = setup_galpy_potential(a_MND_kpc_bestfit,b_MND_kpc_bestfit,\n",
    "                                       a_NFWH_kpc_bestfit,a_HB_kpc_bestfit,\n",
    "                                       n_MND_bestfit,n_NFWH_bestfit,n_HB_bestfit)\n",
    "pot_kms2_bestfit = evaluatePotentials(pot_galpy_bestfit,\n",
    "                                   R_kpc_data/_REFR0_kpc,\n",
    "                                   z_kpc_data/_REFR0_kpc) * (v0_kms_bestfit)**2"
   ]
  },
  {
   "cell_type": "code",
   "execution_count": null,
   "metadata": {
    "collapsed": true
   },
   "outputs": [],
   "source": [
    "#_____plot density distribution of best fit_____\n",
    "plotDensities(pot_galpy_bestfit,rmin=0.01,rmax = 6,zmax=6,zmin=-6,nrs=101,nzs=101, log=1, aspect = 'equal')\n",
    "plt.show()\n",
    "print('log scale')"
   ]
  },
  {
   "cell_type": "code",
   "execution_count": null,
   "metadata": {
    "collapsed": true
   },
   "outputs": [],
   "source": [
    "print('Start emcee 2:', datetime.datetime.now().time())"
   ]
  },
  {
   "cell_type": "code",
   "execution_count": null,
   "metadata": {
    "collapsed": true
   },
   "outputs": [],
   "source": [
    "#_____prepare MCMC_____\n",
    "ndim, nwalkers, nstep = 7, 50, 3000\n",
    "\n",
    "#initial values for fit:\n",
    "initial_guess = median\n",
    "initial_guess_width = 0.1*std\n",
    "p0 = np.array([np.random.randn(ndim)*np.array(initial_guess_width)+initial_guess \\\n",
    "                                              for i in range(nwalkers)])\n",
    "\n",
    "#_____run MCMC_____\n",
    "sampler = emcee.EnsembleSampler(nwalkers,ndim,\n",
    "                               lnprob_MCMC,\n",
    "                               args=[R_kpc_data,z_kpc_data,pot_kms2_data])\n",
    "sampler.run_mcmc(p0,nstep)\n",
    "\n",
    "#result:\n",
    "burnin = 700\n",
    "final_samples = sampler.chain[:, burnin:, :].reshape((-1,ndim))\n",
    "chain_samples = sampler.chain"
   ]
  },
  {
   "cell_type": "code",
   "execution_count": null,
   "metadata": {
    "collapsed": true
   },
   "outputs": [],
   "source": [
    "#===== OUTPUT =====\n",
    "\n",
    "#_____take precentiles_____\n",
    "#perc = np.percentile(final_samples,[16.,50.,84.],axis=0)\n",
    "median = np.median(final_samples,axis=0)\n",
    "std = np.std(final_samples,axis=0)\n",
    "print(\"true vs. best fit:\")\n",
    "print(\"v0_kms    \",median[0],\"\\t\",\"+/-\",std[0])\n",
    "print(\"a_MND_kpc \",median[1],\"\\t\",\"+/-\",std[1])\n",
    "print(\"b_MND_kpc \",median[2],\"\\t\",\"+/-\",std[2])\n",
    "print(\"a_NFWH_kpc\",median[3],\"\\t\",\"+/-\",std[3])\n",
    "print(\"a_HB_kpc  \",median[4],\"\\t\",\"+/-\",std[4])\n",
    "print(\"n_MND     \",median[5],\"\\t\",\"+/-\",std[5])\n",
    "print(\"n_NFWH    \",median[6],\"\\t\",\"+/-\",std[6])\n",
    "print(\"n_HB      \",1.-median[5]-median[6])\n",
    "\n",
    "pot_emcee2 = np.array([median[0], median[1], median[2], median[3], median[4], median[5], median[6], 1. - median[5] - median[6]])\n",
    "np.savetxt(outdir + 'pot_res_emcee2.txt', pot_emcee2, fmt = '%10.15f')"
   ]
  },
  {
   "cell_type": "code",
   "execution_count": null,
   "metadata": {
    "collapsed": true
   },
   "outputs": [],
   "source": [
    "#plot progress\n",
    "fig = plt.figure(figsize=(6,12))\n",
    "ax_list = [fig.add_subplot(ndim,1,ii+1) for ii in range(ndim)]\n",
    "for ii in range(ndim):\n",
    "    ax = ax_list[ii]\n",
    "    ax.set_ylabel(labels[ii])\n",
    "    for jj in range(nwalkers):\n",
    "        ax.plot(np.arange(nstep),chain_samples[jj,:,ii],color='k',alpha=0.5,linewidth=0.2)    \n",
    "for ii in range(ndim):\n",
    "    ax = ax_list[ii]\n",
    "    perc = np.percentile(final_samples[:,ii],[50.])\n",
    "    #ax.hlines(true_values[ii],0.,nstep,color='green',linestyles=['solid'],label='true value')\n",
    "    ax.hlines(perc,0.,nstep,color='red',linestyles=['dotted'],label='best fit from MCMC')\n",
    "    ylim = ax.get_ylim()\n",
    "    ax.vlines([burnin],ylim[0],ylim[1],color='grey',linestyle='dashed',label='burn in')\n",
    "    ax.set_ylim(ylim)\n",
    "    if ii == 0: ax.legend()\n",
    "plt.tight_layout()\n",
    "plt.show()"
   ]
  },
  {
   "cell_type": "code",
   "execution_count": null,
   "metadata": {
    "collapsed": true
   },
   "outputs": [],
   "source": [
    "#_____generate data from best fit potential_____\n",
    "#bestfit:\n",
    "v0_kms_bestfit     = median[0]\n",
    "a_MND_kpc_bestfit  = median[1]\n",
    "b_MND_kpc_bestfit  = median[2]\n",
    "a_NFWH_kpc_bestfit = median[3]\n",
    "a_HB_kpc_bestfit   = median[4]\n",
    "n_MND_bestfit      = median[5]\n",
    "n_NFWH_bestfit     = median[6]\n",
    "n_HB_bestfit       = 1. - (n_MND_bestfit + n_NFWH_bestfit)\n",
    "\n",
    "#generate potential measurements:\n",
    "pot_galpy_bestfit = setup_galpy_potential(a_MND_kpc_bestfit,b_MND_kpc_bestfit,\n",
    "                                       a_NFWH_kpc_bestfit,a_HB_kpc_bestfit,\n",
    "                                       n_MND_bestfit,n_NFWH_bestfit,n_HB_bestfit)\n",
    "pot_kms2_bestfit = evaluatePotentials(pot_galpy_bestfit,\n",
    "                                   R_kpc_data/_REFR0_kpc,\n",
    "                                   z_kpc_data/_REFR0_kpc) * (v0_kms_bestfit)**2"
   ]
  },
  {
   "cell_type": "code",
   "execution_count": null,
   "metadata": {
    "collapsed": true
   },
   "outputs": [],
   "source": [
    "#_____plot density distribution of best fit_____\n",
    "plotDensities(pot_galpy_bestfit,rmin=0.01,rmax = 6,zmax=6,zmin=-6,nrs=101,nzs=101, log=1, aspect = 'equal')\n",
    "plt.show()\n",
    "print('log scale')"
   ]
  },
  {
   "cell_type": "code",
   "execution_count": null,
   "metadata": {
    "collapsed": true
   },
   "outputs": [],
   "source": [
    "print('End emcee 2:', datetime.datetime.now().time())"
   ]
  },
  {
   "cell_type": "code",
   "execution_count": null,
   "metadata": {
    "collapsed": true
   },
   "outputs": [],
   "source": []
  },
  {
   "cell_type": "code",
   "execution_count": null,
   "metadata": {
    "collapsed": true
   },
   "outputs": [],
   "source": []
  },
  {
   "cell_type": "code",
   "execution_count": null,
   "metadata": {
    "collapsed": true
   },
   "outputs": [],
   "source": []
  }
 ],
 "metadata": {
  "kernelspec": {
   "display_name": "Python 3",
   "language": "python",
   "name": "python3"
  },
  "language_info": {
   "codemirror_mode": {
    "name": "ipython",
    "version": 3
   },
   "file_extension": ".py",
   "mimetype": "text/x-python",
   "name": "python",
   "nbconvert_exporter": "python",
   "pygments_lexer": "ipython3",
   "version": "3.6.3"
  }
 },
 "nbformat": 4,
 "nbformat_minor": 2
}
