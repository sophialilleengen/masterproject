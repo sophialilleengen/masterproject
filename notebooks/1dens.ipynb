{
 "cells": [
  {
   "cell_type": "code",
   "execution_count": 1,
   "metadata": {
    "collapsed": true
   },
   "outputs": [],
   "source": [
    "machine = 'mac'\n",
    "machine = 'magny'\n",
    "\n",
    "Ngalrad = 4.\n",
    "dR = 0.5# kpc\n",
    "dz = 0.5# kpc"
   ]
  },
  {
   "cell_type": "code",
   "execution_count": 1,
   "metadata": {
    "collapsed": true
   },
   "outputs": [],
   "source": [
    "import numpy as np\n",
    "import matplotlib\n",
    "from matplotlib import pyplot as plt\n",
    "from mpl_toolkits.axes_grid1 import make_axes_locatable\n",
    "from mpl_toolkits.mplot3d import Axes3D\n",
    "import copy\n",
    "\n",
    "from areposnap.gadget import gadget_readsnap\n",
    "from areposnap.gadget_subfind import load_subfind\n",
    "\n",
    "from auriga_basics import *\n",
    "from auriga_functions import *\n",
    "%matplotlib inline"
   ]
  },
  {
   "cell_type": "code",
   "execution_count": 3,
   "metadata": {
    "collapsed": true
   },
   "outputs": [],
   "source": [
    "cmap = copy.copy(plt.cm.inferno)\n",
    "cmap.set_bad((0,0,0))  # Fill background with black"
   ]
  },
  {
   "cell_type": "code",
   "execution_count": 4,
   "metadata": {},
   "outputs": [
    {
     "name": "stdout",
     "output_type": "stream",
     "text": [
      "level   : 4\n",
      "halo    : 24\n",
      "snapnr  : 127\n",
      "basedir : /hits/universe/GigaGalaxy/level4_MHD/\n",
      "halodir : /hits/universe/GigaGalaxy/level4_MHD/halo_24/\n",
      "snappath: /hits/universe/GigaGalaxy/level4_MHD/halo_24/output/\n",
      "\n",
      "[ 34.42281723  33.16259384  37.29567337]\n",
      "Found 1783163 stars.\n",
      "Rotated pos.\n",
      "Rotated bfld.\n",
      "Rotated vel.\n",
      "\n",
      "galrad  : 0.02408556640148163\n",
      "redshift: 2.220446049250313e-16\n",
      "time    : 0.9999999999999998\n",
      "center  : [ 0.  0.  0.]\n",
      "\n"
     ]
    }
   ],
   "source": [
    "#### path = /hits/universe/GigaGalaxy/level4_MHD/halo_24/output/*\n",
    "level = 4\n",
    "if machine == 'magny':\n",
    "    basedir = \"/hits/universe/GigaGalaxy/level4_MHD/\"\n",
    "elif machine == 'mac': \n",
    "    basedir = \"/Users/smilanov/Desktop/Auriga/level4/\"\n",
    "j = 0\n",
    "for halo_number in [24]:  # range(1, 31):\n",
    "    halodir = basedir+\"halo_{0}/\".format(halo_number)\n",
    "    snappath = halodir+\"output/\"\n",
    "    for snapnr in range(127,128,1):\n",
    "        print(\"level   : {0}\".format(level))\n",
    "        print(\"halo    : {0}\".format(halo_number))\n",
    "        print(\"snapnr  : {0}\".format(snapnr))\n",
    "        print(\"basedir : {0}\".format(basedir))\n",
    "        print(\"halodir : {0}\".format(halodir))\n",
    "        print(\"snappath: {0}\\n\".format(snappath))\n",
    "        s, sf = eat_snap_and_fof(level, halo_number, snapnr, snappath, loadonlytype=[0,1,2,3,4,5], \n",
    "            haloid=0, galradfac=0.1, verbose=True) \n",
    "\n",
    "        # Clean negative and zero values of gmet to avoid RuntimeErrors\n",
    "        # later on (e.g. dividing by zero)\n",
    "        s.data['gmet'] = np.maximum( s.data['gmet'], 1e-40 )\n",
    "     "
   ]
  },
  {
   "cell_type": "code",
   "execution_count": 5,
   "metadata": {
    "collapsed": true
   },
   "outputs": [],
   "source": [
    "def dens(M, R, z, dR, dz):\n",
    "    \n",
    "    Rmin, Rmax = np.min(R), np.max(R)\n",
    "    zmin, zmax = np.min(z), np.max(z)\n",
    "\n",
    "    Rbins, zbins = np.arange(Rmin, Rmax, dR), np.arange(zmin, zmax, dz)\n",
    "    mbins, volbins = np.zeros((len(Rbins), len(zbins))), np.zeros((len(Rbins), len(zbins))) \n",
    "    rho_arr_real, rho_arr_mean = np.zeros(len(R)), np.zeros(len(R))\n",
    "    for i in range(len(Rbins)):\n",
    "        for j in range(len(zbins)):\n",
    "            inbin = (Rbins[i] <= R) & (R < (Rbins[i] + dR)) & (zbins[j] <= z) & (z < (zbins[j] + dz))\n",
    "            mbins[i,j] = np.sum(M[inbin])\n",
    "            volbins[i,j] = np.pi * dz * (2. * Rbins[i] * dR + dR**2)\n",
    "            rho_arr_real[inbin] = mbins[i,j] / volbins[i,j] \n",
    "            rho_arr_mean[inbin] = (mbins[i,j] / volbins[i,j]) / len(inbin) \n",
    "\n",
    "    rho = mbins / volbins\n",
    "    return(rho, rho_arr_real, rho_arr_mean, Rbins, zbins)"
   ]
  },
  {
   "cell_type": "code",
   "execution_count": 6,
   "metadata": {
    "collapsed": true
   },
   "outputs": [],
   "source": [
    "# MASKS\n",
    "iall, = np.where( (s.r() < s.galrad) & (s.r() > 0.) )\n",
    "igas, = np.where( (s.r() < s.galrad) & (s.r() > 0.) & (s.type == 0) )\n",
    "idm, = np.where( (s.r() < s.galrad) & (s.r() > 0.) & ((s.type == 1) + (s.type == 2) + (s.type == 3) ))\n",
    "istars, = np.where( (s.r() < s.galrad) & (s.r() > 0.) & (s.type == 4) )#& (age > 0.) )\n",
    "\n",
    "istars0, = np.where( (s.type == 4) & (s.halo == 0) & (s.r() > 0.) & (s.r() < s.galrad) )"
   ]
  },
  {
   "cell_type": "code",
   "execution_count": 7,
   "metadata": {
    "collapsed": true
   },
   "outputs": [],
   "source": [
    "mask = iall\n",
    "(x_kpc, y_kpc, z_kpc), (vx_kms, vy_kms, vz_kms), rxyz_kpc, rxy_kpc = get_cartesian_vectors(s, sf, mask)\n",
    "(R_kpc, phi, z_kpc), (vR_kms, vphi, vz_kms) = get_cylindrical_vectors(s, sf, mask)\n",
    "\n",
    "\n",
    "(x, y, z), (vx, vy, vz), rxyz, rxy = get_cartesian_vectors(s, sf, mask)\n",
    "(R, phi, z), (vR, vphi, vz) = get_cylindrical_vectors(s, sf, mask)\n",
    "\n",
    "rho, rho_arr_real, rho_arr_mean, Rbins, zbins = dens(s.mass[mask][np.abs(z > -50.) & np.abs(z <50.)], R[np.abs(z > -50.) & np.abs(z <50.)], z[np.abs(z > -50.) & np.abs(z <50.)], dR, dz)"
   ]
  },
  {
   "cell_type": "code",
   "execution_count": 8,
   "metadata": {
    "scrolled": false
   },
   "outputs": [
    {
     "data": {
      "image/png": "[encoded data removed]",
      "text/plain": [
       "<matplotlib.figure.Figure at 0x2aaad42e8400>"
      ]
     },
     "metadata": {},
     "output_type": "display_data"
    }
   ],
   "source": [
    "\n",
    "cmap = copy.copy(plt.cm.inferno)\n",
    "cmap.set_bad((0,0,0))  # Fill background with black\n",
    "\n",
    "fig, (ax1, ax2) = plt.subplots(1, 2, figsize=(12, 12))\n",
    "plt.subplots_adjust(left=None, bottom=None, right=None, top=None,\n",
    "                wspace=0.3, hspace=None)\n",
    "h1 = ax1.hist2d(R[np.abs(z > -50.) & np.abs(z <50.)], z[np.abs(z > -50.) & np.abs(z <50.)], bins=[Rbins, zbins], weights = rho_arr_mean, norm=matplotlib.colors.LogNorm(), cmap = cmap)#, \\\n",
    "           #range = [[0, 25], [-25, 25]])\n",
    "ax1.set_xlabel(\"R [kpc]\")\n",
    "ax1.set_ylabel(\"z [kpc]\")\n",
    "#ax1.set_ylim(-50,50)\n",
    "ax1.set_aspect('equal')\n",
    "ax1.set_title(\"mass density\")\n",
    "divider = make_axes_locatable(ax1)\n",
    "cax1 = divider.append_axes(\"right\", size=\"5%\", pad=0.2)\n",
    "cbar1 = fig.colorbar(h1[3], cax=cax1)\n",
    "cbar1.set_label('$10^{10}\\mathrm{M}_\\odot\\ /\\ \\mathrm{kpc}^3$')\n",
    "\n",
    "h2 = ax2.hist2d(R[np.abs(z > -50.) & np.abs(z <50.)], z[np.abs(z > -50.) & np.abs(z <50.)], bins=[Rbins, zbins], norm=matplotlib.colors.LogNorm(), cmap = cmap)\n",
    "ax2.set_xlabel(\"R [kpc]\")\n",
    "#ax2.set_ylabel(\"z [kpc]\")\n",
    "ax2.set_aspect('equal')\n",
    "#ax2.set_ylim(-50,50)\n",
    "\n",
    "ax2.set_title('number density')\n",
    "divider = make_axes_locatable(ax2)\n",
    "cax2 = divider.append_axes(\"right\", size=\"5%\", pad=0.2)\n",
    "cbar2 = fig.colorbar(h2[3], cax=cax2)\n",
    "#cbar2.set_label('$\\mathrm{N}\\ / \\ \\mathrm{kpc}^3$')\n",
    " \n",
    "#fig.savefig('../plots/au24_densities.png', dpi = 300, format = 'png', bbox_inches = 'tight')"
   ]
  },
  {
   "cell_type": "code",
   "execution_count": 11,
   "metadata": {},
   "outputs": [
    {
     "name": "stdout",
     "output_type": "stream",
     "text": [
      "0.84906972802 0.0\n"
     ]
    }
   ],
   "source": [
    "print(np.max(rho), np.min(rho))\n"
   ]
  },
  {
   "cell_type": "markdown",
   "metadata": {
    "collapsed": true
   },
   "source": [
    "Try to distinguish stellar disc and bulge components by the use of the circularity parameter $\\epsilon = \\frac{L_z}{L_{z,max}(E)}$.\n",
    "\n",
    "$L_{z,max}(E)$ is the maximum angular momentum allowed for the orbital energy $E$. \n",
    "\n",
    "$\\rightarrow \\epsilon = 1$ is a prograde circular orbit in the disc plane. $\\epsilon = -1$ is a retrograde circular orbit in the disc plane. $\\epsilon \\sim 0$ is an orbit with a very low $z$-component of angular momentum which may be highly inclined to the disc spin axis and/or be highly eccentric.  \n",
    "\n",
    "Two methods two distinguish the components:\n",
    "1. Mirror negative $\\epsilon$ as bulge material, rest disc components.\n",
    "2. Assign $\\epsilon > 0.7$ to disc star particles.\n",
    "\n",
    "see Grand et al. 2017"
   ]
  },
  {
   "cell_type": "code",
   "execution_count": 10,
   "metadata": {},
   "outputs": [
    {
     "ename": "ValueError",
     "evalue": "operands could not be broadcast together with shapes (1783163,) (2567236,) ",
     "output_type": "error",
     "traceback": [
      "\u001b[0;31m---------------------------------------------------------------------------\u001b[0m",
      "\u001b[0;31mValueError\u001b[0m                                Traceback (most recent call last)",
      "\u001b[0;32m<ipython-input-10-bca5dd729d61>\u001b[0m in \u001b[0;36m<module>\u001b[0;34m()\u001b[0m\n\u001b[1;32m     21\u001b[0m \u001b[0;34m\u001b[0m\u001b[0m\n\u001b[1;32m     22\u001b[0m \u001b[0;31m#'spec energy'\u001b[0m\u001b[0;34m\u001b[0m\u001b[0;34m\u001b[0m\u001b[0m\n\u001b[0;32m---> 23\u001b[0;31m \u001b[0mE\u001b[0m \u001b[0;34m=\u001b[0m \u001b[0ms\u001b[0m\u001b[0;34m.\u001b[0m\u001b[0mpot\u001b[0m\u001b[0;34m[\u001b[0m\u001b[0mistars\u001b[0m\u001b[0;34m]\u001b[0m \u001b[0;34m+\u001b[0m \u001b[0;36m1.\u001b[0m\u001b[0;34m/\u001b[0m\u001b[0;36m2.\u001b[0m \u001b[0;34m*\u001b[0m \u001b[0;34m(\u001b[0m\u001b[0mvx_kms\u001b[0m\u001b[0;34m**\u001b[0m\u001b[0;36m2\u001b[0m \u001b[0;34m+\u001b[0m \u001b[0mvy_kms\u001b[0m\u001b[0;34m**\u001b[0m\u001b[0;36m2\u001b[0m \u001b[0;34m+\u001b[0m \u001b[0mvz_kms\u001b[0m\u001b[0;34m**\u001b[0m\u001b[0;36m2\u001b[0m\u001b[0;34m)\u001b[0m\u001b[0;34m\u001b[0m\u001b[0m\n\u001b[0m\u001b[1;32m     24\u001b[0m \u001b[0mLx\u001b[0m\u001b[0;34m,\u001b[0m \u001b[0mLy\u001b[0m\u001b[0;34m,\u001b[0m \u001b[0mLz\u001b[0m \u001b[0;34m=\u001b[0m \u001b[0mspec_ang_mom\u001b[0m\u001b[0;34m(\u001b[0m\u001b[0mx_kpc\u001b[0m\u001b[0;34m,\u001b[0m\u001b[0my_kpc\u001b[0m\u001b[0;34m,\u001b[0m\u001b[0mz_kpc\u001b[0m\u001b[0;34m,\u001b[0m\u001b[0mvx_kms\u001b[0m\u001b[0;34m,\u001b[0m\u001b[0mvy_kms\u001b[0m\u001b[0;34m,\u001b[0m\u001b[0mvz_kms\u001b[0m\u001b[0;34m)\u001b[0m\u001b[0;34m\u001b[0m\u001b[0m\n",
      "\u001b[0;31mValueError\u001b[0m: operands could not be broadcast together with shapes (1783163,) (2567236,) "
     ]
    }
   ],
   "source": [
    "# plot energy over Lz\n",
    "\n",
    "def momentum(m, vx, vy, vz):\n",
    "    px, py, pz = m*vx, m*vy, m*vz\n",
    "    return(px, py, pz)\n",
    "\n",
    "def ang_mom(x, y, z, vx, vy, vz, m):\n",
    "    px, py, pz = momentum(m, vx, vy, vz)\n",
    "    Lx = y * pz - z * py\n",
    "    Ly = z * px - x * pz\n",
    "    Lz = x * py - y * px\n",
    "    return(Lx, Ly, Lz)\n",
    "\n",
    "def spec_ang_mom(x, y, z, vx, vy, vz):\n",
    "    Lx = y * vz - z * vy\n",
    "    Ly = z * vx - x * vz\n",
    "    Lz = x * vy - y * vx\n",
    "    return(Lx, Ly, Lz)\n",
    "\n",
    "istars, = np.where( (s.type == 4) & (s.halo == 0) & (s.r() > 0.) & (s.r() < s.galrad) )\n",
    "\n",
    "#'spec energy'\n",
    "E = s.pot[istars] + 1./2. * (vx_kms**2 + vy_kms**2 + vz_kms**2)\n",
    "Lx, Ly, Lz = spec_ang_mom(x_kpc,y_kpc,z_kpc,vx_kms,vy_kms,vz_kms)\n"
   ]
  },
  {
   "cell_type": "code",
   "execution_count": null,
   "metadata": {
    "collapsed": true
   },
   "outputs": [],
   "source": [
    "fig, ax = plt.subplots(1, 1, figsize=(8,6))\n",
    "ax.hist2d(E, Lz, bins=201, norm=matplotlib.colors.LogNorm(), cmap = cmap)\n",
    "ax.set_xlabel(\"$Lz$\")\n",
    "ax.set_ylabel(\"E\")\n"
   ]
  },
  {
   "cell_type": "code",
   "execution_count": null,
   "metadata": {
    "collapsed": true
   },
   "outputs": [],
   "source": []
  }
 ],
 "metadata": {
  "kernelspec": {
   "display_name": "Python 3",
   "language": "python",
   "name": "python3"
  },
  "language_info": {
   "codemirror_mode": {
    "name": "ipython",
    "version": 3
   },
   "file_extension": ".py",
   "mimetype": "text/x-python",
   "name": "python",
   "nbconvert_exporter": "python",
   "pygments_lexer": "ipython3",
   "version": "3.6.3"
  }
 },
 "nbformat": 4,
 "nbformat_minor": 2
}
