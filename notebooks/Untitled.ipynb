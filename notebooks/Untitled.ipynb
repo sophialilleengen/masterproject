{
 "cells": [
  {
   "cell_type": "code",
   "execution_count": 1,
   "metadata": {
    "collapsed": true
   },
   "outputs": [],
   "source": [
    "import numpy as np\n",
    "import numpy\n",
    "import matplotlib.pyplot as plt\n",
    "import sys\n",
    "%matplotlib inline"
   ]
  },
  {
   "cell_type": "code",
   "execution_count": 2,
   "metadata": {
    "collapsed": true
   },
   "outputs": [],
   "source": [
    "ids, ty, x, y, z, vx, vy, vz, m = np.loadtxt('../data/level_5_halo_24_snapshot_63_data.txt',  \\\n",
    "                                             dtype=[('f0', '<i8'), ('f1', '<i8'), ('f2', '<f8'), \\\n",
    "                                                    ('f3', '<f8'), ('f4', '<f8'), ('f5', '<f8'), \\\n",
    "                                                    ('f6', '<f8'), ('f7', '<f8'), ('f8', '<f8')], unpack = True)"
   ]
  },
  {
   "cell_type": "code",
   "execution_count": 3,
   "metadata": {
    "collapsed": true
   },
   "outputs": [],
   "source": [
    "rxy = np.sqrt(x**2 + y**2)\n",
    "rxyz = np.sqrt(x**2 + y**2 + z**2)"
   ]
  },
  {
   "cell_type": "code",
   "execution_count": 4,
   "metadata": {
    "collapsed": true
   },
   "outputs": [],
   "source": [
    "def dens_3d(r0, r1, mass):\n",
    "    if r1 > r0:\n",
    "        rdiff = (1000. * r1)**3 - (1000. * r0)**3\n",
    "    else:\n",
    "        rdiff = (1000. * r0)**3 - (1000. * r1)**3        \n",
    "    vol = 4./3. * np.pi * rdiff\n",
    "    dens = mass/vol\n",
    "    return dens\n",
    "    "
   ]
  },
  {
   "cell_type": "code",
   "execution_count": 5,
   "metadata": {
    "collapsed": true
   },
   "outputs": [],
   "source": [
    "def binning(r_vec, num = 50, scale = 'log'):\n",
    "    r_min = np.min(r_vec)\n",
    "    r_max = np.max(r_vec)\n",
    "    #r_max = 0.1\n",
    "    if r_min == 0.0:\n",
    "        r_vec = r_vec[r_vec != r_min]\n",
    "        r_min = np.min(r_vec)\n",
    "        print(r_min)\n",
    "    if scale == 'lin':\n",
    "        r = np.linspace(r_min, r_max, num = num)\n",
    "    elif scale == 'log':\n",
    "        r = np.geomspace(r_min, r_max, num = num)\n",
    "    else:\n",
    "        sys.exit('Binning scale not yet defined.')\n",
    "    return r\n"
   ]
  },
  {
   "cell_type": "code",
   "execution_count": 6,
   "metadata": {},
   "outputs": [
    {
     "name": "stdout",
     "output_type": "stream",
     "text": [
      "7.0108847443e-06\n"
     ]
    }
   ],
   "source": [
    "r_bins = binning(rxy)\n",
    "bin_ind = np.digitize(rxy, r_bins)"
   ]
  },
  {
   "cell_type": "code",
   "execution_count": 7,
   "metadata": {
    "collapsed": true
   },
   "outputs": [],
   "source": [
    "mass_arr = []\n",
    "dens_arr = []\n",
    "for j in range (50):\n",
    "    mass_arr.append(np.sum(m[bin_ind == j+1]))\n",
    "    if j < 49:\n",
    "        dens_arr.append(dens_3d(r_bins[j], r_bins[j+1], mass_arr[j]))\n",
    "    elif j == 49:\n",
    "        dens_arr.append(dens_3d(r_bins[j], 2*np.max(rxy), mass_arr[j]))"
   ]
  },
  {
   "cell_type": "code",
   "execution_count": 9,
   "metadata": {},
   "outputs": [
    {
     "data": {
      "image/png": "[encoded data removed]",
      "text/plain": [
       "<matplotlib.figure.Figure at 0x108766630>"
      ]
     },
     "metadata": {},
     "output_type": "display_data"
    }
   ],
   "source": [
    "plt.loglog(1000*r_bins, dens_arr, 'k.')\n",
    "plt.xlabel('R_xy [kpc]')\n",
    "plt.ylabel('rho [mass/kpc^3]')\n",
    "plt.show()\n",
    "#plt.plot(1000*r_bins, dens_arr, 'k.')"
   ]
  },
  {
   "cell_type": "code",
   "execution_count": null,
   "metadata": {
    "collapsed": true
   },
   "outputs": [],
   "source": []
  }
 ],
 "metadata": {
  "kernelspec": {
   "display_name": "Python 3",
   "language": "python",
   "name": "python3"
  },
  "language_info": {
   "codemirror_mode": {
    "name": "ipython",
    "version": 3
   },
   "file_extension": ".py",
   "mimetype": "text/x-python",
   "name": "python",
   "nbconvert_exporter": "python",
   "pygments_lexer": "ipython3",
   "version": "3.6.3"
  }
 },
 "nbformat": 4,
 "nbformat_minor": 2
}
