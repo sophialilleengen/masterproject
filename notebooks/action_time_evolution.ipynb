{
 "cells": [
  {
   "cell_type": "code",
   "execution_count": 1,
   "metadata": {
    "collapsed": true
   },
   "outputs": [],
   "source": [
    "import numpy as np\n",
    "\n",
    "import matplotlib.pyplot as plt\n",
    "\n",
    "from areposnap.gadget import gadget_readsnap\n",
    "from areposnap.gadget_subfind import load_subfind\n",
    "\n",
    "from auriga_basics import *\n",
    "from auriga_functions import *\n",
    "\n",
    "%matplotlib inline"
   ]
  },
  {
   "cell_type": "code",
   "execution_count": 4,
   "metadata": {
    "collapsed": true
   },
   "outputs": [],
   "source": [
    "machine = 'mac'\n",
    "machine = 'magny'\n",
    "\n",
    "if machine == 'magny':\n",
    "    filedir = \"/home/extmilan/masterthesis/files/\"\n",
    "    basedir = \"/hits/universe/GigaGalaxy/level4_MHD/\"\n",
    "    plotdir = \"/home/extmilan/masterthesis/plots/\"\n",
    "elif machine == 'mac':\n",
    "    filedir = \"/Users/smilanov/Documents/masterthesis/auriga_files/files/\"\n",
    "    basedir = \"/Users/smilanov/Desktop/Auriga/level4/\"\n",
    "else:\n",
    "    raise NotADirectoryError"
   ]
  },
  {
   "cell_type": "code",
   "execution_count": 145,
   "metadata": {
    "scrolled": false
   },
   "outputs": [
    {
     "name": "stdout",
     "output_type": "stream",
     "text": [
      "73\n",
      "[ 15.47813797  14.92653275  15.98590374]\n",
      "74\n",
      "[ 15.85394859  15.28774834  16.39402962]\n",
      "75\n",
      "[ 16.16160011  15.58262157  16.72860718]\n",
      "76\n",
      "[ 16.47659492  15.88422775  17.06827354]\n",
      "77\n",
      "[ 16.79800034  16.19346237  17.41295624]\n",
      "78\n",
      "[ 17.20534706  16.5902729   17.85304451]\n",
      "79\n",
      "[ 17.53638649  16.91461563  18.2147541 ]\n",
      "80\n",
      "[ 17.78905106  17.16118431  18.49117279]\n",
      "81\n",
      "[ 18.13132668  17.49447441  18.86812019]\n",
      "82\n",
      "[ 18.48038101  17.83345413  19.25479507]\n",
      "83\n",
      "[ 18.83633041  18.17889214  19.65101624]\n",
      "84\n",
      "[ 19.10744095  18.44243622  19.95356178]\n",
      "85\n",
      "[ 19.47507477  18.79951668  20.36402512]\n",
      "86\n",
      "[ 19.75509262  19.0717144   20.67724609]\n",
      "87\n",
      "[ 20.13412285  19.44070625  21.10229874]\n",
      "88\n",
      "[ 20.42412758  19.72184372  21.42675972]\n",
      "89\n",
      "[ 20.81840324  20.10211563  21.86827469]\n",
      "90\n",
      "[ 21.11937714  20.39230919  22.20462799]\n",
      "91\n",
      "[ 21.42389488  20.68611908  22.54693604]\n",
      "92\n",
      "[ 21.73373222  20.98360252  22.89403915]\n",
      "93\n",
      "[ 22.153759    21.38641167  23.364851  ]\n",
      "94\n",
      "[ 22.47373009  21.69274902  23.72468185]\n",
      "95\n",
      "[ 22.7996521   22.0025444   24.08984756]\n",
      "96\n",
      "[ 23.13161278  22.31706619  24.45867538]\n",
      "97\n",
      "[ 23.46821594  22.63773918  24.8325634 ]\n",
      "98\n",
      "[ 23.80860329  22.96368408  25.21352386]\n",
      "99\n",
      "[ 24.15342522  23.29395103  25.60112953]\n",
      "100\n",
      "[ 24.50271797  23.62892342  25.99520683]\n",
      "101\n",
      "[ 24.85713387  23.96839905  26.39595032]\n",
      "102\n",
      "[ 25.21674347  24.31293106  26.80324364]\n",
      "103\n",
      "[ 25.45941925  24.54529381  27.07883453]\n",
      "104\n",
      "[ 25.82858849  24.89687347  27.49774933]\n",
      "105\n",
      "[ 26.2042942   25.2542057   27.92131042]\n",
      "106\n",
      "[ 26.58517647  25.61821175  28.35095024]\n",
      "107\n",
      "[ 26.97145081  25.98770905  28.78736305]\n",
      "108\n",
      "[ 27.23214722  26.23708725  29.08192825]\n",
      "109\n",
      "[ 27.62681198  26.61546135  29.52968025]\n",
      "110\n",
      "[ 28.02821541  26.99830246  29.98339081]\n",
      "111\n",
      "[ 28.29884148  27.25717163  30.28975487]\n",
      "112\n",
      "[ 28.71037102  27.65019417  30.75450516]\n",
      "113\n",
      "[ 29.12677383  28.04948807  31.22624779]\n",
      "114\n",
      "[ 29.40730476  28.31895065  31.54471207]\n",
      "115\n",
      "[ 29.83269691  28.72842789  32.02832794]\n",
      "116\n",
      "[ 30.11922264  29.0051918   32.35468674]\n",
      "117\n",
      "[ 30.55345726  29.42549706  32.85093689]\n",
      "118\n",
      "[ 30.99422073  29.85132217  33.35467911]\n",
      "119\n",
      "[ 31.29102707  30.13891983  33.69516754]\n",
      "120\n",
      "[ 31.74212646  30.57429314  34.21273041]\n",
      "121\n",
      "[ 32.04627228  30.8679924   34.56239319]\n",
      "122\n",
      "[ 32.50867844  31.31370544  35.09283066]\n",
      "123\n",
      "[ 32.82047653  31.61475182  35.45058823]\n",
      "124\n",
      "[ 33.29346848  32.07149124  35.99433899]\n",
      "125\n",
      "[ 33.61259842  32.37949753  36.36141205]\n",
      "126\n",
      "[ 34.09642792  32.84707642  36.91917419]\n",
      "127\n",
      "[ 34.42281723  33.16259384  37.29567337]\n"
     ]
    }
   ],
   "source": [
    "halo_number = 24  # range(1, 31):\n",
    "halodir = basedir + \"halo_{0}/\".format(halo_number)\n",
    "snappath = halodir + \"output/\"\n",
    "level = 4\n",
    "#### action time evolution\n",
    "startnr = 73\n",
    "endnr = 128\n",
    "\n",
    "lookback_time_Gyr = []\n",
    "jR_all = []\n",
    "jz_all = []\n",
    "lz_all = []\n",
    "for snap_number in range(startnr, endnr, 1):\n",
    "    print(snap_number)\n",
    "    s, sf = eat_snap_and_fof(level, halo_number, snap_number, snappath, loadonlytype=[4], \n",
    "        haloid=0, galradfac=0.1, verbose=False, rotate_disk=0, use_principal_axis=0, euler_rotation=0, use_cold_gas_spin=0, do_rotation=0) \n",
    "\n",
    "    # Clean negative and zero values of gmet to avoid RuntimeErrors\n",
    "    # later on (e.g. dividing by zero)\n",
    "    #s.data['gmet'] = np.maximum( s.data['gmet'], 1e-40 ) \n",
    "\n",
    "    snap_time = s.cosmology_get_lookback_time_from_a( s.time, is_flat=True )\n",
    "    lookback_time_Gyr.append(snap_time)\n",
    "    infile = '/home/extmilan/masterthesis/files/actions_merger_73_2648_parts_snap_' +str(snap_number)+ '_nonsmoothed_pot_params.txt'\n",
    "    ids, r, jR_kpckms, lz_kpckms, jz_kpckms = np.loadtxt(infile)\n",
    "\n",
    "    jR_hist = np.histogram(jR_kpckms, bins = 20, range = (0., 15000.))\n",
    "    jz_hist = np.histogram(jz_kpckms, bins = 20, range = (0., 5000.))\n",
    "    lz_hist = np.histogram(lz_kpckms, bins = 20, range = (-10000., 10000.))\n",
    "#cond = np.where((jR_kpckms <= 15000.)  & (np.abs(lz_kpckms) <=5000.) & (jz_kpckms <= 5000.))    \n",
    "    jR_all.append(jR_hist)\n",
    "    jz_all.append(jz_hist)\n",
    "    lz_all.append(lz_hist)\n",
    "    #np.loadtxt('actions_snap_' + str(snap_number) + '_nonsmoothed_pot_params.txt\n",
    "    "
   ]
  },
  {
   "cell_type": "code",
   "execution_count": 146,
   "metadata": {},
   "outputs": [
    {
     "name": "stdout",
     "output_type": "stream",
     "text": [
      "[8.6990211581636299, 8.5252475597271111, 8.3825520997474072, 8.2365443853971616, 8.0871857752488765, 7.8957200166374646, 7.7386922627471932, 7.6186521309154633, 7.4555500192211301, 7.2889401605723494, 7.1187996256302029, 6.9888652156874338, 6.8125004792532939, 6.6778802165313964, 6.495248977626658, 6.3559182588176908, 6.1669974933569689, 6.0229465593882683, 5.8768735073487273, 5.7287806295844996, 5.5281878275013261, 5.3753980216321411, 5.2206051600454408, 5.0638170290850022, 4.9050426845407005, 4.744292444640525, 4.5815778793696653, 4.4169117961172937, 4.25030822167591, 4.0817823806421902, 3.9683719440695908, 3.7966793300503907, 3.6231107024105715, 3.4476854370571401, 3.2704239621028588, 3.1512400764782584, 2.9709663781604099, 2.7889157772067175, 2.6665733211784164, 2.4816148011082095, 2.2949450295802403, 2.1695606612398457, 1.9800970740728014, 1.8528750849174935, 1.6606932445711653, 1.4669178894426511, 1.3368632001238121, 1.1404960591271716, 1.008740630401181, 0.80986355178559311, 0.67646253399856893, 0.47515900586927662, 0.34016849981024899, 0.13652322400027306, 2.5673723560210484e-15]\n"
     ]
    }
   ],
   "source": [
    "print(lookback_time_Gyr)"
   ]
  },
  {
   "cell_type": "code",
   "execution_count": 152,
   "metadata": {},
   "outputs": [],
   "source": [
    "snapnrs = np.arange(startnr, endnr, 1)\n",
    "ivline = snapnrs.tolist().index(104)"
   ]
  },
  {
   "cell_type": "code",
   "execution_count": 153,
   "metadata": {
    "scrolled": false
   },
   "outputs": [],
   "source": [
    "dim1 = len(lookback_time_Gyr)\n",
    "jR_all_arr = np.array(jR_all)\n",
    "jR_arr = np.array([])\n",
    "for i in jR_all_arr[:,0].tolist():\n",
    "    jR_arr = np.append(jR_arr, i.tolist())\n",
    "jR_arr = jR_arr.reshape(dim1,20)\n",
    "\n",
    "jz_all_arr = np.array(jz_all)\n",
    "jz_arr = np.array([])\n",
    "for i in jz_all_arr[:,0].tolist():\n",
    "    jz_arr = np.append(jz_arr, i.tolist())\n",
    "jz_arr = jz_arr.reshape(dim1,20)\n",
    "\n",
    "lz_all_arr = np.array(lz_all)\n",
    "lz_arr = np.array([])\n",
    "for i in lz_all_arr[:,0].tolist():\n",
    "    lz_arr = np.append(lz_arr, i.tolist())\n",
    "lz_arr = lz_arr.reshape(dim1,20)"
   ]
  },
  {
   "cell_type": "code",
   "execution_count": 154,
   "metadata": {},
   "outputs": [
    {
     "data": {
      "text/plain": [
       "15000.0"
      ]
     },
     "execution_count": 154,
     "metadata": {},
     "output_type": "execute_result"
    }
   ],
   "source": [
    "jR_all[1][1][-1]\n"
   ]
  },
  {
   "cell_type": "code",
   "execution_count": 155,
   "metadata": {},
   "outputs": [],
   "source": [
    "x0 = np.max(lookback_time_Gyr)\n",
    "x1 = np.min(lookback_time_Gyr)\n",
    "xticks = np.around(np.linspace(x0,x1,6), 2)\n",
    "\n",
    "yticks_jR = np.around(np.linspace(jR_all[1][1][0], jR_all[1][1][-1], 5),1)\n",
    "yticks_jz = np.around(np.linspace(jz_all[1][1][0], jz_all[1][1][-1], 5),1)\n",
    "yticks_lz = np.around(np.linspace(lz_all[1][1][0], lz_all[1][1][-1], 5),1)"
   ]
  },
  {
   "cell_type": "code",
   "execution_count": 156,
   "metadata": {},
   "outputs": [
    {
     "data": {
      "text/plain": [
       "array([     0.,   3750.,   7500.,  11250.,  15000.])"
      ]
     },
     "execution_count": 156,
     "metadata": {},
     "output_type": "execute_result"
    }
   ],
   "source": [
    "yticks_jR"
   ]
  },
  {
   "cell_type": "code",
   "execution_count": 162,
   "metadata": {},
   "outputs": [
    {
     "data": {
      "text/plain": [
       "<matplotlib.lines.Line2D at 0x2aab95fc9ba8>"
      ]
     },
     "execution_count": 162,
     "metadata": {},
     "output_type": "execute_result"
    },
    {
     "data": {
      "image/png": "[encoded data removed]",
      "text/plain": [
       "<matplotlib.figure.Figure at 0x2aaba1a986d8>"
      ]
     },
     "metadata": {},
     "output_type": "display_data"
    }
   ],
   "source": [
    "#print(jR_arr.reshape(20,55))\n",
    "\n",
    "fig, ax = plt.subplots(1,3, figsize=(15,5))\n",
    "im1 = ax[0].imshow(jR_arr.T, origin='lower')\n",
    "im2 = ax[1].imshow(lz_arr.T, origin='lower')\n",
    "im3 = ax[2].imshow(jz_arr.T, origin='lower')\n",
    "ax[0].set_xticks(np.linspace(0,dim1,6))\n",
    "ax[0].set_xticklabels(xticks)\n",
    "ax[1].set_xticks(np.linspace(0,dim1,6))\n",
    "ax[1].set_xticklabels(xticks)\n",
    "ax[2].set_xticks(np.linspace(0,dim1,6))\n",
    "ax[2].set_xticklabels(xticks)\n",
    "ax[0].set_xlabel('lookback time [Gyr]')\n",
    "ax[1].set_xlabel('lookback time [Gyr]')\n",
    "ax[2].set_xlabel('lookback time [Gyr]')\n",
    "\n",
    "ax[0].set_yticks(np.linspace(0,20,5))\n",
    "ax[0].set_yticklabels(yticks_jR)\n",
    "ax[1].set_yticks(np.linspace(0,20,5))\n",
    "ax[1].set_yticklabels(yticks_lz)\n",
    "ax[2].set_yticks(np.linspace(0,20,5))\n",
    "ax[2].set_yticklabels(yticks_jz)\n",
    "\n",
    "ax[0].set_ylabel('jR [kpc km/s]')\n",
    "ax[1].set_ylabel('lz [kpc km/s]')\n",
    "ax[2].set_ylabel('jz [kpc km/s]')\n",
    "fig.tight_layout()\n",
    "\n",
    "ax[0].axvline(ivline, color = 'red', linewidth=4, alpha =0.2)\n",
    "ax[1].axvline(ivline, color = 'red', linewidth=4, alpha =0.2)\n",
    "ax[2].axvline(ivline, color = 'red', linewidth=4, alpha =0.2)\n"
   ]
  },
  {
   "cell_type": "code",
   "execution_count": 163,
   "metadata": {
    "scrolled": false
   },
   "outputs": [],
   "source": [
    "#fig.savefig(plotdir + 'action_time_evolution_merger_73.png', dpi = 300, format = 'png')"
   ]
  },
  {
   "cell_type": "code",
   "execution_count": null,
   "metadata": {
    "collapsed": true
   },
   "outputs": [],
   "source": []
  }
 ],
 "metadata": {
  "kernelspec": {
   "display_name": "Python 3",
   "language": "python",
   "name": "python3"
  },
  "language_info": {
   "codemirror_mode": {
    "name": "ipython",
    "version": 3
   },
   "file_extension": ".py",
   "mimetype": "text/x-python",
   "name": "python",
   "nbconvert_exporter": "python",
   "pygments_lexer": "ipython3",
   "version": "3.6.3"
  }
 },
 "nbformat": 4,
 "nbformat_minor": 2
}
