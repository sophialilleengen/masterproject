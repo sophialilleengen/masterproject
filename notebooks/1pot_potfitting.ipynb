{
 "cells": [
  {
   "cell_type": "code",
   "execution_count": 1,
   "metadata": {
    "collapsed": true
   },
   "outputs": [],
   "source": [
    "machine = 'mac'\n",
    "machine = 'magny'"
   ]
  },
  {
   "cell_type": "code",
   "execution_count": 2,
   "metadata": {},
   "outputs": [
    {
     "name": "stdout",
     "output_type": "stream",
     "text": [
      "galpyWarning: A major change in versions > 1.1 is that all galpy.potential functions and methods take the potential as the first argument; previously methods such as evaluatePotentials, evaluateDensities, etc. would be called with (R,z,Pot), now they are called as (Pot,R,z) for greater consistency across the codebase\n"
     ]
    }
   ],
   "source": [
    "from galpy.potential import NFWPotential as NFWpot\n",
    "from galpy.potential import HernquistPotential as HEpot\n",
    "from galpy.potential import DoubleExponentialDiskPotential as DEpot\n",
    "from galpy.potential import MiyamotoNagaiPotential as MNpot\n",
    "from galpy.potential import MN3ExponentialDiskPotential as MN3pot\n",
    "from galpy.potential import MWPotential2014\n",
    "\n",
    "from galpy.potential import evaluateDensities, evaluatePotentials\n",
    "from galpy.potential import plotDensities\n",
    "from galpy.potential import plotRotcurve\n",
    "from galpy.util import bovy_conversion\n",
    "\n",
    "import numpy as np\n",
    "from scipy import optimize as opt\n",
    "\n",
    "from astropy import units\n",
    "\n",
    "import matplotlib.pyplot as plt\n",
    "from matplotlib.colors import LogNorm\n",
    "\n",
    "from mpl_toolkits.axes_grid1 import make_axes_locatable\n",
    "from mpl_toolkits.mplot3d import Axes3D\n",
    "import copy\n",
    "\n",
    "from areposnap.gadget import gadget_readsnap\n",
    "from areposnap.gadget_subfind import load_subfind\n",
    "import calcGrid\n",
    "\n",
    "from auriga_basics import *\n",
    "from auriga_functions import *\n",
    "\n",
    "import datetime\n",
    "\n",
    "%matplotlib inline"
   ]
  },
  {
   "cell_type": "code",
   "execution_count": 3,
   "metadata": {},
   "outputs": [
    {
     "name": "stdout",
     "output_type": "stream",
     "text": [
      "level   : 4\n",
      "halo    : 24\n",
      "snapnr  : 127\n",
      "basedir : /hits/universe/GigaGalaxy/level4_MHD/\n",
      "halodir : /hits/universe/GigaGalaxy/level4_MHD/halo_24/\n",
      "snappath: /hits/universe/GigaGalaxy/level4_MHD/halo_24/output/\n",
      "\n",
      "[ 34.42281723  33.16259384  37.29567337]\n",
      "Found 1783163 stars.\n",
      "Rotated pos.\n",
      "Rotated bfld.\n",
      "Rotated vel.\n",
      "\n",
      "galrad  : 0.02408556640148163\n",
      "redshift: 2.220446049250313e-16\n",
      "time    : 0.9999999999999998\n",
      "center  : [ 0.  0.  0.]\n",
      "\n"
     ]
    }
   ],
   "source": [
    "#### path = /hits/universe/GigaGalaxy/level4_MHD/halo_24/output/*\n",
    "level = 4\n",
    "if machine == 'magny':\n",
    "    basedir = \"/hits/universe/GigaGalaxy/level4_MHD/\"\n",
    "elif machine == 'mac': \n",
    "    basedir = \"/Users/smilanov/Desktop/Auriga/level4/\"\n",
    "j = 0\n",
    "for halo_number in [24]:  # range(1, 31):\n",
    "    halodir = basedir+\"halo_{0}/\".format(halo_number)\n",
    "    snappath = halodir+\"output/\"\n",
    "    for snapnr in range(127,128,1):\n",
    "        print(\"level   : {0}\".format(level))\n",
    "        print(\"halo    : {0}\".format(halo_number))\n",
    "        print(\"snapnr  : {0}\".format(snapnr))\n",
    "        print(\"basedir : {0}\".format(basedir))\n",
    "        print(\"halodir : {0}\".format(halodir))\n",
    "        print(\"snappath: {0}\\n\".format(snappath))\n",
    "        s, sf = eat_snap_and_fof(level, halo_number, snapnr, snappath, loadonlytype=[0,1,2,3,4,5], \n",
    "            haloid=0, galradfac=0.1, verbose=True) \n",
    "\n",
    "        # Clean negative and zero values of gmet to avoid RuntimeErrors\n",
    "        # later on (e.g. dividing by zero)\n",
    "        s.data['gmet'] = np.maximum( s.data['gmet'], 1e-40 )\n",
    "     "
   ]
  },
  {
   "cell_type": "code",
   "execution_count": 4,
   "metadata": {
    "collapsed": true
   },
   "outputs": [],
   "source": [
    "maxr = s.galrad\n",
    "maxr = 0.01 #Mpc\n",
    "iall, = np.where( (s.halo == 0) & (s.r() < maxr) & (s.r() > 0.) )\n",
    "igas, = np.where( (s.halo == 0) & (s.r() < maxr) & (s.r() > 0.) & (s.type == 0) )\n",
    "idm, = np.where( (s.halo == 0) & (s.r() < maxr) & (s.r() > 0.) & ((s.type == 1) + (s.type == 2) + (s.type == 3) ))\n",
    "istars, = np.where( (s.halo == 0) & (s.r() < maxr) & (s.r() > 0.) & (s.type == 4) )\n",
    "mask = iall    \n",
    "\n",
    "(x_kpc, y_kpc, z_kpc), (vx_kms, vy_kms, vz_kms), rxyz_kpc, rxy_kpc = get_cartesian_vectors(s, sf, mask)\n",
    "(R_kpc, phi, z_kpc), (vR_kms, vphi, vz_kms) = get_cylindrical_vectors(s, sf, mask)\n",
    "\n",
    "\n",
    "(x, y, z), (vx, vy, vz), rxyz, rxy = get_cartesian_vectors(s, sf, mask)\n",
    "(R, phi, z), (vR, vphi, vz) = get_cylindrical_vectors(s, sf, mask)\n",
    "\n",
    "#rho, Rbin, z, vol = fitting_dens(s.mass[mask][np.abs(z_kpc > -50.) & np.abs(z_kpc <50.)], R_kpc[np.abs(z_kpc > -50.) & np.abs(z_kpc <50.)], z_kpc[np.abs(z_kpc > -50.) & np.abs(z_kpc <50.)], nbins = 41)\n",
    "#rho, R, z, vol = fitting_dens(s)\n",
    "r_dm_kpc = 1000. * s.r()[idm]\n",
    "(R_dm_kpc, phi, z_dm_kpc), (vR, vphi, vz) = get_cylindrical_vectors(s, sf, idm)\n",
    "r_gas_kpc = 1000. * s.r()[igas]\n",
    "r_stars_kpc = 1000. * s.r()[istars]\n",
    "r_all_kpc = 1000. * s.r()[iall]\n",
    "pot_dm = s.pot[idm]\n",
    "pot_m_dm = s.pot[idm] * s.mass[idm]\n",
    "pot_gas = s.pot[igas]\n",
    "pot_stars = s.pot[istars]\n",
    "pot_all = s.pot[iall]\n"
   ]
  },
  {
   "cell_type": "code",
   "execution_count": 5,
   "metadata": {},
   "outputs": [
    {
     "data": {
      "text/plain": [
       "Text(0,0.5,'pot [??]')"
      ]
     },
     "execution_count": 5,
     "metadata": {},
     "output_type": "execute_result"
    },
    {
     "data": {
      "image/png": "[encoded data removed]",
      "text/plain": [
       "<matplotlib.figure.Figure at 0x2aaad42f01d0>"
      ]
     },
     "metadata": {},
     "output_type": "display_data"
    }
   ],
   "source": [
    "#plt.plot(r_stars_kpc, pot_stars, 'b.', alpha = 0.01, label = 'stars')\n",
    "#plt.plot(r_gas_kpc, pot_gas, 'g.', alpha = 0.01, label = 'gas')\n",
    "plt.plot(r_dm_kpc, pot_m_dm, 'r.', alpha = 0.1, label = 'DM') \n",
    "plt.legend()\n",
    "plt.xlabel('R [kpc]')\n",
    "plt.ylabel('pot [??]')"
   ]
  },
  {
   "cell_type": "code",
   "execution_count": 6,
   "metadata": {},
   "outputs": [
    {
     "data": {
      "image/png": "[encoded data removed]",
      "text/plain": [
       "<matplotlib.figure.Figure at 0x2aaaf2a118d0>"
      ]
     },
     "metadata": {},
     "output_type": "display_data"
    },
    {
     "data": {
      "image/png": "[encoded data removed]",
      "text/plain": [
       "<matplotlib.figure.Figure at 0x2aac9b3d9ef0>"
      ]
     },
     "metadata": {},
     "output_type": "display_data"
    },
    {
     "data": {
      "image/png": "[encoded data removed]",
      "text/plain": [
       "<matplotlib.figure.Figure at 0x2aac99dc95f8>"
      ]
     },
     "metadata": {},
     "output_type": "display_data"
    }
   ],
   "source": [
    "#dm particle (random) selection\n",
    "\n",
    "import random\n",
    "a = np.array(random.sample(list(enumerate(pot_m_dm)),101))\n",
    "rand_ind = a[:,0].astype(int)\n",
    "rand_pot_dm = a[:, 1]\n",
    "rand_r_dm = r_dm_kpc[rand_ind]\n",
    "rand_R_dm = R_dm_kpc[rand_ind]\n",
    "rand_z_dm = z_dm_kpc[rand_ind]\n",
    "\n",
    "plt.plot(rand_r_dm, rand_pot_dm, 'r.', alpha = 0.1, label = 'DM') \n",
    "plt.legend()\n",
    "plt.xlabel('r [kpc]')\n",
    "plt.ylabel('pot [??]')\n",
    "plt.show()\n",
    "plt.plot(rand_R_dm, rand_pot_dm, 'r.', alpha = 0.1, label = 'DM') \n",
    "plt.legend()\n",
    "plt.xlabel('R [kpc]')\n",
    "plt.ylabel('pot [??]')\n",
    "plt.show()\n",
    "plt.plot(rand_z_dm, rand_pot_dm, 'r.', alpha = 0.1, label = 'DM') \n",
    "plt.legend()\n",
    "plt.xlabel('z [kpc]')\n",
    "plt.ylabel('pot [??]')\n",
    "plt.show()\n"
   ]
  },
  {
   "cell_type": "code",
   "execution_count": 7,
   "metadata": {
    "scrolled": true
   },
   "outputs": [
    {
     "name": "stdout",
     "output_type": "stream",
     "text": [
      "(0.5, 0.1, 0.6, 3, 0.35, 200.0)\n",
      "/home/extmilan/anaconda3/lib/python3.6/site-packages/galpy-1.3.dev0-py3.6-linux-x86_64.egg/galpy/potential_src/TwoPowerSphericalPotential.py:823: RuntimeWarning: divide by zero encountered in double_scalars\n",
      "  return R*(1./Rz/(self.a+sqrtRz)-numpy.log(1.+sqrtRz/self.a)/sqrtRz/Rz)\n",
      "\n",
      "/home/extmilan/anaconda3/lib/python3.6/site-packages/galpy-1.3.dev0-py3.6-linux-x86_64.egg/galpy/potential_src/TwoPowerSphericalPotential.py:803: RuntimeWarning: divide by zero encountered in double_scalars\n",
      "  return -numpy.log(1.+r/self.a)/r\n",
      "\n",
      "/home/extmilan/anaconda3/lib/python3.6/site-packages/galpy-1.3.dev0-py3.6-linux-x86_64.egg/galpy/potential_src/Potential.py:264: RuntimeWarning: invalid value encountered in double_scalars\n",
      "  else: return self._amp*rawOut\n",
      "\n"
     ]
    }
   ],
   "source": [
    "### finde nen Weg um das ganze von klein r abhängig zu machen \n",
    "### finde sinnvolle Standartwerte für Initialisierungs Parameter\n",
    "### eventuell nur dens ODER pot ausgeben, hängt von Fit funktion ab \n",
    "### ravel works in the way I want?\n",
    "\n",
    "\n",
    "#def galpy_fitting(r, R, z, r0, v0, a_mp = 0.5, b_mp = 0.0375, n_mp = 0.6, a_nfw = 4.5, n_nfw = 0.35, \\\n",
    "#                  a_he = 0.6 / 8., n_he = 0.05, hr_de = 0.3333333333333333, hz_de = 0.0625, \\\n",
    "#                  dens_fit = True, pot_fit = False):\n",
    " \n",
    "\n",
    "def galpy_fitting(a_mp, b_mp, n_mp, a_nfw, n_nfw, v0, r = None, R = None, z = None, r0 = None):    \n",
    "    \n",
    "    # stell sicher dass n_mp + n_nfw + n_he = 1, zb mit \n",
    "    #n_he = 1. - (n_mp + n_nfw)\n",
    "    mp = MNpot(a = a_mp, b = b_mp, normalize = n_mp)\n",
    "    nfwp = NFWpot(a = a_nfw, normalize = n_nfw)\n",
    "    #hep = HEpot(a = a_he, normalize = n_he)\n",
    "    pot = [mp, nfwp]#, hep]         \n",
    "    pot_mod = np.zeros((len(z), len(R)))\n",
    "    for ii, zii in enumerate(z):\n",
    "        for jj, Rjj in enumerate(R):\n",
    "            pot_mod[ii, jj] = evaluatePotentials(pot, Rjj, zii)\n",
    "    return pot_mod\n",
    "\n",
    "# FITTING\n",
    "\n",
    "def RMS(x, r, R, z, N, pot, r0):\n",
    "    a_mp, b_mp, n_mp, a_nfw, n_nfw, v0 = x[0], x[1], x[2], x[3], x[4], x[5]#, #x[6] #a_he\n",
    "    ydat = pot\n",
    "    yfit = galpy_fitting(a_mp, b_mp, n_mp, a_nfw, n_nfw, v0, r, R, z, r0)\n",
    "    RMS = np.sqrt(1./N*np.sum((ydat - yfit)**2))\n",
    "    chi = np.sum((yfit - ydat)**2/(ydat))\n",
    "    #print(datetime.datetime.now().time())\n",
    "    #print(RMS)\n",
    "    #print(chi)\n",
    "    #print(a_mp, b_mp, n_mp, a_nfw, n_nfw, v0)\n",
    "    return RMS\n",
    "\n",
    "def chi(x, r, R, z, N, pot, r0):\n",
    "    a_mp, b_mp, n_mp, a_nfw, n_nfw, v0 = x[0], x[1], x[2], x[3], x[4], x[5]#, #x[6] #a_he\n",
    "    ydat = pot\n",
    "    yfit = galpy_fitting(a_mp, b_mp, n_mp, a_nfw, n_nfw, v0, r, R, z, r0)\n",
    "    RMS = np.sqrt(1./N*np.sum((ydat - yfit)**2))\n",
    "    chi = np.abs(np.sum((yfit - ydat)**2/(ydat)))\n",
    "    #print(datetime.datetime.now().time())\n",
    "    #print(RMS)\n",
    "    #print(chi)\n",
    "    #print(a_mp, b_mp, n_mp, a_nfw, n_nfw, v0)\n",
    "    return chi\n",
    "\n",
    "a_mp = 0.5 \n",
    "b_mp = 0.1#0.0375 \n",
    "n_mp = 0.6  \n",
    "a_nfw = 3 #4.5 \n",
    "n_nfw = 0.35 \n",
    "a_he = 0.6 / 8. \n",
    "n_he = 0.05 \n",
    "\n",
    "v0 = 200.\n",
    "\n",
    "pot = rand_pot_dm\n",
    "r, R, z = rand_r_dm, rand_R_dm, rand_z_dm\n",
    "x0 = (a_mp, b_mp, n_mp,  a_nfw , n_nfw , v0) #n_he\n",
    "\n",
    "bounds = ((0., None), (0., None), (0., 0.999), (0., None), (0., 0.999), (0., None)) #n_he\n",
    "#r, R, z, rho = R, Rbin, z, rho\n",
    "#rho, R, z, vol = fitting_dens(s)\n",
    "\n",
    "r0 = 8.\n",
    "N = len(r)\n",
    "# v0 muss mitgefittet werden\n",
    "print(x0)\n",
    "\n",
    "cons = ({'type': 'eq', 'fun': lambda x:  1. - (x[2] + x[4] )})\n",
    "\n",
    "res_rms = opt.minimize(RMS, x0 = x0, args= (r, R, z, N, pot, r0), bounds = bounds, constraints = cons)\n",
    "res_chi = opt.minimize(chi, x0 = x0, args= (r, R, z, N, pot, r0), bounds = bounds, constraints = cons)\n"
   ]
  },
  {
   "cell_type": "code",
   "execution_count": 8,
   "metadata": {
    "scrolled": true
   },
   "outputs": [
    {
     "data": {
      "text/plain": [
       "     fun: 7.903599917667865\n",
       "     jac: array([  1.99339628e-01,   5.96046448e-08,  -1.43449187e-01,\n",
       "         1.43748522e-03,  -7.66707063e-02,   0.00000000e+00])\n",
       " message: 'Optimization terminated successfully.'\n",
       "    nfev: 450\n",
       "     nit: 54\n",
       "    njev: 54\n",
       "  status: 0\n",
       " success: True\n",
       "       x: array([  2.81004862e-08,   1.19606393e-06,   6.98688766e-01,\n",
       "         1.41207141e+01,   3.01311234e-01,   2.00000000e+02])"
      ]
     },
     "execution_count": 8,
     "metadata": {},
     "output_type": "execute_result"
    }
   ],
   "source": [
    "res_rms\n"
   ]
  },
  {
   "cell_type": "code",
   "execution_count": 9,
   "metadata": {},
   "outputs": [
    {
     "data": {
      "text/plain": [
       "     fun: 705.82323222089\n",
       "     jac: array([  2.86749268e+01,  -5.19790649e-02,  -2.30372849e+01,\n",
       "        -2.22015381e-03,  -2.22843094e+01,   0.00000000e+00])\n",
       " message: 'Optimization terminated successfully.'\n",
       "    nfev: 212\n",
       "     nit: 24\n",
       "    njev: 24\n",
       "  status: 0\n",
       " success: True\n",
       "       x: array([  0.00000000e+00,   8.16558545e-02,   7.28239763e-01,\n",
       "         1.54319244e+01,   2.71760237e-01,   2.00000000e+02])"
      ]
     },
     "execution_count": 9,
     "metadata": {},
     "output_type": "execute_result"
    }
   ],
   "source": [
    "res_chi"
   ]
  },
  {
   "cell_type": "code",
   "execution_count": 10,
   "metadata": {},
   "outputs": [
    {
     "ename": "NameError",
     "evalue": "name 'res' is not defined",
     "output_type": "error",
     "traceback": [
      "\u001b[0;31m---------------------------------------------------------------------------\u001b[0m",
      "\u001b[0;31mNameError\u001b[0m                                 Traceback (most recent call last)",
      "\u001b[0;32m<ipython-input-10-fc41cb3c229e>\u001b[0m in \u001b[0;36m<module>\u001b[0;34m()\u001b[0m\n\u001b[0;32m----> 1\u001b[0;31m \u001b[0ma_mp\u001b[0m\u001b[0;34m,\u001b[0m \u001b[0mb_mp\u001b[0m\u001b[0;34m,\u001b[0m \u001b[0mn_mp\u001b[0m \u001b[0;34m=\u001b[0m \u001b[0mres\u001b[0m\u001b[0;34m.\u001b[0m\u001b[0mx\u001b[0m\u001b[0;34m[\u001b[0m\u001b[0;36m0\u001b[0m\u001b[0;34m]\u001b[0m\u001b[0;34m,\u001b[0m \u001b[0mres\u001b[0m\u001b[0;34m.\u001b[0m\u001b[0mx\u001b[0m\u001b[0;34m[\u001b[0m\u001b[0;36m1\u001b[0m\u001b[0;34m]\u001b[0m\u001b[0;34m,\u001b[0m \u001b[0mres\u001b[0m\u001b[0;34m.\u001b[0m\u001b[0mx\u001b[0m\u001b[0;34m[\u001b[0m\u001b[0;36m2\u001b[0m\u001b[0;34m]\u001b[0m\u001b[0;34m\u001b[0m\u001b[0m\n\u001b[0m\u001b[1;32m      2\u001b[0m \u001b[0ma_nfw\u001b[0m \u001b[0;34m,\u001b[0m \u001b[0mn_nfw\u001b[0m \u001b[0;34m=\u001b[0m \u001b[0mres\u001b[0m\u001b[0;34m.\u001b[0m\u001b[0mx\u001b[0m\u001b[0;34m[\u001b[0m\u001b[0;36m3\u001b[0m\u001b[0;34m]\u001b[0m  \u001b[0;34m,\u001b[0m \u001b[0mres\u001b[0m\u001b[0;34m.\u001b[0m\u001b[0mx\u001b[0m\u001b[0;34m[\u001b[0m\u001b[0;36m4\u001b[0m\u001b[0;34m]\u001b[0m\u001b[0;34m\u001b[0m\u001b[0m\n\u001b[1;32m      3\u001b[0m \u001b[0;31m#a_he, n_he = res.x[5],  res.x[6]\u001b[0m\u001b[0;34m\u001b[0m\u001b[0;34m\u001b[0m\u001b[0m\n",
      "\u001b[0;31mNameError\u001b[0m: name 'res' is not defined"
     ]
    }
   ],
   "source": [
    "a_mp, b_mp, n_mp = res.x[0], res.x[1], res.x[2]\n",
    "a_nfw , n_nfw = res.x[3]  , res.x[4]\n",
    "#a_he, n_he = res.x[5],  res.x[6]"
   ]
  },
  {
   "cell_type": "code",
   "execution_count": null,
   "metadata": {
    "collapsed": true
   },
   "outputs": [],
   "source": [
    "mp = MNpot(a = a_mp, b = b_mp, normalize = n_mp, ro = r0, vo = v0)\n",
    "nfwp = NFWpot(a = a_nfw, normalize = n_nfw, ro = r0, vo = v0)\n",
    "#hep = HEpot(a = a_he, normalize = 1-(n_mp+n_nfw), ro = r0, vo = v0)\n",
    "    \n",
    "pot = [mp,nfwp]#,hep]\n",
    "\n"
   ]
  },
  {
   "cell_type": "code",
   "execution_count": null,
   "metadata": {
    "collapsed": true
   },
   "outputs": [],
   "source": [
    "#dens_final = galpy_fitting(a_mp, b_mp, n_mp, a_nfw , n_nfw, a_he, n_he, R= R, z= z)"
   ]
  },
  {
   "cell_type": "code",
   "execution_count": null,
   "metadata": {
    "collapsed": true
   },
   "outputs": [],
   "source": [
    "plotDensities(pot,nrs=101,nzs=101, log = True)"
   ]
  },
  {
   "cell_type": "code",
   "execution_count": null,
   "metadata": {
    "collapsed": true
   },
   "outputs": [],
   "source": []
  }
 ],
 "metadata": {
  "kernelspec": {
   "display_name": "Python 3",
   "language": "python",
   "name": "python3"
  },
  "language_info": {
   "codemirror_mode": {
    "name": "ipython",
    "version": 3
   },
   "file_extension": ".py",
   "mimetype": "text/x-python",
   "name": "python",
   "nbconvert_exporter": "python",
   "pygments_lexer": "ipython3",
   "version": "3.6.3"
  }
 },
 "nbformat": 4,
 "nbformat_minor": 2
}
