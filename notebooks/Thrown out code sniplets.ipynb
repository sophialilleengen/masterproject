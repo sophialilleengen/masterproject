{
 "cells": [
  {
   "cell_type": "code",
   "execution_count": null,
   "metadata": {
    "collapsed": true
   },
   "outputs": [],
   "source": [
    "### GET IDS WHICH MERGE WITHIN TWO NEIGHOBURING SNAPSHOTS ###\n",
    "\n",
    "level = 4\n",
    "for halo_number in [24]:  # range(1, 31):\n",
    "    halodir = basedir+\"halo_{0}/\".format(halo_number)\n",
    "    snappath = halodir+\"output/\"\n",
    "    for snapnr in range(73,74,1):\n",
    "        print(\"snapnr  : {0}\".format(snapnr))\n",
    "        print(datetime.datetime.now().time())\n",
    "        #print(\"snappath: {0}\\n\".format(snappath))\n",
    "        s1, sf1 = eat_snap_and_fof(level, halo_number, snapnr-1, snappath, loadonlytype=[4], \n",
    "            haloid=0, galradfac=0.1, verbose=False) \n",
    "        \n",
    "        s2, sf2 = eat_snap_and_fof(level, halo_number, snapnr, snappath, loadonlytype=[4], \n",
    "            haloid=0, galradfac=0.1, verbose=False) \n",
    "        # Clean negative and zero values of gmet to avoid RuntimeErrors\n",
    "        # later on (e.g. dividing by zero)\n",
    "        s1.data['gmet'] = np.maximum( s1.data['gmet'], 1e-40 )\n",
    "        s2.data['gmet'] = np.maximum( s2.data['gmet'], 1e-40 )\n",
    "        \n",
    "        # get positions and velocities of all stars \n",
    "        istars1, = np.where( (s1.type == 4) & (s1.halo == 0) )#& (s.subhalo == 0))\n",
    "        (x1_kpc, y1_kpc, z1_kpc), (vx1_kms, vy1_kms, vz1_kms), rxyz1_kpc, rxy1_kpc = get_cartesian_vectors(s1, sf1, istars1)\n",
    "        istars2, = np.where( (s2.type == 4) & (s2.halo == 0) )#& (s.subhalo == 0))\n",
    "        (x2_kpc, y2_kpc, z2_kpc), (vx2_kms, vy2_kms, vz2_kms), rxyz2_kpc, rxy2_kpc = get_cartesian_vectors(s2, sf2, istars2)\n",
    " \n",
    "        # mask for stars in first snapshot in first subhalo\n",
    "        istarssub1, = np.where( (s1.type == 4) & (s1.halo == 0) & (s1.subhalo == 1) )\n",
    "        # get their IDs\n",
    "        ids_halo1 = s1.id[istarssub1]\n",
    "        # check which of these stars are in the main galaxy in the snapshot after\n",
    "        idsmergermask = np.isin(s2.id[np.where(s2.subhalo ==0)], ids_halo1)\n",
    "        # get their IDs\n",
    "        ids_merger = s2.id[np.where(s2.subhalo ==0)][idsmergermask]    "
   ]
  }
 ],
 "metadata": {
  "kernelspec": {
   "display_name": "Python 3",
   "language": "python",
   "name": "python3"
  },
  "language_info": {
   "codemirror_mode": {
    "name": "ipython",
    "version": 3
   },
   "file_extension": ".py",
   "mimetype": "text/x-python",
   "name": "python",
   "nbconvert_exporter": "python",
   "pygments_lexer": "ipython3",
   "version": "3.6.3"
  }
 },
 "nbformat": 4,
 "nbformat_minor": 2
}
