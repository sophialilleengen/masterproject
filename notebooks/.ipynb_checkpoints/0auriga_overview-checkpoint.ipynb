{
 "cells": [
  {
   "cell_type": "code",
   "execution_count": 1,
   "metadata": {
    "collapsed": true
   },
   "outputs": [],
   "source": [
    "import numpy as np\n",
    "import matplotlib\n",
    "from matplotlib import pyplot as plt\n",
    "from mpl_toolkits.axes_grid1 import make_axes_locatable\n",
    "from mpl_toolkits.mplot3d import Axes3D\n",
    "from matplotlib import animation\n",
    "from matplotlib.colors import LogNorm\n",
    "from matplotlib import rcParams\n",
    "import copy\n",
    "\n",
    "from areposnap.gadget import gadget_readsnap\n",
    "from areposnap.gadget_subfind import load_subfind\n",
    "\n",
    "from auriga_basics import *\n",
    "%matplotlib inline\n",
    "\n",
    "rcParams['font.size'] = 16\n",
    "rcParams['lines.linewidth'] = 1.5\n",
    "rcParams['axes.linewidth'] = 1.5\n",
    "rcParams['ytick.major.width'] = 1.5\n",
    "rcParams['xtick.major.width'] = 1.5\n",
    "rcParams['image.cmap'] = 'magma'\n",
    "\n",
    "cmap = copy.copy(plt.cm.get_cmap(rcParams['image.cmap']))\n",
    "cmap.set_bad((0,0,0))"
   ]
  },
  {
   "cell_type": "code",
   "execution_count": 2,
   "metadata": {
    "collapsed": true
   },
   "outputs": [],
   "source": [
    "machine = 'mac'\n",
    "#machine = 'magny'\n",
    "machine = 'virgo'\n",
    "\n",
    "if machine == 'magny':\n",
    "    basedir = \"/hits/universe/GigaGalaxy/level4_MHD/\"\n",
    "    filedir = \"/home/extmilan/masterthesis/files/\"\n",
    "    plotdir = \"/home/extmilan/masterthesis/plots/\"\n",
    "elif machine == 'mac': \n",
    "    basedir = \"/Users/smilanov/Desktop/Auriga/level4/\"\n",
    "    filedir = \"/Users/smilanov/Documents/masterthesis/auriga_files/files/\"\n",
    "    plotdir = \"/Users/smilanov/Documents/masterthesis/auriga_files/plots/\"\n",
    "elif machine == 'virgo': \n",
    "    basedir = \"/virgo/simulations/Auriga/level4_MHD/\"\n",
    "    filedir = \"/u/milas/masterthesis/masterproject/files/\"\n",
    "    plotdir = \"/u/milas/masterthesis/masterproject/plots/\"\n"
   ]
  },
  {
   "cell_type": "code",
   "execution_count": 3,
   "metadata": {},
   "outputs": [
    {
     "name": "stdout",
     "output_type": "stream",
     "text": [
      "level   : 4\n",
      "halo    : 24\n",
      "snapnr  : 127\n",
      "basedir : /virgo/simulations/Auriga/level4_MHD/\n",
      "halodir : /virgo/simulations/Auriga/level4_MHD/halo_24/\n",
      "snappath: /virgo/simulations/Auriga/level4_MHD/halo_24/output/\n",
      "\n",
      "Found 1783163 stars.\n",
      "Rotated pos.\n",
      "Rotated vel.\n",
      "\n",
      "galrad  : 0.02408556640148163\n",
      "redshift: 2.220446049250313e-16\n",
      "time    : 0.9999999999999998\n",
      "center  : [ 0.  0.  0.]\n",
      "\n"
     ]
    }
   ],
   "source": [
    "#### path = /hits/universe/GigaGalaxy/level4_MHD/halo_24/output/*\n",
    "level = 4\n",
    "\n",
    "j = 0\n",
    "for halo_number in [24]:  # range(1, 31):\n",
    "    halodir = basedir+\"halo_{0}/\".format(halo_number)\n",
    "    snappath = halodir+\"output/\"\n",
    "    for snapnr in range(127,128,1):\n",
    "        print(\"level   : {0}\".format(level))\n",
    "        print(\"halo    : {0}\".format(halo_number))\n",
    "        print(\"snapnr  : {0}\".format(snapnr))\n",
    "        print(\"basedir : {0}\".format(basedir))\n",
    "        print(\"halodir : {0}\".format(halodir))\n",
    "        print(\"snappath: {0}\\n\".format(snappath))\n",
    "        s, sf = eat_snap_and_fof(level, halo_number, snapnr, snappath, loadonlytype=[1,2,3,4], \n",
    "            haloid=0, galradfac=0.1, verbose=True) \n",
    "\n",
    "        # Clean negative and zero values of gmet to avoid RuntimeErrors\n",
    "        # later on (e.g. dividing by zero)\n",
    "        s.data['gmet'] = np.maximum( s.data['gmet'], 1e-40 )\n",
    "     "
   ]
  },
  {
   "cell_type": "code",
   "execution_count": 30,
   "metadata": {
    "collapsed": true
   },
   "outputs": [],
   "source": [
    "i_dm = np.where(s.type == 1)"
   ]
  },
  {
   "cell_type": "code",
   "execution_count": 32,
   "metadata": {
    "collapsed": true
   },
   "outputs": [],
   "source": [
    "i_stars = np.where(s.type == 4)"
   ]
  },
  {
   "cell_type": "code",
   "execution_count": 33,
   "metadata": {},
   "outputs": [
    {
     "data": {
      "text/plain": [
       "43582.149505615234"
      ]
     },
     "execution_count": 33,
     "metadata": {},
     "output_type": "execute_result"
    }
   ],
   "source": [
    "1000* np.max(s.pos[i_stars])"
   ]
  },
  {
   "cell_type": "code",
   "execution_count": 27,
   "metadata": {},
   "outputs": [
    {
     "name": "stdout",
     "output_type": "stream",
     "text": [
      "0 869605\n"
     ]
    }
   ],
   "source": [
    "print(np.sum(i_stars), np.sum(i_dm))"
   ]
  },
  {
   "cell_type": "code",
   "execution_count": null,
   "metadata": {
    "collapsed": true
   },
   "outputs": [],
   "source": []
  },
  {
   "cell_type": "code",
   "execution_count": null,
   "metadata": {
    "collapsed": true
   },
   "outputs": [],
   "source": []
  },
  {
   "cell_type": "code",
   "execution_count": null,
   "metadata": {
    "collapsed": true
   },
   "outputs": [],
   "source": []
  },
  {
   "cell_type": "code",
   "execution_count": 4,
   "metadata": {},
   "outputs": [
    {
     "data": {
      "text/plain": [
       "2.5673723560210484e-15"
      ]
     },
     "execution_count": 4,
     "metadata": {},
     "output_type": "execute_result"
    }
   ],
   "source": [
    "s.cosmology_get_lookback_time_from_a( s.time, is_flat=True )"
   ]
  },
  {
   "cell_type": "code",
   "execution_count": null,
   "metadata": {
    "collapsed": true
   },
   "outputs": [],
   "source": [
    "### plot all stars in Simulation 24\n",
    "istars, = np.where( (s.type == 4) )#& (s.halo == 0) )#& (s.subhalo == 0))\n",
    "(x, y, z), (vx, vy, vz), rxyz, rxy = get_cartesian_vectors(s, sf, istars)\n",
    "\n",
    "binnum = 401\n",
    "H1, xedges1, yedges1 = np.histogram2d(x, y, bins=binnum)\n",
    "H2, xedges2, yedges2 = np.histogram2d(rxy, z, bins=binnum)\n",
    "vmin = 1e0\n",
    "if np.max(H1) > np.max(H2):\n",
    "    vmax = np.max(H1)\n",
    "else: vmax = np.max(H2)\n",
    "\n",
    "fig, (ax1, ax2) = plt.subplots(1, 2, figsize=(12, 6))\n",
    "h1 = ax1.hist2d(x, y, bins=binnum, norm=matplotlib.colors.LogNorm(), cmap = 'inferno', vmin = vmin, vmax = vmax)\n",
    "h2 = ax2.hist2d(rxy, z, bins=binnum, norm=matplotlib.colors.LogNorm(), cmap = 'inferno', vmin = vmin, vmax= vmax)\n",
    "ax1.set_xlabel(\"x [kpc]\")\n",
    "ax1.set_ylabel(\"y [kpc]\")\n",
    "ax1.set_aspect('equal')\n",
    "ax2.set_xlabel(\"R [kpc]\")\n",
    "ax2.set_ylabel(\"z [kpc]\")\n",
    "ax2.set_aspect('equal')\n",
    "cbar2 = fig.colorbar(h2[3], ax = ax2 )\n"
   ]
  },
  {
   "cell_type": "code",
   "execution_count": null,
   "metadata": {
    "collapsed": true
   },
   "outputs": [],
   "source": [
    "### plot stars of halo 0 in Simulation 24\n",
    "\n",
    "istars, = np.where( (s.type == 4) & (s.halo == 0) )#& (s.subhalo == 0))\n",
    "(x, y, z), (vx, vy, vz), rxyz, rxy = get_cartesian_vectors(s, sf, istars)\n",
    "\n",
    "binnum = 401\n",
    "H1, xedges1, yedges1 = np.histogram2d(x, y, bins=binnum)\n",
    "H2, xedges2, yedges2 = np.histogram2d(rxy, z, bins=binnum)\n",
    "vmin = 1e0\n",
    "if np.max(H1) > np.max(H2):\n",
    "    vmax = np.max(H1)\n",
    "else: vmax = np.max(H2)\n",
    "\n",
    "fig, (ax1, ax2) = plt.subplots(1, 2, figsize=(12, 6))\n",
    "h1 = ax1.hist2d(x, y, bins=binnum, norm=matplotlib.colors.LogNorm(), cmap = 'inferno', vmin = vmin, vmax = vmax)\n",
    "h2 = ax2.hist2d(rxy, z, bins=binnum, norm=matplotlib.colors.LogNorm(), cmap = 'inferno', vmin = vmin, vmax= vmax)\n",
    "ax1.set_xlabel(\"x [kpc]\")\n",
    "ax1.set_ylabel(\"y [kpc]\")\n",
    "ax1.set_aspect('equal')\n",
    "ax2.set_xlabel(\"R [kpc]\")\n",
    "ax2.set_ylabel(\"z [kpc]\")\n",
    "ax2.set_aspect('equal')\n",
    "cbar2 = fig.colorbar(h2[3], ax = ax2 )\n"
   ]
  },
  {
   "cell_type": "code",
   "execution_count": null,
   "metadata": {
    "collapsed": true,
    "scrolled": false
   },
   "outputs": [],
   "source": [
    "### plot stars of halo 0 within 400kpc in Simulation 24\n",
    "\n",
    "istars, = np.where( (s.type == 4) & (s.halo == 0) )#& (s.subhalo == 0))\n",
    "(x, y, z), (vx, vy, vz), rxyz, rxy = get_cartesian_vectors(s, sf, istars)\n",
    "\n",
    "binnumxx = 401\n",
    "cmap = copy.copy(plt.cm.inferno)\n",
    "cmap.set_bad((0,0,0))  # Fill background with black\n",
    "\n",
    "fig, ax = plt.subplots(1, 1, figsize=(12, 12))\n",
    "h = ax.hist2d(1000*x, 1000*y, bins=binnumxx, norm=matplotlib.colors.LogNorm(), cmap = cmap, \\\n",
    "           range = [[-400,400], [-400, 400]])\n",
    "ax.set_xlabel(\"x [kpc]\")\n",
    "ax.set_ylabel(\"y [kpc]\")\n",
    "ax.set_aspect('equal')\n",
    "divider = make_axes_locatable(ax)\n",
    "cax = divider.append_axes(\"right\", size=\"5%\", pad=0.2)\n",
    "fig.colorbar(h[3], cax=cax)\n",
    "#fig.savefig('../plots/aur_24_xy_distribution.png', dpi = 300, format = 'png', bbox_inches = 'tight')\n"
   ]
  },
  {
   "cell_type": "code",
   "execution_count": 5,
   "metadata": {
    "collapsed": true
   },
   "outputs": [],
   "source": [
    "def read_snap(snapnr, halo_number = 24):\n",
    "    halodir = basedir+\"halo_{0}/\".format(halo_number)\n",
    "    snappath = halodir+\"output/\"\n",
    "    \n",
    "    #print(\"level   : {0}\".format(level))\n",
    "    #print(\"halo    : {0}\".format(halo_number))\n",
    "    print(\"snapnr  : {0}\".format(snapnr))\n",
    "    #print(\"basedir : {0}\".format(basedir))\n",
    "    #print(\"halodir : {0}\".format(halodir))\n",
    "    #print(\"snappath: {0}\\n\".format(snappath))\n",
    "    s, sf = eat_snap_and_fof(level, halo_number, snapnr, snappath, loadonlytype=[4], \n",
    "        haloid=0, galradfac=0.1, verbose=True) \n",
    "\n",
    "    # Clean negative and zero values of gmet to avoid RuntimeErrors\n",
    "    # later on (e.g. dividing by zero)\n",
    "    s.data['gmet'] = np.maximum( s.data['gmet'], 1e-40 )\n",
    "\n",
    "\n",
    "    istars, = np.where( (s.type == 4) & (s.halo == 0) )#& (s.subhalo == 0))\n",
    "    (x, y, z), (vx, vy, vz), rxyz, rxy = get_cartesian_vectors(s, sf, istars)\n",
    "    snap_time = s.cosmology_get_lookback_time_from_a( s.time, is_flat=True )\n",
    "    return(x, y, z), (vx, vy, vz), rxyz, rxy, snap_time"
   ]
  },
  {
   "cell_type": "markdown",
   "metadata": {
    "scrolled": true
   },
   "source": [
    "## find min and max values of x, y, z and R in all snapshots to set frame for animation\n",
    "get_minmaxvals = True\n",
    "if get_minmaxvals == True:\n",
    "    startnr = 60\n",
    "    endnr = 128\n",
    "    s_snap = np.arange(startnr,endnr,1)\n",
    "    xmin, xmax, ymin, ymax, zmin, zmax, Rmin, Rmax = [], [], [], [], [], [], [], []\n",
    "    for j in range(30):\n",
    "        print(j)\n",
    "        xmins, xmaxs, ymins, ymaxs, zmins, zmaxs, Rmins, Rmaxs = np.zeros(len(s_snap)), np.zeros(len(s_snap)), np.zeros(len(s_snap)), np.zeros(len(s_snap)), np.zeros(len(s_snap)), np.zeros(len(s_snap)), np.zeros(len(s_snap)), np.zeros(len(s_snap))\n",
    "\n",
    "        for i in range(len(s_snap)):\n",
    "            (x, y, z), (vx, vy, vz), rxyz, rxy, snap_time = read_snap(s_snap[i], j+1)\n",
    "            xmins[i], xmaxs[i] = np.min(x), np.max(x)\n",
    "            ymins[i], ymaxs[i] = np.min(y), np.max(y)\n",
    "            zmins[i], zmaxs[i] = np.min(z), np.max(z)\n",
    "            Rmins[i], Rmaxs[i] = np.min(rxy), np.max(rxy)\n",
    "\n",
    "        xmin.append(np.min(xmins)) \n",
    "        xmax.append(np.min(xmaxs))                                                                                                      \n",
    "        ymin.append(np.min(ymins)) \n",
    "        ymax.append(np.min(ymaxs))                                                                                                        \n",
    "        zmin.append(np.min(zmins)) \n",
    "        zmax.append(np.min(zmaxs))                                                                                                        \n",
    "        Rmin.append(np.min(Rmins)) \n",
    "        Rmax.append(np.min(Rmaxs))                                                                                                         \n",
    "\n",
    "    print(xmin, xmax, ymin, ymax, zmin, zmax, Rmin, Rmax)\n",
    "    halonums = np.arange(1,31,1)\n",
    "    dataout = ([halonums, np.array(xmin), np.array(xmax), np.array(ymin), np.array(ymax), np.array(zmin), np.array(zmax), np.array(Rmin), np.array(Rmax)])  \n",
    "    np.savetxt(filedir + 'min_max_vals_for_animation_frame_all_simulations.txt', dataout, header='Halo number\\txmin [kpc]\\txmax [kpc]\\tymin [kpc]\\tymax [kpc]\\tzmin [kpc]\\tzmax [kpc]\\tRmin [kpc]\\tRmax [kpc]')\n",
    "    "
   ]
  },
  {
   "cell_type": "code",
   "execution_count": 6,
   "metadata": {
    "collapsed": true
   },
   "outputs": [],
   "source": [
    "xmin, xmax, ymin, ymax, zmin, zmax, Rmin, Rmax = -849.114990234, 459.571899414, -816.423339844, 439.729125977, -330.904510498, 318.737487793, 0.0, 863.537353516"
   ]
  },
  {
   "cell_type": "code",
   "execution_count": 8,
   "metadata": {},
   "outputs": [
    {
     "name": "stdout",
     "output_type": "stream",
     "text": [
      "snapnr  : 60\n",
      "Found 84249 stars.\n",
      "Rotated pos.\n",
      "Rotated vel.\n",
      "\n",
      "galrad  : 0.008027402311563491\n",
      "redshift: 2.1032696525957713\n",
      "time    : 0.32224076923625916\n",
      "center  : [ 0.  0.  0.]\n",
      "\n",
      "[-859.0, 469.0, -826.0, 449.0]\n",
      "snapnr  : 60\n",
      "Found 84249 stars.\n",
      "Rotated pos.\n",
      "Rotated vel.\n",
      "\n",
      "galrad  : 0.008027402311563491\n",
      "redshift: 2.1032696525957713\n",
      "time    : 0.32224076923625916\n",
      "center  : [ 0.  0.  0.]\n",
      "\n"
     ]
    },
    {
     "data": {
      "image/png": "[encoded data removed]",
      "text/plain": [
       "<matplotlib.figure.Figure at 0x2b30fca9e048>"
      ]
     },
     "metadata": {},
     "output_type": "display_data"
    },
    {
     "name": "stderr",
     "output_type": "stream",
     "text": [
      "/u/milas/conda-envs/auriga/lib/python3.6/site-packages/matplotlib/animation.py:1021: UserWarning: MovieWriter imagemagick unavailable\n",
      "  warnings.warn(\"MovieWriter %s unavailable\" % writer)\n"
     ]
    },
    {
     "ename": "ValueError",
     "evalue": "Cannot save animation: no writers are available. Please install ffmpeg to save animations.",
     "output_type": "error",
     "traceback": [
      "\u001b[0;31m---------------------------------------------------------------------------\u001b[0m",
      "\u001b[0;31mIndexError\u001b[0m                                Traceback (most recent call last)",
      "\u001b[0;32m/u/milas/conda-envs/auriga/lib/python3.6/site-packages/matplotlib/animation.py\u001b[0m in \u001b[0;36msave\u001b[0;34m(self, filename, writer, fps, dpi, codec, bitrate, extra_args, metadata, extra_anim, savefig_kwargs)\u001b[0m\n\u001b[1;32m   1023\u001b[0m                 \u001b[0;32mtry\u001b[0m\u001b[0;34m:\u001b[0m\u001b[0;34m\u001b[0m\u001b[0m\n\u001b[0;32m-> 1024\u001b[0;31m                     writer = writers[writers.list()[0]](fps, codec, bitrate,\n\u001b[0m\u001b[1;32m   1025\u001b[0m                                                         \u001b[0mextra_args\u001b[0m\u001b[0;34m=\u001b[0m\u001b[0mextra_args\u001b[0m\u001b[0;34m,\u001b[0m\u001b[0;34m\u001b[0m\u001b[0m\n",
      "\u001b[0;31mIndexError\u001b[0m: list index out of range",
      "\nDuring handling of the above exception, another exception occurred:\n",
      "\u001b[0;31mValueError\u001b[0m                                Traceback (most recent call last)",
      "\u001b[0;32m<ipython-input-8-5fb1c7a41bff>\u001b[0m in \u001b[0;36m<module>\u001b[0;34m()\u001b[0m\n\u001b[1;32m     52\u001b[0m \u001b[0mplt\u001b[0m\u001b[0;34m.\u001b[0m\u001b[0mshow\u001b[0m\u001b[0;34m(\u001b[0m\u001b[0;34m)\u001b[0m\u001b[0;34m\u001b[0m\u001b[0m\n\u001b[1;32m     53\u001b[0m \u001b[0;34m\u001b[0m\u001b[0m\n\u001b[0;32m---> 54\u001b[0;31m \u001b[0manim_xy\u001b[0m\u001b[0;34m.\u001b[0m\u001b[0msave\u001b[0m\u001b[0;34m(\u001b[0m\u001b[0;34m'../plots/xy_evolution.gif'\u001b[0m\u001b[0;34m,\u001b[0m\u001b[0mwriter\u001b[0m\u001b[0;34m=\u001b[0m\u001b[0;34m'imagemagick'\u001b[0m\u001b[0;34m,\u001b[0m\u001b[0mfps\u001b[0m\u001b[0;34m=\u001b[0m\u001b[0;36m2\u001b[0m\u001b[0;34m)\u001b[0m\u001b[0;34m\u001b[0m\u001b[0m\n\u001b[0m\u001b[1;32m     55\u001b[0m \u001b[0;34m\u001b[0m\u001b[0m\n\u001b[1;32m     56\u001b[0m \u001b[0;34m\u001b[0m\u001b[0m\n",
      "\u001b[0;32m/u/milas/conda-envs/auriga/lib/python3.6/site-packages/matplotlib/animation.py\u001b[0m in \u001b[0;36msave\u001b[0;34m(self, filename, writer, fps, dpi, codec, bitrate, extra_args, metadata, extra_anim, savefig_kwargs)\u001b[0m\n\u001b[1;32m   1026\u001b[0m                                                         metadata=metadata)\n\u001b[1;32m   1027\u001b[0m                 \u001b[0;32mexcept\u001b[0m \u001b[0mIndexError\u001b[0m\u001b[0;34m:\u001b[0m\u001b[0;34m\u001b[0m\u001b[0m\n\u001b[0;32m-> 1028\u001b[0;31m                     raise ValueError(\"Cannot save animation: no writers are \"\n\u001b[0m\u001b[1;32m   1029\u001b[0m                                      \u001b[0;34m\"available. Please install \"\u001b[0m\u001b[0;34m\u001b[0m\u001b[0m\n\u001b[1;32m   1030\u001b[0m                                      \"ffmpeg to save animations.\")\n",
      "\u001b[0;31mValueError\u001b[0m: Cannot save animation: no writers are available. Please install ffmpeg to save animations."
     ]
    }
   ],
   "source": [
    "startnr = 60\n",
    "endnr = 128\n",
    "\n",
    "norm=matplotlib.colors.LogNorm()\n",
    "s_snap = np.arange(startnr,endnr,1)\n",
    "\n",
    "\n",
    "xminlim, xmaxlim, yminlim, ymaxlim = int(xmin)-10, int(xmax)+10, int(ymin)-10, int(ymax)+10 \n",
    "zminlim, zmaxlim, Rminlim, Rmaxlim = int(zmin)-10, int(zmax)+10, int(Rmin)-10, int(Rmax)+10\n",
    "### for xy plot ###\n",
    "(x, y, z), (vx, vy, vz), rxyz, rxy, snap_time = read_snap(s_snap[0])\n",
    "X = x\n",
    "Y = y\n",
    "X = np.append(X, [xminlim, xmaxlim])\n",
    "Y = np.append(Y, [yminlim, ymaxlim])\n",
    "\n",
    "fig, ax = plt.subplots(figsize = (8,8))\n",
    "ax.set_ylim([-400, 400])\n",
    "ax.set_xlim([-400, 400])\n",
    "#Create 2d Histogram\n",
    "data,xedges,yedges = np.histogram2d(X,Y, bins = 501)\n",
    "#data_bg,x_bg,y_bg = np.histogram2d(X_bg,Y_bg, bins = 501)\n",
    "\n",
    "\n",
    "#Smooth with filter\n",
    "ext = [xedges[0], xedges[-1], yedges[0], yedges[-1]]\n",
    "print(ext)\n",
    "im = plt.imshow(data.T, origin = 'lower', interpolation = 'gaussian', cmap = cmap, norm=norm, extent = ext, animated=True, )\n",
    "ax.set_xlabel('x [kpc]')\n",
    "ax.set_ylabel('y [kpc]')\n",
    "ax.set_aspect('equal')\n",
    "time_text = ax.text(0.1, 0.9,'', color = 'white', transform=ax.transAxes, fontsize=16)\n",
    "\n",
    "#Define animation. \n",
    "def animate(i) :\n",
    "    (x, y, z), (vx, vy, vz), rxyz, rxy, snap_time = read_snap(s_snap[i])\n",
    "    X = x\n",
    "    Y = y\n",
    "    X = np.append(X, [xminlim, xmaxlim])\n",
    "    Y = np.append(Y, [yminlim, ymaxlim])    \n",
    "    #X = np.append(X, [-201, 201])\n",
    "    #Y = np.append(Y, [-201, 201])\n",
    "    data,xedge,yedge = np.histogram2d(X,Y, bins = 501)\n",
    "    \n",
    "    im.set_data(data)\n",
    "    \n",
    "    time_text.set_text(\"Lookback time: {:.2f} Gyr\".format(snap_time) )\n",
    "    \n",
    "\n",
    "anim_xy = animation.FuncAnimation(fig, animate, frames=len(s_snap))\n",
    "\n",
    "plt.show()\n",
    "\n",
    "anim_xy.save('../plots/xy_evolution.gif',writer='imagemagick',fps=2)\n",
    "\n",
    "\n"
   ]
  },
  {
   "cell_type": "code",
   "execution_count": 14,
   "metadata": {},
   "outputs": [
    {
     "name": "stdout",
     "output_type": "stream",
     "text": [
      "-849.114990234 459.571899414 -816.423339844 439.729125977 -330.904510498 318.737487793 0.0 863.537353516\n"
     ]
    }
   ],
   "source": [
    "print(xmin, xmax, ymin, ymax, zmin, zmax, Rmin, Rmax)"
   ]
  },
  {
   "cell_type": "code",
   "execution_count": null,
   "metadata": {
    "collapsed": true
   },
   "outputs": [],
   "source": [
    "infile_minmax = filedir + 'min_max_vals_for_animation_frame_all_simulations.txt'\n",
    "halnum, xmin, xmax, ymin, ymax, zmin, zmax, Rmin, Rmax = np.loadtxt(infile_minmax, unpack = True)\n",
    "print(halnum)"
   ]
  },
  {
   "cell_type": "code",
   "execution_count": null,
   "metadata": {
    "collapsed": true
   },
   "outputs": [],
   "source": []
  }
 ],
 "metadata": {
  "kernelspec": {
   "display_name": "Python 3",
   "language": "python",
   "name": "python3"
  },
  "language_info": {
   "codemirror_mode": {
    "name": "ipython",
    "version": 3
   },
   "file_extension": ".py",
   "mimetype": "text/x-python",
   "name": "python",
   "nbconvert_exporter": "python",
   "pygments_lexer": "ipython3",
   "version": "3.6.1"
  }
 },
 "nbformat": 4,
 "nbformat_minor": 2
}
