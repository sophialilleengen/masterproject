{
 "cells": [
  {
   "cell_type": "code",
   "execution_count": 1,
   "metadata": {
    "collapsed": true
   },
   "outputs": [],
   "source": [
    "machine = 'mac'\n",
    "machine = 'magny'"
   ]
  },
  {
   "cell_type": "code",
   "execution_count": 2,
   "metadata": {},
   "outputs": [
    {
     "name": "stdout",
     "output_type": "stream",
     "text": [
      "galpyWarning: A major change in versions > 1.1 is that all galpy.potential functions and methods take the potential as the first argument; previously methods such as evaluatePotentials, evaluateDensities, etc. would be called with (R,z,Pot), now they are called as (Pot,R,z) for greater consistency across the codebase\n"
     ]
    }
   ],
   "source": [
    "from galpy.potential import NFWPotential as NFWpot\n",
    "from galpy.potential import HernquistPotential as HEpot\n",
    "from galpy.potential import DoubleExponentialDiskPotential as DEpot\n",
    "from galpy.potential import MiyamotoNagaiPotential as MNpot\n",
    "from galpy.potential import MN3ExponentialDiskPotential as MN3pot\n",
    "from galpy.potential import MWPotential2014\n",
    "\n",
    "from galpy.potential import evaluateDensities, evaluatePotentials\n",
    "from galpy.potential import plotDensities\n",
    "from galpy.potential import plotRotcurve\n",
    "from galpy.util import bovy_conversion\n",
    "\n",
    "import numpy as np\n",
    "from scipy import optimize as opt\n",
    "\n",
    "import matplotlib.pyplot as plt\n",
    "from mpl_toolkits.axes_grid1 import make_axes_locatable\n",
    "from mpl_toolkits.mplot3d import Axes3D\n",
    "import copy\n",
    "\n",
    "from areposnap.gadget import gadget_readsnap\n",
    "from areposnap.gadget_subfind import load_subfind\n",
    "import calcGrid\n",
    "\n",
    "from auriga_basics import *\n",
    "from auriga_functions import *\n",
    "\n",
    "%matplotlib inline"
   ]
  },
  {
   "cell_type": "code",
   "execution_count": 3,
   "metadata": {},
   "outputs": [
    {
     "name": "stdout",
     "output_type": "stream",
     "text": [
      "level   : 4\n",
      "halo    : 24\n",
      "snapnr  : 127\n",
      "basedir : /hits/universe/GigaGalaxy/level4_MHD/\n",
      "halodir : /hits/universe/GigaGalaxy/level4_MHD/halo_24/\n",
      "snappath: /hits/universe/GigaGalaxy/level4_MHD/halo_24/output/\n",
      "\n",
      "[ 34.42281723  33.16259384  37.29567337]\n",
      "Found 1783163 stars.\n",
      "Rotated pos.\n",
      "Rotated bfld.\n",
      "Rotated vel.\n",
      "\n",
      "galrad  : 0.02408556640148163\n",
      "redshift: 2.220446049250313e-16\n",
      "time    : 0.9999999999999998\n",
      "center  : [ 0.  0.  0.]\n",
      "\n"
     ]
    }
   ],
   "source": [
    "#### path = /hits/universe/GigaGalaxy/level4_MHD/halo_24/output/*\n",
    "level = 4\n",
    "if machine == 'magny':\n",
    "    basedir = \"/hits/universe/GigaGalaxy/level4_MHD/\"\n",
    "elif machine == 'mac': \n",
    "    basedir = \"/Users/smilanov/Desktop/Auriga/level4/\"\n",
    "j = 0\n",
    "for halo_number in [24]:  # range(1, 31):\n",
    "    halodir = basedir+\"halo_{0}/\".format(halo_number)\n",
    "    snappath = halodir+\"output/\"\n",
    "    for snapnr in range(127,128,1):\n",
    "        print(\"level   : {0}\".format(level))\n",
    "        print(\"halo    : {0}\".format(halo_number))\n",
    "        print(\"snapnr  : {0}\".format(snapnr))\n",
    "        print(\"basedir : {0}\".format(basedir))\n",
    "        print(\"halodir : {0}\".format(halodir))\n",
    "        print(\"snappath: {0}\\n\".format(snappath))\n",
    "        s, sf = eat_snap_and_fof(level, halo_number, snapnr, snappath, loadonlytype=[0,1,2,3,4,5], \n",
    "            haloid=0, galradfac=0.1, verbose=True) \n",
    "\n",
    "        # Clean negative and zero values of gmet to avoid RuntimeErrors\n",
    "        # later on (e.g. dividing by zero)\n",
    "        s.data['gmet'] = np.maximum( s.data['gmet'], 1e-40 )\n",
    "     "
   ]
  },
  {
   "cell_type": "code",
   "execution_count": 48,
   "metadata": {},
   "outputs": [
    {
     "name": "stdout",
     "output_type": "stream",
     "text": [
      "Mass, radius and height given as input.\n"
     ]
    }
   ],
   "source": [
    "iall, = np.where( (s.r() < s.galrad) & (s.r() > 0.) )\n",
    "\n",
    "mask = iall\n",
    "(x_kpc, y_kpc, z_kpc), (vx_kms, vy_kms, vz_kms), rxyz_kpc, rxy_kpc = get_cartesian_vectors(s, sf, mask)\n",
    "(R_kpc, phi, z_kpc), (vR_kms, vphi, vz_kms) = get_cylindrical_vectors(s, sf, mask)\n",
    "\n",
    "\n",
    "(x, y, z), (vx, vy, vz), rxyz, rxy = get_cartesian_vectors(s, sf, mask)\n",
    "(R, phi, z), (vR, vphi, vz) = get_cylindrical_vectors(s, sf, mask)\n",
    "\n",
    "rho, Rbin, z, vol = fitting_dens(s.mass[mask][np.abs(z > -50.) & np.abs(z <50.)], R[np.abs(z > -50.) & np.abs(z <50.)], z[np.abs(z > -50.) & np.abs(z <50.)], nbins = 21)\n",
    "#rho, R, z, vol = fitting_dens(s)\n"
   ]
  },
  {
   "cell_type": "code",
   "execution_count": 49,
   "metadata": {
    "collapsed": true
   },
   "outputs": [],
   "source": [
    "### finde nen Weg um das ganze von klein r abhängig zu machen \n",
    "### finde sinnvolle Standartwerte für Initialisierungs Parameter\n",
    "### eventuell nur dens ODER pot ausgeben, hängt von Fit funktion ab \n",
    "### ravel works in the way I want?\n",
    "\n",
    "\n",
    "#def galpy_fitting(r, R, z, r0, v0, a_mp = 0.5, b_mp = 0.0375, n_mp = 0.6, a_nfw = 4.5, n_nfw = 0.35, \\\n",
    "#                  a_he = 0.6 / 8., n_he = 0.05, hr_de = 0.3333333333333333, hz_de = 0.0625, \\\n",
    "#                  dens_fit = True, pot_fit = False):\n",
    " \n",
    "def galpy_fitting(a_mp, b_mp, n_mp, a_nfw, n_nfw, a_he, n_he,\\\n",
    "                  r = None, R = None, z = None, r0 = 10., v0 = 250., dens_fit = True, pot_fit = False):    \n",
    "    #hr_de = None, hz_de = None,\n",
    "    \n",
    "    mp = MNpot(a = a_mp, b = b_mp, normalize = n_mp, ro = r0, vo = v0)\n",
    "    nfwp = NFWpot(a = a_nfw, normalize = n_nfw, ro = r0, vo = v0)\n",
    "    hep = HEpot(a = a_he, normalize = n_he, ro = r0, vo = v0)\n",
    "    #de = DEpot(hr = hr_de, hz = hz_de, normalize = 1. - (n_mp + n_nfw + n_he), ro = r0, vo = v0)\n",
    "    \n",
    "    pot = [mp, nfwp, hep]\n",
    "    densi = np.zeros([len(R), len(z)])\n",
    "    pot_mod = np.zeros([len(R), len(z)])\n",
    "    if dens_fit == True:\n",
    "        for ii, Rii in enumerate(R):\n",
    "            for jj, zjj in enumerate(z):\n",
    "                densi[ii, jj] = evaluateDensities(pot, Rii, zjj)\n",
    "    if pot_fit == True:\n",
    "        for ii, Rii in enumerate(R):\n",
    "            for jj, zjj in enumerate(z):\n",
    "                pot_mod[ii, jj] = evaluatePotentials(pot, Rii, zjj)\n",
    "            \n",
    "    #densi = np.ravel(densi)\n",
    "    pot_mod = np.ravel(pot_mod)\n",
    "    \n",
    "    if (dens_fit == True) * (pot_fit == False):\n",
    "        return densi\n",
    "    elif (dens_fit == False) * (pot_fit == True):\n",
    "        return pot_mod\n",
    "    else:\n",
    "        print('Check that fitting algorithm can handle to return density and potential.')\n",
    "        return densi, pot_mod"
   ]
  },
  {
   "cell_type": "code",
   "execution_count": 50,
   "metadata": {},
   "outputs": [
    {
     "name": "stdout",
     "output_type": "stream",
     "text": [
      "/home/extmilan/anaconda3/lib/python3.6/site-packages/galpy-1.3.dev0-py3.6-linux-x86_64.egg/galpy/potential_src/TwoPowerSphericalPotential.py:453: RuntimeWarning: divide by zero encountered in double_scalars\n",
      "  return -R/self.a/sqrtRz/(1.+sqrtRz/self.a)**2./2./self.a\n",
      "\n",
      "/home/extmilan/anaconda3/lib/python3.6/site-packages/galpy-1.3.dev0-py3.6-linux-x86_64.egg/galpy/potential_src/TwoPowerSphericalPotential.py:453: RuntimeWarning: invalid value encountered in double_scalars\n",
      "  return -R/self.a/sqrtRz/(1.+sqrtRz/self.a)**2./2./self.a\n",
      "\n",
      "/home/extmilan/anaconda3/lib/python3.6/site-packages/galpy-1.3.dev0-py3.6-linux-x86_64.egg/galpy/potential_src/TwoPowerSphericalPotential.py:186: RuntimeWarning: divide by zero encountered in double_scalars\n",
      "  return (self.a/r)**self.alpha/(1.+r/self.a)**(self.beta-self.alpha)/4./m.pi/self.a**3.\n",
      "\n",
      "/home/extmilan/anaconda3/lib/python3.6/site-packages/galpy-1.3.dev0-py3.6-linux-x86_64.egg/galpy/potential_src/TwoPowerSphericalPotential.py:186: RuntimeWarning: invalid value encountered in double_scalars\n",
      "  return (self.a/r)**self.alpha/(1.+r/self.a)**(self.beta-self.alpha)/4./m.pi/self.a**3.\n",
      "\n"
     ]
    },
    {
     "data": {
      "text/plain": [
       "'\\nrho, rho_arr_real, rho_arr_mean, Rbins, zbins, volbins = dens(s)\\nydata = np.ravel(rho)\\nxdata = np.zeros(len(Rbins), len(zbins))\\nfor ii, Rii in enumerate(Rbins):\\n    for jj, zjj in enumerate(zbins):\\n        xdata[ii,jj] = np.sqrt(Rii ** 2 + zjj **2)\\n            \\npopt, pcov = opt.curve_fit(galpy_fitting, np.ravel(xdata), ydata, sigma = np.ravel(volbins), absolute_sigma = True)\\n'"
      ]
     },
     "execution_count": 50,
     "metadata": {},
     "output_type": "execute_result"
    }
   ],
   "source": [
    "# FITTING\n",
    "\n",
    "# scipy.optimize.minimize(fun, x0, args=(), method=None, jac=None, hess=None, hessp=None, \n",
    "# bounds=None, constraints=(), tol=None, callback=None, options=None)[source]\n",
    "\n",
    "#fun = sqrt(for each i in (true_i - model_i)**2) called RMS\n",
    "#opt.minimize(fun, x0 = 0) \n",
    "\n",
    "#def galpy_fitting(a_mp, b_mp, n_mp, a_nfw, n_nfw, a_he, n_he, hr_de, hz_de,\\\n",
    "#                  r = None, R = None, z = None, r0 = 8., v0 = 220., dens_fit = True, pot_fit = False):    \n",
    "\n",
    "\n",
    "def RMS(x, r, R, z, N, rho, r0, v0):\n",
    "    a_mp, b_mp, n_mp, a_nfw, n_nfw, a_he, n_he = x[0], x[1], x[2], x[3], x[4], x[5], x[6]\n",
    "    ydata = rho\n",
    "    ymodel = galpy_fitting(a_mp, b_mp, n_mp, a_nfw, n_nfw, a_he, n_he, r, R, z, r0, v0)\n",
    "    RMS = np.sqrt(1./N*np.abs(np.sum(ydata - ymodel)))\n",
    "    return RMS\n",
    "\n",
    "\n",
    "a_mp = 0.5 \n",
    "b_mp = 0.0375 \n",
    "n_mp = 0.25  \n",
    "a_nfw = 4.5 \n",
    "n_nfw = 0.25 \n",
    "a_he = 0.6 / 8. \n",
    "n_he = 0.25 \n",
    "hr_de = 0.3 \n",
    "hz_de = 0.0625\n",
    "\n",
    "x0 = (a_mp, b_mp, n_mp,  a_nfw , n_nfw , a_he, n_he)\n",
    "\n",
    "bounds = ((0., None), (0., None), (0., None), (0., None), (0., None), (0., None), (0., None))\n",
    "r, R, z, rho = R, Rbin, z, rho\n",
    "#rho, R, z, vol = fitting_dens(s)\n",
    "\n",
    "r0, v0 = 8., 200.\n",
    "N = len(r)\n",
    "res = opt.minimize(RMS, x0 = x0, args= (r, R, z, N, rho, r0, v0), bounds = bounds)\n",
    "\n",
    "### CURVE_FIT might give problems since there are some bool args that do not need a fit. \n",
    "### Also having R and z as input values instead of just r might cause problems. \n",
    "### Think of that or first try minimize with RMS method\n",
    "\n",
    "# scipy.optimize.curve_fit(f, xdata, ydata, p0=None, sigma=None, absolute_sigma=False, \n",
    "# check_finite=True, bounds=(-inf, inf), method=None, jac=None, **kwargs)[source]\n",
    "\n",
    "#xdata = s.r()\n",
    "# check in which direction ravel goes over the arrays to calculate xdata in the irght way\n",
    "'''\n",
    "rho, rho_arr_real, rho_arr_mean, Rbins, zbins, volbins = dens(s)\n",
    "ydata = np.ravel(rho)\n",
    "xdata = np.zeros(len(Rbins), len(zbins))\n",
    "for ii, Rii in enumerate(Rbins):\n",
    "    for jj, zjj in enumerate(zbins):\n",
    "        xdata[ii,jj] = np.sqrt(Rii ** 2 + zjj **2)\n",
    "            \n",
    "popt, pcov = opt.curve_fit(galpy_fitting, np.ravel(xdata), ydata, sigma = np.ravel(volbins), absolute_sigma = True)\n",
    "'''"
   ]
  },
  {
   "cell_type": "code",
   "execution_count": 51,
   "metadata": {},
   "outputs": [
    {
     "data": {
      "text/plain": [
       "      fun: nan\n",
       " hess_inv: <7x7 LbfgsInvHessProduct with dtype=float64>\n",
       "      jac: array([  3.25494381e-04,   6.91514410e-02,   7.64917569e-03,\n",
       "         1.40720268e+00,   2.19985398e+00,   4.46669778e-01,\n",
       "         4.11678257e-01])\n",
       "  message: b'ABNORMAL_TERMINATION_IN_LNSRCH'\n",
       "     nfev: 952\n",
       "      nit: 7\n",
       "   status: 2\n",
       "  success: False\n",
       "        x: array([ 0.50003248,  0.04926662,  0.25086387,  4.60426458,  3.08365262,\n",
       "        0.24737494,  0.30307212])"
      ]
     },
     "execution_count": 51,
     "metadata": {},
     "output_type": "execute_result"
    }
   ],
   "source": [
    "res"
   ]
  },
  {
   "cell_type": "code",
   "execution_count": 52,
   "metadata": {},
   "outputs": [],
   "source": [
    "a_mp, b_mp, n_mp = res.x[0], res.x[1], res.x[2]\n",
    "a_nfw , n_nfw = res.x[3]  , res.x[4]\n",
    "a_he, n_he = res.x[5],  res.x[6]"
   ]
  },
  {
   "cell_type": "code",
   "execution_count": 53,
   "metadata": {
    "collapsed": true
   },
   "outputs": [],
   "source": [
    "mp = MNpot(a = a_mp, b = b_mp, normalize = n_mp, ro = r0, vo = v0)\n",
    "nfwp = NFWpot(a = a_nfw, normalize = n_nfw, ro = r0, vo = v0)\n",
    "hep = HEpot(a = a_he, normalize = n_he, ro = r0, vo = v0)\n",
    "    \n",
    "pot = [mp,nfwp,hep]\n"
   ]
  },
  {
   "cell_type": "code",
   "execution_count": 54,
   "metadata": {
    "collapsed": true
   },
   "outputs": [],
   "source": [
    "dens_final = galpy_fitting(a_mp, b_mp, n_mp, a_nfw , n_nfw, a_he, n_he, R= R, z= z)"
   ]
  },
  {
   "cell_type": "code",
   "execution_count": 55,
   "metadata": {},
   "outputs": [
    {
     "name": "stdout",
     "output_type": "stream",
     "text": [
      "/home/extmilan/anaconda3/lib/python3.6/site-packages/galpy-1.3.dev0-py3.6-linux-x86_64.egg/galpy/potential_src/TwoPowerSphericalPotential.py:186: RuntimeWarning: divide by zero encountered in double_scalars\n",
      "  return (self.a/r)**self.alpha/(1.+r/self.a)**(self.beta-self.alpha)/4./m.pi/self.a**3.\n",
      "\n",
      "/home/extmilan/anaconda3/lib/python3.6/site-packages/numpy/core/function_base.py:128: RuntimeWarning: invalid value encountered in multiply\n",
      "  y = y * step\n",
      "\n",
      "/home/extmilan/anaconda3/lib/python3.6/site-packages/matplotlib/contour.py:1176: RuntimeWarning: invalid value encountered in greater\n",
      "  inside = (self.levels > self.zmin) & (self.levels < self.zmax)\n",
      "\n",
      "/home/extmilan/anaconda3/lib/python3.6/site-packages/matplotlib/contour.py:1176: RuntimeWarning: invalid value encountered in less\n",
      "  inside = (self.levels > self.zmin) & (self.levels < self.zmax)\n",
      "\n",
      "/home/extmilan/anaconda3/lib/python3.6/site-packages/matplotlib/contour.py:1180: UserWarning: No contour levels were found within the data range.\n",
      "  warnings.warn(\"No contour levels were found\"\n",
      "\n",
      "/home/extmilan/anaconda3/lib/python3.6/site-packages/matplotlib/contour.py:967: UserWarning: The following kwargs were not used by contour: 'aspect'\n",
      "  s)\n",
      "\n"
     ]
    },
    {
     "data": {
      "text/plain": [
       "<matplotlib.image.AxesImage at 0x2aacaf040550>"
      ]
     },
     "execution_count": 55,
     "metadata": {},
     "output_type": "execute_result"
    },
    {
     "data": {
      "image/png": "[encoded data removed]",
      "text/plain": [
       "<matplotlib.figure.Figure at 0x2aacacfebe48>"
      ]
     },
     "metadata": {},
     "output_type": "display_data"
    }
   ],
   "source": [
    "plotDensities(pot,nrs=101,nzs=101, log = True)"
   ]
  },
  {
   "cell_type": "code",
   "execution_count": 56,
   "metadata": {},
   "outputs": [
    {
     "data": {
      "text/plain": [
       "(21, 21)"
      ]
     },
     "execution_count": 56,
     "metadata": {},
     "output_type": "execute_result"
    }
   ],
   "source": [
    "rho.shape"
   ]
  },
  {
   "cell_type": "code",
   "execution_count": 57,
   "metadata": {},
   "outputs": [
    {
     "data": {
      "text/plain": [
       "array([[  1.00466257e-04,   1.31222077e-04,   1.75973572e-04,\n",
       "          2.43717147e-04,   3.51429091e-04,   5.33785631e-04,\n",
       "          8.69341296e-04,   1.56324099e-03,   3.27731358e-03,\n",
       "          9.08294063e-03,   5.55305913e-02,   5.06169840e-02,\n",
       "          8.72649787e-03,   3.18913398e-03,   1.53079961e-03,\n",
       "          8.54589528e-04,   5.26109133e-04,   3.47039353e-04,\n",
       "          2.41024948e-04,   1.74230614e-04,   1.30043862e-04],\n",
       "       [  1.00159127e-04,   1.30737263e-04,   1.75171940e-04,\n",
       "          2.42313881e-04,   3.48789627e-04,   5.28334371e-04,\n",
       "          8.56558994e-04,   1.52724744e-03,   3.14192538e-03,\n",
       "          8.21107236e-03,   3.24182355e-02,   3.08511464e-02,\n",
       "          7.91673572e-03,   3.06024855e-03,   1.49612079e-03,\n",
       "          8.42185286e-04,   5.20793573e-04,   3.44456666e-04,\n",
       "          2.39648272e-04,   1.73442561e-04,   1.29566473e-04],\n",
       "       [  9.92479192e-05,   1.29302057e-04,   1.72805920e-04,\n",
       "          2.38189419e-04,   3.41079143e-04,   5.12560583e-04,\n",
       "          8.20155925e-04,   1.42774395e-03,   2.79150733e-03,\n",
       "          6.35546163e-03,   1.51622552e-02,   1.48299385e-02,\n",
       "          6.17374096e-03,   2.72557988e-03,   1.40012421e-03,\n",
       "          8.06835209e-04,   5.05406535e-04,   3.36910228e-04,\n",
       "          2.35601313e-04,   1.71116354e-04,   1.28153133e-04],\n",
       "       [  9.77605703e-05,   1.26969534e-04,   1.68983080e-04,\n",
       "          2.31579680e-04,   3.28868687e-04,   4.88032849e-04,\n",
       "          7.65226322e-04,   1.28556176e-03,   2.34441954e-03,\n",
       "          4.57748687e-03,   8.07654463e-03,   7.97923092e-03,\n",
       "          4.47878390e-03,   2.29629949e-03,   1.26262466e-03,\n",
       "          7.53427582e-04,   4.81462624e-04,   3.24954001e-04,\n",
       "          2.29113751e-04,   1.67357013e-04,   1.25855778e-04],\n",
       "       [  9.57414102e-05,   1.23823052e-04,   1.63870009e-04,\n",
       "          2.22842947e-04,   3.13001070e-04,   4.56966515e-04,\n",
       "          6.98458356e-04,   1.12461654e-03,   1.90236618e-03,\n",
       "          3.24697056e-03,   4.80360067e-03,   4.76711277e-03,\n",
       "          3.19443326e-03,   1.86929138e-03,   1.10650650e-03,\n",
       "          6.88399844e-04,   4.51104747e-04,   3.09406492e-04,\n",
       "          2.20534653e-04,   1.62327267e-04,   1.22756008e-04],\n",
       "       [  9.32481237e-05,   1.19969427e-04,   1.57675814e-04,\n",
       "          2.12416146e-04,   2.94461825e-04,   4.21790410e-04,\n",
       "          6.26445015e-04,   9.64294088e-04,   1.51813534e-03,\n",
       "          2.32808428e-03,   3.09210235e-03,   3.07592568e-03,\n",
       "          2.29936022e-03,   1.49602215e-03,   9.50482073e-04,\n",
       "          6.18126112e-04,   4.16688412e-04,   2.91226390e-04,\n",
       "          2.10290175e-04,   1.56231531e-04,   1.18958446e-04],\n",
       "       [  9.03480332e-05,   1.15530836e-04,   1.50633262e-04,\n",
       "          2.00767614e-04,   2.74251026e-04,   3.84770737e-04,\n",
       "          5.54537591e-04,   8.16636385e-04,   1.20586135e-03,\n",
       "          1.70296940e-03,   2.10966280e-03,   2.10158855e-03,\n",
       "          1.68659320e-03,   1.19116694e-03,   8.06320828e-04,\n",
       "          5.47810516e-04,   3.80418841e-04,   2.71388607e-04,\n",
       "          1.98837773e-04,   1.49297588e-04,   1.14582852e-04],\n",
       "       [  8.71141137e-05,   1.10636468e-04,   1.42980410e-04,\n",
       "          1.88354623e-04,   2.53281529e-04,   3.47771563e-04,\n",
       "          4.86415967e-04,   6.87166612e-04,   9.60298750e-04,\n",
       "          1.27340235e-03,   1.50477673e-03,   1.50037622e-03,\n",
       "          1.26364801e-03,   9.50469315e-04,   6.79541681e-04,\n",
       "          4.81059782e-04,   3.44117620e-04,   2.50785382e-04,\n",
       "          1.86624882e-04,   1.41758683e-04,   1.09755972e-04],\n",
       "       [  8.36211312e-05,   1.05414855e-04,   1.34944934e-04,\n",
       "          1.75591100e-04,   2.32315596e-04,   3.12161499e-04,\n",
       "          4.24192737e-04,   5.77035713e-04,   7.69799833e-04,\n",
       "          9.72549383e-04,   1.11159916e-03,   1.10903256e-03,\n",
       "          9.66496363e-04,   7.63135895e-04,   5.71414804e-04,\n",
       "          4.19968982e-04,   3.09129356e-04,   2.30164133e-04,\n",
       "          1.74057383e-04,   1.33838225e-04,   1.04604048e-04],\n",
       "       [  7.99422175e-05,   9.99875332e-05,   1.26732499e-04,\n",
       "          1.62827621e-04,   2.11939095e-04,   2.78830788e-04,\n",
       "          3.68770750e-04,   4.85015337e-04,   6.22406084e-04,\n",
       "          7.57299161e-04,   8.44766937e-04,   8.43187002e-04,\n",
       "          7.53402234e-04,   6.17812640e-04,   4.80861376e-04,\n",
       "          3.65456561e-04,   2.76335155e-04,   2.10101574e-04,\n",
       "          1.61479889e-04,   1.25738369e-04,   9.92465971e-05],\n",
       "       [  7.61460935e-05,   9.44643852e-05,   1.18519511e-04,\n",
       "          1.50342907e-04,   1.92564686e-04,   2.48269858e-04,\n",
       "          3.20242124e-04,   4.08862668e-04,   5.07970714e-04,\n",
       "          6.00025674e-04,   6.57202396e-04,   6.56186123e-04,\n",
       "          5.97433863e-04,   5.04747984e-04,   4.05774781e-04,\n",
       "          3.17645351e-04,   2.46226482e-04,   1.91005989e-04,\n",
       "          1.49167202e-04,   1.17632861e-04,   9.37918344e-05],\n",
       "       [  7.22950386e-05,   8.89407231e-05,   1.10449928e-04,\n",
       "          1.38344392e-04,   1.74452920e-04,   2.20668469e-04,\n",
       "          2.78222160e-04,   3.46101163e-04,   4.18526484e-04,\n",
       "          4.82831604e-04,   5.21450992e-04,   5.20772960e-04,\n",
       "          4.81057694e-04,   4.16225246e-04,   3.43787546e-04,\n",
       "          2.76185090e-04,   2.19000040e-04,   1.73137116e-04,\n",
       "          1.37324604e-04,   1.09663817e-04,   8.83337782e-05],\n",
       "       [  6.84436073e-05,   8.34959512e-05,   1.02635290e-04,\n",
       "          1.26974815e-04,   1.57741415e-04,   1.96009862e-04,\n",
       "          2.42088577e-04,   2.94402995e-04,   3.48030672e-04,\n",
       "          3.93916816e-04,   4.20746898e-04,   4.20280352e-04,\n",
       "          3.92671631e-04,   3.46359332e-04,   2.92653758e-04,\n",
       "          2.40485680e-04,   1.94648736e-04,   1.56634126e-04,\n",
       "          1.26094078e-04,   1.01941671e-04,   8.29509040e-05],\n",
       "       [  6.46380204e-05,   7.81935167e-05,   9.51570486e-05,\n",
       "          1.16322042e-04,   1.42475112e-04,   1.74148046e-04,\n",
       "          2.11135109e-04,   2.51740248e-04,   2.91965747e-04,\n",
       "          3.25346732e-04,   3.44447974e-04,   3.44118348e-04,\n",
       "          3.24452929e-04,   2.90732295e-04,   2.50404986e-04,\n",
       "          2.09868351e-04,   1.73036899e-04,   1.41544887e-04,\n",
       "          1.15563739e-04,   9.45473625e-05,   7.77060597e-05],\n",
       "       [  6.09161159e-05,   7.30818063e-05,   8.80702399e-05,\n",
       "          1.06429928e-04,   1.28633513e-04,   1.54865451e-04,\n",
       "          1.84660989e-04,   2.16416783e-04,   2.46967242e-04,\n",
       "          2.71679622e-04,   2.85572977e-04,   2.85334695e-04,\n",
       "          2.71025178e-04,   2.46043238e-04,   2.15387567e-04,\n",
       "          1.83654657e-04,   1.53956745e-04,   1.27852464e-04,\n",
       "          1.05778361e-04,   8.75358790e-05,   7.26473104e-05],\n",
       "       [  5.73077217e-05,   6.81956523e-05,   8.14077759e-05,\n",
       "          9.73087861e-05,   1.16153103e-04,   1.37912847e-04,\n",
       "          1.62017457e-04,   1.87045788e-04,   2.10524408e-04,\n",
       "          2.29111988e-04,   2.39410346e-04,   2.39234608e-04,\n",
       "          2.28624237e-04,   2.09822539e-04,   1.86244809e-04,\n",
       "          1.61213416e-04,   1.37167734e-04,   1.15497048e-04,\n",
       "          9.67495620e-05,   8.09404111e-05,   6.78093899e-05],\n",
       "       [  5.38353197e-05,   6.35581632e-05,   7.51847877e-05,\n",
       "          8.89446277e-05,   1.04944631e-04,   1.23035193e-04,\n",
       "          1.42627705e-04,   1.62507333e-04,   1.80753716e-04,\n",
       "          1.94937617e-04,   2.02700658e-04,   2.02568734e-04,\n",
       "          1.94568280e-04,   1.80213685e-04,   1.61878125e-04,\n",
       "          1.41981408e-04,   1.22422229e-04,   1.04392939e-04,\n",
       "          8.84648360e-05,   7.47765856e-05,   6.32154769e-05],\n",
       "       [  5.05148814e-05,   5.91826553e-05,   6.94026719e-05,\n",
       "          8.13068372e-05,   9.49057391e-05,   1.09987187e-04,\n",
       "          1.25991549e-04,   1.41902524e-04,   1.56232206e-04,\n",
       "          1.67198893e-04,   1.73139470e-04,   1.73038868e-04,\n",
       "          1.66915189e-04,   1.55811730e-04,   1.41403787e-04,\n",
       "          1.25468843e-04,   1.09481074e-04,   9.44410076e-05,\n",
       "          8.08950895e-05,   6.90464212e-05,   5.88790782e-05],\n",
       "       [  4.73567792e-05,   5.50745280e-05,   6.40526440e-05,\n",
       "          7.43542520e-05,   8.59297329e-05,   9.85417374e-05,\n",
       "          1.11682028e-04,   1.24511430e-04,   1.35876300e-04,\n",
       "          1.44457890e-04,   1.49065787e-04,   1.48987981e-04,\n",
       "          1.44237124e-04,   1.35545297e-04,   1.24112703e-04,\n",
       "          1.11256670e-04,   9.81221851e-05,   8.55374052e-05,\n",
       "          7.40006261e-05,   6.37418142e-05,   5.48058625e-05],\n",
       "       [  4.43667014e-05,   5.12329820e-05,   5.91187217e-05,\n",
       "          6.80397817e-05,   7.79113807e-05,   8.84937875e-05,\n",
       "          9.93382601e-05,   1.09757211e-04,   1.18853951e-04,\n",
       "          1.25643397e-04,   1.29261589e-04,   1.29200647e-04,\n",
       "          1.25469572e-04,   1.18590721e-04,   1.09435829e-04,\n",
       "          9.89900103e-05,   8.81445463e-05,   7.75793464e-05,\n",
       "          6.77357131e-05,   5.88474736e-05,   5.09953471e-05],\n",
       "       [  4.15465206e-05,   4.76525302e-05,   5.45801391e-05,\n",
       "          6.23137883e-05,   7.07504997e-05,   7.96612738e-05,\n",
       "          8.86570129e-05,   9.71767108e-05,   1.04520863e-04,\n",
       "          1.09946936e-04,   1.12819763e-04,   1.12771478e-04,\n",
       "          1.09808595e-04,   1.04309550e-04,   9.69156600e-05,\n",
       "          8.83701950e-05,   7.93693255e-05,   7.04687195e-05,\n",
       "          6.20519355e-05,   5.43433035e-05,   4.74423821e-05]])"
      ]
     },
     "execution_count": 57,
     "metadata": {},
     "output_type": "execute_result"
    }
   ],
   "source": [
    "dens_final"
   ]
  },
  {
   "cell_type": "code",
   "execution_count": 58,
   "metadata": {},
   "outputs": [
    {
     "data": {
      "text/plain": [
       "(21, 21)"
      ]
     },
     "execution_count": 58,
     "metadata": {},
     "output_type": "execute_result"
    }
   ],
   "source": [
    "dens_final.shape"
   ]
  },
  {
   "cell_type": "code",
   "execution_count": 59,
   "metadata": {},
   "outputs": [
    {
     "name": "stdout",
     "output_type": "stream",
     "text": [
      "[[  5.10107175e-05   8.49421285e-05   1.22216815e-04   1.39183240e-04\n",
      "    2.09740184e-04   3.74721258e-04   5.80890127e-04   1.06565951e-03\n",
      "    2.33183363e-03   9.58760935e-03   2.04647011e-01   8.93082329e-03\n",
      "    2.23992334e-03   1.12229173e-03   5.62908372e-04   3.26559247e-04\n",
      "    2.47224591e-04   1.51475690e-04   1.13336063e-04   9.81605175e-05\n",
      "    4.43970451e-05]\n",
      " [  6.79049825e-05   7.89221820e-05   1.34245895e-04   1.82531521e-04\n",
      "    2.29327783e-04   3.48180468e-04   6.21785487e-04   1.07513910e-03\n",
      "    2.17858041e-03   6.38821305e-03   3.79623321e-02   6.01863746e-03\n",
      "    2.03863825e-03   1.00956466e-03   5.43132087e-04   3.62543473e-04\n",
      "    2.35122213e-04   1.77383873e-04   1.32027896e-04   9.01570970e-05\n",
      "    8.39261775e-05]\n",
      " [  8.04663604e-05   8.84841312e-05   1.33151245e-04   1.88488483e-04\n",
      "    2.31097548e-04   3.46774465e-04   5.55349936e-04   9.77777255e-04\n",
      "    1.83705482e-03   4.45304683e-03   1.08545394e-02   4.16456459e-03\n",
      "    1.78161810e-03   9.12060653e-04   5.04716501e-04   3.31309253e-04\n",
      "    2.09645528e-04   1.60602740e-04   1.20134470e-04   8.07011447e-05\n",
      "    6.60321921e-05]\n",
      " [  6.42570992e-05   9.28155019e-05   1.23185011e-04   1.62140746e-04\n",
      "    2.16448047e-04   3.31663705e-04   5.01134740e-04   8.66495828e-04\n",
      "    1.51447152e-03   3.03888032e-03   6.45036537e-03   3.00348055e-03\n",
      "    1.49532529e-03   8.47248792e-04   4.76510137e-04   3.11315027e-04\n",
      "    2.20057876e-04   1.61703145e-04   1.23273592e-04   8.74191221e-05\n",
      "    6.35502661e-05]\n",
      " [  6.59930532e-05   1.06950961e-04   1.19989416e-04   1.60103926e-04\n",
      "    2.09250066e-04   3.22065018e-04   4.59682227e-04   7.27492449e-04\n",
      "    1.28733264e-03   2.37619100e-03   4.51752731e-03   2.29804982e-03\n",
      "    1.24640718e-03   7.52833309e-04   4.49892996e-04   2.93056299e-04\n",
      "    2.20021259e-04   1.63909078e-04   1.22583266e-04   9.63290147e-05\n",
      "    5.91830724e-05]\n",
      " [  5.76500191e-05   9.24579851e-05   1.16518514e-04   1.67755093e-04\n",
      "    2.02572623e-04   2.99626490e-04   4.40696616e-04   6.82451966e-04\n",
      "    1.10921835e-03   1.89415419e-03   3.35360449e-03   1.85497683e-03\n",
      "    1.08579013e-03   6.47012141e-04   4.18806462e-04   3.01548322e-04\n",
      "    2.01426738e-04   1.42712522e-04   1.28159023e-04   8.79630462e-05\n",
      "    4.63654917e-05]\n",
      " [  3.89349445e-05   9.98305183e-05   1.31678437e-04   1.51449061e-04\n",
      "    2.07669956e-04   2.77648363e-04   4.20802573e-04   6.20648017e-04\n",
      "    9.46348348e-04   1.54618233e-03   2.76968722e-03   1.48905553e-03\n",
      "    9.10969635e-04   6.07705911e-04   3.82178786e-04   2.80245404e-04\n",
      "    2.06401578e-04   1.53720601e-04   1.24959310e-04   9.57321956e-05\n",
      "    4.04419808e-05]\n",
      " [  2.79295624e-05   8.87161032e-05   1.19729092e-04   1.46847286e-04\n",
      "    1.99264102e-04   2.67386992e-04   3.80720821e-04   5.57235524e-04\n",
      "    7.89452119e-04   1.28890503e-03   2.29162239e-03   1.21727189e-03\n",
      "    7.79220864e-04   5.38254804e-04   3.54855324e-04   2.59893927e-04\n",
      "    1.83962270e-04   1.42652510e-04   1.05061779e-04   9.29690784e-05\n",
      "    2.53804486e-05]\n",
      " [  1.13115003e-05   9.31195046e-05   1.09624455e-04   1.34326919e-04\n",
      "    1.89714225e-04   2.62254111e-04   3.48644831e-04   4.84435378e-04\n",
      "    6.94655479e-04   1.07987658e-03   1.87772684e-03   1.04664506e-03\n",
      "    6.75297247e-04   4.84428471e-04   3.45996439e-04   2.43186820e-04\n",
      "    1.75786844e-04   1.40680264e-04   1.04882643e-04   7.91119645e-05\n",
      "    8.43881310e-06]\n",
      " [  1.74758145e-07   7.99665814e-05   1.07297934e-04   1.37099214e-04\n",
      "    1.82580190e-04   2.32944912e-04   3.27767986e-04   4.36126724e-04\n",
      "    6.04296453e-04   9.34335038e-04   1.57619780e-03   9.00796343e-04\n",
      "    6.23219888e-04   4.43667379e-04   3.24303685e-04   2.43674287e-04\n",
      "    1.73351217e-04   1.37388235e-04   1.09476079e-04   7.47689632e-05\n",
      "    0.00000000e+00]\n",
      " [  0.00000000e+00   5.87279849e-05   1.08258941e-04   1.35364695e-04\n",
      "    1.62905118e-04   2.14669099e-04   3.00697186e-04   3.94597954e-04\n",
      "    5.34083571e-04   8.08985222e-04   1.35508495e-03   7.82860940e-04\n",
      "    5.50490290e-04   3.98219227e-04   2.84674172e-04   2.08227758e-04\n",
      "    1.64375412e-04   1.31337762e-04   1.05182764e-04   5.06661625e-05\n",
      "    0.00000000e+00]\n",
      " [  0.00000000e+00   2.77562656e-05   1.03958350e-04   1.28349410e-04\n",
      "    1.52660650e-04   2.06309126e-04   2.73820815e-04   3.61321395e-04\n",
      "    4.80670488e-04   7.18487139e-04   1.24989408e-03   6.85663669e-04\n",
      "    4.79226940e-04   3.65125350e-04   2.61556918e-04   2.03146473e-04\n",
      "    1.61467661e-04   1.25449115e-04   9.62319684e-05   2.21656430e-05\n",
      "    0.00000000e+00]\n",
      " [  0.00000000e+00   3.90557180e-06   8.78979638e-05   1.25330316e-04\n",
      "    1.52760886e-04   1.98703991e-04   2.42381557e-04   3.33317639e-04\n",
      "    4.23814941e-04   6.21877343e-04   1.17244560e-03   6.00048152e-04\n",
      "    4.32192876e-04   3.31826341e-04   2.47761747e-04   1.88657830e-04\n",
      "    1.50111574e-04   1.16337469e-04   8.68917620e-05   1.72663321e-06\n",
      "    0.00000000e+00]\n",
      " [  0.00000000e+00   0.00000000e+00   5.18510623e-05   1.13407690e-04\n",
      "    1.34558168e-04   1.81760252e-04   2.44118507e-04   2.98469447e-04\n",
      "    3.80490075e-04   5.64077752e-04   1.04743226e-03   5.24681055e-04\n",
      "    3.90510865e-04   2.92747384e-04   2.25519220e-04   1.82227784e-04\n",
      "    1.36811736e-04   1.13918502e-04   5.02374049e-05   0.00000000e+00\n",
      "    0.00000000e+00]\n",
      " [  0.00000000e+00   0.00000000e+00   1.43384517e-05   1.06983765e-04\n",
      "    1.30052544e-04   1.70023079e-04   2.13631813e-04   2.67383959e-04\n",
      "    3.53015795e-04   5.07969725e-04   9.07270263e-04   4.77247714e-04\n",
      "    3.56441669e-04   2.70510083e-04   2.04062913e-04   1.65851907e-04\n",
      "    1.36846325e-04   1.02647092e-04   1.18281567e-05   0.00000000e+00\n",
      "    0.00000000e+00]\n",
      " [  0.00000000e+00   0.00000000e+00   0.00000000e+00   6.64585950e-05\n",
      "    1.24360851e-04   1.54077919e-04   1.96596097e-04   2.47524421e-04\n",
      "    3.00110862e-04   4.73147933e-04   8.03828552e-04   4.37411707e-04\n",
      "    3.20414949e-04   2.47841544e-04   1.98409483e-04   1.60828525e-04\n",
      "    1.24322729e-04   6.24573862e-05   0.00000000e+00   0.00000000e+00\n",
      "    0.00000000e+00]\n",
      " [  0.00000000e+00   0.00000000e+00   0.00000000e+00   9.81425217e-06\n",
      "    1.14821338e-04   1.48270682e-04   1.82434407e-04   2.35965467e-04\n",
      "    2.78749199e-04   4.17952398e-04   6.72644411e-04   4.00558321e-04\n",
      "    2.83855254e-04   2.21205639e-04   1.76123652e-04   1.46095873e-04\n",
      "    1.17582783e-04   8.23945834e-06   0.00000000e+00   0.00000000e+00\n",
      "    0.00000000e+00]\n",
      " [  0.00000000e+00   0.00000000e+00   0.00000000e+00   0.00000000e+00\n",
      "    4.09095519e-05   1.40954349e-04   1.69447491e-04   2.06173114e-04\n",
      "    2.48143310e-04   3.77396612e-04   6.15241950e-04   3.77551779e-04\n",
      "    2.58234280e-04   2.10137893e-04   1.78341902e-04   1.33531758e-04\n",
      "    3.67126145e-05   0.00000000e+00   0.00000000e+00   0.00000000e+00\n",
      "    0.00000000e+00]\n",
      " [  0.00000000e+00   0.00000000e+00   0.00000000e+00   0.00000000e+00\n",
      "    0.00000000e+00   7.06306023e-05   1.62286315e-04   1.90632937e-04\n",
      "    2.30825591e-04   3.56200290e-04   5.85870985e-04   3.56692473e-04\n",
      "    2.41236673e-04   1.97101547e-04   1.59852983e-04   6.32667516e-05\n",
      "    0.00000000e+00   0.00000000e+00   0.00000000e+00   0.00000000e+00\n",
      "    0.00000000e+00]\n",
      " [  0.00000000e+00   0.00000000e+00   0.00000000e+00   0.00000000e+00\n",
      "    0.00000000e+00   0.00000000e+00   6.44944409e-05   1.76445522e-04\n",
      "    2.12051527e-04   3.25991530e-04   5.37325617e-04   3.12057642e-04\n",
      "    2.30613205e-04   1.70215773e-04   6.26283329e-05   0.00000000e+00\n",
      "    0.00000000e+00   0.00000000e+00   0.00000000e+00   0.00000000e+00\n",
      "    0.00000000e+00]\n",
      " [  0.00000000e+00   0.00000000e+00   0.00000000e+00   0.00000000e+00\n",
      "    0.00000000e+00   0.00000000e+00   0.00000000e+00   2.94969152e-05\n",
      "    1.29392173e-04   2.65996579e-04   5.00747372e-04   2.67960239e-04\n",
      "    1.25698864e-04   2.52947164e-05   0.00000000e+00   0.00000000e+00\n",
      "    0.00000000e+00   0.00000000e+00   0.00000000e+00   0.00000000e+00\n",
      "    0.00000000e+00]]\n"
     ]
    }
   ],
   "source": [
    "print(rho)"
   ]
  },
  {
   "cell_type": "code",
   "execution_count": 60,
   "metadata": {},
   "outputs": [
    {
     "data": {
      "text/plain": [
       "(21, 21)"
      ]
     },
     "execution_count": 60,
     "metadata": {},
     "output_type": "execute_result"
    }
   ],
   "source": [
    "rho.shape"
   ]
  },
  {
   "cell_type": "code",
   "execution_count": 61,
   "metadata": {},
   "outputs": [
    {
     "data": {
      "text/plain": [
       "[<matplotlib.lines.Line2D at 0x2aacaf12c1d0>]"
      ]
     },
     "execution_count": 61,
     "metadata": {},
     "output_type": "execute_result"
    },
    {
     "data": {
      "image/png": "[encoded data removed]",
      "text/plain": [
       "<matplotlib.figure.Figure at 0x2aacaf0c0a90>"
      ]
     },
     "metadata": {},
     "output_type": "display_data"
    }
   ],
   "source": [
    "plt.plot(dens_final[0, :], dens_final[1, :], '.')"
   ]
  },
  {
   "cell_type": "code",
   "execution_count": 62,
   "metadata": {},
   "outputs": [
    {
     "name": "stdout",
     "output_type": "stream",
     "text": [
      "/home/extmilan/anaconda3/lib/python3.6/site-packages/matplotlib/contour.py:1537: UserWarning: Log scale: values of z <= 0 have been masked\n",
      "  warnings.warn('Log scale: values of z <= 0 have been masked')\n",
      "\n"
     ]
    },
    {
     "data": {
      "image/png": "[encoded data removed]",
      "text/plain": [
       "<matplotlib.figure.Figure at 0x2aacaf0db7b8>"
      ]
     },
     "metadata": {},
     "output_type": "display_data"
    },
    {
     "data": {
      "text/plain": [
       "<matplotlib.contour.QuadContourSet at 0x2aacaf1d9cc0>"
      ]
     },
     "execution_count": 62,
     "metadata": {},
     "output_type": "execute_result"
    },
    {
     "data": {
      "image/png": "[encoded data removed]",
      "text/plain": [
       "<matplotlib.figure.Figure at 0x2aacaf109f28>"
      ]
     },
     "metadata": {},
     "output_type": "display_data"
    }
   ],
   "source": [
    "from matplotlib.colors import LogNorm\n",
    "\n",
    "X, Y = np.meshgrid(R,z)\n",
    "plt.contourf(rho, norm=LogNorm(vmin=1e-6, vmax=1))\n",
    "plt.show()\n",
    "plt.contourf(dens_final, norm=LogNorm(vmin=1e-6, vmax=1))"
   ]
  },
  {
   "cell_type": "code",
   "execution_count": 63,
   "metadata": {},
   "outputs": [
    {
     "name": "stdout",
     "output_type": "stream",
     "text": [
      "[[  5.10107175e-05   8.49421285e-05   1.22216815e-04   1.39183240e-04\n",
      "    2.09740184e-04   3.74721258e-04   5.80890127e-04   1.06565951e-03\n",
      "    2.33183363e-03   9.58760935e-03   2.04647011e-01   8.93082329e-03\n",
      "    2.23992334e-03   1.12229173e-03   5.62908372e-04   3.26559247e-04\n",
      "    2.47224591e-04   1.51475690e-04   1.13336063e-04   9.81605175e-05\n",
      "    4.43970451e-05]\n",
      " [  6.79049825e-05   7.89221820e-05   1.34245895e-04   1.82531521e-04\n",
      "    2.29327783e-04   3.48180468e-04   6.21785487e-04   1.07513910e-03\n",
      "    2.17858041e-03   6.38821305e-03   3.79623321e-02   6.01863746e-03\n",
      "    2.03863825e-03   1.00956466e-03   5.43132087e-04   3.62543473e-04\n",
      "    2.35122213e-04   1.77383873e-04   1.32027896e-04   9.01570970e-05\n",
      "    8.39261775e-05]\n",
      " [  8.04663604e-05   8.84841312e-05   1.33151245e-04   1.88488483e-04\n",
      "    2.31097548e-04   3.46774465e-04   5.55349936e-04   9.77777255e-04\n",
      "    1.83705482e-03   4.45304683e-03   1.08545394e-02   4.16456459e-03\n",
      "    1.78161810e-03   9.12060653e-04   5.04716501e-04   3.31309253e-04\n",
      "    2.09645528e-04   1.60602740e-04   1.20134470e-04   8.07011447e-05\n",
      "    6.60321921e-05]\n",
      " [  6.42570992e-05   9.28155019e-05   1.23185011e-04   1.62140746e-04\n",
      "    2.16448047e-04   3.31663705e-04   5.01134740e-04   8.66495828e-04\n",
      "    1.51447152e-03   3.03888032e-03   6.45036537e-03   3.00348055e-03\n",
      "    1.49532529e-03   8.47248792e-04   4.76510137e-04   3.11315027e-04\n",
      "    2.20057876e-04   1.61703145e-04   1.23273592e-04   8.74191221e-05\n",
      "    6.35502661e-05]\n",
      " [  6.59930532e-05   1.06950961e-04   1.19989416e-04   1.60103926e-04\n",
      "    2.09250066e-04   3.22065018e-04   4.59682227e-04   7.27492449e-04\n",
      "    1.28733264e-03   2.37619100e-03   4.51752731e-03   2.29804982e-03\n",
      "    1.24640718e-03   7.52833309e-04   4.49892996e-04   2.93056299e-04\n",
      "    2.20021259e-04   1.63909078e-04   1.22583266e-04   9.63290147e-05\n",
      "    5.91830724e-05]\n",
      " [  5.76500191e-05   9.24579851e-05   1.16518514e-04   1.67755093e-04\n",
      "    2.02572623e-04   2.99626490e-04   4.40696616e-04   6.82451966e-04\n",
      "    1.10921835e-03   1.89415419e-03   3.35360449e-03   1.85497683e-03\n",
      "    1.08579013e-03   6.47012141e-04   4.18806462e-04   3.01548322e-04\n",
      "    2.01426738e-04   1.42712522e-04   1.28159023e-04   8.79630462e-05\n",
      "    4.63654917e-05]\n",
      " [  3.89349445e-05   9.98305183e-05   1.31678437e-04   1.51449061e-04\n",
      "    2.07669956e-04   2.77648363e-04   4.20802573e-04   6.20648017e-04\n",
      "    9.46348348e-04   1.54618233e-03   2.76968722e-03   1.48905553e-03\n",
      "    9.10969635e-04   6.07705911e-04   3.82178786e-04   2.80245404e-04\n",
      "    2.06401578e-04   1.53720601e-04   1.24959310e-04   9.57321956e-05\n",
      "    4.04419808e-05]\n",
      " [  2.79295624e-05   8.87161032e-05   1.19729092e-04   1.46847286e-04\n",
      "    1.99264102e-04   2.67386992e-04   3.80720821e-04   5.57235524e-04\n",
      "    7.89452119e-04   1.28890503e-03   2.29162239e-03   1.21727189e-03\n",
      "    7.79220864e-04   5.38254804e-04   3.54855324e-04   2.59893927e-04\n",
      "    1.83962270e-04   1.42652510e-04   1.05061779e-04   9.29690784e-05\n",
      "    2.53804486e-05]\n",
      " [  1.13115003e-05   9.31195046e-05   1.09624455e-04   1.34326919e-04\n",
      "    1.89714225e-04   2.62254111e-04   3.48644831e-04   4.84435378e-04\n",
      "    6.94655479e-04   1.07987658e-03   1.87772684e-03   1.04664506e-03\n",
      "    6.75297247e-04   4.84428471e-04   3.45996439e-04   2.43186820e-04\n",
      "    1.75786844e-04   1.40680264e-04   1.04882643e-04   7.91119645e-05\n",
      "    8.43881310e-06]\n",
      " [  1.74758145e-07   7.99665814e-05   1.07297934e-04   1.37099214e-04\n",
      "    1.82580190e-04   2.32944912e-04   3.27767986e-04   4.36126724e-04\n",
      "    6.04296453e-04   9.34335038e-04   1.57619780e-03   9.00796343e-04\n",
      "    6.23219888e-04   4.43667379e-04   3.24303685e-04   2.43674287e-04\n",
      "    1.73351217e-04   1.37388235e-04   1.09476079e-04   7.47689632e-05\n",
      "    0.00000000e+00]\n",
      " [  0.00000000e+00   5.87279849e-05   1.08258941e-04   1.35364695e-04\n",
      "    1.62905118e-04   2.14669099e-04   3.00697186e-04   3.94597954e-04\n",
      "    5.34083571e-04   8.08985222e-04   1.35508495e-03   7.82860940e-04\n",
      "    5.50490290e-04   3.98219227e-04   2.84674172e-04   2.08227758e-04\n",
      "    1.64375412e-04   1.31337762e-04   1.05182764e-04   5.06661625e-05\n",
      "    0.00000000e+00]\n",
      " [  0.00000000e+00   2.77562656e-05   1.03958350e-04   1.28349410e-04\n",
      "    1.52660650e-04   2.06309126e-04   2.73820815e-04   3.61321395e-04\n",
      "    4.80670488e-04   7.18487139e-04   1.24989408e-03   6.85663669e-04\n",
      "    4.79226940e-04   3.65125350e-04   2.61556918e-04   2.03146473e-04\n",
      "    1.61467661e-04   1.25449115e-04   9.62319684e-05   2.21656430e-05\n",
      "    0.00000000e+00]\n",
      " [  0.00000000e+00   3.90557180e-06   8.78979638e-05   1.25330316e-04\n",
      "    1.52760886e-04   1.98703991e-04   2.42381557e-04   3.33317639e-04\n",
      "    4.23814941e-04   6.21877343e-04   1.17244560e-03   6.00048152e-04\n",
      "    4.32192876e-04   3.31826341e-04   2.47761747e-04   1.88657830e-04\n",
      "    1.50111574e-04   1.16337469e-04   8.68917620e-05   1.72663321e-06\n",
      "    0.00000000e+00]\n",
      " [  0.00000000e+00   0.00000000e+00   5.18510623e-05   1.13407690e-04\n",
      "    1.34558168e-04   1.81760252e-04   2.44118507e-04   2.98469447e-04\n",
      "    3.80490075e-04   5.64077752e-04   1.04743226e-03   5.24681055e-04\n",
      "    3.90510865e-04   2.92747384e-04   2.25519220e-04   1.82227784e-04\n",
      "    1.36811736e-04   1.13918502e-04   5.02374049e-05   0.00000000e+00\n",
      "    0.00000000e+00]\n",
      " [  0.00000000e+00   0.00000000e+00   1.43384517e-05   1.06983765e-04\n",
      "    1.30052544e-04   1.70023079e-04   2.13631813e-04   2.67383959e-04\n",
      "    3.53015795e-04   5.07969725e-04   9.07270263e-04   4.77247714e-04\n",
      "    3.56441669e-04   2.70510083e-04   2.04062913e-04   1.65851907e-04\n",
      "    1.36846325e-04   1.02647092e-04   1.18281567e-05   0.00000000e+00\n",
      "    0.00000000e+00]\n",
      " [  0.00000000e+00   0.00000000e+00   0.00000000e+00   6.64585950e-05\n",
      "    1.24360851e-04   1.54077919e-04   1.96596097e-04   2.47524421e-04\n",
      "    3.00110862e-04   4.73147933e-04   8.03828552e-04   4.37411707e-04\n",
      "    3.20414949e-04   2.47841544e-04   1.98409483e-04   1.60828525e-04\n",
      "    1.24322729e-04   6.24573862e-05   0.00000000e+00   0.00000000e+00\n",
      "    0.00000000e+00]\n",
      " [  0.00000000e+00   0.00000000e+00   0.00000000e+00   9.81425217e-06\n",
      "    1.14821338e-04   1.48270682e-04   1.82434407e-04   2.35965467e-04\n",
      "    2.78749199e-04   4.17952398e-04   6.72644411e-04   4.00558321e-04\n",
      "    2.83855254e-04   2.21205639e-04   1.76123652e-04   1.46095873e-04\n",
      "    1.17582783e-04   8.23945834e-06   0.00000000e+00   0.00000000e+00\n",
      "    0.00000000e+00]\n",
      " [  0.00000000e+00   0.00000000e+00   0.00000000e+00   0.00000000e+00\n",
      "    4.09095519e-05   1.40954349e-04   1.69447491e-04   2.06173114e-04\n",
      "    2.48143310e-04   3.77396612e-04   6.15241950e-04   3.77551779e-04\n",
      "    2.58234280e-04   2.10137893e-04   1.78341902e-04   1.33531758e-04\n",
      "    3.67126145e-05   0.00000000e+00   0.00000000e+00   0.00000000e+00\n",
      "    0.00000000e+00]\n",
      " [  0.00000000e+00   0.00000000e+00   0.00000000e+00   0.00000000e+00\n",
      "    0.00000000e+00   7.06306023e-05   1.62286315e-04   1.90632937e-04\n",
      "    2.30825591e-04   3.56200290e-04   5.85870985e-04   3.56692473e-04\n",
      "    2.41236673e-04   1.97101547e-04   1.59852983e-04   6.32667516e-05\n",
      "    0.00000000e+00   0.00000000e+00   0.00000000e+00   0.00000000e+00\n",
      "    0.00000000e+00]\n",
      " [  0.00000000e+00   0.00000000e+00   0.00000000e+00   0.00000000e+00\n",
      "    0.00000000e+00   0.00000000e+00   6.44944409e-05   1.76445522e-04\n",
      "    2.12051527e-04   3.25991530e-04   5.37325617e-04   3.12057642e-04\n",
      "    2.30613205e-04   1.70215773e-04   6.26283329e-05   0.00000000e+00\n",
      "    0.00000000e+00   0.00000000e+00   0.00000000e+00   0.00000000e+00\n",
      "    0.00000000e+00]\n",
      " [  0.00000000e+00   0.00000000e+00   0.00000000e+00   0.00000000e+00\n",
      "    0.00000000e+00   0.00000000e+00   0.00000000e+00   2.94969152e-05\n",
      "    1.29392173e-04   2.65996579e-04   5.00747372e-04   2.67960239e-04\n",
      "    1.25698864e-04   2.52947164e-05   0.00000000e+00   0.00000000e+00\n",
      "    0.00000000e+00   0.00000000e+00   0.00000000e+00   0.00000000e+00\n",
      "    0.00000000e+00]]\n"
     ]
    }
   ],
   "source": [
    "print(rho)"
   ]
  },
  {
   "cell_type": "code",
   "execution_count": 64,
   "metadata": {},
   "outputs": [
    {
     "data": {
      "image/png": "[encoded data removed]",
      "text/plain": [
       "<matplotlib.figure.Figure at 0x2aacaf1c7828>"
      ]
     },
     "metadata": {},
     "output_type": "display_data"
    },
    {
     "data": {
      "text/plain": [
       "<matplotlib.image.AxesImage at 0x2aacaf29c5f8>"
      ]
     },
     "execution_count": 64,
     "metadata": {},
     "output_type": "execute_result"
    },
    {
     "data": {
      "image/png": "[encoded data removed]",
      "text/plain": [
       "<matplotlib.figure.Figure at 0x2aacaf1634e0>"
      ]
     },
     "metadata": {},
     "output_type": "display_data"
    }
   ],
   "source": [
    "plt.imshow(rho, norm=LogNorm(vmin=1e-6, vmax=1))\n",
    "plt.show()\n",
    "plt.imshow(dens_final, norm=LogNorm(vmin=1e-6, vmax=1))"
   ]
  },
  {
   "cell_type": "code",
   "execution_count": 65,
   "metadata": {},
   "outputs": [
    {
     "data": {
      "text/plain": [
       "0.20464701141218791"
      ]
     },
     "execution_count": 65,
     "metadata": {},
     "output_type": "execute_result"
    }
   ],
   "source": [
    "np.max(rho)"
   ]
  },
  {
   "cell_type": "code",
   "execution_count": null,
   "metadata": {
    "collapsed": true
   },
   "outputs": [],
   "source": []
  }
 ],
 "metadata": {
  "kernelspec": {
   "display_name": "Python 3",
   "language": "python",
   "name": "python3"
  },
  "language_info": {
   "codemirror_mode": {
    "name": "ipython",
    "version": 3
   },
   "file_extension": ".py",
   "mimetype": "text/x-python",
   "name": "python",
   "nbconvert_exporter": "python",
   "pygments_lexer": "ipython3",
   "version": "3.6.3"
  }
 },
 "nbformat": 4,
 "nbformat_minor": 2
}
