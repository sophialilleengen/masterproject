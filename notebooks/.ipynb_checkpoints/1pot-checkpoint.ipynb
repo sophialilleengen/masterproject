{
 "cells": [
  {
   "cell_type": "code",
   "execution_count": 1,
   "metadata": {
    "collapsed": true
   },
   "outputs": [],
   "source": [
    "machine = 'mac'\n",
    "machine = 'magny'"
   ]
  },
  {
   "cell_type": "code",
   "execution_count": 2,
   "metadata": {},
   "outputs": [
    {
     "name": "stdout",
     "output_type": "stream",
     "text": [
      "galpyWarning: A major change in versions > 1.1 is that all galpy.potential functions and methods take the potential as the first argument; previously methods such as evaluatePotentials, evaluateDensities, etc. would be called with (R,z,Pot), now they are called as (Pot,R,z) for greater consistency across the codebase\n"
     ]
    }
   ],
   "source": [
    "from galpy.potential import NFWPotential as NFWpot\n",
    "from galpy.potential import HernquistPotential as HEpot\n",
    "from galpy.potential import DoubleExponentialDiskPotential as DEpot\n",
    "from galpy.potential import MiyamotoNagaiPotential as MNpot\n",
    "from galpy.potential import MN3ExponentialDiskPotential as MN3pot\n",
    "from galpy.potential import MWPotential2014\n",
    "\n",
    "from galpy.potential import evaluateDensities, evaluatePotentials\n",
    "from galpy.potential import plotDensities\n",
    "from galpy.potential import plotRotcurve\n",
    "from galpy.util import bovy_conversion\n",
    "\n",
    "import numpy as np\n",
    "from scipy import optimize as opt\n",
    "\n",
    "import matplotlib.pyplot as plt\n",
    "from mpl_toolkits.axes_grid1 import make_axes_locatable\n",
    "from mpl_toolkits.mplot3d import Axes3D\n",
    "import copy\n",
    "\n",
    "from areposnap.gadget import gadget_readsnap\n",
    "from areposnap.gadget_subfind import load_subfind\n",
    "import calcGrid\n",
    "\n",
    "from auriga_basics import *\n",
    "from auriga_functions import *\n",
    "\n",
    "%matplotlib inline"
   ]
  },
  {
   "cell_type": "code",
   "execution_count": 3,
   "metadata": {},
   "outputs": [
    {
     "name": "stdout",
     "output_type": "stream",
     "text": [
      "level   : 4\n",
      "halo    : 24\n",
      "snapnr  : 127\n",
      "basedir : /hits/universe/GigaGalaxy/level4_MHD/\n",
      "halodir : /hits/universe/GigaGalaxy/level4_MHD/halo_24/\n",
      "snappath: /hits/universe/GigaGalaxy/level4_MHD/halo_24/output/\n",
      "\n",
      "[ 34.42281723  33.16259384  37.29567337]\n",
      "Found 1783163 stars.\n",
      "Rotated pos.\n",
      "Rotated bfld.\n",
      "Rotated vel.\n",
      "\n",
      "galrad  : 0.02408556640148163\n",
      "redshift: 2.220446049250313e-16\n",
      "time    : 0.9999999999999998\n",
      "center  : [ 0.  0.  0.]\n",
      "\n"
     ]
    }
   ],
   "source": [
    "#### path = /hits/universe/GigaGalaxy/level4_MHD/halo_24/output/*\n",
    "level = 4\n",
    "if machine == 'magny':\n",
    "    basedir = \"/hits/universe/GigaGalaxy/level4_MHD/\"\n",
    "elif machine == 'mac': \n",
    "    basedir = \"/Users/smilanov/Desktop/Auriga/level4/\"\n",
    "j = 0\n",
    "for halo_number in [24]:  # range(1, 31):\n",
    "    halodir = basedir+\"halo_{0}/\".format(halo_number)\n",
    "    snappath = halodir+\"output/\"\n",
    "    for snapnr in range(127,128,1):\n",
    "        print(\"level   : {0}\".format(level))\n",
    "        print(\"halo    : {0}\".format(halo_number))\n",
    "        print(\"snapnr  : {0}\".format(snapnr))\n",
    "        print(\"basedir : {0}\".format(basedir))\n",
    "        print(\"halodir : {0}\".format(halodir))\n",
    "        print(\"snappath: {0}\\n\".format(snappath))\n",
    "        s, sf = eat_snap_and_fof(level, halo_number, snapnr, snappath, loadonlytype=[0,1,4,5], \n",
    "            haloid=0, galradfac=0.1, verbose=True) \n",
    "\n",
    "        # Clean negative and zero values of gmet to avoid RuntimeErrors\n",
    "        # later on (e.g. dividing by zero)\n",
    "        s.data['gmet'] = np.maximum( s.data['gmet'], 1e-40 )\n",
    "     "
   ]
  },
  {
   "cell_type": "code",
   "execution_count": 4,
   "metadata": {},
   "outputs": [
    {
     "name": "stdout",
     "output_type": "stream",
     "text": [
      "<gadget_snap.gadget_snapshot object at 0x2aaad4238ef0>\n",
      "4\n",
      "0.000591963 24.0853 -23.9838 24.0577\n",
      "[ 0.44943228  0.46022999  0.44905335 ...,  7.49414206  0.88731605\n",
      "  0.07221486]\n",
      "[ -2.39837666e+01  -2.29837666e+01  -2.19837666e+01  -2.09837666e+01\n",
      "  -1.99837666e+01  -1.89837666e+01  -1.79837666e+01  -1.69837666e+01\n",
      "  -1.59837666e+01  -1.49837666e+01  -1.39837666e+01  -1.29837666e+01\n",
      "  -1.19837666e+01  -1.09837666e+01  -9.98376656e+00  -8.98376656e+00\n",
      "  -7.98376656e+00  -6.98376656e+00  -5.98376656e+00  -4.98376656e+00\n",
      "  -3.98376656e+00  -2.98376656e+00  -1.98376656e+00  -9.83766556e-01\n",
      "   1.62334442e-02   1.01623344e+00   2.01623344e+00   3.01623344e+00\n",
      "   4.01623344e+00   5.01623344e+00   6.01623344e+00   7.01623344e+00\n",
      "   8.01623344e+00   9.01623344e+00   1.00162334e+01   1.10162334e+01\n",
      "   1.20162334e+01   1.30162334e+01   1.40162334e+01   1.50162334e+01\n",
      "   1.60162334e+01   1.70162334e+01   1.80162334e+01   1.90162334e+01\n",
      "   2.00162334e+01   2.10162334e+01   2.20162334e+01   2.30162334e+01\n",
      "   2.40162334e+01]\n"
     ]
    }
   ],
   "source": [
    "print(s)\n",
    "iall, = np.where( (s.r() < s.galrad) & (s.r() > 0.) )\n",
    "\n",
    "mask = iall\n",
    "(x_kpc, y_kpc, z_kpc), (vx_kms, vy_kms, vz_kms), rxyz_kpc, rxy_kpc = get_cartesian_vectors(s, sf, mask)\n",
    "(R_kpc, phi, z_kpc), (vR_kms, vphi, vz_kms) = get_cylindrical_vectors(s, sf, mask)\n",
    "\n",
    "\n",
    "(x, y, z), (vx, vy, vz), rxyz, rxy = get_cartesian_vectors(s, sf, mask)\n",
    "(R, phi, z), (vR, vphi, vz) = get_cylindrical_vectors(s, sf, mask)\n",
    "\n",
    "rho, Rbin, z, vol = fitting_dens(s.mass[mask][np.abs(z > -50.) & np.abs(z <50.)], R[np.abs(z > -50.) & np.abs(z <50.)], z[np.abs(z > -50.) & np.abs(z <50.)])\n",
    "#rho, R, z, vol = fitting_dens(s)\n",
    "print(R)\n",
    "print(z)"
   ]
  },
  {
   "cell_type": "code",
   "execution_count": 5,
   "metadata": {},
   "outputs": [
    {
     "data": {
      "text/plain": [
       "(70917187, 3)"
      ]
     },
     "execution_count": 5,
     "metadata": {},
     "output_type": "execute_result"
    }
   ],
   "source": [
    "s.pos.shape"
   ]
  },
  {
   "cell_type": "code",
   "execution_count": 6,
   "metadata": {
    "scrolled": false
   },
   "outputs": [
    {
     "name": "stdout",
     "output_type": "stream",
     "text": [
      "/home/extmilan/anaconda3/lib/python3.6/site-packages/ipykernel_launcher.py:1: DeprecationWarning: PyArray_FromDims: use PyArray_SimpleNew.\n",
      "  \"\"\"Entry point for launching an IPython kernel.\n",
      "\n",
      "/home/extmilan/anaconda3/lib/python3.6/site-packages/ipykernel_launcher.py:1: DeprecationWarning: PyArray_FromDimsAndDataAndDescr: use PyArray_NewFromDescr.\n",
      "  \"\"\"Entry point for launching an IPython kernel.\n",
      "\n"
     ]
    }
   ],
   "source": [
    "somex, somey = calcGrid.calcRadialProfile(s.pos.astype('float'), s.data['mass'].astype('float'))"
   ]
  },
  {
   "cell_type": "code",
   "execution_count": null,
   "metadata": {},
   "outputs": [],
   "source": [
    "subhalo = 0\n",
    "s.center = sf.data['fpos'][subhalo,:]\n",
    "\n",
    "pos = s.data['pos'].astype('float64')\n",
    "mass = s.data['mass'].astype('float64')\n",
    "\n",
    "nshells = 100\n",
    "radius = 0.04\n",
    "dr = radius / nshells\n",
    "\n",
    "na = s.nparticlesall\n",
    "end = na.copy()\n",
    "end[1:] += end[:-1]\n",
    "start = np.zeros(len(na), dtype='int32')\n",
    "start[1:] = end[:-1]\n",
    "\n",
    "shmass = np.zeros( (nshells, 6) )\n",
    "shvel = np.zeros( (nshells, 6) )\n",
    "vtot = np.zeros(nshells)\n",
    "for i in range( 6 ):\n",
    "    rp = calcGrid.calcRadialProfile( s.pos[start[i]:end[i],:].astype('float64'), s.data['mass'][start[i]:end[i]].astype('float64'), 0, nshells, dr, s.center[0], s.center[1], s.center[2] )\n",
    "\n",
    "    radius = rp[1,:]\n",
    "    shmass[:,i] = rp[0,:]\n",
    "    for j in range( 1, nshells ):\n",
    "        shmass[j,i] += shmass[j-1,i]\n",
    "    shvel[:,i] = np.sqrt( 43.0071 * shmass[:,i] / (radius) )\n",
    "    vtot[:] += (shvel[:,i]**2)\n",
    "    print(i)\n"
   ]
  },
  {
   "cell_type": "code",
   "execution_count": 8,
   "metadata": {},
   "outputs": [
    {
     "data": {
      "text/plain": [
       "[<matplotlib.lines.Line2D at 0x2aae96c71860>]"
      ]
     },
     "execution_count": 8,
     "metadata": {},
     "output_type": "execute_result"
    },
    {
     "data": {
      "image/png": "[encoded data removed]",
      "text/plain": [
       "<matplotlib.figure.Figure at 0x2aadedb18160>"
      ]
     },
     "metadata": {},
     "output_type": "display_data"
    }
   ],
   "source": [
    "print\n",
    "plt.plot(radius, vtot, '.')\n"
   ]
  },
  {
   "cell_type": "code",
   "execution_count": 9,
   "metadata": {
    "collapsed": true
   },
   "outputs": [],
   "source": [
    "### finde nen Weg um das ganze von klein r abhängig zu machen \n",
    "### finde sinnvolle Standartwerte für Initialisierungs Parameter\n",
    "### eventuell nur dens ODER pot ausgeben, hängt von Fit funktion ab \n",
    "### ravel works in the way I want?\n",
    "\n",
    "\n",
    "#def galpy_fitting(r, R, z, r0, v0, a_mp = 0.5, b_mp = 0.0375, n_mp = 0.6, a_nfw = 4.5, n_nfw = 0.35, \\\n",
    "#                  a_he = 0.6 / 8., n_he = 0.05, hr_de = 0.3333333333333333, hz_de = 0.0625, \\\n",
    "#                  dens_fit = True, pot_fit = False):\n",
    " \n",
    "def galpy_fitting(a_mp, b_mp, n_mp, a_nfw, n_nfw, a_he, n_he,\\\n",
    "                  r = None, R = None, z = None, r0 = 8., v0 = 220., dens_fit = True, pot_fit = False):    \n",
    "    #hr_de = None, hz_de = None,\n",
    "    \n",
    "    mp = MNpot(a = a_mp, b = b_mp, normalize = n_mp, ro = r0, vo = v0)\n",
    "    nfwp = NFWpot(a = a_nfw, normalize = n_nfw, ro = r0, vo = v0)\n",
    "    hep = HEpot(a = a_he, normalize = n_he, ro = r0, vo = v0)\n",
    "    #de = DEpot(hr = hr_de, hz = hz_de, normalize = 1. - (n_mp + n_nfw + n_he), ro = r0, vo = v0)\n",
    "    \n",
    "    pot = [mp, nfwp, hep]\n",
    "    densi = np.zeros([len(R), len(z)])\n",
    "    pot_mod = np.zeros([len(R), len(z)])\n",
    "    if dens_fit == True:\n",
    "        for ii, Rii in enumerate(R):\n",
    "            for jj, zjj in enumerate(z):\n",
    "                densi[ii, jj] = evaluateDensities(pot, Rii, zjj)\n",
    "    if pot_fit == True:\n",
    "        for ii, Rii in enumerate(R):\n",
    "            for jj, zjj in enumerate(z):\n",
    "                pot_mod[ii, jj] = evaluatePotentials(pot, Rii, zjj)\n",
    "            \n",
    "    #densi = np.ravel(densi)\n",
    "    pot_mod = np.ravel(pot_mod)\n",
    "    \n",
    "    if (dens_fit == True) * (pot_fit == False):\n",
    "        return densi\n",
    "    elif (dens_fit == False) * (pot_fit == True):\n",
    "        return pot_mod\n",
    "    else:\n",
    "        print('Check that fitting algorithm can handle to return density and potential.')\n",
    "        return densi, pot_mod"
   ]
  },
  {
   "cell_type": "code",
   "execution_count": 10,
   "metadata": {},
   "outputs": [
    {
     "name": "stdout",
     "output_type": "stream",
     "text": [
      "galpyWarning: actionAngleAdiabatic_c extension module not loaded, because of error '/home/extmilan/anaconda3/lib/python3.6/site-packages/galpy-1.3.dev0-py3.6-linux-x86_64.egg/galpy_actionAngle_c.cpython-36m-x86_64-linux-gnu.so: undefined symbol: gsl_integration_glfixed_table_alloc' \n",
      "galpyWarning: actionAngleStaeckel_c extension module not loaded, because of error '/home/extmilan/anaconda3/lib/python3.6/site-packages/galpy-1.3.dev0-py3.6-linux-x86_64.egg/galpy_actionAngle_c.cpython-36m-x86_64-linux-gnu.so: undefined symbol: gsl_integration_glfixed_table_alloc' \n",
      "galpyWarning: actionAngleTorus_c extension module not loaded, because galpy_actionAngleTorus_c.cpython-36m-x86_64-linux-gnu.so image was not found\n"
     ]
    },
    {
     "data": {
      "text/plain": [
       "'\\nrho, rho_arr_real, rho_arr_mean, Rbins, zbins, volbins = dens(s)\\nydata = np.ravel(rho)\\nxdata = np.zeros(len(Rbins), len(zbins))\\nfor ii, Rii in enumerate(Rbins):\\n    for jj, zjj in enumerate(zbins):\\n        xdata[ii,jj] = np.sqrt(Rii ** 2 + zjj **2)\\n            \\npopt, pcov = opt.curve_fit(galpy_fitting, np.ravel(xdata), ydata, sigma = np.ravel(volbins), absolute_sigma = True)\\n'"
      ]
     },
     "execution_count": 10,
     "metadata": {},
     "output_type": "execute_result"
    }
   ],
   "source": [
    "# FITTING\n",
    "\n",
    "# scipy.optimize.minimize(fun, x0, args=(), method=None, jac=None, hess=None, hessp=None, \n",
    "# bounds=None, constraints=(), tol=None, callback=None, options=None)[source]\n",
    "\n",
    "#fun = sqrt(for each i in (true_i - model_i)**2) called RMS\n",
    "#opt.minimize(fun, x0 = 0) \n",
    "\n",
    "#def galpy_fitting(a_mp, b_mp, n_mp, a_nfw, n_nfw, a_he, n_he, hr_de, hz_de,\\\n",
    "#                  r = None, R = None, z = None, r0 = 8., v0 = 220., dens_fit = True, pot_fit = False):    \n",
    "\n",
    "\n",
    "def RMS(x, r, R, z, N, rho, r0, v0):\n",
    "    a_mp, b_mp, n_mp, a_nfw, n_nfw, a_he, n_he = x[0], x[1], x[2], x[3], x[4], x[5], x[6]\n",
    "    ydata = rho\n",
    "    ymodel = galpy_fitting(a_mp, b_mp, n_mp, a_nfw, n_nfw, a_he, n_he, r, R, z, r0, v0)\n",
    "    RMS = np.sqrt(1./N*np.abs(np.sum(ydata - ymodel)))\n",
    "    return RMS\n",
    "\n",
    "\n",
    "a_mp = 0.5 \n",
    "b_mp = 0.0375 \n",
    "n_mp = 0.25  \n",
    "a_nfw = 4.5 \n",
    "n_nfw = 0.25 \n",
    "a_he = 0.6 / 8. \n",
    "n_he = 0.25 \n",
    "hr_de = 0.3 \n",
    "hz_de = 0.0625\n",
    "\n",
    "x0 = (a_mp, b_mp, n_mp,  a_nfw , n_nfw , a_he, n_he)\n",
    "\n",
    "bounds = ((0., None), (0., None), (0., None), (0., None), (0., None), (0., None), (0., None))\n",
    "r, R, z, rho = R, Rbin, z, rho\n",
    "#rho, R, z, vol = fitting_dens(s)\n",
    "\n",
    "r0, v0 = 8., 220.\n",
    "N = len(r)\n",
    "x = opt.minimize(RMS, x0 = x0, args= (r, R, z, N, rho, r0, v0), bounds = bounds)\n",
    "\n",
    "### CURVE_FIT might give problems since there are some bool args that do not need a fit. \n",
    "### Also having R and z as input values instead of just r might cause problems. \n",
    "### Think of that or first try minimize with RMS method\n",
    "\n",
    "# scipy.optimize.curve_fit(f, xdata, ydata, p0=None, sigma=None, absolute_sigma=False, \n",
    "# check_finite=True, bounds=(-inf, inf), method=None, jac=None, **kwargs)[source]\n",
    "\n",
    "#xdata = s.r()\n",
    "# check in which direction ravel goes over the arrays to calculate xdata in the irght way\n",
    "'''\n",
    "rho, rho_arr_real, rho_arr_mean, Rbins, zbins, volbins = dens(s)\n",
    "ydata = np.ravel(rho)\n",
    "xdata = np.zeros(len(Rbins), len(zbins))\n",
    "for ii, Rii in enumerate(Rbins):\n",
    "    for jj, zjj in enumerate(zbins):\n",
    "        xdata[ii,jj] = np.sqrt(Rii ** 2 + zjj **2)\n",
    "            \n",
    "popt, pcov = opt.curve_fit(galpy_fitting, np.ravel(xdata), ydata, sigma = np.ravel(volbins), absolute_sigma = True)\n",
    "'''"
   ]
  },
  {
   "cell_type": "code",
   "execution_count": 11,
   "metadata": {},
   "outputs": [
    {
     "data": {
      "text/plain": [
       "      fun: 4.6440039752350982e-08\n",
       " hess_inv: <7x7 LbfgsInvHessProduct with dtype=float64>\n",
       "      jac: array([ -3.41290471,   6.07142526,   3.67492732,  -0.05271147,\n",
       "         6.55774338,   0.55806173,  26.49849959])\n",
       "  message: b'CONVERGENCE: REL_REDUCTION_OF_F_<=_FACTR*EPSMCH'\n",
       "     nfev: 576\n",
       "      nit: 9\n",
       "   status: 0\n",
       "  success: True\n",
       "        x: array([ 0.50473223,  0.06807591,  0.24113812,  4.5000679 ,  0.23617254,\n",
       "        0.32914203,  0.01240413])"
      ]
     },
     "execution_count": 11,
     "metadata": {},
     "output_type": "execute_result"
    }
   ],
   "source": [
    "x"
   ]
  },
  {
   "cell_type": "code",
   "execution_count": 12,
   "metadata": {
    "collapsed": true
   },
   "outputs": [],
   "source": [
    "a_mp, b_mp, n_mp = x.x[0], x.x[1], x.x[2]\n",
    "a_nfw , n_nfw = x.x[3]  , x.x[4]\n",
    "a_he, n_he = x.x[5],  x.x[6]"
   ]
  },
  {
   "cell_type": "code",
   "execution_count": 13,
   "metadata": {
    "collapsed": true
   },
   "outputs": [],
   "source": [
    "mp = MNpot(a = a_mp, b = b_mp, normalize = n_mp, ro = r0, vo = v0)\n",
    "nfwp = NFWpot(a = a_nfw, normalize = n_nfw, ro = r0, vo = v0)\n",
    "hep = HEpot(a = a_he, normalize = n_he, ro = r0, vo = v0)\n",
    "    \n",
    "pot = [mp,nfwp,hep]\n"
   ]
  },
  {
   "cell_type": "code",
   "execution_count": 14,
   "metadata": {
    "collapsed": true
   },
   "outputs": [],
   "source": [
    "dens_final = galpy_fitting(a_mp, b_mp, n_mp, a_nfw , n_nfw, a_he, n_he, R= R, z= z)"
   ]
  },
  {
   "cell_type": "code",
   "execution_count": 15,
   "metadata": {},
   "outputs": [
    {
     "name": "stdout",
     "output_type": "stream",
     "text": [
      "/home/extmilan/anaconda3/lib/python3.6/site-packages/galpy-1.3.dev0-py3.6-linux-x86_64.egg/galpy/potential_src/TwoPowerSphericalPotential.py:186: RuntimeWarning: divide by zero encountered in double_scalars\n",
      "  return (self.a/r)**self.alpha/(1.+r/self.a)**(self.beta-self.alpha)/4./m.pi/self.a**3.\n",
      "\n",
      "/home/extmilan/anaconda3/lib/python3.6/site-packages/numpy/core/function_base.py:128: RuntimeWarning: invalid value encountered in multiply\n",
      "  y = y * step\n",
      "\n",
      "/home/extmilan/anaconda3/lib/python3.6/site-packages/matplotlib/contour.py:1176: RuntimeWarning: invalid value encountered in greater\n",
      "  inside = (self.levels > self.zmin) & (self.levels < self.zmax)\n",
      "\n",
      "/home/extmilan/anaconda3/lib/python3.6/site-packages/matplotlib/contour.py:1176: RuntimeWarning: invalid value encountered in less\n",
      "  inside = (self.levels > self.zmin) & (self.levels < self.zmax)\n",
      "\n",
      "/home/extmilan/anaconda3/lib/python3.6/site-packages/matplotlib/contour.py:1180: UserWarning: No contour levels were found within the data range.\n",
      "  warnings.warn(\"No contour levels were found\"\n",
      "\n",
      "/home/extmilan/anaconda3/lib/python3.6/site-packages/matplotlib/contour.py:967: UserWarning: The following kwargs were not used by contour: 'aspect'\n",
      "  s)\n",
      "\n"
     ]
    },
    {
     "data": {
      "text/plain": [
       "<matplotlib.image.AxesImage at 0x2aae9711a3c8>"
      ]
     },
     "execution_count": 15,
     "metadata": {},
     "output_type": "execute_result"
    },
    {
     "data": {
      "image/png": "[encoded data removed]",
      "text/plain": [
       "<matplotlib.figure.Figure at 0x2aae97084ba8>"
      ]
     },
     "metadata": {},
     "output_type": "display_data"
    }
   ],
   "source": [
    "plotDensities(pot,nrs=101,nzs=101, log = True)"
   ]
  },
  {
   "cell_type": "code",
   "execution_count": 16,
   "metadata": {},
   "outputs": [
    {
     "data": {
      "text/plain": [
       "array([[  7.19996005e-05,   9.98030600e-06,   1.20688189e-04, ...,\n",
       "          3.99212240e-05,   3.11375324e-05,   1.99606120e-05],\n",
       "       [  7.47447322e-05,   4.66115145e-05,   7.39282196e-05, ...,\n",
       "          1.01654181e-04,   6.65878602e-05,   3.32939340e-06],\n",
       "       [  4.20075264e-05,   9.65184606e-05,   8.03436579e-05, ...,\n",
       "          8.33643972e-05,   6.53320614e-05,   0.00000000e+00],\n",
       "       ..., \n",
       "       [  0.00000000e+00,   0.00000000e+00,   0.00000000e+00, ...,\n",
       "          0.00000000e+00,   0.00000000e+00,   0.00000000e+00],\n",
       "       [  0.00000000e+00,   0.00000000e+00,   0.00000000e+00, ...,\n",
       "          0.00000000e+00,   0.00000000e+00,   0.00000000e+00],\n",
       "       [  0.00000000e+00,   0.00000000e+00,   0.00000000e+00, ...,\n",
       "          0.00000000e+00,   0.00000000e+00,   0.00000000e+00]])"
      ]
     },
     "execution_count": 16,
     "metadata": {},
     "output_type": "execute_result"
    }
   ],
   "source": [
    "rho"
   ]
  },
  {
   "cell_type": "code",
   "execution_count": null,
   "metadata": {
    "collapsed": true
   },
   "outputs": [],
   "source": []
  },
  {
   "cell_type": "code",
   "execution_count": 17,
   "metadata": {},
   "outputs": [
    {
     "ename": "IndentationError",
     "evalue": "unexpected indent (<ipython-input-17-ebfd9c17ea38>, line 28)",
     "output_type": "error",
     "traceback": [
      "\u001b[0;36m  File \u001b[0;32m\"<ipython-input-17-ebfd9c17ea38>\"\u001b[0;36m, line \u001b[0;32m28\u001b[0m\n\u001b[0;31m    for j in range( 1, nshells ):\u001b[0m\n\u001b[0m    ^\u001b[0m\n\u001b[0;31mIndentationError\u001b[0m\u001b[0;31m:\u001b[0m unexpected indent\n"
     ]
    }
   ],
   "source": [
    "# find circular velocity in outskirts\n",
    "# from The GigaGalaxy Project (analysis tool) / galaxy / plot_rotcurve_multi.py\n",
    "s = gadget_readsnap( snap, snappath=dd+'/output/', hdf5=True, loadonlytype=[0, 1, 4, 5], loadonly=attrs )\n",
    "sf = load_subfind( snap, dir=dd+'/output/', hdf5=True, loadonly=['fpos', 'frc2'] )\n",
    "s.center = sf.data['fpos'][subhalo,:]\n",
    "\n",
    "pos = s.data['pos'].astype('float64')\n",
    "mass = s.data['mass'].astype('float64')\n",
    "\n",
    "nshells = 100\n",
    "radius = 0.04\n",
    "dr = radius / nshells\n",
    "\n",
    "na = s.nparticlesall\n",
    "end = na.copy()\n",
    "end[1:] += end[:-1]\n",
    "start = np.zeros(len(na), dtype='int32')\n",
    "start[1:] = end[:-1]\n",
    "\n",
    "shmass = pylab.zeros( (nshells, 6) )\n",
    "shvel = pylab.zeros( (nshells, 6) )\n",
    "vtot = pylab.zeros(nshells)\n",
    "for i in range( 6 ):\n",
    "    rp = calcGrid.calcRadialProfile( s.pos[start[i]:end[i],:].astype('float64'), s.data['mass'][start[i]:end[i]].astype('float64'), 0, nshells, dr, s.center[0], s.center[1], s.center[2] )\n",
    "\n",
    "    radius = rp[1,:]\n",
    "    shmass[:,i] = rp[0,:]\n",
    "    for j in range( 1, nshells ):\n",
    "        shmass[j,i] += shmass[j-1,i]\n",
    "    shvel[:,i] = np.sqrt( 43.0071 * shmass[:,i] / (radius) )\n",
    "    vtot[:] += (shvel[:,i]**2)\n",
    "\n"
   ]
  }
 ],
 "metadata": {
  "kernelspec": {
   "display_name": "Python 3",
   "language": "python",
   "name": "python3"
  },
  "language_info": {
   "codemirror_mode": {
    "name": "ipython",
    "version": 3
   },
   "file_extension": ".py",
   "mimetype": "text/x-python",
   "name": "python",
   "nbconvert_exporter": "python",
   "pygments_lexer": "ipython3",
   "version": "3.6.3"
  }
 },
 "nbformat": 4,
 "nbformat_minor": 2
}
