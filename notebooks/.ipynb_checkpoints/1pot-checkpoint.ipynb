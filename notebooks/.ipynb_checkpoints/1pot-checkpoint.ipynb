{
 "cells": [
  {
   "cell_type": "code",
   "execution_count": 2,
   "metadata": {},
   "outputs": [],
   "source": [
    "from galpy.potential import NFWPotential as NFWpot\n",
    "from galpy.potential import HernquistPotential as HQpot\n",
    "from galpy.potential import DoubleExponentialDiskPotential as DEDpot\n",
    "from galpy.potential import MiyamotoNagaiPotential as MNpot\n",
    "from galpy.potential import MN3ExponentialDiskPotential as MN3pot\n"
   ]
  },
  {
   "cell_type": "code",
   "execution_count": null,
   "metadata": {
    "collapsed": true
   },
   "outputs": [],
   "source": [
    "NFWpot.dens()"
   ]
  }
 ],
 "metadata": {
  "kernelspec": {
   "display_name": "Python 3",
   "language": "python",
   "name": "python3"
  },
  "language_info": {
   "codemirror_mode": {
    "name": "ipython",
    "version": 3
   },
   "file_extension": ".py",
   "mimetype": "text/x-python",
   "name": "python",
   "nbconvert_exporter": "python",
   "pygments_lexer": "ipython3",
   "version": "3.6.3"
  }
 },
 "nbformat": 4,
 "nbformat_minor": 2
}
