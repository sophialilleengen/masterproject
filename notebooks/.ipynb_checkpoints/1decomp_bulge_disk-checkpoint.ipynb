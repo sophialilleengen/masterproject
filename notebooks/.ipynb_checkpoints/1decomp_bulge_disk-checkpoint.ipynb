{
 "cells": [
  {
   "cell_type": "code",
   "execution_count": 1,
   "metadata": {
    "collapsed": true
   },
   "outputs": [],
   "source": [
    "machine = 'mac'\n",
    "machine = 'magny'\n"
   ]
  },
  {
   "cell_type": "code",
   "execution_count": 2,
   "metadata": {
    "collapsed": true
   },
   "outputs": [],
   "source": [
    "import numpy as np\n",
    "import matplotlib\n",
    "from matplotlib import pyplot as plt\n",
    "from matplotlib import colors\n",
    "from mpl_toolkits.axes_grid1 import make_axes_locatable\n",
    "from mpl_toolkits.mplot3d import Axes3D\n",
    "import copy\n",
    "\n",
    "from areposnap.gadget import gadget_readsnap\n",
    "from areposnap.gadget_subfind import load_subfind\n",
    "\n",
    "import sys\n",
    "sys.path.append(\"../../arepo-snap-util/build/lib.linux-x86_64-3.6/areposnap/\")\n",
    "from parse_particledata import parse_particledata\n",
    "\n",
    "from auriga_basics import *\n",
    "%matplotlib inline"
   ]
  },
  {
   "cell_type": "code",
   "execution_count": 3,
   "metadata": {},
   "outputs": [
    {
     "name": "stdout",
     "output_type": "stream",
     "text": [
      "level   : 4\n",
      "halo    : 24\n",
      "snapnr  : 127\n",
      "basedir : /hits/universe/GigaGalaxy/level4_MHD/\n",
      "halodir : /hits/universe/GigaGalaxy/level4_MHD/halo_24/\n",
      "snappath: /hits/universe/GigaGalaxy/level4_MHD/halo_24/output/\n",
      "\n",
      "[ 34.42281723  33.16259384  37.29567337]\n",
      "Found 1783163 stars.\n",
      "Rotated pos.\n",
      "Rotated bfld.\n",
      "Rotated vel.\n",
      "\n",
      "galrad  : 0.02408556640148163\n",
      "redshift: 2.220446049250313e-16\n",
      "time    : 0.9999999999999998\n",
      "center  : [ 0.  0.  0.]\n",
      "\n"
     ]
    }
   ],
   "source": [
    "level = 4\n",
    "if machine == 'magny':\n",
    "    basedir = \"/hits/universe/GigaGalaxy/level4_MHD/\"\n",
    "elif machine == 'mac': \n",
    "    basedir = \"/Users/smilanov/Desktop/Auriga/level4/\"\n",
    "j = 0\n",
    "for halo_number in [24]:  # range(1, 31):\n",
    "    halodir = basedir+\"halo_{0}/\".format(halo_number)\n",
    "    snappath = halodir+\"output/\"\n",
    "    for snapnr in range(127,128,1):\n",
    "        print(\"level   : {0}\".format(level))\n",
    "        print(\"halo    : {0}\".format(halo_number))\n",
    "        print(\"snapnr  : {0}\".format(snapnr))\n",
    "        print(\"basedir : {0}\".format(basedir))\n",
    "        print(\"halodir : {0}\".format(halodir))\n",
    "        print(\"snappath: {0}\\n\".format(snappath))\n",
    "        s, sf = eat_snap_and_fof(level, halo_number, snapnr, snappath, loadonlytype=[0,1,2,3,4,5], \n",
    "            haloid=0, galradfac=0.1, verbose=True) \n",
    "\n",
    "        # Clean negative and zero values of gmet to avoid RuntimeErrors\n",
    "        # later on (e.g. dividing by zero)\n",
    "        s.data['gmet'] = np.maximum( s.data['gmet'], 1e-40 )\n",
    "     "
   ]
  },
  {
   "cell_type": "code",
   "execution_count": 4,
   "metadata": {
    "collapsed": true
   },
   "outputs": [],
   "source": [
    "cmap = copy.copy(plt.cm.inferno)\n",
    "cmap.set_bad((0,0,0))  # Fill background with black\n",
    "\n",
    "galrad = s.galrad\n",
    "Gcosmo = 43.0071\n"
   ]
  },
  {
   "cell_type": "code",
   "execution_count": 5,
   "metadata": {},
   "outputs": [
    {
     "ename": "ValueError",
     "evalue": "operands could not be broadcast together with shapes (72357927,) (5344640,) ",
     "output_type": "error",
     "traceback": [
      "\u001b[0;31m---------------------------------------------------------------------------\u001b[0m",
      "\u001b[0;31mValueError\u001b[0m                                Traceback (most recent call last)",
      "\u001b[0;32m<ipython-input-5-c69c66fdf400>\u001b[0m in \u001b[0;36m<module>\u001b[0;34m()\u001b[0m\n\u001b[0;32m----> 1\u001b[0;31m \u001b[0mistars\u001b[0m\u001b[0;34m,\u001b[0m \u001b[0;34m=\u001b[0m \u001b[0mnp\u001b[0m\u001b[0;34m.\u001b[0m\u001b[0mwhere\u001b[0m\u001b[0;34m(\u001b[0m \u001b[0;34m(\u001b[0m\u001b[0ms\u001b[0m\u001b[0;34m.\u001b[0m\u001b[0mtype\u001b[0m \u001b[0;34m==\u001b[0m \u001b[0;36m4\u001b[0m\u001b[0;34m)\u001b[0m \u001b[0;34m&\u001b[0m \u001b[0;34m(\u001b[0m\u001b[0ms\u001b[0m\u001b[0;34m.\u001b[0m\u001b[0mhalo\u001b[0m \u001b[0;34m==\u001b[0m \u001b[0;36m0\u001b[0m\u001b[0;34m)\u001b[0m \u001b[0;34m&\u001b[0m \u001b[0;34m(\u001b[0m\u001b[0ms\u001b[0m\u001b[0;34m.\u001b[0m\u001b[0mr\u001b[0m\u001b[0;34m(\u001b[0m\u001b[0;34m)\u001b[0m \u001b[0;34m>\u001b[0m \u001b[0;36m0.\u001b[0m\u001b[0;34m)\u001b[0m \u001b[0;34m&\u001b[0m \u001b[0;34m(\u001b[0m\u001b[0ms\u001b[0m\u001b[0;34m.\u001b[0m\u001b[0mr\u001b[0m\u001b[0;34m(\u001b[0m\u001b[0;34m)\u001b[0m \u001b[0;34m<\u001b[0m \u001b[0ms\u001b[0m\u001b[0;34m.\u001b[0m\u001b[0mgalrad\u001b[0m\u001b[0;34m)\u001b[0m \u001b[0;34m&\u001b[0m \u001b[0;34m(\u001b[0m\u001b[0ms\u001b[0m\u001b[0;34m.\u001b[0m\u001b[0mage\u001b[0m \u001b[0;34m>\u001b[0m \u001b[0;36m0.\u001b[0m\u001b[0;34m)\u001b[0m\u001b[0;34m)\u001b[0m\u001b[0;31m#& (s.r() > 0.) & (s.r() < Ngalrad*s.galrad) )\u001b[0m\u001b[0;34m\u001b[0m\u001b[0m\n\u001b[0m\u001b[1;32m      2\u001b[0m \u001b[0;34m(\u001b[0m\u001b[0mx_kpc\u001b[0m\u001b[0;34m,\u001b[0m \u001b[0my_kpc\u001b[0m\u001b[0;34m,\u001b[0m \u001b[0mz_kpc\u001b[0m\u001b[0;34m)\u001b[0m\u001b[0;34m,\u001b[0m \u001b[0;34m(\u001b[0m\u001b[0mvx_kms\u001b[0m\u001b[0;34m,\u001b[0m \u001b[0mvy_kms\u001b[0m\u001b[0;34m,\u001b[0m \u001b[0mvz_kms\u001b[0m\u001b[0;34m)\u001b[0m\u001b[0;34m,\u001b[0m \u001b[0mrxyz_kpc\u001b[0m\u001b[0;34m,\u001b[0m \u001b[0mrxy_kpc\u001b[0m \u001b[0;34m=\u001b[0m \u001b[0mget_cartesian_vectors\u001b[0m\u001b[0;34m(\u001b[0m\u001b[0ms\u001b[0m\u001b[0;34m,\u001b[0m \u001b[0msf\u001b[0m\u001b[0;34m,\u001b[0m \u001b[0mistars\u001b[0m\u001b[0;34m)\u001b[0m\u001b[0;34m\u001b[0m\u001b[0m\n\u001b[1;32m      3\u001b[0m \u001b[0;34m(\u001b[0m\u001b[0mR_kpc\u001b[0m\u001b[0;34m,\u001b[0m \u001b[0mphi\u001b[0m\u001b[0;34m,\u001b[0m \u001b[0mz_kpc\u001b[0m\u001b[0;34m)\u001b[0m\u001b[0;34m,\u001b[0m \u001b[0;34m(\u001b[0m\u001b[0mvR_kms\u001b[0m\u001b[0;34m,\u001b[0m \u001b[0mvphi_kms\u001b[0m\u001b[0;34m,\u001b[0m \u001b[0mvz_kms\u001b[0m\u001b[0;34m)\u001b[0m \u001b[0;34m=\u001b[0m \u001b[0mget_cylindrical_vectors\u001b[0m\u001b[0;34m(\u001b[0m\u001b[0ms\u001b[0m\u001b[0;34m,\u001b[0m \u001b[0msf\u001b[0m\u001b[0;34m,\u001b[0m \u001b[0mistars\u001b[0m\u001b[0;34m)\u001b[0m\u001b[0;34m\u001b[0m\u001b[0m\n",
      "\u001b[0;31mValueError\u001b[0m: operands could not be broadcast together with shapes (72357927,) (5344640,) "
     ]
    }
   ],
   "source": [
    "istars, = np.where( (s.type == 4) & (s.halo == 0) & (s.r() > 0.) & (s.r() < s.galrad) & (s.age > 0.))#& (s.r() > 0.) & (s.r() < Ngalrad*s.galrad) )\n",
    "(x_kpc, y_kpc, z_kpc), (vx_kms, vy_kms, vz_kms), rxyz_kpc, rxy_kpc = get_cartesian_vectors(s, sf, istars)\n",
    "(R_kpc, phi, z_kpc), (vR_kms, vphi_kms, vz_kms) = get_cylindrical_vectors(s, sf, istars)"
   ]
  },
  {
   "cell_type": "code",
   "execution_count": 8,
   "metadata": {
    "collapsed": true
   },
   "outputs": [],
   "source": [
    "from areposnap.gadget import gadget_readenergy\n",
    "\n",
    "efile = gadget_readenergy('/hits/universe/GigaGalaxy/level4_MHD/halo_24/output/')\n"
   ]
  },
  {
   "cell_type": "code",
   "execution_count": 9,
   "metadata": {
    "scrolled": false
   },
   "outputs": [
    {
     "data": {
      "text/plain": [
       "(6, 100)"
      ]
     },
     "execution_count": 9,
     "metadata": {},
     "output_type": "execute_result"
    }
   ],
   "source": [
    "efile.etots.shape\n"
   ]
  },
  {
   "cell_type": "markdown",
   "metadata": {},
   "source": [
    "Try to distinguish stellar disc and spheroid components by the use of the circularity parameter $\\epsilon = \\frac{L_z}{L_{z,max}(E)}$.\n",
    "\n",
    "$L_{z,max}(E)$ is the maximum angular momentum allowed for the orbital energy $E$. \n",
    "\n",
    "$\\rightarrow \\epsilon = 1$ is a prograde circular orbit in the disc plane. $\\epsilon = -1$ is a retrograde circular orbit in the disc plane. $\\epsilon \\sim 0$ is an orbit with a very low $z$-component of angular momentum which may be highly inclined to the disc spin axis and/or be highly eccentric.  \n",
    "\n",
    "Two methods two distinguish the components:\n",
    "1. Mirror negative $\\epsilon$ as bulge material, rest disc components.\n",
    "2. Assign $\\epsilon > 0.7$ to disc star particles.\n",
    "\n",
    "see Grand et al. 2017"
   ]
  },
  {
   "cell_type": "code",
   "execution_count": 10,
   "metadata": {
    "collapsed": true
   },
   "outputs": [],
   "source": [
    "# plot energy over Lz\n",
    "\n",
    "def momentum(m, vx, vy, vz):\n",
    "    px, py, pz = m*vx, m*vy, m*vz\n",
    "    return(px, py, pz)\n",
    "\n",
    "def ang_mom(x, y, z, vx, vy, vz, m):\n",
    "    px, py, pz = momentum(m, vx, vy, vz)\n",
    "    Lx = y * pz - z * py\n",
    "    Ly = z * px - x * pz\n",
    "    Lz = x * py - y * px\n",
    "    Jx = y * vz - z * vy\n",
    "    Jy = z * vx - x * vz\n",
    "    Jz = x * vy - y * vx    \n",
    "    return((Lx, Ly, Lz), (Jx, Jy, Jz))\n",
    "\n",
    "#specific energy\n",
    "E = s.pot[istars] + 1./2. * (vx**2 + vy**2)\n",
    "#E_wom\n",
    "(Lx, Ly, Lz), (Jx, Jy, Jz) = ang_mom(x,y,z,vx,vy,vz,s.mass[istars])\n",
    "\n"
   ]
  },
  {
   "cell_type": "code",
   "execution_count": 11,
   "metadata": {},
   "outputs": [
    {
     "data": {
      "text/plain": [
       "Text(0.5,0,'E')"
      ]
     },
     "execution_count": 11,
     "metadata": {},
     "output_type": "execute_result"
    },
    {
     "data": {
      "image/png": "[encoded data removed]",
      "text/plain": [
       "<matplotlib.figure.Figure at 0x2aac91fad5f8>"
      ]
     },
     "metadata": {},
     "output_type": "display_data"
    }
   ],
   "source": [
    "fig, ax = plt.subplots(1, 1, figsize=(8,6))\n",
    "H = ax.hist2d(E, Jz, bins=201,  norm=matplotlib.colors.LogNorm(), cmap = plt.cm.inferno) # cmap = cmap\n",
    "ax.set_ylabel(\"$\\mathrm{J_z}\\ [\\mathrm{Mpc}\\ \\mathrm{km}\\ \\mathrm{s}^{-1}]$\")\n",
    "ax.set_xlabel(\"E\")\n"
   ]
  },
  {
   "cell_type": "code",
   "execution_count": 12,
   "metadata": {
    "scrolled": false
   },
   "outputs": [
    {
     "name": "stdout",
     "output_type": "stream",
     "text": [
      "[ -5.74471731e-09   2.49841061e-06  -3.40081242e-04   1.04627872e-02\n",
      "  -2.27956676e-02   1.33918059e+02]\n"
     ]
    },
    {
     "data": {
      "text/plain": [
       "[<matplotlib.lines.Line2D at 0x2aac9dbede48>]"
      ]
     },
     "execution_count": 12,
     "metadata": {},
     "output_type": "execute_result"
    },
    {
     "data": {
      "image/png": "[encoded data removed]",
      "text/plain": [
       "<matplotlib.figure.Figure at 0x2aac921e9160>"
      ]
     },
     "metadata": {},
     "output_type": "display_data"
    }
   ],
   "source": [
    "fit_arr = []\n",
    "for i in range(201):\n",
    "    min_val = np.nonzero(H[0][i])[0][0]\n",
    "    fit_arr.append([i, min_val])\n",
    "    if min_val == 0:\n",
    "        break\n",
    "fit_arr = np.array(fit_arr)\n",
    "#print(fit_arr.shape)\n",
    "\n",
    "x_vals = fit_arr[:, 0]\n",
    "y_vals = fit_arr[:, 1]\n",
    "#print(x_vals, y_vals)\n",
    "plt.plot(x_vals, y_vals, 'r.')\n",
    "\n",
    "z = np.polyfit(x_vals, y_vals, 5)\n",
    "print(z)\n",
    "p = np.poly1d(z)\n",
    "plt.plot(x_vals,p(x_vals))"
   ]
  },
  {
   "cell_type": "code",
   "execution_count": 8,
   "metadata": {
    "collapsed": true
   },
   "outputs": [],
   "source": [
    "#fig, ax = plt.subplots(1, 1, figsize=(8,6))\n",
    "\n",
    "def decomp(s, r_eff_Mpc = 0.002, plotter = False):\n",
    "    ID = s.id\n",
    "    # get number of particles \n",
    "    na = s.nparticlesall\n",
    "\n",
    "    # get mass and age of stars \n",
    "    mass = s.data['mass'].astype('float64')\n",
    "    st = na[:4].sum(); en = st+na[4]\n",
    "    age = np.zeros( s.npartall )\n",
    "    # only stars will be given an age, for other particles: age = 0\n",
    "    age[st:en] = s.data['age']\n",
    "\n",
    "    # create masks for all particles / stars within given radius\n",
    "    iall, = np.where( (s.r() < galrad) & (s.r() > 0.) )\n",
    "    istars, = np.where( (s.r() < galrad) & (s.r() > 0.) & (s.type == 4) & (age > 0.) )\n",
    "\n",
    "    # calculate radius of all particles within galrad, sort them, \\\n",
    "    # get their mass and calculate their cumulative mass sorted by their distance\n",
    "    nstars = len( istars )\n",
    "    nall   = len( iall )\n",
    "    rr = np.sqrt( (s.pos[iall,:]**2).sum(axis=1) )\n",
    "    msort = rr.argsort()\n",
    "    mass_all = mass[iall]\n",
    "    msum = np.zeros( nall )\n",
    "    msum[msort[:]] = np.cumsum(mass_all[msort[:]])\n",
    "\n",
    "    # get position, velocity, mass, type, potential, radius and age of all particles within galrad\n",
    "    pos  = s.pos[iall,:].astype( 'float64' )\n",
    "    vel = s.vel[iall,:].astype( 'float64' )\n",
    "    mass = s.data['mass'][iall].astype( 'float64' )\n",
    "    ptype = s.data['type'][iall]\n",
    "    pot = s.data['pot'][iall].astype('float64')\n",
    "    radius = np.sqrt( (s.pos[iall,:]**2).sum(axis=1) )\n",
    "    age = age[iall]\n",
    "\n",
    "    # create zero arrays with the length = number of stars for values to be calculated\n",
    "    eps   = np.zeros( nstars )\n",
    "    eps2  = np.zeros( nstars )\n",
    "    smass = np.zeros( nstars )\n",
    "    cosalpha = np.zeros( nstars )\n",
    "    jcmax = np.zeros( nstars )\n",
    "    spec_energy = np.zeros( nstars )\n",
    "    star_age = np.zeros( nstars )\n",
    "\n",
    "    # computing stellar properties\n",
    "    print('computing star properties')\n",
    "\n",
    "    # another mask for star selection\n",
    "    nn, = np.where((ptype[:] == 4) & (age[:] > 0.)) \n",
    "\n",
    "    # calculate specific angular momentum (w/o considering mass)\n",
    "    j  = np.cross( pos[nn,:], vel[nn,:] ) #!!!! Check if x, y, z position is the right way\n",
    "    # calculate circular orbit angular momentum\n",
    "    jc = radius[nn] * np.sqrt( Gcosmo * msum[nn] / radius[nn] )\n",
    "    # get z-component of specific angular momentum !! CHECK AGAIN XYZ \n",
    "    jz = j[:,0]\n",
    "\n",
    "    # calculate specific energy\n",
    "    spec_energy[:] = 0.5 * (vel[nn,:]**2).sum(axis=1) + pot[nn]\n",
    "    # circularity parameter eps = j_z / j_circ\n",
    "    eps[:] = jz / jc\n",
    "    eps2[:] = jz\n",
    "    smass[:] = mass[nn]\n",
    "    # calculate normed Jz??\n",
    "    cosalpha[:] = jz / np.sqrt( (j[:]**2).sum(axis=1) )\n",
    "    # calculate age from cosmology\n",
    "    star_age[:] = s.cosmology_get_lookback_time_from_a( age[nn], is_flat=True )\n",
    "\n",
    "    print('computing histograms')\n",
    "\n",
    "    # sort particle by specific energy\n",
    "    iensort = np.argsort(spec_energy)\n",
    "    eps = eps[iensort]\n",
    "    eps2 = eps2[iensort]\n",
    "    spec_energy = spec_energy[iensort]\n",
    "    smass = smass[iensort]\n",
    "    cosalpha = cosalpha[iensort]\n",
    "    star_age = star_age[iensort]\n",
    "\n",
    "    # find maximum allowed J_circ for each energy for each star \n",
    "    #(look at 100 stars around selected star and find the maximum jz within them)\n",
    "    for nn in range( nstars ):\n",
    "        nn0 = nn - 50\n",
    "        nn1 = nn + 50\n",
    "\n",
    "        if nn0 < 0:\n",
    "            nn1 += -nn0\n",
    "            nn0 = 0\n",
    "        if nn1 >= nstars:\n",
    "            nn0 -= ( nn1 - (nstars - 1) )\n",
    "            nn1 = nstars - 1\n",
    "\n",
    "        jcmax[nn] = np.max( eps2[nn0:nn1] )\n",
    "\n",
    "    # divide star mass by mass of all stars to use as weight in histogram\n",
    "    smass /= smass.sum()\n",
    "    # calculate eps = jz/j_z_max \n",
    "    eps2[:] /= jcmax[:]\n",
    "    \n",
    "    Radius_Mpc = s.r()[istars][iensort]\n",
    "    r_eff_Mpc = 0.002\n",
    "    \n",
    "    idisk = np.where(eps2 >= 0.7)\n",
    "    ispheroid = np.where(eps2 < 0.7)\n",
    "    ibulge = np.where((eps2 < 0.7) & (Radius_Mpc < r_eff_Mpc))\n",
    "    ihalo = np.where((eps2 < 0.7) & (Radius_Mpc > r_eff_Mpc))\n",
    "    disk_ID = ID[istars][iensort][idisk]\n",
    "    spheroid_ID = ID[istars][iensort][ispheroid]\n",
    "    bulge_ID = ID[istars][iensort][ibulge]\n",
    "    halo_ID = ID[istars][iensort][ihalo]\n",
    "    \n",
    "    \n",
    "    if plotter == True:\n",
    "        fig, ax = plt.subplots(1, 1, figsize=(8,6))\n",
    "        \n",
    "        ydatatot, edges = np.histogram( eps2, bins=100, weights=smass, range=[-1.7,1.7] )\n",
    "        xdatatot = 0.5 * (edges[1:] + edges[:-1])\n",
    "        xdata = xdatatot\n",
    "\n",
    "        ydatad, edgesd = np.histogram( eps2[idisk], bins=100, weights=smass[idisk], range=[-1.7,1.7] )\n",
    "        ydatab, edgesb = np.histogram( eps2[ibulge], bins=100, weights=smass[ibulge], range=[-1.7,1.7] )\n",
    "        ydatah, edgesh = np.histogram( eps2[ihalo], bins=100, weights=smass[ihalo], range=[-1.7,1.7] )\n",
    "        ydatas, edgess = np.histogram( eps2[ispheroid], bins=100, weights=smass[ispheroid], range=[-1.7,1.7] )\n",
    "\n",
    "        ax.fill( xdata, ydatab, fc='r', alpha=0.5, fill=True, lw=0, label='bulge' )\n",
    "        ax.fill( xdata, ydatad, fc='b', alpha=0.5, fill=True, lw=0, label='disc' )\n",
    "        ax.fill( xdata, ydatah, fc='g', alpha=0.5, fill=True, lw=0, label='halo' )\n",
    "        ax.fill( xdata, ydatas, fc='y', alpha=0.5, fill=True, lw=0, label='spheroid' )\n",
    "        \n",
    "        ax.plot( xdatatot, ydatatot, 'k', label='total' )\n",
    "        ax.legend()\n",
    "    \n",
    "    return(disk_ID, spheroid_ID, bulge_ID, halo_ID)"
   ]
  },
  {
   "cell_type": "code",
   "execution_count": 9,
   "metadata": {},
   "outputs": [
    {
     "name": "stdout",
     "output_type": "stream",
     "text": [
      "computing star properties\n",
      "computing histograms\n"
     ]
    },
    {
     "data": {
      "image/png": "[encoded data removed]",
      "text/plain": [
       "<matplotlib.figure.Figure at 0x2aaca53e7128>"
      ]
     },
     "metadata": {},
     "output_type": "display_data"
    }
   ],
   "source": [
    "disk_ID, spheroid_ID, bulge_ID, halo_ID = decomp(s, plotter = 1)\n",
    "#print(ID.shape, eps2.shape, istars.shape)\n"
   ]
  },
  {
   "cell_type": "code",
   "execution_count": 10,
   "metadata": {
    "collapsed": true
   },
   "outputs": [],
   "source": [
    "i_spher = np.isin(s.id, spheroid_ID)\n",
    "z_spher, y_spher, x_spher = s.pos[:,0][i_spher], s.pos[:,1][i_spher], s.pos[:,2][i_spher]\n",
    "r_spher = s.r()[i_spher]\n",
    "R_spher = np.sqrt(x_spher**2 + y_spher**2)\n",
    "i_disk = np.isin(s.id, disk_ID)\n",
    "z_disk, y_disk, x_disk = s.pos[:,0][i_disk], s.pos[:,1][i_disk], s.pos[:,2][i_disk]\n",
    "r_disk = s.r()[i_disk]\n",
    "R_disk = np.sqrt(x_disk**2 + y_disk**2)\n"
   ]
  },
  {
   "cell_type": "code",
   "execution_count": 11,
   "metadata": {},
   "outputs": [
    {
     "name": "stdout",
     "output_type": "stream",
     "text": [
      "3.69773\n",
      "368042\n",
      "574295\n",
      "532455 409882\n"
     ]
    }
   ],
   "source": [
    "print(np.mean(1000* R_spher))\n",
    "print(len(np.where((1000*R_spher) < 1.)[0]))\n",
    "print(len(np.where((1000*R_spher) > 1.)[0]))\n",
    "print(len(bulge_ID), len(halo_ID))"
   ]
  },
  {
   "cell_type": "code",
   "execution_count": 12,
   "metadata": {},
   "outputs": [
    {
     "data": {
      "image/png": "[encoded data removed]",
      "text/plain": [
       "<matplotlib.figure.Figure at 0x2aacadf12198>"
      ]
     },
     "metadata": {},
     "output_type": "display_data"
    },
    {
     "data": {
      "image/png": "[encoded data removed]",
      "text/plain": [
       "<matplotlib.figure.Figure at 0x2aaaeb9896a0>"
      ]
     },
     "metadata": {},
     "output_type": "display_data"
    },
    {
     "data": {
      "image/png": "[encoded data removed]",
      "text/plain": [
       "<matplotlib.figure.Figure at 0x2aacb40975c0>"
      ]
     },
     "metadata": {},
     "output_type": "display_data"
    },
    {
     "data": {
      "image/png": "[encoded data removed]",
      "text/plain": [
       "<matplotlib.figure.Figure at 0x2aacb4124c88>"
      ]
     },
     "metadata": {},
     "output_type": "display_data"
    }
   ],
   "source": [
    "plt.hist2d(x_spher, y_spher, bins = 41, norm=colors.LogNorm(), cmap = cmap)\n",
    "plt.axis('equal')\n",
    "plt.colorbar()\n",
    "#plt.xlim(0,0.1)\n",
    "#plt.axis(0, 0.10, -0.1, 0.1)\n",
    "plt.show()\n",
    "\n",
    "plt.hist2d(R_spher, z_spher, bins = 41, norm=colors.LogNorm(), cmap = cmap)\n",
    "plt.axis('equal')\n",
    "plt.colorbar()\n",
    "#plt.xlim(0,0.1)\n",
    "#plt.axis(0, 0.10, -0.1, 0.1)\n",
    "plt.show()\n",
    "\n",
    "plt.hist2d(x_disk, y_disk, bins = 41, norm=colors.LogNorm(), cmap = cmap)\n",
    "plt.axis('equal')\n",
    "plt.colorbar()\n",
    "#plt.xlim(0,0.1)\n",
    "plt.show()\n",
    "\n",
    "plt.hist2d(R_disk, z_disk, bins = 41, norm=colors.LogNorm(), cmap = cmap)\n",
    "plt.axis('equal')\n",
    "plt.colorbar()\n",
    "#plt.xlim(0,0.1)\n",
    "plt.show()"
   ]
  },
  {
   "cell_type": "code",
   "execution_count": 13,
   "metadata": {},
   "outputs": [
    {
     "ename": "AttributeError",
     "evalue": "'LazyDict' object has no attribute 'has_key'",
     "output_type": "error",
     "traceback": [
      "\u001b[0;31m---------------------------------------------------------------------------\u001b[0m",
      "\u001b[0;31mAttributeError\u001b[0m                            Traceback (most recent call last)",
      "\u001b[0;32m<ipython-input-13-e01500942282>\u001b[0m in \u001b[0;36m<module>\u001b[0;34m()\u001b[0m\n\u001b[1;32m      3\u001b[0m \u001b[0maccretedfile\u001b[0m \u001b[0;34m=\u001b[0m \u001b[0;36m0\u001b[0m\u001b[0;34m\u001b[0m\u001b[0m\n\u001b[1;32m      4\u001b[0m \u001b[0mattrs\u001b[0m \u001b[0;34m=\u001b[0m \u001b[0;34m[\u001b[0m\u001b[0;34m'pos'\u001b[0m\u001b[0;34m,\u001b[0m \u001b[0;34m'vel'\u001b[0m\u001b[0;34m,\u001b[0m \u001b[0;34m'mass'\u001b[0m\u001b[0;34m,\u001b[0m \u001b[0;34m'pot'\u001b[0m\u001b[0;34m,\u001b[0m \u001b[0;34m'age'\u001b[0m\u001b[0;34m,\u001b[0m \u001b[0;34m'id'\u001b[0m\u001b[0;34m]\u001b[0m\u001b[0;34m\u001b[0m\u001b[0m\n\u001b[0;32m----> 5\u001b[0;31m \u001b[0mg\u001b[0m \u001b[0;34m=\u001b[0m \u001b[0mparse_particledata\u001b[0m\u001b[0;34m(\u001b[0m \u001b[0ms\u001b[0m\u001b[0;34m,\u001b[0m \u001b[0msf\u001b[0m\u001b[0;34m)\u001b[0m\u001b[0;31m#, attrs = attrs, radialcut = 0.1*sf.data['frc2'][0])#, accretedfile=accretedfile )\u001b[0m\u001b[0;34m\u001b[0m\u001b[0m\n\u001b[0m\u001b[1;32m      6\u001b[0m \u001b[0mg\u001b[0m\u001b[0;34m.\u001b[0m\u001b[0mprep_data\u001b[0m\u001b[0;34m(\u001b[0m \u001b[0mlzcirc\u001b[0m\u001b[0;34m=\u001b[0m\u001b[0mlzcirc\u001b[0m \u001b[0;34m)\u001b[0m\u001b[0;34m\u001b[0m\u001b[0m\n\u001b[1;32m      7\u001b[0m \u001b[0;34m\u001b[0m\u001b[0m\n",
      "\u001b[0;32m~/arepo-snap-util/build/lib.linux-x86_64-3.6/areposnap/parse_particledata.py\u001b[0m in \u001b[0;36m__init__\u001b[0;34m(self, s, sf, attrs, rotmatfile, galcenfile, accretedfile, stardatafile, nmetal, alpha_elements, radialcut, disc_stars, extra_fields, verbose)\u001b[0m\n\u001b[1;32m     45\u001b[0m     \u001b[0mself\u001b[0m\u001b[0;34m.\u001b[0m\u001b[0mradialcut\u001b[0m \u001b[0;34m=\u001b[0m \u001b[0mradialcut\u001b[0m\u001b[0;34m\u001b[0m\u001b[0m\n\u001b[1;32m     46\u001b[0m     \u001b[0;31m#self.nmetal = nmetal\u001b[0m\u001b[0;34m\u001b[0m\u001b[0;34m\u001b[0m\u001b[0m\n\u001b[0;32m---> 47\u001b[0;31m     \u001b[0;32mif\u001b[0m \u001b[0ms\u001b[0m\u001b[0;34m.\u001b[0m\u001b[0mdata\u001b[0m\u001b[0;34m.\u001b[0m\u001b[0mhas_key\u001b[0m\u001b[0;34m(\u001b[0m\u001b[0;34m'gmet'\u001b[0m\u001b[0;34m)\u001b[0m\u001b[0;34m:\u001b[0m\u001b[0;34m\u001b[0m\u001b[0m\n\u001b[0m\u001b[1;32m     48\u001b[0m       \u001b[0mself\u001b[0m\u001b[0;34m.\u001b[0m\u001b[0mnmetal\u001b[0m \u001b[0;34m=\u001b[0m \u001b[0ms\u001b[0m\u001b[0;34m.\u001b[0m\u001b[0mdata\u001b[0m\u001b[0;34m[\u001b[0m\u001b[0;34m'gmet'\u001b[0m\u001b[0;34m]\u001b[0m\u001b[0;34m.\u001b[0m\u001b[0mshape\u001b[0m\u001b[0;34m[\u001b[0m\u001b[0;36m1\u001b[0m\u001b[0;34m]\u001b[0m\u001b[0;34m\u001b[0m\u001b[0m\n\u001b[1;32m     49\u001b[0m     \u001b[0mself\u001b[0m\u001b[0;34m.\u001b[0m\u001b[0mrotmatfile\u001b[0m\u001b[0;34m,\u001b[0m \u001b[0mself\u001b[0m\u001b[0;34m.\u001b[0m\u001b[0mgalcenfile\u001b[0m\u001b[0;34m,\u001b[0m \u001b[0mself\u001b[0m\u001b[0;34m.\u001b[0m\u001b[0maccretedfile\u001b[0m\u001b[0;34m,\u001b[0m \u001b[0mself\u001b[0m\u001b[0;34m.\u001b[0m\u001b[0mstardatafile\u001b[0m \u001b[0;34m=\u001b[0m \u001b[0;32mFalse\u001b[0m\u001b[0;34m,\u001b[0m \u001b[0;32mFalse\u001b[0m\u001b[0;34m,\u001b[0m \u001b[0;32mFalse\u001b[0m\u001b[0;34m,\u001b[0m \u001b[0;32mFalse\u001b[0m\u001b[0;34m\u001b[0m\u001b[0m\n",
      "\u001b[0;31mAttributeError\u001b[0m: 'LazyDict' object has no attribute 'has_key'"
     ]
    }
   ],
   "source": [
    "# should work when installation/update worked\n",
    "\n",
    "accretedfile = 0\n",
    "attrs = ['pos', 'vel', 'mass', 'pot', 'age', 'id']\n",
    "g = parse_particledata( s, sf)#, attrs = attrs, radialcut = 0.1*sf.data['frc2'][0])#, accretedfile=accretedfile )\n",
    "g.prep_data( lzcirc=lzcirc )\n",
    "\n",
    "if accretedfile:\n",
    "    asind = g.select_accreted_stars(accreted=True)\n",
    "\n",
    "sdata = g.sgdata['sdata']\n",
    "eps2 = sdata['eps2']\n",
    "smass = sdata['mass']\n",
    "star_age = sdata['age']"
   ]
  },
  {
   "cell_type": "code",
   "execution_count": null,
   "metadata": {
    "collapsed": true,
    "scrolled": false
   },
   "outputs": [],
   "source": [
    "fig, ax = plt.subplots(1, 1, figsize=(8,6))\n",
    "idisk = np.where(eps2 >= 0.7)\n",
    "ispheroid = np.where(eps2 < 0.7)\n",
    "ydatatot, edges = np.histogram( eps2, bins=100, weights=smass, range=[-1.7,1.7] )\n",
    "xdatatot = 0.5 * (edges[1:] + edges[:-1])\n",
    "xdata = xdatatot\n",
    "\n",
    "ydatad, edgesd = np.histogram( eps2[idisk], bins=100, weights=smass[idisk], range=[-1.7,1.7] )\n",
    "ydatab, edgesb = np.histogram( eps2[ispheroid], bins=100, weights=smass[ispheroid], range=[-1.7,1.7] )\n",
    "\n",
    "\n",
    "disk_ID = ID[istars][iensort][idisk]\n",
    "spheroid_ID = ID[istars][iensort][ispheroid]\n",
    "\n",
    "\n",
    "ax.fill( xdata, ydatab, fc='r', alpha=0.5, fill=True, lw=0, label='spheroid' )\n",
    "ax.fill( xdata, ydatad, fc='b', alpha=0.5, fill=True, lw=0, label='disc' )\n",
    "ax.plot( xdatatot, ydatatot, 'k', label='total' )\n",
    "ax.legend()"
   ]
  },
  {
   "cell_type": "code",
   "execution_count": null,
   "metadata": {
    "collapsed": true
   },
   "outputs": [],
   "source": [
    "# compute total new (it is used for bulge disk decomposition and plotted afterwards)\n",
    "ydatatot, edges = np.histogram( eps2, bins=100, weights=smass, range=[-1.7,1.7] )\n",
    "xdatatot = 0.5 * (edges[1:] + edges[:-1])\n",
    "\n",
    "kk, = np.where( xdatatot <= 0.0 )\n",
    "pivot = np.max( kk )\n",
    "\n",
    "#such that \\int f(\\epsilon) d\\epsilon = 1\n",
    "#if normalize_bins:\n",
    "    #binwidth = edges[1:] - edges[:-1]\n",
    "    #ydatatot[:] /= binwidth[:]\n",
    "\n",
    "xdata = np.zeros( len ( xdatatot ) )\n",
    "ydata = np.zeros( len ( ydatatot ) )\n",
    "ydatad = np.zeros( len ( ydatatot ) )\n",
    "\n",
    "#bulge\t\n",
    "ydata[:] = ydatatot[:]\n",
    "xdata[:] = xdatatot[:]\n",
    "#mirror part with negative epsilon (if that is too big keep the actual value)\n",
    "if len( ydata ) % 2 == 0: \n",
    "    for i in range( 0, int(len( ydata ) / 2) ):\n",
    "        if ydata[pivot + i + 1] > ydata[pivot - i]:\n",
    "            ydata[pivot + i + 1] = ydata[pivot - i]\n",
    "else:\n",
    "    for i in range( 1, int(len( ydata ) / 2) ):\n",
    "        if ydata[pivot + i] > ydata[pivot - i]:\n",
    "            ydata[pivot + i] = ydata[pivot - i]\n",
    "\n",
    "ax.fill( xdata, ydata, fc='r', alpha=0.5, fill=True, lw=0, label='spheroid' )\n",
    "\n",
    "#disk\n",
    "ydatad[:] = ydatatot[:]\n",
    "xdata[:] = xdatatot[:]\n",
    "#substract the bulge part\n",
    "ydatad[:] -= ydata[:]\n",
    "ax.fill( xdata, ydatad, fc='b', alpha=0.5, fill=True, lw=0, label='disc' )\n",
    "#multiply by bin width if bin have been normalised\n",
    "#if normalize_bins:\n",
    "    #binwidth = edges[1:] - edges[:-1]\n",
    "    #ydatad[:] *= binwidth[:]\n",
    "\n",
    "#plot total new\n",
    "ax.plot( xdatatot, ydatatot, 'k', label='total' )\n",
    "\n",
    "#total old\n",
    "ydata, edges = np.histogram( eps, bins=100, weights=smass, range=[-1.7,1.7] )\n",
    "xdata = 0.5 * (edges[1:] + edges[:-1])\n",
    "\n",
    "#such that \\int f(\\epsilon) d\\epsilon = 1\n",
    "#if normalize_bins:\n",
    "    #binwidth = edges[1:] - edges[:-1]\n",
    "    #ydata[:] /= binwidth[:]\n",
    "\n",
    "jj, = np.where( (eps2 > 0.7) & (eps2 < 1.7) )\n",
    "kk, = np.where( (eps2 > -1.7) & (eps2 <= 0.7) )\n",
    "ll, = np.where( (eps2 > -1.7) & (eps2 < 1.7) )\n",
    "alt_frac = smass[jj].sum() / smass[ll].sum()\n",
    "\n",
    "age_disk = (star_age[jj] * smass[jj]).sum() / smass[jj].sum()\n",
    "age_bulge = (star_age[kk] * smass[kk]).sum() / smass[kk].sum()\n",
    "\n",
    "\n",
    "ax.plot( xdata, ydata, 'gray', lw=0.7, label=\"$\\\\rm{f(\\\\epsilon_{v})}$\" )\n",
    "ax.legend( loc='upper left', frameon=False, prop={'size':5} )\n",
    "ax.text( 0.06, 0.60, \"D/T = %4.2f [%4.2f]\" % (alt_frac, ydatad.sum()), size=5, transform=ax.transAxes )"
   ]
  },
  {
   "cell_type": "code",
   "execution_count": null,
   "metadata": {
    "collapsed": true
   },
   "outputs": [],
   "source": []
  },
  {
   "cell_type": "code",
   "execution_count": null,
   "metadata": {
    "collapsed": true
   },
   "outputs": [],
   "source": [
    "### taken from The GigaGalaxy Project (analysis tool) / galaxy / plot_circularities_decomp_multi_age.py\n",
    "Gcosmo = 43.0071\n",
    "\n",
    "\n",
    "#input1 = '/home/marinafo/scratch/Aquarius/AgeOfAquariusOutputs/ExpansionList_short'\n",
    "#input2 = '/home/marinafo/scratch/Aquarius/AgeOfAquariusOutputs/ExpansionList_128'\n",
    "\n",
    "def plot_circularities_decomp_multi_age( runs, dirs, outpath, snap, suffix, nrows, ncols, normalize_bins=True ):\n",
    "    panels = len(runs)\n",
    "    figure = multipanel_layout.multipanel_layout( nrows=nrows, ncols=ncols, npanels=panels )\n",
    "    figure.set_figure_layout()\n",
    "    figure.set_axis_limits_and_aspect( xlim=[-2.0, 2.0], ylim=[0.0, 2.5] )\n",
    "    if normalize_bins:\n",
    "        figure.set_axis_locators( xminloc=0.25, xmajloc=1.0, yminloc=0.1, ymajloc=0.5 )\n",
    "    else:\n",
    "        figure.set_axis_locators( xminloc=0.25, xmajloc=1.0, yminloc=0.01, ymajloc=0.05 )\n",
    "\n",
    "    figure.set_axis_labels( xlabel=\"$\\epsilon$\", ylabel=\"$\\\\rm{f(\\epsilon)}$\" )\n",
    "    figure.set_fontsize()\n",
    "\n",
    "    fileout = outpath + '/stellar_age.txt'\n",
    "    f = open(fileout, 'w')\n",
    "    header = \"%12s%12s%12s\\n\" % (\"Run\", \"Age disk\", \"Age bulge\")\n",
    "    f.write(header)\n",
    "\n",
    "    savesnap = snap\n",
    "\n",
    "        for d in range( len( runs ) ):\n",
    "                dd = dirs[d] + runs[d]\n",
    "        ax = figure.axes[d]\n",
    "\n",
    "                print(\"Doing dir %s snap %d.\" % (dd, snap))\n",
    "\n",
    "        s = gadget_readsnap( snap, snappath=dd+'/output/', hdf5=True, loadonly=['pos', 'vel', 'mass', 'pot', 'age'] )\n",
    "        sf = load_subfind( snap, dir=dd+'/output/', hdf5=True, loadonly=['fpos', 'frc2', 'svel', 'flty', 'fnsh', 'slty'] )\n",
    "        s.calc_sf_indizes( sf, dosubhalos=False, halolist=[0] )\n",
    "        na = s.nparticlesall\n",
    "\n",
    "            galrad = 0.1 * sf.data['frc2'][0]\n",
    "            print('galrad:', galrad)\n",
    "        center = None\n",
    "        age_select = 3.\n",
    "        s.select_halo( sf, center, age_select, use_principal_axis=True, use_cold_gas_spin=False, do_rotation=True )\n",
    "\n",
    "        print('select particle properties')\n",
    "\n",
    "        mass = s.data['mass'].astype('float64')\n",
    "        st = na[:4].sum(); en = st+na[4]\n",
    "        age = np.zeros( s.npartall )\n",
    "        age[st:en] = s.data['age']\n",
    "\n",
    "        iall, = np.where( (s.r() < galrad) & (s.r() > 0.) )\n",
    "        istars, = np.where( (s.r() < galrad) & (s.r() > 0.) & (s.type == 4) & (age > 0.) )\n",
    "\n",
    "            nstars = size( istars )\n",
    "            nall   = size( iall )\n",
    "            rr = pylab.sqrt( (s.pos[iall,:]**2).sum(axis=1) )\n",
    "            msort = rr.argsort()\n",
    "            mass_all = mass[iall]\n",
    "        \n",
    "            msum = pylab.zeros( nall )\n",
    "        msum[msort[:]] = np.cumsum(mass_all[msort[:]])\n",
    "\n",
    "            pos  = s.pos[iall,:].astype( 'float64' )\n",
    "            vel = s.vel[iall,:].astype( 'float64' )\n",
    "            mass = s.data['mass'][iall].astype( 'float64' )\n",
    "            ptype = s.data['type'][iall]\n",
    "            pot = s.data['pot'][iall].astype('float64')\n",
    "                #radius = pylab.sqrt( (s.pos[iall,1:]**2).sum(axis=1) ) # radius in yz (disc) plane??\n",
    "                radius = pylab.sqrt( (s.pos[iall,:]**2).sum(axis=1) )\n",
    "\t\tage = age[iall]\n",
    "\n",
    "        \teps   = pylab.zeros( nstars )\n",
    "\t\teps2  = pylab.zeros( nstars )\n",
    "        \tsmass = pylab.zeros( nstars )\n",
    "        \tcosalpha = pylab.zeros( nstars )\n",
    "        \tjcmax = pylab.zeros( nstars )\n",
    "\t\tspec_energy = pylab.zeros( nstars )\n",
    "\t\tstar_age = pylab.zeros( nstars )\n",
    "\n",
    "\t\t#computing stellar properties\n",
    "\t\tprint('computing star properties')\n",
    "\t\tnn, = np.where((ptype[:] == 4) & (age[:] > 0.)) \n",
    "\n",
    "               \tj  = pylab.cross( pos[nn,:], vel[nn,:] )\n",
    "                jc = radius[nn] * pylab.sqrt( Gcosmo * msum[nn] / radius[nn] )\n",
    "                jz = j[:,0]\n",
    "\n",
    "\t\tspec_energy[:] = 0.5 * (vel[nn,:]**2).sum(axis=1) + pot[nn]\n",
    "\t\teps[:] = jz / jc\n",
    "\t\teps2[:] = jz\n",
    "                smass[:] = mass[nn]\n",
    "                cosalpha[:] = jz / np.sqrt( (j[:]**2).sum(axis=1) )\n",
    "\t\tstar_age[:] = s.cosmology_get_lookback_time_from_a( age[nn], is_flat=True )\n",
    "\n",
    "\t\tprint('computing histograms')\n",
    "\n",
    "\t\t#sort particle by specific energy\n",
    "\t\tiensort = np.argsort(spec_energy)\n",
    "\t\teps = eps[iensort]\n",
    "\t\teps2 = eps2[iensort]\n",
    "\t\tspec_energy = spec_energy[iensort]\n",
    "\t\tsmass = smass[iensort]\n",
    "\t\tcosalpha = cosalpha[iensort]\n",
    "\t\tstar_age = star_age[iensort]\n",
    "\n",
    "        \tfor nn in range( nstars ):\n",
    "\t\t\tnn0 = nn - 50\n",
    "\t\t\tnn1 = nn + 50\n",
    "\n",
    "\t\t\tif nn0 < 0:\n",
    "\t\t\t\tnn1 += -nn0\n",
    "\t\t\t\tnn0 = 0\n",
    "\t\t\tif nn1 >= nstars:\n",
    "\t\t\t\tnn0 -= ( nn1 - (nstars - 1) )\n",
    "\t\t\t\tnn1 = nstars - 1\n",
    "\n",
    "\t\t\tjcmax[nn] = np.max( eps2[nn0:nn1] )\n",
    "\n",
    "        \tsmass /= smass.sum()\n",
    "\t\teps2[:] /= jcmax[:]\n",
    "\n",
    "       \t\t#compute total new (it is used for bulge disk decomposition and plotted afterwards)\n",
    "\t\tydatatot, edges = histogram( eps2, bins=100, weights=smass, range=[-1.7,1.7] )\n",
    "\t\txdatatot = 0.5 * (edges[1:] + edges[:-1])\n",
    "\n",
    "\t\tkk, = np.where( xdatatot <= 0.0 )\n",
    "\t\tpivot = np.max( kk )\n",
    "\n",
    "\t\t#such that \\int f(\\epsilon) d\\epsilon = 1\n",
    "\t\tif normalize_bins:\n",
    "\t\t\tbinwidth = edges[1:] - edges[:-1]\n",
    "\t\t\tydatatot[:] /= binwidth[:]\n",
    "\n",
    "\t\txdata = np.zeros( len ( xdatatot ) )\n",
    "\t\tydata = np.zeros( len ( ydatatot ) )\n",
    "\t\tydatad = np.zeros( len ( ydatatot ) )\n",
    "\n",
    "        \t#bulge\t\n",
    "\t\tydata[:] = ydatatot[:]\n",
    "\t\txdata[:] = xdatatot[:]\n",
    "\t\t#mirror part with negative epsilon (if that is too big keep the actual value)\n",
    "\t\tif len( ydata ) % 2 == 0: \n",
    "\t\t\tfor i in range( 0, len( ydata ) / 2 ):\n",
    "\t\t\t\tif ydata[pivot + i + 1] > ydata[pivot - i]:\n",
    "\t\t\t\t\tydata[pivot + i + 1] = ydata[pivot - i]\n",
    "\t\telse:\n",
    "\t\t\tfor i in range( 1, len( ydata ) / 2 ):\n",
    "\t\t\t\tif ydata[pivot + i] > ydata[pivot - i]:\n",
    "\t\t\t\t\tydata[pivot + i] = ydata[pivot - i]\n",
    "\n",
    "\t\tax.fill( xdata, ydata, fc='r', alpha=0.5, fill=True, lw=0, label='spheroid' )\n",
    "\n",
    "\t\t#disk\n",
    "\t\tydatad[:] = ydatatot[:]\n",
    "\t\txdata[:] = xdatatot[:]\n",
    "\t\t#substract the bulge part\n",
    "\t\tydatad[:] -= ydata[:]\n",
    "\t\tax.fill( xdata, ydatad, fc='b', alpha=0.5, fill=True, lw=0, label='disc' )\n",
    "\t\t#multiply by bin width if bin have been normalised\n",
    "\t\tif normalize_bins:\n",
    "\t\t\tbinwidth = edges[1:] - edges[:-1]\n",
    "\t\t\tydatad[:] *= binwidth[:]\n",
    "\n",
    "       \t\t#plot total new\n",
    "\t\tax.plot( xdatatot, ydatatot, 'k', label='total' )\n",
    "\n",
    "\t\t#total old\n",
    "\t\tydata, edges = histogram( eps, bins=100, weights=smass, range=[-1.7,1.7] )\n",
    "\t\txdata = 0.5 * (edges[1:] + edges[:-1])\n",
    "\n",
    "\t\t#such that \\int f(\\epsilon) d\\epsilon = 1\n",
    "\t\tif normalize_bins:\n",
    "\t\t\tbinwidth = edges[1:] - edges[:-1]\n",
    "\t\t\tydata[:] /= binwidth[:]\n",
    "\n",
    "\t\tjj, = np.where( (eps2 > 0.7) & (eps2 < 1.7) )\n",
    "\t\tkk, = np.where( (eps2 > -1.7) & (eps2 <= 0.7) )\n",
    "\t\tll, = np.where( (eps2 > -1.7) & (eps2 < 1.7) )\n",
    "\t\talt_frac = smass[jj].sum() / smass[ll].sum()\n",
    "\n",
    "\t\tage_disk = (star_age[jj] * smass[jj]).sum() / smass[jj].sum()\n",
    "\t\tage_bulge = (star_age[kk] * smass[kk]).sum() / smass[kk].sum()\n",
    "\t\theader = \"%12s%12.2f%12.2f\\n\" % (runs[d], age_disk, age_bulge)\n",
    "\t\tf.write(header)\n",
    "\n",
    "\t\tax.plot( xdata, ydata, 'gray', lw=0.7, label=\"$\\\\rm{f(\\\\epsilon_{v})}$\" )\n",
    "\n",
    "        \tax.legend( loc='upper left', frameon=False, prop={'size':5} )\n",
    "\t\tax.text( 0.06, 0.60, \"D/T = %4.2f [%4.2f]\" % (alt_frac, ydatad.sum()), size=5, transform=ax.transAxes )\n",
    "\n",
    "\t\tfigure.set_panel_title(panel=d, title=\"$\\\\rm{%s-{%s}}$\" % (runs[d].split('_')[0], runs[d].split('_')[1]), position='top right' )\n",
    "\n",
    "\tf.close()\n",
    "\t#figure.fig.savefig( '%s/epsilon_multi_age%03d.%s' % (outpath, snap, suffix) )\n"
   ]
  }
 ],
 "metadata": {
  "kernelspec": {
   "display_name": "Python 3",
   "language": "python",
   "name": "python3"
  },
  "language_info": {
   "codemirror_mode": {
    "name": "ipython",
    "version": 3
   },
   "file_extension": ".py",
   "mimetype": "text/x-python",
   "name": "python",
   "nbconvert_exporter": "python",
   "pygments_lexer": "ipython3",
   "version": "3.6.3"
  }
 },
 "nbformat": 4,
 "nbformat_minor": 2
}
