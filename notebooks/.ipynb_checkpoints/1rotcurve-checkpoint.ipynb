{
 "cells": [
  {
   "cell_type": "code",
   "execution_count": 1,
   "metadata": {
    "collapsed": true
   },
   "outputs": [],
   "source": [
    "machine = 'mac'\n",
    "machine = 'magny'"
   ]
  },
  {
   "cell_type": "code",
   "execution_count": 2,
   "metadata": {},
   "outputs": [
    {
     "name": "stdout",
     "output_type": "stream",
     "text": [
      "galpyWarning: A major change in versions > 1.1 is that all galpy.potential functions and methods take the potential as the first argument; previously methods such as evaluatePotentials, evaluateDensities, etc. would be called with (R,z,Pot), now they are called as (Pot,R,z) for greater consistency across the codebase\n"
     ]
    }
   ],
   "source": [
    "from galpy.potential import NFWPotential as NFWpot\n",
    "from galpy.potential import HernquistPotential as HEpot\n",
    "from galpy.potential import DoubleExponentialDiskPotential as DEpot\n",
    "from galpy.potential import MiyamotoNagaiPotential as MNpot\n",
    "from galpy.potential import MN3ExponentialDiskPotential as MN3pot\n",
    "from galpy.potential import MWPotential2014\n",
    "\n",
    "from galpy.potential import evaluateDensities, evaluatePotentials\n",
    "from galpy.potential import plotDensities\n",
    "from galpy.potential import plotRotcurve\n",
    "from galpy.util import bovy_conversion\n",
    "\n",
    "import numpy as np\n",
    "from scipy import optimize as opt\n",
    "\n",
    "import matplotlib.pyplot as plt\n",
    "from mpl_toolkits.axes_grid1 import make_axes_locatable\n",
    "from mpl_toolkits.mplot3d import Axes3D\n",
    "import copy\n",
    "\n",
    "from areposnap.gadget import gadget_readsnap\n",
    "from areposnap.gadget_subfind import load_subfind\n",
    "import calcGrid\n",
    "\n",
    "from auriga_basics import *\n",
    "from auriga_functions import *\n",
    "\n",
    "%matplotlib inline"
   ]
  },
  {
   "cell_type": "code",
   "execution_count": 10,
   "metadata": {},
   "outputs": [
    {
     "name": "stdout",
     "output_type": "stream",
     "text": [
      "level   : 4\n",
      "halo    : 24\n",
      "snapnr  : 127\n",
      "basedir : /hits/universe/GigaGalaxy/level4_MHD/\n",
      "halodir : /hits/universe/GigaGalaxy/level4_MHD/halo_24/\n",
      "snappath: /hits/universe/GigaGalaxy/level4_MHD/halo_24/output/\n",
      "\n",
      "[ 34.42281723  33.16259384  37.29567337]\n",
      "Found 1783163 stars.\n",
      "Rotated pos.\n",
      "Rotated bfld.\n",
      "Rotated vel.\n",
      "\n",
      "galrad  : 0.02408556640148163\n",
      "redshift: 2.220446049250313e-16\n",
      "time    : 0.9999999999999998\n",
      "center  : [ 0.  0.  0.]\n",
      "\n"
     ]
    }
   ],
   "source": [
    "#### path = /hits/universe/GigaGalaxy/level4_MHD/halo_24/output/*\n",
    "level = 4\n",
    "if machine == 'magny':\n",
    "    basedir = \"/hits/universe/GigaGalaxy/level4_MHD/\"\n",
    "elif machine == 'mac': \n",
    "    basedir = \"/Users/smilanov/Desktop/Auriga/level4/\"\n",
    "j = 0\n",
    "for halo_number in [24]:  # range(1, 31):\n",
    "    halodir = basedir+\"halo_{0}/\".format(halo_number)\n",
    "    snappath = halodir+\"output/\"\n",
    "    for snapnr in range(127,128,1):\n",
    "        print(\"level   : {0}\".format(level))\n",
    "        print(\"halo    : {0}\".format(halo_number))\n",
    "        print(\"snapnr  : {0}\".format(snapnr))\n",
    "        print(\"basedir : {0}\".format(basedir))\n",
    "        print(\"halodir : {0}\".format(halodir))\n",
    "        print(\"snappath: {0}\\n\".format(snappath))\n",
    "        s, sf = eat_snap_and_fof(level, halo_number, snapnr, snappath, loadonlytype=[0,1,2,3,4,5], \n",
    "            haloid=0, galradfac=0.1, verbose=True) \n",
    "\n",
    "        # Clean negative and zero values of gmet to avoid RuntimeErrors\n",
    "        # later on (e.g. dividing by zero)\n",
    "        s.data['gmet'] = np.maximum( s.data['gmet'], 1e-40 )\n",
    "     "
   ]
  },
  {
   "cell_type": "code",
   "execution_count": 34,
   "metadata": {},
   "outputs": [
    {
     "name": "stdout",
     "output_type": "stream",
     "text": [
      "/home/extmilan/anaconda3/lib/python3.6/site-packages/ipykernel_launcher.py:1: DeprecationWarning: PyArray_FromDims: use PyArray_SimpleNew.\n",
      "  \"\"\"Entry point for launching an IPython kernel.\n",
      "\n",
      "/home/extmilan/anaconda3/lib/python3.6/site-packages/ipykernel_launcher.py:1: DeprecationWarning: PyArray_FromDimsAndDataAndDescr: use PyArray_NewFromDescr.\n",
      "  \"\"\"Entry point for launching an IPython kernel.\n",
      "\n",
      "[  0.22408369   0.67225106   1.12041844   1.56858581   2.01675319\n",
      "   2.46492057   2.91308794   3.36125532   3.80942269   4.25759007\n",
      "   4.70575744   5.15392482   5.60209219   6.05025957   6.49842694\n",
      "   6.94659432   7.3947617    7.84292907   8.29109645   8.73926382\n",
      "   9.1874312    9.63559857  10.08376595  10.53193332  10.9801007\n",
      "  11.42826807  11.87643545  12.32460283  12.7727702   13.22093758\n",
      "  13.66910495  14.11727233  14.5654397   15.01360708  15.46177445\n",
      "  15.90994183  16.3581092   16.80627658  17.25444396  17.70261133\n",
      "  18.15077871  18.59894608  19.04711346  19.49528083  19.94344821\n",
      "  20.39161558  20.83978296  21.28795033  21.73611771  22.18428509\n",
      "  22.63245246  23.08061984  23.52878721  23.97695459  24.42512196\n",
      "  24.87328934  25.32145671  25.76962409  26.21779146  26.66595884\n",
      "  27.11412622  27.56229359  28.01046097  28.45862834  28.90679572\n",
      "  29.35496309  29.80313047  30.25129784  30.69946522  31.14763259\n",
      "  31.59579997  32.04396735  32.49213472  32.9403021   33.38846947\n",
      "  33.83663685  34.28480422  34.7329716   35.18113897  35.62930635\n",
      "  36.07747372  36.5256411   36.97380848  37.42197585  37.87014323\n",
      "  38.3183106   38.76647798  39.21464535  39.66281273  40.1109801\n",
      "  40.55914748  41.00731485  41.45548223  41.90364961  42.35181698\n",
      "  42.79998436  43.24815173  43.69631911  44.14448648  44.59265386\n",
      "  45.04082123  45.48898861  45.93715599  46.38532336  46.83349074\n",
      "  47.28165811  47.72982549  48.17799286  48.62616024  49.07432761\n",
      "  49.52249499  49.97066236  50.41882974  50.86699712  51.31516449\n",
      "  51.76333187  52.21149924  52.65966662  53.10783399  53.55600137\n",
      "  54.00416874  54.45233612  54.90050349  55.34867087  55.79683825\n",
      "  56.24500562  56.693173    57.14134037  57.58950775  58.03767512\n",
      "  58.4858425   58.93400987  59.38217725  59.83034462  60.278512\n",
      "  60.72667938  61.17484675  61.62301413  62.0711815   62.51934888\n",
      "  62.96751625  63.41568363  63.863851    64.31201838  64.76018575\n",
      "  65.20835313  65.65652051  66.10468788  66.55285526  67.00102263\n",
      "  67.44919001  67.89735738  68.34552476  68.79369213  69.24185951\n",
      "  69.69002688  70.13819426  70.58636164  71.03452901  71.48269639\n",
      "  71.93086376  72.37903114  72.82719851  73.27536589  73.72353326\n",
      "  74.17170064  74.61986801  75.06803539  75.51620277  75.96437014\n",
      "  76.41253752  76.86070489  77.30887227  77.75703964  78.20520702\n",
      "  78.65337439  79.10154177  79.54970914  79.99787652  80.4460439\n",
      "  80.89421127  81.34237865  81.79054602  82.2387134   82.68688077\n",
      "  83.13504815  83.58321552  84.0313829   84.47955028  84.92771765\n",
      "  85.37588503  85.8240524   86.27221978  86.72038715  87.16855453\n",
      "  87.6167219   88.06488928  88.51305665  88.96122403  89.40939141]\n"
     ]
    },
    {
     "data": {
      "text/plain": [
       "[<matplotlib.lines.Line2D at 0x2aabc4a42160>]"
      ]
     },
     "execution_count": 34,
     "metadata": {},
     "output_type": "execute_result"
    },
    {
     "data": {
      "image/png": "[encoded data removed]",
      "text/plain": [
       "<matplotlib.figure.Figure at 0x2aabc4e68630>"
      ]
     },
     "metadata": {},
     "output_type": "display_data"
    }
   ],
   "source": [
    "masses, radius = calcGrid.calcRadialProfile(s.pos.astype('float'), s.data['mass'].astype('float'), 0)\n",
    "print(radius)\n",
    "mass_cum = np.cumsum(masses)\n",
    "vrot = np.sqrt(43.0071 * mass_cum/ (radius)) \n",
    "plt.plot(radius, vrot, '.', label  = 'mode 0')"
   ]
  },
  {
   "cell_type": "code",
   "execution_count": 17,
   "metadata": {
    "scrolled": false
   },
   "outputs": [
    {
     "name": "stdout",
     "output_type": "stream",
     "text": [
      "/home/extmilan/anaconda3/lib/python3.6/site-packages/ipykernel_launcher.py:1: DeprecationWarning: PyArray_FromDims: use PyArray_SimpleNew.\n",
      "  \"\"\"Entry point for launching an IPython kernel.\n",
      "\n",
      "/home/extmilan/anaconda3/lib/python3.6/site-packages/ipykernel_launcher.py:1: DeprecationWarning: PyArray_FromDimsAndDataAndDescr: use PyArray_NewFromDescr.\n",
      "  \"\"\"Entry point for launching an IPython kernel.\n",
      "\n",
      "/home/extmilan/anaconda3/lib/python3.6/site-packages/ipykernel_launcher.py:5: DeprecationWarning: PyArray_FromDims: use PyArray_SimpleNew.\n",
      "  \"\"\"\n",
      "\n",
      "/home/extmilan/anaconda3/lib/python3.6/site-packages/ipykernel_launcher.py:5: DeprecationWarning: PyArray_FromDimsAndDataAndDescr: use PyArray_NewFromDescr.\n",
      "  \"\"\"\n",
      "\n",
      "/home/extmilan/anaconda3/lib/python3.6/site-packages/ipykernel_launcher.py:9: DeprecationWarning: PyArray_FromDims: use PyArray_SimpleNew.\n",
      "  if __name__ == '__main__':\n",
      "\n",
      "/home/extmilan/anaconda3/lib/python3.6/site-packages/ipykernel_launcher.py:9: DeprecationWarning: PyArray_FromDimsAndDataAndDescr: use PyArray_NewFromDescr.\n",
      "  if __name__ == '__main__':\n",
      "\n"
     ]
    },
    {
     "data": {
      "text/plain": [
       "<matplotlib.legend.Legend at 0x2aabc48c0cf8>"
      ]
     },
     "execution_count": 17,
     "metadata": {},
     "output_type": "execute_result"
    },
    {
     "data": {
      "image/png": "[encoded data removed]",
      "text/plain": [
       "<matplotlib.figure.Figure at 0x2aabc4758518>"
      ]
     },
     "metadata": {},
     "output_type": "display_data"
    }
   ],
   "source": [
    "masses, radius = calcGrid.calcRadialProfile(s.pos.astype('float'), s.data['mass'].astype('float'), 1)\n",
    "mass_cum = np.cumsum(masses)\n",
    "vrot = np.sqrt(43.0071 * mass_cum / (radius)) \n",
    "plt.plot(radius, vrot, '.', label  = 'mode 1')\n",
    "masses, radius = calcGrid.calcRadialProfile(s.pos.astype('float'), s.data['mass'].astype('float'), 2)\n",
    "mass_cum = np.cumsum(masses)\n",
    "vrot = np.sqrt(43.0071 * mass_cum / (radius)) \n",
    "plt.plot(radius, vrot, '.', label  = 'mode 2')\n",
    "masses, radius = calcGrid.calcRadialProfile(s.pos.astype('float'), s.data['mass'].astype('float'), 3)\n",
    "mass_cum = np.cumsum(masses)\n",
    "vrot = np.sqrt(43.0071 * mass_cum / (radius)) \n",
    "plt.plot(radius, vrot, '.', label  = 'mode 3')\n",
    "plt.legend()"
   ]
  },
  {
   "cell_type": "code",
   "execution_count": 35,
   "metadata": {
    "scrolled": false
   },
   "outputs": [
    {
     "name": "stdout",
     "output_type": "stream",
     "text": [
      "[       0 32115191 65572538 34028482  1440740  6214245]\n",
      "[32115191 65572538 34028482  1440740  6214245  5344649]\n",
      "/home/extmilan/anaconda3/lib/python3.6/site-packages/ipykernel_launcher.py:25: DeprecationWarning: PyArray_FromDims: use PyArray_SimpleNew.\n",
      "\n",
      "/home/extmilan/anaconda3/lib/python3.6/site-packages/ipykernel_launcher.py:25: DeprecationWarning: PyArray_FromDimsAndDataAndDescr: use PyArray_NewFromDescr.\n",
      "\n",
      "[[  0.00000000e+00   0.00000000e+00   0.00000000e+00   0.00000000e+00\n",
      "    0.00000000e+00   0.00000000e+00   0.00000000e+00   0.00000000e+00\n",
      "    0.00000000e+00   0.00000000e+00   0.00000000e+00   0.00000000e+00\n",
      "    0.00000000e+00   0.00000000e+00   0.00000000e+00   0.00000000e+00\n",
      "    0.00000000e+00   0.00000000e+00   0.00000000e+00   0.00000000e+00\n",
      "    0.00000000e+00   0.00000000e+00   0.00000000e+00   0.00000000e+00\n",
      "    0.00000000e+00   0.00000000e+00   0.00000000e+00   0.00000000e+00\n",
      "    0.00000000e+00   0.00000000e+00   0.00000000e+00   0.00000000e+00\n",
      "    0.00000000e+00   0.00000000e+00   0.00000000e+00   0.00000000e+00\n",
      "    0.00000000e+00   0.00000000e+00   0.00000000e+00   0.00000000e+00\n",
      "    0.00000000e+00   0.00000000e+00   0.00000000e+00   0.00000000e+00\n",
      "    0.00000000e+00   0.00000000e+00   0.00000000e+00   0.00000000e+00\n",
      "    0.00000000e+00   0.00000000e+00   0.00000000e+00   0.00000000e+00\n",
      "    0.00000000e+00   0.00000000e+00   0.00000000e+00   0.00000000e+00\n",
      "    0.00000000e+00   0.00000000e+00   0.00000000e+00   0.00000000e+00\n",
      "    0.00000000e+00   0.00000000e+00   0.00000000e+00   0.00000000e+00\n",
      "    0.00000000e+00   0.00000000e+00   0.00000000e+00   0.00000000e+00\n",
      "    0.00000000e+00   0.00000000e+00   0.00000000e+00   0.00000000e+00\n",
      "    0.00000000e+00   0.00000000e+00   0.00000000e+00   0.00000000e+00\n",
      "    0.00000000e+00   0.00000000e+00   0.00000000e+00   0.00000000e+00\n",
      "    0.00000000e+00   0.00000000e+00   0.00000000e+00   0.00000000e+00\n",
      "    0.00000000e+00   0.00000000e+00   0.00000000e+00   0.00000000e+00\n",
      "    0.00000000e+00   1.63760192e+01   9.95374916e+01   1.34303528e+02\n",
      "    2.60483442e+02   7.00783765e+02   6.83648779e+02   8.13343336e+02\n",
      "    8.96667365e+02   1.03498398e+03   1.04083163e+03   1.31202924e+03\n",
      "    1.68018547e+03   1.46047072e+03   2.42789055e+03   4.26206505e+03\n",
      "    2.92091076e+03   2.21473571e+03   2.33938431e+03   2.80938837e+03\n",
      "    3.79245835e+03   2.70494927e+03   3.23776439e+03   3.55279076e+03\n",
      "    3.94317441e+03   4.00791590e+03   3.90959409e+03   4.40260415e+03\n",
      "    4.41895685e+03   4.18340747e+03   4.75831651e+03   4.74621622e+03\n",
      "    5.12198842e+03   5.88379342e+03   6.87900069e+03   6.71277164e+03\n",
      "    9.01909974e+03   8.88758637e+03   8.09533086e+03   8.04176843e+03\n",
      "    8.32004071e+03   7.02617455e+03   8.26772923e+03   8.07841337e+03\n",
      "    7.63086174e+03   9.20619894e+03   9.82573760e+03   1.18932884e+04\n",
      "    1.67181848e+04   1.34139494e+04   1.32060035e+04   1.35050529e+04\n",
      "    1.73277662e+04   1.45995433e+04   1.47542517e+04   1.54321959e+04\n",
      "    1.93824965e+04   2.28395715e+04   2.16331019e+04   1.86002910e+04\n",
      "    1.76363296e+04   1.87935247e+04   2.66101145e+04   2.48023313e+04\n",
      "    2.05963671e+04   1.85349439e+04   1.89890730e+04   1.76876294e+04\n",
      "    1.72348332e+04   1.76156866e+04   2.00406013e+04   1.95993234e+04\n",
      "    1.75679600e+04   1.66359592e+04   1.73182488e+04   1.70076393e+04\n",
      "    1.67327458e+04   1.47979353e+04   1.47780700e+04   1.78899812e+04\n",
      "    2.40439900e+04   3.79609968e+04   2.83861486e+04   2.61856704e+04\n",
      "    2.37976189e+04   2.57896282e+04   3.05954783e+04   3.32412368e+04\n",
      "    3.06589030e+04   2.73751414e+04   2.46732839e+04   2.45116954e+04\n",
      "    2.42253291e+04   2.48707626e+04   2.56294684e+04   3.05735640e+04\n",
      "    3.62316444e+04   4.67603438e+04   4.88277973e+04   4.21738796e+04\n",
      "    3.39828355e+04   3.10403987e+04   2.94744680e+04   2.79640194e+04\n",
      "    2.37860122e+04   2.59955854e+04   2.29702961e+04   2.39862102e+04\n",
      "    2.65584109e+04   2.58827039e+04   3.12028952e+04   2.78973444e+04]\n",
      " [  2.25000000e-01   6.75000000e-01   1.12500000e+00   1.57500000e+00\n",
      "    2.02500000e+00   2.47500000e+00   2.92500000e+00   3.37500000e+00\n",
      "    3.82500000e+00   4.27500000e+00   4.72500000e+00   5.17500000e+00\n",
      "    5.62500000e+00   6.07500000e+00   6.52500000e+00   6.97500000e+00\n",
      "    7.42500000e+00   7.87500000e+00   8.32500000e+00   8.77500000e+00\n",
      "    9.22500000e+00   9.67500000e+00   1.01250000e+01   1.05750000e+01\n",
      "    1.10250000e+01   1.14750000e+01   1.19250000e+01   1.23750000e+01\n",
      "    1.28250000e+01   1.32750000e+01   1.37250000e+01   1.41750000e+01\n",
      "    1.46250000e+01   1.50750000e+01   1.55250000e+01   1.59750000e+01\n",
      "    1.64250000e+01   1.68750000e+01   1.73250000e+01   1.77750000e+01\n",
      "    1.82250000e+01   1.86750000e+01   1.91250000e+01   1.95750000e+01\n",
      "    2.00250000e+01   2.04750000e+01   2.09250000e+01   2.13750000e+01\n",
      "    2.18250000e+01   2.22750000e+01   2.27250000e+01   2.31750000e+01\n",
      "    2.36250000e+01   2.40750000e+01   2.45250000e+01   2.49750000e+01\n",
      "    2.54250000e+01   2.58750000e+01   2.63250000e+01   2.67750000e+01\n",
      "    2.72250000e+01   2.76750000e+01   2.81250000e+01   2.85750000e+01\n",
      "    2.90250000e+01   2.94750000e+01   2.99250000e+01   3.03750000e+01\n",
      "    3.08250000e+01   3.12750000e+01   3.17250000e+01   3.21750000e+01\n",
      "    3.26250000e+01   3.30750000e+01   3.35250000e+01   3.39750000e+01\n",
      "    3.44250000e+01   3.48750000e+01   3.53250000e+01   3.57750000e+01\n",
      "    3.62250000e+01   3.66750000e+01   3.71250000e+01   3.75750000e+01\n",
      "    3.80250000e+01   3.84750000e+01   3.89250000e+01   3.93750000e+01\n",
      "    3.98250000e+01   4.02750000e+01   4.07250000e+01   4.11750000e+01\n",
      "    4.16250000e+01   4.20750000e+01   4.25250000e+01   4.29750000e+01\n",
      "    4.34250000e+01   4.38750000e+01   4.43250000e+01   4.47750000e+01\n",
      "    4.52250000e+01   4.56750000e+01   4.61250000e+01   4.65750000e+01\n",
      "    4.70250000e+01   4.74750000e+01   4.79250000e+01   4.83750000e+01\n",
      "    4.88250000e+01   4.92750000e+01   4.97250000e+01   5.01750000e+01\n",
      "    5.06250000e+01   5.10750000e+01   5.15250000e+01   5.19750000e+01\n",
      "    5.24250000e+01   5.28750000e+01   5.33250000e+01   5.37750000e+01\n",
      "    5.42250000e+01   5.46750000e+01   5.51250000e+01   5.55750000e+01\n",
      "    5.60250000e+01   5.64750000e+01   5.69250000e+01   5.73750000e+01\n",
      "    5.78250000e+01   5.82750000e+01   5.87250000e+01   5.91750000e+01\n",
      "    5.96250000e+01   6.00750000e+01   6.05250000e+01   6.09750000e+01\n",
      "    6.14250000e+01   6.18750000e+01   6.23250000e+01   6.27750000e+01\n",
      "    6.32250000e+01   6.36750000e+01   6.41250000e+01   6.45750000e+01\n",
      "    6.50250000e+01   6.54750000e+01   6.59250000e+01   6.63750000e+01\n",
      "    6.68250000e+01   6.72750000e+01   6.77250000e+01   6.81750000e+01\n",
      "    6.86250000e+01   6.90750000e+01   6.95250000e+01   6.99750000e+01\n",
      "    7.04250000e+01   7.08750000e+01   7.13250000e+01   7.17750000e+01\n",
      "    7.22250000e+01   7.26750000e+01   7.31250000e+01   7.35750000e+01\n",
      "    7.40250000e+01   7.44750000e+01   7.49250000e+01   7.53750000e+01\n",
      "    7.58250000e+01   7.62750000e+01   7.67250000e+01   7.71750000e+01\n",
      "    7.76250000e+01   7.80750000e+01   7.85250000e+01   7.89750000e+01\n",
      "    7.94250000e+01   7.98750000e+01   8.03250000e+01   8.07750000e+01\n",
      "    8.12250000e+01   8.16750000e+01   8.21250000e+01   8.25750000e+01\n",
      "    8.30250000e+01   8.34750000e+01   8.39250000e+01   8.43750000e+01\n",
      "    8.48250000e+01   8.52750000e+01   8.57250000e+01   8.61750000e+01\n",
      "    8.66250000e+01   8.70750000e+01   8.75250000e+01   8.79750000e+01\n",
      "    8.84250000e+01   8.88750000e+01   8.93250000e+01   8.97750000e+01]]\n"
     ]
    }
   ],
   "source": [
    "# from The GigaGalaxy Project (analysis tool) / galaxy / plot_rotcurve_multi.py\n",
    "subhalo = 0\n",
    "s.center = sf.data['fpos'][subhalo,:]\n",
    "\n",
    "pos = s.data['pos'].astype('float64')\n",
    "mass = s.data['mass'].astype('float64')\n",
    "\n",
    "nshells = 200\n",
    "radius = 90\n",
    "dr = radius / nshells\n",
    "\n",
    "na = s.nparticlesall\n",
    "end = na.copy()\n",
    "end[1:] += end[:-1]\n",
    "start = np.zeros(len(na), dtype='int32')\n",
    "start[1:] = end[:-1]\n",
    "\n",
    "shmass = np.zeros( (nshells, 1) )\n",
    "shvel = np.zeros( (nshells, 1) )\n",
    "vtot = np.zeros(nshells)\n",
    "\n",
    "print(start)\n",
    "print(end)\n",
    "for i in range( 1 ):\n",
    "    rp = calcGrid.calcRadialProfile( s.pos.astype('float64'), s.data['mass'].astype('float64'), 0, nshells, dr, s.center[0], s.center[1], s.center[2] )\n",
    "    print(rp)\n",
    "    radius = rp[1,:]\n",
    "    shmass[:,i] = rp[0,:]\n",
    "    for j in range( 1, nshells ):\n",
    "        shmass[j,i] += shmass[j-1,i]\n",
    "    shvel[:,i] = np.sqrt( 43.0071 * shmass[:,i] / (radius) )\n",
    "    vtot[:] += (shvel[:,i]**2)\n",
    "\n"
   ]
  },
  {
   "cell_type": "code",
   "execution_count": 36,
   "metadata": {
    "scrolled": false
   },
   "outputs": [
    {
     "name": "stdout",
     "output_type": "stream",
     "text": [
      "[[  0.00000000e+00   0.00000000e+00   0.00000000e+00   0.00000000e+00\n",
      "    0.00000000e+00   0.00000000e+00   0.00000000e+00   0.00000000e+00\n",
      "    0.00000000e+00   0.00000000e+00   0.00000000e+00   0.00000000e+00\n",
      "    0.00000000e+00   0.00000000e+00   0.00000000e+00   0.00000000e+00\n",
      "    0.00000000e+00   0.00000000e+00   0.00000000e+00   0.00000000e+00\n",
      "    0.00000000e+00   0.00000000e+00   0.00000000e+00   0.00000000e+00\n",
      "    0.00000000e+00   0.00000000e+00   0.00000000e+00   0.00000000e+00\n",
      "    0.00000000e+00   0.00000000e+00   0.00000000e+00   0.00000000e+00\n",
      "    0.00000000e+00   0.00000000e+00   0.00000000e+00   0.00000000e+00\n",
      "    0.00000000e+00   0.00000000e+00   0.00000000e+00   0.00000000e+00\n",
      "    0.00000000e+00   0.00000000e+00   0.00000000e+00   0.00000000e+00\n",
      "    0.00000000e+00   0.00000000e+00   0.00000000e+00   0.00000000e+00\n",
      "    0.00000000e+00   0.00000000e+00   0.00000000e+00   0.00000000e+00\n",
      "    0.00000000e+00   0.00000000e+00   0.00000000e+00   0.00000000e+00\n",
      "    0.00000000e+00   0.00000000e+00   0.00000000e+00   0.00000000e+00\n",
      "    0.00000000e+00   0.00000000e+00   0.00000000e+00   0.00000000e+00\n",
      "    0.00000000e+00   0.00000000e+00   0.00000000e+00   0.00000000e+00\n",
      "    0.00000000e+00   0.00000000e+00   0.00000000e+00   0.00000000e+00\n",
      "    0.00000000e+00   0.00000000e+00   0.00000000e+00   0.00000000e+00\n",
      "    0.00000000e+00   0.00000000e+00   0.00000000e+00   0.00000000e+00\n",
      "    0.00000000e+00   0.00000000e+00   0.00000000e+00   0.00000000e+00\n",
      "    0.00000000e+00   0.00000000e+00   0.00000000e+00   0.00000000e+00\n",
      "    0.00000000e+00   1.63760192e+01   9.95374916e+01   1.34303528e+02\n",
      "    2.60483442e+02   7.00783765e+02   6.83648779e+02   8.13343336e+02\n",
      "    8.96667365e+02   1.03498398e+03   1.04083163e+03   1.31202924e+03\n",
      "    1.68018547e+03   1.46047072e+03   2.42789055e+03   4.26206505e+03\n",
      "    2.92091076e+03   2.21473571e+03   2.33938431e+03   2.80938837e+03\n",
      "    3.79245835e+03   2.70494927e+03   3.23776439e+03   3.55279076e+03\n",
      "    3.94317441e+03   4.00791590e+03   3.90959409e+03   4.40260415e+03\n",
      "    4.41895685e+03   4.18340747e+03   4.75831651e+03   4.74621622e+03\n",
      "    5.12198842e+03   5.88379342e+03   6.87900069e+03   6.71277164e+03\n",
      "    9.01909974e+03   8.88758637e+03   8.09533086e+03   8.04176843e+03\n",
      "    8.32004071e+03   7.02617455e+03   8.26772923e+03   8.07841337e+03\n",
      "    7.63086174e+03   9.20619894e+03   9.82573760e+03   1.18932884e+04\n",
      "    1.67181848e+04   1.34139494e+04   1.32060035e+04   1.35050529e+04\n",
      "    1.73277662e+04   1.45995433e+04   1.47542517e+04   1.54321959e+04\n",
      "    1.93824965e+04   2.28395715e+04   2.16331019e+04   1.86002910e+04\n",
      "    1.76363296e+04   1.87935247e+04   2.66101145e+04   2.48023313e+04\n",
      "    2.05963671e+04   1.85349439e+04   1.89890730e+04   1.76876294e+04\n",
      "    1.72348332e+04   1.76156866e+04   2.00406013e+04   1.95993234e+04\n",
      "    1.75679600e+04   1.66359592e+04   1.73182488e+04   1.70076393e+04\n",
      "    1.67327458e+04   1.47979353e+04   1.47780700e+04   1.78899812e+04\n",
      "    2.40439900e+04   3.79609968e+04   2.83861486e+04   2.61856704e+04\n",
      "    2.37976189e+04   2.57896282e+04   3.05954783e+04   3.32412368e+04\n",
      "    3.06589030e+04   2.73751414e+04   2.46732839e+04   2.45116954e+04\n",
      "    2.42253291e+04   2.48707626e+04   2.56294684e+04   3.05735640e+04\n",
      "    3.62316444e+04   4.67603438e+04   4.88277973e+04   4.21738796e+04\n",
      "    3.39828355e+04   3.10403987e+04   2.94744680e+04   2.79640194e+04\n",
      "    2.37860122e+04   2.59955854e+04   2.29702961e+04   2.39862102e+04\n",
      "    2.65584109e+04   2.58827039e+04   3.12028952e+04   2.78973444e+04]\n",
      " [  2.25000000e-01   6.75000000e-01   1.12500000e+00   1.57500000e+00\n",
      "    2.02500000e+00   2.47500000e+00   2.92500000e+00   3.37500000e+00\n",
      "    3.82500000e+00   4.27500000e+00   4.72500000e+00   5.17500000e+00\n",
      "    5.62500000e+00   6.07500000e+00   6.52500000e+00   6.97500000e+00\n",
      "    7.42500000e+00   7.87500000e+00   8.32500000e+00   8.77500000e+00\n",
      "    9.22500000e+00   9.67500000e+00   1.01250000e+01   1.05750000e+01\n",
      "    1.10250000e+01   1.14750000e+01   1.19250000e+01   1.23750000e+01\n",
      "    1.28250000e+01   1.32750000e+01   1.37250000e+01   1.41750000e+01\n",
      "    1.46250000e+01   1.50750000e+01   1.55250000e+01   1.59750000e+01\n",
      "    1.64250000e+01   1.68750000e+01   1.73250000e+01   1.77750000e+01\n",
      "    1.82250000e+01   1.86750000e+01   1.91250000e+01   1.95750000e+01\n",
      "    2.00250000e+01   2.04750000e+01   2.09250000e+01   2.13750000e+01\n",
      "    2.18250000e+01   2.22750000e+01   2.27250000e+01   2.31750000e+01\n",
      "    2.36250000e+01   2.40750000e+01   2.45250000e+01   2.49750000e+01\n",
      "    2.54250000e+01   2.58750000e+01   2.63250000e+01   2.67750000e+01\n",
      "    2.72250000e+01   2.76750000e+01   2.81250000e+01   2.85750000e+01\n",
      "    2.90250000e+01   2.94750000e+01   2.99250000e+01   3.03750000e+01\n",
      "    3.08250000e+01   3.12750000e+01   3.17250000e+01   3.21750000e+01\n",
      "    3.26250000e+01   3.30750000e+01   3.35250000e+01   3.39750000e+01\n",
      "    3.44250000e+01   3.48750000e+01   3.53250000e+01   3.57750000e+01\n",
      "    3.62250000e+01   3.66750000e+01   3.71250000e+01   3.75750000e+01\n",
      "    3.80250000e+01   3.84750000e+01   3.89250000e+01   3.93750000e+01\n",
      "    3.98250000e+01   4.02750000e+01   4.07250000e+01   4.11750000e+01\n",
      "    4.16250000e+01   4.20750000e+01   4.25250000e+01   4.29750000e+01\n",
      "    4.34250000e+01   4.38750000e+01   4.43250000e+01   4.47750000e+01\n",
      "    4.52250000e+01   4.56750000e+01   4.61250000e+01   4.65750000e+01\n",
      "    4.70250000e+01   4.74750000e+01   4.79250000e+01   4.83750000e+01\n",
      "    4.88250000e+01   4.92750000e+01   4.97250000e+01   5.01750000e+01\n",
      "    5.06250000e+01   5.10750000e+01   5.15250000e+01   5.19750000e+01\n",
      "    5.24250000e+01   5.28750000e+01   5.33250000e+01   5.37750000e+01\n",
      "    5.42250000e+01   5.46750000e+01   5.51250000e+01   5.55750000e+01\n",
      "    5.60250000e+01   5.64750000e+01   5.69250000e+01   5.73750000e+01\n",
      "    5.78250000e+01   5.82750000e+01   5.87250000e+01   5.91750000e+01\n",
      "    5.96250000e+01   6.00750000e+01   6.05250000e+01   6.09750000e+01\n",
      "    6.14250000e+01   6.18750000e+01   6.23250000e+01   6.27750000e+01\n",
      "    6.32250000e+01   6.36750000e+01   6.41250000e+01   6.45750000e+01\n",
      "    6.50250000e+01   6.54750000e+01   6.59250000e+01   6.63750000e+01\n",
      "    6.68250000e+01   6.72750000e+01   6.77250000e+01   6.81750000e+01\n",
      "    6.86250000e+01   6.90750000e+01   6.95250000e+01   6.99750000e+01\n",
      "    7.04250000e+01   7.08750000e+01   7.13250000e+01   7.17750000e+01\n",
      "    7.22250000e+01   7.26750000e+01   7.31250000e+01   7.35750000e+01\n",
      "    7.40250000e+01   7.44750000e+01   7.49250000e+01   7.53750000e+01\n",
      "    7.58250000e+01   7.62750000e+01   7.67250000e+01   7.71750000e+01\n",
      "    7.76250000e+01   7.80750000e+01   7.85250000e+01   7.89750000e+01\n",
      "    7.94250000e+01   7.98750000e+01   8.03250000e+01   8.07750000e+01\n",
      "    8.12250000e+01   8.16750000e+01   8.21250000e+01   8.25750000e+01\n",
      "    8.30250000e+01   8.34750000e+01   8.39250000e+01   8.43750000e+01\n",
      "    8.48250000e+01   8.52750000e+01   8.57250000e+01   8.61750000e+01\n",
      "    8.66250000e+01   8.70750000e+01   8.75250000e+01   8.79750000e+01\n",
      "    8.84250000e+01   8.88750000e+01   8.93250000e+01   8.97750000e+01]]\n"
     ]
    },
    {
     "data": {
      "text/plain": [
       "[<matplotlib.lines.Line2D at 0x2aabc4c69710>]"
      ]
     },
     "execution_count": 36,
     "metadata": {},
     "output_type": "execute_result"
    },
    {
     "data": {
      "image/png": "[encoded data removed]",
      "text/plain": [
       "<matplotlib.figure.Figure at 0x2aabc4b75be0>"
      ]
     },
     "metadata": {},
     "output_type": "display_data"
    }
   ],
   "source": [
    "print(rp)\n",
    "plt.plot(radius, vtot, '.')\n"
   ]
  },
  {
   "cell_type": "code",
   "execution_count": 5,
   "metadata": {},
   "outputs": [
    {
     "name": "stdout",
     "output_type": "stream",
     "text": [
      "/home/extmilan/anaconda3/lib/python3.6/site-packages/ipykernel_launcher.py:1: DeprecationWarning: PyArray_FromDims: use PyArray_SimpleNew.\n",
      "  \"\"\"Entry point for launching an IPython kernel.\n",
      "\n",
      "/home/extmilan/anaconda3/lib/python3.6/site-packages/ipykernel_launcher.py:1: DeprecationWarning: PyArray_FromDimsAndDataAndDescr: use PyArray_NewFromDescr.\n",
      "  \"\"\"Entry point for launching an IPython kernel.\n",
      "\n"
     ]
    }
   ],
   "source": [
    "test = calcGrid.calcRadialProfile( s.pos.astype('float64'), s.data['mass'].astype('float64'))"
   ]
  },
  {
   "cell_type": "code",
   "execution_count": 6,
   "metadata": {
    "scrolled": false
   },
   "outputs": [
    {
     "name": "stdout",
     "output_type": "stream",
     "text": [
      "[[  5.61174309e+02   6.02928546e+02   6.13953792e+02   6.21332329e+02\n",
      "    6.26478482e+02   6.30170358e+02   6.32823555e+02   6.36079611e+02\n",
      "    6.37990547e+02   6.39114241e+02   6.40293418e+02   6.41166445e+02\n",
      "    6.41711674e+02   6.42256789e+02   6.42758221e+02   6.43231278e+02\n",
      "    6.44018217e+02   6.44736884e+02   6.45364106e+02   6.46185945e+02\n",
      "    6.46841194e+02   6.47642269e+02   6.48212676e+02   6.48744658e+02\n",
      "    6.49312723e+02   6.49984507e+02   6.50694133e+02   6.52309378e+02\n",
      "    6.54879048e+02   6.55790089e+02   6.56499521e+02   6.57308911e+02\n",
      "    6.58173332e+02   6.58879926e+02   6.59645388e+02   6.60244342e+02\n",
      "    6.60817406e+02   6.61302291e+02   6.61916359e+02   6.62726540e+02\n",
      "    6.63447657e+02   6.63948452e+02   6.64411222e+02   6.65004400e+02\n",
      "    6.65565960e+02   6.66308595e+02   6.67112380e+02   6.67637402e+02\n",
      "    6.68195855e+02   6.68704581e+02   6.69392236e+02   6.69996964e+02\n",
      "    6.70840357e+02   6.71555940e+02   6.72224089e+02   6.72827987e+02\n",
      "    6.73405291e+02   6.73997812e+02   6.74586333e+02   6.75312941e+02\n",
      "    6.76090818e+02   6.76742544e+02   6.77410107e+02   6.78121770e+02\n",
      "    6.78759513e+02   6.79423666e+02   6.80134617e+02   6.80798271e+02\n",
      "    6.81462628e+02   6.82469265e+02   6.83290665e+02   6.84069016e+02\n",
      "    6.84861389e+02   6.85704122e+02   6.86516175e+02   6.87264043e+02\n",
      "    6.87933955e+02   6.88507469e+02   6.89041643e+02   6.89574260e+02\n",
      "    6.90083729e+02   6.90565330e+02   6.91011368e+02   6.91429814e+02\n",
      "    6.91847522e+02   6.92296196e+02   6.92790786e+02   6.93291879e+02\n",
      "    6.93758458e+02   6.94206124e+02   6.94701684e+02   6.95254178e+02\n",
      "    6.95890732e+02   6.96509097e+02   6.97028650e+02   6.97508796e+02\n",
      "    6.97981127e+02   6.98447724e+02   6.98917619e+02   6.99430258e+02\n",
      "    6.99967886e+02   7.00447771e+02   7.00922942e+02   7.01390846e+02\n",
      "    7.01885447e+02   7.02392230e+02   7.02894205e+02   7.03399114e+02\n",
      "    7.03884869e+02   7.04351189e+02   7.04826276e+02   7.05339239e+02\n",
      "    7.05916838e+02   7.06443594e+02   7.06908608e+02   7.07356259e+02\n",
      "    7.07790181e+02   7.08230862e+02   7.08660539e+02   7.09067474e+02\n",
      "    7.09471508e+02   7.09858886e+02   7.10241839e+02   7.10608165e+02\n",
      "    7.10972434e+02   7.11333419e+02   7.11684999e+02   7.12046737e+02\n",
      "    7.12411210e+02   7.12773891e+02   7.13100854e+02   7.13407901e+02\n",
      "    7.13735488e+02   7.14067357e+02   7.14327757e+02   7.14569327e+02\n",
      "    7.14796153e+02   7.15015796e+02   7.15225193e+02   7.15420123e+02\n",
      "    7.15609568e+02   7.15789938e+02   7.15964312e+02   7.16137447e+02\n",
      "    7.16299512e+02   7.16454200e+02   7.16610164e+02   7.16766988e+02\n",
      "    7.16924752e+02   7.17069503e+02   7.17204607e+02   7.17334024e+02\n",
      "    7.17460932e+02   7.17598292e+02   7.17732622e+02   7.17860375e+02\n",
      "    7.17987132e+02   7.18101670e+02   7.18217370e+02   7.18336165e+02\n",
      "    7.18463951e+02   7.18586145e+02   7.18720310e+02   7.18867731e+02\n",
      "    7.18994547e+02   7.19103094e+02   7.19237772e+02   7.19362894e+02\n",
      "    7.19465861e+02   7.19558662e+02   7.19665396e+02   7.19758741e+02\n",
      "    7.19808621e+02   7.19841295e+02   7.19865704e+02   7.19885622e+02\n",
      "    7.19907040e+02   7.19925621e+02   7.19942941e+02   7.19960404e+02\n",
      "    7.19976269e+02   7.19990128e+02   7.20003730e+02   7.20017802e+02\n",
      "    7.20033012e+02   7.20048234e+02   7.20060132e+02   7.20071064e+02\n",
      "    7.20081607e+02   7.20093070e+02   7.20107319e+02   7.20129405e+02\n",
      "    7.20168898e+02   7.20195328e+02   7.20207586e+02   7.20214607e+02\n",
      "    7.20217766e+02   7.20219266e+02   7.20219585e+02   7.20219763e+02]\n",
      " [  2.24045011e-01   6.72135034e-01   1.12022506e+00   1.56831508e+00\n",
      "    2.01640510e+00   2.46449513e+00   2.91258515e+00   3.36067517e+00\n",
      "    3.80876519e+00   4.25685522e+00   4.70494524e+00   5.15303526e+00\n",
      "    5.60112529e+00   6.04921531e+00   6.49730533e+00   6.94539535e+00\n",
      "    7.39348538e+00   7.84157540e+00   8.28966542e+00   8.73775545e+00\n",
      "    9.18584547e+00   9.63393549e+00   1.00820255e+01   1.05301155e+01\n",
      "    1.09782056e+01   1.14262956e+01   1.18743856e+01   1.23224756e+01\n",
      "    1.27705657e+01   1.32186557e+01   1.36667457e+01   1.41148357e+01\n",
      "    1.45629257e+01   1.50110158e+01   1.54591058e+01   1.59071958e+01\n",
      "    1.63552858e+01   1.68033759e+01   1.72514659e+01   1.76995559e+01\n",
      "    1.81476459e+01   1.85957359e+01   1.90438260e+01   1.94919160e+01\n",
      "    1.99400060e+01   2.03880960e+01   2.08361861e+01   2.12842761e+01\n",
      "    2.17323661e+01   2.21804561e+01   2.26285462e+01   2.30766362e+01\n",
      "    2.35247262e+01   2.39728162e+01   2.44209062e+01   2.48689963e+01\n",
      "    2.53170863e+01   2.57651763e+01   2.62132663e+01   2.66613564e+01\n",
      "    2.71094464e+01   2.75575364e+01   2.80056264e+01   2.84537165e+01\n",
      "    2.89018065e+01   2.93498965e+01   2.97979865e+01   3.02460765e+01\n",
      "    3.06941666e+01   3.11422566e+01   3.15903466e+01   3.20384366e+01\n",
      "    3.24865267e+01   3.29346167e+01   3.33827067e+01   3.38307967e+01\n",
      "    3.42788868e+01   3.47269768e+01   3.51750668e+01   3.56231568e+01\n",
      "    3.60712468e+01   3.65193369e+01   3.69674269e+01   3.74155169e+01\n",
      "    3.78636069e+01   3.83116970e+01   3.87597870e+01   3.92078770e+01\n",
      "    3.96559670e+01   4.01040570e+01   4.05521471e+01   4.10002371e+01\n",
      "    4.14483271e+01   4.18964171e+01   4.23445072e+01   4.27925972e+01\n",
      "    4.32406872e+01   4.36887772e+01   4.41368673e+01   4.45849573e+01\n",
      "    4.50330473e+01   4.54811373e+01   4.59292273e+01   4.63773174e+01\n",
      "    4.68254074e+01   4.72734974e+01   4.77215874e+01   4.81696775e+01\n",
      "    4.86177675e+01   4.90658575e+01   4.95139475e+01   4.99620376e+01\n",
      "    5.04101276e+01   5.08582176e+01   5.13063076e+01   5.17543976e+01\n",
      "    5.22024877e+01   5.26505777e+01   5.30986677e+01   5.35467577e+01\n",
      "    5.39948478e+01   5.44429378e+01   5.48910278e+01   5.53391178e+01\n",
      "    5.57872078e+01   5.62352979e+01   5.66833879e+01   5.71314779e+01\n",
      "    5.75795679e+01   5.80276580e+01   5.84757480e+01   5.89238380e+01\n",
      "    5.93719280e+01   5.98200181e+01   6.02681081e+01   6.07161981e+01\n",
      "    6.11642881e+01   6.16123781e+01   6.20604682e+01   6.25085582e+01\n",
      "    6.29566482e+01   6.34047382e+01   6.38528283e+01   6.43009183e+01\n",
      "    6.47490083e+01   6.51970983e+01   6.56451884e+01   6.60932784e+01\n",
      "    6.65413684e+01   6.69894584e+01   6.74375484e+01   6.78856385e+01\n",
      "    6.83337285e+01   6.87818185e+01   6.92299085e+01   6.96779986e+01\n",
      "    7.01260886e+01   7.05741786e+01   7.10222686e+01   7.14703586e+01\n",
      "    7.19184487e+01   7.23665387e+01   7.28146287e+01   7.32627187e+01\n",
      "    7.37108088e+01   7.41588988e+01   7.46069888e+01   7.50550788e+01\n",
      "    7.55031689e+01   7.59512589e+01   7.63993489e+01   7.68474389e+01\n",
      "    7.72955289e+01   7.77436190e+01   7.81917090e+01   7.86397990e+01\n",
      "    7.90878890e+01   7.95359791e+01   7.99840691e+01   8.04321591e+01\n",
      "    8.08802491e+01   8.13283392e+01   8.17764292e+01   8.22245192e+01\n",
      "    8.26726092e+01   8.31206992e+01   8.35687893e+01   8.40168793e+01\n",
      "    8.44649693e+01   8.49130593e+01   8.53611494e+01   8.58092394e+01\n",
      "    8.62573294e+01   8.67054194e+01   8.71535095e+01   8.76015995e+01\n",
      "    8.80496895e+01   8.84977795e+01   8.89458695e+01   8.93939596e+01]] [ 328.20963811  196.41503835  153.52718288  130.53152017  115.59372651\n",
      "  104.86609187   96.66562916   90.22202033   84.87603854   80.35536663\n",
      "   76.50367743   73.15161442   70.19439026   67.57326595   65.2269785\n",
      "   63.11101579   61.20607729   59.46476074   57.86340438   56.39607645\n",
      "   55.03124608   53.76947613   52.58416029   51.47429515   50.43492236\n",
      "   49.46167901   48.54594403   47.71422857   46.9618893    46.19115894\n",
      "   45.45218119   44.75246127   44.08754363   43.44783865   42.83839195\n",
      "   42.24989267   41.68518631   41.14071377   40.62175055   40.12879106\n",
      "   39.6518325    39.18596762   38.73570432   38.30496529   37.88811405\n",
      "   37.49034627   37.10739488   36.72915753   36.36373311   36.0082481\n",
      "   35.66827354   35.33623263   35.02009996   34.70976304   34.40695399\n",
      "   34.11088403   33.82217097   33.54152183   33.26812147   33.00513365\n",
      "   32.75007313   32.49837339   32.25323417   32.0150676    31.78085301\n",
      "   31.55274354   31.33098579   31.11320697   30.90033434   30.69987371\n",
      "   30.49970421   30.30291318   30.1106257    29.92348371   29.73957056\n",
      "   29.55804988   29.37853245   29.20054244   29.02520854   28.85322744\n",
      "   28.68404506   28.51747197   28.35326417   28.19150464   28.03265827\n",
      "   27.87727745   27.72556723   27.5766478    27.4296302    27.28476043\n",
      "   27.1432801    27.0052809    26.87120252   26.73899213   26.60705777\n",
      "   26.47650164   26.3478769    26.2211713    26.09650342   25.97455466\n",
      "   25.85493612   25.73607421   25.61890995   25.50335488   25.38998335\n",
      "   25.27848614   25.16851661   25.06017612   24.9530357    24.84706001\n",
      "   24.74271464   24.64047248   24.54075681   24.4415226    24.34256475\n",
      "   24.24462944   24.1477542    24.05226238   23.95782522   23.86422151\n",
      "   23.77176336   23.68019721   23.58970577   23.50006481   23.41149502\n",
      "   23.32395451   23.2373225    23.15189799   23.06753832   22.98415013\n",
      "   22.90116969   22.81883791   22.73778463   22.65773012   22.57745904\n",
      "   22.49779628   22.41879263   22.34055261   22.2630139    22.18609736\n",
      "   22.10992908   22.03443997   21.95966434   21.8856618    21.81226907\n",
      "   21.73953059   21.66756518   21.59635361   21.52588437   21.45593635\n",
      "   21.38654982   21.31777338   21.24964354   21.18234078   21.11565431\n",
      "   21.04952191   20.98401567   20.91896204   20.85454702   20.7907887\n",
      "   20.72776208   20.66524691   20.60348655   20.54248877   20.48176079\n",
      "   20.42132994   20.36181874   20.30271194   20.24382551   20.18532256\n",
      "   20.12753364   20.07006847   20.01250321   19.95519984   19.89827681\n",
      "   19.84178009   19.78578556   19.73022685   19.67511915   19.62047521\n",
      "   19.56626496   19.51247674   19.45912828   19.40622333   19.3537649\n",
      "   19.30173196   19.25007417   19.19881775   19.14796496   19.0975278\n",
      "   19.04752556   18.99801934   18.94912917   18.9004484    18.85195894\n",
      "   18.80377406   18.75590741   18.70838333   18.66120357   18.61437717]\n"
     ]
    }
   ],
   "source": [
    "G = 43.0071 # in Mpc / (10^10 M_sun) * (km/s)^2\n",
    "radius = test[1,:]\n",
    "shmass = test[0,:]\n",
    "for j in range( len(test[0]) ):\n",
    "    shmass[j] += shmass[j-1]\n",
    "vtot = np.sqrt(43.0071 * shmass / (radius)) \n",
    "print(test, vtot)"
   ]
  },
  {
   "cell_type": "code",
   "execution_count": 7,
   "metadata": {},
   "outputs": [
    {
     "data": {
      "text/plain": [
       "[<matplotlib.lines.Line2D at 0x2aadf1cf70f0>]"
      ]
     },
     "execution_count": 7,
     "metadata": {},
     "output_type": "execute_result"
    },
    {
     "data": {
      "image/png": "[encoded data removed]",
      "text/plain": [
       "<matplotlib.figure.Figure at 0x2aadf1b1f7b8>"
      ]
     },
     "metadata": {},
     "output_type": "display_data"
    }
   ],
   "source": [
    "plt.plot(test[1,:], vtot, '.')\n",
    "#plt.xlim(0,80)"
   ]
  },
  {
   "cell_type": "code",
   "execution_count": 21,
   "metadata": {},
   "outputs": [
    {
     "name": "stdout",
     "output_type": "stream",
     "text": [
      "/home/extmilan/anaconda3/lib/python3.6/site-packages/ipykernel_launcher.py:22: DeprecationWarning: PyArray_FromDims: use PyArray_SimpleNew.\n",
      "\n",
      "/home/extmilan/anaconda3/lib/python3.6/site-packages/ipykernel_launcher.py:22: DeprecationWarning: PyArray_FromDimsAndDataAndDescr: use PyArray_NewFromDescr.\n",
      "\n"
     ]
    }
   ],
   "source": [
    "# find circular velocity in outskirts\n",
    "# from The GigaGalaxy Project (analysis tool) / galaxy / plot_rotcurve_multi.py\n",
    "s.center = sf.data['fpos'][subhalo,:]\n",
    "\n",
    "pos = s.data['pos'].astype('float64')\n",
    "mass = s.data['mass'].astype('float64')\n",
    "\n",
    "nshells = 100\n",
    "radius = 0.04\n",
    "dr = radius / nshells\n",
    "\n",
    "na = s.nparticlesall\n",
    "end = na.copy()\n",
    "end[1:] += end[:-1]\n",
    "start = np.zeros(len(na), dtype='int32')\n",
    "start[1:] = end[:-1]\n",
    "\n",
    "shmass = np.zeros( (nshells, 6) )\n",
    "shvel = np.zeros( (nshells, 6) )\n",
    "vtot = np.zeros(nshells)\n",
    "for i in range( 6 ):\n",
    "    rp = calcGrid.calcRadialProfile( s.pos[start[i]:end[i],:].astype('float64'), s.data['mass'][start[i]:end[i]].astype('float64'), 0, nshells, dr, s.center[0], s.center[1], s.center[2] )\n",
    "\n",
    "    radius = rp[1,:]\n",
    "    shmass[:,i] = rp[0,:]\n",
    "    for j in range( 1, nshells ):\n",
    "        shmass[j,i] += shmass[j-1,i]\n",
    "    shvel[:,i] = np.sqrt( 43.0071 * shmass[:,i] / (radius) )\n",
    "    vtot[:] += (shvel[:,i]**2)\n",
    "\n"
   ]
  },
  {
   "cell_type": "code",
   "execution_count": 22,
   "metadata": {},
   "outputs": [
    {
     "name": "stdout",
     "output_type": "stream",
     "text": [
      "[ 0.  0.  0.  0.  0.  0.  0.  0.  0.  0.  0.  0.  0.  0.  0.  0.  0.  0.\n",
      "  0.  0.  0.  0.  0.  0.  0.  0.  0.  0.  0.  0.  0.  0.  0.  0.  0.  0.\n",
      "  0.  0.  0.  0.  0.  0.  0.  0.  0.  0.  0.  0.  0.  0.  0.  0.  0.  0.\n",
      "  0.  0.  0.  0.  0.  0.  0.  0.  0.  0.  0.  0.  0.  0.  0.  0.  0.  0.\n",
      "  0.  0.  0.  0.  0.  0.  0.  0.  0.  0.  0.  0.  0.  0.  0.  0.  0.  0.\n",
      "  0.  0.  0.  0.  0.  0.  0.  0.  0.  0.]\n"
     ]
    }
   ],
   "source": [
    "print(vtot)"
   ]
  },
  {
   "cell_type": "code",
   "execution_count": 23,
   "metadata": {},
   "outputs": [
    {
     "name": "stdout",
     "output_type": "stream",
     "text": [
      "[[ 0.      0.      0.      0.      0.      0.      0.      0.      0.      0.\n",
      "   0.      0.      0.      0.      0.      0.      0.      0.      0.      0.\n",
      "   0.      0.      0.      0.      0.      0.      0.      0.      0.      0.\n",
      "   0.      0.      0.      0.      0.      0.      0.      0.      0.      0.\n",
      "   0.      0.      0.      0.      0.      0.      0.      0.      0.      0.\n",
      "   0.      0.      0.      0.      0.      0.      0.      0.      0.      0.\n",
      "   0.      0.      0.      0.      0.      0.      0.      0.      0.      0.\n",
      "   0.      0.      0.      0.      0.      0.      0.      0.      0.      0.\n",
      "   0.      0.      0.      0.      0.      0.      0.      0.      0.      0.\n",
      "   0.      0.      0.      0.      0.      0.      0.      0.      0.      0.    ]\n",
      " [ 0.0002  0.0006  0.001   0.0014  0.0018  0.0022  0.0026  0.003   0.0034\n",
      "   0.0038  0.0042  0.0046  0.005   0.0054  0.0058  0.0062  0.0066  0.007\n",
      "   0.0074  0.0078  0.0082  0.0086  0.009   0.0094  0.0098  0.0102  0.0106\n",
      "   0.011   0.0114  0.0118  0.0122  0.0126  0.013   0.0134  0.0138  0.0142\n",
      "   0.0146  0.015   0.0154  0.0158  0.0162  0.0166  0.017   0.0174  0.0178\n",
      "   0.0182  0.0186  0.019   0.0194  0.0198  0.0202  0.0206  0.021   0.0214\n",
      "   0.0218  0.0222  0.0226  0.023   0.0234  0.0238  0.0242  0.0246  0.025\n",
      "   0.0254  0.0258  0.0262  0.0266  0.027   0.0274  0.0278  0.0282  0.0286\n",
      "   0.029   0.0294  0.0298  0.0302  0.0306  0.031   0.0314  0.0318  0.0322\n",
      "   0.0326  0.033   0.0334  0.0338  0.0342  0.0346  0.035   0.0354  0.0358\n",
      "   0.0362  0.0366  0.037   0.0374  0.0378  0.0382  0.0386  0.039   0.0394\n",
      "   0.0398]]\n"
     ]
    }
   ],
   "source": [
    "print(rp)"
   ]
  },
  {
   "cell_type": "code",
   "execution_count": 26,
   "metadata": {},
   "outputs": [
    {
     "ename": "TypeError",
     "evalue": "calcRadialProfile( pos, data, mode, nshells, dr, centerx, centery, centerz )() takes at least 2 arguments (0 given)",
     "output_type": "error",
     "traceback": [
      "\u001b[0;31m---------------------------------------------------------------------------\u001b[0m",
      "\u001b[0;31mTypeError\u001b[0m                                 Traceback (most recent call last)",
      "\u001b[0;32m<ipython-input-26-7d6d35b0cd8a>\u001b[0m in \u001b[0;36m<module>\u001b[0;34m()\u001b[0m\n\u001b[0;32m----> 1\u001b[0;31m \u001b[0mcalcGrid\u001b[0m\u001b[0;34m.\u001b[0m\u001b[0mcalcRadialProfile\u001b[0m\u001b[0;34m(\u001b[0m\u001b[0;34m)\u001b[0m\u001b[0;34m\u001b[0m\u001b[0m\n\u001b[0m",
      "\u001b[0;31mTypeError\u001b[0m: calcRadialProfile( pos, data, mode, nshells, dr, centerx, centery, centerz )() takes at least 2 arguments (0 given)"
     ]
    }
   ],
   "source": [
    "calcGrid.calcRadialProfile()"
   ]
  },
  {
   "cell_type": "code",
   "execution_count": null,
   "metadata": {
    "collapsed": true
   },
   "outputs": [],
   "source": []
  }
 ],
 "metadata": {
  "kernelspec": {
   "display_name": "Python 3",
   "language": "python",
   "name": "python3"
  },
  "language_info": {
   "codemirror_mode": {
    "name": "ipython",
    "version": 3
   },
   "file_extension": ".py",
   "mimetype": "text/x-python",
   "name": "python",
   "nbconvert_exporter": "python",
   "pygments_lexer": "ipython3",
   "version": "3.6.3"
  }
 },
 "nbformat": 4,
 "nbformat_minor": 2
}
