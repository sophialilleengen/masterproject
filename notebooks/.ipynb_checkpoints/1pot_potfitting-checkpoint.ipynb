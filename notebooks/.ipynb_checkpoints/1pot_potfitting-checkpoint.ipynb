{
 "cells": [
  {
   "cell_type": "code",
   "execution_count": 1,
   "metadata": {
    "collapsed": true
   },
   "outputs": [],
   "source": [
    "machine = 'mac'\n",
    "#machine = 'magny'"
   ]
  },
  {
   "cell_type": "code",
   "execution_count": 2,
   "metadata": {},
   "outputs": [
    {
     "name": "stdout",
     "output_type": "stream",
     "text": [
      "galpyWarning: A major change in versions > 1.1 is that all galpy.potential functions and methods take the potential as the first argument; previously methods such as evaluatePotentials, evaluateDensities, etc. would be called with (R,z,Pot), now they are called as (Pot,R,z) for greater consistency across the codebase\n"
     ]
    }
   ],
   "source": [
    "from galpy.potential import NFWPotential as NFWpot\n",
    "from galpy.potential import HernquistPotential as HEpot\n",
    "from galpy.potential import DoubleExponentialDiskPotential as DEpot\n",
    "from galpy.potential import MiyamotoNagaiPotential as MNpot\n",
    "from galpy.potential import MN3ExponentialDiskPotential as MN3pot\n",
    "from galpy.potential import MWPotential2014\n",
    "from galpy.potential import evaluatePotentials, MiyamotoNagaiPotential, NFWPotential, HernquistPotential\n",
    "\n",
    "\n",
    "from galpy.potential import evaluateDensities, evaluatePotentials\n",
    "from galpy.potential import plotDensities\n",
    "from galpy.potential import plotRotcurve\n",
    "from galpy.util import bovy_conversion\n",
    "\n",
    "import emcee\n",
    "\n",
    "import numpy as np\n",
    "from scipy import optimize as opt\n",
    "\n",
    "from astropy import units\n",
    "\n",
    "import matplotlib.pyplot as plt\n",
    "from matplotlib.colors import LogNorm\n",
    "\n",
    "from mpl_toolkits.axes_grid1 import make_axes_locatable\n",
    "from mpl_toolkits.mplot3d import Axes3D\n",
    "import copy\n",
    "\n",
    "from areposnap.gadget import gadget_readsnap\n",
    "from areposnap.gadget_subfind import load_subfind\n",
    "\n",
    "from auriga_basics import *\n",
    "from auriga_functions import *\n",
    "\n",
    "import datetime\n",
    "import random\n",
    "\n",
    "%matplotlib inline"
   ]
  },
  {
   "cell_type": "code",
   "execution_count": 3,
   "metadata": {},
   "outputs": [
    {
     "name": "stdout",
     "output_type": "stream",
     "text": [
      "level   : 4\n",
      "halo    : 24\n",
      "snapnr  : 127\n",
      "basedir : /Users/smilanov/Desktop/Auriga/level4/\n",
      "halodir : /Users/smilanov/Desktop/Auriga/level4/halo_24/\n",
      "snappath: /Users/smilanov/Desktop/Auriga/level4/halo_24/output/\n",
      "\n",
      "[ 34.42281723  33.16259384  37.29567337]\n",
      "Found 1783163 stars.\n",
      "Rotated pos.\n",
      "Rotated bfld.\n",
      "Rotated vel.\n",
      "\n",
      "galrad  : 0.02408556640148163\n",
      "redshift: 2.220446049250313e-16\n",
      "time    : 0.9999999999999998\n",
      "center  : [ 0.  0.  0.]\n",
      "\n"
     ]
    }
   ],
   "source": [
    "#### path = /hits/universe/GigaGalaxy/level4_MHD/halo_24/output/*\n",
    "level = 4\n",
    "if machine == 'magny':\n",
    "    basedir = \"/hits/universe/GigaGalaxy/level4_MHD/\"\n",
    "elif machine == 'mac': \n",
    "    basedir = \"/Users/smilanov/Desktop/Auriga/level4/\"\n",
    "j = 0\n",
    "for halo_number in [24]:  # range(1, 31):\n",
    "    halodir = basedir+\"halo_{0}/\".format(halo_number)\n",
    "    snappath = halodir+\"output/\"\n",
    "    for snapnr in range(127,128,1):\n",
    "        print(\"level   : {0}\".format(level))\n",
    "        print(\"halo    : {0}\".format(halo_number))\n",
    "        print(\"snapnr  : {0}\".format(snapnr))\n",
    "        print(\"basedir : {0}\".format(basedir))\n",
    "        print(\"halodir : {0}\".format(halodir))\n",
    "        print(\"snappath: {0}\\n\".format(snappath))\n",
    "        s, sf = eat_snap_and_fof(level, halo_number, snapnr, snappath, loadonlytype=[0,1,2,3,4,5], \n",
    "            haloid=0, galradfac=0.1, verbose=True) \n",
    "\n",
    "        # Clean negative and zero values of gmet to avoid RuntimeErrors\n",
    "        # later on (e.g. dividing by zero)\n",
    "        s.data['gmet'] = np.maximum( s.data['gmet'], 1e-40 )\n",
    "     "
   ]
  },
  {
   "cell_type": "code",
   "execution_count": 6,
   "metadata": {},
   "outputs": [],
   "source": [
    "### get data and masks out of simulation\n",
    "\n",
    "# set maximum (3d) Radius of galaxy\n",
    "maxr_Mpc = s.galrad #Mpc\n",
    "#maxr_Mpc = 0.015 #Mpc\n",
    "\n",
    "## selection masks\n",
    "# select ALL particles belonging to the main galaxy within maxr\n",
    "iall, = np.where( (s.halo == 0) & (s.r() < maxr_Mpc) & (s.r() > 0.) )\n",
    "# select GAS particles belonging to the main galaxy within maxr\n",
    "igas, = np.where( (s.halo == 0) & (s.r() < maxr_Mpc) & (s.r() > 0.) & (s.type == 0) )\n",
    "# select DM particles belonging to the main galaxy within maxr\n",
    "idm, = np.where( (s.halo == 0) & (s.r() < maxr_Mpc) & (s.r() > 0.) & ((s.type == 1) + (s.type == 2) + (s.type == 3) ))\n",
    "# select STAR particles belonging to the main galaxy within maxr\n",
    "istars, = np.where( (s.halo == 0) & (s.r() < maxr_Mpc) & (s.r() > 0.) & (s.type == 4) )\n",
    "\n",
    "# choose which mask to use\n",
    "mask = iall    \n",
    "\n",
    "## check if I actually use them........\n",
    "# get cartesian and cylindrical vectors\n",
    "# check unit of v_phi (even though not used)\n",
    "(x_kpc, y_kpc, z_kpc), (vx_kms, vy_kms, vz_kms), rxyz_kpc, rxy_kpc = get_cartesian_vectors(s, sf, mask)\n",
    "(R_kpc, phi, z_kpc), (vR_kms, vphi, vz_kms) = get_cylindrical_vectors(s, sf, mask)\n",
    "(x, y, z), (vx, vy, vz), rxyz, rxy = get_cartesian_vectors(s, sf, mask)\n",
    "(R, phi, z), (vR, vphi, vz) = get_cylindrical_vectors(s, sf, mask)\n",
    "\n",
    "# select data for each mask\n",
    "r_dm_kpc = 1000. * s.r()[idm]\n",
    "r_gas_kpc = 1000. * s.r()[igas]\n",
    "r_stars_kpc = 1000. * s.r()[istars]\n",
    "r_all_kpc = 1000. * s.r()[iall]\n",
    "(R_dm_kpc, phi, z_dm_kpc), (vR_kms, vphi, vz_kms) = get_cylindrical_vectors(s, sf, idm) \n",
    "pot_dm_kms2 = s.pot[idm]\n",
    "pot_gas_kms2 = s.pot[igas]\n",
    "pot_stars_kms2 = s.pot[istars]\n",
    "pot_all_kms2 = s.pot[iall]\n"
   ]
  },
  {
   "cell_type": "code",
   "execution_count": 7,
   "metadata": {
    "scrolled": true
   },
   "outputs": [
    {
     "data": {
      "text/plain": [
       "Text(0,0.5,'pot [$(\\\\frac{\\\\mathrm{km}}{\\\\mathrm{s}})^2]$')"
      ]
     },
     "execution_count": 7,
     "metadata": {},
     "output_type": "execute_result"
    },
    {
     "data": {
      "image/png": "[encoded data removed]",
      "text/plain": [
       "<matplotlib.figure.Figure at 0x116c1dd30>"
      ]
     },
     "metadata": {},
     "output_type": "display_data"
    }
   ],
   "source": [
    "plt.plot(r_stars_kpc, pot_stars_kms2, 'b.', alpha = 0.01, label = 'stars')\n",
    "plt.plot(r_gas_kpc, pot_gas_kms2, 'g.', alpha = 0.01, label = 'gas')\n",
    "plt.plot(r_dm_kpc, pot_dm_kms2, 'r.', alpha = 0.1, label = 'DM') \n",
    "plt.legend()\n",
    "plt.xlabel('R [kpc]')\n",
    "plt.ylabel('pot [$(\\\\frac{\\mathrm{km}}{\\mathrm{s}})^2]$')"
   ]
  },
  {
   "cell_type": "code",
   "execution_count": 8,
   "metadata": {},
   "outputs": [
    {
     "data": {
      "image/png": "[encoded data removed]",
      "text/plain": [
       "<matplotlib.figure.Figure at 0x116bdb208>"
      ]
     },
     "metadata": {},
     "output_type": "display_data"
    },
    {
     "data": {
      "image/png": "[encoded data removed]",
      "text/plain": [
       "<matplotlib.figure.Figure at 0x11c1445f8>"
      ]
     },
     "metadata": {},
     "output_type": "display_data"
    },
    {
     "data": {
      "image/png": "[encoded data removed]",
      "text/plain": [
       "<matplotlib.figure.Figure at 0x116c4b748>"
      ]
     },
     "metadata": {},
     "output_type": "display_data"
    }
   ],
   "source": [
    "# dm particle (random) selection\n",
    "a = np.array(random.sample(list(enumerate(pot_dm_kms2)),10001))\n",
    "rand_ind = a[:,0].astype(int)\n",
    "rand_pot_dm_kms2 = a[:, 1]\n",
    "rand_r_dm_kpc = r_dm_kpc[rand_ind]\n",
    "rand_R_dm_kpc = R_dm_kpc[rand_ind]\n",
    "rand_z_dm_kpc = z_dm_kpc[rand_ind]\n",
    "\n",
    "r_kpc_data, R_kpc_data, z_kpc_data, pot_kms2_data = rand_r_dm_kpc, rand_R_dm_kpc, rand_z_dm_kpc, rand_pot_dm_kms2\n",
    "\n",
    "plt.plot(r_kpc_data, pot_kms2_data, 'r.', alpha = 0.1, label = 'DM') \n",
    "plt.legend()\n",
    "plt.xlabel('r [kpc]')\n",
    "plt.ylabel('pot [$(\\\\frac{\\mathrm{km}}{\\mathrm{s}})^2]$')\n",
    "plt.show()\n",
    "plt.plot(R_kpc_data, pot_kms2_data, 'r.', alpha = 0.1, label = 'DM') \n",
    "plt.legend()\n",
    "plt.xlabel('R [kpc]')\n",
    "plt.ylabel('pot [$(\\\\frac{\\mathrm{km}}{\\mathrm{s}})^2]$')\n",
    "plt.show()\n",
    "plt.plot(z_kpc_data, pot_kms2_data, 'r.', alpha = 0.1, label = 'DM') \n",
    "plt.legend()\n",
    "plt.xlabel('z [kpc]')\n",
    "plt.ylabel('pot [$(\\\\frac{\\mathrm{km}}{\\mathrm{s}})^2]$')\n",
    "plt.show()\n"
   ]
  },
  {
   "cell_type": "code",
   "execution_count": 9,
   "metadata": {
    "collapsed": true
   },
   "outputs": [],
   "source": [
    "#_____reference values for galpy_____\n",
    "_REFR0_kpc = 8."
   ]
  },
  {
   "cell_type": "code",
   "execution_count": null,
   "metadata": {
    "collapsed": true
   },
   "outputs": [],
   "source": [
    "#_____function that sets-up galpy potential_____\n",
    "def setup_galpy_potential(a_MND_kpc,b_MND_kpc,a_NFWH_kpc,a_HB_kpc,n_MND,n_NFWH,n_HB):\n",
    "    \n",
    "    #test input:\n",
    "    if (a_MND_kpc <= 0.) or (b_MND_kpc <= 0.) or (a_NFWH_kpc <= 0.) or (a_HB_kpc <= 0.) \\\n",
    "       or (n_MND <= 0.) or (n_NFWH <= 0.) or (n_HB <= 0.) or (n_MND >= 1.) or (n_NFWH >= 1.) or (n_HB >= 1.):\n",
    "        raise ValueError('Error in setup_galpy_potential: '+\\\n",
    "                         'The input parameters for the scaling profiles do not correspond to a physical potential.')\n",
    "    if np.fabs(n_MND + n_NFWH + n_HB - 1.) > 1e-7:\n",
    "        raise ValueError('Error in setup_galpy_potential: '+\\\n",
    "                         'The sum of the normalization does not add up to 1.')\n",
    "        \n",
    "    #trafo to galpy units:\n",
    "    a_MND  = a_MND_kpc/_REFR0_kpc\n",
    "    b_MND  = b_MND_kpc/_REFR0_kpc\n",
    "    a_NFWH = a_NFWH_kpc/_REFR0_kpc\n",
    "    a_HB   = a_HB_kpc/_REFR0_kpc\n",
    "    \n",
    "    #setup potential:\n",
    "    disk = MiyamotoNagaiPotential(\n",
    "                a=a_MND,\n",
    "                b=b_MND,\n",
    "                normalize=n_MND)\n",
    "    halo = NFWPotential(\n",
    "                a=a_NFWH,\n",
    "                normalize=n_NFWH)\n",
    "    bulge = HernquistPotential(\n",
    "                a=a_HB,\n",
    "                normalize=n_HB)\n",
    "    return [disk,halo,bulge]\n",
    "    #return [disk,halo]"
   ]
  },
  {
   "cell_type": "markdown",
   "metadata": {},
   "source": [
    "Scipy differential_evolution\n",
    "----\n"
   ]
  },
  {
   "cell_type": "code",
   "execution_count": null,
   "metadata": {
    "collapsed": true
   },
   "outputs": [],
   "source": [
    "#_____function for scipy.differential_evolution that sums the relative error squares_____\n",
    "def rel_pot_error_scipydifferentialevolution(x,*args):\n",
    "    '''\n",
    "    INPUT: x: parameters to be fitted\n",
    "               x[0]: v0 [km/s]\n",
    "               x[1], x[2]: scale lengths of Miyamoto Nagai disk [kpc]\n",
    "               x[3], x[4]: scale length of MFW and Hernquist halo and bulge potentials [kpc]\n",
    "               x[5], x[6]: normalization of MND and NFWH (including normalization of HB by subtracting them from 1)\n",
    "           args: data\n",
    "               args[0], args[1]: grid of R and z in kpc\n",
    "               args[2]: potential in (km/s)**2\n",
    "    OUTPUT: err: sum of relative error squares\n",
    "    '''\n",
    "    \n",
    "    #read fitting parameters:\n",
    "    v0_kms     = x[0]\n",
    "    a_MND_kpc  = x[1]\n",
    "    b_MND_kpc  = x[2]\n",
    "    a_NFWH_kpc = x[3]\n",
    "    a_HB_kpc   = x[4]\n",
    "    n_MND      = x[5]\n",
    "    n_NFWH     = x[6]\n",
    "    n_HB       = 1.-n_NFWH-n_MND\n",
    "    \n",
    "    #read data:\n",
    "    R_kpc_data    = args[0]\n",
    "    z_kpc_data    = args[1]\n",
    "    pot_kms2_data = args[2]\n",
    "    \n",
    "    #setup potential (and check if parameters are physical):\n",
    "    try:\n",
    "        pot_galpy_model = setup_galpy_potential(a_MND_kpc,b_MND_kpc,a_NFWH_kpc,a_HB_kpc,n_MND,n_NFWH,n_HB)\n",
    "        #print('Setup potential works.')\n",
    "    except Exception as e:\n",
    "        #uncomment for debugging:\n",
    "        #print(e.message)\n",
    "        #print(x)\n",
    "        return np.inf\n",
    "\n",
    "    #calculate potential values at (R,z) for this potential:\n",
    "    pot_kms2_model = evaluatePotentials(pot_galpy_model,\n",
    "                                   R_kpc_data/_REFR0_kpc,\n",
    "                                   z_kpc_data/_REFR0_kpc) * (v0_kms)**2\n",
    "    \n",
    "    #calculate sum of relative error squares:\n",
    "    err = np.sum(((pot_kms2_data - pot_kms2_model) / pot_kms2_model)**2)\n",
    "    #print(err)\n",
    "    return err"
   ]
  },
  {
   "cell_type": "code",
   "execution_count": null,
   "metadata": {
    "scrolled": false
   },
   "outputs": [],
   "source": [
    "lower_floor = 1e-3\n",
    "bounds = ((lower_floor,400.), #vcirc\n",
    "          (lower_floor,15.), #a_MND\n",
    "          (lower_floor,10.), #b_MND\n",
    "          (lower_floor,50.), #a_NFWH\n",
    "          (lower_floor,10.), #a_HB\n",
    "          (0.,1.), #n_MND\n",
    "          (0.,1.)) #n_NFWH\n",
    "\n",
    "#fitting:\n",
    "res = opt.differential_evolution(\n",
    "            rel_pot_error_scipydifferentialevolution,\n",
    "            bounds=bounds,\n",
    "            args=(R_kpc_data,z_kpc_data,pot_kms2_data),\n",
    "            strategy='best1bin',\n",
    "            maxiter=10000,tol=0.001,atol=1e-7,\n",
    "            disp=False\n",
    "            )\n",
    "\n",
    "print(res)\n",
    "print(\"best fit:\")\n",
    "print(\"v0_kms    \", res.x[0])\n",
    "print(\"a_MND_kpc \", res.x[1])\n",
    "print(\"b_MND_kpc \", res.x[2])\n",
    "print(\"a_NFWH_kpc\", res.x[3])\n",
    "print(\"a_HB_kpc  \", res.x[4])\n",
    "print(\"n_MND     \", res.x[5])\n",
    "print(\"n_NFWH    \", res.x[6])\n",
    "print(\"n_HB      \", 1.-res.x[5]-res.x[6])\n"
   ]
  },
  {
   "cell_type": "markdown",
   "metadata": {},
   "source": [
    "Errors of this fit?\n"
   ]
  },
  {
   "cell_type": "markdown",
   "metadata": {},
   "source": [
    "emcee fitting\n",
    "----"
   ]
  },
  {
   "cell_type": "code",
   "execution_count": null,
   "metadata": {
    "collapsed": true
   },
   "outputs": [],
   "source": [
    "#_____function for MCMC, sum of error squares_____\n",
    "def lnprob_MCMC(x,*args):\n",
    "    \n",
    "    #read fitting parameters:\n",
    "    v0_kms     = x[0]\n",
    "    a_MND_kpc  = x[1]\n",
    "    b_MND_kpc  = x[2]\n",
    "    a_NFWH_kpc = x[3]\n",
    "    a_HB_kpc   = x[4]\n",
    "    n_MND      = x[5]\n",
    "    n_NFWH     = x[6]\n",
    "    n_HB       = 1.-n_NFWH-n_MND\n",
    "    \n",
    "    #check if imput parameters are physical:\n",
    "    if v0_kms <= 0: return -np.inf\n",
    "    #(Note: all other parameters are checked during setting up the galpy potential.)\n",
    "        \n",
    "    #read data:\n",
    "    R_kpc_data    = args[0]\n",
    "    z_kpc_data    = args[1]\n",
    "    pot_kms2_data = args[2]\n",
    "    \n",
    "    #setup potential (and check if parameters are physical):\n",
    "    try:\n",
    "        pot_galpy_model = setup_galpy_potential(a_MND_kpc,b_MND_kpc,a_NFWH_kpc,a_HB_kpc,n_MND,n_NFWH,n_HB)\n",
    "    except Exception as e:\n",
    "        #uncomment for debugging:\n",
    "        #print e.message\n",
    "        #print x\n",
    "        return -np.inf\n",
    "\n",
    "    #calculate potential values at (R,z) for this potential:\n",
    "    pot_kms2_model = evaluatePotentials(pot_galpy_model,\n",
    "                                   R_kpc_data/_REFR0_kpc,\n",
    "                                   z_kpc_data/_REFR0_kpc) * (v0_kms)**2\n",
    "    \n",
    "    #calculate sum of relative error squares:\n",
    "    err = np.sum(-0.5*(pot_kms2_data-pot_kms2_model)**2)\n",
    "    return err"
   ]
  },
  {
   "cell_type": "code",
   "execution_count": null,
   "metadata": {
    "scrolled": false
   },
   "outputs": [],
   "source": [
    "#_____prepare MCMC_____\n",
    "ndim, nwalkers, nstep = 7, 50, 10000\n",
    "\n",
    "#initial values for fit:\n",
    "v0_kms_init     = 150.\n",
    "a_MND_kpc_init  = 6.\n",
    "b_MND_kpc_init  = 1.\n",
    "a_NFWH_kpc_init = 10.\n",
    "a_HB_kpc_init   = 2.\n",
    "n_MND_init      = 0.2\n",
    "n_NFWH_init     = 0.6\n",
    "initial_guess = np.array([v0_kms_init,a_MND_kpc_init,b_MND_kpc_init,a_NFWH_kpc_init,a_HB_kpc_init,\n",
    "                             n_MND_init,n_NFWH_init])\n",
    "initial_guess_width = np.fabs(0.2*initial_guess)\n",
    "p0 = np.array([np.random.randn(ndim)*np.array(initial_guess_width)+initial_guess \\\n",
    "                                              for i in range(nwalkers)])\n",
    "#fiitting boundaries:\n",
    "boundaries = np.array([[0.,np.inf],[0.,np.inf],[0.,np.inf],[0.,np.inf],[0.,np.inf],[0.,1.],[0.,1.]])\n",
    "for pp in range(ndim):\n",
    "    p0[(p0[:,pp] < boundaries[pp,0]),pp] = initial_guess[pp] + np.random.uniform() * 0.1\n",
    "    p0[(p0[:,pp] > boundaries[pp,1]),pp] = initial_guess[pp] - np.random.uniform() * 0.1\n",
    "\n",
    "#_____run MCMC_____\n",
    "sampler = emcee.EnsembleSampler(nwalkers,ndim,\n",
    "                               lnprob_MCMC,\n",
    "                               args=[R_kpc_data,z_kpc_data,pot_kms2_data])\n",
    "sampler.run_mcmc(p0,nstep)\n",
    "\n",
    "#result:\n",
    "burnin = 1000\n",
    "final_samples = sampler.chain[:, burnin:, :].reshape((-1,ndim))\n",
    "chain_samples = sampler.chain"
   ]
  },
  {
   "cell_type": "code",
   "execution_count": null,
   "metadata": {},
   "outputs": [],
   "source": [
    "#===== OUTPUT =====\n",
    "\n",
    "#_____take precentiles_____\n",
    "#perc = np.percentile(final_samples,[16.,50.,84.],axis=0)\n",
    "median = np.median(final_samples,axis=0)\n",
    "std = np.std(final_samples,axis=0)\n",
    "print(\"true vs. best fit:\")\n",
    "print(\"v0_kms    \",median[0],\"\\t\",\"+/-\",std[0])\n",
    "print(\"a_MND_kpc \",median[1],\"\\t\",\"+/-\",std[1])\n",
    "print(\"b_MND_kpc \",median[2],\"\\t\",\"+/-\",std[2])\n",
    "print(\"a_NFWH_kpc\",median[3],\"\\t\",\"+/-\",std[3])\n",
    "print(\"a_HB_kpc  \",median[4],\"\\t\",\"+/-\",std[4])\n",
    "print(\"n_MND     \",median[5],\"\\t\",\"+/-\",std[5])\n",
    "print(\"n_NFWH    \",median[6],\"\\t\",\"+/-\",std[6])\n",
    "print(\"n_HB      \",1.-median[5]-median[6])"
   ]
  },
  {
   "cell_type": "code",
   "execution_count": null,
   "metadata": {},
   "outputs": [],
   "source": [
    "#plot progress\n",
    "labels = [\"v0_kms\",\"a_MND_kpc\",\"b_MND_kpc\",\"a_NFWH_kpc\",\"a_HB_kpc\",\"n_MND\",\"n_NFWH\",\"n_HB\"]\n",
    "fig = plt.figure(figsize=(6,12))\n",
    "ax_list = [fig.add_subplot(ndim,1,ii+1) for ii in range(ndim)]\n",
    "for ii in range(ndim):\n",
    "    ax = ax_list[ii]\n",
    "    ax.set_ylabel(labels[ii])\n",
    "    for jj in range(nwalkers):\n",
    "        ax.plot(np.arange(nstep),chain_samples[jj,:,ii],color='k',alpha=0.5,linewidth=0.2)    \n",
    "for ii in range(ndim):\n",
    "    ax = ax_list[ii]\n",
    "    perc = np.percentile(final_samples[:,ii],[50.])\n",
    "    #ax.hlines(true_values[ii],0.,nstep,color='green',linestyles=['solid'],label='true value')\n",
    "    ax.hlines(perc,0.,nstep,color='red',linestyles=['dotted'],label='best fit from MCMC')\n",
    "    ylim = ax.get_ylim()\n",
    "    ax.vlines([burnin],ylim[0],ylim[1],color='grey',linestyle='dashed',label='burn in')\n",
    "    ax.set_ylim(ylim)\n",
    "    if ii == 0: ax.legend()\n",
    "plt.tight_layout()\n",
    "plt.show()"
   ]
  },
  {
   "cell_type": "code",
   "execution_count": null,
   "metadata": {},
   "outputs": [],
   "source": [
    "#_____prepare MCMC_____\n",
    "ndim, nwalkers, nstep = 7, 50, 2500\n",
    "\n",
    "#initial values for fit:\n",
    "initial_guess = median\n",
    "initial_guess_width = 0.1*std\n",
    "p0 = np.array([np.random.randn(ndim)*np.array(initial_guess_width)+initial_guess \\\n",
    "                                              for i in range(nwalkers)])\n",
    "\n",
    "#_____run MCMC_____\n",
    "sampler = emcee.EnsembleSampler(nwalkers,ndim,\n",
    "                               lnprob_MCMC,\n",
    "                               args=[R_kpc_data,z_kpc_data,pot_kms2_data])\n",
    "sampler.run_mcmc(p0,nstep)\n",
    "\n",
    "#result:\n",
    "burnin = 700\n",
    "final_samples = sampler.chain[:, burnin:, :].reshape((-1,ndim))\n",
    "chain_samples = sampler.chain"
   ]
  },
  {
   "cell_type": "code",
   "execution_count": null,
   "metadata": {},
   "outputs": [],
   "source": [
    "#===== OUTPUT =====\n",
    "\n",
    "#_____take precentiles_____\n",
    "#perc = np.percentile(final_samples,[16.,50.,84.],axis=0)\n",
    "median = np.median(final_samples,axis=0)\n",
    "std = np.std(final_samples,axis=0)\n",
    "print(\"true vs. best fit:\")\n",
    "print(\"v0_kms    \",median[0],\"\\t\",\"+/-\",std[0])\n",
    "print(\"a_MND_kpc \",median[1],\"\\t\",\"+/-\",std[1])\n",
    "print(\"b_MND_kpc \",median[2],\"\\t\",\"+/-\",std[2])\n",
    "print(\"a_NFWH_kpc\",median[3],\"\\t\",\"+/-\",std[3])\n",
    "print(\"a_HB_kpc  \",median[4],\"\\t\",\"+/-\",std[4])\n",
    "print(\"n_MND     \",median[5],\"\\t\",\"+/-\",std[5])\n",
    "print(\"n_NFWH    \",median[6],\"\\t\",\"+/-\",std[6])\n",
    "print(\"n_HB      \",1.-median[5]-median[6])"
   ]
  },
  {
   "cell_type": "code",
   "execution_count": null,
   "metadata": {},
   "outputs": [],
   "source": [
    "#plot progress\n",
    "fig = plt.figure(figsize=(6,12))\n",
    "ax_list = [fig.add_subplot(ndim,1,ii+1) for ii in range(ndim)]\n",
    "for ii in range(ndim):\n",
    "    ax = ax_list[ii]\n",
    "    ax.set_ylabel(labels[ii])\n",
    "    for jj in range(nwalkers):\n",
    "        ax.plot(np.arange(nstep),chain_samples[jj,:,ii],color='k',alpha=0.5,linewidth=0.2)    \n",
    "for ii in range(ndim):\n",
    "    ax = ax_list[ii]\n",
    "    perc = np.percentile(final_samples[:,ii],[50.])\n",
    "    #ax.hlines(true_values[ii],0.,nstep,color='green',linestyles=['solid'],label='true value')\n",
    "    ax.hlines(perc,0.,nstep,color='red',linestyles=['dotted'],label='best fit from MCMC')\n",
    "    ylim = ax.get_ylim()\n",
    "    ax.vlines([burnin],ylim[0],ylim[1],color='grey',linestyle='dashed',label='burn in')\n",
    "    ax.set_ylim(ylim)\n",
    "    if ii == 0: ax.legend()\n",
    "plt.tight_layout()\n",
    "plt.show()"
   ]
  },
  {
   "cell_type": "code",
   "execution_count": null,
   "metadata": {
    "collapsed": true
   },
   "outputs": [],
   "source": []
  },
  {
   "cell_type": "code",
   "execution_count": null,
   "metadata": {
    "collapsed": true
   },
   "outputs": [],
   "source": []
  },
  {
   "cell_type": "code",
   "execution_count": null,
   "metadata": {
    "collapsed": true
   },
   "outputs": [],
   "source": []
  },
  {
   "cell_type": "code",
   "execution_count": null,
   "metadata": {
    "collapsed": true
   },
   "outputs": [],
   "source": []
  },
  {
   "cell_type": "code",
   "execution_count": null,
   "metadata": {
    "collapsed": true
   },
   "outputs": [],
   "source": []
  }
 ],
 "metadata": {
  "kernelspec": {
   "display_name": "Python 3",
   "language": "python",
   "name": "python3"
  },
  "language_info": {
   "codemirror_mode": {
    "name": "ipython",
    "version": 3
   },
   "file_extension": ".py",
   "mimetype": "text/x-python",
   "name": "python",
   "nbconvert_exporter": "python",
   "pygments_lexer": "ipython3",
   "version": "3.6.3"
  }
 },
 "nbformat": 4,
 "nbformat_minor": 2
}
