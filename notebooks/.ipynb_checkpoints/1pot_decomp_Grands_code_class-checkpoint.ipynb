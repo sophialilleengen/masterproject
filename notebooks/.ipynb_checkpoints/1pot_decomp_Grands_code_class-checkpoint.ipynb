{
 "cells": [
  {
   "cell_type": "code",
   "execution_count": 1,
   "metadata": {
    "collapsed": true
   },
   "outputs": [],
   "source": [
    "machine = 'mac'\n",
    "machine = 'virgo'"
   ]
  },
  {
   "cell_type": "code",
   "execution_count": 2,
   "metadata": {
    "collapsed": true
   },
   "outputs": [],
   "source": [
    "if machine == 'magny':\n",
    "    basedir = \"/hits/universe/GigaGalaxy/level4_MHD/\"\n",
    "    filedir = \"/home/extmilan/masterthesis/files/\"\n",
    "    plotdir = \"/home/extmilan/masterthesis/plots/\"\n",
    "elif machine == 'mac': \n",
    "    basedir = \"/Users/smilanov/Desktop/Auriga/level4/\"\n",
    "    filedir = \"/Users/smilanov/Documents/masterthesis/auriga_files/files/\"\n",
    "    plotdir = \"/Users/smilanov/Documents/masterthesis/auriga_files/plots/\"\n",
    "elif machine == 'virgo': \n",
    "    basedir = \"/virgo/simulations/Auriga/level4_MHD/\"\n",
    "    filedir = \"/u/milas/masterthesis/masterproject/files\"\n",
    "    plotdir = \"/u/milas/masterthesis/masterproject/plots/\"\n",
    "    \n",
    "    \n",
    "#file = filedir + 'potential_params_10000_with_initeqbestfit.txt'\n",
    "\n",
    "#dopotfit = True"
   ]
  },
  {
   "cell_type": "code",
   "execution_count": 3,
   "metadata": {
    "collapsed": true
   },
   "outputs": [],
   "source": [
    "from galpy.potential import NFWPotential as NFWpot\n",
    "from galpy.potential import HernquistPotential as HEpot\n",
    "from galpy.potential import DoubleExponentialDiskPotential as DEpot\n",
    "from galpy.potential import MiyamotoNagaiPotential as MNpot\n",
    "from galpy.potential import MN3ExponentialDiskPotential as MN3pot\n",
    "from galpy.potential import MWPotential2014\n",
    "from galpy.potential import evaluatePotentials, MiyamotoNagaiPotential, NFWPotential, HernquistPotential\n",
    "\n",
    "\n",
    "from galpy.potential import evaluateDensities, evaluatePotentials\n",
    "from galpy.potential import plotDensities\n",
    "from galpy.potential import plotRotcurve\n",
    "from galpy.util import bovy_conversion\n",
    "\n",
    "import emcee\n",
    "\n",
    "import numpy as np\n",
    "\n",
    "from scipy import optimize as opt\n",
    "from scipy import integrate\n",
    "\n",
    "from astropy import units\n",
    "\n",
    "from IPython.display import display\n",
    "\n",
    "import matplotlib.pyplot as plt\n",
    "from matplotlib.colors import LogNorm\n",
    "\n",
    "from mpl_toolkits.axes_grid1 import make_axes_locatable\n",
    "from mpl_toolkits.mplot3d import Axes3D\n",
    "import copy\n",
    "\n",
    "from areposnap.gadget import gadget_readsnap\n",
    "from areposnap.gadget_subfind import load_subfind\n",
    "\n",
    "from auriga_basics import *\n",
    "from auriga_functions import *\n",
    "from decomposition import *\n",
    "\n",
    "\n",
    "import datetime\n",
    "import random\n",
    "\n",
    "%matplotlib inline\n",
    "\n",
    "from matplotlib import colors\n",
    "from matplotlib import rcParams \n",
    "rcParams['font.size'] = 16\n",
    "rcParams['lines.linewidth'] = 1.5\n",
    "rcParams['axes.linewidth'] = 1.5\n",
    "rcParams['ytick.major.width'] = 1.5\n",
    "rcParams['xtick.major.width'] = 1.5\n"
   ]
  },
  {
   "cell_type": "markdown",
   "metadata": {},
   "source": [
    "Build the potential\n",
    "---\n",
    "- Disk: Miyamoto Nagai (http://adsabs.harvard.edu/abs/1975PASJ...27..533M \n",
    "- Spheroid: Hernquist (http://adsabs.harvard.edu/abs/1990ApJ...356..359H)\n",
    "- Halo: NFW (http://iopscience.iop.org/article/10.1086/304888/pdf)\n",
    "\n",
    "$v_{circ} = \\sqrt{R\\frac{\\partial\\Phi}{\\partial R}}$\n",
    "\n",
    "Miyamoto Nagai potential\n",
    "--\n",
    "\n",
    "$\\Phi_{MN} (R,z) = -\\frac{GM}{\\sqrt{R^2 + \\left(a + \\sqrt{z^2 + b^2}\\right)^2}}$\n",
    "\n",
    "$\\rho_{MN} (R,z) = \\frac{b^2M}{4\\pi}\n",
    "\\frac{aR^2 + \\left(a + 3\\sqrt{z^2 + b^2}\\right)\\left(a + \\sqrt{z^2 + b^2}\\right)^2}\n",
    "{\\left[R^2 + \\left(a + \\sqrt{z^2 + b^2}\\right)^2\\right]^{5/2}\\left(z^2 + b^2\\right)^{3/2}}$\n",
    "\n",
    "$\n",
    "v_{circ_{MN}}(R,z)     = R \\sqrt{\n",
    "\\frac\n",
    "{ GM }\n",
    "{ \\left(R^2 + \\left(a + \\sqrt{z^2+b^2}\\right)^2\\right)^{3/2} }\n",
    "}\n",
    "$\n",
    "\n",
    "Hernquist potential\n",
    "--\n",
    "$\\Phi_H(r) = -\\frac\n",
    "{GM}\n",
    "{r+a}\n",
    "$\n",
    "\n",
    "$\\rho_H(r) = \\frac{M}{2\\pi}\\frac{r}{a}\\frac{1}{\\left(r+a\\right)^3}\n",
    "$\n",
    "\n",
    "$M_H(r) = M \\frac{r^2}{(r+a)^2}$\n",
    "\n",
    "$v_{circ_H}(r) = \\frac\n",
    "{\\sqrt{GMr} }\n",
    "{r+a} \n",
    "= \\sqrt{\\frac{GM(<r)}{r}}\n",
    "$\n",
    "    last equation part only valid in spherical symmetric systems\n",
    "    \n",
    "NFW potential \n",
    "--\n",
    "\n",
    "1. fit MND and HB\n",
    "2. calculate their circular velocities\n",
    "3. calculate total velocity and get circular velocity of NFW by subtracting: $v_{circ_{NFW}} = \\sqrt{v_{circ_{tot}}^2 - v_{circ_{MND}}^2 - v_{circ_{HB}}^2}$\n",
    "4. setup galpy potential with fixed MND and HB with fitted vals and just fit NFW parameters to pot vals\n",
    "5. (possible check: fit also v0 of NFW and compare to 'real' one)\n",
    "\n"
   ]
  },
  {
   "cell_type": "code",
   "execution_count": 4,
   "metadata": {},
   "outputs": [
    {
     "name": "stdout",
     "output_type": "stream",
     "text": [
      "Load snapshot.\n",
      "level   : 4\n",
      "halo\t: 24\n",
      "snapnr  : 127\n",
      "basedir : /virgo/simulations/Auriga/level4_MHD/\n",
      "halodir : /virgo/simulations/Auriga/level4_MHD/halo_24/\n",
      "snappath: /virgo/simulations/Auriga/level4_MHD/halo_24/output/\n",
      "\n",
      "Found 1783163 stars.\n",
      "Rotated pos.\n",
      "Rotated vel.\n",
      "\n",
      "galrad  : 0.02408556640148163\n",
      "redshift: 2.220446049250313e-16\n",
      "time    : 0.9999999999999998\n",
      "center  : [ 0.  0.  0.]\n",
      "\n",
      "Carry out decomposition.\n",
      "computing star properties\n",
      "computing histograms\n",
      "Calculate disk indices.\n",
      "Calculate spheroid indices.\n",
      "Calculate halo indices.\n",
      "Load positions and masses of simulation data.\n",
      "computing star properties\n",
      "computing histograms\n",
      "Import galpy parameters.\n",
      "Setup galpy potential.\n",
      "Set plot options.\n"
     ]
    }
   ],
   "source": [
    "gal24 = decomposition(machine = machine)\n"
   ]
  },
  {
   "cell_type": "code",
   "execution_count": 5,
   "metadata": {},
   "outputs": [
    {
     "name": "stdout",
     "output_type": "stream",
     "text": [
      "839400 824143\n"
     ]
    }
   ],
   "source": [
    "print(len(gal24.R_disk_kpc), len(gal24.disk_masses_10msun))"
   ]
  },
  {
   "cell_type": "code",
   "execution_count": 6,
   "metadata": {},
   "outputs": [],
   "source": [
    "rho, Rbins, zbins = gal24.voldens_disk_2d_data()"
   ]
  },
  {
   "cell_type": "code",
   "execution_count": 7,
   "metadata": {},
   "outputs": [
    {
     "name": "stdout",
     "output_type": "stream",
     "text": [
      "-4.99996213699 4.99992462825\n"
     ]
    }
   ],
   "source": [
    "print(np.min(zbins), np.max(zbins))"
   ]
  },
  {
   "cell_type": "code",
   "execution_count": 11,
   "metadata": {},
   "outputs": [
    {
     "data": {
      "text/plain": [
       "<matplotlib.image.AxesImage at 0x2b7fa6217d30>"
      ]
     },
     "execution_count": 11,
     "metadata": {},
     "output_type": "execute_result"
    },
    {
     "data": {
      "image/png": "[encoded data removed]",
      "text/plain": [
       "<matplotlib.figure.Figure at 0x2b7fa1c327f0>"
      ]
     },
     "metadata": {},
     "output_type": "display_data"
    }
   ],
   "source": [
    "plt.imshow(rho, norm = colors.LogNorm(), cmap = plt.cm.magma)"
   ]
  },
  {
   "cell_type": "code",
   "execution_count": 9,
   "metadata": {},
   "outputs": [
    {
     "data": {
      "text/plain": [
       "array([False, False, False, False, False, False, False, False, False, False], dtype=bool)"
      ]
     },
     "execution_count": 9,
     "metadata": {},
     "output_type": "execute_result"
    }
   ],
   "source": [
    "a = np.random.random(10)\n",
    "b = np.random.random(10)\n",
    "np.isin(a,b)"
   ]
  },
  {
   "cell_type": "code",
   "execution_count": null,
   "metadata": {},
   "outputs": [],
   "source": [
    "#calculate density of disk\n",
    "gal24 = decomposition(machine = machine)\n",
    "gal24_z_kpc = gal24.z_disk_kpc\n",
    "z_median = np.median(np.abs(gal24_z_kpc))"
   ]
  },
  {
   "cell_type": "code",
   "execution_count": null,
   "metadata": {
    "collapsed": true
   },
   "outputs": [],
   "source": [
    "disk_dens_data = gal24.voldens_disk_data(N = 25, z_kpc = 0.5, R_kpc = None)"
   ]
  },
  {
   "cell_type": "code",
   "execution_count": null,
   "metadata": {},
   "outputs": [],
   "source": [
    "plt.plot(disk_dens_data[0], disk_dens_data[1])"
   ]
  },
  {
   "cell_type": "code",
   "execution_count": null,
   "metadata": {
    "collapsed": true
   },
   "outputs": [],
   "source": [
    "gal24.s.calc_sf_indizes(gal24.sf)"
   ]
  },
  {
   "cell_type": "code",
   "execution_count": null,
   "metadata": {
    "collapsed": true
   },
   "outputs": [],
   "source": [
    "def voldens_galpy(xdata, a_MND_kpc, b_MND_kpc):\n",
    "    fix_z = True \n",
    "    fix_R = False \n",
    "    use_masses = True \n",
    "    use_n = False    \n",
    "    R_kpc = xdata[0]\n",
    "    z_kpc = xdata[1]\n",
    "    mass_10Msun = xdata[2]\n",
    "    disk = MiyamotoNagaiPotential(amp = mass_10Msun *1e10 *u.Msun, a=a_MND_kpc * u.kpc, b=b_MND_kpc * u.kpc)\n",
    "    if fix_z == True:\n",
    "        voldens_bestfit = np.zeros(len(R_kpc))\n",
    "        if use_masses == True:\n",
    "            for i, item in enumerate(R_kpc):\n",
    "                voldens_bestfit[i] = disk.dens(item * u.kpc, z_kpc * u.kpc) \n",
    "        elif use_n == True:\n",
    "            for i, item in enumerate(R_kpc):\n",
    "                item_galpy = item / self.R0_kpc\n",
    "                z_fix_galpy = z_kpc / self.R0_kpc\n",
    "                voldens_bestfit[i] = self.disk.dens(item_galpy, z_fix_galpy) * bovy_conversion.dens_in_msolpc3(self.v0_tot_kms, self.R0_kpc)\n",
    "\n",
    "    elif fix_R == True:\n",
    "        voldens_bestfit = np.zeros(len(z_kpc))\n",
    "        if use_masses == True:\n",
    "            for i, item in enumerate(z_kpc):\n",
    "                voldens_bestfit[i] = self.disk.dens(R_kpc * u.kpc, item * u.kpc) \n",
    "        elif use_n == True:\n",
    "            for i, item in enumerate(z_kpc):\n",
    "                item_galpy = item / self.R0_kpc\n",
    "                R_fix_galpy = R_kpc / self.R0_kpc\n",
    "                voldens_bestfit[i] = self.disk.dens(R_fix_galpy, item_galpy) * bovy_conversion.dens_in_msolpc3(self.v0_tot_kms, self.R0_kpc)\n",
    "\n",
    "    return(voldens_bestfit)"
   ]
  },
  {
   "cell_type": "code",
   "execution_count": null,
   "metadata": {
    "collapsed": true
   },
   "outputs": [],
   "source": [
    "z_median"
   ]
  },
  {
   "cell_type": "code",
   "execution_count": null,
   "metadata": {
    "collapsed": true
   },
   "outputs": [],
   "source": [
    "disk_mass_10_Msun = np.sum(gal24.s.mass[gal24.i_disk][gal24.i_r_in])\n",
    "xdata = np.array([disk_dens_data[1], 0., disk_mass_10_Msun])\n",
    "rhodata = disk_dens_data[0]\n",
    "plt.plot(disk_dens_data[1], disk_dens_data[0])\n",
    "bounds = ([0., 0.],[np.inf, np.inf])\n",
    "popt, pcov = opt.curve_fit(voldens_galpy, xdata, rhodata, bounds=bounds)"
   ]
  },
  {
   "cell_type": "code",
   "execution_count": null,
   "metadata": {
    "collapsed": true,
    "scrolled": true
   },
   "outputs": [],
   "source": [
    "MNdisk_bestfit = MiyamotoNagaiPotential(amp = disk_mass_10_Msun * 1e10 * u.Msun, a=popt[0]*u.kpc, b=popt[1]*u.kpc)\n",
    "MNdisk_dens_bestfit = MNdisk_bestfit.dens(disk_dens_data[1]*u.kpc, 0.*u.kpc)\n",
    "plt.plot(disk_dens_data[1], disk_dens_data[0])\n",
    "\n",
    "plt.plot(disk_dens_data[1], MNdisk_dens_bestfit)"
   ]
  },
  {
   "cell_type": "code",
   "execution_count": null,
   "metadata": {
    "collapsed": true
   },
   "outputs": [],
   "source": [
    "opt.curve_fit?\n"
   ]
  },
  {
   "cell_type": "code",
   "execution_count": null,
   "metadata": {
    "collapsed": true
   },
   "outputs": [],
   "source": [
    "MiyamotoNagaiPotential?"
   ]
  },
  {
   "cell_type": "code",
   "execution_count": null,
   "metadata": {
    "collapsed": true
   },
   "outputs": [],
   "source": [
    "popt"
   ]
  },
  {
   "cell_type": "code",
   "execution_count": null,
   "metadata": {
    "collapsed": true
   },
   "outputs": [],
   "source": [
    "### fit disk\n",
    "\n",
    "# try to integrate numerically for poisson process\n",
    "# take eq 2.69b (w/o mass) B&T08\n",
    "# if that does not work fit to binned densities\n",
    "\n",
    "\n",
    "## PART FOR THE LIKELIHOOD\n",
    "Rmin_kpc = 1.\n",
    "Rmax_kpc = 10.\n",
    "\n",
    "def rho_MND(R_kpc, z_kpc, phi, a_kpc = 5., b_kpc = 1., specific = True, mass_10Msun = None):\n",
    "    \"\"\"\n",
    "    INPUT:\n",
    "        R_kpc, z_kpc: \n",
    "    \"\"\"\n",
    "    #a_kpc = args[0]\n",
    "    #b_kpc = args[1]\n",
    "    if specific == True:\n",
    "        first_fac_kpc2 = b_kpc**2 / (4. * np.pi)\n",
    "    else:\n",
    "        first_fac_kpc2 = (mass_10Msun * b_kpc**2) / (4. * np.pi) # * 10^10M_sun\n",
    "    bzsqrt_kpc = np.sqrt(z_kpc**2 + b_kpc**2)\n",
    "    abz_sqrt_kpc = (a_kpc + bzsqrt_kpc)\n",
    "    numerator_kpc3 = a_kpc * R_kpc**2 + (a_kpc + 3. * bzsqrt_kpc) * abz_sqrt_kpc**2\n",
    "    denominator_kpc8 = (R_kpc**2 + abz_sqrt_kpc**2)**(5./2.) * bzsqrt_kpc**3\n",
    "    rho_kpc_3 = first_fac_kpc2 * numerator_kpc3 / denominator_kpc8 # * 10^10 M_sun if not specific density\n",
    "    return (rho_kpc_3)\n",
    "\n",
    "'''    \n",
    "def prob_MND(Rs, zs, a_kpc, b_kpc, Rmin_kpc, Rmax_kpc):\n",
    "    res, res_err = integrate.tplquad(rho_MND, 0., 2. * np.pi, lambda phi: -np.inf, lambda phi: np.inf,\n",
    "                  lambda phi, z_kpc: Rmin_kpc, lambda phi, z_kpc: Rmax_kpc, args = (a_kpc, b_kpc))\n",
    "    rho = rho_MND(Rs, zs, a_kpc, b_kpc)\n",
    "    p = rho / res\n",
    "    return(p)\n",
    "\n",
    "def likelihood_MND(Rs, zs, a_kpc, b_kpc, Rmin_kpc, Rmax_kpc):\n",
    "    p = prob_MND(Rs, zs, a_kpc, b_kpc, Rmin_kpc, Rmax_kpc)\n",
    "    logL = np.sum(np.log10(p))\n",
    "    return logL\n",
    "\n",
    "#_____function for scipy.differential_evolution that sums the relative error squares_____\n",
    "def log_MND_scipydifferentialevolution(x, *args):\n",
    "    \n",
    "    # read fitting parameters:\n",
    "    a_MND_kpc  = x[0]\n",
    "    b_MND_kpc  = x[1]\n",
    "    \n",
    "    # read data:\n",
    "    R_kpc_data    = args[0]\n",
    "    z_kpc_data    = args[1]\n",
    "    _REFR0_kpc    = args[2]\n",
    "    Rmin_kpc      = args[3]\n",
    "    Rmax_kpc      = args[4]\n",
    "    \n",
    "    logL_MND = likelihood_MND(R_kpc_data, z_kpc_data, a_MND_kpc, b_MND_kpc, Rmin_kpc, Rmax_kpc)\n",
    "    #print(a_MND_kpc)\n",
    "    #print(logL_MND)\n",
    "    return (logL_MND)\n",
    "'''\n",
    "'''\n",
    "def fit_MND(R_kpc_data, z_kpc_data, _REFR0_kpc = 8., Rmin_kpc = 1., Rmax_kpc = 10.):\n",
    "    lower_floor = 1e-3\n",
    "    bounds = ((lower_floor, 50.),  # a_MND\n",
    "              (lower_floor, 10.))  # b_MND\n",
    "              \n",
    "    #fitting:\n",
    "    res = opt.differential_evolution(\n",
    "                log_MND_scipydifferentialevolution,\n",
    "                bounds = bounds,\n",
    "                args = (R_kpc_data, z_kpc_data, _REFR0_kpc, Rmin_kpc, Rmax_kpc),\n",
    "                strategy = 'best1bin',\n",
    "                maxiter = 1000, tol=0.01, atol=1e-7,\n",
    "                disp = False\n",
    "                )\n",
    "\n",
    "    a_MND_kpc_bestfit  = res.x[0]\n",
    "    b_MND_kpc_bestfit  = res.x[1]\n",
    "    return(a_MND_kpc_bestfit, b_MND_kpc_bestfit)\n",
    "'''\n",
    "\n",
    "## PART FOR THE FIT TO THE DENSITY\n",
    "def disk_dens(R_kpc, z_kpc, dR_kpc, dz_kpc, M_10Msun): \n",
    "    \n",
    "    Rmin_kpc, Rmax_kpc = np.min(R_kpc), np.max(R_kpc)\n",
    "    zmin_kpc, zmax_kpc = np.min(z_kpc), np.max(z_kpc)\n",
    "    \n",
    "    Rbins, zbins = np.arange(Rmin_kpc, Rmax_kpc, dR_kpc), np.arange(zmin_kpc, zmax_kpc, dz_kpc)\n",
    "    mbins, volbins = np.zeros((len(zbins), len(Rbins))), np.zeros((len(zbins), len(Rbins))) \n",
    "    for i in range(len(zbins)):\n",
    "        for j in range(len(Rbins)):\n",
    "            inbin = (Rbins[j] <= R_kpc) & (R_kpc < (Rbins[j] + dR_kpc)) & (zbins[i] <= z_kpc) & (z_kpc < (zbins[i] + dz_kpc))\n",
    "            mbins[i,j] = np.sum(M_10Msun[inbin])\n",
    "            volbins[i,j] = np.pi * dz_kpc * (2. * Rbins[j] * dR_kpc + dR_kpc**2)\n",
    "       \n",
    "    rho = mbins / volbins\n",
    "    return(rho, Rbins, zbins)    \n",
    "\n",
    "def MNdens(x, a_kpc, b_kpc):\n",
    "    '''\n",
    "    INPUT: \n",
    "        x: R_kpc, z_kpc, Mass_tot\n",
    "    '''\n",
    "    R_kpc, z_kpc, mass_10Msun = x[0], x[1], x[2]\n",
    "    first_fac_kpc2 = (mass_10Msun * b_kpc**2) / (4. * np.pi) # * 10^10M_sun\n",
    "    bzsqrt_kpc = np.sqrt(z_kpc**2 + b_kpc**2)\n",
    "    abz_sqrt_kpc = (a_kpc + bzsqrt_kpc)\n",
    "    numerator_kpc3 = a_kpc * R_kpc**2 + (a_kpc + 3. * bzsqrt_kpc) * abz_sqrt_kpc**2\n",
    "    denominator_kpc8 = (R_kpc**2 + abz_sqrt_kpc**2)**(5./2.) * bzsqrt_kpc**3\n",
    "    rho_kpc_3 = first_fac_kpc2 * numerator_kpc3 / denominator_kpc8 # * 10^10 M_sun if not specific density\n",
    "    return(rho_kpc_3)\n",
    "\n",
    "\n",
    "def fit_dens_MND(R_kpc, z_kpc, dR_kpc, dz_kpc, M_tot_disk_stars_10Msun, M_diskstars_10Msun):\n",
    "    rho_data, R_data, z_data = disk_dens(R_kpc, z_kpc, dR_kpc, dz_kpc, M_diskstars_10Msun)\n",
    "    \n",
    "    side_x = R_data\n",
    "    side_y = z_data\n",
    "    X1, X2 = np.meshgrid(side_x, side_y)\n",
    "    size = X1.shape\n",
    "    x1_1d = X1.reshape((1, np.prod(size)))\n",
    "    x2_1d = X2.reshape((1, np.prod(size)))\n",
    "    size2 = x1_1d.shape\n",
    "    x3_1d = np.repeat(M_tot_disk_stars_10Msun, size2[1])\n",
    "    x3_1d = x3_1d.reshape((size2))\n",
    "    xdata = np.vstack((x1_1d, x2_1d, x3_1d))\n",
    "    z = rho_data\n",
    "    Z = z.reshape(size2[1])\n",
    "    ydata = Z\n",
    "    popt, pcov = opt.curve_fit(MNdens, xdata, ydata)\n",
    "    z_fit = MNdens(xdata, *popt)\n",
    "    Z_fit = z_fit.reshape(size)\n",
    "\n",
    "    plt.subplot(1, 2, 1)\n",
    "    plt.title(\"Real Function\")\n",
    "    plt.pcolormesh(X1, X2, z, norm=LogNorm(), cmap=plt.get_cmap('plasma'))\n",
    "    plt.axis('equal')\n",
    "    plt.colorbar()\n",
    "\n",
    "    plt.subplot(1, 2, 2)\n",
    "    plt.title(\"Fitted Function\")\n",
    "    plt.pcolormesh(X1, X2, Z_fit, norm=LogNorm(), cmap=plt.get_cmap('plasma'))\n",
    "    plt.axis('equal')\n",
    "    plt.colorbar()\n",
    "    plt.tight_layout()\n",
    "\n",
    "    plt.show()\n",
    "    return(popt)\n",
    "    \n",
    "    \n",
    "def v_circ_MND_func(R_kpc_data, z_kpc_data, M_tot_10Msun, R0_kpc, z0_kpc = 0.):\n",
    "    a_MND_kpc, b_MND_kpc = fit_MND(R_kpc_data, z_kpc_data, _REFR0_kpc = R0_kpc)\n",
    "    denom = (R0_kpc**2 + (a_MND_kpc + np.sqrt(z0_kpc**2 + b_MND_kpc**2))**2)**(3./2.)\n",
    "    v_circ = R0_kpc * np.sqrt(43.01e3* M_tot_10Msun / denom)\n",
    "    return(a_MND_kpc, b_MND_kpc, v_circ)\n",
    "\n",
    "def v_circ_MND_ab(R_kpc, z_kpc, a_MND_kpc, b_MND_kpc, M_tot_10Msun):\n",
    "    denom = (R_kpc**2 + (a_MND_kpc + np.sqrt(z_kpc**2 + b_MND_kpc**2))**2)**(3./2.)\n",
    "    v_circ = R_kpc * np.sqrt(43.01e3* M_tot_10Msun / denom)\n",
    "    return(v_circ)\n",
    "\n",
    "def v_circ_MND_dens_func(R_kpc, z_kpc, dR_kpc, dz_kpc, M_tot_disk_stars_10Msun, M_diskstars_10Msun, R0_kpc, z0_kpc):\n",
    "    a_MND_kpc, b_MND_kpc = fit_dens_MND(R_kpc, z_kpc, dR_kpc, dz_kpc, M_tot_disk_stars_10Msun, M_diskstars_10Msun)\n",
    "    denom = (R0_kpc**2 + (a_MND_kpc + np.sqrt(z0_kpc**2 + b_MND_kpc**2))**2)**(3./2.)\n",
    "    v_circ = R0_kpc * np.sqrt(43.01e3* M_tot_disk_stars_10Msun / denom)\n",
    "    return(a_MND_kpc, b_MND_kpc, v_circ)\n",
    "\n",
    "def MND(R_kpc, z_kpc, dR_kpc, dz_kpc, M_tot_disk_stars_10Msun, M_diskstars_10Msun, R0_kpc, z0_kpc = 0.):\n",
    "    print('Start MND fit at', datetime.datetime.now().time())\n",
    "    a_MND_kpc, b_MND_kpc, v_circ = v_circ_MND_dens_func(R_kpc, z_kpc, dR_kpc, dz_kpc, M_tot_disk_stars_10Msun, M_diskstars_10Msun, R0_kpc, z0_kpc = 0.)\n",
    "    print('MND: a[kpc], b[kpc], vcirc [km/s]:', a_MND_kpc, b_MND_kpc, v_circ)\n",
    "    return(a_MND_kpc, b_MND_kpc, v_circ)"
   ]
  },
  {
   "cell_type": "code",
   "execution_count": null,
   "metadata": {
    "collapsed": true
   },
   "outputs": [],
   "source": [
    "### fit bulge\n",
    "\n",
    "def rho_data(M_stars_10Msun, r_kpc, dr_kpc, log = True):\n",
    "    \n",
    "    rmin_kpc, rmax_kpc = np.min(r_kpc), np.max(r_kpc)\n",
    "\n",
    "    rbins_kpc = np.arange(rmin_kpc, rmax_kpc, dr_kpc)\n",
    "    rbins_log_kpc = np.logspace(np.log10(rmin_kpc), np.log10(rmax_kpc), 97)\n",
    "    mbins_10Msun = np.zeros(len(rbins_kpc))\n",
    "    volbins_kpc3 = np.zeros(len(rbins_kpc))\n",
    "    if log == False:\n",
    "        for i in range(len(rbins_kpc)):\n",
    "            inbin = (rbins_kpc[i] <= r_kpc) & (r_kpc < (rbins_kpc[i] + dr_kpc)) # spherical shells\n",
    "            mbins_10Msun[i] = np.sum(M_stars_10Msun[inbin])\n",
    "            volbins_kpc3[i] = 4./3. * np.pi * dr_kpc * (3. * rbins_kpc[i]**2 + 3. * rbins_kpc[i] * dr_kpc + dr_kpc**2)\n",
    "    elif log == True:\n",
    "        mbins_10Msun = np.zeros(len(rbins_log_kpc))\n",
    "        volbins_kpc3 = np.zeros(len(rbins_log_kpc))\n",
    "        dr_log_kpc = np.log(rbins_log_kpc[1]/rbins_log_kpc[0])\n",
    "        for i in range(len(rbins_log_kpc)):\n",
    "            inbin = (rbins_log_kpc[i] <= r_kpc) & (r_kpc < (rbins_log_kpc[i] + dr_log_kpc)) # spherical shells\n",
    "            mbins_10Msun[i] = np.sum(M_stars_10Msun[inbin])\n",
    "            volbins_kpc3[i] = 4./3. * np.pi * dr_log_kpc * (3. * rbins_log_kpc[i]**2 + 3. * rbins_log_kpc[i] * dr_log_kpc + dr_log_kpc**2)\n",
    "\n",
    "        \n",
    "    rho_10Msun_kpc3 = mbins_10Msun / volbins_kpc3\n",
    "    return(rho_10Msun_kpc3, rbins_log_kpc)\n",
    "\n",
    "'''\n",
    "def HB(v0_kms, a_HB_kpc, r_kpc, z_kpc, _REFR0_kpc, normalize = True):\n",
    "    HB = HernquistPotential(a_HB_kpc, normalize=normalize)\n",
    "    rho_model_galpy = evaluateDensities(HB, r_kpc, z_kpc) \n",
    "    rho_model_10Msun_kpc3 = rho_model_galpy * bovy_conversion.dens_in_msolpc3(v0_kms, _REFR0_kpc) * 10.\n",
    "    return(rho_model_10Msun_kpc3)\n",
    "'''\n",
    "\n",
    "\n",
    "def Hernquistdens(r_kpc, a_HB_kpc, amp_10Msun):\n",
    "    rho_10Msun_kpc3 = amp_10Msun / (4. * np.pi * a_HB_kpc**3.) * (1. / ((r_kpc / a_HB_kpc) * (1. + r_kpc / a_HB_kpc)**3))\n",
    "    return(np.log(rho_10Msun_kpc3))\n",
    "    \n",
    "def fit_HB(M_stars_10Msun, r_kpc, dr_kpc):\n",
    "    rho_data_10Msun_kpc3, rbins_kpc = rho_data(M_stars_10Msun, r_kpc, dr_kpc)\n",
    "    #print(rbins_kpc)\n",
    "    rho_data_10Msun_kpc3 = np.log(rho_data_10Msun_kpc3)\n",
    "    plt.plot(rbins_kpc, rho_data_10Msun_kpc3, 'r.')\n",
    "    plt.xlabel('r[kpc]')\n",
    "    plt.ylabel('rho [10^10Msun/kpc^3]')\n",
    "    #print(rho_data_10Msun_kpc3, rbins_kpc)\n",
    "    #print(rho_data_10Msun_kpc3)\n",
    "    rho_data_10Msun_kpc3 = np.where(np.isinf(rho_data_10Msun_kpc3), rho_data_10Msun_kpc3[-2] ,rho_data_10Msun_kpc3)\n",
    "    #print(rho_data_10Msun_kpc3)\n",
    "    popt, pcov = opt.curve_fit(Hernquistdens, rbins_kpc, rho_data_10Msun_kpc3)\n",
    "    a_HB_kpc = popt[0]\n",
    "    plt.plot(rbins_kpc, Hernquistdens(rbins_kpc, popt[0], popt[1]))\n",
    "    plt.show()\n",
    "    return(a_HB_kpc)\n",
    "\n",
    "def v_circ_HB_func(M_stars_10Msun, r_kpc, dr_kpc, r0_kpc):\n",
    "    a_HB_kpc = fit_HB(M_stars_10Msun, r_kpc, dr_kpc)\n",
    "    M_tot_10Msun = np.sum(M_stars_10Msun)\n",
    "    vcirc = np.sqrt(43.01e3* M_tot_10Msun * r0_kpc)/ (r0_kpc + a_HB_kpc)\n",
    "    #vcirc = np.sqrt(43.01e3 * M_enc / r_kpc)\n",
    "    return(a_HB_kpc, vcirc)\n",
    "\n",
    "def v_circ_HB_func_justr(r_kpc, a_HB_kpc, M_tot_10Msun):\n",
    "    vcirc = np.sqrt(43.01e3* M_tot_10Msun * r_kpc)/ (r_kpc + a_HB_kpc)\n",
    "    return(vcirc)\n",
    "    \n",
    "def v_circ_HB_a(r_kpc_spher, M_spher_10Msun):#, a_HB_kpc, M_stars_10Msun):\n",
    "    \"\"\"\n",
    "    INPUT:\n",
    "    \"\"\"\n",
    "    #M_tot_10Msun = np.sum(M_stars_10Msun)\n",
    "    #vcirc = np.sqrt(43.01e3* M_tot_10Msun * r_kpc)/ (r_kpc + a_HB_kpc)\n",
    "\n",
    "    r_kpc = np.linspace(np.min(r_kpc_spher), np.max(r_kpc_spher), 25)\n",
    "    v_circ_shell = np.zeros(len(r_kpc))\n",
    "    for i, item in enumerate(r_kpc):\n",
    "        mass_mask = np.where((r_kpc_spher<=item))\n",
    "        mass_10Msun  = np.sum(M_spher_10Msun[mass_mask])\n",
    "        v_circ_shell[i] = np.sqrt(43.01e3 * mass_10Msun / item)\n",
    "    return(v_circ_shell)\n",
    "\n",
    "def HB(M_stars_10Msun, r_kpc, dr_kpc, r0_kpc):\n",
    "    print('Start HB fit at', datetime.datetime.now().time())\n",
    "    a_HB_kpc, vcirc = v_circ_HB_func(M_stars_10Msun, r_kpc, dr_kpc, r0_kpc)\n",
    "    print('HB: a[kpc], vcirc [km/s]:', a_HB_kpc, vcirc)\n",
    "    return(a_HB_kpc, vcirc)\n",
    "\n",
    "def HB2(r_kpc_spher, M_spher_10Msun):\n",
    "    vcirc = v_circ_HB_a(r_kpc_spher, M_spher_10Msun)\n",
    "    return(vcirc)"
   ]
  },
  {
   "cell_type": "markdown",
   "metadata": {},
   "source": [
    "$v_{circ_{tot}} = \\sqrt{\\frac{GM(<R_0)}{R_0}} $\n",
    "\n",
    "$G = 43.0071 \\cdot 10^{3} \\frac{kpc}{10^{10} M_\\odot}\\frac{km^2}{s^2}$"
   ]
  },
  {
   "cell_type": "code",
   "execution_count": null,
   "metadata": {
    "collapsed": true
   },
   "outputs": [],
   "source": [
    "def v_circ_tot_func(r_kpc):\n",
    "    try:\n",
    "        test = len(r_kpc)\n",
    "        types = ( s.type == 0) + (s.type == 1) + (s.type == 2) + (s.type == 3) + (s.type == 4)\n",
    "\n",
    "        #mass_mask    = np.zeros(len(r_kpc))\n",
    "        #mass_10Msun  = np.zeros(len(r_kpc))\n",
    "        v_circ_shell = np.zeros(len(r_kpc))\n",
    "\n",
    "        for i, item in enumerate(r_kpc):\n",
    "            mass_mask    = np.where( (types) & (s.halo == 0) & ((1000. * s.r()) < (item)))\n",
    "            mass_10Msun  = np.sum(s.mass[mass_mask])\n",
    "            v_circ_shell[i] = np.sqrt(43.01e3 * mass_10Msun / item)\n",
    "\n",
    "        v_circ =  v_circ_shell\n",
    "    except:\n",
    "        mass_10Msun = np.sum(s.mass[((1000. * s.r()) <= r_kpc) ] )\n",
    "        v_circ = np.sqrt(43.01e3 * mass_10Msun / r_kpc)\n",
    "        \n",
    "    return(v_circ)"
   ]
  },
  {
   "cell_type": "code",
   "execution_count": null,
   "metadata": {
    "collapsed": true
   },
   "outputs": [],
   "source": [
    "### fit halo (variably)\n",
    "\n",
    "def v_circ_NFW_func(r_kpc, v_circ_MND, v_circ_HB, v_circ_tot = None):\n",
    "    try:\n",
    "        if v_circ_tot == None:\n",
    "            v_circ_tot = v_circ_tot_func(r_kpc)\n",
    "    except ValueError:\n",
    "        pass\n",
    "        #continue\n",
    "\n",
    "    v_circ_NFW = np.sqrt(v_circ_tot**2 - v_circ_MND**2 - v_circ_HB**2) #could be negative! then its nan vals\n",
    "    return(v_circ_NFW)\n"
   ]
  },
  {
   "cell_type": "code",
   "execution_count": null,
   "metadata": {
    "collapsed": true
   },
   "outputs": [],
   "source": [
    "#_____function that sets-up galpy potential_____\n",
    "def setup_galpy_potential(a_MND_kpc, b_MND_kpc, a_NFWH_kpc, a_HB_kpc, n_MND, n_NFWH, n_HB, _REFR0_kpc):\n",
    "    \n",
    "    #test input:\n",
    "    if (a_MND_kpc <= 0.) or (b_MND_kpc <= 0.) or (a_NFWH_kpc <= 0.) or (a_HB_kpc <= 0.) \\\n",
    "       or (n_MND <= 0.) or (n_NFWH <= 0.) or (n_HB <= 0.) or (n_MND >= 1.) or (n_NFWH >= 1.) or (n_HB >= 1.):\n",
    "        raise ValueError('Error in setup_galpy_potential: '+\\\n",
    "                         'The input parameters for the scaling profiles do not correspond to a physical potential.')\n",
    "    if np.fabs(n_MND + n_NFWH + n_HB - 1.) > 1e-7:\n",
    "        raise ValueError('Error in setup_galpy_potential: '+\\\n",
    "                         'The sum of the normalization does not add up to 1.')\n",
    "        \n",
    "    #trafo to galpy units:\n",
    "    a_MND  = a_MND_kpc  / _REFR0_kpc\n",
    "    b_MND  = b_MND_kpc  / _REFR0_kpc\n",
    "    a_NFWH = a_NFWH_kpc / _REFR0_kpc\n",
    "    a_HB   = a_HB_kpc   / _REFR0_kpc\n",
    "    \n",
    "    #setup potential:\n",
    "    disk = MiyamotoNagaiPotential(\n",
    "                a = a_MND,\n",
    "                b = b_MND,\n",
    "                normalize = n_MND)\n",
    "    halo = NFWPotential(\n",
    "                a = a_NFWH,\n",
    "                normalize = n_NFWH)\n",
    "    bulge = HernquistPotential(\n",
    "                a = a_HB,\n",
    "                normalize = n_HB) \n",
    "     \n",
    "    return [disk,halo,bulge]\n"
   ]
  },
  {
   "cell_type": "code",
   "execution_count": null,
   "metadata": {
    "collapsed": true
   },
   "outputs": [],
   "source": [
    "#_____function for scipy.differential_evolution that sums the relative error squares_____\n",
    "def rel_pot_error_scipydifferentialevolution(x,*args):\n",
    "    \n",
    "    # read fitting parameters:\n",
    "    v0_tot_kms = x[0]\n",
    "    a_NFWH_kpc = x[1]\n",
    "        \n",
    "    \n",
    "    # read data:\n",
    "    \n",
    "    a_MND_kpc     = args[0]\n",
    "    b_MND_kpc     = args[1]\n",
    "    a_HB_kpc      = args[2]    \n",
    "    v0_MND_kms    = args[3]\n",
    "    v0_HB_kms     = args[4]\n",
    "    R_kpc_data    = args[5]\n",
    "    z_kpc_data    = args[6]\n",
    "    pot_kms2_data = args[7]\n",
    "    _REFR0_kpc    = args[8]\n",
    "    \n",
    "    \n",
    "    v0_NFWH_kms = np.sqrt(v0_tot_kms**2 - v0_HB_kms**2 - v0_MND_kms**2)\n",
    "    \n",
    "    n_NFWH = v0_NFWH_kms**2 / v0_tot_kms**2\n",
    "    n_HB   = v0_HB_kms**2   / v0_tot_kms**2\n",
    "    n_MND  = v0_MND_kms**2  / v0_tot_kms**2\n",
    "    # setup potential (and check if parameters are physical):\n",
    "    try:\n",
    "        pot_galpy_model = setup_galpy_potential(a_MND_kpc, b_MND_kpc, a_NFWH_kpc, a_HB_kpc, n_MND, n_NFWH, n_HB, _REFR0_kpc)\n",
    "    except Exception as e:\n",
    "        return np.inf\n",
    "\n",
    "    # calculate potential values at (R,z) for this potential:\n",
    "    #print(R_kpc_data)\n",
    "    #print(z_kpc_data)\n",
    "    #print(_REFR0_kpc)\n",
    "    #print(v0_tot_kms)\n",
    "    pot_kms2_model = evaluatePotentials(pot_galpy_model,\n",
    "                                   R_kpc_data / _REFR0_kpc,\n",
    "                                   z_kpc_data / _REFR0_kpc) * (v0_tot_kms)**2\n",
    "    \n",
    "    #calculate sum of relative error squares:\n",
    "    err = np.sum(((pot_kms2_data - pot_kms2_model) / pot_kms2_model)**2)\n",
    "    return err"
   ]
  },
  {
   "cell_type": "code",
   "execution_count": null,
   "metadata": {
    "collapsed": true,
    "scrolled": false
   },
   "outputs": [],
   "source": [
    "### get everything together somehow \n",
    "\n",
    "level = 4\n",
    "startsnap = 60\n",
    "endsnap = 128\n",
    "\n",
    "#j = 0\n",
    "\n",
    "for halo_number in [24]:  # range(1, 31):\n",
    "    halodir = basedir+\"halo_{0}/\".format(halo_number)\n",
    "    snappath = halodir+\"output/\"\n",
    "    for snapnr in range(startsnap,endsnap,1):\n",
    "        print(\"snapnr  : {0}\".format(snapnr))\n",
    "        print(datetime.datetime.now().time())\n",
    "        try:\n",
    "            s, sf = eat_snap_and_fof(level, halo_number, snapnr, snappath, loadonlytype=[1,2,3,4], \n",
    "            haloid=0, galradfac=0.1, verbose=True)    \n",
    "        except KeyError:\n",
    "            print('\\n\\n', snapnr, 'not read in.\\n\\n')\n",
    "            continue\n",
    "            \n",
    "        try: \n",
    "            # Clean negative and zero values of gmet to avoid RuntimeErrors\n",
    "            # later on (e.g. dividing by zero)\n",
    "            s.data['gmet'] = np.maximum( s.data['gmet'], 1e-40 )\n",
    "        except:\n",
    "            continue\n",
    "\n",
    "            \n",
    "        \n",
    "        R0_kpc = 1000. * 1./3. * s.galrad\n",
    "        z0_kpc = 0.\n",
    "        r0_kpc = R0_kpc\n",
    "        dr_kpc = 0.5\n",
    "        \n",
    "        disk_ID, spheroid_ID, bulge_ID, halo_ID = decomp(s, r_cutoff_Mpc = 0.05, Gcosmo = 43.01, plotter = True, disccirc_min = 0.7, disccirc_max = 1.7)\n",
    "        \n",
    "        ## get data from simulations\n",
    "\n",
    "        i_stars = np.where( (s.halo == 0) & (s.type == 4) & (s.r() <= s.galrad) & (s.r() > 0.) )\n",
    "        #j = np.where( s.data[i_stars]['age'] > 0. )\n",
    "        #i_stars = i_stars[j]\n",
    "        i_spheroid = np.isin(s.id, spheroid_ID)\n",
    "        i_disk = np.isin(s.id, disk_ID)\n",
    "        i_dm = np.where( (s.halo == 0) & ((s.type == 1) + (s.type == 2) + (s.type == 3)) )\n",
    "        \n",
    "        galrad_kpc = 1000. * s.galrad\n",
    "        \n",
    "        # choice of R_kpc_data and z_kpc_data\n",
    "        (x_kpc, y_kpc, z_kpc), (vx_kpc, vy_kpc, vz_kpc), rxyz_kpc, rxy_kpc = get_cartesian_vectors(s, sf, i_stars)\n",
    "        (R_kpc, phi, z_kpc), (vR_kms, vphi_kms, vz_kms) = get_cylindrical_vectors(s, sf, i_stars)\n",
    "        #print('istars', len(i_stars[0]), 'idisk', np.sum(i_disk), 'i_spher', np.sum(i_spheroid))\n",
    "\n",
    "        (x_kpc_disk, y_kpc_disk, z_kpc_disk), (vx_kpc_disk, vy_kpc_disk, vz_kpc_disk), rxyz_kpc_disk, rxy_kpc_disk = get_cartesian_vectors(s, sf, i_disk)\n",
    "        (R_kpc_disk, phi_disk, z_kpc_disk), (vR_kms_disk, vphi_kms_disk, vz_kms_disk) = get_cylindrical_vectors(s, sf, i_disk)\n",
    "        \n",
    "        (x_kpc_spher, y_kpc_spher, z_kpc_spher), (vx_kpc_spher, vy_kpc_spher, vz_kpc_spher), rxyz_kpc_spher, rxy_kpc_spher = get_cartesian_vectors(s, sf, i_spheroid)\n",
    "        (R_kpc_spher, phi_spher, z_kpc_spher), (vR_kms_spher, vphi_kms_spher, vz_kms_spher) = get_cylindrical_vectors(s, sf, i_spheroid)\n",
    "\n",
    "        \n",
    "        #R_kpc_data = R_kpc[i_disk][i_stars]\n",
    "        #z_kpc_data = z_kpc[i_disk][i_stars]\n",
    "        r_kpc_spher = 1000. * s.r()[i_spheroid]\n",
    "        #print(np.max(r_kpc))\n",
    "        \n",
    "        plt.hist2d(R_kpc_disk, z_kpc_disk, 41, norm=LogNorm())\n",
    "        plt.colorbar()\n",
    "        plt.axis('equal')\n",
    "        plt.show()\n",
    "        plt.hist2d(x_kpc_disk, y_kpc_disk, 41, norm=LogNorm())\n",
    "        plt.axis('equal')\n",
    "        plt.colorbar()\n",
    "        plt.show()        \n",
    "        \n",
    "        plt.hist2d(R_kpc_spher, z_kpc_spher, 41, norm=LogNorm())\n",
    "        plt.axis('equal')\n",
    "        plt.colorbar()\n",
    "        plt.show()\n",
    "        plt.hist2d(x_kpc_spher, y_kpc_spher, 41, norm=LogNorm())\n",
    "        plt.axis('equal')\n",
    "        plt.colorbar()\n",
    "        plt.show()\n",
    "        \n",
    "        M_disk_10Msun = s.mass[i_disk]\n",
    "        M_disk_tot_10Msun = np.sum(s.mass[i_disk])\n",
    "        M_spher_10Msun = s.mass[i_spheroid]\n",
    "        \n",
    "        r_kpc_binned = np.linspace(np.min(r_kpc_spher), np.max(r_kpc_spher), 25)\n",
    "        #print(r_kpc_binned)\n",
    "        \n",
    "        ## fit single parts\n",
    "        res1 = MND(R_kpc_disk, z_kpc_disk, dR_kpc = 0.5, dz_kpc = 1., M_tot_disk_stars_10Msun = M_disk_tot_10Msun, M_diskstars_10Msun = M_disk_10Msun, R0_kpc = R0_kpc, z0_kpc = 0.)\n",
    "        a_MND_kpc, b_MND_kpc, v_circ_MND = res1\n",
    "        res = fit_dens_MND(R_kpc_disk, z_kpc_disk, dR_kpc = 0.5, dz_kpc = 1., M_tot_disk_stars_10Msun = M_disk_tot_10Msun, M_diskstars_10Msun = M_disk_10Msun)\n",
    "        #a_MND_kpc, b_MND_kpc, v_circ_MND = MND(R_kpc_data[i_disk], z_kpc_data[i_disk], M_stars_tot_10Msun, R0_kpc, z0_kpc = 0.)\n",
    "        a_HB_kpc, v_circ_HB = HB(M_spher_10Msun, r_kpc_spher, dr_kpc, r0_kpc)\n",
    "        v_circ_test1 = HB2(r_kpc_spher, M_spher_10Msun)\n",
    "        v_circ_test2 = v_circ_HB_func_justr(r_kpc_binned, a_HB_kpc, np.sum(M_spher_10Msun))\n",
    "        \n",
    "        plt.plot(r_kpc_binned, v_circ_test1, 'r-', label = '$\\sqrt{\\\\frac{GM(<r)}{r}}$')\n",
    "        plt.plot(r_kpc_binned, v_circ_test2, 'g--', label = '$\\\\frac{\\sqrt{GMr}}{r+a}$')\n",
    "        plt.legend()\n",
    "        plt.show()\n",
    "        #rot curves\n",
    "        \n",
    "        \n",
    "        #### GUESS OK WITH THE SPHEROID AND DISK FIT \n",
    "        \n",
    "        r_kpc           = np.linspace(0, 1000. * s.galrad, 100)\n",
    "        v_circ_disk     = v_circ_MND_ab(R_kpc=r_kpc, z_kpc=0., a_MND_kpc=a_MND_kpc, b_MND_kpc=b_MND_kpc, M_tot_10Msun=M_disk_tot_10Msun)\n",
    "        v_circ_spheroid = v_circ_HB_func_justr(r_kpc, a_HB_kpc, np.sum(M_spher_10Msun))\n",
    "        v_circ_tot      = v_circ_tot_func(r_kpc=r_kpc)\n",
    "        v_circ_halo     = v_circ_NFW_func(r_kpc, v_circ_disk, v_circ_spheroid, v_circ_tot)\n",
    "\n",
    "        v0_MND_kms = v_circ_MND_ab(R0_kpc, z0_kpc, a_MND_kpc=a_MND_kpc, b_MND_kpc=b_MND_kpc, M_tot_10Msun=M_disk_tot_10Msun)\n",
    "        v0_HB_kms  = v_circ_HB_func_justr(R0_kpc, a_HB_kpc, np.sum(M_spher_10Msun))\n",
    "        print(v0_MND_kms, v0_HB_kms)\n",
    "        v0_circ_tot = v_circ_tot_func(r_kpc=R0_kpc)\n",
    "        print('v0_circ_tot =', v0_circ_tot)\n",
    "        \n",
    "        plt.plot(r_kpc, v_circ_spheroid, 'b:', label = 'spheroid')\n",
    "        plt.plot(r_kpc, v_circ_disk, 'g-.', label = 'disk')\n",
    "        plt.plot(r_kpc, v_circ_halo, 'r--', label = 'halo')\n",
    "        plt.plot(r_kpc, v_circ_tot, 'k-', label = 'total')\n",
    "        plt.xlabel('R [kpc]')\n",
    "        plt.ylabel('$v_{circ} \\ [km/s]$')\n",
    "        plt.legend()        \n",
    "        plt.show()\n",
    "        # calculate v_circ NFW\n",
    "        #v_circ_NFW = v_circ_NFW_func(v_circ_MND, v_circ_HB, R0_kpc)\n",
    "        #print(v_circ_NFW, v_circ_MND, v_circ_HB)\n",
    "        #nn = 35\n",
    "        #R0_ref = r_kpc[nn]\n",
    "        #print(R0_ref)\n",
    "        #v0_ref = v_circ_tot[nn]\n",
    "        #n_NFW  = v_circ_halo[nn]** 2      / v_circ_tot[nn] **2\n",
    "        #n_HB   = v_circ_spheroid[nn] ** 2 / v_circ_tot[nn] **2\n",
    "        #n_MND  = v_circ_disk[nn] ** 2     / v_circ_tot[nn] **2\n",
    "        #print(r_kpc[30], n_NFW + n_HB + n_MND )\n",
    "        \n",
    "        part_num = 50001\n",
    "        \n",
    "        i_dm, = np.where( (s.halo == 0) & (s.r() < s.galrad) & (s.r() > 0.) & ((s.type == 1) + (s.type == 2) + (s.type == 3) ))\n",
    "\n",
    "\n",
    "        r_kpc_dm = 1000. * s.r()[i_dm]\n",
    "        (R_kpc_dm, phi_rad_dm, z_kpc_dm), (vR_kms_dm, vphi_kms_dm, vz_kms_dm) = get_cylindrical_vectors(s, sf, i_dm) \n",
    "        pot_kms2_dm = s.pot[i_dm]\n",
    "\n",
    "        # draw random sample out of data\n",
    "        try:\n",
    "            rand_samp = np.array(random.sample(list(enumerate(pot_kms2_dm)), part_num))\n",
    "            rand_ind = rand_samp[:,0].astype(int)\n",
    "            pot_kms2_dm_data = rand_samp[:, 1]\n",
    "            r_kpc_dm_data = r_kpc_dm[rand_ind]\n",
    "            R_kpc_dm_data = R_kpc_dm[rand_ind]\n",
    "            z_kpc_dm_data = z_kpc_dm[rand_ind]\n",
    "        except ValueError:        \n",
    "            pot_kms2_dm_data = pot_kms2_dm\n",
    "            r_kpc_dm_data = r_kpc_dm\n",
    "            R_kpc_dm_data = R_kpc_dm\n",
    "            z_kpc_dm_data = z_kpc_dm\n",
    "        lower_floor = 1e-3\n",
    "        bounds = ((5./6. * v0_circ_tot, 400.), #REF_V0_kms\n",
    "                 (lower_floor, 400.)) #a_NFWH\n",
    "        args = (a_MND_kpc, b_MND_kpc, a_HB_kpc, v0_MND_kms, v0_HB_kms, R_kpc_dm_data, z_kpc_dm_data, pot_kms2_dm_data, R0_kpc)\n",
    "\n",
    "        print(args)\n",
    "        plt.hist2d(R_kpc_dm_data, z_kpc_dm_data, 21, norm=LogNorm())\n",
    "        plt.axis('equal')\n",
    "        plt.colorbar()\n",
    "        plt.show()\n",
    "        #plt.hist2d(x_kpc_spher, y_kpc_spher, 21, norm=LogNorm())\n",
    "        #plt.axis('equal')\n",
    "        #plt.colorbar()\n",
    "        #plt.show()\n",
    "\n",
    "        #fitting:\n",
    "        res = opt.differential_evolution(\n",
    "                    rel_pot_error_scipydifferentialevolution,\n",
    "                    bounds=bounds,\n",
    "                    args=args,#, MND, HB, NFWH),\n",
    "                    strategy='best1bin',\n",
    "                    maxiter=1000,tol=0.01,atol=1e-7,\n",
    "                    disp=False\n",
    "                    )\n",
    "        \n",
    "\n",
    "        v0_kms_bestfit     = res.x[0]\n",
    "        a_NFWH_kpc_bestfit = res.x[1]\n",
    "    \n",
    "        \n",
    "        v0_NFWH_kms = np.sqrt(v0_kms_bestfit**2 - v0_HB_kms**2 - v0_MND_kms**2)\n",
    "        data_saved = np.array([snapnr, R0_kpc, v0_kms_bestfit, a_MND_kpc, b_MND_kpc, a_HB_kpc, a_NFWH_kpc_bestfit, v0_MND_kms, v0_HB_kms, v0_NFWH_kms])\n",
    "        print(len(data_saved), np.shape(data_saved))\n",
    "        print(data_saved)\n",
    "        formt = '%3.12f'\n",
    "        \n",
    "        np.savetxt(filedir + 'potential_params/pot_snap_' + str(snapnr), data_saved, fmt = formt)\n",
    "        print('Snapshot = ', snapnr)\n",
    "        print('v0_tot_kms at R0_kpc =', R0_kpc, ':', v0_kms_bestfit)\n",
    "        print('Stellar Disk - a_MND_kpc =', a_MND_kpc, 'b_MND_kpc =', b_MND_kpc, 'v0_MND_kms =', v0_MND_kms)\n",
    "        print('Stellar Spheroid - a_HB_kp c=', a_HB_kpc, 'v0_HB_kms =', v0_HB_kms)\n",
    "        print('DM Halo - a_NFWH_kpc =', a_NFWH_kpc_bestfit, 'v0_NFWH_kms =', v0_NFWH_kms)\n",
    "\n"
   ]
  },
  {
   "cell_type": "code",
   "execution_count": null,
   "metadata": {
    "collapsed": true
   },
   "outputs": [],
   "source": [
    "v0_NFWH_kms = np.sqrt(v0_kms_bestfit**2 - v0_HB_kms**2 - v0_MND_kms**2)\n",
    "print('v0_tot_kms at R0_kpc =', R0_kpc, ':', v0_kms_bestfit)\n",
    "print('Stellar Disk - a_MND_kpc =', a_MND_kpc, 'b_MND_kpc =', b_MND_kpc, 'v0_MND_kms =', v0_MND_kms)\n",
    "print('Stellar Spheroid - a_HB_kp c=', a_HB_kpc, 'v0_HB_kms =', v0_HB_kms)\n",
    "print('DM Halo - a_NFWH_kpc =', a_NFWH_kpc_bestfit, 'v0_NFWH_kms =', v0_NFWH_kms)\n"
   ]
  },
  {
   "cell_type": "code",
   "execution_count": null,
   "metadata": {
    "collapsed": true
   },
   "outputs": [],
   "source": [
    "v0_NFWH_kms = np.sqrt(v0_kms_bestfit**2 - v0_HB_kms**2 - v0_MND_kms**2)\n",
    "print('v0_tot_kms at R0_kpc =', R0_kpc, ':', v0_kms_bestfit)\n",
    "print('Stellar Disk - a_MND_kpc:', a_MND_kpc, 'b_MND_kpc:', b_MND_kpc, 'v0_MND_kms:', v0_MND_kms)\n",
    "print('Stellar Spheroid - a_HB_kpc:', a_HB_kpc, 'v0_HB_kms:', v0_HB_kms)\n",
    "print('DM Halo - a_NFWH_kpc:', a_NFWH_kpc_bestfit, 'v0_NFWH_kms:', v0_NFWH_kms)\n"
   ]
  },
  {
   "cell_type": "code",
   "execution_count": null,
   "metadata": {
    "collapsed": true
   },
   "outputs": [],
   "source": [
    "n_NFW = v_circ_halo[35] ** 2 / v_circ_tot[35] **2\n",
    "n_HB = v_circ_spheroid[35] ** 2 / v_circ_tot[35] **2\n",
    "n_MND = v_circ_disk[35] ** 2 / v_circ_tot[35] **2\n",
    "print(r_kpc[65], n_NFW + n_HB + n_MND )"
   ]
  },
  {
   "cell_type": "code",
   "execution_count": null,
   "metadata": {
    "collapsed": true
   },
   "outputs": [],
   "source": [
    "\n",
    "v_circ_NFW = v_circ_NFW_func(v_circ_MND, v_circ_HB, R0_kpc)\n",
    "print(v_circ_NFW, v_circ_MND, v_circ_HB)\n",
    "print(np.sqrt(v_circ_NFW**2 + v_circ_HB**2 + v_circ_MND**2))"
   ]
  },
  {
   "cell_type": "code",
   "execution_count": null,
   "metadata": {
    "collapsed": true,
    "scrolled": false
   },
   "outputs": [],
   "source": [
    "a_HB_kpc"
   ]
  },
  {
   "cell_type": "code",
   "execution_count": null,
   "metadata": {
    "collapsed": true
   },
   "outputs": [],
   "source": [
    "print(a_MND_kpc, b_MND_kpc, a_HB_kpc\n",
    "     )"
   ]
  },
  {
   "cell_type": "code",
   "execution_count": null,
   "metadata": {
    "collapsed": true,
    "scrolled": true
   },
   "outputs": [],
   "source": [
    "plt.plot(r_kpc, v_circ_spheroid, 'k.', label = 'spheroid')\n",
    "plt.plot(r_kpc, v_circ_disk, 'g-', label = 'disk')\n",
    "plt.plot(r_kpc, v_circ_halo, 'r--', label = 'halo')\n",
    "plt.plot(r_kpc, v_circ_tot, 'b-.', label = 'total')\n",
    "plt.xlabel('R [kpc]')\n",
    "plt.ylabel('$v_{circ} \\ [km/s]$')\n",
    "plt.legend()"
   ]
  },
  {
   "cell_type": "code",
   "execution_count": null,
   "metadata": {
    "collapsed": true
   },
   "outputs": [],
   "source": []
  },
  {
   "cell_type": "code",
   "execution_count": null,
   "metadata": {
    "collapsed": true
   },
   "outputs": [],
   "source": []
  },
  {
   "cell_type": "code",
   "execution_count": null,
   "metadata": {
    "collapsed": true
   },
   "outputs": [],
   "source": []
  },
  {
   "cell_type": "code",
   "execution_count": null,
   "metadata": {
    "collapsed": true
   },
   "outputs": [],
   "source": []
  }
 ],
 "metadata": {
  "kernelspec": {
   "display_name": "Python 3",
   "language": "python",
   "name": "python3"
  },
  "language_info": {
   "codemirror_mode": {
    "name": "ipython",
    "version": 3
   },
   "file_extension": ".py",
   "mimetype": "text/x-python",
   "name": "python",
   "nbconvert_exporter": "python",
   "pygments_lexer": "ipython3",
   "version": "3.6.1"
  }
 },
 "nbformat": 4,
 "nbformat_minor": 2
}
