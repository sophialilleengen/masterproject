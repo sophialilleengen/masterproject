{
 "cells": [
  {
   "cell_type": "code",
   "execution_count": 1,
   "metadata": {
    "collapsed": true
   },
   "outputs": [],
   "source": [
    "machine = 'mac'\n",
    "machine = 'magny'"
   ]
  },
  {
   "cell_type": "code",
   "execution_count": 2,
   "metadata": {
    "collapsed": true
   },
   "outputs": [],
   "source": [
    "if machine == 'magny':\n",
    "    basedir = \"/hits/universe/GigaGalaxy/level4_MHD/\"\n",
    "    outdir = \"/home/extmilan/masterthesis/files/\"\n",
    "elif machine == 'mac': \n",
    "    basedir = \"/Users/smilanov/Desktop/Auriga/level4/\"\n",
    "    outdir = \"/Users/smilanov/Documents/masterthesis/auriga_files/files/\"\n",
    "    \n",
    "file = outdir + 'potential_params_1000_with_initeqbestfit.txt'"
   ]
  },
  {
   "cell_type": "code",
   "execution_count": 3,
   "metadata": {},
   "outputs": [
    {
     "name": "stdout",
     "output_type": "stream",
     "text": [
      "galpyWarning: A major change in versions > 1.1 is that all galpy.potential functions and methods take the potential as the first argument; previously methods such as evaluatePotentials, evaluateDensities, etc. would be called with (R,z,Pot), now they are called as (Pot,R,z) for greater consistency across the codebase\n"
     ]
    }
   ],
   "source": [
    "from galpy.potential import NFWPotential as NFWpot\n",
    "from galpy.potential import HernquistPotential as HEpot\n",
    "from galpy.potential import DoubleExponentialDiskPotential as DEpot\n",
    "from galpy.potential import MiyamotoNagaiPotential as MNpot\n",
    "from galpy.potential import MN3ExponentialDiskPotential as MN3pot\n",
    "from galpy.potential import MWPotential2014\n",
    "from galpy.potential import evaluatePotentials, MiyamotoNagaiPotential, NFWPotential, HernquistPotential\n",
    "\n",
    "\n",
    "from galpy.potential import evaluateDensities, evaluatePotentials\n",
    "from galpy.potential import plotDensities\n",
    "from galpy.potential import plotRotcurve\n",
    "from galpy.util import bovy_conversion\n",
    "\n",
    "import emcee\n",
    "\n",
    "import numpy as np\n",
    "from scipy import optimize as opt\n",
    "\n",
    "from astropy import units\n",
    "\n",
    "import matplotlib.pyplot as plt\n",
    "from matplotlib.colors import LogNorm\n",
    "\n",
    "from mpl_toolkits.axes_grid1 import make_axes_locatable\n",
    "from mpl_toolkits.mplot3d import Axes3D\n",
    "import copy\n",
    "\n",
    "from areposnap.gadget import gadget_readsnap\n",
    "from areposnap.gadget_subfind import load_subfind\n",
    "\n",
    "from auriga_basics import *\n",
    "from auriga_functions import *\n",
    "\n",
    "import datetime\n",
    "import random\n",
    "\n",
    "%matplotlib inline"
   ]
  },
  {
   "cell_type": "markdown",
   "metadata": {},
   "source": [
    "With eat_snap_and_fof we can read in simulations from snapnr 3.\n",
    "\n",
    "Number of DM particles (does not change during simulation run): 34,898,087\n",
    "\n",
    "Let's take a random sample which makes $0.5\\%$:\n",
    "\n",
    "$0.005 \\cdot 34898087 \\approx 175000$\n",
    "\n"
   ]
  },
  {
   "cell_type": "markdown",
   "metadata": {},
   "source": [
    "Potential fitting function input values\n",
    "---\n",
    "\n",
    "- maximum R [Mpc] - def 2 * s.galrad\n",
    "- mask to fit potential (default - dm)\n",
    "    - 0: all\n",
    "    - 1: gas\n",
    "    - 2: DM\n",
    "    - 3: stars\n",
    "    \n",
    "- number of particles\n",
    "- fitting function (default - emcee1)\n",
    "    - if emcee1 number of walkers, number of steps\n",
    "- savefile\n",
    "- R0 [kpc] - def 8kpc\n",
    "\n",
    "parameters:\n",
    "- plot\n",
    "- save\n",
    "- verbose\n"
   ]
  },
  {
   "cell_type": "code",
   "execution_count": 4,
   "metadata": {
    "collapsed": true
   },
   "outputs": [],
   "source": [
    "#_____function that sets-up galpy potential_____\n",
    "def setup_galpy_potential(a_MND_kpc, b_MND_kpc, a_NFWH_kpc, a_HB_kpc, n_MND, n_NFWH, n_HB, _REFR0_kpc):\n",
    "    \n",
    "    #test input:\n",
    "    if (a_MND_kpc <= 0.) or (b_MND_kpc <= 0.) or (a_NFWH_kpc <= 0.) or (a_HB_kpc <= 0.) \\\n",
    "       or (n_MND <= 0.) or (n_NFWH <= 0.) or (n_HB <= 0.) or (n_MND >= 1.) or (n_NFWH >= 1.) or (n_HB >= 1.):\n",
    "        raise ValueError('Error in setup_galpy_potential: '+\\\n",
    "                         'The input parameters for the scaling profiles do not correspond to a physical potential.')\n",
    "    if np.fabs(n_MND + n_NFWH + n_HB - 1.) > 1e-7:\n",
    "        raise ValueError('Error in setup_galpy_potential: '+\\\n",
    "                         'The sum of the normalization does not add up to 1.')\n",
    "        \n",
    "    #trafo to galpy units:\n",
    "    a_MND  = a_MND_kpc / _REFR0_kpc\n",
    "    b_MND  = b_MND_kpc / _REFR0_kpc\n",
    "    a_NFWH = a_NFWH_kpc / _REFR0_kpc\n",
    "    a_HB   = a_HB_kpc / _REFR0_kpc\n",
    "    \n",
    "    #setup potential:\n",
    "    disk = MiyamotoNagaiPotential(\n",
    "                a = a_MND,\n",
    "                b = b_MND,\n",
    "                normalize = n_MND)\n",
    "    halo = NFWPotential(\n",
    "                a = a_NFWH,\n",
    "                normalize = n_NFWH)\n",
    "    bulge = HernquistPotential(\n",
    "                a = a_HB,\n",
    "                normalize = n_HB)\n",
    "    return [disk, halo, bulge]\n"
   ]
  },
  {
   "cell_type": "code",
   "execution_count": 5,
   "metadata": {
    "collapsed": true
   },
   "outputs": [],
   "source": [
    "#_____function for MCMC, sum of error squares_____\n",
    "def lnprob_MCMC(x, *args):\n",
    "    \n",
    "    # read fitting parameters:\n",
    "    v0_kms     = x[0]\n",
    "    a_MND_kpc  = x[1]\n",
    "    b_MND_kpc  = x[2]\n",
    "    a_NFWH_kpc = x[3]\n",
    "    a_HB_kpc   = x[4]\n",
    "    n_MND      = x[5]\n",
    "    n_NFWH     = x[6]\n",
    "    n_HB       = 1. - n_NFWH - n_MND\n",
    "    \n",
    "    # check if imput parameters are physical:\n",
    "    if v0_kms <= 0: return -np.inf\n",
    "    # (Note: all other parameters are checked during setting up the galpy potential.)\n",
    "        \n",
    "    #read data:\n",
    "    R_kpc_data    = args[0]\n",
    "    z_kpc_data    = args[1]\n",
    "    pot_kms2_data = args[2]\n",
    "    _REFR0_kpc    = args[3]\n",
    "    \n",
    "    # setup potential (and check if parameters are physical):\n",
    "    try:\n",
    "        pot_galpy_model = setup_galpy_potential(a_MND_kpc, b_MND_kpc, a_NFWH_kpc, a_HB_kpc, n_MND, n_NFWH, n_HB, _REFR0_kpc)\n",
    "    except Exception as e:\n",
    "        #uncomment for debugging:\n",
    "        #print e.message\n",
    "        #print x\n",
    "        return -np.inf\n",
    "\n",
    "    #calculate potential values at (R,z) for this potential:\n",
    "    pot_kms2_model = evaluatePotentials(pot_galpy_model,\n",
    "                                   R_kpc_data / _REFR0_kpc,\n",
    "                                   z_kpc_data / _REFR0_kpc) * (v0_kms)**2\n",
    "    \n",
    "    #calculate sum of relative error squares:\n",
    "    err = np.sum(-0.5 * (pot_kms2_data - pot_kms2_model)**2)\n",
    "    return err"
   ]
  },
  {
   "cell_type": "code",
   "execution_count": 6,
   "metadata": {
    "collapsed": true
   },
   "outputs": [],
   "source": [
    "def potential_fit(maxr_Mpc, _REFR0_kpc = 8., mask_num = 2, part_num = 1501, \\\n",
    "                  v0_kms_init = 150., a_MND_kpc_init = 6., b_MND_kpc_init = 1., \\\n",
    "                  a_NFWH_kpc_init = 10., a_HB_kpc_init = 2., n_MND_init = 0.2, n_NFWH_init = 0.6, \\\n",
    "                  fitroutine = 'emcee1', nwalkers = 50, nstep = 1000, \\\n",
    "                  file = file, res_arr = [], plot = False, save = False, verbose = False):\n",
    "    \n",
    "    ### selection masks\n",
    "    # select ALL particles belonging to the main galaxy within maxr\n",
    "    if mask_num == 0:\n",
    "        mask, = np.where( (s.halo == 0) & (s.r() < maxr_Mpc) & (s.r() > 0.) )\n",
    "        parts_to_fit = 'all'\n",
    "    # select GAS particles belonging to the main galaxy within maxr\n",
    "    if mask_num == 1:\n",
    "        mask, = np.where( (s.halo == 0) & (s.r() < maxr_Mpc) & (s.r() > 0.) & (s.type == 0) )\n",
    "        parts_to_fit = 'gas'\n",
    "    # select DM particles belonging to the main galaxy within maxr\n",
    "    if mask_num == 2:\n",
    "        mask, = np.where( (s.halo == 0) & (s.r() < maxr_Mpc) & (s.r() > 0.) & ((s.type == 1) + (s.type == 2) + (s.type == 3) ))\n",
    "        parts_to_fit = 'DM'\n",
    "    # select STAR particles belonging to the main galaxy within maxr\n",
    "    if mask_num == 3:\n",
    "        mask, = np.where( (s.halo == 0) & (s.r() < maxr_Mpc) & (s.r() > 0.) & (s.type == 4) )\n",
    "        parts_to_fit = 'star'\n",
    "    \n",
    "    if verbose == True:\n",
    "        print('The potential is fitted to ' + str(part_num) + ' random selected ' + parts_to_fit + ' particles.')\n",
    "   \n",
    "    # select data with mask\n",
    "    r_kpc = 1000. * s.r()[mask]\n",
    "    (R_kpc, phi_rad, z_kpc), (vR_kms, vphi_kms, vz_kms) = get_cylindrical_vectors(s, sf, mask) \n",
    "    pot_kms2 = s.pot[mask]\n",
    "    \n",
    "    # draw random sample out of data\n",
    "    try:\n",
    "        rand_samp = np.array(random.sample(list(enumerate(pot_kms2)), part_num))\n",
    "        rand_ind = rand_samp[:,0].astype(int)\n",
    "        pot_kms2_data = rand_samp[:, 1]\n",
    "        r_kpc_data = r_kpc[rand_ind]\n",
    "        R_kpc_data = R_kpc[rand_ind]\n",
    "        z_kpc_data = z_kpc[rand_ind]\n",
    "    except ValueError:        \n",
    "        pot_kms2_data = pot_kms2\n",
    "        r_kpc_data = r_kpc\n",
    "        R_kpc_data = R_kpc\n",
    "        z_kpc_data = z_kpc\n",
    "    \n",
    "    if fitroutine == 'emcee1': # maybe implement diff ev but not now\n",
    "        # _____prepare MCMC_____\n",
    "        ndim, nwalkers, nstep = 7, nwalkers, nstep\n",
    "\n",
    "        # initial values for fit:\n",
    "        # init values as input of function\n",
    "        initial_guess = np.array([v0_kms_init, a_MND_kpc_init, b_MND_kpc_init, a_NFWH_kpc_init, \\\n",
    "                                  a_HB_kpc_init, n_MND_init, n_NFWH_init])\n",
    "        initial_guess_width = np.fabs(0.2 * initial_guess)\n",
    "        p0 = np.array([np.random.randn(ndim) * np.array(initial_guess_width) + initial_guess \\\n",
    "                                                      for i in range(nwalkers)])\n",
    "        # fiitting boundaries:\n",
    "        boundaries = np.array([[0.,np.inf],[0.,np.inf],[0.,np.inf],[0.,np.inf],[0.,np.inf],[0.,1.],[0.,1.]])\n",
    "        for pp in range(ndim):\n",
    "            p0[(p0[:,pp] < boundaries[pp,0]),pp] = initial_guess[pp] + np.random.uniform() * 0.1\n",
    "            p0[(p0[:,pp] > boundaries[pp,1]),pp] = initial_guess[pp] - np.random.uniform() * 0.1\n",
    "\n",
    "        # _____run MCMC_____\n",
    "        sampler = emcee.EnsembleSampler(nwalkers, ndim,\n",
    "                                       lnprob_MCMC,\n",
    "                                       args = [R_kpc_data, z_kpc_data, pot_kms2_data, _REFR0_kpc])\n",
    "        sampler.run_mcmc(p0, nstep)\n",
    "\n",
    "        # result:\n",
    "        burnin = int(nwalkers / 2.) # check what this is used for. #1000\n",
    "        final_samples = sampler.chain[:, burnin:, :].reshape((-1, ndim))\n",
    "        chain_samples = sampler.chain\n",
    "\n",
    "        median = np.median(final_samples,axis=0)\n",
    "        std = np.std(final_samples,axis=0)\n",
    "\n",
    "        v0_kms_bestfit     = median[0]\n",
    "        a_MND_kpc_bestfit  = median[1]\n",
    "        b_MND_kpc_bestfit  = median[2]\n",
    "        a_NFWH_kpc_bestfit = median[3]\n",
    "        a_HB_kpc_bestfit   = median[4]\n",
    "        n_MND_bestfit      = median[5]\n",
    "        n_NFWH_bestfit     = median[6]\n",
    "        n_HB_bestfit       = 1. - (n_MND_bestfit + n_NFWH_bestfit)\n",
    "\n",
    "        v0_kms_bestfit_err     = std[0]\n",
    "        a_MND_kpc_bestfit_err  = std[1]\n",
    "        b_MND_kpc_bestfit_err  = std[2]\n",
    "        a_NFWH_kpc_bestfit_err = std[3]\n",
    "        a_HB_kpc_bestfit_err   = std[4]\n",
    "        n_MND_bestfit_err      = std[5]\n",
    "        n_NFWH_bestfit_err     = std[6]\n",
    "        n_HB_bestfit_err       = (n_MND_bestfit_err + n_NFWH_bestfit_err)\n",
    "\n",
    "        \n",
    "        \n",
    "    # save potential parameters with errors and snapnr:\n",
    "        pot_bestfit = np.array([v0_kms_bestfit, v0_kms_bestfit_err, a_MND_kpc_bestfit, a_MND_kpc_bestfit_err, \\\n",
    "                            b_MND_kpc_bestfit, b_MND_kpc_bestfit_err, a_NFWH_kpc_bestfit, a_NFWH_kpc_bestfit_err, \\\n",
    "                            a_HB_kpc_bestfit, a_HB_kpc_bestfit_err, n_MND_bestfit, n_MND_bestfit_err, \\\n",
    "                            n_NFWH_bestfit, n_NFWH_bestfit_err, n_HB_bestfit, n_HB_bestfit_err])\n",
    "        \n",
    "    res_arr = np.append(res_arr, pot_bestfit)\n",
    "    #np.savetxt(file, pot_bestfit, fmt = '%10.15f')\n",
    "    \n",
    "    # generate potential measurements:\n",
    "    pot_galpy_bestfit = setup_galpy_potential(a_MND_kpc_bestfit,b_MND_kpc_bestfit,\n",
    "                                           a_NFWH_kpc_bestfit,a_HB_kpc_bestfit,\n",
    "                                           n_MND_bestfit,n_NFWH_bestfit,n_HB_bestfit, _REFR0_kpc)\n",
    "    pot_kms2_bestfit = evaluatePotentials(pot_galpy_bestfit,\n",
    "                                       R_kpc_data/_REFR0_kpc,\n",
    "                                       z_kpc_data/_REFR0_kpc) * (v0_kms_bestfit)**2\n",
    "    if fitroutine == 'emcee1':\n",
    "        sampler.reset()\n",
    "\n",
    "    return res_arr"
   ]
  },
  {
   "cell_type": "code",
   "execution_count": null,
   "metadata": {
    "scrolled": false
   },
   "outputs": [
    {
     "name": "stdout",
     "output_type": "stream",
     "text": [
      "snapnr  : 3\n",
      "22:51:53.051034\n",
      "[ 0.80237359  0.85338241  0.82094795]\n",
      "../../anaconda3/lib/python3.6/site-packages/areposnap/gadget_snap.py:1515: RuntimeWarning: invalid value encountered in true_divide\n",
      "  vel = (self.vel[iall,:] * mass[iall][:,None]).sum(axis=0) / mass[iall].sum()\n",
      "\n",
      "/home/extmilan/anaconda3/lib/python3.6/site-packages/emcee/ensemble.py:335: RuntimeWarning: invalid value encountered in subtract\n",
      "  lnpdiff = (self.dim - 1.) * np.log(zz) + newlnprob - lnprob0\n",
      "\n",
      "/home/extmilan/anaconda3/lib/python3.6/site-packages/emcee/ensemble.py:336: RuntimeWarning: invalid value encountered in greater\n",
      "  accept = (lnpdiff > np.log(self._random.rand(len(lnpdiff))))\n",
      "\n",
      "snapnr  : 4\n",
      "22:54:05.942605\n",
      "[ 0.82093781  0.76843476  0.86288393]\n",
      "snapnr  : 5\n",
      "22:56:14.895845\n",
      "[ 0.86797398  0.79862845  0.87235445]\n",
      "snapnr  : 6\n",
      "22:58:20.963034\n",
      "[ 0.990309    0.81678659  0.9078902 ]\n",
      "snapnr  : 7\n",
      "23:00:29.793890\n",
      "[ 1.00251687  0.93924028  1.00887811]\n",
      "snapnr  : 8\n",
      "23:03:00.526152\n",
      "[ 1.05116498  0.98489976  1.05819023]\n",
      "snapnr  : 9\n",
      "23:05:42.797358\n",
      "[ 1.10215628  1.03271687  1.10996389]\n",
      "snapnr  : 10\n",
      "23:08:19.116399\n",
      "[ 1.155689    1.08288169  1.16423106]\n",
      "snapnr  : 11\n",
      "23:10:49.918982\n",
      "[ 1.21178746  1.13550091  1.22114444]\n",
      "snapnr  : 60\n",
      "12:59:26.093196\n",
      "[ 10.96751499  10.54684067  11.19934082]\n",
      "emcee: Exception while calling your likelihood function:\n",
      "  params: [  8.13140777e+01   6.63606228e-03   2.30621496e+00   3.61227917e+01\n",
      "   2.18686128e+00   3.13389347e-01   6.41916934e-01]\n",
      "  args: [array([  4.47131252,   1.63928628,   9.63359737, ...,  10.82713127,\n",
      "         1.69528878,   1.49466205], dtype=float32), array([-4.18281555, -1.89971924, -6.91223145, ..., -2.22587585,\n",
      "        0.02670288, -0.07629395], dtype=float32), array([-50737.63671875, -56134.9296875 , -46541.51953125, ...,\n",
      "       -44995.12109375, -56212.92578125, -56666.09375   ]), 8.0]\n",
      "  kwargs: {}\n",
      "  exception:\n"
     ]
    },
    {
     "name": "stderr",
     "output_type": "stream",
     "text": [
      "Traceback (most recent call last):\n",
      "  File \"/home/extmilan/anaconda3/lib/python3.6/site-packages/emcee/ensemble.py\", line 519, in __call__\n",
      "    return self.f(x, *self.args, **self.kwargs)\n",
      "  File \"<ipython-input-5-6b149f5cc836>\", line 36, in lnprob_MCMC\n",
      "    z_kpc_data / _REFR0_kpc) * (v0_kms)**2\n",
      "  File \"/home/extmilan/anaconda3/lib/python3.6/site-packages/galpy-1.3.dev0-py3.6-linux-x86_64.egg/galpy/util/bovy_conversion.py\", line 709, in wrapper\n",
      "    return method(*args,**kwargs)\n",
      "  File \"/home/extmilan/anaconda3/lib/python3.6/site-packages/galpy-1.3.dev0-py3.6-linux-x86_64.egg/galpy/util/bovy_conversion.py\", line 653, in wrapped\n",
      "    return method(*args,**kwargs)\n",
      "  File \"/home/extmilan/anaconda3/lib/python3.6/site-packages/galpy-1.3.dev0-py3.6-linux-x86_64.egg/galpy/potential_src/Potential.py\", line 1554, in evaluatePotentials\n",
      "    return _evaluatePotentials(Pot,R,z,phi=phi,t=t,dR=dR,dphi=dphi)\n",
      "  File \"/home/extmilan/anaconda3/lib/python3.6/site-packages/galpy-1.3.dev0-py3.6-linux-x86_64.egg/galpy/potential_src/Potential.py\", line 1565, in _evaluatePotentials\n",
      "    sum+= pot._call_nodecorator(R,z,phi=phi,t=t,dR=dR,dphi=dphi)\n",
      "  File \"/home/extmilan/anaconda3/lib/python3.6/site-packages/galpy-1.3.dev0-py3.6-linux-x86_64.egg/galpy/potential_src/Potential.py\", line 260, in _call_nodecorator\n",
      "    rawOut= self._evaluate(R,z,phi=phi,t=t)\n",
      "  File \"/home/extmilan/anaconda3/lib/python3.6/site-packages/galpy-1.3.dev0-py3.6-linux-x86_64.egg/galpy/potential_src/TwoPowerSphericalPotential.py\", line 434, in _evaluate\n",
      "    return -1./(1.+numpy.sqrt(R**2.+z**2.)/self.a)/2./self.a\n",
      "KeyboardInterrupt\n"
     ]
    },
    {
     "ename": "KeyboardInterrupt",
     "evalue": "",
     "output_type": "error",
     "traceback": [
      "\u001b[0;31m---------------------------------------------------------------------------\u001b[0m",
      "\u001b[0;31mKeyboardInterrupt\u001b[0m                         Traceback (most recent call last)",
      "\u001b[0;32m<ipython-input-8-ea55164eb9fa>\u001b[0m in \u001b[0;36m<module>\u001b[0;34m()\u001b[0m\n\u001b[1;32m     30\u001b[0m             \u001b[0mj\u001b[0m \u001b[0;34m+=\u001b[0m\u001b[0;36m1\u001b[0m\u001b[0;34m\u001b[0m\u001b[0m\n\u001b[1;32m     31\u001b[0m         \u001b[0;32melse\u001b[0m\u001b[0;34m:\u001b[0m\u001b[0;34m\u001b[0m\u001b[0m\n\u001b[0;32m---> 32\u001b[0;31m             \u001b[0mres_arr\u001b[0m \u001b[0;34m=\u001b[0m \u001b[0mpotential_fit\u001b[0m\u001b[0;34m(\u001b[0m\u001b[0mmaxr_Mpc\u001b[0m \u001b[0;34m=\u001b[0m \u001b[0;36m2.\u001b[0m \u001b[0;34m*\u001b[0m \u001b[0ms\u001b[0m\u001b[0;34m.\u001b[0m\u001b[0mgalrad\u001b[0m\u001b[0;34m,\u001b[0m \u001b[0mpart_num\u001b[0m \u001b[0;34m=\u001b[0m \u001b[0;36m175000\u001b[0m\u001b[0;34m,\u001b[0m \u001b[0mnstep\u001b[0m \u001b[0;34m=\u001b[0m \u001b[0;36m10000\u001b[0m\u001b[0;34m,\u001b[0m \u001b[0mres_arr\u001b[0m\u001b[0;34m=\u001b[0m\u001b[0mres_arr\u001b[0m\u001b[0;34m)\u001b[0m\u001b[0;34m\u001b[0m\u001b[0m\n\u001b[0m\u001b[1;32m     33\u001b[0m             \u001b[0mres_arr\u001b[0m \u001b[0;34m=\u001b[0m \u001b[0mnp\u001b[0m\u001b[0;34m.\u001b[0m\u001b[0minsert\u001b[0m\u001b[0;34m(\u001b[0m\u001b[0mres_arr\u001b[0m\u001b[0;34m,\u001b[0m \u001b[0;36m17\u001b[0m \u001b[0;34m*\u001b[0m \u001b[0;34m(\u001b[0m\u001b[0msnapnr\u001b[0m \u001b[0;34m-\u001b[0m \u001b[0;36m3\u001b[0m \u001b[0;34m)\u001b[0m\u001b[0;34m,\u001b[0m \u001b[0msnapnr\u001b[0m\u001b[0;34m)\u001b[0m\u001b[0;34m\u001b[0m\u001b[0m\n\u001b[1;32m     34\u001b[0m \u001b[0;34m\u001b[0m\u001b[0m\n",
      "\u001b[0;32m<ipython-input-6-c55dae668df7>\u001b[0m in \u001b[0;36mpotential_fit\u001b[0;34m(maxr_Mpc, _REFR0_kpc, mask_num, part_num, v0_kms_init, a_MND_kpc_init, b_MND_kpc_init, a_NFWH_kpc_init, a_HB_kpc_init, n_MND_init, n_NFWH_init, fitroutine, nwalkers, nstep, file, res_arr, plot, save, verbose)\u001b[0m\n\u001b[1;32m     60\u001b[0m                                        \u001b[0mlnprob_MCMC\u001b[0m\u001b[0;34m,\u001b[0m\u001b[0;34m\u001b[0m\u001b[0m\n\u001b[1;32m     61\u001b[0m                                        args = [R_kpc_data, z_kpc_data, pot_kms2_data, _REFR0_kpc])\n\u001b[0;32m---> 62\u001b[0;31m         \u001b[0msampler\u001b[0m\u001b[0;34m.\u001b[0m\u001b[0mrun_mcmc\u001b[0m\u001b[0;34m(\u001b[0m\u001b[0mp0\u001b[0m\u001b[0;34m,\u001b[0m \u001b[0mnstep\u001b[0m\u001b[0;34m)\u001b[0m\u001b[0;34m\u001b[0m\u001b[0m\n\u001b[0m\u001b[1;32m     63\u001b[0m \u001b[0;34m\u001b[0m\u001b[0m\n\u001b[1;32m     64\u001b[0m         \u001b[0;31m# result:\u001b[0m\u001b[0;34m\u001b[0m\u001b[0;34m\u001b[0m\u001b[0m\n",
      "\u001b[0;32m~/anaconda3/lib/python3.6/site-packages/emcee/sampler.py\u001b[0m in \u001b[0;36mrun_mcmc\u001b[0;34m(self, pos0, N, rstate0, lnprob0, **kwargs)\u001b[0m\n\u001b[1;32m    170\u001b[0m \u001b[0;34m\u001b[0m\u001b[0m\n\u001b[1;32m    171\u001b[0m         for results in self.sample(pos0, lnprob0, rstate0, iterations=N,\n\u001b[0;32m--> 172\u001b[0;31m                                    **kwargs):\n\u001b[0m\u001b[1;32m    173\u001b[0m             \u001b[0;32mpass\u001b[0m\u001b[0;34m\u001b[0m\u001b[0m\n\u001b[1;32m    174\u001b[0m \u001b[0;34m\u001b[0m\u001b[0m\n",
      "\u001b[0;32m~/anaconda3/lib/python3.6/site-packages/emcee/ensemble.py\u001b[0m in \u001b[0;36msample\u001b[0;34m(self, p0, lnprob0, rstate0, blobs0, iterations, thin, storechain, mh_proposal)\u001b[0m\n\u001b[1;32m    257\u001b[0m                 \u001b[0;32mfor\u001b[0m \u001b[0mS0\u001b[0m\u001b[0;34m,\u001b[0m \u001b[0mS1\u001b[0m \u001b[0;32min\u001b[0m \u001b[0;34m[\u001b[0m\u001b[0;34m(\u001b[0m\u001b[0mfirst\u001b[0m\u001b[0;34m,\u001b[0m \u001b[0msecond\u001b[0m\u001b[0;34m)\u001b[0m\u001b[0;34m,\u001b[0m \u001b[0;34m(\u001b[0m\u001b[0msecond\u001b[0m\u001b[0;34m,\u001b[0m \u001b[0mfirst\u001b[0m\u001b[0;34m)\u001b[0m\u001b[0;34m]\u001b[0m\u001b[0;34m:\u001b[0m\u001b[0;34m\u001b[0m\u001b[0m\n\u001b[1;32m    258\u001b[0m                     q, newlnp, acc, blob = self._propose_stretch(p[S0], p[S1],\n\u001b[0;32m--> 259\u001b[0;31m                                                                  lnprob[S0])\n\u001b[0m\u001b[1;32m    260\u001b[0m                     \u001b[0;32mif\u001b[0m \u001b[0mnp\u001b[0m\u001b[0;34m.\u001b[0m\u001b[0many\u001b[0m\u001b[0;34m(\u001b[0m\u001b[0macc\u001b[0m\u001b[0;34m)\u001b[0m\u001b[0;34m:\u001b[0m\u001b[0;34m\u001b[0m\u001b[0m\n\u001b[1;32m    261\u001b[0m                         \u001b[0;31m# Update the positions, log probabilities and\u001b[0m\u001b[0;34m\u001b[0m\u001b[0;34m\u001b[0m\u001b[0m\n",
      "\u001b[0;32m~/anaconda3/lib/python3.6/site-packages/emcee/ensemble.py\u001b[0m in \u001b[0;36m_propose_stretch\u001b[0;34m(self, p0, p1, lnprob0)\u001b[0m\n\u001b[1;32m    330\u001b[0m         \u001b[0;31m# Calculate the proposed positions and the log-probability there.\u001b[0m\u001b[0;34m\u001b[0m\u001b[0;34m\u001b[0m\u001b[0m\n\u001b[1;32m    331\u001b[0m         \u001b[0mq\u001b[0m \u001b[0;34m=\u001b[0m \u001b[0mc\u001b[0m\u001b[0;34m[\u001b[0m\u001b[0mrint\u001b[0m\u001b[0;34m]\u001b[0m \u001b[0;34m-\u001b[0m \u001b[0mzz\u001b[0m\u001b[0;34m[\u001b[0m\u001b[0;34m:\u001b[0m\u001b[0;34m,\u001b[0m \u001b[0mnp\u001b[0m\u001b[0;34m.\u001b[0m\u001b[0mnewaxis\u001b[0m\u001b[0;34m]\u001b[0m \u001b[0;34m*\u001b[0m \u001b[0;34m(\u001b[0m\u001b[0mc\u001b[0m\u001b[0;34m[\u001b[0m\u001b[0mrint\u001b[0m\u001b[0;34m]\u001b[0m \u001b[0;34m-\u001b[0m \u001b[0ms\u001b[0m\u001b[0;34m)\u001b[0m\u001b[0;34m\u001b[0m\u001b[0m\n\u001b[0;32m--> 332\u001b[0;31m         \u001b[0mnewlnprob\u001b[0m\u001b[0;34m,\u001b[0m \u001b[0mblob\u001b[0m \u001b[0;34m=\u001b[0m \u001b[0mself\u001b[0m\u001b[0;34m.\u001b[0m\u001b[0m_get_lnprob\u001b[0m\u001b[0;34m(\u001b[0m\u001b[0mq\u001b[0m\u001b[0;34m)\u001b[0m\u001b[0;34m\u001b[0m\u001b[0m\n\u001b[0m\u001b[1;32m    333\u001b[0m \u001b[0;34m\u001b[0m\u001b[0m\n\u001b[1;32m    334\u001b[0m         \u001b[0;31m# Decide whether or not the proposals should be accepted.\u001b[0m\u001b[0;34m\u001b[0m\u001b[0;34m\u001b[0m\u001b[0m\n",
      "\u001b[0;32m~/anaconda3/lib/python3.6/site-packages/emcee/ensemble.py\u001b[0m in \u001b[0;36m_get_lnprob\u001b[0;34m(self, pos)\u001b[0m\n\u001b[1;32m    380\u001b[0m \u001b[0;34m\u001b[0m\u001b[0m\n\u001b[1;32m    381\u001b[0m         \u001b[0;31m# Run the log-probability calculations (optionally in parallel).\u001b[0m\u001b[0;34m\u001b[0m\u001b[0;34m\u001b[0m\u001b[0m\n\u001b[0;32m--> 382\u001b[0;31m         \u001b[0mresults\u001b[0m \u001b[0;34m=\u001b[0m \u001b[0mlist\u001b[0m\u001b[0;34m(\u001b[0m\u001b[0mM\u001b[0m\u001b[0;34m(\u001b[0m\u001b[0mself\u001b[0m\u001b[0;34m.\u001b[0m\u001b[0mlnprobfn\u001b[0m\u001b[0;34m,\u001b[0m \u001b[0;34m[\u001b[0m\u001b[0mp\u001b[0m\u001b[0;34m[\u001b[0m\u001b[0mi\u001b[0m\u001b[0;34m]\u001b[0m \u001b[0;32mfor\u001b[0m \u001b[0mi\u001b[0m \u001b[0;32min\u001b[0m \u001b[0mrange\u001b[0m\u001b[0;34m(\u001b[0m\u001b[0mlen\u001b[0m\u001b[0;34m(\u001b[0m\u001b[0mp\u001b[0m\u001b[0;34m)\u001b[0m\u001b[0;34m)\u001b[0m\u001b[0;34m]\u001b[0m\u001b[0;34m)\u001b[0m\u001b[0;34m)\u001b[0m\u001b[0;34m\u001b[0m\u001b[0m\n\u001b[0m\u001b[1;32m    383\u001b[0m \u001b[0;34m\u001b[0m\u001b[0m\n\u001b[1;32m    384\u001b[0m         \u001b[0;32mtry\u001b[0m\u001b[0;34m:\u001b[0m\u001b[0;34m\u001b[0m\u001b[0m\n",
      "\u001b[0;32m~/anaconda3/lib/python3.6/site-packages/emcee/ensemble.py\u001b[0m in \u001b[0;36m__call__\u001b[0;34m(self, x)\u001b[0m\n\u001b[1;32m    517\u001b[0m     \u001b[0;32mdef\u001b[0m \u001b[0m__call__\u001b[0m\u001b[0;34m(\u001b[0m\u001b[0mself\u001b[0m\u001b[0;34m,\u001b[0m \u001b[0mx\u001b[0m\u001b[0;34m)\u001b[0m\u001b[0;34m:\u001b[0m\u001b[0;34m\u001b[0m\u001b[0m\n\u001b[1;32m    518\u001b[0m         \u001b[0;32mtry\u001b[0m\u001b[0;34m:\u001b[0m\u001b[0;34m\u001b[0m\u001b[0m\n\u001b[0;32m--> 519\u001b[0;31m             \u001b[0;32mreturn\u001b[0m \u001b[0mself\u001b[0m\u001b[0;34m.\u001b[0m\u001b[0mf\u001b[0m\u001b[0;34m(\u001b[0m\u001b[0mx\u001b[0m\u001b[0;34m,\u001b[0m \u001b[0;34m*\u001b[0m\u001b[0mself\u001b[0m\u001b[0;34m.\u001b[0m\u001b[0margs\u001b[0m\u001b[0;34m,\u001b[0m \u001b[0;34m**\u001b[0m\u001b[0mself\u001b[0m\u001b[0;34m.\u001b[0m\u001b[0mkwargs\u001b[0m\u001b[0;34m)\u001b[0m\u001b[0;34m\u001b[0m\u001b[0m\n\u001b[0m\u001b[1;32m    520\u001b[0m         \u001b[0;32mexcept\u001b[0m\u001b[0;34m:\u001b[0m\u001b[0;34m\u001b[0m\u001b[0m\n\u001b[1;32m    521\u001b[0m             \u001b[0;32mimport\u001b[0m \u001b[0mtraceback\u001b[0m\u001b[0;34m\u001b[0m\u001b[0m\n",
      "\u001b[0;32m<ipython-input-5-6b149f5cc836>\u001b[0m in \u001b[0;36mlnprob_MCMC\u001b[0;34m(x, *args)\u001b[0m\n\u001b[1;32m     34\u001b[0m     pot_kms2_model = evaluatePotentials(pot_galpy_model,\n\u001b[1;32m     35\u001b[0m                                    \u001b[0mR_kpc_data\u001b[0m \u001b[0;34m/\u001b[0m \u001b[0m_REFR0_kpc\u001b[0m\u001b[0;34m,\u001b[0m\u001b[0;34m\u001b[0m\u001b[0m\n\u001b[0;32m---> 36\u001b[0;31m                                    z_kpc_data / _REFR0_kpc) * (v0_kms)**2\n\u001b[0m\u001b[1;32m     37\u001b[0m \u001b[0;34m\u001b[0m\u001b[0m\n\u001b[1;32m     38\u001b[0m     \u001b[0;31m#calculate sum of relative error squares:\u001b[0m\u001b[0;34m\u001b[0m\u001b[0;34m\u001b[0m\u001b[0m\n",
      "\u001b[0;32m~/anaconda3/lib/python3.6/site-packages/galpy-1.3.dev0-py3.6-linux-x86_64.egg/galpy/util/bovy_conversion.py\u001b[0m in \u001b[0;36mwrapper\u001b[0;34m(*args, **kwargs)\u001b[0m\n\u001b[1;32m    707\u001b[0m                 \u001b[0;32mand\u001b[0m \u001b[0misinstance\u001b[0m\u001b[0;34m(\u001b[0m\u001b[0mkwargs\u001b[0m\u001b[0;34m[\u001b[0m\u001b[0;34m'zmax'\u001b[0m\u001b[0;34m]\u001b[0m\u001b[0;34m,\u001b[0m\u001b[0munits\u001b[0m\u001b[0;34m.\u001b[0m\u001b[0mQuantity\u001b[0m\u001b[0;34m)\u001b[0m\u001b[0;34m:\u001b[0m\u001b[0;34m\u001b[0m\u001b[0m\n\u001b[1;32m    708\u001b[0m             \u001b[0mkwargs\u001b[0m\u001b[0;34m[\u001b[0m\u001b[0;34m'zmax'\u001b[0m\u001b[0;34m]\u001b[0m\u001b[0;34m=\u001b[0m \u001b[0mkwargs\u001b[0m\u001b[0;34m[\u001b[0m\u001b[0;34m'zmax'\u001b[0m\u001b[0;34m]\u001b[0m\u001b[0;34m.\u001b[0m\u001b[0mto\u001b[0m\u001b[0;34m(\u001b[0m\u001b[0munits\u001b[0m\u001b[0;34m.\u001b[0m\u001b[0mkpc\u001b[0m\u001b[0;34m)\u001b[0m\u001b[0;34m.\u001b[0m\u001b[0mvalue\u001b[0m\u001b[0;34m/\u001b[0m\u001b[0mro\u001b[0m\u001b[0;34m\u001b[0m\u001b[0m\n\u001b[0;32m--> 709\u001b[0;31m         \u001b[0;32mreturn\u001b[0m \u001b[0mmethod\u001b[0m\u001b[0;34m(\u001b[0m\u001b[0;34m*\u001b[0m\u001b[0margs\u001b[0m\u001b[0;34m,\u001b[0m\u001b[0;34m**\u001b[0m\u001b[0mkwargs\u001b[0m\u001b[0;34m)\u001b[0m\u001b[0;34m\u001b[0m\u001b[0m\n\u001b[0m\u001b[1;32m    710\u001b[0m     \u001b[0;32mreturn\u001b[0m \u001b[0mwrapper\u001b[0m\u001b[0;34m\u001b[0m\u001b[0m\n\u001b[1;32m    711\u001b[0m \u001b[0;32mdef\u001b[0m \u001b[0mphysical_conversion_actionAngle\u001b[0m\u001b[0;34m(\u001b[0m\u001b[0mquantity\u001b[0m\u001b[0;34m,\u001b[0m\u001b[0mpop\u001b[0m\u001b[0;34m=\u001b[0m\u001b[0;32mFalse\u001b[0m\u001b[0;34m)\u001b[0m\u001b[0;34m:\u001b[0m\u001b[0;34m\u001b[0m\u001b[0m\n",
      "\u001b[0;32m~/anaconda3/lib/python3.6/site-packages/galpy-1.3.dev0-py3.6-linux-x86_64.egg/galpy/util/bovy_conversion.py\u001b[0m in \u001b[0;36mwrapped\u001b[0;34m(*args, **kwargs)\u001b[0m\n\u001b[1;32m    651\u001b[0m                     \u001b[0;32mreturn\u001b[0m \u001b[0mout\u001b[0m\u001b[0;34m*\u001b[0m\u001b[0mfac\u001b[0m\u001b[0;34m\u001b[0m\u001b[0m\n\u001b[1;32m    652\u001b[0m             \u001b[0;32melse\u001b[0m\u001b[0;34m:\u001b[0m\u001b[0;34m\u001b[0m\u001b[0m\n\u001b[0;32m--> 653\u001b[0;31m                 \u001b[0;32mreturn\u001b[0m \u001b[0mmethod\u001b[0m\u001b[0;34m(\u001b[0m\u001b[0;34m*\u001b[0m\u001b[0margs\u001b[0m\u001b[0;34m,\u001b[0m\u001b[0;34m**\u001b[0m\u001b[0mkwargs\u001b[0m\u001b[0;34m)\u001b[0m\u001b[0;34m\u001b[0m\u001b[0m\n\u001b[0m\u001b[1;32m    654\u001b[0m         \u001b[0;32mreturn\u001b[0m \u001b[0mwrapped\u001b[0m\u001b[0;34m\u001b[0m\u001b[0m\n\u001b[1;32m    655\u001b[0m     \u001b[0;32mreturn\u001b[0m \u001b[0mwrapper\u001b[0m\u001b[0;34m\u001b[0m\u001b[0m\n",
      "\u001b[0;32m~/anaconda3/lib/python3.6/site-packages/galpy-1.3.dev0-py3.6-linux-x86_64.egg/galpy/potential_src/Potential.py\u001b[0m in \u001b[0;36mevaluatePotentials\u001b[0;34m(Pot, R, z, phi, t, dR, dphi)\u001b[0m\n\u001b[1;32m   1552\u001b[0m \u001b[0;34m\u001b[0m\u001b[0m\n\u001b[1;32m   1553\u001b[0m     \"\"\"\n\u001b[0;32m-> 1554\u001b[0;31m     \u001b[0;32mreturn\u001b[0m \u001b[0m_evaluatePotentials\u001b[0m\u001b[0;34m(\u001b[0m\u001b[0mPot\u001b[0m\u001b[0;34m,\u001b[0m\u001b[0mR\u001b[0m\u001b[0;34m,\u001b[0m\u001b[0mz\u001b[0m\u001b[0;34m,\u001b[0m\u001b[0mphi\u001b[0m\u001b[0;34m=\u001b[0m\u001b[0mphi\u001b[0m\u001b[0;34m,\u001b[0m\u001b[0mt\u001b[0m\u001b[0;34m=\u001b[0m\u001b[0mt\u001b[0m\u001b[0;34m,\u001b[0m\u001b[0mdR\u001b[0m\u001b[0;34m=\u001b[0m\u001b[0mdR\u001b[0m\u001b[0;34m,\u001b[0m\u001b[0mdphi\u001b[0m\u001b[0;34m=\u001b[0m\u001b[0mdphi\u001b[0m\u001b[0;34m)\u001b[0m\u001b[0;34m\u001b[0m\u001b[0m\n\u001b[0m\u001b[1;32m   1555\u001b[0m \u001b[0;34m\u001b[0m\u001b[0m\n\u001b[1;32m   1556\u001b[0m \u001b[0;32mdef\u001b[0m \u001b[0m_evaluatePotentials\u001b[0m\u001b[0;34m(\u001b[0m\u001b[0mPot\u001b[0m\u001b[0;34m,\u001b[0m\u001b[0mR\u001b[0m\u001b[0;34m,\u001b[0m\u001b[0mz\u001b[0m\u001b[0;34m,\u001b[0m\u001b[0mphi\u001b[0m\u001b[0;34m=\u001b[0m\u001b[0;32mNone\u001b[0m\u001b[0;34m,\u001b[0m\u001b[0mt\u001b[0m\u001b[0;34m=\u001b[0m\u001b[0;36m0.\u001b[0m\u001b[0;34m,\u001b[0m\u001b[0mdR\u001b[0m\u001b[0;34m=\u001b[0m\u001b[0;36m0\u001b[0m\u001b[0;34m,\u001b[0m\u001b[0mdphi\u001b[0m\u001b[0;34m=\u001b[0m\u001b[0;36m0\u001b[0m\u001b[0;34m)\u001b[0m\u001b[0;34m:\u001b[0m\u001b[0;34m\u001b[0m\u001b[0m\n",
      "\u001b[0;32m~/anaconda3/lib/python3.6/site-packages/galpy-1.3.dev0-py3.6-linux-x86_64.egg/galpy/potential_src/Potential.py\u001b[0m in \u001b[0;36m_evaluatePotentials\u001b[0;34m(Pot, R, z, phi, t, dR, dphi)\u001b[0m\n\u001b[1;32m   1563\u001b[0m         \u001b[0msum\u001b[0m\u001b[0;34m=\u001b[0m \u001b[0;36m0.\u001b[0m\u001b[0;34m\u001b[0m\u001b[0m\n\u001b[1;32m   1564\u001b[0m         \u001b[0;32mfor\u001b[0m \u001b[0mpot\u001b[0m \u001b[0;32min\u001b[0m \u001b[0mPot\u001b[0m\u001b[0;34m:\u001b[0m\u001b[0;34m\u001b[0m\u001b[0m\n\u001b[0;32m-> 1565\u001b[0;31m             \u001b[0msum\u001b[0m\u001b[0;34m+=\u001b[0m \u001b[0mpot\u001b[0m\u001b[0;34m.\u001b[0m\u001b[0m_call_nodecorator\u001b[0m\u001b[0;34m(\u001b[0m\u001b[0mR\u001b[0m\u001b[0;34m,\u001b[0m\u001b[0mz\u001b[0m\u001b[0;34m,\u001b[0m\u001b[0mphi\u001b[0m\u001b[0;34m=\u001b[0m\u001b[0mphi\u001b[0m\u001b[0;34m,\u001b[0m\u001b[0mt\u001b[0m\u001b[0;34m=\u001b[0m\u001b[0mt\u001b[0m\u001b[0;34m,\u001b[0m\u001b[0mdR\u001b[0m\u001b[0;34m=\u001b[0m\u001b[0mdR\u001b[0m\u001b[0;34m,\u001b[0m\u001b[0mdphi\u001b[0m\u001b[0;34m=\u001b[0m\u001b[0mdphi\u001b[0m\u001b[0;34m)\u001b[0m\u001b[0;34m\u001b[0m\u001b[0m\n\u001b[0m\u001b[1;32m   1566\u001b[0m         \u001b[0;32mreturn\u001b[0m \u001b[0msum\u001b[0m\u001b[0;34m\u001b[0m\u001b[0m\n\u001b[1;32m   1567\u001b[0m     \u001b[0;32melif\u001b[0m \u001b[0misinstance\u001b[0m\u001b[0;34m(\u001b[0m\u001b[0mPot\u001b[0m\u001b[0;34m,\u001b[0m\u001b[0mPotential\u001b[0m\u001b[0;34m)\u001b[0m\u001b[0;34m:\u001b[0m\u001b[0;34m\u001b[0m\u001b[0m\n",
      "\u001b[0;32m~/anaconda3/lib/python3.6/site-packages/galpy-1.3.dev0-py3.6-linux-x86_64.egg/galpy/potential_src/Potential.py\u001b[0m in \u001b[0;36m_call_nodecorator\u001b[0;34m(self, R, z, phi, t, dR, dphi)\u001b[0m\n\u001b[1;32m    258\u001b[0m         \u001b[0;32mif\u001b[0m \u001b[0mdR\u001b[0m \u001b[0;34m==\u001b[0m \u001b[0;36m0\u001b[0m \u001b[0;32mand\u001b[0m \u001b[0mdphi\u001b[0m \u001b[0;34m==\u001b[0m \u001b[0;36m0\u001b[0m\u001b[0;34m:\u001b[0m\u001b[0;34m\u001b[0m\u001b[0m\n\u001b[1;32m    259\u001b[0m             \u001b[0;32mtry\u001b[0m\u001b[0;34m:\u001b[0m\u001b[0;34m\u001b[0m\u001b[0m\n\u001b[0;32m--> 260\u001b[0;31m                 \u001b[0mrawOut\u001b[0m\u001b[0;34m=\u001b[0m \u001b[0mself\u001b[0m\u001b[0;34m.\u001b[0m\u001b[0m_evaluate\u001b[0m\u001b[0;34m(\u001b[0m\u001b[0mR\u001b[0m\u001b[0;34m,\u001b[0m\u001b[0mz\u001b[0m\u001b[0;34m,\u001b[0m\u001b[0mphi\u001b[0m\u001b[0;34m=\u001b[0m\u001b[0mphi\u001b[0m\u001b[0;34m,\u001b[0m\u001b[0mt\u001b[0m\u001b[0;34m=\u001b[0m\u001b[0mt\u001b[0m\u001b[0;34m)\u001b[0m\u001b[0;34m\u001b[0m\u001b[0m\n\u001b[0m\u001b[1;32m    261\u001b[0m             \u001b[0;32mexcept\u001b[0m \u001b[0mAttributeError\u001b[0m\u001b[0;34m:\u001b[0m \u001b[0;31m#pragma: no cover\u001b[0m\u001b[0;34m\u001b[0m\u001b[0m\n\u001b[1;32m    262\u001b[0m                 \u001b[0;32mraise\u001b[0m \u001b[0mPotentialError\u001b[0m\u001b[0;34m(\u001b[0m\u001b[0;34m\"'_evaluate' function not implemented for this potential\"\u001b[0m\u001b[0;34m)\u001b[0m\u001b[0;34m\u001b[0m\u001b[0m\n",
      "\u001b[0;32m~/anaconda3/lib/python3.6/site-packages/galpy-1.3.dev0-py3.6-linux-x86_64.egg/galpy/potential_src/TwoPowerSphericalPotential.py\u001b[0m in \u001b[0;36m_evaluate\u001b[0;34m(self, R, z, phi, t)\u001b[0m\n\u001b[1;32m    432\u001b[0m            \u001b[0;36m2010\u001b[0m\u001b[0;34m-\u001b[0m\u001b[0;36m0\u001b[0m\u001b[0;36m7\u001b[0m\u001b[0;34m-\u001b[0m\u001b[0;36m0\u001b[0m\u001b[0;36m9\u001b[0m \u001b[0;34m-\u001b[0m \u001b[0mStarted\u001b[0m \u001b[0;34m-\u001b[0m \u001b[0mBovy\u001b[0m \u001b[0;34m(\u001b[0m\u001b[0mNYU\u001b[0m\u001b[0;34m)\u001b[0m\u001b[0;34m\u001b[0m\u001b[0m\n\u001b[1;32m    433\u001b[0m         \"\"\"\n\u001b[0;32m--> 434\u001b[0;31m         \u001b[0;32mreturn\u001b[0m \u001b[0;34m-\u001b[0m\u001b[0;36m1.\u001b[0m\u001b[0;34m/\u001b[0m\u001b[0;34m(\u001b[0m\u001b[0;36m1.\u001b[0m\u001b[0;34m+\u001b[0m\u001b[0mnumpy\u001b[0m\u001b[0;34m.\u001b[0m\u001b[0msqrt\u001b[0m\u001b[0;34m(\u001b[0m\u001b[0mR\u001b[0m\u001b[0;34m**\u001b[0m\u001b[0;36m2.\u001b[0m\u001b[0;34m+\u001b[0m\u001b[0mz\u001b[0m\u001b[0;34m**\u001b[0m\u001b[0;36m2.\u001b[0m\u001b[0;34m)\u001b[0m\u001b[0;34m/\u001b[0m\u001b[0mself\u001b[0m\u001b[0;34m.\u001b[0m\u001b[0ma\u001b[0m\u001b[0;34m)\u001b[0m\u001b[0;34m/\u001b[0m\u001b[0;36m2.\u001b[0m\u001b[0;34m/\u001b[0m\u001b[0mself\u001b[0m\u001b[0;34m.\u001b[0m\u001b[0ma\u001b[0m\u001b[0;34m\u001b[0m\u001b[0m\n\u001b[0m\u001b[1;32m    435\u001b[0m \u001b[0;34m\u001b[0m\u001b[0m\n\u001b[1;32m    436\u001b[0m     \u001b[0;32mdef\u001b[0m \u001b[0m_Rforce\u001b[0m\u001b[0;34m(\u001b[0m\u001b[0mself\u001b[0m\u001b[0;34m,\u001b[0m\u001b[0mR\u001b[0m\u001b[0;34m,\u001b[0m\u001b[0mz\u001b[0m\u001b[0;34m,\u001b[0m\u001b[0mphi\u001b[0m\u001b[0;34m=\u001b[0m\u001b[0;36m0.\u001b[0m\u001b[0;34m,\u001b[0m\u001b[0mt\u001b[0m\u001b[0;34m=\u001b[0m\u001b[0;36m0.\u001b[0m\u001b[0;34m)\u001b[0m\u001b[0;34m:\u001b[0m\u001b[0;34m\u001b[0m\u001b[0m\n",
      "\u001b[0;31mKeyboardInterrupt\u001b[0m: "
     ]
    }
   ],
   "source": [
    "#### path = /hits/universe/GigaGalaxy/level4_MHD/halo_24/output/*\n",
    "level = 4\n",
    "\n",
    "j = 0\n",
    "startsnap = 60\n",
    "endsnap = 128\n",
    "for halo_number in [24]:  # range(1, 31):\n",
    "    halodir = basedir+\"halo_{0}/\".format(halo_number)\n",
    "    snappath = halodir+\"output/\"\n",
    "    for snapnr in range(startsnap,endsnap,1):\n",
    "        #print(\"level   : {0}\".format(level))\n",
    "        #print(\"halo    : {0}\".format(halo_number))\n",
    "        print(\"snapnr  : {0}\".format(snapnr))\n",
    "        print(datetime.datetime.now().time())\n",
    "        #print(\"basedir : {0}\".format(basedir))\n",
    "        #print(\"halodir : {0}\".format(halodir))\n",
    "        #print(\"snappath: {0}\\n\".format(snappath))\n",
    "        try:\n",
    "            s, sf = eat_snap_and_fof(level, halo_number, snapnr, snappath, loadonlytype=[1,2,3], \n",
    "            haloid=0, galradfac=0.1, verbose=False, rotate_disk=False, do_rotation=False, use_principal_axis=False) \n",
    "        except KeyError:\n",
    "            print('\\n\\n', snapnr, 'not read in.\\n\\n')\n",
    "            continue\n",
    "\n",
    "        # Clean negative and zero values of gmet to avoid RuntimeErrors\n",
    "        # later on (e.g. dividing by zero)\n",
    "        #s.data['gmet'] = np.maximum( s.data['gmet'], 1e-40 )\n",
    "        #print('Maximum phase space extend of snapshot' + str(snapnr) + 'in Mpc:', np.max(s.r()))\n",
    "        if j == 0:\n",
    "            res_arr = potential_fit(maxr_Mpc = 2. * s.galrad, part_num = 175000, nstep = 10000)\n",
    "            res_arr = np.insert(res_arr, 0, snapnr)\n",
    "            j +=1\n",
    "            v0_kms_bestfit      = res_arr[int(17 * (snapnr - startsnap )) + 1]\n",
    "            a_MND_kpc_bestfit   = res_arr[int(17 * (snapnr - startsnap )) + 3]\n",
    "            b_MND_kpc_bestfit   = res_arr[int(17 * (snapnr - startsnap )) + 5]\n",
    "            a_NFWH_kpc_bestfit  = res_arr[int(17 * (snapnr - startsnap )) + 7]\n",
    "            a_HB_kpc_bestfit    = res_arr[int(17 * (snapnr - startsnap )) + 9]\n",
    "            n_MND_bestfit       = res_arr[int(17 * (snapnr - startsnap )) + 11]\n",
    "            n_NFWH_bestfit      = res_arr[int(17 * (snapnr - startsnap )) + 13]\n",
    "            n_HB_bestfit        = res_arr[int(17 * (snapnr - startsnap )) + 15]\n",
    "             \n",
    " \n",
    "        else:\n",
    "            res_arr = potential_fit(maxr_Mpc = 2. * s.galrad, part_num = 175000, nstep = 1000, res_arr=res_arr, \\ \n",
    "                                    v0_kms_init = v0_kms__bestfit, a_MND_kpc_init = a_MND_kpc_bestfit, \\\n",
    "                                    b_MND_kpc_init = b_MND_kpc_bestfit, a_NFWH_kpc_init = a_NFWH_kpc_bestfit, \\\n",
    "                                    a_HB_kpc_init = a_HB_kpc_bestfit, n_MND_init = n_MND_bestfit, \\\n",
    "                                    n_NFWH_init = n_NFWH_bestfit)\n",
    "            res_arr = np.insert(res_arr, 17 * (snapnr - startsnap ), snapnr)\n",
    "\n",
    "            v0_kms_bestfit      = res_arr[int(17 * (snapnr - startsnap )) + 1]\n",
    "            a_MND_kpc_bestfit   = res_arr[int(17 * (snapnr - startsnap )) + 3]\n",
    "            b_MND_kpc_bestfit   = res_arr[int(17 * (snapnr - startsnap )) + 5]\n",
    "            a_NFWH_kpc_bestfit  = res_arr[int(17 * (snapnr - startsnap )) + 7]\n",
    "            a_HB_kpc_bestfit    = res_arr[int(17 * (snapnr - startsnap )) + 9]\n",
    "            n_MND_bestfit       = res_arr[int(17 * (snapnr - startsnap )) + 11]\n",
    "            n_NFWH_bestfit      = res_arr[int(17 * (snapnr - startsnap )) + 13]\n",
    "            n_HB_bestfit        = res_arr[int(17 * (snapnr - startsnap )) + 15]\n",
    "             \n",
    "        #print(res_arr)\n",
    "        \n",
    "        if (snapnr % 10) ==0:\n",
    "\n",
    "            f = open(file, 'w') # existing file will be overwritten\n",
    "            f.write(\"#snapnr\\tv0_kms_bestfit\\tv0_kms_bestfit_err\\ta_MND_kpc_bestfit\\ta_MND_kpc_bestfit_err\\tb_MND_kpc_bestfit\\tb_MND_kpc_bestfit_err\\ta_NFWH_kpc_bestfit\\ta_NFWH_kpc_bestfit_err\\ta_HB_kpc_bestfit\\ta_HB_kpc_bestfit_err\\tn_MND_bestfit\\tn_MND_bestfit_err\\tn_NFWH_bestfit\\tn_NFWH_bestfit_err\\tn_HB_bestfit\\tn_HB_bestfit_err\\n\")\n",
    "            f.close()\n",
    "            f = open(file,'ab') # open file in append and binary mode to make savetxt work and append\n",
    "            np.savetxt(f,res_arr)\n",
    "            f.close()\n",
    "        \n",
    "\n",
    "res_arr = res_arr.reshape(endsnap-startsnap,17) # instead of 4 number of simulations fitted\n",
    "\n",
    "np.savetxt(outdir + 'safetyfile_10000.txt', res_arr)\n",
    "\n",
    "f = open(file, 'w') # existing file will be overwritten\n",
    "f.write(\"#snapnr\\tv0_kms_bestfit\\tv0_kms_bestfit_err\\ta_MND_kpc_bestfit\\ta_MND_kpc_bestfit_err\\tb_MND_kpc_bestfit\\tb_MND_kpc_bestfit_err\\ta_NFWH_kpc_bestfit\\ta_NFWH_kpc_bestfit_err\\ta_HB_kpc_bestfit\\ta_HB_kpc_bestfit_err\\tn_MND_bestfit\\tn_MND_bestfit_err\\tn_NFWH_bestfit\\tn_NFWH_bestfit_err\\tn_HB_bestfit\\tn_HB_bestfit_err\\n\")\n",
    "f.close()\n",
    "f = open(file,'ab') # open file in append and binary mode to make savetxt work and append\n",
    "np.savetxt(f,res_arr)\n",
    "f.close()\n"
   ]
  },
  {
   "cell_type": "code",
   "execution_count": null,
   "metadata": {
    "collapsed": true
   },
   "outputs": [],
   "source": []
  },
  {
   "cell_type": "raw",
   "metadata": {},
   "source": [
    "res_arr = potential_fit()\n",
    "print(res_arr)\n",
    "for i in range(3):\n",
    "    res_arr = potential_fit(res_arr=res_arr)\n",
    "print(res_arr)\n",
    "res_arr = res_arr.reshape(4,16) # instead of 4 number of simulations fitted"
   ]
  },
  {
   "cell_type": "code",
   "execution_count": null,
   "metadata": {
    "collapsed": true
   },
   "outputs": [],
   "source": [
    "#res_arr = res_arr.reshape(4,16)"
   ]
  },
  {
   "cell_type": "raw",
   "metadata": {},
   "source": [
    "#a = np.zeros(10)\n",
    "a = np.array([])\n",
    "for i in range(3):\n",
    "    #print(a)\n",
    "    #print(np.full(10,i))\n",
    "    a = np.append(a, np.full(10,i+1))\n",
    "    \n",
    "print(a)\n",
    "a = a.reshape(3,10)\n",
    "print(a)"
   ]
  },
  {
   "cell_type": "code",
   "execution_count": null,
   "metadata": {
    "collapsed": true
   },
   "outputs": [],
   "source": [
    "### get data and masks out of simulation\n",
    "\n",
    "# set maximum (3d) Radius of galaxy\n",
    "maxr_Mpc = 2. * s.galrad #Mpc\n",
    "#maxr_Mpc = 0.015 #Mpc\n",
    "\n",
    "## selection masks\n",
    "# select ALL particles belonging to the main galaxy within maxr\n",
    "iall, = np.where( (s.halo == 0) & (s.r() < maxr_Mpc) & (s.r() > 0.) )\n",
    "# select GAS particles belonging to the main galaxy within maxr\n",
    "igas, = np.where( (s.halo == 0) & (s.r() < maxr_Mpc) & (s.r() > 0.) & (s.type == 0) )\n",
    "# select DM particles belonging to the main galaxy within maxr\n",
    "idm, = np.where( (s.halo == 0) & (s.r() < maxr_Mpc) & (s.r() > 0.) & ((s.type == 1) + (s.type == 2) + (s.type == 3) ))\n",
    "# select STAR particles belonging to the main galaxy within maxr\n",
    "istars, = np.where( (s.halo == 0) & (s.r() < maxr_Mpc) & (s.r() > 0.) & (s.type == 4) )\n",
    "\n",
    "# choose which mask to use\n",
    "mask = iall    \n",
    "\n",
    "## check if I actually use them........\n",
    "# get cartesian and cylindrical vectors\n",
    "# check unit of v_phi (even though not used)\n",
    "(x_kpc, y_kpc, z_kpc), (vx_kms, vy_kms, vz_kms), rxyz_kpc, rxy_kpc = get_cartesian_vectors(s, sf, mask)\n",
    "(R_kpc, phi, z_kpc), (vR_kms, vphi, vz_kms) = get_cylindrical_vectors(s, sf, mask)\n",
    "(x, y, z), (vx, vy, vz), rxyz, rxy = get_cartesian_vectors(s, sf, mask)\n",
    "(R, phi, z), (vR, vphi, vz) = get_cylindrical_vectors(s, sf, mask)\n",
    "\n",
    "# select data for each mask\n",
    "r_dm_kpc = 1000. * s.r()[idm]\n",
    "r_gas_kpc = 1000. * s.r()[igas]\n",
    "r_stars_kpc = 1000. * s.r()[istars]\n",
    "r_all_kpc = 1000. * s.r()[iall]\n",
    "(R_dm_kpc, phi, z_dm_kpc), (vR_kms, vphi, vz_kms) = get_cylindrical_vectors(s, sf, idm) \n",
    "pot_dm_kms2 = s.pot[idm]\n",
    "pot_gas_kms2 = s.pot[igas]\n",
    "pot_stars_kms2 = s.pot[istars]\n",
    "pot_all_kms2 = s.pot[iall]\n"
   ]
  },
  {
   "cell_type": "code",
   "execution_count": null,
   "metadata": {
    "collapsed": true,
    "scrolled": true
   },
   "outputs": [],
   "source": [
    "plt.plot(r_stars_kpc, pot_stars_kms2, 'b.', alpha = 0.01, label = 'stars')\n",
    "plt.plot(r_gas_kpc, pot_gas_kms2, 'g.', alpha = 0.01, label = 'gas')\n",
    "plt.plot(r_dm_kpc, pot_dm_kms2, 'r.', alpha = 0.1, label = 'DM') \n",
    "plt.legend()\n",
    "plt.xlabel('R [kpc]')\n",
    "plt.ylabel('pot [$(\\\\frac{\\mathrm{km}}{\\mathrm{s}})^2]$')"
   ]
  },
  {
   "cell_type": "code",
   "execution_count": null,
   "metadata": {
    "collapsed": true
   },
   "outputs": [],
   "source": [
    "# dm particle (random) selection\n",
    "a = np.array(random.sample(list(enumerate(pot_dm_kms2)),150001))\n",
    "rand_ind = a[:,0].astype(int)\n",
    "rand_pot_dm_kms2 = a[:, 1]\n",
    "rand_r_dm_kpc = r_dm_kpc[rand_ind]\n",
    "rand_R_dm_kpc = R_dm_kpc[rand_ind]\n",
    "rand_z_dm_kpc = z_dm_kpc[rand_ind]\n",
    "\n",
    "r_kpc_data, R_kpc_data, z_kpc_data, pot_kms2_data = rand_r_dm_kpc, rand_R_dm_kpc, rand_z_dm_kpc, rand_pot_dm_kms2\n",
    "\n",
    "plt.plot(r_kpc_data, pot_kms2_data, 'r.', alpha = 0.1, label = 'DM') \n",
    "plt.legend()\n",
    "plt.xlabel('r [kpc]')\n",
    "plt.ylabel('pot [$(\\\\frac{\\mathrm{km}}{\\mathrm{s}})^2]$')\n",
    "plt.show()\n",
    "plt.plot(R_kpc_data, pot_kms2_data, 'r.', alpha = 0.1, label = 'DM') \n",
    "plt.legend()\n",
    "plt.xlabel('R [kpc]')\n",
    "plt.ylabel('pot [$(\\\\frac{\\mathrm{km}}{\\mathrm{s}})^2]$')\n",
    "plt.show()\n",
    "plt.plot(z_kpc_data, pot_kms2_data, 'r.', alpha = 0.1, label = 'DM') \n",
    "plt.legend()\n",
    "plt.xlabel('z [kpc]')\n",
    "plt.ylabel('pot [$(\\\\frac{\\mathrm{km}}{\\mathrm{s}})^2]$')\n",
    "plt.show()\n"
   ]
  },
  {
   "cell_type": "code",
   "execution_count": null,
   "metadata": {
    "collapsed": true
   },
   "outputs": [],
   "source": [
    "#_____reference values for galpy_____\n",
    "_REFR0_kpc = 8."
   ]
  },
  {
   "cell_type": "markdown",
   "metadata": {},
   "source": [
    "Scipy differential_evolution\n",
    "----\n"
   ]
  },
  {
   "cell_type": "code",
   "execution_count": null,
   "metadata": {
    "collapsed": true
   },
   "outputs": [],
   "source": [
    "#_____function for scipy.differential_evolution that sums the relative error squares_____\n",
    "def rel_pot_error_scipydifferentialevolution(x,*args):\n",
    "    '''\n",
    "    INPUT: x: parameters to be fitted\n",
    "               x[0]: v0 [km/s]\n",
    "               x[1], x[2]: scale lengths of Miyamoto Nagai disk [kpc]\n",
    "               x[3], x[4]: scale length of MFW and Hernquist halo and bulge potentials [kpc]\n",
    "               x[5], x[6]: normalization of MND and NFWH (including normalization of HB by subtracting them from 1)\n",
    "           args: data\n",
    "               args[0], args[1]: grid of R and z in kpc\n",
    "               args[2]: potential in (km/s)**2\n",
    "    OUTPUT: err: sum of relative error squares\n",
    "    '''\n",
    "    \n",
    "    #read fitting parameters:\n",
    "    v0_kms     = x[0]\n",
    "    a_MND_kpc  = x[1]\n",
    "    b_MND_kpc  = x[2]\n",
    "    a_NFWH_kpc = x[3]\n",
    "    a_HB_kpc   = x[4]\n",
    "    n_MND      = x[5]\n",
    "    n_NFWH     = x[6]\n",
    "    n_HB       = 1.-n_NFWH-n_MND\n",
    "    \n",
    "    #read data:\n",
    "    R_kpc_data    = args[0]\n",
    "    z_kpc_data    = args[1]\n",
    "    pot_kms2_data = args[2]\n",
    "    \n",
    "    #setup potential (and check if parameters are physical):\n",
    "    try:\n",
    "        pot_galpy_model = setup_galpy_potential(a_MND_kpc,b_MND_kpc,a_NFWH_kpc,a_HB_kpc,n_MND,n_NFWH,n_HB)\n",
    "        #print('Setup potential works.')\n",
    "    except Exception as e:\n",
    "        #uncomment for debugging:\n",
    "        #print(e.message)\n",
    "        #print(x)\n",
    "        return np.inf\n",
    "\n",
    "    #calculate potential values at (R,z) for this potential:\n",
    "    pot_kms2_model = evaluatePotentials(pot_galpy_model,\n",
    "                                   R_kpc_data/_REFR0_kpc,\n",
    "                                   z_kpc_data/_REFR0_kpc) * (v0_kms)**2\n",
    "    \n",
    "    #calculate sum of relative error squares:\n",
    "    err = np.sum(((pot_kms2_data - pot_kms2_model) / pot_kms2_model)**2)\n",
    "    #print(err)\n",
    "    return err"
   ]
  },
  {
   "cell_type": "code",
   "execution_count": null,
   "metadata": {
    "collapsed": true,
    "scrolled": false
   },
   "outputs": [],
   "source": [
    "lower_floor = 1e-3\n",
    "bounds = ((lower_floor,400.), #vcirc\n",
    "          (lower_floor,200.), #a_MND\n",
    "          (lower_floor,200.), #b_MND\n",
    "          (lower_floor,200.), #a_NFWH\n",
    "          (lower_floor,200.), #a_HB\n",
    "          (0.,1.), #n_MND\n",
    "          (0.,1.)) #n_NFWH\n",
    "\n",
    "#fitting:\n",
    "res = opt.differential_evolution(\n",
    "            rel_pot_error_scipydifferentialevolution,\n",
    "            bounds=bounds,\n",
    "            args=(R_kpc_data,z_kpc_data,pot_kms2_data),\n",
    "            strategy='best1bin',\n",
    "            maxiter=10000,tol=0.001,atol=1e-7,\n",
    "            disp=False\n",
    "            )\n",
    "\n",
    "print(res)\n",
    "print(\"best fit:\")\n",
    "print(\"v0_kms    \", res.x[0])\n",
    "print(\"a_MND_kpc \", res.x[1])\n",
    "print(\"b_MND_kpc \", res.x[2])\n",
    "print(\"a_NFWH_kpc\", res.x[3])\n",
    "print(\"a_HB_kpc  \", res.x[4])\n",
    "print(\"n_MND     \", res.x[5])\n",
    "print(\"n_NFWH    \", res.x[6])\n",
    "print(\"n_HB      \", 1.-res.x[5]-res.x[6])\n",
    "\n",
    "pot_diff_ev = np.array([res.x[0], res.x[1], res.x[2], res.x[3], res.x[4], res.x[5], res.x[6],  1.-res.x[5]-res.x[6]])\n",
    "np.savetxt(outdir + 'pot_res_diff_ev.txt', pot_diff_ev, fmt = '%10.15f')"
   ]
  },
  {
   "cell_type": "code",
   "execution_count": null,
   "metadata": {
    "collapsed": true
   },
   "outputs": [],
   "source": [
    "v0_kms_bestfit     = res.x[0]\n",
    "a_MND_kpc_bestfit  = res.x[1]\n",
    "b_MND_kpc_bestfit  = res.x[2]\n",
    "a_NFWH_kpc_bestfit = res.x[3]\n",
    "a_HB_kpc_bestfit   = res.x[4]\n",
    "n_MND_bestfit      = res.x[5]\n",
    "n_NFWH_bestfit     = res.x[6]\n",
    "n_HB_bestfit       = 1. - (n_MND_bestfit + n_NFWH_bestfit)\n",
    "\n",
    "#generate potential measurements:\n",
    "pot_galpy_bestfit = setup_galpy_potential(a_MND_kpc_bestfit,b_MND_kpc_bestfit,\n",
    "                                       a_NFWH_kpc_bestfit,a_HB_kpc_bestfit,\n",
    "                                       n_MND_bestfit,n_NFWH_bestfit,n_HB_bestfit)\n",
    "pot_kms2_bestfit = evaluatePotentials(pot_galpy_bestfit,\n",
    "                                   R_kpc_data/_REFR0_kpc,\n",
    "                                   z_kpc_data/_REFR0_kpc) * (v0_kms_bestfit)**2"
   ]
  },
  {
   "cell_type": "code",
   "execution_count": null,
   "metadata": {
    "collapsed": true
   },
   "outputs": [],
   "source": [
    "plotDensities(pot_galpy_bestfit,rmin=00.1,rmax = 6,zmax=6,zmin=-6,nrs=101,nzs=101, log=1, aspect = 'equal')\n",
    "plt.show()\n",
    "print('log scale')"
   ]
  },
  {
   "cell_type": "markdown",
   "metadata": {},
   "source": [
    "Errors of this fit?\n"
   ]
  },
  {
   "cell_type": "markdown",
   "metadata": {},
   "source": [
    "emcee fitting\n",
    "----"
   ]
  },
  {
   "cell_type": "code",
   "execution_count": null,
   "metadata": {
    "collapsed": true
   },
   "outputs": [],
   "source": [
    "print('Start emcee 1:', datetime.datetime.now().time())"
   ]
  },
  {
   "cell_type": "code",
   "execution_count": null,
   "metadata": {
    "collapsed": true,
    "scrolled": false
   },
   "outputs": [],
   "source": [
    "#_____prepare MCMC_____\n",
    "ndim, nwalkers, nstep = 7, 50, 10000\n",
    "\n",
    "#initial values for fit:\n",
    "v0_kms_init     = 150.\n",
    "a_MND_kpc_init  = 6.\n",
    "b_MND_kpc_init  = 1.\n",
    "a_NFWH_kpc_init = 10.\n",
    "a_HB_kpc_init   = 2.\n",
    "n_MND_init      = 0.2\n",
    "n_NFWH_init     = 0.6\n",
    "initial_guess = np.array([v0_kms_init,a_MND_kpc_init,b_MND_kpc_init,a_NFWH_kpc_init,a_HB_kpc_init,\n",
    "                             n_MND_init,n_NFWH_init])\n",
    "initial_guess_width = np.fabs(0.2*initial_guess)\n",
    "p0 = np.array([np.random.randn(ndim)*np.array(initial_guess_width)+initial_guess \\\n",
    "                                              for i in range(nwalkers)])\n",
    "#fiitting boundaries:\n",
    "boundaries = np.array([[0.,np.inf],[0.,np.inf],[0.,np.inf],[0.,np.inf],[0.,np.inf],[0.,1.],[0.,1.]])\n",
    "for pp in range(ndim):\n",
    "    p0[(p0[:,pp] < boundaries[pp,0]),pp] = initial_guess[pp] + np.random.uniform() * 0.1\n",
    "    p0[(p0[:,pp] > boundaries[pp,1]),pp] = initial_guess[pp] - np.random.uniform() * 0.1\n",
    "\n",
    "#_____run MCMC_____\n",
    "sampler = emcee.EnsembleSampler(nwalkers,ndim,\n",
    "                               lnprob_MCMC,\n",
    "                               args=[R_kpc_data,z_kpc_data,pot_kms2_data])\n",
    "sampler.run_mcmc(p0,nstep)\n",
    "\n",
    "#result:\n",
    "burnin = 1000\n",
    "final_samples = sampler.chain[:, burnin:, :].reshape((-1,ndim))\n",
    "chain_samples = sampler.chain"
   ]
  },
  {
   "cell_type": "code",
   "execution_count": null,
   "metadata": {
    "collapsed": true
   },
   "outputs": [],
   "source": [
    "#===== OUTPUT =====\n",
    "\n",
    "#_____take precentiles_____\n",
    "#perc = np.percentile(final_samples,[16.,50.,84.],axis=0)\n",
    "median = np.median(final_samples,axis=0)\n",
    "std = np.std(final_samples,axis=0)\n",
    "print(\"best fit:\")\n",
    "print(\"v0_kms    \",median[0],\"\\t\",\"+/-\",std[0])\n",
    "print(\"a_MND_kpc \",median[1],\"\\t\",\"+/-\",std[1])\n",
    "print(\"b_MND_kpc \",median[2],\"\\t\",\"+/-\",std[2])\n",
    "print(\"a_NFWH_kpc\",median[3],\"\\t\",\"+/-\",std[3])\n",
    "print(\"a_HB_kpc  \",median[4],\"\\t\",\"+/-\",std[4])\n",
    "print(\"n_MND     \",median[5],\"\\t\",\"+/-\",std[5])\n",
    "print(\"n_NFWH    \",median[6],\"\\t\",\"+/-\",std[6])\n",
    "print(\"n_HB      \",1.-median[5]-median[6])\n",
    "\n",
    "pot_emcee1 = np.array([median[0], median[1], median[2], median[3], median[4], median[5], median[6], 1. - median[5] - median[6]])\n",
    "np.savetxt(outdir + 'pot_res_emcee1.txt', pot_emcee1, fmt = '%10.15f')"
   ]
  },
  {
   "cell_type": "code",
   "execution_count": null,
   "metadata": {
    "collapsed": true
   },
   "outputs": [],
   "source": [
    "#plot progress\n",
    "labels = [\"v0_kms\",\"a_MND_kpc\",\"b_MND_kpc\",\"a_NFWH_kpc\",\"a_HB_kpc\",\"n_MND\",\"n_NFWH\",\"n_HB\"]\n",
    "fig = plt.figure(figsize=(6,12))\n",
    "ax_list = [fig.add_subplot(ndim,1,ii+1) for ii in range(ndim)]\n",
    "for ii in range(ndim):\n",
    "    ax = ax_list[ii]\n",
    "    ax.set_ylabel(labels[ii])\n",
    "    for jj in range(nwalkers):\n",
    "        ax.plot(np.arange(nstep),chain_samples[jj,:,ii],color='k',alpha=0.5,linewidth=0.2)    \n",
    "for ii in range(ndim):\n",
    "    ax = ax_list[ii]\n",
    "    perc = np.percentile(final_samples[:,ii],[50.])\n",
    "    #ax.hlines(true_values[ii],0.,nstep,color='green',linestyles=['solid'],label='true value')\n",
    "    ax.hlines(perc,0.,nstep,color='red',linestyles=['dotted'],label='best fit from MCMC')\n",
    "    ylim = ax.get_ylim()\n",
    "    ax.vlines([burnin],ylim[0],ylim[1],color='grey',linestyle='dashed',label='burn in')\n",
    "    ax.set_ylim(ylim)\n",
    "    if ii == 0: ax.legend()\n",
    "plt.tight_layout()\n",
    "plt.show()"
   ]
  },
  {
   "cell_type": "code",
   "execution_count": null,
   "metadata": {
    "collapsed": true
   },
   "outputs": [],
   "source": [
    "#_____generate data from best fit potential_____\n",
    "#bestfit:\n",
    "v0_kms_bestfit     = median[0]\n",
    "a_MND_kpc_bestfit  = median[1]\n",
    "b_MND_kpc_bestfit  = median[2]\n",
    "a_NFWH_kpc_bestfit = median[3]\n",
    "a_HB_kpc_bestfit   = median[4]\n",
    "n_MND_bestfit      = median[5]\n",
    "n_NFWH_bestfit     = median[6]\n",
    "n_HB_bestfit       = 1. - (n_MND_bestfit + n_NFWH_bestfit)\n",
    "\n",
    "#generate potential measurements:\n",
    "pot_galpy_bestfit = setup_galpy_potential(a_MND_kpc_bestfit,b_MND_kpc_bestfit,\n",
    "                                       a_NFWH_kpc_bestfit,a_HB_kpc_bestfit,\n",
    "                                       n_MND_bestfit,n_NFWH_bestfit,n_HB_bestfit)\n",
    "pot_kms2_bestfit = evaluatePotentials(pot_galpy_bestfit,\n",
    "                                   R_kpc_data/_REFR0_kpc,\n",
    "                                   z_kpc_data/_REFR0_kpc) * (v0_kms_bestfit)**2"
   ]
  },
  {
   "cell_type": "code",
   "execution_count": null,
   "metadata": {
    "collapsed": true
   },
   "outputs": [],
   "source": [
    "#_____plot density distribution of best fit_____\n",
    "plotDensities(pot_galpy_bestfit,rmin=0.01,rmax = 6,zmax=6,zmin=-6,nrs=101,nzs=101, log=1, aspect = 'equal')\n",
    "plt.show()\n",
    "print('log scale')"
   ]
  },
  {
   "cell_type": "code",
   "execution_count": null,
   "metadata": {
    "collapsed": true
   },
   "outputs": [],
   "source": [
    "print('Start emcee 2:', datetime.datetime.now().time())"
   ]
  },
  {
   "cell_type": "code",
   "execution_count": null,
   "metadata": {
    "collapsed": true
   },
   "outputs": [],
   "source": [
    "#_____prepare MCMC_____\n",
    "ndim, nwalkers, nstep = 7, 50, 3000\n",
    "\n",
    "#initial values for fit:\n",
    "initial_guess = median\n",
    "initial_guess_width = 0.1*std\n",
    "p0 = np.array([np.random.randn(ndim)*np.array(initial_guess_width)+initial_guess \\\n",
    "                                              for i in range(nwalkers)])\n",
    "\n",
    "#_____run MCMC_____\n",
    "sampler = emcee.EnsembleSampler(nwalkers,ndim,\n",
    "                               lnprob_MCMC,\n",
    "                               args=[R_kpc_data,z_kpc_data,pot_kms2_data])\n",
    "sampler.run_mcmc(p0,nstep)\n",
    "\n",
    "#result:\n",
    "burnin = 700\n",
    "final_samples = sampler.chain[:, burnin:, :].reshape((-1,ndim))\n",
    "chain_samples = sampler.chain"
   ]
  },
  {
   "cell_type": "code",
   "execution_count": null,
   "metadata": {
    "collapsed": true
   },
   "outputs": [],
   "source": [
    "#===== OUTPUT =====\n",
    "\n",
    "#_____take precentiles_____\n",
    "#perc = np.percentile(final_samples,[16.,50.,84.],axis=0)\n",
    "median = np.median(final_samples,axis=0)\n",
    "std = np.std(final_samples,axis=0)\n",
    "print(\"true vs. best fit:\")\n",
    "print(\"v0_kms    \",median[0],\"\\t\",\"+/-\",std[0])\n",
    "print(\"a_MND_kpc \",median[1],\"\\t\",\"+/-\",std[1])\n",
    "print(\"b_MND_kpc \",median[2],\"\\t\",\"+/-\",std[2])\n",
    "print(\"a_NFWH_kpc\",median[3],\"\\t\",\"+/-\",std[3])\n",
    "print(\"a_HB_kpc  \",median[4],\"\\t\",\"+/-\",std[4])\n",
    "print(\"n_MND     \",median[5],\"\\t\",\"+/-\",std[5])\n",
    "print(\"n_NFWH    \",median[6],\"\\t\",\"+/-\",std[6])\n",
    "print(\"n_HB      \",1.-median[5]-median[6])\n",
    "\n",
    "pot_emcee2 = np.array([median[0], median[1], median[2], median[3], median[4], median[5], median[6], 1. - median[5] - median[6]])\n",
    "np.savetxt(outdir + 'pot_res_emcee2.txt', pot_emcee2, fmt = '%10.15f')"
   ]
  },
  {
   "cell_type": "code",
   "execution_count": null,
   "metadata": {
    "collapsed": true
   },
   "outputs": [],
   "source": [
    "#plot progress\n",
    "fig = plt.figure(figsize=(6,12))\n",
    "ax_list = [fig.add_subplot(ndim,1,ii+1) for ii in range(ndim)]\n",
    "for ii in range(ndim):\n",
    "    ax = ax_list[ii]\n",
    "    ax.set_ylabel(labels[ii])\n",
    "    for jj in range(nwalkers):\n",
    "        ax.plot(np.arange(nstep),chain_samples[jj,:,ii],color='k',alpha=0.5,linewidth=0.2)    \n",
    "for ii in range(ndim):\n",
    "    ax = ax_list[ii]\n",
    "    perc = np.percentile(final_samples[:,ii],[50.])\n",
    "    #ax.hlines(true_values[ii],0.,nstep,color='green',linestyles=['solid'],label='true value')\n",
    "    ax.hlines(perc,0.,nstep,color='red',linestyles=['dotted'],label='best fit from MCMC')\n",
    "    ylim = ax.get_ylim()\n",
    "    ax.vlines([burnin],ylim[0],ylim[1],color='grey',linestyle='dashed',label='burn in')\n",
    "    ax.set_ylim(ylim)\n",
    "    if ii == 0: ax.legend()\n",
    "plt.tight_layout()\n",
    "plt.show()"
   ]
  },
  {
   "cell_type": "code",
   "execution_count": null,
   "metadata": {
    "collapsed": true
   },
   "outputs": [],
   "source": [
    "#_____generate data from best fit potential_____\n",
    "#bestfit:\n",
    "v0_kms_bestfit     = median[0]\n",
    "a_MND_kpc_bestfit  = median[1]\n",
    "b_MND_kpc_bestfit  = median[2]\n",
    "a_NFWH_kpc_bestfit = median[3]\n",
    "a_HB_kpc_bestfit   = median[4]\n",
    "n_MND_bestfit      = median[5]\n",
    "n_NFWH_bestfit     = median[6]\n",
    "n_HB_bestfit       = 1. - (n_MND_bestfit + n_NFWH_bestfit)\n",
    "\n",
    "#generate potential measurements:\n",
    "pot_galpy_bestfit = setup_galpy_potential(a_MND_kpc_bestfit,b_MND_kpc_bestfit,\n",
    "                                       a_NFWH_kpc_bestfit,a_HB_kpc_bestfit,\n",
    "                                       n_MND_bestfit,n_NFWH_bestfit,n_HB_bestfit)\n",
    "pot_kms2_bestfit = evaluatePotentials(pot_galpy_bestfit,\n",
    "                                   R_kpc_data/_REFR0_kpc,\n",
    "                                   z_kpc_data/_REFR0_kpc) * (v0_kms_bestfit)**2"
   ]
  },
  {
   "cell_type": "code",
   "execution_count": null,
   "metadata": {
    "collapsed": true
   },
   "outputs": [],
   "source": [
    "#_____plot density distribution of best fit_____\n",
    "plotDensities(pot_galpy_bestfit,rmin=0.01,rmax = 6,zmax=6,zmin=-6,nrs=101,nzs=101, log=1, aspect = 'equal')\n",
    "plt.show()\n",
    "print('log scale')"
   ]
  },
  {
   "cell_type": "code",
   "execution_count": null,
   "metadata": {
    "collapsed": true
   },
   "outputs": [],
   "source": [
    "print('End emcee 2:', datetime.datetime.now().time())"
   ]
  },
  {
   "cell_type": "code",
   "execution_count": null,
   "metadata": {
    "collapsed": true
   },
   "outputs": [],
   "source": []
  },
  {
   "cell_type": "code",
   "execution_count": null,
   "metadata": {
    "collapsed": true
   },
   "outputs": [],
   "source": []
  },
  {
   "cell_type": "code",
   "execution_count": null,
   "metadata": {
    "collapsed": true
   },
   "outputs": [],
   "source": []
  }
 ],
 "metadata": {
  "kernelspec": {
   "display_name": "Python 3",
   "language": "python",
   "name": "python3"
  },
  "language_info": {
   "codemirror_mode": {
    "name": "ipython",
    "version": 3
   },
   "file_extension": ".py",
   "mimetype": "text/x-python",
   "name": "python",
   "nbconvert_exporter": "python",
   "pygments_lexer": "ipython3",
   "version": "3.6.3"
  }
 },
 "nbformat": 4,
 "nbformat_minor": 2
}
