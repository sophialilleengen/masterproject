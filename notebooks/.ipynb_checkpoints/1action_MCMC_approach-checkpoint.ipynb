{
 "cells": [
  {
   "cell_type": "markdown",
   "metadata": {},
   "source": [
    "Maximum likelihood & Posterior distribution\n",
    "===\n",
    "\n",
    "\n",
    "Data: $\\vec{x}$, $\\vec{v}$\n",
    "\n",
    "Model: $\\Phi$, $\\vec{\\mu}_J$, $\\vec{\\Sigma}_J$\n",
    "\n",
    "Likelihood: $P\\left(\\mathrm{data} \\mid \\mathrm{model}\\right)$ = $P\\left(\\vec{x}, \\vec{v} \\mid \\Phi, \\vec{\\mu}_J, \\vec{\\Sigma}_J\\right)$ = $\\mathcal{N}\\left(J\\left(\\vec{x}, \\vec{v}, \\Phi \\right); \\vec{\\mu}_J, \\vec{\\Sigma}_J\\right)$\n",
    "\n",
    "Free parameters:\n",
    "--\n",
    "Potential:\n",
    "- Halo : a_NFWH, n_NFWH\n",
    "- Disk : a_MND, b_MND, n_MND\n",
    "- Bulge: a_HB, n_HB\n",
    "- galpy: _REFV0_kms\n",
    "\n",
    "= 8 free but put prioris on them (or keep a_MND, b_MND and a_HB fixed)\n",
    "\n",
    "Distribution:\n",
    "- $\\vec{\\mu} = \\left(\\mu_{J_R}, \\mu_{J_z}, \\mu_{L_z}\\right)$ = 3 free\n",
    "- $\\vec{\\Sigma}_J$ = symetric covariance matrix: 6 free\n",
    "\n",
    "\n",
    "To do:\n",
    "---\n",
    "1. calculate maximum likelihood (e.g. use differential evolution for that)\n",
    "2. calculate posterior distribution on model parameters (Bayes & emcee)\n",
    "\n",
    "Bayes:\n",
    "--\n",
    "$P\\left(A\\mid B\\right) = P\\left(A\\cap B\\right)\\div P\\left(B\\right)$\n",
    "\n",
    "$P\\left(B\\mid A\\right) = P\\left(B\\cap A\\right)\\div P\\left(A\\right)$\n",
    "\n",
    "\n",
    "$P\\left(A\\cap B\\right) = P\\left(B\\cap A\\right)\\Rightarrow P\\left(A\\mid B\\right) = \\frac{P\\left(B\\mid A\\right)P\\left(A\\right)}{P\\left(B\\right)} = \\frac{P\\left(B\\mid A\\right)P\\left(A\\right)}{\\int{P\\left(B\\mid A\\right)P\\left(A\\right)\\mathrm{d}modelparams}} $\n",
    "\n",
    "Posterior = Likelihood $\\cdot$ Prior / Normalization\n",
    "\n",
    "Priors:\n",
    "--\n",
    "$n_{NFWH} + n_{MND} + n_{HB} = 1$\n",
    "\n",
    "$\\mu_{J_R} \\geq0$\n",
    "\n",
    "$\\mu_{J_z} \\geq0$\n",
    "\n",
    "set a prior to minimize spread:\n",
    "$P\\left(\\mathrm{det}\\left(\\Sigma\\right)\\right) = \\frac{1}{\\mathrm{det}\\left(\\Sigma\\right)}$\n",
    "\n",
    "if not strong enough try with $P\\left(\\mathrm{det}\\left(\\Sigma\\right)\\right) = \\frac{1}{\\mathrm{det}\\left(\\Sigma\\right)^2}$\n"
   ]
  },
  {
   "cell_type": "markdown",
   "metadata": {
    "collapsed": true
   },
   "source": [
    "1. Maximum likelihood calculation\n",
    "==="
   ]
  },
  {
   "cell_type": "code",
   "execution_count": 1,
   "metadata": {},
   "outputs": [
    {
     "name": "stdout",
     "output_type": "stream",
     "text": [
      "galpyWarning: A major change in versions > 1.1 is that all galpy.potential functions and methods take the potential as the first argument; previously methods such as evaluatePotentials, evaluateDensities, etc. would be called with (R,z,Pot), now they are called as (Pot,R,z) for greater consistency across the codebase\n",
      "galpyWarning: actionAngleAdiabatic_c extension module not loaded, because of error '/home/extmilan/anaconda3/lib/python3.6/site-packages/galpy-1.3.dev0-py3.6-linux-x86_64.egg/galpy_actionAngle_c.cpython-36m-x86_64-linux-gnu.so: undefined symbol: gsl_integration_glfixed_table_alloc' \n",
      "galpyWarning: actionAngleStaeckel_c extension module not loaded, because of error '/home/extmilan/anaconda3/lib/python3.6/site-packages/galpy-1.3.dev0-py3.6-linux-x86_64.egg/galpy_actionAngle_c.cpython-36m-x86_64-linux-gnu.so: undefined symbol: gsl_integration_glfixed_table_alloc' \n",
      "galpyWarning: actionAngleTorus_c extension module not loaded, because galpy_actionAngleTorus_c.cpython-36m-x86_64-linux-gnu.so image was not found\n"
     ]
    }
   ],
   "source": [
    "from galpy.potential import MiyamotoNagaiPotential, NFWPotential, HernquistPotential\n",
    "from galpy.actionAngle import estimateDeltaStaeckel, actionAngleStaeckel\n",
    "from galpy.actionAngle import UnboundError\n",
    "\n",
    "from areposnap.gadget import gadget_readsnap\n",
    "from areposnap.gadget_subfind import load_subfind\n",
    "\n",
    "from auriga_basics import *\n",
    "from auriga_functions import *\n",
    "\n",
    "import numpy as np\n",
    "from IPython.display import Image, display\n",
    "\n",
    "import corner\n",
    "\n",
    "import datetime\n",
    "import random\n",
    "\n",
    "import copy\n",
    "\n",
    "from mpl_toolkits.axes_grid1 import make_axes_locatable\n",
    "import matplotlib.pyplot as plt\n",
    "import matplotlib\n",
    "from matplotlib.patches import Circle\n",
    "from matplotlib import animation\n",
    "from matplotlib.colors import LogNorm\n",
    "\n",
    "\n",
    "import datetime\n",
    "\n",
    "cmap = copy.copy(plt.cm.inferno)\n",
    "cmap.set_bad((0,0,0))\n",
    "\n",
    "%matplotlib inline"
   ]
  },
  {
   "cell_type": "code",
   "execution_count": 2,
   "metadata": {
    "collapsed": true
   },
   "outputs": [],
   "source": [
    "#_____function that sets-up galpy potential_____\n",
    "def setup_galpy_potential(a_MND_kpc, b_MND_kpc, a_NFWH_kpc, a_HB_kpc, n_MND, n_NFWH, n_HB, _REFR0_kpc):\n",
    "    \n",
    "    #test input:\n",
    "    if (a_MND_kpc <= 0.) or (b_MND_kpc <= 0.) or (a_NFWH_kpc <= 0.) or (a_HB_kpc <= 0.) \\\n",
    "       or (n_MND <= 0.) or (n_NFWH <= 0.) or (n_HB <= 0.) or (n_MND >= 1.) or (n_NFWH >= 1.) or (n_HB >= 1.):\n",
    "        raise ValueError('Error in setup_galpy_potential: '+\\\n",
    "                         'The input parameters for the scaling profiles do not correspond to a physical potential.')\n",
    "    if np.fabs(n_MND + n_NFWH + n_HB - 1.) > 1e-7:\n",
    "        raise ValueError('Error in setup_galpy_potential: '+\\\n",
    "                         'The sum of the normalization does not add up to 1.')\n",
    "        \n",
    "    #trafo to galpy units:\n",
    "    a_MND  = a_MND_kpc  / _REFR0_kpc\n",
    "    b_MND  = b_MND_kpc  / _REFR0_kpc\n",
    "    a_NFWH = a_NFWH_kpc / _REFR0_kpc\n",
    "    a_HB   = a_HB_kpc   / _REFR0_kpc\n",
    "    \n",
    "    #setup potential:\n",
    "    disk = MiyamotoNagaiPotential(\n",
    "                a = a_MND,\n",
    "                b = b_MND,\n",
    "                normalize = n_MND)\n",
    "    halo = NFWPotential(\n",
    "                a = a_NFWH,\n",
    "                normalize = n_NFWH)\n",
    "    bulge = HernquistPotential(\n",
    "                a = a_HB,\n",
    "                normalize = n_HB) \n",
    "     \n",
    "    return [disk,halo,bulge]\n"
   ]
  },
  {
   "cell_type": "code",
   "execution_count": null,
   "metadata": {
    "collapsed": true
   },
   "outputs": [],
   "source": []
  }
 ],
 "metadata": {
  "kernelspec": {
   "display_name": "Python 3",
   "language": "python",
   "name": "python3"
  },
  "language_info": {
   "codemirror_mode": {
    "name": "ipython",
    "version": 3
   },
   "file_extension": ".py",
   "mimetype": "text/x-python",
   "name": "python",
   "nbconvert_exporter": "python",
   "pygments_lexer": "ipython3",
   "version": "3.6.3"
  }
 },
 "nbformat": 4,
 "nbformat_minor": 2
}
