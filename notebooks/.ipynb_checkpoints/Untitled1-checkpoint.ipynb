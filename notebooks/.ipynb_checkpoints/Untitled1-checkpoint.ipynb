{
 "cells": [
  {
   "cell_type": "markdown",
   "metadata": {},
   "source": [
    "Actions in Snapshot 24 in different potentials\n",
    "---\n"
   ]
  },
  {
   "cell_type": "code",
   "execution_count": 1,
   "metadata": {},
   "outputs": [
    {
     "name": "stdout",
     "output_type": "stream",
     "text": [
      "galpyWarning: A major change in versions > 1.1 is that all galpy.potential functions and methods take the potential as the first argument; previously methods such as evaluatePotentials, evaluateDensities, etc. would be called with (R,z,Pot), now they are called as (Pot,R,z) for greater consistency across the codebase\n",
      "galpyWarning: actionAngleAdiabatic_c extension module not loaded, because of error '/home/extmilan/anaconda3/lib/python3.6/site-packages/galpy-1.3.dev0-py3.6-linux-x86_64.egg/galpy_actionAngle_c.cpython-36m-x86_64-linux-gnu.so: undefined symbol: gsl_integration_glfixed_table_alloc' \n",
      "galpyWarning: actionAngleStaeckel_c extension module not loaded, because of error '/home/extmilan/anaconda3/lib/python3.6/site-packages/galpy-1.3.dev0-py3.6-linux-x86_64.egg/galpy_actionAngle_c.cpython-36m-x86_64-linux-gnu.so: undefined symbol: gsl_integration_glfixed_table_alloc' \n",
      "galpyWarning: actionAngleTorus_c extension module not loaded, because galpy_actionAngleTorus_c.cpython-36m-x86_64-linux-gnu.so image was not found\n"
     ]
    }
   ],
   "source": [
    "from galpy.potential import MWPotential2014, NFWPotential, HernquistPotential, MiyamotoNagaiPotential, DoubleExponentialDiskPotential\n",
    "from galpy.actionAngle import estimateDeltaStaeckel, actionAngleStaeckel\n",
    "from galpy.actionAngle import UnboundError\n",
    "\n",
    "import numpy as np\n",
    "\n",
    "import matplotlib.pyplot as plt\n",
    "import corner\n",
    "\n",
    "from areposnap.gadget import gadget_readsnap\n",
    "from areposnap.gadget_subfind import load_subfind\n",
    "\n",
    "from auriga_basics import *\n",
    "from auriga_functions import *\n",
    "\n",
    "import datetime\n",
    "\n",
    "%matplotlib inline"
   ]
  },
  {
   "cell_type": "code",
   "execution_count": 2,
   "metadata": {
    "collapsed": true
   },
   "outputs": [],
   "source": [
    "machine = 'mac'\n",
    "machine = 'magny'\n",
    "\n",
    "if machine == 'magny':\n",
    "    filedir = \"/home/extmilan/masterthesis/files/\"\n",
    "    basedir = \"/hits/universe/GigaGalaxy/level4_MHD/\"\n",
    "    plotdir = \"/home/extmilan/masterthesis/plots/\"\n",
    "elif machine == 'mac':\n",
    "    filedir = \"/Users/smilanov/Documents/masterthesis/auriga_files/files/\"\n",
    "    basedir = \"/Users/smilanov/Desktop/Auriga/level4/\"\n",
    "else:\n",
    "    raise NotADirectoryError"
   ]
  },
  {
   "cell_type": "code",
   "execution_count": 3,
   "metadata": {},
   "outputs": [
    {
     "name": "stdout",
     "output_type": "stream",
     "text": [
      "[ 34.42281723  33.16259384  37.29567337]\n",
      "Found 1783163 stars.\n",
      "Rotated pos.\n",
      "Rotated vel.\n",
      "\n",
      "galrad  : 0.02408556640148163\n",
      "redshift: 2.220446049250313e-16\n",
      "time    : 0.9999999999999998\n",
      "center  : [ 0.  0.  0.]\n",
      "\n"
     ]
    }
   ],
   "source": [
    "halo_number = 24  # range(1, 31):\n",
    "halodir = basedir + \"halo_{0}/\".format(halo_number)\n",
    "snappath = halodir + \"output/\"\n",
    "\n",
    "s, sf = eat_snap_and_fof(4, 24, 127, snappath, loadonlytype=[4], \n",
    "                haloid=0, galradfac=0.1, verbose=True) \n",
    "s.data['gmet'] = np.maximum( s.data['gmet'], 1e-40 ) "
   ]
  },
  {
   "cell_type": "code",
   "execution_count": 4,
   "metadata": {},
   "outputs": [],
   "source": [
    "\n",
    "def getIDmask(num):\n",
    "    IDS = np.loadtxt(filedir + 'surviving_ids_snapshot_' + str(num) + '_sh_1.txt', dtype = 'int')\n",
    "    gcmask = np.isin(s.id, IDS)\n",
    "    return(gcmask, IDS)"
   ]
  },
  {
   "cell_type": "code",
   "execution_count": 5,
   "metadata": {
    "collapsed": true
   },
   "outputs": [],
   "source": [
    "def setup_galpy_potential(a_MND_kpc, b_MND_kpc, a_NFWH_kpc, a_HB_kpc, n_MND, n_NFWH, n_HB, _REFR0_kpc):\n",
    "    \n",
    "    #test input:\n",
    "    if (a_MND_kpc <= 0.) or (b_MND_kpc <= 0.) or (a_NFWH_kpc <= 0.) or (a_HB_kpc <= 0.) \\\n",
    "       or (n_MND <= 0.) or (n_NFWH <= 0.) or (n_HB <= 0.) or (n_MND >= 1.) or (n_NFWH >= 1.) or (n_HB >= 1.):\n",
    "        raise ValueError('Error in setup_galpy_potential: '+\\\n",
    "                         'The input parameters for the scaling profiles do not correspond to a physical potential.')\n",
    "    if np.fabs(n_MND + n_NFWH + n_HB - 1.) > 1e-7:\n",
    "        raise ValueError('Error in setup_galpy_potential: '+\\\n",
    "                         'The sum of the normalization does not add up to 1.')\n",
    "        \n",
    "    #trafo to galpy units:\n",
    "    a_MND  = a_MND_kpc / _REFR0_kpc\n",
    "    b_MND  = b_MND_kpc / _REFR0_kpc\n",
    "    a_NFWH = a_NFWH_kpc / _REFR0_kpc\n",
    "    a_HB   = a_HB_kpc / _REFR0_kpc\n",
    "    \n",
    "    #setup potential:\n",
    "    disk = MiyamotoNagaiPotential(\n",
    "                a = a_MND,\n",
    "                b = b_MND,\n",
    "                normalize = n_MND)\n",
    "    halo = NFWPotential(\n",
    "                a = a_NFWH,\n",
    "                normalize = n_NFWH)\n",
    "    bulge = HernquistPotential(\n",
    "                a = a_HB,\n",
    "                normalize = n_HB)\n",
    "    return [disk, halo, bulge]\n"
   ]
  },
  {
   "cell_type": "code",
   "execution_count": 6,
   "metadata": {},
   "outputs": [],
   "source": [
    "# potential after changing potential fitting process\n",
    "R0_kpc = 8.028522133827\n",
    "v0_kms = 220.724646623532\n",
    "a_MND_kpc = 2.965077197428\n",
    "b_MND_kpc = 1.636277572036\n",
    "a_HB_kpc = 1.715455282866\n",
    "a_NFWH_kpc = 26.015274934508\n",
    "v0_MND_kms = 105.005287927966\n",
    "v0_HB_kms= 111.241910552340\n",
    "v0_NFWH_kms = 159.117869740997\n",
    "n_MND       = v0_MND_kms**2  / v0_kms**2\n",
    "n_HB        = v0_HB_kms**2   / v0_kms**2\n",
    "n_NFWH      = v0_NFWH_kms**2 / v0_kms**2\n",
    "\n",
    "pot_fit2 = setup_galpy_potential(a_MND_kpc, b_MND_kpc, a_NFWH_kpc, a_HB_kpc, n_MND, n_NFWH, n_HB, R0_kpc)\n",
    "\n",
    "# potential before changing potential fitting process\n",
    "v0_kms_bestfit = 2.103570533272526575e+02 \n",
    "a_MND_kpc_bestfit = 1.825567540634966068e+00 \n",
    "b_MND_kpc_bestfit = 1.857005195746084780e+01 \n",
    "a_NFWH_kpc_bestfit = 1.052331394026586651e+02 \n",
    "a_HB_kpc_bestfit = 1.662002037546861821e+00 \n",
    "n_MND_bestfit = 1.715091913322144834e-01 \n",
    "n_NFWH_bestfit = 1.094429123318183678e-01 \n",
    "n_HB_bestfit = 7.190478963359672182e-01 \n",
    "\n",
    "pot_fit1 = setup_galpy_potential(a_MND_kpc_bestfit, b_MND_kpc_bestfit, a_NFWH_kpc_bestfit, a_HB_kpc_bestfit, n_MND_bestfit, n_NFWH_bestfit, n_HB_bestfit, 8.)"
   ]
  },
  {
   "cell_type": "code",
   "execution_count": 7,
   "metadata": {
    "collapsed": true
   },
   "outputs": [],
   "source": [
    "MW14 = MWPotential2014\n",
    "mp = MiyamotoNagaiPotential\n",
    "nfwp = NFWPotential\n",
    "hp = HernquistPotential\n",
    "dep = DoubleExponentialDiskPotential\n",
    "\n",
    "pot_list = [MW14, mp, nfwp, hp, dep, pot_fit1, pot_fit2]"
   ]
  },
  {
   "cell_type": "code",
   "execution_count": null,
   "metadata": {
    "collapsed": true
   },
   "outputs": [],
   "source": []
  },
  {
   "cell_type": "code",
   "execution_count": null,
   "metadata": {
    "collapsed": true
   },
   "outputs": [],
   "source": [
    "def actions(pot, num, init, color):\n",
    "    _REFR0_kpc = 8.\n",
    "    _REFV0_kms = 220.\n",
    "    gcmask, IDS = getIDmask(num)\n",
    "    (R_kpc, phi_rad, z_kpc), (vR_kms, vphi_kms, vz_kms) = get_cylindrical_vectors(s, sf, gcmask)\n",
    "    R_galpy, vR_galpy, vT_galpy, z_galpy, vz_galpy = R_kpc / _REFR0_kpc, vR_kms / _REFV0_kms, vphi_kms / _REFV0_kms, z_kpc / _REFR0_kpc, vz_kms / _REFV0_kms\n",
    "    # estimate Delta of the Staeckel potential\n",
    "    delta = 0.45\n",
    "    delta = estimateDeltaStaeckel(pot, R_galpy, z_galpy)\n",
    "    # CHECK HOW BIG INFLUENCE OF DELTA IS\n",
    "\n",
    "\n",
    "    # set up the actionAngleStaeckel object\n",
    "    aAS = actionAngleStaeckel(\n",
    "            pot   = pot,  # potential\n",
    "            delta = delta,      # focal length of confocal coordinate system\n",
    "            c     = True        # use C code (for speed)\n",
    "            )\n",
    "    \n",
    "    #calculate actions and convert them to physical units\n",
    "    r_condition = np.where((np.sqrt(R_kpc**2 + z_kpc**2)) <= 50.)\n",
    "    \n",
    "    jR_galpy, lz_galpy, jz_galpy, r_kpc = np.zeros(len(IDS)), np.zeros(len(IDS)), np.zeros(len(IDS)), np.zeros(len(IDS))\n",
    "    savedids = np.zeros(len(IDS))\n",
    "    ids_notworking = []\n",
    "    for test_i, item in enumerate(IDS):\n",
    "        if (test_i % 1000) == 0:\n",
    "            print(datetime.datetime.now().time())\n",
    "            print(test_i)\n",
    "        if np.sum(np.isin(r_condition, test_i)):\n",
    "            try: \n",
    "                jR_galpy[test_i], lz_galpy[test_i], jz_galpy[test_i] = aAS(R_galpy[test_i], vR_galpy[test_i], vT_galpy[test_i], z_galpy[test_i], vz_galpy[test_i])\n",
    "                r_kpc[test_i] = np.sqrt(R_kpc[test_i]**2 + z_kpc[test_i]**2)\n",
    "                savedids[test_i] = item\n",
    "            except(ValueError, UnboundError):\n",
    "                ids_notworking.append(item)\n",
    "                continue\n",
    "    print('numbers of GCs wo actions:', len(ids_notworking))\n",
    "    jR_kpckms, lz_kpckms, jz_kpckms = jR_galpy * _REFR0_kpc * _REFV0_kms, lz_galpy * _REFR0_kpc * _REFV0_kms, jz_galpy * _REFR0_kpc * _REFV0_kms\n",
    "\n",
    "    # just pick result values of particles of which I actually could calculate actions\n",
    "    survivor_id_mask = np.isin(IDS, savedids)\n",
    "    jR_kpckms, lz_kpckms, jz_kpckms = jR_kpckms[survivor_id_mask], lz_kpckms[survivor_id_mask], jz_kpckms[survivor_id_mask]\n",
    "    r_kpc = r_kpc[survivor_id_mask]\n",
    "    survivor_ids = IDS[survivor_id_mask]\n",
    "\n",
    "    #jR_galpy, lz_galpy, jz_galpy = aAS(R_galpy[r_condition], vR_galpy[r_condition], vT_galpy[r_condition], z_galpy[r_condition], vz_galpy[r_condition])\n",
    "    #jR_kpckms, lz_kpckms, jz_kpckms = jR_galpy * _REFR0_kpc * _REFV0_kms, lz_galpy * _REFR0_kpc * _REFV0_kms, jz_galpy * _REFR0_kpc * _REFV0_kms\n",
    "\n",
    "    data = np.vstack([jR_kpckms, lz_kpckms, jz_kpckms])\n",
    "    labels = ['jR [kpc km/s]', 'lz [kpc km/s]', 'jz [kpc km/s]']\n",
    "    if init == 0:\n",
    "        print('Figure started')\n",
    "        figure = corner.corner(data.transpose(), labels = labels, plot_contours = 1, color = color, range =  [(0.,12500.), (-14000.,14000.),(0., 5000.)])\n",
    "        \n",
    "    else:\n",
    "        figure = corner.corner(data.transpose(), labels = labels, plot_contours = 1, color = color, fig = figure, range =  [(0.,12500.), (-14000.,14000.),(0., 5000.)])            \n",
    "    #figure.suptitle(num + ' ' + title + '\\nnumber of GCs: ' + str(len(R_kpc[r_condition])) + '\\n$\\Delta$ Staeckel: ' + \"{:2.2f}\".format(delta));\n",
    "\n",
    "    #display(figure)\n",
    "    #if repeater == 0:\n",
    "        #print('number of all selected GCs', np.sum(gcmask), 'num of GCs within 50kpc:', len(r_condition[0]))\n"
   ]
  },
  {
   "cell_type": "code",
   "execution_count": null,
   "metadata": {},
   "outputs": [],
   "source": [
    "num = [67, 73]\n",
    "init = 0\n",
    "color = ['red', 'blue']\n",
    "for ii in pot_list:\n",
    "    init = 0\n",
    "    for jj, j_num in enumerate(num):\n",
    "        print(ii,jj)\n",
    "        actions(ii, j_num, init, color[jj])\n",
    "        init +=1\n",
    "    plt.show()"
   ]
  },
  {
   "cell_type": "code",
   "execution_count": null,
   "metadata": {
    "collapsed": true
   },
   "outputs": [],
   "source": [
    "#### action time evolution\n",
    "startnr = 67\n",
    "endnr = 128\n",
    "for snap_number in range(startnr, endnr, 1):\n",
    "    s, sf = eat_snap_and_fof(level, halo_number, snap_number, snappath, loadonlytype=[4], \n",
    "        haloid=0, galradfac=0.1, verbose=False) \n",
    "\n",
    "    # Clean negative and zero values of gmet to avoid RuntimeErrors\n",
    "    # later on (e.g. dividing by zero)\n",
    "    s.data['gmet'] = np.maximum( s1.data['gmet'], 1e-40 ) \n",
    "\n",
    "    snap_time = s.cosmology_get_lookback_time_from_a( s.time, is_flat=True )"
   ]
  },
  {
   "cell_type": "code",
   "execution_count": null,
   "metadata": {
    "collapsed": true
   },
   "outputs": [],
   "source": []
  }
 ],
 "metadata": {
  "kernelspec": {
   "display_name": "Python 3",
   "language": "python",
   "name": "python3"
  },
  "language_info": {
   "codemirror_mode": {
    "name": "ipython",
    "version": 3
   },
   "file_extension": ".py",
   "mimetype": "text/x-python",
   "name": "python",
   "nbconvert_exporter": "python",
   "pygments_lexer": "ipython3",
   "version": "3.6.3"
  }
 },
 "nbformat": 4,
 "nbformat_minor": 2
}
