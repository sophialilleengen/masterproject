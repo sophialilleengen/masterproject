{
 "cells": [
  {
   "cell_type": "markdown",
   "metadata": {},
   "source": [
    "Maximum likelihood & Posterior distribution\n",
    "===\n",
    "\n",
    "\n",
    "Data: $\\vec{x}$, $\\vec{v}$\n",
    "\n",
    "Model: $\\Phi$, $\\vec{\\mu}_J$, $\\vec{\\Sigma}_J$\n",
    "\n",
    "Likelihood: $P\\left(\\mathrm{data} \\mid \\mathrm{model}\\right)$ = $P\\left(\\vec{x}, \\vec{v} \\mid \\Phi, \\vec{\\mu}_J, \\vec{\\Sigma}_J\\right)$ = $\\mathcal{N}\\left(J\\left(\\vec{x}, \\vec{v}, \\Phi \\right); \\vec{\\mu}_J, \\vec{\\Sigma}_J\\right)$\n",
    "\n",
    "Free parameters:\n",
    "--\n",
    "Potential:\n",
    "- Halo : a_NFWH, n_NFWH\n",
    "- Disk : a_MND, b_MND, n_MND\n",
    "- Bulge: a_HB, n_HB\n",
    "- galpy: _REFV0_kms\n",
    "\n",
    "= 8 free but put prioris on them (or keep a_MND, b_MND and a_HB fixed)\n",
    "\n",
    "Distribution:\n",
    "- $\\vec{\\mu} = \\left(\\mu_{J_R}, \\mu_{J_z}, \\mu_{L_z}\\right)$ = 3 free\n",
    "- $\\vec{\\Sigma}_J$ = symetric covariance matrix: 6 free\n",
    "\n",
    "\n",
    "To do:\n",
    "---\n",
    "1. calculate maximum likelihood (e.g. use differential evolution for that)\n",
    "2. calculate posterior distribution on model parameters (Bayes & emcee)\n",
    "\n",
    "Bayes:\n",
    "--\n",
    "$P\\left(A\\mid B\\right) = P\\left(A\\cap B\\right)\\div P\\left(B\\right)$\n",
    "\n",
    "$P\\left(B\\mid A\\right) = P\\left(B\\cap A\\right)\\div P\\left(A\\right)$\n",
    "\n",
    "\n",
    "$P\\left(A\\cap B\\right) = P\\left(B\\cap A\\right)\\Rightarrow P\\left(A\\mid B\\right) = \\frac{P\\left(B\\mid A\\right)P\\left(A\\right)}{P\\left(B\\right)} = \\frac{P\\left(B\\mid A\\right)P\\left(A\\right)}{\\int{P\\left(B\\mid A\\right)P\\left(A\\right)\\mathrm{d}modelparams}} $\n",
    "\n",
    "Posterior = Likelihood $\\cdot$ Prior / Normalization\n",
    "\n",
    "Priors:\n",
    "--\n",
    "$n_{NFWH} + n_{MND} + n_{HB} = 1$\n",
    "\n",
    "$\\mu_{J_R} \\geq0$\n",
    "\n",
    "$\\mu_{J_z} \\geq0$\n",
    "\n",
    "set a prior to minimize spread:\n",
    "$P\\left(\\mathrm{det}\\left(\\Sigma\\right)\\right) = \\frac{1}{\\mathrm{det}\\left(\\Sigma\\right)}$\n",
    "\n",
    "if not strong enough try with $P\\left(\\mathrm{det}\\left(\\Sigma\\right)\\right) = \\frac{1}{\\mathrm{det}\\left(\\Sigma\\right)^2}$\n"
   ]
  },
  {
   "cell_type": "code",
   "execution_count": null,
   "metadata": {
    "collapsed": true
   },
   "outputs": [],
   "source": []
  }
 ],
 "metadata": {
  "kernelspec": {
   "display_name": "Python 3",
   "language": "python",
   "name": "python3"
  },
  "language_info": {
   "codemirror_mode": {
    "name": "ipython",
    "version": 3
   },
   "file_extension": ".py",
   "mimetype": "text/x-python",
   "name": "python",
   "nbconvert_exporter": "python",
   "pygments_lexer": "ipython3",
   "version": "3.6.3"
  }
 },
 "nbformat": 4,
 "nbformat_minor": 2
}
