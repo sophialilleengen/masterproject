{
 "cells": [
  {
   "cell_type": "code",
   "execution_count": 1,
   "metadata": {},
   "outputs": [
    {
     "data": {
      "text/html": [
       "<style>.container { width:100% !important; }</style>"
      ],
      "text/plain": [
       "<IPython.core.display.HTML object>"
      ]
     },
     "metadata": {},
     "output_type": "display_data"
    }
   ],
   "source": [
    "import sys\n",
    "sys.path.append(\"..\")\n",
    "\n",
    "from galpy.potential import evaluatePotentials, MiyamotoNagaiPotential, NFWPotential, HernquistPotential\n",
    "\n",
    "import numpy as np\n",
    "from scipy import stats\n",
    "from IPython.display import Image, display\n",
    "\n",
    "import corner\n",
    "\n",
    "import datetime\n",
    "import random\n",
    "\n",
    "import copy\n",
    "\n",
    "from areposnap.gadget import gadget_readsnap\n",
    "from areposnap.gadget_subfind import load_subfind\n",
    "\n",
    "from auriga_basics import *\n",
    "\n",
    "import matplotlib.pyplot as plt\n",
    "from matplotlib.colors import LogNorm\n",
    "from matplotlib import rcParams\n",
    "\n",
    "import datetime\n",
    "%matplotlib inline\n",
    "\n",
    "rcParams['font.size'] = 16\n",
    "rcParams['lines.linewidth'] = 1.5\n",
    "rcParams['axes.linewidth'] = 1.5\n",
    "rcParams['ytick.major.width'] = 1.5\n",
    "rcParams['xtick.major.width'] = 1.5\n",
    "rcParams['image.cmap'] = 'magma'\n",
    "rcParams['savefig.bbox'] = 'tight'\n",
    "rcParams['savefig.dpi'] = 300\n",
    "rcParams['savefig.format'] = 'png'\n",
    "\n",
    "cmap = copy.copy(plt.cm.get_cmap(rcParams['image.cmap']))\n",
    "cmap.set_bad((0,0,0))\n",
    "%config InlineBackend.figure_format = 'retina'\n",
    "\n",
    "\n",
    "from IPython.core.display import display, HTML\n",
    "display(HTML(\"<style>.container { width:100% !important; }</style>\"))"
   ]
  },
  {
   "cell_type": "code",
   "execution_count": 2,
   "metadata": {
    "collapsed": true
   },
   "outputs": [],
   "source": [
    "machine = 'mac'\n",
    "#machine = 'magny'\n",
    "machine = 'virgo'\n",
    "\n",
    "if machine == 'magny':\n",
    "    basedir = \"/hits/universe/GigaGalaxy/level4_MHD/\"\n",
    "    filedir = \"/home/extmilan/masterthesis/files/\"\n",
    "    plotdir = \"/home/extmilan/masterthesis/plots/\"\n",
    "elif machine == 'mac': \n",
    "    basedir = \"/Users/smilanov/Desktop/Auriga/level4/\"\n",
    "    filedir = \"/Users/smilanov/Documents/masterthesis/auriga_files/files/\"\n",
    "    plotdir = \"/Users/smilanov/Documents/masterthesis/auriga_files/plots/\"\n",
    "elif machine == 'virgo': \n",
    "    basedir = \"/virgo/simulations/Auriga/level4_MHD/\"\n",
    "    filedir = \"/u/milas/masterthesis/masterproject/files/\"\n",
    "    plotdir = \"/u/milas/masterthesis/masterproject/plots/\"\n",
    "   "
   ]
  },
  {
   "cell_type": "code",
   "execution_count": null,
   "metadata": {
    "collapsed": true
   },
   "outputs": [],
   "source": [
    "age = np.loadtxt(filedir + 'auriga/survivor_overview_all_snapshots.txt',usecols = 1, skiprows=2)\n",
    "\n",
    "savedata = np.array([IDs_saved, angmom_arr_kpckms, e_au_km2s2, e_galpy_km2s2])\n",
    "IDs_saved, angmom_arr_kpckms, e_au_km2s2, e_galpy_km2s2 = np.savetxt(filedir + 'potential/progenitor{}/energy_angmom_dec18_snap_{}.txt'.format(prognr, snapnr), savedata, header = header) \n"
   ]
  }
 ],
 "metadata": {
  "kernelspec": {
   "display_name": "Python 3",
   "language": "python",
   "name": "python3"
  },
  "language_info": {
   "codemirror_mode": {
    "name": "ipython",
    "version": 3
   },
   "file_extension": ".py",
   "mimetype": "text/x-python",
   "name": "python",
   "nbconvert_exporter": "python",
   "pygments_lexer": "ipython3",
   "version": "3.6.1"
  }
 },
 "nbformat": 4,
 "nbformat_minor": 2
}
