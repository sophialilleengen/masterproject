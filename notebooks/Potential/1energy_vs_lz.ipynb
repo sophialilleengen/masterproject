{
 "cells": [
  {
   "cell_type": "code",
   "execution_count": 37,
   "metadata": {},
   "outputs": [
    {
     "data": {
      "text/html": [
       "<style>.container { width:100% !important; }</style>"
      ],
      "text/plain": [
       "<IPython.core.display.HTML object>"
      ]
     },
     "metadata": {},
     "output_type": "display_data"
    }
   ],
   "source": [
    "import sys\n",
    "sys.path.append(\"..\")\n",
    "\n",
    "from galpy.potential import evaluatePotentials, MiyamotoNagaiPotential, NFWPotential, HernquistPotential\n",
    "\n",
    "import numpy as np\n",
    "from scipy import stats\n",
    "from IPython.display import Image, display\n",
    "\n",
    "import corner\n",
    "\n",
    "import datetime\n",
    "import random\n",
    "\n",
    "import copy\n",
    "\n",
    "from areposnap.gadget import gadget_readsnap\n",
    "from areposnap.gadget_subfind import load_subfind\n",
    "\n",
    "from auriga_basics import *\n",
    "\n",
    "import matplotlib.pyplot as plt\n",
    "from matplotlib.colors import LogNorm\n",
    "from matplotlib import rcParams\n",
    "\n",
    "import datetime\n",
    "%matplotlib inline\n",
    "\n",
    "rcParams['font.size'] = 16\n",
    "rcParams['lines.linewidth'] = 1.5\n",
    "rcParams['axes.linewidth'] = 1.5\n",
    "rcParams['ytick.major.width'] = 1.5\n",
    "rcParams['xtick.major.width'] = 1.5\n",
    "rcParams['image.cmap'] = 'magma'\n",
    "rcParams['savefig.bbox'] = 'tight'\n",
    "rcParams['savefig.dpi'] = 300\n",
    "rcParams['savefig.format'] = 'png'\n",
    "\n",
    "cmap = copy.copy(plt.cm.get_cmap(rcParams['image.cmap']))\n",
    "cmap.set_bad((0,0,0))\n",
    "%config InlineBackend.figure_format = 'retina'\n",
    "\n",
    "\n",
    "from IPython.core.display import display, HTML\n",
    "display(HTML(\"<style>.container { width:100% !important; }</style>\"))"
   ]
  },
  {
   "cell_type": "code",
   "execution_count": 2,
   "metadata": {
    "collapsed": true
   },
   "outputs": [],
   "source": [
    "machine = 'mac'\n",
    "#machine = 'magny'\n",
    "machine = 'virgo'\n",
    "\n",
    "if machine == 'magny':\n",
    "    basedir = \"/hits/universe/GigaGalaxy/level4_MHD/\"\n",
    "    filedir = \"/home/extmilan/masterthesis/files/\"\n",
    "    plotdir = \"/home/extmilan/masterthesis/plots/\"\n",
    "elif machine == 'mac': \n",
    "    basedir = \"/Users/smilanov/Desktop/Auriga/level4/\"\n",
    "    filedir = \"/Users/smilanov/Documents/masterthesis/auriga_files/files/\"\n",
    "    plotdir = \"/Users/smilanov/Documents/masterthesis/auriga_files/plots/\"\n",
    "elif machine == 'virgo': \n",
    "    basedir = \"/virgo/simulations/Auriga/level4_MHD/\"\n",
    "    filedir = \"/u/milas/masterthesis/masterproject/files/\"\n",
    "    plotdir = \"/u/milas/masterthesis/masterproject/plots/\"\n",
    "   "
   ]
  },
  {
   "cell_type": "code",
   "execution_count": 77,
   "metadata": {},
   "outputs": [],
   "source": [
    "def energy(v, R = None, z = None, pot_au = None, pot_galpy = None, evaluate_galpy_pot = True, use_auriga_pot = False, R0_kpc = 8., v0_kms = 220.):\n",
    "    if use_auriga_pot == True:\n",
    "        pot = pot_au\n",
    "        if len(pot) != np.shape(v)[1]:\n",
    "            print('Input for potential and for velocities has different length. Please check')\n",
    "            print(len(pot), np.shape(v))\n",
    "    elif evaluate_galpy_pot == True:\n",
    "        if isinstance(R, np.ndarray):\n",
    "            pot = np.array([evaluatePotentials(pot_galpy, R[ii]/R0_kpc, z[ii]/R0_kpc) for ii in range(len(R))])* v0_kms**2\n",
    "        else:\n",
    "            print('Potential should be evaluated but R does not seem to be an aray. Please check.')\n",
    "            print(R)\n",
    "    else: print('Please specify potential.')\n",
    "        \n",
    "    term1 = 0.5 * np.sum(v**2, axis =0)    \n",
    "    term2 = pot\n",
    "    e = term1 + term2\n",
    "    return(e)\n",
    "\n",
    "def angmom(R, vT):\n",
    "    lz = R * vT\n",
    "    return(lz)"
   ]
  },
  {
   "cell_type": "code",
   "execution_count": 64,
   "metadata": {
    "collapsed": true
   },
   "outputs": [],
   "source": [
    "def setup_galpy_potential(a_MND_kpc, b_MND_kpc, a_NFWH_kpc, a_HB_kpc, n_MND, n_NFWH, n_HB, _REFR0_kpc):\n",
    "    \n",
    "    #test input:\n",
    "    if (a_MND_kpc <= 0.) or (b_MND_kpc <= 0.) or (a_NFWH_kpc <= 0.) or (a_HB_kpc <= 0.) \\\n",
    "       or (n_MND <= 0.) or (n_NFWH <= 0.) or (n_HB <= 0.) or (n_MND >= 1.) or (n_NFWH >= 1.) or (n_HB >= 1.):\n",
    "        raise ValueError('Error in setup_galpy_potential: '+\\\n",
    "                         'The input parameters for the scaling profiles do not correspond to a physical potential.')\n",
    "    if np.fabs(n_MND + n_NFWH + n_HB - 1.) > 2e-2:\n",
    "        raise ValueError('Error in setup_galpy_potential: '+\\\n",
    "                         'The sum of the normalization does not add up to 1.')\n",
    "        \n",
    "    #trafo to galpy units:\n",
    "    a_MND  = a_MND_kpc  / _REFR0_kpc\n",
    "    b_MND  = b_MND_kpc  / _REFR0_kpc\n",
    "    a_NFWH = a_NFWH_kpc / _REFR0_kpc\n",
    "    a_HB   = a_HB_kpc   / _REFR0_kpc\n",
    "    \n",
    "    #setup potential:\n",
    "    disk = MiyamotoNagaiPotential(\n",
    "                a = a_MND,\n",
    "                b = b_MND,\n",
    "                normalize = n_MND)\n",
    "    halo = NFWPotential(\n",
    "                a = a_NFWH,\n",
    "                normalize = n_NFWH)\n",
    "    bulge = HernquistPotential(\n",
    "                a = a_HB,\n",
    "                normalize = n_HB) \n",
    "     \n",
    "    return [disk,halo,bulge]"
   ]
  },
  {
   "cell_type": "code",
   "execution_count": 65,
   "metadata": {
    "collapsed": true
   },
   "outputs": [],
   "source": [
    "# load potential parameters\n",
    "R0_kpc_all, v0_kms_all, a_MND_kpc_all, b_MND_kpc_all, a_NFWH_kpc_all, a_HB_kpc_all, v0_MND_kms_all, v0_NFWH_kms_all, v0_HB_kms_all = np.loadtxt(filedir + 'potential/fitted_potential_params_dec18.txt')\n",
    "\n",
    "n_MND_all  = v0_MND_kms_all**2  / v0_kms_all**2\n",
    "n_NFWH_all = v0_NFWH_kms_all**2 / v0_kms_all**2\n",
    "n_HB_all   = v0_HB_kms_all**2   / v0_kms_all**2"
   ]
  },
  {
   "cell_type": "code",
   "execution_count": 97,
   "metadata": {
    "scrolled": false
   },
   "outputs": [
    {
     "name": "stdout",
     "output_type": "stream",
     "text": [
      "Snapindex: 50\n",
      "level    : 4\n",
      "halo     : 24\n",
      "snapnr   : 110\n",
      "basedir  : /virgo/simulations/Auriga/level4_MHD/\n",
      "halodir  : /virgo/simulations/Auriga/level4_MHD/halo_24/\n",
      "snappath : /virgo/simulations/Auriga/level4_MHD/halo_24/output/\n",
      "\n",
      "Found 1596516 stars.\n",
      "Rotated pos.\n",
      "Rotated vel.\n",
      "\n",
      "galrad  : 0.022285720705986025\n",
      "redshift: 0.22598838626019768\n",
      "time    : 0.8156684118765909\n",
      "center  : [ 0.  0.  0.]\n",
      "\n",
      "Number of GCs: 6046.\n",
      "Sum of normalizations after fitting potential parameters: 0.9958463354656286.\n",
      "Galpy energy: -86386.958775 12968.420443\n",
      "Auriga energy: -89060.6872862 10770.2773819\n"
     ]
    },
    {
     "ename": "TypeError",
     "evalue": "'numpy.ndarray' object is not callable",
     "output_type": "error",
     "traceback": [
      "\u001b[0;31m---------------------------------------------------------------------------\u001b[0m",
      "\u001b[0;31mTypeError\u001b[0m                                 Traceback (most recent call last)",
      "\u001b[0;32m<ipython-input-97-a9a64d39ff18>\u001b[0m in \u001b[0;36m<module>\u001b[0;34m()\u001b[0m\n\u001b[1;32m     59\u001b[0m             \u001b[0mprint\u001b[0m\u001b[0;34m(\u001b[0m\u001b[0;34m'Auriga energy:'\u001b[0m\u001b[0;34m,\u001b[0m\u001b[0mnp\u001b[0m\u001b[0;34m.\u001b[0m\u001b[0mmean\u001b[0m\u001b[0;34m(\u001b[0m\u001b[0me_au_km2s2\u001b[0m\u001b[0;34m)\u001b[0m\u001b[0;34m,\u001b[0m \u001b[0mnp\u001b[0m\u001b[0;34m.\u001b[0m\u001b[0mstd\u001b[0m\u001b[0;34m(\u001b[0m\u001b[0me_au_km2s2\u001b[0m\u001b[0;34m)\u001b[0m\u001b[0;34m)\u001b[0m\u001b[0;34m\u001b[0m\u001b[0m\n\u001b[1;32m     60\u001b[0m \u001b[0;34m\u001b[0m\u001b[0m\n\u001b[0;32m---> 61\u001b[0;31m             \u001b[0mIDs_saved\u001b[0m \u001b[0;34m=\u001b[0m \u001b[0ms\u001b[0m\u001b[0;34m.\u001b[0m\u001b[0mid\u001b[0m\u001b[0;34m(\u001b[0m\u001b[0mgcmask\u001b[0m\u001b[0;34m)\u001b[0m\u001b[0;34m\u001b[0m\u001b[0m\n\u001b[0m\u001b[1;32m     62\u001b[0m             \u001b[0msavedata\u001b[0m \u001b[0;34m=\u001b[0m \u001b[0mnp\u001b[0m\u001b[0;34m.\u001b[0m\u001b[0marray\u001b[0m\u001b[0;34m(\u001b[0m\u001b[0;34m[\u001b[0m\u001b[0mIDs_saved\u001b[0m\u001b[0;34m,\u001b[0m \u001b[0mangmom_arr_kpckms\u001b[0m\u001b[0;34m,\u001b[0m \u001b[0me_au_km2s2\u001b[0m\u001b[0;34m,\u001b[0m \u001b[0me_galpy_km2s2\u001b[0m\u001b[0;34m]\u001b[0m\u001b[0;34m)\u001b[0m\u001b[0;34m\u001b[0m\u001b[0m\n\u001b[1;32m     63\u001b[0m             \u001b[0mheader\u001b[0m \u001b[0;34m=\u001b[0m \u001b[0;34m'IDs, angmom_arr_kpckms, e_au_km2s2, e_galpy_km2s2'\u001b[0m\u001b[0;34m\u001b[0m\u001b[0m\n",
      "\u001b[0;31mTypeError\u001b[0m: 'numpy.ndarray' object is not callable"
     ]
    }
   ],
   "source": [
    "level = 4\n",
    "\n",
    "startnr = 110\n",
    "endnr   = 128\n",
    "\n",
    "colors = ['black', 'black', 'xkcd:hot pink', 'xkcd:indigo blue', 'xkcd:saffron']\n",
    "\n",
    "IDs_all      = []\n",
    "angmom_all   = []\n",
    "e_galpy_all  = []\n",
    "e_auriga_all = []\n",
    "for prognr in [2]: #2, 3, 4\n",
    "    IDs = np.loadtxt(filedir + 'auriga/surviving_GC_zsignchange_IDs_prog{}.txt'.format(prognr))\n",
    "    progcolor = colors[prognr]\n",
    "    \n",
    "    for halo_number in [24]:  # range(1, 31):\n",
    "        halodir = basedir+\"halo_{0}/\".format(halo_number)\n",
    "        snappath = halodir+\"output/\"\n",
    "\n",
    "        for snapnr in range(startnr,endnr, 1):\n",
    "            i = snapnr - 60\n",
    "            print('Snapindex: {0}'.format(i))\n",
    "            print(\"level    : {0}\".format(level))\n",
    "            print(\"halo     : {0}\".format(halo_number))\n",
    "            print(\"snapnr   : {0}\".format(snapnr))\n",
    "            print(\"basedir  : {0}\".format(basedir))\n",
    "            print(\"halodir  : {0}\".format(halodir))\n",
    "            print(\"snappath : {0}\\n\".format(snappath))\n",
    "            s, sf = eat_snap_and_fof(level, halo_number, snapnr, snappath, loadonlytype=[4], \n",
    "                haloid=0, galradfac=0.1, verbose=True) \n",
    "\n",
    "            # Clean negative and zero values of gmet to avoid RuntimeErrors\n",
    "            # later on (e.g. dividing by zero)\n",
    "            s.data['gmet'] = np.maximum( s.data['gmet'], 1e-40 )\n",
    "\n",
    "            gcmask = np.isin(s.id, IDs)\n",
    "            print('Number of GCs: {}.'.format(np.sum(gcmask)))\n",
    "\n",
    "            (R_kpc, phi_rad, z_kpc), (vR_kms, vT_kms, vz_kms) = get_cylindrical_vectors(s, sf, gcmask)\n",
    "            pot_au = s.pot[gcmask]\n",
    "\n",
    "            print('Sum of normalizations after fitting potential parameters: {}.'.format(np.sum([n_MND[i], n_NFWH[i], n_HB[i]])))\n",
    "        \n",
    "\n",
    "            pot_galpy = setup_galpy_potential(a_MND_kpc_all[i], b_MND_kpc_all[i], a_NFWH_kpc_all[i], a_HB_kpc_all[i], n_MND[i], n_NFWH[i], n_HB[i], R0_kpc_all[i])\n",
    "\n",
    "            # this would mean that there are no merged GCs\n",
    "            if np.sum(gcmask) == 0:\n",
    "                print(\"Skipped snap {} since there are no merged GCs.\".format(snapnr))\n",
    "                #continue\n",
    "                \n",
    "            vel_arr_kms = np.array([vR_kms, vT_kms, vz_kms])\n",
    "            \n",
    "            angmom_arr_kpckms = angmom(R_kpc, vT_kms)\n",
    "\n",
    "            e_galpy_km2s2 = energy(vel_arr_kms, R_kpc, z_kpc, pot_galpy = pot_galpy, R0_kpc = R0_kpc_all[i], v0_kms = v0_kms_all[i])\n",
    "            e_au_km2s2 = energy(vel_arr_kms, pot_au = pot_au, use_auriga_pot=True, evaluate_galpy_pot=False)\n",
    "            print('Galpy energy:',np.mean(e_galpy_km2s2), np.std(e_galpy_km2s2))\n",
    "            print('Auriga energy:',np.mean(e_au_km2s2), np.std(e_au_km2s2))\n",
    "            \n",
    "            IDs_saved = s.id[gcmask]\n",
    "            savedata = np.array([IDs_saved, angmom_arr_kpckms, e_au_km2s2, e_galpy_km2s2])\n",
    "            header = 'IDs, angmom_arr_kpckms, e_au_km2s2, e_galpy_km2s2'\n",
    "            np.savetxt(filedir + 'potential/progenitor{}/energy_angmom_dec18.txt', savedata, header = header) \n",
    "            \n",
    "            fig, ax = plt.subplots()\n",
    "            h = ax.hist2d(angmom_arr_kpckms, e_galpy_km2s2, norm = LogNorm(), cmap = cmap, range=[[np.min(angmom_arr_kpckms), np.max(angmom_arr_kpckms)], [-140000, -60000]], bins = 101)\n",
    "            ax.set_xlabel('L$_\\mathrm{z}$ [kpc km s$^{-1}$]')\n",
    "            ax.set_ylabel('E [km $^2$ s$^{-2}$]')\n",
    "            plt.colorbar(h[3])\n",
    "            plt.show()     \n",
    "            \n",
    "            fig, ax = plt.subplots()\n",
    "            h = ax.hist2d(angmom_arr_kpckms, e_au_km2s2,norm = LogNorm(), cmap = cmap, range=[[np.min(angmom_arr_kpckms), np.max(angmom_arr_kpckms)], [-140000, -60000]], bins = 101)\n",
    "            ax.set_xlabel('L$_\\mathrm{z}$ [kpc km s$^{-1}$]')\n",
    "            ax.set_ylabel('E [km $^2$ s$^{-2}$]')\n",
    "            plt.colorbar(h[3])\n",
    "            plt.show()"
   ]
  },
  {
   "cell_type": "code",
   "execution_count": 95,
   "metadata": {},
   "outputs": [
    {
     "ename": "TypeError",
     "evalue": "Mismatch between array dtype ('float64') and format specifier ('%.18e %.18e %.18e %.18e %.18e %.18e %.18e %.18e %.18e %.18e %.18e %.18e %.18e %.18e %.18e %.18e %.18e %.18e')",
     "output_type": "error",
     "traceback": [
      "\u001b[0;31m---------------------------------------------------------------------------\u001b[0m",
      "\u001b[0;31mTypeError\u001b[0m                                 Traceback (most recent call last)",
      "\u001b[0;32m/u/milas/conda-envs/auriga/lib/python3.6/site-packages/numpy/lib/npyio.py\u001b[0m in \u001b[0;36msavetxt\u001b[0;34m(fname, X, fmt, delimiter, newline, header, footer, comments)\u001b[0m\n\u001b[1;32m   1253\u001b[0m                 \u001b[0;32mtry\u001b[0m\u001b[0;34m:\u001b[0m\u001b[0;34m\u001b[0m\u001b[0m\n\u001b[0;32m-> 1254\u001b[0;31m                     \u001b[0mfh\u001b[0m\u001b[0;34m.\u001b[0m\u001b[0mwrite\u001b[0m\u001b[0;34m(\u001b[0m\u001b[0masbytes\u001b[0m\u001b[0;34m(\u001b[0m\u001b[0mformat\u001b[0m \u001b[0;34m%\u001b[0m \u001b[0mtuple\u001b[0m\u001b[0;34m(\u001b[0m\u001b[0mrow\u001b[0m\u001b[0;34m)\u001b[0m \u001b[0;34m+\u001b[0m \u001b[0mnewline\u001b[0m\u001b[0;34m)\u001b[0m\u001b[0;34m)\u001b[0m\u001b[0;34m\u001b[0m\u001b[0m\n\u001b[0m\u001b[1;32m   1255\u001b[0m                 \u001b[0;32mexcept\u001b[0m \u001b[0mTypeError\u001b[0m\u001b[0;34m:\u001b[0m\u001b[0;34m\u001b[0m\u001b[0m\n",
      "\u001b[0;31mTypeError\u001b[0m: only length-1 arrays can be converted to Python scalars",
      "\nDuring handling of the above exception, another exception occurred:\n",
      "\u001b[0;31mTypeError\u001b[0m                                 Traceback (most recent call last)",
      "\u001b[0;32m<ipython-input-95-5da8cedeaa7f>\u001b[0m in \u001b[0;36m<module>\u001b[0;34m()\u001b[0m\n\u001b[1;32m      1\u001b[0m \u001b[0msavedata\u001b[0m \u001b[0;34m=\u001b[0m \u001b[0mnp\u001b[0m\u001b[0;34m.\u001b[0m\u001b[0marray\u001b[0m\u001b[0;34m(\u001b[0m\u001b[0;34m[\u001b[0m\u001b[0mIDs_all\u001b[0m\u001b[0;34m,\u001b[0m \u001b[0mangmom_all\u001b[0m\u001b[0;34m,\u001b[0m \u001b[0me_auriga_all\u001b[0m\u001b[0;34m,\u001b[0m \u001b[0me_galpy_all\u001b[0m\u001b[0;34m]\u001b[0m\u001b[0;34m)\u001b[0m\u001b[0;34m\u001b[0m\u001b[0m\n\u001b[0;32m----> 2\u001b[0;31m \u001b[0mnp\u001b[0m\u001b[0;34m.\u001b[0m\u001b[0msavetxt\u001b[0m\u001b[0;34m(\u001b[0m\u001b[0mfiledir\u001b[0m \u001b[0;34m+\u001b[0m \u001b[0;34m'potential/energy_angmom_dec18.txt'\u001b[0m\u001b[0;34m,\u001b[0m \u001b[0msavedata\u001b[0m\u001b[0;34m)\u001b[0m\u001b[0;34m\u001b[0m\u001b[0m\n\u001b[0m",
      "\u001b[0;32m/u/milas/conda-envs/auriga/lib/python3.6/site-packages/numpy/lib/npyio.py\u001b[0m in \u001b[0;36msavetxt\u001b[0;34m(fname, X, fmt, delimiter, newline, header, footer, comments)\u001b[0m\n\u001b[1;32m   1256\u001b[0m                     raise TypeError(\"Mismatch between array dtype ('%s') and \"\n\u001b[1;32m   1257\u001b[0m                                     \u001b[0;34m\"format specifier ('%s')\"\u001b[0m\u001b[0;34m\u001b[0m\u001b[0m\n\u001b[0;32m-> 1258\u001b[0;31m                                     % (str(X.dtype), format))\n\u001b[0m\u001b[1;32m   1259\u001b[0m         \u001b[0;32mif\u001b[0m \u001b[0mlen\u001b[0m\u001b[0;34m(\u001b[0m\u001b[0mfooter\u001b[0m\u001b[0;34m)\u001b[0m \u001b[0;34m>\u001b[0m \u001b[0;36m0\u001b[0m\u001b[0;34m:\u001b[0m\u001b[0;34m\u001b[0m\u001b[0m\n\u001b[1;32m   1260\u001b[0m             \u001b[0mfooter\u001b[0m \u001b[0;34m=\u001b[0m \u001b[0mfooter\u001b[0m\u001b[0;34m.\u001b[0m\u001b[0mreplace\u001b[0m\u001b[0;34m(\u001b[0m\u001b[0;34m'\\n'\u001b[0m\u001b[0;34m,\u001b[0m \u001b[0;34m'\\n'\u001b[0m \u001b[0;34m+\u001b[0m \u001b[0mcomments\u001b[0m\u001b[0;34m)\u001b[0m\u001b[0;34m\u001b[0m\u001b[0m\n",
      "\u001b[0;31mTypeError\u001b[0m: Mismatch between array dtype ('float64') and format specifier ('%.18e %.18e %.18e %.18e %.18e %.18e %.18e %.18e %.18e %.18e %.18e %.18e %.18e %.18e %.18e %.18e %.18e %.18e')"
     ]
    }
   ],
   "source": [
    "savedata = np.array([IDs_all, angmom_all, e_auriga_all, e_galpy_all])\n",
    "np.savetxt(filedir + 'potential/progenitor{}/energy_angmom_dec18.txt', savedata) "
   ]
  },
  {
   "cell_type": "code",
   "execution_count": 91,
   "metadata": {},
   "outputs": [
    {
     "data": {
      "text/plain": [
       "(18, 6046)"
      ]
     },
     "execution_count": 91,
     "metadata": {},
     "output_type": "execute_result"
    }
   ],
   "source": [
    "np.shape(IDs_all)"
   ]
  },
  {
   "cell_type": "code",
   "execution_count": 94,
   "metadata": {},
   "outputs": [
    {
     "data": {
      "text/plain": [
       "(18, 6046)"
      ]
     },
     "execution_count": 94,
     "metadata": {},
     "output_type": "execute_result"
    }
   ],
   "source": [
    "np.shape(e_galpy_all)"
   ]
  },
  {
   "cell_type": "code",
   "execution_count": null,
   "metadata": {
    "collapsed": true
   },
   "outputs": [],
   "source": []
  }
 ],
 "metadata": {
  "kernelspec": {
   "display_name": "Python 3",
   "language": "python",
   "name": "python3"
  },
  "language_info": {
   "codemirror_mode": {
    "name": "ipython",
    "version": 3
   },
   "file_extension": ".py",
   "mimetype": "text/x-python",
   "name": "python",
   "nbconvert_exporter": "python",
   "pygments_lexer": "ipython3",
   "version": "3.6.1"
  }
 },
 "nbformat": 4,
 "nbformat_minor": 2
}
