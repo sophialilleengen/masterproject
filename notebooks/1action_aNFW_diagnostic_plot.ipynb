{
 "cells": [
  {
   "cell_type": "code",
   "execution_count": 1,
   "metadata": {},
   "outputs": [
    {
     "name": "stdout",
     "output_type": "stream",
     "text": [
      "galpyWarning: A major change in versions > 1.1 is that all galpy.potential functions and methods take the potential as the first argument; previously methods such as evaluatePotentials, evaluateDensities, etc. would be called with (R,z,Pot), now they are called as (Pot,R,z) for greater consistency across the codebase\n",
      "galpyWarning: actionAngleAdiabatic_c extension module not loaded, because of error '/home/extmilan/anaconda3/lib/python3.6/site-packages/galpy-1.3.dev0-py3.6-linux-x86_64.egg/galpy_actionAngle_c.cpython-36m-x86_64-linux-gnu.so: undefined symbol: gsl_integration_glfixed_table_alloc' \n",
      "galpyWarning: actionAngleStaeckel_c extension module not loaded, because of error '/home/extmilan/anaconda3/lib/python3.6/site-packages/galpy-1.3.dev0-py3.6-linux-x86_64.egg/galpy_actionAngle_c.cpython-36m-x86_64-linux-gnu.so: undefined symbol: gsl_integration_glfixed_table_alloc' \n",
      "galpyWarning: actionAngleTorus_c extension module not loaded, because galpy_actionAngleTorus_c.cpython-36m-x86_64-linux-gnu.so image was not found\n"
     ]
    }
   ],
   "source": [
    "from galpy.potential import MiyamotoNagaiPotential, NFWPotential, HernquistPotential\n",
    "from galpy.actionAngle import estimateDeltaStaeckel, actionAngleStaeckel\n",
    "from galpy.actionAngle import UnboundError\n",
    "\n",
    "from areposnap.gadget import gadget_readsnap\n",
    "from areposnap.gadget_subfind import load_subfind\n",
    "\n",
    "from auriga_basics import *\n",
    "from auriga_functions import *\n",
    "\n",
    "import numpy as np\n",
    "from scipy import stats\n",
    "from IPython.display import Image, display\n",
    "\n",
    "import corner\n",
    "\n",
    "import datetime\n",
    "import random\n",
    "\n",
    "import copy\n",
    "\n",
    "from mpl_toolkits.axes_grid1 import make_axes_locatable\n",
    "import matplotlib.pyplot as plt\n",
    "import matplotlib\n",
    "from matplotlib.patches import Circle\n",
    "from matplotlib import animation\n",
    "from matplotlib.colors import LogNorm\n",
    "\n",
    "\n",
    "import datetime\n",
    "\n",
    "cmap = copy.copy(plt.cm.inferno)\n",
    "cmap.set_bad((0,0,0))\n",
    "\n",
    "%matplotlib inline"
   ]
  },
  {
   "cell_type": "code",
   "execution_count": 2,
   "metadata": {},
   "outputs": [
    {
     "name": "stdout",
     "output_type": "stream",
     "text": [
      "level   : 4\n",
      "halo    : 24\n",
      "snapnr  : 127\n",
      "basedir : /hits/universe/GigaGalaxy/level4_MHD/\n",
      "halodir : /hits/universe/GigaGalaxy/level4_MHD/halo_24/\n",
      "snappath: /hits/universe/GigaGalaxy/level4_MHD/halo_24/output/\n",
      "\n",
      "[ 34.42281723  33.16259384  37.29567337]\n",
      "Found 1783163 stars.\n",
      "Rotated pos.\n",
      "Rotated vel.\n",
      "\n",
      "galrad  : 0.02408556640148163\n",
      "redshift: 2.220446049250313e-16\n",
      "time    : 0.9999999999999998\n",
      "center  : [ 0.  0.  0.]\n",
      "\n"
     ]
    }
   ],
   "source": [
    "# Simulation relevant stuff\n",
    "machine = 'mac'\n",
    "machine = 'magny'\n",
    "\n",
    "if machine == 'magny':\n",
    "    filedir = \"/home/extmilan/masterthesis/files/\"\n",
    "    basedir = \"/hits/universe/GigaGalaxy/level4_MHD/\"\n",
    "    plotdir = \"/home/extmilan/masterthesis/plots/\"\n",
    "elif machine == 'mac':\n",
    "    filedir = \"/Users/smilanov/Documents/masterthesis/auriga_files/files/\"\n",
    "    basedir = \"/Users/smilanov/Desktop/Auriga/level4/\"\n",
    "    plotdir = \"/Users/smilanov/Documents/masterthesis/auriga_files/plots/\"\n",
    "else:\n",
    "    raise NotADirectoryError\n",
    "    \n",
    "#### path = /hits/universe/GigaGalaxy/level4_MHD/halo_24/output/*\n",
    "level = 4\n",
    "\n",
    "for halo_number in [24]:  # range(1, 31):\n",
    "    halodir = basedir+\"halo_{0}/\".format(halo_number)\n",
    "    snappath = halodir+\"output/\"\n",
    "\n",
    "    for snapnr in range(127,128,1):\n",
    "        print(\"level   : {0}\".format(level))\n",
    "        print(\"halo    : {0}\".format(halo_number))\n",
    "        print(\"snapnr  : {0}\".format(snapnr))\n",
    "        print(\"basedir : {0}\".format(basedir))\n",
    "        print(\"halodir : {0}\".format(halodir))\n",
    "        print(\"snappath: {0}\\n\".format(snappath))\n",
    "        s, sf = eat_snap_and_fof(level, halo_number, snapnr, snappath, loadonlytype=[4], \n",
    "            haloid=0, galradfac=0.1, verbose=True) \n",
    "\n",
    "        # Clean negative and zero values of gmet to avoid RuntimeErrors\n",
    "        # later on (e.g. dividing by zero)\n",
    "        s.data['gmet'] = np.maximum( s.data['gmet'], 1e-40 )\n",
    "        "
   ]
  },
  {
   "cell_type": "code",
   "execution_count": 3,
   "metadata": {
    "collapsed": true
   },
   "outputs": [],
   "source": [
    "\"\"\"\n",
    "Snapshot =  127\n",
    "v0_tot_kms at R0_kpc = 8.02852213383 : 220.724646624\n",
    "Stellar Disk - a_MND_kpc = 2.96507719743 b_MND_kpc = 1.63627757204 v0_MND_kms = 105.005287928\n",
    "Stellar Spheroid - a_HB_kp c= 1.71545528287 v0_HB_kms = 111.241910552\n",
    "DM Halo - a_NFWH_kpc = 26.0152749345 v0_NFWH_kms = 159.117869741\n",
    "\"\"\"\n",
    "\n",
    "fix_v0_kms      = 220.724646624\n",
    "fix_R0_kpc      = 8.02852213383\n",
    "fix_a_MND_kpc   = 2.96507719743\n",
    "fix_b_MND_kpc   = 1.63627757204\n",
    "fix_v0_MND_kms  = 105.005287928\n",
    "fix_a_HB_kpc    = 1.71545528287\n",
    "fix_v0_HB_kms   = 111.241910552\n",
    "fix_v0_NFWH_kms = 159.117869741\n",
    "init_a_NFWH_kpc = 26.0152749345\n",
    "\n",
    "fix_n_MND       = fix_v0_MND_kms**2  / fix_v0_kms**2\n",
    "fix_n_HB        = fix_v0_HB_kms**2   / fix_v0_kms**2\n",
    "fix_n_NFWH      = fix_v0_NFWH_kms**2 / fix_v0_kms**2\n",
    "\n",
    "#_____function that sets-up galpy potential_____\n",
    "def setup_galpy_potential(a_MND_kpc, b_MND_kpc, a_NFWH_kpc, a_HB_kpc, n_MND, n_NFWH, n_HB, _REFR0_kpc):\n",
    "    \n",
    "    #test input:\n",
    "    if (a_MND_kpc <= 0.) or (b_MND_kpc <= 0.) or (a_NFWH_kpc <= 0.) or (a_HB_kpc <= 0.) \\\n",
    "       or (n_MND <= 0.) or (n_NFWH <= 0.) or (n_HB <= 0.) or (n_MND >= 1.) or (n_NFWH >= 1.) or (n_HB >= 1.):\n",
    "        raise ValueError('Error in setup_galpy_potential: '+\\\n",
    "                         'The input parameters for the scaling profiles do not correspond to a physical potential.')\n",
    "    if np.fabs(n_MND + n_NFWH + n_HB - 1.) > 1e-7:\n",
    "        raise ValueError('Error in setup_galpy_potential: '+\\\n",
    "                         'The sum of the normalization does not add up to 1.')\n",
    "        \n",
    "    #trafo to galpy units:\n",
    "    a_MND  = a_MND_kpc  / _REFR0_kpc\n",
    "    b_MND  = b_MND_kpc  / _REFR0_kpc\n",
    "    a_NFWH = a_NFWH_kpc / _REFR0_kpc\n",
    "    a_HB   = a_HB_kpc   / _REFR0_kpc\n",
    "    \n",
    "    #setup potential:\n",
    "    disk = MiyamotoNagaiPotential(\n",
    "                a = a_MND,\n",
    "                b = b_MND,\n",
    "                normalize = n_MND)\n",
    "    halo = NFWPotential(\n",
    "                a = a_NFWH,\n",
    "                normalize = n_NFWH)\n",
    "    bulge = HernquistPotential(\n",
    "                a = a_HB,\n",
    "                normalize = n_HB) \n",
    "     \n",
    "    return [disk,halo,bulge]\n",
    "\n",
    "\n",
    "#for a in range(50):\n",
    "    "
   ]
  },
  {
   "cell_type": "code",
   "execution_count": 4,
   "metadata": {
    "collapsed": true
   },
   "outputs": [],
   "source": [
    "# load GC IDs & create their mask\n",
    "IDs = np.loadtxt(filedir + 'surviving_ids_snapshot_73_sh_1.txt')\n",
    "gcmask = np.isin(s.id, IDs)\n"
   ]
  },
  {
   "cell_type": "code",
   "execution_count": 38,
   "metadata": {},
   "outputs": [
    {
     "name": "stdout",
     "output_type": "stream",
     "text": [
      "14:51:26.513531\n",
      "0\n",
      "14:52:12.599995\n",
      "1000\n",
      "14:52:58.660314\n",
      "2000\n",
      "14:53:44.729954\n",
      "3000\n",
      "14:54:30.861739\n",
      "4000\n",
      "14:55:16.965173\n",
      "5000\n",
      "14:56:03.037627\n",
      "6000\n",
      "14:56:49.146826\n",
      "7000\n",
      "14:57:35.326197\n",
      "8000\n",
      "14:58:21.470122\n",
      "9000\n",
      "numbers of GCs wo actions: 0\n"
     ]
    }
   ],
   "source": [
    "### for \"true\" a_NFWH\n",
    "# set up galpy potential with values of potential fitting (either smoothed or not, depends on commenting out or not)\n",
    "pot_galpy = setup_galpy_potential(fix_a_MND_kpc, fix_b_MND_kpc, init_a_NFWH_kpc, fix_a_HB_kpc, fix_n_MND, fix_n_NFWH, fix_n_HB, fix_R0_kpc)\n",
    "\n",
    "# this would mean that there are no merged GCs\n",
    "if np.sum(gcmask) == 0:\n",
    "    print(\"skipped this step\")\n",
    "    #continue\n",
    "\n",
    "# get position and velocities of all selected GCs & convert to galpy units\n",
    "(R_kpc, phi_rad, z_kpc), (vR_kms, vphi_kms, vz_kms) = get_cylindrical_vectors(s, sf, gcmask)\n",
    "# convert physical to galpy units by dividing by REF vals (get velocities from best fit parameters)\n",
    "R_galpy, vR_galpy, vT_galpy, z_galpy, vz_galpy = R_kpc / fix_R0_kpc, vR_kms / fix_v0_kms, vphi_kms / fix_v0_kms, z_kpc / fix_R0_kpc, vz_kms / fix_v0_kms\n",
    "\n",
    "# estimate Delta of the Staeckel potential\n",
    "delta = 0.45\n",
    "delta = estimateDeltaStaeckel(pot_galpy, R_galpy, z_galpy)\n",
    "# CHECK HOW BIG INFLUENCE OF DELTA IS\n",
    "\n",
    "\n",
    "# set up the actionAngleStaeckel object\n",
    "aAS = actionAngleStaeckel(\n",
    "        pot   = pot_galpy,  # potential\n",
    "        delta = delta,      # focal length of confocal coordinate system\n",
    "        c     = True        # use C code (for speed)\n",
    "        )\n",
    "\n",
    "\n",
    "jR_galpy, lz_galpy, jz_galpy, r_kpc = np.zeros(len(IDs)), np.zeros(len(IDs)), np.zeros(len(IDs)), np.zeros(len(IDs))\n",
    "savedIDs = np.zeros(len(IDs))\n",
    "IDs_notworking = []\n",
    "for test_i, item in enumerate(IDs):\n",
    "    if (test_i % 1000) == 0:\n",
    "        print(datetime.datetime.now().time())\n",
    "        print(test_i)\n",
    "    try: \n",
    "        jR_galpy[test_i], lz_galpy[test_i], jz_galpy[test_i] = aAS(R_galpy[test_i], vR_galpy[test_i], vT_galpy[test_i], z_galpy[test_i], vz_galpy[test_i])\n",
    "        r_kpc[test_i] = np.sqrt(R_kpc[test_i]**2 + z_kpc[test_i]**2)\n",
    "        savedIDs[test_i] = item\n",
    "    except(ValueError, UnboundError):\n",
    "        IDs_notworking.append(item)\n",
    "        continue\n",
    "print('numbers of GCs wo actions:', len(IDs_notworking))\n",
    "jR_kpckms, lz_kpckms, jz_kpckms = jR_galpy * fix_R0_kpc * fix_v0_kms, lz_galpy * fix_R0_kpc * fix_v0_kms, jz_galpy * fix_R0_kpc * fix_v0_kms\n",
    "\n",
    "# just pick result values of particles of which I actually could calculate actions\n",
    "survivor_id_mask = np.isin(IDs, savedIDs)\n",
    "jR_kpckms, lz_kpckms, jz_kpckms = jR_kpckms[survivor_id_mask], lz_kpckms[survivor_id_mask], jz_kpckms[survivor_id_mask]\n",
    "r_kpc = r_kpc[survivor_id_mask]\n",
    "survivor_IDs = IDs[survivor_id_mask]\n",
    "init_jR_kpckms = jR_kpckms\n",
    "init_jz_kpckms = jz_kpckms"
   ]
  },
  {
   "cell_type": "code",
   "execution_count": 6,
   "metadata": {
    "scrolled": false
   },
   "outputs": [],
   "source": [
    "init_mean_jR_kpckms = np.mean(jR_kpckms)\n",
    "init_std_jR_kpckms  = np.std(jR_kpckms)\n",
    "init_skew_jR_kpckms = stats.skew(jR_kpckms)\n",
    "init_mean_jz_kpckms = np.mean(jz_kpckms)\n",
    "init_std_jz_kpckms  = np.std(jz_kpckms)\n",
    "init_skew_jz_kpckms = stats.skew(jz_kpckms)\n",
    "init_cov_jR_jz = np.cov(jR_kpckms, jz_kpckms)"
   ]
  },
  {
   "cell_type": "code",
   "execution_count": 9,
   "metadata": {},
   "outputs": [],
   "source": [
    "covs = []\n"
   ]
  },
  {
   "cell_type": "code",
   "execution_count": null,
   "metadata": {
    "scrolled": true
   },
   "outputs": [
    {
     "name": "stdout",
     "output_type": "stream",
     "text": [
      "10\n",
      "10:27:48.085803\n",
      "0\n",
      "10:28:34.031510\n",
      "1000\n",
      "10:29:19.993190\n",
      "2000\n",
      "10:30:05.560462\n",
      "3000\n",
      "10:30:51.543714\n",
      "4000\n",
      "10:31:37.507321\n",
      "5000\n",
      "10:32:23.133181\n",
      "6000\n",
      "10:33:09.000488\n",
      "7000\n",
      "10:33:54.925328\n",
      "8000\n",
      "10:34:40.679889\n",
      "9000\n",
      "numbers of GCs wo actions: 4\n",
      "11\n",
      "10:35:25.178950\n",
      "0\n",
      "10:36:11.169671\n",
      "1000\n",
      "10:36:56.965011\n",
      "2000\n",
      "10:37:42.934401\n",
      "3000\n",
      "10:38:28.673055\n",
      "4000\n",
      "10:39:14.722946\n",
      "5000\n",
      "10:40:00.467782\n",
      "6000\n",
      "10:40:46.472531\n",
      "7000\n",
      "10:41:32.241407\n",
      "8000\n",
      "10:42:18.332570\n",
      "9000\n",
      "numbers of GCs wo actions: 1\n",
      "12\n",
      "10:43:02.845748\n",
      "0\n",
      "10:43:48.741121\n",
      "1000\n",
      "10:44:35.229909\n",
      "2000\n",
      "10:45:21.706130\n",
      "3000\n",
      "10:46:07.954223\n",
      "4000\n",
      "10:46:54.149829\n",
      "5000\n",
      "10:47:40.454020\n",
      "6000\n",
      "10:48:26.428022\n",
      "7000\n",
      "10:49:12.592123\n",
      "8000\n",
      "10:49:58.852787\n",
      "9000\n",
      "numbers of GCs wo actions: 0\n",
      "13\n",
      "10:50:43.740036\n",
      "0\n",
      "10:51:30.055116\n",
      "1000\n",
      "10:52:16.181928\n",
      "2000\n",
      "10:53:02.480626\n",
      "3000\n",
      "10:53:48.580655\n",
      "4000\n",
      "10:54:34.778132\n",
      "5000\n",
      "10:55:20.882838\n",
      "6000\n",
      "10:56:07.181000\n",
      "7000\n",
      "10:56:53.174335\n",
      "8000\n",
      "10:57:39.503739\n",
      "9000\n",
      "numbers of GCs wo actions: 0\n",
      "14\n",
      "10:58:24.216168\n",
      "0\n",
      "10:59:10.374036\n",
      "1000\n",
      "10:59:56.422058\n",
      "2000\n",
      "11:00:42.398009\n",
      "3000\n",
      "11:01:28.594455\n",
      "4000\n",
      "11:02:14.552525\n",
      "5000\n",
      "11:03:00.538025\n",
      "6000\n",
      "11:03:46.613136\n",
      "7000\n",
      "11:04:32.590651\n",
      "8000\n",
      "11:05:18.681528\n",
      "9000\n",
      "numbers of GCs wo actions: 0\n",
      "15\n",
      "11:06:03.475367\n",
      "0\n",
      "11:06:49.697376\n",
      "1000\n",
      "11:07:36.124254\n",
      "2000\n",
      "11:08:22.278538\n",
      "3000\n",
      "11:09:08.701629\n",
      "4000\n",
      "11:09:54.868598\n",
      "5000\n",
      "11:10:41.127175\n",
      "6000\n",
      "11:11:27.158738\n",
      "7000\n",
      "11:12:13.646684\n",
      "8000\n",
      "11:12:59.903289\n",
      "9000\n",
      "numbers of GCs wo actions: 0\n",
      "16\n",
      "11:13:44.805614\n",
      "0\n",
      "11:14:30.387974\n",
      "1000\n",
      "11:15:16.262654\n",
      "2000\n",
      "11:16:02.219661\n",
      "3000\n",
      "11:16:47.808368\n",
      "4000\n",
      "11:17:33.570897\n",
      "5000\n",
      "11:18:19.389305\n",
      "6000\n",
      "11:19:04.880596\n",
      "7000\n",
      "11:19:50.754106\n",
      "8000\n",
      "11:20:36.694338\n",
      "9000\n",
      "numbers of GCs wo actions: 0\n",
      "17\n",
      "11:21:20.994399\n",
      "0\n",
      "11:22:07.014590\n",
      "1000\n",
      "11:22:52.783074\n",
      "2000\n",
      "11:23:38.539276\n",
      "3000\n",
      "11:24:24.570492\n",
      "4000\n",
      "11:25:10.260808\n",
      "5000\n",
      "11:25:56.004245\n",
      "6000\n",
      "11:26:42.030573\n",
      "7000\n",
      "11:27:27.723605\n",
      "8000\n",
      "11:28:13.472945\n",
      "9000\n",
      "numbers of GCs wo actions: 0\n",
      "18\n",
      "11:28:58.154941\n",
      "0\n",
      "12:11:00.225668\n",
      "5000\n",
      "12:11:46.159585\n",
      "6000\n",
      "12:12:32.133008\n",
      "7000\n",
      "12:13:18.054681\n",
      "8000\n",
      "12:14:03.876039\n",
      "9000\n",
      "numbers of GCs wo actions: 0\n",
      "24\n",
      "12:14:48.426328\n",
      "0\n",
      "12:15:34.272364\n",
      "1000\n",
      "12:16:20.468217\n",
      "2000\n",
      "12:17:06.227762\n",
      "3000\n",
      "12:17:52.319896\n",
      "4000\n",
      "12:18:38.190997\n",
      "5000\n",
      "12:19:24.294192\n",
      "6000\n",
      "12:20:10.182782\n",
      "7000\n",
      "12:20:56.226504\n",
      "8000\n",
      "12:21:41.985212\n",
      "9000\n",
      "numbers of GCs wo actions: 0\n",
      "25\n",
      "12:22:26.733853\n",
      "0\n",
      "12:23:12.568981\n",
      "1000\n",
      "12:23:58.652045\n",
      "2000\n",
      "12:24:44.501237\n",
      "3000\n",
      "12:25:30.642837\n",
      "4000\n",
      "12:26:16.404979\n",
      "5000\n",
      "12:27:02.496328\n",
      "6000\n",
      "12:27:48.355473\n",
      "7000\n",
      "12:28:34.461393\n",
      "8000\n",
      "12:29:20.279383\n",
      "9000\n",
      "numbers of GCs wo actions: 0\n",
      "26\n",
      "12:30:05.041731\n",
      "0\n",
      "12:30:50.938751\n",
      "1000\n",
      "12:31:36.936822\n",
      "2000\n",
      "12:32:22.854094\n",
      "3000\n",
      "12:33:08.727737\n",
      "4000\n",
      "12:33:54.822445\n",
      "5000\n",
      "12:34:40.701169\n",
      "6000\n",
      "12:35:26.477856\n",
      "7000\n",
      "12:36:12.498316\n",
      "8000\n",
      "12:36:58.373709\n",
      "9000\n",
      "numbers of GCs wo actions: 0\n",
      "27\n",
      "12:37:42.901929\n",
      "0\n",
      "12:38:28.702154\n",
      "1000\n",
      "12:39:14.273459\n",
      "2000\n",
      "12:39:59.985601\n",
      "3000\n",
      "12:40:46.081503\n",
      "4000\n",
      "12:41:31.816649\n",
      "5000\n",
      "12:42:17.856634\n",
      "6000\n",
      "12:43:03.745992\n",
      "7000\n",
      "12:43:49.378750\n",
      "8000\n",
      "12:44:35.498291\n",
      "9000\n",
      "numbers of GCs wo actions: 0\n",
      "28\n",
      "12:45:20.258695\n",
      "0\n",
      "12:46:06.336994\n",
      "1000\n",
      "12:46:52.445727\n",
      "2000\n",
      "12:47:38.457093\n",
      "3000\n",
      "12:48:24.406541\n",
      "4000\n",
      "12:49:10.347807\n",
      "5000\n",
      "12:49:56.525041\n",
      "6000\n",
      "12:50:42.646389\n",
      "7000\n",
      "12:51:28.668649\n",
      "8000\n",
      "12:52:14.906535\n",
      "9000\n",
      "numbers of GCs wo actions: 0\n",
      "29\n",
      "12:52:59.704709\n",
      "0\n",
      "12:53:45.806976\n",
      "1000\n",
      "12:54:31.761192\n",
      "2000\n",
      "12:55:17.683282\n",
      "3000\n",
      "12:56:03.852669\n",
      "4000\n",
      "12:56:49.881760\n",
      "5000\n",
      "12:57:35.708353\n",
      "6000\n",
      "12:58:21.513480\n",
      "7000\n",
      "12:59:07.213397\n",
      "8000\n",
      "12:59:53.045416\n",
      "9000\n",
      "numbers of GCs wo actions: 0\n",
      "30\n",
      "13:00:37.562932\n",
      "0\n",
      "13:01:23.429265\n",
      "1000\n",
      "13:02:09.356651\n",
      "2000\n",
      "13:02:55.285618\n",
      "3000\n",
      "13:03:41.006601\n",
      "4000\n",
      "13:04:26.785297\n",
      "5000\n",
      "13:05:12.641640\n",
      "6000\n",
      "13:05:58.389668\n",
      "7000\n",
      "13:06:44.171421\n",
      "8000\n",
      "13:07:30.121563\n",
      "9000\n",
      "numbers of GCs wo actions: 0\n",
      "31\n",
      "13:08:14.639717\n",
      "0\n",
      "13:09:00.481162\n",
      "1000\n",
      "13:09:46.281296\n",
      "2000\n",
      "13:10:32.139916\n",
      "3000\n",
      "13:11:17.961331\n",
      "4000\n",
      "13:12:03.845528\n",
      "5000\n",
      "13:12:49.581695\n",
      "6000\n",
      "13:13:35.513857\n",
      "7000\n",
      "13:14:21.295972\n",
      "8000\n",
      "13:15:07.179009\n",
      "9000\n",
      "numbers of GCs wo actions: 0\n",
      "32\n",
      "13:15:51.651678\n",
      "0\n",
      "13:16:37.547924\n",
      "1000\n",
      "13:17:23.420277\n",
      "2000\n",
      "13:18:09.229941\n",
      "3000\n",
      "13:18:55.142441\n",
      "4000\n",
      "13:19:40.936499\n",
      "5000\n",
      "13:20:26.736731\n",
      "6000\n",
      "13:21:12.661498\n",
      "7000\n",
      "13:21:58.490735\n",
      "8000\n",
      "13:22:44.359419\n",
      "9000\n",
      "numbers of GCs wo actions: 0\n",
      "33\n",
      "13:23:28.954157\n",
      "0\n",
      "13:24:14.638091\n",
      "1000\n",
      "13:25:00.513161\n",
      "2000\n",
      "13:25:46.395746\n",
      "3000\n",
      "13:26:32.180831\n",
      "4000\n",
      "13:27:18.000455\n",
      "5000\n",
      "13:28:03.775271\n",
      "6000\n",
      "13:28:49.521676\n",
      "7000\n",
      "13:29:35.322862\n",
      "8000\n",
      "13:30:21.194283\n",
      "9000\n",
      "numbers of GCs wo actions: 0\n",
      "34\n",
      "13:31:05.751090\n",
      "0\n",
      "13:31:51.666181\n",
      "1000\n",
      "13:32:37.433231\n",
      "2000\n",
      "13:33:23.228289\n",
      "3000\n",
      "13:34:09.068094\n",
      "4000\n",
      "13:34:54.828868\n",
      "5000\n",
      "13:35:40.648632\n",
      "6000\n",
      "13:36:26.571908\n",
      "7000\n",
      "13:37:12.382580\n",
      "8000\n",
      "13:37:58.209760\n",
      "9000\n",
      "numbers of GCs wo actions: 0\n",
      "35\n",
      "13:38:42.788846\n",
      "0\n",
      "13:39:28.568826\n",
      "1000\n",
      "13:40:14.408453\n",
      "2000\n",
      "13:41:00.187354\n",
      "3000\n",
      "13:41:45.936703\n",
      "4000\n",
      "13:42:31.727762\n",
      "5000\n",
      "13:43:17.542034\n",
      "6000\n",
      "13:44:03.251523\n",
      "7000\n",
      "13:44:49.012543\n",
      "8000\n",
      "13:45:34.860677\n",
      "9000\n",
      "numbers of GCs wo actions: 0\n",
      "36\n",
      "13:46:19.357876\n",
      "0\n",
      "13:47:05.190758\n",
      "1000\n",
      "13:47:50.966826\n",
      "2000\n",
      "13:48:36.750085\n",
      "3000\n",
      "13:49:22.500521\n",
      "4000\n",
      "13:50:08.229367\n",
      "5000\n",
      "13:50:53.911008\n",
      "6000\n",
      "13:51:39.735994\n",
      "7000\n",
      "13:52:25.483264\n",
      "8000\n",
      "13:53:11.345469\n",
      "9000\n",
      "numbers of GCs wo actions: 0\n",
      "37\n",
      "13:53:55.875977\n",
      "0\n",
      "13:54:41.768320\n",
      "1000\n",
      "13:55:27.561925\n",
      "2000\n",
      "13:56:13.460787\n",
      "3000\n",
      "13:56:59.269922\n",
      "4000\n",
      "13:57:45.181559\n",
      "5000\n",
      "13:58:31.024143\n",
      "6000\n",
      "13:59:16.937745\n",
      "7000\n",
      "14:00:02.806088\n",
      "8000\n",
      "14:00:48.811008\n",
      "9000\n",
      "numbers of GCs wo actions: 0\n",
      "38\n",
      "14:01:33.349298\n",
      "0\n",
      "14:02:19.260397\n",
      "1000\n",
      "14:03:05.249706\n",
      "2000\n",
      "14:03:51.214238\n",
      "3000\n",
      "14:04:37.190367\n",
      "4000\n",
      "14:05:23.111914\n",
      "5000\n",
      "14:06:09.034938\n",
      "6000\n",
      "14:06:55.021994\n",
      "7000\n",
      "14:07:41.017900\n",
      "8000\n",
      "14:08:27.127480\n",
      "9000\n",
      "numbers of GCs wo actions: 0\n",
      "39\n",
      "14:09:11.903743\n",
      "0\n",
      "14:09:57.811927\n",
      "1000\n",
      "14:10:43.715745\n",
      "2000\n",
      "14:11:29.541198\n",
      "3000\n",
      "14:12:15.491542\n",
      "4000\n",
      "14:13:01.296163\n",
      "5000\n",
      "14:13:47.295685\n",
      "6000\n",
      "14:14:33.250534\n",
      "7000\n",
      "14:15:19.231646\n",
      "8000\n",
      "14:16:05.126832\n",
      "9000\n",
      "numbers of GCs wo actions: 0\n",
      "40\n",
      "14:16:49.747953\n",
      "0\n",
      "14:17:35.701838\n",
      "1000\n",
      "14:18:21.616487\n",
      "2000\n",
      "14:19:07.453175\n",
      "3000\n",
      "14:19:53.470745\n",
      "4000\n",
      "14:20:39.545115\n",
      "5000\n",
      "14:21:25.470558\n",
      "6000\n",
      "14:22:11.403285\n",
      "7000\n",
      "14:22:57.405120\n",
      "8000\n",
      "14:23:43.429353\n",
      "9000\n",
      "numbers of GCs wo actions: 0\n"
     ]
    }
   ],
   "source": [
    "### for \"false\" a_NFWH\n",
    "#N = 50\n",
    "\n",
    "a_NFWH_arr = np.arange(10,41,1)\n",
    "mean_jR_kpckms = []\n",
    "std_jR_kpckms  = []\n",
    "skew_jR_kpckms = []\n",
    "mean_jz_kpckms = []\n",
    "std_jz_kpckms  = []\n",
    "skew_jz_kpckms = []\n",
    "covs_jR_jz = []\n",
    "for var_a_NFW_kpc in a_NFWH_arr:\n",
    "    print(var_a_NFW_kpc)\n",
    "    # set up galpy potential with values of potential fitting (either smoothed or not, depends on commenting out or not)\n",
    "    try:\n",
    "        pot_galpy = setup_galpy_potential(fix_a_MND_kpc, fix_b_MND_kpc, var_a_NFW_kpc, fix_a_HB_kpc, fix_n_MND, fix_n_NFWH, fix_n_HB, fix_R0_kpc)\n",
    "    except:\n",
    "        mean_jR_kpckms.append(-99.)\n",
    "        std_jR_kpckms.append(-99.)\n",
    "        mean_lz_kpckms.append(-99.)\n",
    "        std_lz_kpckms.append(-99.)\n",
    "        mean_jz_kpckms.append(-99.)\n",
    "        std_jz_kpckms.append(-99.)\n",
    "        print('For a_NFW = {:d} no potential can be set up.'.format(var_a_NFW_kpc) )\n",
    "        continue\n",
    "    # this would mean that there are no merged GCs\n",
    "    if np.sum(gcmask) == 0:\n",
    "        print(\"skipped this step\")\n",
    "        #continue\n",
    "\n",
    "    # get position and velocities of all selected GCs & convert to galpy units\n",
    "    (R_kpc, phi_rad, z_kpc), (vR_kms, vphi_kms, vz_kms) = get_cylindrical_vectors(s, sf, gcmask)\n",
    "    # convert physical to galpy units by dividing by REF vals (get velocities from best fit parameters)\n",
    "    R_galpy, vR_galpy, vT_galpy, z_galpy, vz_galpy = R_kpc / fix_R0_kpc, vR_kms / fix_v0_kms, vphi_kms / fix_v0_kms, z_kpc / fix_R0_kpc, vz_kms / fix_v0_kms\n",
    "\n",
    "    # estimate Delta of the Staeckel potential\n",
    "    delta = 0.45\n",
    "    delta = estimateDeltaStaeckel(pot_galpy, R_galpy, z_galpy)\n",
    "    # CHECK HOW BIG INFLUENCE OF DELTA IS\n",
    "\n",
    "\n",
    "    # set up the actionAngleStaeckel object\n",
    "    aAS = actionAngleStaeckel(\n",
    "            pot   = pot_galpy,  # potential\n",
    "            delta = delta,      # focal length of confocal coordinate system\n",
    "            c     = True        # use C code (for speed)\n",
    "            )\n",
    "\n",
    "\n",
    "    jR_galpy, lz_galpy, jz_galpy, r_kpc = np.zeros(len(IDs)), np.zeros(len(IDs)), np.zeros(len(IDs)), np.zeros(len(IDs))\n",
    "    savedIDs = np.zeros(len(IDs))\n",
    "    IDs_notworking = []\n",
    "    try:\n",
    "        print(datetime.datetime.now().time())\n",
    "        jR_galpy, lz_galpy, jz_galpy = aAS(R_galpy, vR_galpy, vT_galpy, z_galpy, vz_galpy)\n",
    "        r_kpc = np.sqrt(R_kpc**2 + z_kpc**2)\n",
    "        saveIDs = IDs\n",
    "    except:\n",
    "        for test_i, item in enumerate(IDs):\n",
    "            if (test_i % 1000) == 0:\n",
    "                print(datetime.datetime.now().time())\n",
    "                print(test_i)\n",
    "            try: \n",
    "                jR_galpy[test_i], lz_galpy[test_i], jz_galpy[test_i] = aAS(R_galpy[test_i], vR_galpy[test_i], vT_galpy[test_i], z_galpy[test_i], vz_galpy[test_i])\n",
    "                r_kpc[test_i] = np.sqrt(R_kpc[test_i]**2 + z_kpc[test_i]**2)\n",
    "                savedIDs[test_i] = item\n",
    "            except(ValueError, UnboundError):\n",
    "                IDs_notworking.append(item)\n",
    "                continue\n",
    "        print('numbers of GCs wo actions:', len(IDs_notworking))\n",
    "    jR_kpckms, lz_kpckms, jz_kpckms = jR_galpy * fix_R0_kpc * fix_v0_kms, lz_galpy * fix_R0_kpc * fix_v0_kms, jz_galpy * fix_R0_kpc * fix_v0_kms\n",
    "\n",
    "    # just pick result values of particles of which I actually could calculate actions\n",
    "    survivor_id_mask = np.isin(IDs, savedIDs)\n",
    "    jR_kpckms, lz_kpckms, jz_kpckms = jR_kpckms[survivor_id_mask], lz_kpckms[survivor_id_mask], jz_kpckms[survivor_id_mask]\n",
    "    r_kpc = r_kpc[survivor_id_mask]\n",
    "    survivor_IDs = IDs[survivor_id_mask]\n",
    "\n",
    "    mean_jR_kpckms.append(np.mean(jR_kpckms))\n",
    "    std_jR_kpckms.append(np.std(jR_kpckms))\n",
    "    skew_jR_kpckms.append(stats.skew(jR_kpckms))\n",
    "    mean_jz_kpckms.append(np.mean(jz_kpckms))\n",
    "    std_jz_kpckms.append(np.std(jz_kpckms))\n",
    "    skew_jz_kpckms.append(stats.skew(jz_kpckms))\n",
    "    cov_jR_jz = np.cov(jR_kpckms, jz_kpckms)\n",
    "    covs_jR_jz.append(cov_jR_jz)"
   ]
  },
  {
   "cell_type": "code",
   "execution_count": null,
   "metadata": {},
   "outputs": [],
   "source": []
  },
  {
   "cell_type": "code",
   "execution_count": 52,
   "metadata": {
    "scrolled": false
   },
   "outputs": [
    {
     "data": {
      "image/png": "[encoded data removed]",
      "text/plain": [
       "<matplotlib.figure.Figure at 0x2aab79bfe780>"
      ]
     },
     "metadata": {},
     "output_type": "display_data"
    }
   ],
   "source": [
    "# goal plot\n",
    "fig, (ax1, ax2) = plt.subplots(2, 1, sharex=True, figsize = (15,10))\n",
    "\n",
    "ax1.plot(a_NFWH_arr, np.array(skew_jR_kpckms), 'k.')\n",
    "ax1.plot(init_a_NFWH_kpc, init_skew_jR_kpckms, marker = '+', color = 'red')\n",
    "#ax1.xlabel('a$_{NFW}$')\n",
    "ax1.set_yscale(\"log\", nonposy='clip')\n",
    "#ax1.hlines(init_mean_jR_kpckms, 0, np.max(a_NFWH_arr)+1, color = 'red', alpha = 0.5)\n",
    "ax1.set_ylim(1, 10)\n",
    "\n",
    "ax1.set_ylabel('skewness of j$_R$', size = 'x-large')\n",
    "#plt.show()\n",
    "\n",
    "\n",
    "ax2.plot(a_NFWH_arr, skew_jz_kpckms, 'k.')\n",
    "ax2.plot(init_a_NFWH_kpc, init_skew_jz_kpckms, marker = '+', color = 'red')\n",
    "#ax2.hlines(init_mean_jz_kpckms, 0, np.max(a_NFWH_arr)+1, color = 'red', alpha = 0.5)\n",
    "\n",
    "ax2.set_xlabel('a$_{NFW}$ [kpc]', size = 'x-large')\n",
    "#ax2.set_yscale(\"log\", nonposy='clip')\n",
    "ax2.set_ylim(1.615, 1.625)\n",
    "ax2.set_ylabel('skewness of j$_z$', size = 'x-large')\n",
    "#plt.show()\n",
    "\n",
    "fig.tight_layout()\n",
    "\n",
    "fig.savefig(plotdir + 'a_NFW_diagnostic_plot_skewness.png', dpi = 300, format = 'png')"
   ]
  },
  {
   "cell_type": "code",
   "execution_count": 26,
   "metadata": {},
   "outputs": [
    {
     "name": "stdout",
     "output_type": "stream",
     "text": [
      "1.61990586114 1.62064572427\n"
     ]
    }
   ],
   "source": [
    "print(np.min(skew_jz_kpckms), np.max(skew_jz_kpckms))"
   ]
  },
  {
   "cell_type": "code",
   "execution_count": 55,
   "metadata": {},
   "outputs": [
    {
     "data": {
      "image/png": "[encoded data removed]",
      "text/plain": [
       "<matplotlib.figure.Figure at 0x2aab990e76a0>"
      ]
     },
     "metadata": {},
     "output_type": "display_data"
    }
   ],
   "source": [
    "fig, (ax1, ax2) = plt.subplots(2, 1, sharex=True, figsize = (15,10))\n",
    "\n",
    "ax1.errorbar(a_NFWH_arr, np.array(mean_jR_kpckms), yerr = np.array(std_jR_kpckms), marker = '.', color = 'black')\n",
    "ax1.errorbar(init_a_NFWH_kpc, init_mean_jR_kpckms, init_std_jR_kpckms, marker = '+', color = 'red')\n",
    "#ax1.xlabel('a$_{NFW}$')\n",
    "ax1.set_yscale(\"log\", nonposy='clip')\n",
    "ax1.hlines(init_mean_jR_kpckms, 0, np.max(a_NFWH_arr)+1, color = 'red', alpha = 0.5)\n",
    "ax1.set_ylim(10, None)\n",
    "\n",
    "ax1.set_ylabel('mean j$_R$ [kpc/km/s]', size = 'x-large')\n",
    "#plt.show()\n",
    "\n",
    "\n",
    "ax2.errorbar(a_NFWH_arr, mean_jz_kpckms, yerr = std_jz_kpckms, marker = '.', color = 'black')\n",
    "ax2.errorbar(init_a_NFWH_kpc, init_mean_jz_kpckms, init_std_jz_kpckms, marker = '+', color = 'red')\n",
    "ax2.hlines(init_mean_jz_kpckms, 0, np.max(a_NFWH_arr)+1, color = 'red', alpha = 0.5)\n",
    "\n",
    "ax2.set_xlabel('a$_{NFW}$ [kpc]', size = 'x-large')\n",
    "#ax2.set_yscale(\"log\", nonposy='clip')\n",
    "ax2.set_ylim(0, None)\n",
    "ax2.set_ylabel('mean j$_z$ [kpc/km/s]', size = 'x-large')\n",
    "#plt.show()\n",
    "\n",
    "fig.tight_layout()\n",
    "\n",
    "fig.savefig(plotdir + 'a_NFW_diagnostic_plot_mean_std.png', dpi = 300, format = 'png')"
   ]
  },
  {
   "cell_type": "code",
   "execution_count": 21,
   "metadata": {
    "collapsed": true
   },
   "outputs": [
    {
     "data": {
      "text/plain": [
       "[array([[  1.16410066e+09,   1.05451944e+06],\n",
       "        [  1.05451944e+06,   3.47163495e+05]]),\n",
       " array([[ 31735717.45732604,    262917.68979572],\n",
       "        [   262917.68979572,    347178.23529179]]),\n",
       " array([[ 9488808.157849  ,   210502.39428181],\n",
       "        [  210502.39428181,   347157.87653292]]),\n",
       " array([[ 6420889.91936148,   204502.08657514],\n",
       "        [  204502.08657514,   347155.20428734]]),\n",
       " array([[ 5063613.18804655,   204583.56548807],\n",
       "        [  204583.56548807,   347151.94805796]]),\n",
       " array([[ 4365333.10090863,   207698.91020403],\n",
       "        [  207698.91020403,   347148.15112164]]),\n",
       " array([[ 3997201.05191958,   212553.01503229],\n",
       "        [  212553.01503229,   347145.05737579]]),\n",
       " array([[ 3816961.0477395 ,   218475.03474396],\n",
       "        [  218475.03474396,   347141.49792098]]),\n",
       " array([[ 3752700.30407628,   225074.00017409],\n",
       "        [  225074.00017409,   347138.30203403]]),\n",
       " array([[ 3764281.13684101,   232106.89640854],\n",
       "        [  232106.89640854,   347134.77109798]]),\n",
       " array([[ 3827655.40419353,   239413.41430327],\n",
       "        [  239413.41430327,   347131.37106159]]),\n",
       " array([[ 3927611.74274609,   246884.29107503],\n",
       "        [  246884.29107503,   347128.61743459]]),\n",
       " array([[ 4054102.67324058,   254444.58813999],\n",
       "        [  254444.58813999,   347125.26990837]]),\n",
       " array([[ 4200250.1194507 ,   262040.32262623],\n",
       "        [  262040.32262623,   347121.08133987]]),\n",
       " array([[ 4361200.8698395 ,   269630.17511714],\n",
       "        [  269630.17511714,   347118.45803482]]),\n",
       " array([[ 4533442.77225741,   277187.17055748],\n",
       "        [  277187.17055748,   347115.55594485]]),\n",
       " array([[ 4714375.16987432,   284689.97495534],\n",
       "        [  284689.97495534,   347112.7543769 ]]),\n",
       " array([[ 4902034.69460724,   292123.27841214],\n",
       "        [  292123.27841214,   347109.91587856]]),\n",
       " array([[ 5094913.29501652,   299476.31559436],\n",
       "        [  299476.31559436,   347106.4257838 ]]),\n",
       " array([[ 5291833.79336322,   306740.26744278],\n",
       "        [  306740.26744278,   347102.99432868]]),\n",
       " array([[ 5491865.75289275,   313909.92869554],\n",
       "        [  313909.92869554,   347098.87879825]]),\n",
       " array([[ 5694262.34364138,   320979.33810361],\n",
       "        [  320979.33810361,   347096.30924766]]),\n",
       " array([[ 5898421.35945283,   327947.7277939 ],\n",
       "        [  327947.7277939 ,   347093.08141411]]),\n",
       " array([[ 6103848.85816813,   334812.89693573],\n",
       "        [  334812.89693573,   347089.90218477]]),\n",
       " array([[ 6310137.31682203,   341573.58413704],\n",
       "        [  341573.58413704,   347087.36505281]]),\n",
       " array([[ 6516947.92838901,   348229.32980134],\n",
       "        [  348229.32980134,   347085.8905413 ]]),\n",
       " array([[ 6723999.58838036,   354782.88161573],\n",
       "        [  354782.88161573,   347082.6267683 ]]),\n",
       " array([[ 6931052.08310672,   361233.25855784],\n",
       "        [  361233.25855784,   347079.66696537]]),\n",
       " array([[ 7137903.27686412,   367581.49335667],\n",
       "        [  367581.49335667,   347077.05607115]]),\n",
       " array([[ 7344381.48618879,   373829.11872715],\n",
       "        [  373829.11872715,   347074.50376943]]),\n",
       " array([[ 7550340.30628613,   379977.98181168],\n",
       "        [  379977.98181168,   347071.53330288]])]"
      ]
     },
     "execution_count": 21,
     "metadata": {},
     "output_type": "execute_result"
    }
   ],
   "source": [
    "covs_jR_jz"
   ]
  },
  {
   "cell_type": "code",
   "execution_count": 37,
   "metadata": {
    "scrolled": false
   },
   "outputs": [
    {
     "data": {
      "image/png": "[encoded data removed]",
      "text/plain": [
       "<matplotlib.figure.Figure at 0x2aab71b96f28>"
      ]
     },
     "metadata": {},
     "output_type": "display_data"
    },
    {
     "data": {
      "image/png": "[encoded data removed]",
      "text/plain": [
       "<matplotlib.figure.Figure at 0x2aaaf5622da0>"
      ]
     },
     "metadata": {},
     "output_type": "display_data"
    },
    {
     "data": {
      "image/png": "[encoded data removed]",
      "text/plain": [
       "<matplotlib.figure.Figure at 0x2aaaf36869b0>"
      ]
     },
     "metadata": {},
     "output_type": "display_data"
    },
    {
     "data": {
      "image/png": "[encoded data removed]",
      "text/plain": [
       "<matplotlib.figure.Figure at 0x2aab995123c8>"
      ]
     },
     "metadata": {},
     "output_type": "display_data"
    },
    {
     "data": {
      "image/png": "[encoded data removed]",
      "text/plain": [
       "<matplotlib.figure.Figure at 0x2aab99063390>"
      ]
     },
     "metadata": {},
     "output_type": "display_data"
    },
    {
     "data": {
      "image/png": "[encoded data removed]",
      "text/plain": [
       "<matplotlib.figure.Figure at 0x2aab993893c8>"
      ]
     },
     "metadata": {},
     "output_type": "display_data"
    },
    {
     "data": {
      "image/png": "[encoded data removed]",
      "text/plain": [
       "<matplotlib.figure.Figure at 0x2aab9901e518>"
      ]
     },
     "metadata": {},
     "output_type": "display_data"
    },
    {
     "data": {
      "image/png": "[encoded data removed]",
      "text/plain": [
       "<matplotlib.figure.Figure at 0x2aab991585f8>"
      ]
     },
     "metadata": {},
     "output_type": "display_data"
    },
    {
     "data": {
      "image/png": "[encoded data removed]",
      "text/plain": [
       "<matplotlib.figure.Figure at 0x2aab768c5a58>"
      ]
     },
     "metadata": {},
     "output_type": "display_data"
    },
    {
     "data": {
      "image/png": "[encoded data removed]",
      "text/plain": [
       "<matplotlib.figure.Figure at 0x2aab76945470>"
      ]
     },
     "metadata": {},
     "output_type": "display_data"
    },
    {
     "data": {
      "image/png": "[encoded data removed]",
      "text/plain": [
       "<matplotlib.figure.Figure at 0x2aab9952cc18>"
      ]
     },
     "metadata": {},
     "output_type": "display_data"
    },
    {
     "data": {
      "image/png": "[encoded data removed]",
      "text/plain": [
       "<matplotlib.figure.Figure at 0x2aab714e1cf8>"
      ]
     },
     "metadata": {},
     "output_type": "display_data"
    },
    {
     "data": {
      "image/png": "[encoded data removed]",
      "text/plain": [
       "<matplotlib.figure.Figure at 0x2aab79c65f28>"
      ]
     },
     "metadata": {},
     "output_type": "display_data"
    },
    {
     "data": {
      "image/png": "[encoded data removed]",
      "text/plain": [
       "<matplotlib.figure.Figure at 0x2aab71aca9b0>"
      ]
     },
     "metadata": {},
     "output_type": "display_data"
    },
    {
     "data": {
      "image/png": "[encoded data removed]",
      "text/plain": [
       "<matplotlib.figure.Figure at 0x2aab99492438>"
      ]
     },
     "metadata": {},
     "output_type": "display_data"
    },
    {
     "data": {
      "image/png": "[encoded data removed]",
      "text/plain": [
       "<matplotlib.figure.Figure at 0x2aab768ff4e0>"
      ]
     },
     "metadata": {},
     "output_type": "display_data"
    },
    {
     "data": {
      "image/png": "[encoded data removed]",
      "text/plain": [
       "<matplotlib.figure.Figure at 0x2aab99180438>"
      ]
     },
     "metadata": {},
     "output_type": "display_data"
    },
    {
     "data": {
      "image/png": "[encoded data removed]",
      "text/plain": [
       "<matplotlib.figure.Figure at 0x2aab99314b38>"
      ]
     },
     "metadata": {},
     "output_type": "display_data"
    },
    {
     "data": {
      "image/png": "[encoded data removed]",
      "text/plain": [
       "<matplotlib.figure.Figure at 0x2aab9922cba8>"
      ]
     },
     "metadata": {},
     "output_type": "display_data"
    },
    {
     "data": {
      "image/png": "[encoded data removed]",
      "text/plain": [
       "<matplotlib.figure.Figure at 0x2aab71ac19b0>"
      ]
     },
     "metadata": {},
     "output_type": "display_data"
    },
    {
     "data": {
      "image/png": "[encoded data removed]",
      "text/plain": [
       "<matplotlib.figure.Figure at 0x2aab76893748>"
      ]
     },
     "metadata": {},
     "output_type": "display_data"
    },
    {
     "data": {
      "image/png": "[encoded data removed]",
      "text/plain": [
       "<matplotlib.figure.Figure at 0x2aab767d2438>"
      ]
     },
     "metadata": {},
     "output_type": "display_data"
    },
    {
     "data": {
      "image/png": "[encoded data removed]",
      "text/plain": [
       "<matplotlib.figure.Figure at 0x2aab766d55f8>"
      ]
     },
     "metadata": {},
     "output_type": "display_data"
    },
    {
     "data": {
      "image/png": "[encoded data removed]",
      "text/plain": [
       "<matplotlib.figure.Figure at 0x2aab98fd1588>"
      ]
     },
     "metadata": {},
     "output_type": "display_data"
    },
    {
     "data": {
      "image/png": "[encoded data removed]",
      "text/plain": [
       "<matplotlib.figure.Figure at 0x2aab768b8da0>"
      ]
     },
     "metadata": {},
     "output_type": "display_data"
    },
    {
     "data": {
      "image/png": "[encoded data removed]",
      "text/plain": [
       "<matplotlib.figure.Figure at 0x2aab76b8c588>"
      ]
     },
     "metadata": {},
     "output_type": "display_data"
    },
    {
     "data": {
      "image/png": "[encoded data removed]",
      "text/plain": [
       "<matplotlib.figure.Figure at 0x2aab76bab1d0>"
      ]
     },
     "metadata": {},
     "output_type": "display_data"
    },
    {
     "data": {
      "image/png": "[encoded data removed]",
      "text/plain": [
       "<matplotlib.figure.Figure at 0x2aab995e1470>"
      ]
     },
     "metadata": {},
     "output_type": "display_data"
    },
    {
     "data": {
      "image/png": "[encoded data removed]",
      "text/plain": [
       "<matplotlib.figure.Figure at 0x2aab995a04a8>"
      ]
     },
     "metadata": {},
     "output_type": "display_data"
    },
    {
     "data": {
      "image/png": "[encoded data removed]",
      "text/plain": [
       "<matplotlib.figure.Figure at 0x2aab76bab128>"
      ]
     },
     "metadata": {},
     "output_type": "display_data"
    },
    {
     "data": {
      "image/png": "[encoded data removed]",
      "text/plain": [
       "<matplotlib.figure.Figure at 0x2aab714dcc50>"
      ]
     },
     "metadata": {},
     "output_type": "display_data"
    }
   ],
   "source": [
    "# try to show covariance matrix\n",
    "for i in range(len(covs_jR_jz)):\n",
    "    # plot correlation matrix\n",
    "    fig = plt.figure()\n",
    "    ax = fig.add_subplot(111)\n",
    "    cax = ax.matshow(covs_jR_jz[i], norm = LogNorm())\n",
    "    fig.colorbar(cax)\n",
    "    ax.set_title('a_NFWH = {} kpc'.format(a_NFWH_arr[i]))\n",
    "    plt.show()"
   ]
  },
  {
   "cell_type": "code",
   "execution_count": null,
   "metadata": {
    "collapsed": true
   },
   "outputs": [],
   "source": [
    "from matplotlib.patches import Ellipse\n",
    "\n",
    "def eigsorted(cov):\n",
    "    vals, vecs = np.linalg.eigh(cov)\n",
    "    order = vals.argsort()[::-1]\n",
    "    return vals[order], vecs[:,order]\n",
    "\n",
    "\n",
    "nstd = 2\n",
    "ax = plt.subplot(111)\n",
    "\n",
    "#cov = np.cov(x, y)\n",
    "vals, vecs = eigsorted(covs_jR_jz[-1])\n",
    "theta = np.degrees(np.arctan2(*vecs[:,0][::-1]))\n",
    "w, h = 2 * nstd * np.sqrt(vals)\n",
    "ell = Ellipse(xy=(mean_jR_kpckms[-1], mean_jz_kpckms[-1]),\n",
    "              width=w, height=h,\n",
    "              angle=theta, color='black')\n",
    "ell.set_facecolor('none')\n",
    "ax.add_artist(ell)\n",
    "plt.hist2d(jR_kpckms, jz_kpckms, bins = 41)\n",
    "plt.xlabel('jR [kpc/km/s]')\n",
    "plt.ylabel('jz [kpc/km/s]')\n",
    "plt.title('a_NFWH = {} kpc'.format(a_NFWH_arr[-1]))\n",
    "plt.show()"
   ]
  },
  {
   "cell_type": "code",
   "execution_count": 40,
   "metadata": {},
   "outputs": [
    {
     "data": {
      "image/png": "[encoded data removed]",
      "text/plain": [
       "<matplotlib.figure.Figure at 0x2aab995e1a20>"
      ]
     },
     "metadata": {},
     "output_type": "display_data"
    }
   ],
   "source": [
    "nstd = 2\n",
    "ax = plt.subplot(111)\n",
    "\n",
    "#cov = np.cov(x, y)\n",
    "vals, vecs = eigsorted(init_cov_jR_jz)\n",
    "theta = np.degrees(np.arctan2(*vecs[:,0][::-1]))\n",
    "w, h = 2 * nstd * np.sqrt(vals)\n",
    "ell = Ellipse(xy=(init_mean_jR_kpckms, init_mean_jz_kpckms),\n",
    "              width=w, height=h,\n",
    "              angle=theta, color='black')\n",
    "ell.set_facecolor('none')\n",
    "ax.add_artist(ell)\n",
    "plt.hist2d(init_jR_kpckms, init_jz_kpckms, bins = 41)\n",
    "plt.xlabel('jR [kpc/km/s]')\n",
    "plt.ylabel('jz [kpc/km/s]')\n",
    "plt.title('a_NFWH = {} kpc'.format(init_a_NFWH_kpc))\n",
    "plt.show()"
   ]
  },
  {
   "cell_type": "code",
   "execution_count": 41,
   "metadata": {
    "collapsed": true
   },
   "outputs": [],
   "source": [
    "# calculate concentration\n",
    "M200 = sf.data['fmc2'][0] #M200\n",
    "R200 = sf.data['frc2'][0] #R200\n",
    "a = init_a_NFWH_kpc\n",
    "c = a/R200"
   ]
  },
  {
   "cell_type": "code",
   "execution_count": 43,
   "metadata": {},
   "outputs": [
    {
     "data": {
      "text/plain": [
       "108.01188770424625"
      ]
     },
     "execution_count": 43,
     "metadata": {},
     "output_type": "execute_result"
    }
   ],
   "source": [
    "c "
   ]
  },
  {
   "cell_type": "code",
   "execution_count": null,
   "metadata": {
    "collapsed": true
   },
   "outputs": [],
   "source": []
  }
 ],
 "metadata": {
  "kernelspec": {
   "display_name": "Python 3",
   "language": "python",
   "name": "python3"
  },
  "language_info": {
   "codemirror_mode": {
    "name": "ipython",
    "version": 3
   },
   "file_extension": ".py",
   "mimetype": "text/x-python",
   "name": "python",
   "nbconvert_exporter": "python",
   "pygments_lexer": "ipython3",
   "version": "3.6.3"
  }
 },
 "nbformat": 4,
 "nbformat_minor": 2
}
