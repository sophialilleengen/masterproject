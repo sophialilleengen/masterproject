{
 "cells": [
  {
   "cell_type": "code",
   "execution_count": 1,
   "metadata": {
    "collapsed": true
   },
   "outputs": [],
   "source": [
    "machine = 'mac'\n",
    "machine = 'magny'"
   ]
  },
  {
   "cell_type": "code",
   "execution_count": 2,
   "metadata": {},
   "outputs": [
    {
     "name": "stdout",
     "output_type": "stream",
     "text": [
      "galpyWarning: A major change in versions > 1.1 is that all galpy.potential functions and methods take the potential as the first argument; previously methods such as evaluatePotentials, evaluateDensities, etc. would be called with (R,z,Pot), now they are called as (Pot,R,z) for greater consistency across the codebase\n"
     ]
    }
   ],
   "source": [
    "from galpy.potential import NFWPotential as NFWpot\n",
    "from galpy.potential import HernquistPotential as HEpot\n",
    "from galpy.potential import DoubleExponentialDiskPotential as DEpot\n",
    "from galpy.potential import MiyamotoNagaiPotential as MNpot\n",
    "from galpy.potential import MN3ExponentialDiskPotential as MN3pot\n",
    "from galpy.potential import MWPotential2014\n",
    "\n",
    "from galpy.potential import evaluateDensities, evaluatePotentials\n",
    "from galpy.potential import plotDensities\n",
    "from galpy.potential import plotRotcurve\n",
    "from galpy.util import bovy_conversion\n",
    "\n",
    "import numpy as np\n",
    "from scipy import optimize as opt\n",
    "\n",
    "import matplotlib.pyplot as plt\n",
    "from mpl_toolkits.axes_grid1 import make_axes_locatable\n",
    "from mpl_toolkits.mplot3d import Axes3D\n",
    "import copy\n",
    "\n",
    "from areposnap.gadget import gadget_readsnap\n",
    "from areposnap.gadget_subfind import load_subfind\n",
    "import calcGrid\n",
    "\n",
    "from auriga_basics import *\n",
    "from auriga_functions import *\n",
    "\n",
    "%matplotlib inline"
   ]
  },
  {
   "cell_type": "code",
   "execution_count": 3,
   "metadata": {},
   "outputs": [
    {
     "name": "stdout",
     "output_type": "stream",
     "text": [
      "level   : 4\n",
      "halo    : 24\n",
      "snapnr  : 127\n",
      "basedir : /hits/universe/GigaGalaxy/level4_MHD/\n",
      "halodir : /hits/universe/GigaGalaxy/level4_MHD/halo_24/\n",
      "snappath: /hits/universe/GigaGalaxy/level4_MHD/halo_24/output/\n",
      "\n",
      "[ 34.42281723  33.16259384  37.29567337]\n",
      "Found 1783163 stars.\n",
      "Rotated pos.\n",
      "Rotated bfld.\n",
      "Rotated vel.\n",
      "\n",
      "galrad  : 0.02408556640148163\n",
      "redshift: 2.220446049250313e-16\n",
      "time    : 0.9999999999999998\n",
      "center  : [ 0.  0.  0.]\n",
      "\n"
     ]
    }
   ],
   "source": [
    "#### path = /hits/universe/GigaGalaxy/level4_MHD/halo_24/output/*\n",
    "level = 4\n",
    "if machine == 'magny':\n",
    "    basedir = \"/hits/universe/GigaGalaxy/level4_MHD/\"\n",
    "elif machine == 'mac': \n",
    "    basedir = \"/Users/smilanov/Desktop/Auriga/level4/\"\n",
    "j = 0\n",
    "for halo_number in [24]:  # range(1, 31):\n",
    "    halodir = basedir+\"halo_{0}/\".format(halo_number)\n",
    "    snappath = halodir+\"output/\"\n",
    "    for snapnr in range(127,128,1):\n",
    "        print(\"level   : {0}\".format(level))\n",
    "        print(\"halo    : {0}\".format(halo_number))\n",
    "        print(\"snapnr  : {0}\".format(snapnr))\n",
    "        print(\"basedir : {0}\".format(basedir))\n",
    "        print(\"halodir : {0}\".format(halodir))\n",
    "        print(\"snappath: {0}\\n\".format(snappath))\n",
    "        s, sf = eat_snap_and_fof(level, halo_number, snapnr, snappath, loadonlytype=[0,1,4,5], \n",
    "            haloid=0, galradfac=0.1, verbose=True) \n",
    "\n",
    "        # Clean negative and zero values of gmet to avoid RuntimeErrors\n",
    "        # later on (e.g. dividing by zero)\n",
    "        s.data['gmet'] = np.maximum( s.data['gmet'], 1e-40 )\n",
    "     "
   ]
  },
  {
   "cell_type": "code",
   "execution_count": 4,
   "metadata": {},
   "outputs": [
    {
     "name": "stdout",
     "output_type": "stream",
     "text": [
      "<gadget_snap.gadget_snapshot object at 0x2aaad42ead68>\n",
      "4\n",
      "0.000591963 24.0853 -23.9838 24.0577\n",
      "[ 0.44943228  0.46022999  0.44905335 ...,  7.49414206  0.88731605\n",
      "  0.07221486]\n",
      "[ -2.39837666e+01  -2.29837666e+01  -2.19837666e+01  -2.09837666e+01\n",
      "  -1.99837666e+01  -1.89837666e+01  -1.79837666e+01  -1.69837666e+01\n",
      "  -1.59837666e+01  -1.49837666e+01  -1.39837666e+01  -1.29837666e+01\n",
      "  -1.19837666e+01  -1.09837666e+01  -9.98376656e+00  -8.98376656e+00\n",
      "  -7.98376656e+00  -6.98376656e+00  -5.98376656e+00  -4.98376656e+00\n",
      "  -3.98376656e+00  -2.98376656e+00  -1.98376656e+00  -9.83766556e-01\n",
      "   1.62334442e-02   1.01623344e+00   2.01623344e+00   3.01623344e+00\n",
      "   4.01623344e+00   5.01623344e+00   6.01623344e+00   7.01623344e+00\n",
      "   8.01623344e+00   9.01623344e+00   1.00162334e+01   1.10162334e+01\n",
      "   1.20162334e+01   1.30162334e+01   1.40162334e+01   1.50162334e+01\n",
      "   1.60162334e+01   1.70162334e+01   1.80162334e+01   1.90162334e+01\n",
      "   2.00162334e+01   2.10162334e+01   2.20162334e+01   2.30162334e+01\n",
      "   2.40162334e+01]\n"
     ]
    }
   ],
   "source": [
    "print(s)\n",
    "iall, = np.where( (s.r() < s.galrad) & (s.r() > 0.) )\n",
    "\n",
    "mask = iall\n",
    "(x_kpc, y_kpc, z_kpc), (vx_kms, vy_kms, vz_kms), rxyz_kpc, rxy_kpc = get_cartesian_vectors(s, sf, mask)\n",
    "(R_kpc, phi, z_kpc), (vR_kms, vphi, vz_kms) = get_cylindrical_vectors(s, sf, mask)\n",
    "\n",
    "\n",
    "(x, y, z), (vx, vy, vz), rxyz, rxy = get_cartesian_vectors(s, sf, mask)\n",
    "(R, phi, z), (vR, vphi, vz) = get_cylindrical_vectors(s, sf, mask)\n",
    "\n",
    "rho, Rbin, z, vol = fitting_dens(s.mass[mask][np.abs(z > -50.) & np.abs(z <50.)], R[np.abs(z > -50.) & np.abs(z <50.)], z[np.abs(z > -50.) & np.abs(z <50.)])\n",
    "#rho, R, z, vol = fitting_dens(s)\n",
    "print(R)\n",
    "print(z)"
   ]
  },
  {
   "cell_type": "code",
   "execution_count": 5,
   "metadata": {},
   "outputs": [
    {
     "data": {
      "text/plain": [
       "(70917187, 3)"
      ]
     },
     "execution_count": 5,
     "metadata": {},
     "output_type": "execute_result"
    }
   ],
   "source": [
    "s.pos.shape"
   ]
  },
  {
   "cell_type": "code",
   "execution_count": 6,
   "metadata": {
    "scrolled": false
   },
   "outputs": [
    {
     "name": "stdout",
     "output_type": "stream",
     "text": [
      "/home/extmilan/anaconda3/lib/python3.6/site-packages/ipykernel_launcher.py:1: DeprecationWarning: PyArray_FromDims: use PyArray_SimpleNew.\n",
      "  \"\"\"Entry point for launching an IPython kernel.\n",
      "\n",
      "/home/extmilan/anaconda3/lib/python3.6/site-packages/ipykernel_launcher.py:1: DeprecationWarning: PyArray_FromDimsAndDataAndDescr: use PyArray_NewFromDescr.\n",
      "  \"\"\"Entry point for launching an IPython kernel.\n",
      "\n"
     ]
    }
   ],
   "source": [
    "somex, somey = calcGrid.calcRadialProfile(s.pos.astype('float'), s.data['mass'].astype('float'))"
   ]
  },
  {
   "cell_type": "code",
   "execution_count": 7,
   "metadata": {},
   "outputs": [
    {
     "name": "stdout",
     "output_type": "stream",
     "text": [
      "/home/extmilan/anaconda3/lib/python3.6/site-packages/ipykernel_launcher.py:22: DeprecationWarning: PyArray_FromDims: use PyArray_SimpleNew.\n",
      "\n",
      "/home/extmilan/anaconda3/lib/python3.6/site-packages/ipykernel_launcher.py:22: DeprecationWarning: PyArray_FromDimsAndDataAndDescr: use PyArray_NewFromDescr.\n",
      "\n"
     ]
    }
   ],
   "source": [
    "subhalo = 0\n",
    "s.center = sf.data['fpos'][subhalo,:]\n",
    "\n",
    "pos = s.data['pos'].astype('float64')\n",
    "mass = s.data['mass'].astype('float64')\n",
    "\n",
    "nshells = 100\n",
    "radius = 0.04\n",
    "dr = radius / nshells\n",
    "\n",
    "na = s.nparticlesall\n",
    "end = na.copy()\n",
    "end[1:] += end[:-1]\n",
    "start = np.zeros(len(na), dtype='int32')\n",
    "start[1:] = end[:-1]\n",
    "\n",
    "shmass = np.zeros( (nshells, 6) )\n",
    "shvel = np.zeros( (nshells, 6) )\n",
    "vtot = np.zeros(nshells)\n",
    "\n",
    "for i in range( 6 ):\n",
    "    rp = calcGrid.calcRadialProfile( s.pos[start[i]:end[i],:].astype('float64'), s.data['mass'][start[i]:end[i]].astype('float64'), 0, nshells, dr, s.center[0], s.center[1], s.center[2] )\n",
    "\n",
    "    radius = rp[1,:]\n",
    "    shmass[:,i] = rp[0,:]\n",
    "    for j in range( 1, nshells ):\n",
    "        shmass[j,i] += shmass[j-1,i]\n",
    "    shvel[:,i] = np.sqrt( 43.0071 * shmass[:,i] / (radius) )\n",
    "    vtot[:] += (shvel[:,i]**2)\n",
    "\n"
   ]
  },
  {
   "cell_type": "code",
   "execution_count": 8,
   "metadata": {},
   "outputs": [
    {
     "name": "stdout",
     "output_type": "stream",
     "text": [
      "[[ 0.      0.      0.      0.      0.      0.      0.      0.      0.      0.\n",
      "   0.      0.      0.      0.      0.      0.      0.      0.      0.      0.\n",
      "   0.      0.      0.      0.      0.      0.      0.      0.      0.      0.\n",
      "   0.      0.      0.      0.      0.      0.      0.      0.      0.      0.\n",
      "   0.      0.      0.      0.      0.      0.      0.      0.      0.      0.\n",
      "   0.      0.      0.      0.      0.      0.      0.      0.      0.      0.\n",
      "   0.      0.      0.      0.      0.      0.      0.      0.      0.      0.\n",
      "   0.      0.      0.      0.      0.      0.      0.      0.      0.      0.\n",
      "   0.      0.      0.      0.      0.      0.      0.      0.      0.      0.\n",
      "   0.      0.      0.      0.      0.      0.      0.      0.      0.      0.    ]\n",
      " [ 0.0002  0.0006  0.001   0.0014  0.0018  0.0022  0.0026  0.003   0.0034\n",
      "   0.0038  0.0042  0.0046  0.005   0.0054  0.0058  0.0062  0.0066  0.007\n",
      "   0.0074  0.0078  0.0082  0.0086  0.009   0.0094  0.0098  0.0102  0.0106\n",
      "   0.011   0.0114  0.0118  0.0122  0.0126  0.013   0.0134  0.0138  0.0142\n",
      "   0.0146  0.015   0.0154  0.0158  0.0162  0.0166  0.017   0.0174  0.0178\n",
      "   0.0182  0.0186  0.019   0.0194  0.0198  0.0202  0.0206  0.021   0.0214\n",
      "   0.0218  0.0222  0.0226  0.023   0.0234  0.0238  0.0242  0.0246  0.025\n",
      "   0.0254  0.0258  0.0262  0.0266  0.027   0.0274  0.0278  0.0282  0.0286\n",
      "   0.029   0.0294  0.0298  0.0302  0.0306  0.031   0.0314  0.0318  0.0322\n",
      "   0.0326  0.033   0.0334  0.0338  0.0342  0.0346  0.035   0.0354  0.0358\n",
      "   0.0362  0.0366  0.037   0.0374  0.0378  0.0382  0.0386  0.039   0.0394\n",
      "   0.0398]]\n"
     ]
    },
    {
     "data": {
      "text/plain": [
       "[<matplotlib.lines.Line2D at 0x2aae9ac72780>]"
      ]
     },
     "execution_count": 8,
     "metadata": {},
     "output_type": "execute_result"
    },
    {
     "data": {
      "image/png": "[encoded data removed]",
      "text/plain": [
       "<matplotlib.figure.Figure at 0x2aaaf316efd0>"
      ]
     },
     "metadata": {},
     "output_type": "display_data"
    }
   ],
   "source": [
    "print(rp)\n",
    "plt.plot(radius, vtot, '.')\n"
   ]
  },
  {
   "cell_type": "code",
   "execution_count": 9,
   "metadata": {},
   "outputs": [
    {
     "name": "stdout",
     "output_type": "stream",
     "text": [
      "(32115191,)\n",
      "(70917187, 3)\n"
     ]
    }
   ],
   "source": [
    "print(s.hsml.shape)\n",
    "print(s.pos.shape)"
   ]
  },
  {
   "cell_type": "code",
   "execution_count": 38,
   "metadata": {},
   "outputs": [
    {
     "name": "stdout",
     "output_type": "stream",
     "text": [
      "/home/extmilan/anaconda3/lib/python3.6/site-packages/ipykernel_launcher.py:1: DeprecationWarning: PyArray_FromDims: use PyArray_SimpleNew.\n",
      "  \"\"\"Entry point for launching an IPython kernel.\n",
      "\n",
      "/home/extmilan/anaconda3/lib/python3.6/site-packages/ipykernel_launcher.py:1: DeprecationWarning: PyArray_FromDimsAndDataAndDescr: use PyArray_NewFromDescr.\n",
      "  \"\"\"Entry point for launching an IPython kernel.\n",
      "\n"
     ]
    }
   ],
   "source": [
    "test = calcGrid.calcRadialProfile( s.pos.astype('float64'), s.data['mass'].astype('float64'))"
   ]
  },
  {
   "cell_type": "code",
   "execution_count": 39,
   "metadata": {
    "scrolled": false
   },
   "outputs": [
    {
     "name": "stdout",
     "output_type": "stream",
     "text": [
      "[[  5.61174309e+02   6.02928546e+02   6.13953792e+02   6.21332329e+02\n",
      "    6.26478482e+02   6.30170358e+02   6.32823555e+02   6.36079611e+02\n",
      "    6.37990547e+02   6.39114241e+02   6.40293418e+02   6.41166445e+02\n",
      "    6.41711674e+02   6.42256789e+02   6.42758221e+02   6.43231278e+02\n",
      "    6.44018217e+02   6.44736884e+02   6.45364106e+02   6.46185945e+02\n",
      "    6.46841194e+02   6.47642269e+02   6.48212676e+02   6.48744658e+02\n",
      "    6.49312723e+02   6.49984507e+02   6.50694133e+02   6.52309378e+02\n",
      "    6.54879048e+02   6.55790089e+02   6.56499521e+02   6.57308911e+02\n",
      "    6.58173332e+02   6.58879926e+02   6.59645388e+02   6.60244342e+02\n",
      "    6.60817406e+02   6.61302291e+02   6.61916359e+02   6.62726540e+02\n",
      "    6.63447657e+02   6.63948452e+02   6.64411222e+02   6.65004400e+02\n",
      "    6.65565960e+02   6.66308595e+02   6.67112380e+02   6.67637402e+02\n",
      "    6.68195855e+02   6.68704581e+02   6.69392236e+02   6.69996964e+02\n",
      "    6.70840357e+02   6.71555940e+02   6.72224089e+02   6.72827987e+02\n",
      "    6.73405291e+02   6.73997812e+02   6.74586333e+02   6.75312941e+02\n",
      "    6.76090818e+02   6.76742544e+02   6.77410107e+02   6.78121770e+02\n",
      "    6.78759513e+02   6.79423666e+02   6.80134617e+02   6.80798271e+02\n",
      "    6.81462628e+02   6.82469265e+02   6.83290665e+02   6.84069016e+02\n",
      "    6.84861389e+02   6.85704122e+02   6.86516175e+02   6.87264043e+02\n",
      "    6.87933955e+02   6.88507469e+02   6.89041643e+02   6.89574260e+02\n",
      "    6.90083729e+02   6.90565330e+02   6.91011368e+02   6.91429814e+02\n",
      "    6.91847522e+02   6.92296196e+02   6.92790786e+02   6.93291879e+02\n",
      "    6.93758458e+02   6.94206124e+02   6.94701684e+02   6.95254178e+02\n",
      "    6.95890732e+02   6.96509097e+02   6.97028650e+02   6.97508796e+02\n",
      "    6.97981127e+02   6.98447724e+02   6.98917619e+02   6.99430258e+02\n",
      "    6.99967886e+02   7.00447771e+02   7.00922942e+02   7.01390846e+02\n",
      "    7.01885447e+02   7.02392230e+02   7.02894205e+02   7.03399114e+02\n",
      "    7.03884869e+02   7.04351189e+02   7.04826276e+02   7.05339239e+02\n",
      "    7.05916838e+02   7.06443594e+02   7.06908608e+02   7.07356259e+02\n",
      "    7.07790181e+02   7.08230862e+02   7.08660539e+02   7.09067474e+02\n",
      "    7.09471508e+02   7.09858886e+02   7.10241839e+02   7.10608165e+02\n",
      "    7.10972434e+02   7.11333419e+02   7.11684999e+02   7.12046737e+02\n",
      "    7.12411210e+02   7.12773891e+02   7.13100854e+02   7.13407901e+02\n",
      "    7.13735488e+02   7.14067357e+02   7.14327757e+02   7.14569327e+02\n",
      "    7.14796153e+02   7.15015796e+02   7.15225193e+02   7.15420123e+02\n",
      "    7.15609568e+02   7.15789938e+02   7.15964312e+02   7.16137447e+02\n",
      "    7.16299512e+02   7.16454200e+02   7.16610164e+02   7.16766988e+02\n",
      "    7.16924752e+02   7.17069503e+02   7.17204607e+02   7.17334024e+02\n",
      "    7.17460932e+02   7.17598292e+02   7.17732622e+02   7.17860375e+02\n",
      "    7.17987132e+02   7.18101670e+02   7.18217370e+02   7.18336165e+02\n",
      "    7.18463951e+02   7.18586145e+02   7.18720310e+02   7.18867731e+02\n",
      "    7.18994547e+02   7.19103094e+02   7.19237772e+02   7.19362894e+02\n",
      "    7.19465861e+02   7.19558662e+02   7.19665396e+02   7.19758741e+02\n",
      "    7.19808621e+02   7.19841295e+02   7.19865704e+02   7.19885622e+02\n",
      "    7.19907040e+02   7.19925621e+02   7.19942941e+02   7.19960404e+02\n",
      "    7.19976269e+02   7.19990128e+02   7.20003730e+02   7.20017802e+02\n",
      "    7.20033012e+02   7.20048234e+02   7.20060132e+02   7.20071064e+02\n",
      "    7.20081607e+02   7.20093070e+02   7.20107319e+02   7.20129405e+02\n",
      "    7.20168898e+02   7.20195328e+02   7.20207586e+02   7.20214607e+02\n",
      "    7.20217766e+02   7.20219266e+02   7.20219585e+02   7.20219763e+02]\n",
      " [  2.24045011e-01   6.72135034e-01   1.12022506e+00   1.56831508e+00\n",
      "    2.01640510e+00   2.46449513e+00   2.91258515e+00   3.36067517e+00\n",
      "    3.80876519e+00   4.25685522e+00   4.70494524e+00   5.15303526e+00\n",
      "    5.60112529e+00   6.04921531e+00   6.49730533e+00   6.94539535e+00\n",
      "    7.39348538e+00   7.84157540e+00   8.28966542e+00   8.73775545e+00\n",
      "    9.18584547e+00   9.63393549e+00   1.00820255e+01   1.05301155e+01\n",
      "    1.09782056e+01   1.14262956e+01   1.18743856e+01   1.23224756e+01\n",
      "    1.27705657e+01   1.32186557e+01   1.36667457e+01   1.41148357e+01\n",
      "    1.45629257e+01   1.50110158e+01   1.54591058e+01   1.59071958e+01\n",
      "    1.63552858e+01   1.68033759e+01   1.72514659e+01   1.76995559e+01\n",
      "    1.81476459e+01   1.85957359e+01   1.90438260e+01   1.94919160e+01\n",
      "    1.99400060e+01   2.03880960e+01   2.08361861e+01   2.12842761e+01\n",
      "    2.17323661e+01   2.21804561e+01   2.26285462e+01   2.30766362e+01\n",
      "    2.35247262e+01   2.39728162e+01   2.44209062e+01   2.48689963e+01\n",
      "    2.53170863e+01   2.57651763e+01   2.62132663e+01   2.66613564e+01\n",
      "    2.71094464e+01   2.75575364e+01   2.80056264e+01   2.84537165e+01\n",
      "    2.89018065e+01   2.93498965e+01   2.97979865e+01   3.02460765e+01\n",
      "    3.06941666e+01   3.11422566e+01   3.15903466e+01   3.20384366e+01\n",
      "    3.24865267e+01   3.29346167e+01   3.33827067e+01   3.38307967e+01\n",
      "    3.42788868e+01   3.47269768e+01   3.51750668e+01   3.56231568e+01\n",
      "    3.60712468e+01   3.65193369e+01   3.69674269e+01   3.74155169e+01\n",
      "    3.78636069e+01   3.83116970e+01   3.87597870e+01   3.92078770e+01\n",
      "    3.96559670e+01   4.01040570e+01   4.05521471e+01   4.10002371e+01\n",
      "    4.14483271e+01   4.18964171e+01   4.23445072e+01   4.27925972e+01\n",
      "    4.32406872e+01   4.36887772e+01   4.41368673e+01   4.45849573e+01\n",
      "    4.50330473e+01   4.54811373e+01   4.59292273e+01   4.63773174e+01\n",
      "    4.68254074e+01   4.72734974e+01   4.77215874e+01   4.81696775e+01\n",
      "    4.86177675e+01   4.90658575e+01   4.95139475e+01   4.99620376e+01\n",
      "    5.04101276e+01   5.08582176e+01   5.13063076e+01   5.17543976e+01\n",
      "    5.22024877e+01   5.26505777e+01   5.30986677e+01   5.35467577e+01\n",
      "    5.39948478e+01   5.44429378e+01   5.48910278e+01   5.53391178e+01\n",
      "    5.57872078e+01   5.62352979e+01   5.66833879e+01   5.71314779e+01\n",
      "    5.75795679e+01   5.80276580e+01   5.84757480e+01   5.89238380e+01\n",
      "    5.93719280e+01   5.98200181e+01   6.02681081e+01   6.07161981e+01\n",
      "    6.11642881e+01   6.16123781e+01   6.20604682e+01   6.25085582e+01\n",
      "    6.29566482e+01   6.34047382e+01   6.38528283e+01   6.43009183e+01\n",
      "    6.47490083e+01   6.51970983e+01   6.56451884e+01   6.60932784e+01\n",
      "    6.65413684e+01   6.69894584e+01   6.74375484e+01   6.78856385e+01\n",
      "    6.83337285e+01   6.87818185e+01   6.92299085e+01   6.96779986e+01\n",
      "    7.01260886e+01   7.05741786e+01   7.10222686e+01   7.14703586e+01\n",
      "    7.19184487e+01   7.23665387e+01   7.28146287e+01   7.32627187e+01\n",
      "    7.37108088e+01   7.41588988e+01   7.46069888e+01   7.50550788e+01\n",
      "    7.55031689e+01   7.59512589e+01   7.63993489e+01   7.68474389e+01\n",
      "    7.72955289e+01   7.77436190e+01   7.81917090e+01   7.86397990e+01\n",
      "    7.90878890e+01   7.95359791e+01   7.99840691e+01   8.04321591e+01\n",
      "    8.08802491e+01   8.13283392e+01   8.17764292e+01   8.22245192e+01\n",
      "    8.26726092e+01   8.31206992e+01   8.35687893e+01   8.40168793e+01\n",
      "    8.44649693e+01   8.49130593e+01   8.53611494e+01   8.58092394e+01\n",
      "    8.62573294e+01   8.67054194e+01   8.71535095e+01   8.76015995e+01\n",
      "    8.80496895e+01   8.84977795e+01   8.89458695e+01   8.93939596e+01]] [ 328.20963811  196.41503835  153.52718288  130.53152017  115.59372651\n",
      "  104.86609187   96.66562916   90.22202033   84.87603854   80.35536663\n",
      "   76.50367743   73.15161442   70.19439026   67.57326595   65.2269785\n",
      "   63.11101579   61.20607729   59.46476074   57.86340438   56.39607645\n",
      "   55.03124608   53.76947613   52.58416029   51.47429515   50.43492236\n",
      "   49.46167901   48.54594403   47.71422857   46.9618893    46.19115894\n",
      "   45.45218119   44.75246127   44.08754363   43.44783865   42.83839195\n",
      "   42.24989267   41.68518631   41.14071377   40.62175055   40.12879106\n",
      "   39.6518325    39.18596762   38.73570432   38.30496529   37.88811405\n",
      "   37.49034627   37.10739488   36.72915753   36.36373311   36.0082481\n",
      "   35.66827354   35.33623263   35.02009996   34.70976304   34.40695399\n",
      "   34.11088403   33.82217097   33.54152183   33.26812147   33.00513365\n",
      "   32.75007313   32.49837339   32.25323417   32.0150676    31.78085301\n",
      "   31.55274354   31.33098579   31.11320697   30.90033434   30.69987371\n",
      "   30.49970421   30.30291318   30.1106257    29.92348371   29.73957056\n",
      "   29.55804988   29.37853245   29.20054244   29.02520854   28.85322744\n",
      "   28.68404506   28.51747197   28.35326417   28.19150464   28.03265827\n",
      "   27.87727745   27.72556723   27.5766478    27.4296302    27.28476043\n",
      "   27.1432801    27.0052809    26.87120252   26.73899213   26.60705777\n",
      "   26.47650164   26.3478769    26.2211713    26.09650342   25.97455466\n",
      "   25.85493612   25.73607421   25.61890995   25.50335488   25.38998335\n",
      "   25.27848614   25.16851661   25.06017612   24.9530357    24.84706001\n",
      "   24.74271464   24.64047248   24.54075681   24.4415226    24.34256475\n",
      "   24.24462944   24.1477542    24.05226238   23.95782522   23.86422151\n",
      "   23.77176336   23.68019721   23.58970577   23.50006481   23.41149502\n",
      "   23.32395451   23.2373225    23.15189799   23.06753832   22.98415013\n",
      "   22.90116969   22.81883791   22.73778463   22.65773012   22.57745904\n",
      "   22.49779628   22.41879263   22.34055261   22.2630139    22.18609736\n",
      "   22.10992908   22.03443997   21.95966434   21.8856618    21.81226907\n",
      "   21.73953059   21.66756518   21.59635361   21.52588437   21.45593635\n",
      "   21.38654982   21.31777338   21.24964354   21.18234078   21.11565431\n",
      "   21.04952191   20.98401567   20.91896204   20.85454702   20.7907887\n",
      "   20.72776208   20.66524691   20.60348655   20.54248877   20.48176079\n",
      "   20.42132994   20.36181874   20.30271194   20.24382551   20.18532256\n",
      "   20.12753364   20.07006847   20.01250321   19.95519984   19.89827681\n",
      "   19.84178009   19.78578556   19.73022685   19.67511915   19.62047521\n",
      "   19.56626496   19.51247674   19.45912828   19.40622333   19.3537649\n",
      "   19.30173196   19.25007417   19.19881775   19.14796496   19.0975278\n",
      "   19.04752556   18.99801934   18.94912917   18.9004484    18.85195894\n",
      "   18.80377406   18.75590741   18.70838333   18.66120357   18.61437717]\n"
     ]
    }
   ],
   "source": [
    "radius = test[1,:]\n",
    "shmass = test[0,:]\n",
    "for j in range( len(test[0]) ):\n",
    "    shmass[j] += shmass[j-1]\n",
    "vtot = np.sqrt(43.0071 * shmass / (radius)) \n",
    "print(test, vtot)"
   ]
  },
  {
   "cell_type": "code",
   "execution_count": 40,
   "metadata": {},
   "outputs": [
    {
     "data": {
      "text/plain": [
       "(0, 80)"
      ]
     },
     "execution_count": 40,
     "metadata": {},
     "output_type": "execute_result"
    },
    {
     "data": {
      "image/png": "[encoded data removed]",
      "text/plain": [
       "<matplotlib.figure.Figure at 0x2aae9b6497f0>"
      ]
     },
     "metadata": {},
     "output_type": "display_data"
    }
   ],
   "source": [
    "plt.plot(test[1], test[0], '.')\n",
    "plt.xlim(0,80)"
   ]
  },
  {
   "cell_type": "code",
   "execution_count": 28,
   "metadata": {
    "collapsed": true
   },
   "outputs": [],
   "source": [
    "### finde nen Weg um das ganze von klein r abhängig zu machen \n",
    "### finde sinnvolle Standartwerte für Initialisierungs Parameter\n",
    "### eventuell nur dens ODER pot ausgeben, hängt von Fit funktion ab \n",
    "### ravel works in the way I want?\n",
    "\n",
    "\n",
    "#def galpy_fitting(r, R, z, r0, v0, a_mp = 0.5, b_mp = 0.0375, n_mp = 0.6, a_nfw = 4.5, n_nfw = 0.35, \\\n",
    "#                  a_he = 0.6 / 8., n_he = 0.05, hr_de = 0.3333333333333333, hz_de = 0.0625, \\\n",
    "#                  dens_fit = True, pot_fit = False):\n",
    " \n",
    "def galpy_fitting(a_mp, b_mp, n_mp, a_nfw, n_nfw, a_he, n_he,\\\n",
    "                  r = None, R = None, z = None, r0 = 9., v0 = 200., dens_fit = True, pot_fit = False):    \n",
    "    #hr_de = None, hz_de = None,\n",
    "    \n",
    "    mp = MNpot(a = a_mp, b = b_mp, normalize = n_mp, ro = r0, vo = v0)\n",
    "    nfwp = NFWpot(a = a_nfw, normalize = n_nfw, ro = r0, vo = v0)\n",
    "    hep = HEpot(a = a_he, normalize = n_he, ro = r0, vo = v0)\n",
    "    #de = DEpot(hr = hr_de, hz = hz_de, normalize = 1. - (n_mp + n_nfw + n_he), ro = r0, vo = v0)\n",
    "    \n",
    "    pot = [mp, nfwp, hep]\n",
    "    densi = np.zeros([len(R), len(z)])\n",
    "    pot_mod = np.zeros([len(R), len(z)])\n",
    "    if dens_fit == True:\n",
    "        for ii, Rii in enumerate(R):\n",
    "            for jj, zjj in enumerate(z):\n",
    "                densi[ii, jj] = evaluateDensities(pot, Rii, zjj)\n",
    "    if pot_fit == True:\n",
    "        for ii, Rii in enumerate(R):\n",
    "            for jj, zjj in enumerate(z):\n",
    "                pot_mod[ii, jj] = evaluatePotentials(pot, Rii, zjj)\n",
    "            \n",
    "    #densi = np.ravel(densi)\n",
    "    pot_mod = np.ravel(pot_mod)\n",
    "    \n",
    "    if (dens_fit == True) * (pot_fit == False):\n",
    "        return densi\n",
    "    elif (dens_fit == False) * (pot_fit == True):\n",
    "        return pot_mod\n",
    "    else:\n",
    "        print('Check that fitting algorithm can handle to return density and potential.')\n",
    "        return densi, pot_mod"
   ]
  },
  {
   "cell_type": "code",
   "execution_count": 29,
   "metadata": {},
   "outputs": [
    {
     "data": {
      "text/plain": [
       "'\\nrho, rho_arr_real, rho_arr_mean, Rbins, zbins, volbins = dens(s)\\nydata = np.ravel(rho)\\nxdata = np.zeros(len(Rbins), len(zbins))\\nfor ii, Rii in enumerate(Rbins):\\n    for jj, zjj in enumerate(zbins):\\n        xdata[ii,jj] = np.sqrt(Rii ** 2 + zjj **2)\\n            \\npopt, pcov = opt.curve_fit(galpy_fitting, np.ravel(xdata), ydata, sigma = np.ravel(volbins), absolute_sigma = True)\\n'"
      ]
     },
     "execution_count": 29,
     "metadata": {},
     "output_type": "execute_result"
    }
   ],
   "source": [
    "# FITTING\n",
    "\n",
    "# scipy.optimize.minimize(fun, x0, args=(), method=None, jac=None, hess=None, hessp=None, \n",
    "# bounds=None, constraints=(), tol=None, callback=None, options=None)[source]\n",
    "\n",
    "#fun = sqrt(for each i in (true_i - model_i)**2) called RMS\n",
    "#opt.minimize(fun, x0 = 0) \n",
    "\n",
    "#def galpy_fitting(a_mp, b_mp, n_mp, a_nfw, n_nfw, a_he, n_he, hr_de, hz_de,\\\n",
    "#                  r = None, R = None, z = None, r0 = 8., v0 = 220., dens_fit = True, pot_fit = False):    \n",
    "\n",
    "\n",
    "def RMS(x, r, R, z, N, rho, r0, v0):\n",
    "    a_mp, b_mp, n_mp, a_nfw, n_nfw, a_he, n_he = x[0], x[1], x[2], x[3], x[4], x[5], x[6]\n",
    "    ydata = rho\n",
    "    ymodel = galpy_fitting(a_mp, b_mp, n_mp, a_nfw, n_nfw, a_he, n_he, r, R, z, r0, v0)\n",
    "    RMS = np.sqrt(1./N*np.abs(np.sum(ydata - ymodel)))\n",
    "    return RMS\n",
    "\n",
    "\n",
    "a_mp = 0.5 \n",
    "b_mp = 0.0375 \n",
    "n_mp = 0.25  \n",
    "a_nfw = 4.5 \n",
    "n_nfw = 0.25 \n",
    "a_he = 0.6 / 8. \n",
    "n_he = 0.25 \n",
    "hr_de = 0.3 \n",
    "hz_de = 0.0625\n",
    "\n",
    "x0 = (a_mp, b_mp, n_mp,  a_nfw , n_nfw , a_he, n_he)\n",
    "\n",
    "bounds = ((0., None), (0., None), (0., None), (0., None), (0., None), (0., None), (0., None))\n",
    "r, R, z, rho = R, Rbin, z, rho\n",
    "#rho, R, z, vol = fitting_dens(s)\n",
    "\n",
    "r0, v0 = 8., 220.\n",
    "N = len(r)\n",
    "x = opt.minimize(RMS, x0 = x0, args= (r, R, z, N, rho, r0, v0), bounds = bounds)\n",
    "\n",
    "### CURVE_FIT might give problems since there are some bool args that do not need a fit. \n",
    "### Also having R and z as input values instead of just r might cause problems. \n",
    "### Think of that or first try minimize with RMS method\n",
    "\n",
    "# scipy.optimize.curve_fit(f, xdata, ydata, p0=None, sigma=None, absolute_sigma=False, \n",
    "# check_finite=True, bounds=(-inf, inf), method=None, jac=None, **kwargs)[source]\n",
    "\n",
    "#xdata = s.r()\n",
    "# check in which direction ravel goes over the arrays to calculate xdata in the irght way\n",
    "'''\n",
    "rho, rho_arr_real, rho_arr_mean, Rbins, zbins, volbins = dens(s)\n",
    "ydata = np.ravel(rho)\n",
    "xdata = np.zeros(len(Rbins), len(zbins))\n",
    "for ii, Rii in enumerate(Rbins):\n",
    "    for jj, zjj in enumerate(zbins):\n",
    "        xdata[ii,jj] = np.sqrt(Rii ** 2 + zjj **2)\n",
    "            \n",
    "popt, pcov = opt.curve_fit(galpy_fitting, np.ravel(xdata), ydata, sigma = np.ravel(volbins), absolute_sigma = True)\n",
    "'''"
   ]
  },
  {
   "cell_type": "code",
   "execution_count": 30,
   "metadata": {},
   "outputs": [
    {
     "data": {
      "text/plain": [
       "      fun: 0.00020149495050720274\n",
       " hess_inv: <7x7 LbfgsInvHessProduct with dtype=float64>\n",
       "      jac: array([   9.28184972,   32.94612611,  -40.8248978 ,    0.99761503,\n",
       "       -266.54995732,   51.0675611 , -615.55257549])\n",
       "  message: b'CONVERGENCE: REL_REDUCTION_OF_F_<=_FACTR*EPSMCH'\n",
       "     nfev: 416\n",
       "      nit: 6\n",
       "   status: 0\n",
       "  success: True\n",
       "        x: array([ 0.52801226,  0.22150982,  0.19957623,  4.500342  ,  0.18998707,\n",
       "        1.09749376,  0.10448814])"
      ]
     },
     "execution_count": 30,
     "metadata": {},
     "output_type": "execute_result"
    }
   ],
   "source": [
    "x"
   ]
  },
  {
   "cell_type": "code",
   "execution_count": 31,
   "metadata": {
    "collapsed": true
   },
   "outputs": [],
   "source": [
    "a_mp, b_mp, n_mp = x.x[0], x.x[1], x.x[2]\n",
    "a_nfw , n_nfw = x.x[3]  , x.x[4]\n",
    "a_he, n_he = x.x[5],  x.x[6]"
   ]
  },
  {
   "cell_type": "code",
   "execution_count": 32,
   "metadata": {
    "collapsed": true
   },
   "outputs": [],
   "source": [
    "mp = MNpot(a = a_mp, b = b_mp, normalize = n_mp, ro = r0, vo = v0)\n",
    "nfwp = NFWpot(a = a_nfw, normalize = n_nfw, ro = r0, vo = v0)\n",
    "hep = HEpot(a = a_he, normalize = n_he, ro = r0, vo = v0)\n",
    "    \n",
    "pot = [mp,nfwp,hep]\n"
   ]
  },
  {
   "cell_type": "code",
   "execution_count": 33,
   "metadata": {
    "collapsed": true
   },
   "outputs": [],
   "source": [
    "dens_final = galpy_fitting(a_mp, b_mp, n_mp, a_nfw , n_nfw, a_he, n_he, R= R, z= z)"
   ]
  },
  {
   "cell_type": "code",
   "execution_count": 34,
   "metadata": {},
   "outputs": [
    {
     "name": "stdout",
     "output_type": "stream",
     "text": [
      "/home/extmilan/anaconda3/lib/python3.6/site-packages/galpy-1.3.dev0-py3.6-linux-x86_64.egg/galpy/potential_src/TwoPowerSphericalPotential.py:186: RuntimeWarning: divide by zero encountered in double_scalars\n",
      "  return (self.a/r)**self.alpha/(1.+r/self.a)**(self.beta-self.alpha)/4./m.pi/self.a**3.\n",
      "\n",
      "/home/extmilan/anaconda3/lib/python3.6/site-packages/numpy/core/function_base.py:128: RuntimeWarning: invalid value encountered in multiply\n",
      "  y = y * step\n",
      "\n",
      "/home/extmilan/anaconda3/lib/python3.6/site-packages/matplotlib/contour.py:1176: RuntimeWarning: invalid value encountered in greater\n",
      "  inside = (self.levels > self.zmin) & (self.levels < self.zmax)\n",
      "\n",
      "/home/extmilan/anaconda3/lib/python3.6/site-packages/matplotlib/contour.py:1176: RuntimeWarning: invalid value encountered in less\n",
      "  inside = (self.levels > self.zmin) & (self.levels < self.zmax)\n",
      "\n",
      "/home/extmilan/anaconda3/lib/python3.6/site-packages/matplotlib/contour.py:1180: UserWarning: No contour levels were found within the data range.\n",
      "  warnings.warn(\"No contour levels were found\"\n",
      "\n",
      "/home/extmilan/anaconda3/lib/python3.6/site-packages/matplotlib/contour.py:967: UserWarning: The following kwargs were not used by contour: 'aspect'\n",
      "  s)\n",
      "\n"
     ]
    },
    {
     "data": {
      "text/plain": [
       "<matplotlib.image.AxesImage at 0x2aae9b224198>"
      ]
     },
     "execution_count": 34,
     "metadata": {},
     "output_type": "execute_result"
    },
    {
     "data": {
      "image/png": "[encoded data removed]",
      "text/plain": [
       "<matplotlib.figure.Figure at 0x2aae9adf7438>"
      ]
     },
     "metadata": {},
     "output_type": "display_data"
    }
   ],
   "source": [
    "plotDensities(pot,nrs=101,nzs=101, log = True)"
   ]
  },
  {
   "cell_type": "code",
   "execution_count": 26,
   "metadata": {},
   "outputs": [
    {
     "data": {
      "text/plain": [
       "(25, 49)"
      ]
     },
     "execution_count": 26,
     "metadata": {},
     "output_type": "execute_result"
    }
   ],
   "source": [
    "rho.shape"
   ]
  },
  {
   "cell_type": "code",
   "execution_count": null,
   "metadata": {
    "collapsed": true
   },
   "outputs": [],
   "source": []
  },
  {
   "cell_type": "code",
   "execution_count": 23,
   "metadata": {},
   "outputs": [
    {
     "name": "stdout",
     "output_type": "stream",
     "text": [
      "/home/extmilan/anaconda3/lib/python3.6/site-packages/ipykernel_launcher.py:22: DeprecationWarning: PyArray_FromDims: use PyArray_SimpleNew.\n",
      "\n",
      "/home/extmilan/anaconda3/lib/python3.6/site-packages/ipykernel_launcher.py:22: DeprecationWarning: PyArray_FromDimsAndDataAndDescr: use PyArray_NewFromDescr.\n",
      "\n"
     ]
    }
   ],
   "source": [
    "# find circular velocity in outskirts\n",
    "# from The GigaGalaxy Project (analysis tool) / galaxy / plot_rotcurve_multi.py\n",
    "s.center = sf.data['fpos'][subhalo,:]\n",
    "\n",
    "pos = s.data['pos'].astype('float64')\n",
    "mass = s.data['mass'].astype('float64')\n",
    "\n",
    "nshells = 100\n",
    "radius = 0.04\n",
    "dr = radius / nshells\n",
    "\n",
    "na = s.nparticlesall\n",
    "end = na.copy()\n",
    "end[1:] += end[:-1]\n",
    "start = np.zeros(len(na), dtype='int32')\n",
    "start[1:] = end[:-1]\n",
    "\n",
    "shmass = np.zeros( (nshells, 6) )\n",
    "shvel = np.zeros( (nshells, 6) )\n",
    "vtot = np.zeros(nshells)\n",
    "for i in range( 6 ):\n",
    "    rp = calcGrid.calcRadialProfile( s.pos[start[i]:end[i],:].astype('float64'), s.data['mass'][start[i]:end[i]].astype('float64'), 0, nshells, dr, s.center[0], s.center[1], s.center[2] )\n",
    "\n",
    "    radius = rp[1,:]\n",
    "    shmass[:,i] = rp[0,:]\n",
    "    for j in range( 1, nshells ):\n",
    "        shmass[j,i] += shmass[j-1,i]\n",
    "    shvel[:,i] = np.sqrt( 43.0071 * shmass[:,i] / (radius) )\n",
    "    vtot[:] += (shvel[:,i]**2)\n",
    "\n"
   ]
  },
  {
   "cell_type": "code",
   "execution_count": 24,
   "metadata": {},
   "outputs": [
    {
     "name": "stdout",
     "output_type": "stream",
     "text": [
      "[ 0.  0.  0.  0.  0.  0.  0.  0.  0.  0.  0.  0.  0.  0.  0.  0.  0.  0.\n",
      "  0.  0.  0.  0.  0.  0.  0.  0.  0.  0.  0.  0.  0.  0.  0.  0.  0.  0.\n",
      "  0.  0.  0.  0.  0.  0.  0.  0.  0.  0.  0.  0.  0.  0.  0.  0.  0.  0.\n",
      "  0.  0.  0.  0.  0.  0.  0.  0.  0.  0.  0.  0.  0.  0.  0.  0.  0.  0.\n",
      "  0.  0.  0.  0.  0.  0.  0.  0.  0.  0.  0.  0.  0.  0.  0.  0.  0.  0.\n",
      "  0.  0.  0.  0.  0.  0.  0.  0.  0.  0.]\n"
     ]
    }
   ],
   "source": [
    "print(vtot)"
   ]
  },
  {
   "cell_type": "code",
   "execution_count": 25,
   "metadata": {},
   "outputs": [
    {
     "name": "stdout",
     "output_type": "stream",
     "text": [
      "[[ 0.      0.      0.      0.      0.      0.      0.      0.      0.      0.\n",
      "   0.      0.      0.      0.      0.      0.      0.      0.      0.      0.\n",
      "   0.      0.      0.      0.      0.      0.      0.      0.      0.      0.\n",
      "   0.      0.      0.      0.      0.      0.      0.      0.      0.      0.\n",
      "   0.      0.      0.      0.      0.      0.      0.      0.      0.      0.\n",
      "   0.      0.      0.      0.      0.      0.      0.      0.      0.      0.\n",
      "   0.      0.      0.      0.      0.      0.      0.      0.      0.      0.\n",
      "   0.      0.      0.      0.      0.      0.      0.      0.      0.      0.\n",
      "   0.      0.      0.      0.      0.      0.      0.      0.      0.      0.\n",
      "   0.      0.      0.      0.      0.      0.      0.      0.      0.      0.    ]\n",
      " [ 0.0002  0.0006  0.001   0.0014  0.0018  0.0022  0.0026  0.003   0.0034\n",
      "   0.0038  0.0042  0.0046  0.005   0.0054  0.0058  0.0062  0.0066  0.007\n",
      "   0.0074  0.0078  0.0082  0.0086  0.009   0.0094  0.0098  0.0102  0.0106\n",
      "   0.011   0.0114  0.0118  0.0122  0.0126  0.013   0.0134  0.0138  0.0142\n",
      "   0.0146  0.015   0.0154  0.0158  0.0162  0.0166  0.017   0.0174  0.0178\n",
      "   0.0182  0.0186  0.019   0.0194  0.0198  0.0202  0.0206  0.021   0.0214\n",
      "   0.0218  0.0222  0.0226  0.023   0.0234  0.0238  0.0242  0.0246  0.025\n",
      "   0.0254  0.0258  0.0262  0.0266  0.027   0.0274  0.0278  0.0282  0.0286\n",
      "   0.029   0.0294  0.0298  0.0302  0.0306  0.031   0.0314  0.0318  0.0322\n",
      "   0.0326  0.033   0.0334  0.0338  0.0342  0.0346  0.035   0.0354  0.0358\n",
      "   0.0362  0.0366  0.037   0.0374  0.0378  0.0382  0.0386  0.039   0.0394\n",
      "   0.0398]]\n"
     ]
    }
   ],
   "source": [
    "print(rp)"
   ]
  },
  {
   "cell_type": "code",
   "execution_count": null,
   "metadata": {
    "collapsed": true
   },
   "outputs": [],
   "source": []
  }
 ],
 "metadata": {
  "kernelspec": {
   "display_name": "Python 3",
   "language": "python",
   "name": "python3"
  },
  "language_info": {
   "codemirror_mode": {
    "name": "ipython",
    "version": 3
   },
   "file_extension": ".py",
   "mimetype": "text/x-python",
   "name": "python",
   "nbconvert_exporter": "python",
   "pygments_lexer": "ipython3",
   "version": "3.6.3"
  }
 },
 "nbformat": 4,
 "nbformat_minor": 2
}
